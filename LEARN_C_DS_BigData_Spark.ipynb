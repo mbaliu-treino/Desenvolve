{
  "nbformat": 4,
  "nbformat_minor": 0,
  "metadata": {
    "colab": {
      "provenance": [],
      "toc_visible": true,
      "authorship_tag": "ABX9TyOf6h666oYF41dScSqPq3yi",
      "include_colab_link": true
    },
    "kernelspec": {
      "name": "python3",
      "display_name": "Python 3"
    },
    "language_info": {
      "name": "python"
    }
  },
  "cells": [
    {
      "cell_type": "markdown",
      "metadata": {
        "id": "view-in-github",
        "colab_type": "text"
      },
      "source": [
        "<a href=\"https://colab.research.google.com/github/mbaliu-treino/Desenvolve/blob/main/LEARN_C_DS_BigData_Spark.ipynb\" target=\"_parent\"><img src=\"https://colab.research.google.com/assets/colab-badge.svg\" alt=\"Open In Colab\"/></a>"
      ]
    },
    {
      "cell_type": "markdown",
      "source": [
        "* Focar no raciocínio analítico, quais informações e análises se deseja.\n",
        "\n",
        "Em ciência de dados sempre se começa com um objetivo. Isso é norte nas análises.\n",
        "\n",
        "Na área, todo investimento em conhecimento de forma inteligente será facilmente revertido no meu salário. Pode ser cansativo e árduo no início, mas depois é gratificante.\n",
        "\n",
        "- O foco do cientista de dados é **resolver problemas de negócios**. Como seniors, ninguém pergunta sobre as ferramentas, somente quais problemas foram resolvidos? Quais os resultados?\n",
        "- Inteligência de negócio para cientista de dados - RESOLVER PROBLEMAS\n",
        "\n",
        "- É comum que os gráficos sejam feitos em Excel ou PowerBI para terem melhor apresentação.\n",
        "- A análise de dados costuma ser feita em 1 ou 2 semanas, e após a aprovação do gestor, em 1 ou 2 dois é feito a apresentação para a área de negócios.\n",
        "\n",
        "* Engenheiro de Dados: automatização de processos\n",
        "* Cientista e Analista: interpretar os negócios\n",
        "\n",
        "- Mostrar no LinkedIn que já sabe resolver problemas e não só focado em programação. Que já tem o **pensamento analítico**, de buscar os dados e obter informações"
      ],
      "metadata": {
        "id": "c_LN1QRwvDJd"
      }
    },
    {
      "cell_type": "markdown",
      "source": [
        "# <font color=orange><b>BIG DATA</b></font>\n",
        "\n",
        "<font color=orange><b></b></font>\n",
        "\n",
        "O cientista de dados é aquele que está focada em resolver problemas, não importa as ferramenta. Ele quer extrair informações dos dados para auxiliar a tomada de decisões.\n",
        "\n",
        "As ferramentas possuem limitações:\n",
        "\n",
        "**EXCEL < POWER BI < PYTHON-PANDAS < SPARK**\n",
        "\n",
        "- Pandas: até 1 milhão (20 mil linhas), depois disso o Pandas começa a perder performance.\n",
        "\n",
        "## <font color=orange>O UNIVERSO HOJE</font>\n",
        "\n",
        "Atualmente a quantidade de dados hoje produzidos e armazenados é imenso, em um crescimento exponencial. Então hoje temos o problemas de ter **muitos dados**. \n",
        "\n",
        "DEFINIÇÃO: 3 V's\n",
        "\n",
        "- **VOLUME**: sensores, transações - \n",
        "- **VELOCIDADE**: velocidade na produção, no armazenamento e no processamento (Streams, Periodic, Real time, Batch).\n",
        "- **VARIEDADE**: RDBMS, imagens, vídeos, sons, xml (e não mais como antigamente que eram arquivos XSL).\n",
        "\n",
        "Resumindo são dados que já não são mais comportáveis nas ferramentas tradicionais."
      ],
      "metadata": {
        "id": "IEZmHVV3iDh4"
      }
    },
    {
      "cell_type": "markdown",
      "source": [
        "## <font color=orange>PROBLEMA</font>\n",
        "\n",
        "Quando se tem muitos dados, o problema se torna como:\n",
        "\n",
        "* Coletar\n",
        "* Armazenar\n",
        "* Processar\n",
        "* Analisar \n",
        "\n",
        "Quando não se dá conta começa a ter muita perda de esforço e desempenho."
      ],
      "metadata": {
        "id": "C9A3ZLKClATy"
      }
    },
    {
      "cell_type": "markdown",
      "source": [
        "> Quando se tem muitos dados é preciso pensar em soluções que melhorem as performances, como por exemplo, o uso de **estatística inferencial** para amostras. Quando o estudo com amostras apresentar um resultado validado, ai pode-se expandir o uso da quantidade de dados.\n",
        "\n",
        "> Outra solução é a divisão das tarefas em fragmentos. Em um processo de **divisão** - **conquista** - **combinação**. Na computação é chamado de processamento distribuído e paralela. Isso é a divisão do processamento e dos dados em máquina diversas."
      ],
      "metadata": {
        "id": "JLh-uHrCllTA"
      }
    },
    {
      "cell_type": "markdown",
      "source": [
        "* Reduce and Map (Hadoop): \n",
        "    * SPLITTING: Divisão da entrada\n",
        "    * MAPPING: Processamento individualizado (máquinas separadas)\n",
        "    * SHUFFLING: Juntar os dados\n",
        "    * REDUCER: Síntese das partes\n",
        "    * SAÍDA: Síntese do todo"
      ],
      "metadata": {
        "id": "XkKq9PcentdI"
      }
    },
    {
      "cell_type": "markdown",
      "source": [
        "# <font color=orange>AMBIENTES PARTICIONADOS</font>\n",
        "\n",
        "## <font color=orange>HADOOP</font>\n",
        "\n",
        "Foi o primeiro a armazenar grande quantidade de dados em ambiente particionado.\n",
        "\n",
        "## <font color=orange>APACHE SPARK</font>\n",
        "\n",
        "É um ecossistema que permite o processamento de Big Data. É uma engrenagem/ambiente/engine multi-linguagem para diversas tarefas de big data em ambiente *cluster* (múltiplos computadores) ou *single-node* (núcleos).\n",
        "\n",
        "Nas empresas hoje, o Spark é o mais utilizado.\n",
        "\n",
        "* **Spark SQL**: tratamentos de dados\n",
        "* **Streaming**: acesso aos dados web (função do engenheiro de dados, em buscar dados e configuração de máquinas)\n",
        "* **MLib**: Machine Learning.\n",
        "* **GraphX**: Gráficos\n",
        "* **Spark Core API**: diversas lingiaguens (R, Python, Java, Scala etc)\n",
        "\n",
        "## <font color=orange>DASK</font>\n",
        "\n",
        "* Comparação com o [Spark](https://docs.dask.org/en/stable/spark.html).\n",
        "\n",
        "Ambos possuem uma grande intersecção nos seus objetivos. A solução do Dask é através da arquitura do próprio Python, expandindo as funcionalidades do Numpy e Pandas.\n",
        "\n",
        "> Para manuseamento de dados tabulares, CSV e JSON, <= 100Gb, deverá ser usado o Postgres ou o MongoDB.\n",
        "\n",
        "\n",
        "## <font color=orange>OUTROS FRAMEWORKS</font>\n",
        "\n",
        "* Databricks: plataforma baseada na web para trabalhar com o Spark.\n",
        "* Pentaho: é um recurso de código baerto para tarefas de ETL, reporting, OLAP e mineração de dados.\n",
        "* Metadata\n"
      ],
      "metadata": {
        "id": "AzC4SfrEod-S"
      }
    },
    {
      "cell_type": "markdown",
      "source": [
        "* Cluster ou Standalone\n",
        "* On Primese (servidor na própria empresa e normalmente empresas mais antigas) / Cloud\n"
      ],
      "metadata": {
        "id": "gJGHYV1srAiv"
      }
    },
    {
      "cell_type": "markdown",
      "source": [
        "## <font color=orange><b>Funcionamento</b></font>\n",
        "\n",
        "* Separação dos fragmentos de dados precisam ser representativos. O Spark faz essa divisão de forma automatizada."
      ],
      "metadata": {
        "id": "Z5MGGQDhrV31"
      }
    },
    {
      "cell_type": "markdown",
      "source": [
        "* SPARK: The definitive guide (Orellys)"
      ],
      "metadata": {
        "id": "4WEmQQIurYho"
      }
    },
    {
      "cell_type": "markdown",
      "source": [
        "# <font color=orange><b>AULA 1 - Preparando o Ambiente</b></font>\n",
        "\n",
        "*   Colab: para empresas mais recentes, como Startups\n",
        "*   Jupyter: para empresas mais consolidadas\n",
        "*   VS Code: para engenheiros de dados ou de machine learning\n",
        "\n",
        "É comum em empresas só importar os datasets e já começar a trabalhar, sem quer que obter os dados e ajustar o ambiente.\n",
        "\n"
      ],
      "metadata": {
        "id": "B0qwkApch9MU"
      }
    },
    {
      "cell_type": "markdown",
      "source": [
        "<font color=orange>ROTEIRO DO AMBIENTE</font>\n",
        "\n",
        "1. Dependência do Spark: Java\n",
        "2. Obtenção do Apache Spark\n",
        "3. Ambiente de PATH\n",
        "4. Biblioteca `findspark`, instalação e importação\n",
        "5. Inicialização do Spark"
      ],
      "metadata": {
        "id": "yD2apfY2vqlY"
      }
    },
    {
      "cell_type": "markdown",
      "source": [
        "## <font color=orange>1 - Requisito: JAVA</font>\n",
        "\n",
        "O Apache Spark depende de outros sistemas, portanto, antes do Spark é preciso instalar as dependências. Primeiro, deve-se instalar o <font color=orange>java</font>."
      ],
      "metadata": {
        "id": "IX_whX7tudF1"
      }
    },
    {
      "cell_type": "code",
      "execution_count": null,
      "metadata": {
        "id": "CzlKrPTjtG1x"
      },
      "outputs": [],
      "source": [
        "!apt-get install openjdk-8-jdk-headless -qq > /dev/null"
      ]
    },
    {
      "cell_type": "markdown",
      "source": [
        "## **2 - Instalando o Apache Spark**"
      ],
      "metadata": {
        "id": "heLb6F_4v2N6"
      }
    },
    {
      "cell_type": "markdown",
      "source": [
        "Em seguida, é preciso fazer o download do <font color=orange>Spark</font>, e, também, do <font color=orange>hadoop</font>, pois o Apache Spark roda sob o <font color=orange>HDFS</font>, em sua máquina (no caso aqui, na máquina virtual do Google Colab que você está usando."
      ],
      "metadata": {
        "id": "vm1tKyRcu4k_"
      }
    },
    {
      "cell_type": "code",
      "source": [
        "# Fazendo download\n",
        "!wget -q https://archive.apache.org/dist/spark/spark-3.1.2/spark-3.1.2-bin-hadoop2.7.tgz\n",
        "\n",
        "# Descompactando os arquivos\n",
        "!tar xf spark-3.1.2-bin-hadoop2.7.tgz"
      ],
      "metadata": {
        "id": "V_vW2VKRvNee"
      },
      "execution_count": null,
      "outputs": []
    },
    {
      "cell_type": "markdown",
      "source": [
        "## **3 - Configurando o ambiente local**"
      ],
      "metadata": {
        "id": "1yxBIkGbwD6I"
      }
    },
    {
      "cell_type": "markdown",
      "source": [
        "Para o sistema encontrar o Java e o Spark que foram instalados temos que inserir o caminho dos seus executáveis ao <font color=orange>PATH</font> na máquina local."
      ],
      "metadata": {
        "id": "tlAVX6VZwwTl"
      }
    },
    {
      "cell_type": "code",
      "source": [
        "# Importando a biblioteca os\n",
        "import os\n",
        "\n",
        "# Definindo a variável de ambiente do Java\n",
        "os.environ[\"JAVA_HOME\"] = \"/usr/lib/jvm/java-8-openjdk-amd64\"\n",
        "\n",
        "# Definindo a variável de ambiente do Spark\n",
        "os.environ[\"SPARK_HOME\"] = \"/content/spark-3.1.2-bin-hadoop2.7\""
      ],
      "metadata": {
        "id": "wXbSqJX-xtbc"
      },
      "execution_count": null,
      "outputs": []
    },
    {
      "cell_type": "markdown",
      "source": [
        "## **4 - Biblioteca Python - base**\n",
        "\n",
        "A seguir, vamos precisar da biblioteca `findspark` que vai nos permitir importar pacotes necessários para o funcionamento do pyspark\n",
        "\n"
      ],
      "metadata": {
        "id": "C5mzwT-kyCS_"
      }
    },
    {
      "cell_type": "code",
      "source": [
        "# instalando a findspark\n",
        "!pip install -q findspark"
      ],
      "metadata": {
        "id": "0GuIDF0kvZ4d"
      },
      "execution_count": null,
      "outputs": []
    },
    {
      "cell_type": "code",
      "source": [
        "#importando a findspark\n",
        "import findspark\n",
        "\n",
        "# iniciando o findspark\n",
        "findspark.init()"
      ],
      "metadata": {
        "id": "t6D_kgUSyBzx"
      },
      "execution_count": null,
      "outputs": []
    },
    {
      "cell_type": "markdown",
      "source": [
        "# <font color=orange><b>AULA 2 - Operando Dados</b></font>\n",
        "\n",
        "Esta etapa é excessial para extrair as primeira informações dos dados, que nos ajudarão a tomar decisões melhores, para montar estratégias de negócios.\n",
        "\n",
        "A etapa de preparação dos dados, limpeza dos dados representa 38% do tempo dedicado por um cientista de dados. 10% para visualização e 27% para a modelagem, treinamento e deploy. 16% para apresentação dos resultados.\n"
      ],
      "metadata": {
        "id": "z1PbhRH92aei"
      }
    },
    {
      "cell_type": "markdown",
      "source": [
        "## Quais perguntas poderiam ser feitas e respondidas com análise de dados\n",
        "\n",
        "- Qual é o mín e máx?\n",
        "- Qual é a região mais cara?\n",
        "- Quais são seus quartis?\n",
        "- Quais cidades possuem preço de gás maior do que um determinado valor?"
      ],
      "metadata": {
        "id": "rDDnqE6L4a4d"
      }
    },
    {
      "cell_type": "markdown",
      "source": [
        "## A - OBTENÇÃO DE DADOS"
      ],
      "metadata": {
        "id": "SLI_n06wWr5l"
      }
    },
    {
      "cell_type": "markdown",
      "source": [
        "<font color=orange>ROTEIRO DE OBTENÇÃO DE DADOS</font>\n",
        "\n",
        "1. Importar o ambiente-session do PySpark.SQL\n",
        "2. Carga de dados\n",
        "3. Analisar as variáveis (as informações de cada tabela)\n",
        "    * Estrutura das tabelas\n",
        "        - Formato\n",
        "        - Tipos de dados"
      ],
      "metadata": {
        "id": "Ym5O4mecwQQm"
      }
    },
    {
      "cell_type": "markdown",
      "source": [
        "### **1 - Iniciando o PySpark com PySpark**"
      ],
      "metadata": {
        "id": "XbWfQUrQDafl"
      }
    },
    {
      "cell_type": "markdown",
      "source": [
        "Vamos abrir um sessão Spark para poder trabalhar com este FrameWork."
      ],
      "metadata": {
        "id": "_78SZCzX06ZA"
      }
    },
    {
      "cell_type": "code",
      "source": [
        "# importando o pacote necessário\n",
        "from pyspark.sql import SparkSession\n",
        "\n",
        "# iniciando o spark context\n",
        "sc = SparkSession.builder.master('local[*]').getOrCreate()\n",
        "\n",
        "# Verificando se a sessão foi criada\n",
        "sc"
      ],
      "metadata": {
        "id": "qEDpAYxS1Lkt",
        "colab": {
          "base_uri": "https://localhost:8080/",
          "height": 219
        },
        "outputId": "e31e5476-944a-48a7-dc7b-54c2d957f759"
      },
      "execution_count": null,
      "outputs": [
        {
          "output_type": "execute_result",
          "data": {
            "text/plain": [
              "<pyspark.sql.session.SparkSession at 0x7efcc8e8b410>"
            ],
            "text/html": [
              "\n",
              "            <div>\n",
              "                <p><b>SparkSession - in-memory</b></p>\n",
              "                \n",
              "        <div>\n",
              "            <p><b>SparkContext</b></p>\n",
              "\n",
              "            <p><a href=\"http://f055495207f9:4040\">Spark UI</a></p>\n",
              "\n",
              "            <dl>\n",
              "              <dt>Version</dt>\n",
              "                <dd><code>v3.1.2</code></dd>\n",
              "              <dt>Master</dt>\n",
              "                <dd><code>local[*]</code></dd>\n",
              "              <dt>AppName</dt>\n",
              "                <dd><code>pyspark-shell</code></dd>\n",
              "            </dl>\n",
              "        </div>\n",
              "        \n",
              "            </div>\n",
              "        "
            ]
          },
          "metadata": {},
          "execution_count": 6
        }
      ]
    },
    {
      "cell_type": "markdown",
      "source": [
        "### **2 - Carga de dados para o Spark**\n",
        "\n",
        "Ingestão dos dados para o Apache Spark"
      ],
      "metadata": {
        "id": "QP3wWkXU343g"
      }
    },
    {
      "cell_type": "code",
      "source": [
        "# download de um conjunto de dados aberto\n",
        "# fonte: https://dados.gov.br/dataset/serie-historica-de-precos-de-combustiveis-por-revenda\n",
        "!wget --verbose --show-progress --no-check-certificate https://www.gov.br/anp/pt-br/centrais-de-conteudo/dados-abertos/arquivos/shpc/dsan/2021/dados-abertos-precos-2021-12-glp.csv"
      ],
      "metadata": {
        "colab": {
          "base_uri": "https://localhost:8080/"
        },
        "id": "6Hr7siMc9onI",
        "outputId": "dc0eb9a7-e77b-40fb-8f48-91a6b10fa6f5"
      },
      "execution_count": null,
      "outputs": [
        {
          "output_type": "stream",
          "name": "stdout",
          "text": [
            "--2022-09-29 19:41:01--  https://www.gov.br/anp/pt-br/centrais-de-conteudo/dados-abertos/arquivos/shpc/dsan/2021/dados-abertos-precos-2021-12-glp.csv\n",
            "Resolving www.gov.br (www.gov.br)... 161.148.164.31\n",
            "Connecting to www.gov.br (www.gov.br)|161.148.164.31|:443... connected.\n",
            "HTTP request sent, awaiting response... 200 OK\n",
            "Length: 2623526 (2.5M) [text/csv]\n",
            "Saving to: ‘dados-abertos-precos-2021-12-glp.csv’\n",
            "\n",
            "dados-abertos-preco 100%[===================>]   2.50M   368KB/s    in 11s     \n",
            "\n",
            "2022-09-29 19:41:13 (234 KB/s) - ‘dados-abertos-precos-2021-12-glp.csv’ saved [2623526/2623526]\n",
            "\n"
          ]
        }
      ]
    },
    {
      "cell_type": "code",
      "source": [
        " # carregando um conjunto de dados que baixamos da internet\n",
        "precogas = sc.read.csv(\"/content/dados-abertos-precos-2021-12-glp.csv\", \n",
        "                       inferSchema=True, header=True,\n",
        "                       sep = ';', \n",
        "                       encoding = \"UTF-8\")"
      ],
      "metadata": {
        "id": "OSY8AiTW9rMI"
      },
      "execution_count": null,
      "outputs": []
    },
    {
      "cell_type": "code",
      "source": [
        "# Verificando o tipo de objeto criado\n",
        "type(precogas)"
      ],
      "metadata": {
        "colab": {
          "base_uri": "https://localhost:8080/"
        },
        "id": "ns_3ib5Jon-W",
        "outputId": "e22c0128-b631-4efa-be96-ff4512f004f7"
      },
      "execution_count": null,
      "outputs": [
        {
          "output_type": "execute_result",
          "data": {
            "text/plain": [
              "pyspark.sql.dataframe.DataFrame"
            ]
          },
          "metadata": {},
          "execution_count": 9
        }
      ]
    },
    {
      "cell_type": "markdown",
      "source": [
        "### **3 - Analise das variáveis**"
      ],
      "metadata": {
        "id": "NVd6OS7a4D1N"
      }
    },
    {
      "cell_type": "markdown",
      "source": [
        "#### 3.1 - Visualização da tabela\n",
        "\n",
        "* Tabela texto convencional\n",
        "* Tabela texto verticalizada\n",
        "* DataFrame do Pandas"
      ],
      "metadata": {
        "id": "xSkMKOi9mdx2"
      }
    },
    {
      "cell_type": "code",
      "source": [
        "df = sqlContext.createDataFrame(\n",
        "    [\n",
        "        (1, \"Mark\", \"Brown\"), \n",
        "        (2, \"Tom\", \"Anderson\"), \n",
        "        (3, \"Joshua\", \"Peterson\")\n",
        "    ], \n",
        "    ('id', 'firstName', 'lastName')\n",
        ")"
      ],
      "metadata": {
        "id": "iCg-7r42mf-N"
      },
      "execution_count": null,
      "outputs": []
    },
    {
      "cell_type": "code",
      "source": [
        "# a. Mais comum: um texto como uma tabela convencional\n",
        "df.show()"
      ],
      "metadata": {
        "id": "xsKMofO5mjZb"
      },
      "execution_count": null,
      "outputs": []
    },
    {
      "cell_type": "code",
      "source": [
        "# b. Para muitas colunas: torna as colunas verticais\n",
        "df.show(n=2, truncate=False, vertical=True)"
      ],
      "metadata": {
        "id": "bPKoYAqnmlwQ"
      },
      "execution_count": null,
      "outputs": []
    },
    {
      "cell_type": "code",
      "source": [
        "# c. Pandas engine: converte em um DataFrame do Pandas\n",
        "# Note that this is not recommended when you have to deal with fairly large dataframes, as Pandas needs to load all the data into memory.\n",
        "# https://medium.com/@giorgosmyrianthous/how-to-efficiently-convert-a-pyspark-dataframe-to-pandas-8bda2c3875c3\n",
        "spark.conf.set(\"spark.sql.execution.arrow.pyspark.enabled\", \"true\")  \n",
        "df_pd = df.toPandas()"
      ],
      "metadata": {
        "id": "F3Ccsw5zmuBf"
      },
      "execution_count": null,
      "outputs": []
    },
    {
      "cell_type": "markdown",
      "source": [
        "#### 3.2 - Conhecendo a estrutura do seu SparkDataFrame"
      ],
      "metadata": {
        "id": "5ZM6DWdwD5QM"
      }
    },
    {
      "cell_type": "code",
      "source": [
        "# Importações necessárias\n",
        "from pyspark import *\n",
        "from pyspark.sql import *"
      ],
      "metadata": {
        "id": "8nqeTRhIEBho"
      },
      "execution_count": null,
      "outputs": []
    },
    {
      "cell_type": "code",
      "source": [
        "# Espiando o dataset\n",
        "precogas.show(20)"
      ],
      "metadata": {
        "colab": {
          "base_uri": "https://localhost:8080/"
        },
        "id": "nCsAdoV8ir-w",
        "outputId": "25285d6f-237e-40a7-951e-b2c2a3850118"
      },
      "execution_count": null,
      "outputs": [
        {
          "output_type": "stream",
          "name": "stdout",
          "text": [
            "+--------------+--------------+------------+--------------------+-------------------+--------------------+----------+----------------+-----------------+---------+-------+--------------+--------------+---------------+-----------------+--------------------+\n",
            "|Regiao - Sigla|Estado - Sigla|   Municipio|             Revenda|    CNPJ da Revenda|         Nome da Rua|Numero Rua|     Complemento|           Bairro|      Cep|Produto|Data da Coleta|Valor de Venda|Valor de Compra|Unidade de Medida|            Bandeira|\n",
            "+--------------+--------------+------------+--------------------+-------------------+--------------------+----------+----------------+-----------------+---------+-------+--------------+--------------+---------------+-----------------+--------------------+\n",
            "|            SE|            SP| SAO VICENTE|CONSIGAZ DISTRIBU...| 01.597.589/0003-81| RUA MANOEL DE ABREU|       790|      QUADRA 108|   CIDADE NAUTICA|11355-400|    GLP|    01/12/2021|         97,99|           null|       R$ / 13 kg|            CONSIGAZ|\n",
            "|             N|            AC|  RIO BRANCO|AUTO POSTO AMAPA ...| 00.529.581/0001-53|    VIA CHICO MENDES|      3570|            null|            AREAL|69906-119|    GLP|    01/12/2021|           115|           null|       R$ / 13 kg|               FOGAS|\n",
            "|             N|            AC|  RIO BRANCO|AUTO POSTO ACAUAN...| 00.524.999/0001-78|       RODOVIA AC 40|      1800|            null|        VILA ACRE|69902-450|    GLP|    01/12/2021|           110|           null|       R$ / 13 kg|           AMAZONGÁS|\n",
            "|             N|            AC|  RIO BRANCO|AUTO POSTO CANIND...| 05.442.544/0001-27|       RODOVIA AC 40|      3206|           KM 07|        VILA ACRE|69902-450|    GLP|    01/12/2021|           115|           null|       R$ / 13 kg|           AMAZONGÁS|\n",
            "|             N|            AC|  RIO BRANCO|AUTO POSTO AEROPO...| 14.294.227/0001-00|      V CHICO MENDES|      2583|            null|           COMARA|69906-326|    GLP|    01/12/2021|           115|           null|       R$ / 13 kg|           AMAZONGÁS|\n",
            "|            CO|            DF|    BRASILIA|SOUSA & ALVES COM...| 07.111.605/0001-07| QNM 15 LOTE G AR...|       S/N|            null|        CEILANDIA|72215-150|    GLP|    01/12/2021|         99,99|           null|       R$ / 13 kg|SUPERGASBRAS ENERGIA|\n",
            "|            CO|            DF|    BRASILIA|MARLIM COMBUSTIVE...| 04.494.011/0001-26|          QNO 06 PLL|       S/N|            null|        CEILÂNDIA|72237-100|    GLP|    01/12/2021|         98,99|           null|       R$ / 13 kg|            LIQUIGÁS|\n",
            "|            CO|            DF|    BRASILIA|AUTO SHOPPING DER...| 37.063.328/0009-14| QI 19 LOTES 02 E 04|       S/N|SETOR INDUSTRIAL|       TAGUATINGA|72120-190|    GLP|    01/12/2021|         98,99|           null|       R$ / 13 kg|            ULTRAGAZ|\n",
            "|            CO|            DF|    BRASILIA|LR COMERCIO DE PR...| 24.912.669/0001-18|              QNO 15|       S/N|        LOTE PLL|        CEILANDIA|72255-600|    GLP|    01/12/2021|         99,99|           null|       R$ / 13 kg|              BRANCA|\n",
            "|            CO|            DF|    BRASILIA|CASCOL COMBUSTIVE...| 00.306.597/0015-00|QUADRA QR 516 CON...|         1|            null|    SAMAMBAIA SUL|70772-500|    GLP|    01/12/2021|         99,99|           null|       R$ / 13 kg|            ULTRAGAZ|\n",
            "|            CO|            DF|    BRASILIA|CASCOL COMBUSTIVE...| 00.306.597/0017-64|   QUADRA QNO 05 PLL|       S/N|            null|        CEILANDIA|72251-000|    GLP|    01/12/2021|         99,99|           null|       R$ / 13 kg|            LIQUIGÁS|\n",
            "|            CO|            DF|    BRASILIA|CASCOL COMBUSTIVE...| 00.306.597/0008-73|   SETOR CSD 06 LOTE|        36|     SETOR D SUL|       TAGUATINGA|72020-000|    GLP|    01/12/2021|         97,99|           null|       R$ / 13 kg|            ULTRAGAZ|\n",
            "|            CO|            MS|CAMPO GRANDE|POSTO DOS PODERES...| 24.624.785/0001-31|    AVENIDA DO POETA|       990|            null| DO DESBARRANCADO|79031-350|    GLP|    01/12/2021|           100|           null|       R$ / 13 kg|SUPERGASBRAS ENERGIA|\n",
            "|            CO|            MS|CAMPO GRANDE|RIBEIRO DE MENDON...| 16.045.015/0001-06| AVENIDA AFONSO PENA|      5264|            null|CHACARA CACHOEIRA|79040-010|    GLP|    01/12/2021|           116|           null|       R$ / 13 kg|             COPAGAZ|\n",
            "|            CO|            MS|CAMPO GRANDE|AUTO POSTO MALIBU...| 02.110.486/0001-46|RUA JOSE NOGUEIRA...|      1310|            null|       TIRADENTES|79042-010|    GLP|    01/12/2021|         95,99|           null|       R$ / 13 kg|            LIQUIGÁS|\n",
            "|            CO|            MS|CAMPO GRANDE| POSTO ROUXINOL LTDA| 00.413.865/0001-80|    AVENIDA ROUXINOL|        35|            null|       TIRADENTES|79041-150|    GLP|    01/12/2021|            98|           null|       R$ / 13 kg|             COPAGAZ|\n",
            "|            CO|            MS|    DOURADOS|GABIATTI & GABIAT...| 04.075.654/0001-35|RUA CORONEL PONCIANO|      2230|            null|  VILA INDUSTRIAL|79840-230|    GLP|    01/12/2021|            95|           null|       R$ / 13 kg|            LIQUIGÁS|\n",
            "|             N|            PA|       BELEM|AUTO POSTO GK EIRELI| 07.909.407/0001-85|AVENIDA DUQUE DE ...|      1169|            null|            MARCO|66093-400|    GLP|    01/12/2021|           112|           null|       R$ / 13 kg| NACIONAL GÁS BUTANO|\n",
            "|             N|            PA|       BELEM|GP PETROLEO COMER...| 06.945.995/0002-20|AVENIDA GENERALIS...|       306|            null|         UMARIZAL|66055-240|    GLP|    01/12/2021|           118|           null|       R$ / 13 kg|SUPERGASBRAS ENERGIA|\n",
            "|             N|            PA|       BELEM|IRMAOS TEIXEIRA LTDA| 04.976.718/0003-30|AVENIDA PEDRO ALV...|      3800|            null|       SACRAMENTA|66120-620|    GLP|    01/12/2021|           113|           null|       R$ / 13 kg|             BAHIANA|\n",
            "+--------------+--------------+------------+--------------------+-------------------+--------------------+----------+----------------+-----------------+---------+-------+--------------+--------------+---------------+-----------------+--------------------+\n",
            "only showing top 20 rows\n",
            "\n"
          ]
        }
      ]
    },
    {
      "cell_type": "markdown",
      "source": [
        "> Para facilitar a visualização da tabela, pode copiar esta resposta para algum bloco de notas."
      ],
      "metadata": {
        "id": "VxAmnfC08jgk"
      }
    },
    {
      "cell_type": "code",
      "source": [
        "# Verificando o schema() deste sparkdataframe\n",
        "precogas.printSchema()"
      ],
      "metadata": {
        "colab": {
          "base_uri": "https://localhost:8080/"
        },
        "id": "6P2qNG2noly3",
        "outputId": "32be403a-f378-4b77-b365-ddc3118c9fca"
      },
      "execution_count": null,
      "outputs": [
        {
          "output_type": "stream",
          "name": "stdout",
          "text": [
            "root\n",
            " |-- Regiao - Sigla: string (nullable = true)\n",
            " |-- Estado - Sigla: string (nullable = true)\n",
            " |-- Municipio: string (nullable = true)\n",
            " |-- Revenda: string (nullable = true)\n",
            " |-- CNPJ da Revenda: string (nullable = true)\n",
            " |-- Nome da Rua: string (nullable = true)\n",
            " |-- Numero Rua: string (nullable = true)\n",
            " |-- Complemento: string (nullable = true)\n",
            " |-- Bairro: string (nullable = true)\n",
            " |-- Cep: string (nullable = true)\n",
            " |-- Produto: string (nullable = true)\n",
            " |-- Data da Coleta: string (nullable = true)\n",
            " |-- Valor de Venda: string (nullable = true)\n",
            " |-- Valor de Compra: string (nullable = true)\n",
            " |-- Unidade de Medida: string (nullable = true)\n",
            " |-- Bandeira: string (nullable = true)\n",
            "\n"
          ]
        }
      ]
    },
    {
      "cell_type": "code",
      "source": [
        "# Contando o número de linhas do dataset\n",
        "precogas.count()"
      ],
      "metadata": {
        "colab": {
          "base_uri": "https://localhost:8080/"
        },
        "id": "450gtDFQyf8f",
        "outputId": "c8489a8f-d51c-429e-a055-233d440fd90f"
      },
      "execution_count": null,
      "outputs": [
        {
          "output_type": "execute_result",
          "data": {
            "text/plain": [
              "15765"
            ]
          },
          "metadata": {},
          "execution_count": 13
        }
      ]
    },
    {
      "cell_type": "code",
      "source": [
        "# Listando as colunas do dataset\n",
        "precogas.columns"
      ],
      "metadata": {
        "colab": {
          "base_uri": "https://localhost:8080/"
        },
        "id": "mNYJJT9Wyid-",
        "outputId": "82517476-6b43-48e8-927c-4b68d386f720"
      },
      "execution_count": null,
      "outputs": [
        {
          "output_type": "execute_result",
          "data": {
            "text/plain": [
              "['Regiao - Sigla',\n",
              " 'Estado - Sigla',\n",
              " 'Municipio',\n",
              " 'Revenda',\n",
              " 'CNPJ da Revenda',\n",
              " 'Nome da Rua',\n",
              " 'Numero Rua',\n",
              " 'Complemento',\n",
              " 'Bairro',\n",
              " 'Cep',\n",
              " 'Produto',\n",
              " 'Data da Coleta',\n",
              " 'Valor de Venda',\n",
              " 'Valor de Compra',\n",
              " 'Unidade de Medida',\n",
              " 'Bandeira']"
            ]
          },
          "metadata": {},
          "execution_count": 14
        }
      ]
    },
    {
      "cell_type": "code",
      "source": [
        "# Contando o número de colunas do dataset\n",
        "len(precogas.columns)"
      ],
      "metadata": {
        "colab": {
          "base_uri": "https://localhost:8080/"
        },
        "id": "STtDD3xDymTe",
        "outputId": "ab5241e1-1387-480a-8b10-57a5dd605759"
      },
      "execution_count": null,
      "outputs": [
        {
          "output_type": "execute_result",
          "data": {
            "text/plain": [
              "16"
            ]
          },
          "metadata": {},
          "execution_count": 15
        }
      ]
    },
    {
      "cell_type": "code",
      "source": [
        "# Método para verificar o tipo dos atributos do dataset\n",
        "precogas.dtypes"
      ],
      "metadata": {
        "colab": {
          "base_uri": "https://localhost:8080/"
        },
        "id": "5l811lt0yoxe",
        "outputId": "f5969a2f-4945-4684-ba6e-37893f46ff8d"
      },
      "execution_count": null,
      "outputs": [
        {
          "output_type": "execute_result",
          "data": {
            "text/plain": [
              "[('Regiao - Sigla', 'string'),\n",
              " ('Estado - Sigla', 'string'),\n",
              " ('Municipio', 'string'),\n",
              " ('Revenda', 'string'),\n",
              " ('CNPJ da Revenda', 'string'),\n",
              " ('Nome da Rua', 'string'),\n",
              " ('Numero Rua', 'string'),\n",
              " ('Complemento', 'string'),\n",
              " ('Bairro', 'string'),\n",
              " ('Cep', 'string'),\n",
              " ('Produto', 'string'),\n",
              " ('Data da Coleta', 'string'),\n",
              " ('Valor de Venda', 'string'),\n",
              " ('Valor de Compra', 'string'),\n",
              " ('Unidade de Medida', 'string'),\n",
              " ('Bandeira', 'string')]"
            ]
          },
          "metadata": {},
          "execution_count": 16
        }
      ]
    },
    {
      "cell_type": "code",
      "source": [
        "# CUIDADO! O Spark retorna uma resposta, mas as colunas não estão corretas, \n",
        "# logo os dados apresentados são inválidos!!!\n",
        "precogas.describe().show()"
      ],
      "metadata": {
        "colab": {
          "base_uri": "https://localhost:8080/"
        },
        "id": "zJZ-aQ3YzPbR",
        "outputId": "4ef0c5c5-becd-424a-fe01-9a40248b8c82"
      },
      "execution_count": null,
      "outputs": [
        {
          "output_type": "stream",
          "name": "stdout",
          "text": [
            "+-------+--------------+--------------+----------+--------------------+-------------------+-------------------+------------------+--------------------+---------------+---------+-------+--------------+------------------+---------------+-----------------+---------+\n",
            "|summary|Regiao - Sigla|Estado - Sigla| Municipio|             Revenda|    CNPJ da Revenda|        Nome da Rua|        Numero Rua|         Complemento|         Bairro|      Cep|Produto|Data da Coleta|    Valor de Venda|Valor de Compra|Unidade de Medida| Bandeira|\n",
            "+-------+--------------+--------------+----------+--------------------+-------------------+-------------------+------------------+--------------------+---------------+---------+-------+--------------+------------------+---------------+-----------------+---------+\n",
            "|  count|         15765|         15765|     15765|               15765|              15765|              15765|             15765|                3786|          15764|    15765|  15765|         15765|             15765|              0|            15765|    15765|\n",
            "|   mean|          null|          null|      null|                null|               null|               null| 1143.161611936136|  475.26190476190476|           null|     null|   null|          null|104.39595398038762|           null|             null|     null|\n",
            "| stddev|          null|          null|      null|                null|               null|               null|3105.0462230874537|   663.2997672107765|           null|     null|   null|          null|  8.94109227772585|           null|             null|     null|\n",
            "|    min|            CO|            AC|ABAETETUBA| CAINELLI BEBIDAS...| 00.010.564/0001-05| ACSV-NO 71 LOTE 20|                 .|                    | 15 DE NOVEMBRO|00000-000|    GLP|    01/12/2021|               100|           null|       R$ / 13 kg|AMAZONGÁS|\n",
            "|    max|            SE|            TO|   XANXERE|ÍNDIO COMÉRCIO DE...| 98.036.239/0005-40|     VL DOIS IRMAOS|               SNR|_________________...|ÁGUAS COMPRIDAS|99709-510|    GLP|    31/12/2021|             99,99|           null|       R$ / 13 kg| ULTRAGAZ|\n",
            "+-------+--------------+--------------+----------+--------------------+-------------------+-------------------+------------------+--------------------+---------------+---------+-------+--------------+------------------+---------------+-----------------+---------+\n",
            "\n"
          ]
        }
      ]
    },
    {
      "cell_type": "markdown",
      "source": [
        "### Problemas identificados\n",
        "\n",
        "* Todas as colunas, mesmo as de variáveis numéricas, estão em formato string.\n",
        "\n",
        "> O Spark não dá erro em obter média de strings, prejudicando o resultado. \n",
        "\n",
        "<font color=orange>Sempre verificar o tipo de dado das colunas</font>"
      ],
      "metadata": {
        "id": "BorK9f8n3FOR"
      }
    },
    {
      "cell_type": "markdown",
      "source": [
        "## **B - TRATAMENTO DE DADOS**\n",
        "\n",
        "<font color=orange>ROTEIRO DE TRATAMENTOS</font>\n",
        "\n",
        "* Seleção de colunas\n",
        "* Renomeção de coluna (trocar espaços por _)\n",
        "* Transformações dos atributos\n",
        "    * string\n",
        "        * lower, upper\n",
        "        * remoção de acentos\n",
        "        * regex_replace\n",
        "    * Transformação de tipos de dados\n",
        "        * Para data\n",
        "        * Para numérico"
      ],
      "metadata": {
        "id": "HiVbSxXA40wO"
      }
    },
    {
      "cell_type": "markdown",
      "source": [
        "### **1 - Manipulação de colunas**"
      ],
      "metadata": {
        "id": "8IE7ixAGXAhr"
      }
    },
    {
      "cell_type": "code",
      "source": [
        "# importando os métodos com funções para transformações de variáveis\n",
        "from pyspark.sql.functions import *"
      ],
      "metadata": {
        "id": "rnceSkpfKUJK"
      },
      "execution_count": null,
      "outputs": []
    },
    {
      "cell_type": "code",
      "source": [
        "# Selecionando somente algumas colunas do dataset\n",
        "precogas.select('Revenda','Bandeira','Data da Coleta','Valor de Venda').show(20)"
      ],
      "metadata": {
        "colab": {
          "base_uri": "https://localhost:8080/"
        },
        "id": "5HDDTOGi_Jwq",
        "outputId": "364647ae-c9f4-4264-9dbc-1c7f97dea83f"
      },
      "execution_count": null,
      "outputs": [
        {
          "output_type": "stream",
          "name": "stdout",
          "text": [
            "+--------------------+--------------------+--------------+--------------+\n",
            "|             Revenda|            Bandeira|Data da Coleta|Valor de Venda|\n",
            "+--------------------+--------------------+--------------+--------------+\n",
            "|CONSIGAZ DISTRIBU...|            CONSIGAZ|    01/12/2021|         97,99|\n",
            "|AUTO POSTO AMAPA ...|               FOGAS|    01/12/2021|           115|\n",
            "|AUTO POSTO ACAUAN...|           AMAZONGÁS|    01/12/2021|           110|\n",
            "|AUTO POSTO CANIND...|           AMAZONGÁS|    01/12/2021|           115|\n",
            "|AUTO POSTO AEROPO...|           AMAZONGÁS|    01/12/2021|           115|\n",
            "|SOUSA & ALVES COM...|SUPERGASBRAS ENERGIA|    01/12/2021|         99,99|\n",
            "|MARLIM COMBUSTIVE...|            LIQUIGÁS|    01/12/2021|         98,99|\n",
            "|AUTO SHOPPING DER...|            ULTRAGAZ|    01/12/2021|         98,99|\n",
            "|LR COMERCIO DE PR...|              BRANCA|    01/12/2021|         99,99|\n",
            "|CASCOL COMBUSTIVE...|            ULTRAGAZ|    01/12/2021|         99,99|\n",
            "|CASCOL COMBUSTIVE...|            LIQUIGÁS|    01/12/2021|         99,99|\n",
            "|CASCOL COMBUSTIVE...|            ULTRAGAZ|    01/12/2021|         97,99|\n",
            "|POSTO DOS PODERES...|SUPERGASBRAS ENERGIA|    01/12/2021|           100|\n",
            "|RIBEIRO DE MENDON...|             COPAGAZ|    01/12/2021|           116|\n",
            "|AUTO POSTO MALIBU...|            LIQUIGÁS|    01/12/2021|         95,99|\n",
            "| POSTO ROUXINOL LTDA|             COPAGAZ|    01/12/2021|            98|\n",
            "|GABIATTI & GABIAT...|            LIQUIGÁS|    01/12/2021|            95|\n",
            "|AUTO POSTO GK EIRELI| NACIONAL GÁS BUTANO|    01/12/2021|           112|\n",
            "|GP PETROLEO COMER...|SUPERGASBRAS ENERGIA|    01/12/2021|           118|\n",
            "|IRMAOS TEIXEIRA LTDA|             BAHIANA|    01/12/2021|           113|\n",
            "+--------------------+--------------------+--------------+--------------+\n",
            "only showing top 20 rows\n",
            "\n"
          ]
        }
      ]
    },
    {
      "cell_type": "code",
      "source": [
        "# Outra forma de Selecionar somente algumas colunas do dataset\n",
        "precogas.select('Revenda','Bandeira',col('Data da Coleta').alias('Data_da_Coleta'),'Valor de Venda').show(20)"
      ],
      "metadata": {
        "colab": {
          "base_uri": "https://localhost:8080/"
        },
        "id": "7zPQp2JXIwA5",
        "outputId": "1591d5a6-90f1-463d-aacb-236858c5f008"
      },
      "execution_count": null,
      "outputs": [
        {
          "output_type": "stream",
          "name": "stdout",
          "text": [
            "+--------------------+--------------------+--------------+--------------+\n",
            "|             Revenda|            Bandeira|Data_da_Coleta|Valor de Venda|\n",
            "+--------------------+--------------------+--------------+--------------+\n",
            "|CONSIGAZ DISTRIBU...|            CONSIGAZ|    01/12/2021|         97,99|\n",
            "|AUTO POSTO AMAPA ...|               FOGAS|    01/12/2021|           115|\n",
            "|AUTO POSTO ACAUAN...|           AMAZONGÁS|    01/12/2021|           110|\n",
            "|AUTO POSTO CANIND...|           AMAZONGÁS|    01/12/2021|           115|\n",
            "|AUTO POSTO AEROPO...|           AMAZONGÁS|    01/12/2021|           115|\n",
            "|SOUSA & ALVES COM...|SUPERGASBRAS ENERGIA|    01/12/2021|         99,99|\n",
            "|MARLIM COMBUSTIVE...|            LIQUIGÁS|    01/12/2021|         98,99|\n",
            "|AUTO SHOPPING DER...|            ULTRAGAZ|    01/12/2021|         98,99|\n",
            "|LR COMERCIO DE PR...|              BRANCA|    01/12/2021|         99,99|\n",
            "|CASCOL COMBUSTIVE...|            ULTRAGAZ|    01/12/2021|         99,99|\n",
            "|CASCOL COMBUSTIVE...|            LIQUIGÁS|    01/12/2021|         99,99|\n",
            "|CASCOL COMBUSTIVE...|            ULTRAGAZ|    01/12/2021|         97,99|\n",
            "|POSTO DOS PODERES...|SUPERGASBRAS ENERGIA|    01/12/2021|           100|\n",
            "|RIBEIRO DE MENDON...|             COPAGAZ|    01/12/2021|           116|\n",
            "|AUTO POSTO MALIBU...|            LIQUIGÁS|    01/12/2021|         95,99|\n",
            "| POSTO ROUXINOL LTDA|             COPAGAZ|    01/12/2021|            98|\n",
            "|GABIATTI & GABIAT...|            LIQUIGÁS|    01/12/2021|            95|\n",
            "|AUTO POSTO GK EIRELI| NACIONAL GÁS BUTANO|    01/12/2021|           112|\n",
            "|GP PETROLEO COMER...|SUPERGASBRAS ENERGIA|    01/12/2021|           118|\n",
            "|IRMAOS TEIXEIRA LTDA|             BAHIANA|    01/12/2021|           113|\n",
            "+--------------------+--------------------+--------------+--------------+\n",
            "only showing top 20 rows\n",
            "\n"
          ]
        }
      ]
    },
    {
      "cell_type": "code",
      "source": [
        "# Outra forma de declarar uma coluna de um dataset\n",
        "# Isso vai ser ser util mais na frente\n",
        "precogas.select(precogas.Revenda.alias('Revendedora'),precogas.Bandeira).show()"
      ],
      "metadata": {
        "colab": {
          "base_uri": "https://localhost:8080/"
        },
        "id": "R141oRC1Db-z",
        "outputId": "6953e767-5b35-4fb2-cab3-56d056c10fca"
      },
      "execution_count": null,
      "outputs": [
        {
          "output_type": "stream",
          "name": "stdout",
          "text": [
            "+--------------------+--------------------+\n",
            "|         Revendedora|            Bandeira|\n",
            "+--------------------+--------------------+\n",
            "|CONSIGAZ DISTRIBU...|            CONSIGAZ|\n",
            "|AUTO POSTO AMAPA ...|               FOGAS|\n",
            "|AUTO POSTO ACAUAN...|           AMAZONGÁS|\n",
            "|AUTO POSTO CANIND...|           AMAZONGÁS|\n",
            "|AUTO POSTO AEROPO...|           AMAZONGÁS|\n",
            "|SOUSA & ALVES COM...|SUPERGASBRAS ENERGIA|\n",
            "|MARLIM COMBUSTIVE...|            LIQUIGÁS|\n",
            "|AUTO SHOPPING DER...|            ULTRAGAZ|\n",
            "|LR COMERCIO DE PR...|              BRANCA|\n",
            "|CASCOL COMBUSTIVE...|            ULTRAGAZ|\n",
            "|CASCOL COMBUSTIVE...|            LIQUIGÁS|\n",
            "|CASCOL COMBUSTIVE...|            ULTRAGAZ|\n",
            "|POSTO DOS PODERES...|SUPERGASBRAS ENERGIA|\n",
            "|RIBEIRO DE MENDON...|             COPAGAZ|\n",
            "|AUTO POSTO MALIBU...|            LIQUIGÁS|\n",
            "| POSTO ROUXINOL LTDA|             COPAGAZ|\n",
            "|GABIATTI & GABIAT...|            LIQUIGÁS|\n",
            "|AUTO POSTO GK EIRELI| NACIONAL GÁS BUTANO|\n",
            "|GP PETROLEO COMER...|SUPERGASBRAS ENERGIA|\n",
            "|IRMAOS TEIXEIRA LTDA|             BAHIANA|\n",
            "+--------------------+--------------------+\n",
            "only showing top 20 rows\n",
            "\n"
          ]
        }
      ]
    },
    {
      "cell_type": "code",
      "source": [
        "# Criando uma nova coluna deixando o atributo Bandeira em minúsculo\n",
        "precogas.withColumn(colName = \"teste\", col = lower('Bandeira')).show()"
      ],
      "metadata": {
        "colab": {
          "base_uri": "https://localhost:8080/"
        },
        "id": "CbR76MkQM_Df",
        "outputId": "9af0bf02-063e-459b-af1f-275daf87abac"
      },
      "execution_count": null,
      "outputs": [
        {
          "output_type": "stream",
          "name": "stdout",
          "text": [
            "+--------------+--------------+------------+--------------------+-------------------+--------------------+----------+----------------+-----------------+---------+-------+--------------+--------------+---------------+-----------------+--------------------+--------------------+\n",
            "|Regiao - Sigla|Estado - Sigla|   Municipio|             Revenda|    CNPJ da Revenda|         Nome da Rua|Numero Rua|     Complemento|           Bairro|      Cep|Produto|Data da Coleta|Valor de Venda|Valor de Compra|Unidade de Medida|            Bandeira|               teste|\n",
            "+--------------+--------------+------------+--------------------+-------------------+--------------------+----------+----------------+-----------------+---------+-------+--------------+--------------+---------------+-----------------+--------------------+--------------------+\n",
            "|            SE|            SP| SAO VICENTE|CONSIGAZ DISTRIBU...| 01.597.589/0003-81| RUA MANOEL DE ABREU|       790|      QUADRA 108|   CIDADE NAUTICA|11355-400|    GLP|    01/12/2021|         97,99|           null|       R$ / 13 kg|            CONSIGAZ|            consigaz|\n",
            "|             N|            AC|  RIO BRANCO|AUTO POSTO AMAPA ...| 00.529.581/0001-53|    VIA CHICO MENDES|      3570|            null|            AREAL|69906-119|    GLP|    01/12/2021|           115|           null|       R$ / 13 kg|               FOGAS|               fogas|\n",
            "|             N|            AC|  RIO BRANCO|AUTO POSTO ACAUAN...| 00.524.999/0001-78|       RODOVIA AC 40|      1800|            null|        VILA ACRE|69902-450|    GLP|    01/12/2021|           110|           null|       R$ / 13 kg|           AMAZONGÁS|           amazongás|\n",
            "|             N|            AC|  RIO BRANCO|AUTO POSTO CANIND...| 05.442.544/0001-27|       RODOVIA AC 40|      3206|           KM 07|        VILA ACRE|69902-450|    GLP|    01/12/2021|           115|           null|       R$ / 13 kg|           AMAZONGÁS|           amazongás|\n",
            "|             N|            AC|  RIO BRANCO|AUTO POSTO AEROPO...| 14.294.227/0001-00|      V CHICO MENDES|      2583|            null|           COMARA|69906-326|    GLP|    01/12/2021|           115|           null|       R$ / 13 kg|           AMAZONGÁS|           amazongás|\n",
            "|            CO|            DF|    BRASILIA|SOUSA & ALVES COM...| 07.111.605/0001-07| QNM 15 LOTE G AR...|       S/N|            null|        CEILANDIA|72215-150|    GLP|    01/12/2021|         99,99|           null|       R$ / 13 kg|SUPERGASBRAS ENERGIA|supergasbras energia|\n",
            "|            CO|            DF|    BRASILIA|MARLIM COMBUSTIVE...| 04.494.011/0001-26|          QNO 06 PLL|       S/N|            null|        CEILÂNDIA|72237-100|    GLP|    01/12/2021|         98,99|           null|       R$ / 13 kg|            LIQUIGÁS|            liquigás|\n",
            "|            CO|            DF|    BRASILIA|AUTO SHOPPING DER...| 37.063.328/0009-14| QI 19 LOTES 02 E 04|       S/N|SETOR INDUSTRIAL|       TAGUATINGA|72120-190|    GLP|    01/12/2021|         98,99|           null|       R$ / 13 kg|            ULTRAGAZ|            ultragaz|\n",
            "|            CO|            DF|    BRASILIA|LR COMERCIO DE PR...| 24.912.669/0001-18|              QNO 15|       S/N|        LOTE PLL|        CEILANDIA|72255-600|    GLP|    01/12/2021|         99,99|           null|       R$ / 13 kg|              BRANCA|              branca|\n",
            "|            CO|            DF|    BRASILIA|CASCOL COMBUSTIVE...| 00.306.597/0015-00|QUADRA QR 516 CON...|         1|            null|    SAMAMBAIA SUL|70772-500|    GLP|    01/12/2021|         99,99|           null|       R$ / 13 kg|            ULTRAGAZ|            ultragaz|\n",
            "|            CO|            DF|    BRASILIA|CASCOL COMBUSTIVE...| 00.306.597/0017-64|   QUADRA QNO 05 PLL|       S/N|            null|        CEILANDIA|72251-000|    GLP|    01/12/2021|         99,99|           null|       R$ / 13 kg|            LIQUIGÁS|            liquigás|\n",
            "|            CO|            DF|    BRASILIA|CASCOL COMBUSTIVE...| 00.306.597/0008-73|   SETOR CSD 06 LOTE|        36|     SETOR D SUL|       TAGUATINGA|72020-000|    GLP|    01/12/2021|         97,99|           null|       R$ / 13 kg|            ULTRAGAZ|            ultragaz|\n",
            "|            CO|            MS|CAMPO GRANDE|POSTO DOS PODERES...| 24.624.785/0001-31|    AVENIDA DO POETA|       990|            null| DO DESBARRANCADO|79031-350|    GLP|    01/12/2021|           100|           null|       R$ / 13 kg|SUPERGASBRAS ENERGIA|supergasbras energia|\n",
            "|            CO|            MS|CAMPO GRANDE|RIBEIRO DE MENDON...| 16.045.015/0001-06| AVENIDA AFONSO PENA|      5264|            null|CHACARA CACHOEIRA|79040-010|    GLP|    01/12/2021|           116|           null|       R$ / 13 kg|             COPAGAZ|             copagaz|\n",
            "|            CO|            MS|CAMPO GRANDE|AUTO POSTO MALIBU...| 02.110.486/0001-46|RUA JOSE NOGUEIRA...|      1310|            null|       TIRADENTES|79042-010|    GLP|    01/12/2021|         95,99|           null|       R$ / 13 kg|            LIQUIGÁS|            liquigás|\n",
            "|            CO|            MS|CAMPO GRANDE| POSTO ROUXINOL LTDA| 00.413.865/0001-80|    AVENIDA ROUXINOL|        35|            null|       TIRADENTES|79041-150|    GLP|    01/12/2021|            98|           null|       R$ / 13 kg|             COPAGAZ|             copagaz|\n",
            "|            CO|            MS|    DOURADOS|GABIATTI & GABIAT...| 04.075.654/0001-35|RUA CORONEL PONCIANO|      2230|            null|  VILA INDUSTRIAL|79840-230|    GLP|    01/12/2021|            95|           null|       R$ / 13 kg|            LIQUIGÁS|            liquigás|\n",
            "|             N|            PA|       BELEM|AUTO POSTO GK EIRELI| 07.909.407/0001-85|AVENIDA DUQUE DE ...|      1169|            null|            MARCO|66093-400|    GLP|    01/12/2021|           112|           null|       R$ / 13 kg| NACIONAL GÁS BUTANO| nacional gás butano|\n",
            "|             N|            PA|       BELEM|GP PETROLEO COMER...| 06.945.995/0002-20|AVENIDA GENERALIS...|       306|            null|         UMARIZAL|66055-240|    GLP|    01/12/2021|           118|           null|       R$ / 13 kg|SUPERGASBRAS ENERGIA|supergasbras energia|\n",
            "|             N|            PA|       BELEM|IRMAOS TEIXEIRA LTDA| 04.976.718/0003-30|AVENIDA PEDRO ALV...|      3800|            null|       SACRAMENTA|66120-620|    GLP|    01/12/2021|           113|           null|       R$ / 13 kg|             BAHIANA|             bahiana|\n",
            "+--------------+--------------+------------+--------------------+-------------------+--------------------+----------+----------------+-----------------+---------+-------+--------------+--------------+---------------+-----------------+--------------------+--------------------+\n",
            "only showing top 20 rows\n",
            "\n"
          ]
        }
      ]
    },
    {
      "cell_type": "code",
      "source": [
        "# Criando uma nova coluna somente replicando o atributo bandeira\n",
        "precogas.withColumn(\"teste\", precogas.Bandeira).show()"
      ],
      "metadata": {
        "colab": {
          "base_uri": "https://localhost:8080/"
        },
        "id": "PUVTIfznKxZD",
        "outputId": "268ca1b5-7447-4f57-f430-ee28265b07b1"
      },
      "execution_count": null,
      "outputs": [
        {
          "output_type": "stream",
          "name": "stdout",
          "text": [
            "+--------------+--------------+------------+--------------------+-------------------+--------------------+----------+----------------+-----------------+---------+-------+--------------+--------------+---------------+-----------------+--------------------+--------------------+\n",
            "|Regiao - Sigla|Estado - Sigla|   Municipio|             Revenda|    CNPJ da Revenda|         Nome da Rua|Numero Rua|     Complemento|           Bairro|      Cep|Produto|Data da Coleta|Valor de Venda|Valor de Compra|Unidade de Medida|            Bandeira|               teste|\n",
            "+--------------+--------------+------------+--------------------+-------------------+--------------------+----------+----------------+-----------------+---------+-------+--------------+--------------+---------------+-----------------+--------------------+--------------------+\n",
            "|            SE|            SP| SAO VICENTE|CONSIGAZ DISTRIBU...| 01.597.589/0003-81| RUA MANOEL DE ABREU|       790|      QUADRA 108|   CIDADE NAUTICA|11355-400|    GLP|    01/12/2021|         97,99|           null|       R$ / 13 kg|            CONSIGAZ|            CONSIGAZ|\n",
            "|             N|            AC|  RIO BRANCO|AUTO POSTO AMAPA ...| 00.529.581/0001-53|    VIA CHICO MENDES|      3570|            null|            AREAL|69906-119|    GLP|    01/12/2021|           115|           null|       R$ / 13 kg|               FOGAS|               FOGAS|\n",
            "|             N|            AC|  RIO BRANCO|AUTO POSTO ACAUAN...| 00.524.999/0001-78|       RODOVIA AC 40|      1800|            null|        VILA ACRE|69902-450|    GLP|    01/12/2021|           110|           null|       R$ / 13 kg|           AMAZONGÁS|           AMAZONGÁS|\n",
            "|             N|            AC|  RIO BRANCO|AUTO POSTO CANIND...| 05.442.544/0001-27|       RODOVIA AC 40|      3206|           KM 07|        VILA ACRE|69902-450|    GLP|    01/12/2021|           115|           null|       R$ / 13 kg|           AMAZONGÁS|           AMAZONGÁS|\n",
            "|             N|            AC|  RIO BRANCO|AUTO POSTO AEROPO...| 14.294.227/0001-00|      V CHICO MENDES|      2583|            null|           COMARA|69906-326|    GLP|    01/12/2021|           115|           null|       R$ / 13 kg|           AMAZONGÁS|           AMAZONGÁS|\n",
            "|            CO|            DF|    BRASILIA|SOUSA & ALVES COM...| 07.111.605/0001-07| QNM 15 LOTE G AR...|       S/N|            null|        CEILANDIA|72215-150|    GLP|    01/12/2021|         99,99|           null|       R$ / 13 kg|SUPERGASBRAS ENERGIA|SUPERGASBRAS ENERGIA|\n",
            "|            CO|            DF|    BRASILIA|MARLIM COMBUSTIVE...| 04.494.011/0001-26|          QNO 06 PLL|       S/N|            null|        CEILÂNDIA|72237-100|    GLP|    01/12/2021|         98,99|           null|       R$ / 13 kg|            LIQUIGÁS|            LIQUIGÁS|\n",
            "|            CO|            DF|    BRASILIA|AUTO SHOPPING DER...| 37.063.328/0009-14| QI 19 LOTES 02 E 04|       S/N|SETOR INDUSTRIAL|       TAGUATINGA|72120-190|    GLP|    01/12/2021|         98,99|           null|       R$ / 13 kg|            ULTRAGAZ|            ULTRAGAZ|\n",
            "|            CO|            DF|    BRASILIA|LR COMERCIO DE PR...| 24.912.669/0001-18|              QNO 15|       S/N|        LOTE PLL|        CEILANDIA|72255-600|    GLP|    01/12/2021|         99,99|           null|       R$ / 13 kg|              BRANCA|              BRANCA|\n",
            "|            CO|            DF|    BRASILIA|CASCOL COMBUSTIVE...| 00.306.597/0015-00|QUADRA QR 516 CON...|         1|            null|    SAMAMBAIA SUL|70772-500|    GLP|    01/12/2021|         99,99|           null|       R$ / 13 kg|            ULTRAGAZ|            ULTRAGAZ|\n",
            "|            CO|            DF|    BRASILIA|CASCOL COMBUSTIVE...| 00.306.597/0017-64|   QUADRA QNO 05 PLL|       S/N|            null|        CEILANDIA|72251-000|    GLP|    01/12/2021|         99,99|           null|       R$ / 13 kg|            LIQUIGÁS|            LIQUIGÁS|\n",
            "|            CO|            DF|    BRASILIA|CASCOL COMBUSTIVE...| 00.306.597/0008-73|   SETOR CSD 06 LOTE|        36|     SETOR D SUL|       TAGUATINGA|72020-000|    GLP|    01/12/2021|         97,99|           null|       R$ / 13 kg|            ULTRAGAZ|            ULTRAGAZ|\n",
            "|            CO|            MS|CAMPO GRANDE|POSTO DOS PODERES...| 24.624.785/0001-31|    AVENIDA DO POETA|       990|            null| DO DESBARRANCADO|79031-350|    GLP|    01/12/2021|           100|           null|       R$ / 13 kg|SUPERGASBRAS ENERGIA|SUPERGASBRAS ENERGIA|\n",
            "|            CO|            MS|CAMPO GRANDE|RIBEIRO DE MENDON...| 16.045.015/0001-06| AVENIDA AFONSO PENA|      5264|            null|CHACARA CACHOEIRA|79040-010|    GLP|    01/12/2021|           116|           null|       R$ / 13 kg|             COPAGAZ|             COPAGAZ|\n",
            "|            CO|            MS|CAMPO GRANDE|AUTO POSTO MALIBU...| 02.110.486/0001-46|RUA JOSE NOGUEIRA...|      1310|            null|       TIRADENTES|79042-010|    GLP|    01/12/2021|         95,99|           null|       R$ / 13 kg|            LIQUIGÁS|            LIQUIGÁS|\n",
            "|            CO|            MS|CAMPO GRANDE| POSTO ROUXINOL LTDA| 00.413.865/0001-80|    AVENIDA ROUXINOL|        35|            null|       TIRADENTES|79041-150|    GLP|    01/12/2021|            98|           null|       R$ / 13 kg|             COPAGAZ|             COPAGAZ|\n",
            "|            CO|            MS|    DOURADOS|GABIATTI & GABIAT...| 04.075.654/0001-35|RUA CORONEL PONCIANO|      2230|            null|  VILA INDUSTRIAL|79840-230|    GLP|    01/12/2021|            95|           null|       R$ / 13 kg|            LIQUIGÁS|            LIQUIGÁS|\n",
            "|             N|            PA|       BELEM|AUTO POSTO GK EIRELI| 07.909.407/0001-85|AVENIDA DUQUE DE ...|      1169|            null|            MARCO|66093-400|    GLP|    01/12/2021|           112|           null|       R$ / 13 kg| NACIONAL GÁS BUTANO| NACIONAL GÁS BUTANO|\n",
            "|             N|            PA|       BELEM|GP PETROLEO COMER...| 06.945.995/0002-20|AVENIDA GENERALIS...|       306|            null|         UMARIZAL|66055-240|    GLP|    01/12/2021|           118|           null|       R$ / 13 kg|SUPERGASBRAS ENERGIA|SUPERGASBRAS ENERGIA|\n",
            "|             N|            PA|       BELEM|IRMAOS TEIXEIRA LTDA| 04.976.718/0003-30|AVENIDA PEDRO ALV...|      3800|            null|       SACRAMENTA|66120-620|    GLP|    01/12/2021|           113|           null|       R$ / 13 kg|             BAHIANA|             BAHIANA|\n",
            "+--------------+--------------+------------+--------------------+-------------------+--------------------+----------+----------------+-----------------+---------+-------+--------------+--------------+---------------+-----------------+--------------------+--------------------+\n",
            "only showing top 20 rows\n",
            "\n"
          ]
        }
      ]
    },
    {
      "cell_type": "code",
      "source": [
        "# substituindo Caracteres especifico de uma variavel\n",
        "# E persistindo o resultado na mesma coluna\n",
        "precogas.withColumn(\n",
        "    colName = 'Data da Coleta', \n",
        "    col = regexp_replace('Data da Coleta','/','-')\n",
        "    ).show()"
      ],
      "metadata": {
        "colab": {
          "base_uri": "https://localhost:8080/"
        },
        "id": "x5KSiy9CVhNr",
        "outputId": "cb9415b0-7921-40d7-a4dc-d4796bed1e06"
      },
      "execution_count": null,
      "outputs": [
        {
          "output_type": "stream",
          "name": "stdout",
          "text": [
            "+--------------+--------------+------------+--------------------+-------------------+--------------------+----------+----------------+-----------------+---------+-------+--------------+--------------+---------------+-----------------+--------------------+\n",
            "|Regiao - Sigla|Estado - Sigla|   Municipio|             Revenda|    CNPJ da Revenda|         Nome da Rua|Numero Rua|     Complemento|           Bairro|      Cep|Produto|Data da Coleta|Valor de Venda|Valor de Compra|Unidade de Medida|            Bandeira|\n",
            "+--------------+--------------+------------+--------------------+-------------------+--------------------+----------+----------------+-----------------+---------+-------+--------------+--------------+---------------+-----------------+--------------------+\n",
            "|            SE|            SP| SAO VICENTE|CONSIGAZ DISTRIBU...| 01.597.589/0003-81| RUA MANOEL DE ABREU|       790|      QUADRA 108|   CIDADE NAUTICA|11355-400|    GLP|    01-12-2021|         97,99|           null|       R$ / 13 kg|            CONSIGAZ|\n",
            "|             N|            AC|  RIO BRANCO|AUTO POSTO AMAPA ...| 00.529.581/0001-53|    VIA CHICO MENDES|      3570|            null|            AREAL|69906-119|    GLP|    01-12-2021|           115|           null|       R$ / 13 kg|               FOGAS|\n",
            "|             N|            AC|  RIO BRANCO|AUTO POSTO ACAUAN...| 00.524.999/0001-78|       RODOVIA AC 40|      1800|            null|        VILA ACRE|69902-450|    GLP|    01-12-2021|           110|           null|       R$ / 13 kg|           AMAZONGÁS|\n",
            "|             N|            AC|  RIO BRANCO|AUTO POSTO CANIND...| 05.442.544/0001-27|       RODOVIA AC 40|      3206|           KM 07|        VILA ACRE|69902-450|    GLP|    01-12-2021|           115|           null|       R$ / 13 kg|           AMAZONGÁS|\n",
            "|             N|            AC|  RIO BRANCO|AUTO POSTO AEROPO...| 14.294.227/0001-00|      V CHICO MENDES|      2583|            null|           COMARA|69906-326|    GLP|    01-12-2021|           115|           null|       R$ / 13 kg|           AMAZONGÁS|\n",
            "|            CO|            DF|    BRASILIA|SOUSA & ALVES COM...| 07.111.605/0001-07| QNM 15 LOTE G AR...|       S/N|            null|        CEILANDIA|72215-150|    GLP|    01-12-2021|         99,99|           null|       R$ / 13 kg|SUPERGASBRAS ENERGIA|\n",
            "|            CO|            DF|    BRASILIA|MARLIM COMBUSTIVE...| 04.494.011/0001-26|          QNO 06 PLL|       S/N|            null|        CEILÂNDIA|72237-100|    GLP|    01-12-2021|         98,99|           null|       R$ / 13 kg|            LIQUIGÁS|\n",
            "|            CO|            DF|    BRASILIA|AUTO SHOPPING DER...| 37.063.328/0009-14| QI 19 LOTES 02 E 04|       S/N|SETOR INDUSTRIAL|       TAGUATINGA|72120-190|    GLP|    01-12-2021|         98,99|           null|       R$ / 13 kg|            ULTRAGAZ|\n",
            "|            CO|            DF|    BRASILIA|LR COMERCIO DE PR...| 24.912.669/0001-18|              QNO 15|       S/N|        LOTE PLL|        CEILANDIA|72255-600|    GLP|    01-12-2021|         99,99|           null|       R$ / 13 kg|              BRANCA|\n",
            "|            CO|            DF|    BRASILIA|CASCOL COMBUSTIVE...| 00.306.597/0015-00|QUADRA QR 516 CON...|         1|            null|    SAMAMBAIA SUL|70772-500|    GLP|    01-12-2021|         99,99|           null|       R$ / 13 kg|            ULTRAGAZ|\n",
            "|            CO|            DF|    BRASILIA|CASCOL COMBUSTIVE...| 00.306.597/0017-64|   QUADRA QNO 05 PLL|       S/N|            null|        CEILANDIA|72251-000|    GLP|    01-12-2021|         99,99|           null|       R$ / 13 kg|            LIQUIGÁS|\n",
            "|            CO|            DF|    BRASILIA|CASCOL COMBUSTIVE...| 00.306.597/0008-73|   SETOR CSD 06 LOTE|        36|     SETOR D SUL|       TAGUATINGA|72020-000|    GLP|    01-12-2021|         97,99|           null|       R$ / 13 kg|            ULTRAGAZ|\n",
            "|            CO|            MS|CAMPO GRANDE|POSTO DOS PODERES...| 24.624.785/0001-31|    AVENIDA DO POETA|       990|            null| DO DESBARRANCADO|79031-350|    GLP|    01-12-2021|           100|           null|       R$ / 13 kg|SUPERGASBRAS ENERGIA|\n",
            "|            CO|            MS|CAMPO GRANDE|RIBEIRO DE MENDON...| 16.045.015/0001-06| AVENIDA AFONSO PENA|      5264|            null|CHACARA CACHOEIRA|79040-010|    GLP|    01-12-2021|           116|           null|       R$ / 13 kg|             COPAGAZ|\n",
            "|            CO|            MS|CAMPO GRANDE|AUTO POSTO MALIBU...| 02.110.486/0001-46|RUA JOSE NOGUEIRA...|      1310|            null|       TIRADENTES|79042-010|    GLP|    01-12-2021|         95,99|           null|       R$ / 13 kg|            LIQUIGÁS|\n",
            "|            CO|            MS|CAMPO GRANDE| POSTO ROUXINOL LTDA| 00.413.865/0001-80|    AVENIDA ROUXINOL|        35|            null|       TIRADENTES|79041-150|    GLP|    01-12-2021|            98|           null|       R$ / 13 kg|             COPAGAZ|\n",
            "|            CO|            MS|    DOURADOS|GABIATTI & GABIAT...| 04.075.654/0001-35|RUA CORONEL PONCIANO|      2230|            null|  VILA INDUSTRIAL|79840-230|    GLP|    01-12-2021|            95|           null|       R$ / 13 kg|            LIQUIGÁS|\n",
            "|             N|            PA|       BELEM|AUTO POSTO GK EIRELI| 07.909.407/0001-85|AVENIDA DUQUE DE ...|      1169|            null|            MARCO|66093-400|    GLP|    01-12-2021|           112|           null|       R$ / 13 kg| NACIONAL GÁS BUTANO|\n",
            "|             N|            PA|       BELEM|GP PETROLEO COMER...| 06.945.995/0002-20|AVENIDA GENERALIS...|       306|            null|         UMARIZAL|66055-240|    GLP|    01-12-2021|           118|           null|       R$ / 13 kg|SUPERGASBRAS ENERGIA|\n",
            "|             N|            PA|       BELEM|IRMAOS TEIXEIRA LTDA| 04.976.718/0003-30|AVENIDA PEDRO ALV...|      3800|            null|       SACRAMENTA|66120-620|    GLP|    01-12-2021|           113|           null|       R$ / 13 kg|             BAHIANA|\n",
            "+--------------+--------------+------------+--------------------+-------------------+--------------------+----------+----------------+-----------------+---------+-------+--------------+--------------+---------------+-----------------+--------------------+\n",
            "only showing top 20 rows\n",
            "\n"
          ]
        }
      ]
    },
    {
      "cell_type": "code",
      "source": [
        "# substituindo valores de uma variavel com o metodo replace\n",
        "precogas.replace( \n",
        "  to_replace = 'GLP',\n",
        "  value = 'GAS DE COZINHA', \n",
        "  subset = 'produto').show()"
      ],
      "metadata": {
        "colab": {
          "base_uri": "https://localhost:8080/"
        },
        "id": "82jfxLHYNm1l",
        "outputId": "cef77a4b-2ef0-4544-ece1-2aa49de2f7a6"
      },
      "execution_count": null,
      "outputs": [
        {
          "output_type": "stream",
          "name": "stdout",
          "text": [
            "+--------------+--------------+------------+--------------------+-------------------+--------------------+----------+----------------+-----------------+---------+--------------+--------------+--------------+---------------+-----------------+--------------------+\n",
            "|Regiao - Sigla|Estado - Sigla|   Municipio|             Revenda|    CNPJ da Revenda|         Nome da Rua|Numero Rua|     Complemento|           Bairro|      Cep|       Produto|Data da Coleta|Valor de Venda|Valor de Compra|Unidade de Medida|            Bandeira|\n",
            "+--------------+--------------+------------+--------------------+-------------------+--------------------+----------+----------------+-----------------+---------+--------------+--------------+--------------+---------------+-----------------+--------------------+\n",
            "|            SE|            SP| SAO VICENTE|CONSIGAZ DISTRIBU...| 01.597.589/0003-81| RUA MANOEL DE ABREU|       790|      QUADRA 108|   CIDADE NAUTICA|11355-400|GAS DE COZINHA|    01/12/2021|         97,99|           null|       R$ / 13 kg|            CONSIGAZ|\n",
            "|             N|            AC|  RIO BRANCO|AUTO POSTO AMAPA ...| 00.529.581/0001-53|    VIA CHICO MENDES|      3570|            null|            AREAL|69906-119|GAS DE COZINHA|    01/12/2021|           115|           null|       R$ / 13 kg|               FOGAS|\n",
            "|             N|            AC|  RIO BRANCO|AUTO POSTO ACAUAN...| 00.524.999/0001-78|       RODOVIA AC 40|      1800|            null|        VILA ACRE|69902-450|GAS DE COZINHA|    01/12/2021|           110|           null|       R$ / 13 kg|           AMAZONGÁS|\n",
            "|             N|            AC|  RIO BRANCO|AUTO POSTO CANIND...| 05.442.544/0001-27|       RODOVIA AC 40|      3206|           KM 07|        VILA ACRE|69902-450|GAS DE COZINHA|    01/12/2021|           115|           null|       R$ / 13 kg|           AMAZONGÁS|\n",
            "|             N|            AC|  RIO BRANCO|AUTO POSTO AEROPO...| 14.294.227/0001-00|      V CHICO MENDES|      2583|            null|           COMARA|69906-326|GAS DE COZINHA|    01/12/2021|           115|           null|       R$ / 13 kg|           AMAZONGÁS|\n",
            "|            CO|            DF|    BRASILIA|SOUSA & ALVES COM...| 07.111.605/0001-07| QNM 15 LOTE G AR...|       S/N|            null|        CEILANDIA|72215-150|GAS DE COZINHA|    01/12/2021|         99,99|           null|       R$ / 13 kg|SUPERGASBRAS ENERGIA|\n",
            "|            CO|            DF|    BRASILIA|MARLIM COMBUSTIVE...| 04.494.011/0001-26|          QNO 06 PLL|       S/N|            null|        CEILÂNDIA|72237-100|GAS DE COZINHA|    01/12/2021|         98,99|           null|       R$ / 13 kg|            LIQUIGÁS|\n",
            "|            CO|            DF|    BRASILIA|AUTO SHOPPING DER...| 37.063.328/0009-14| QI 19 LOTES 02 E 04|       S/N|SETOR INDUSTRIAL|       TAGUATINGA|72120-190|GAS DE COZINHA|    01/12/2021|         98,99|           null|       R$ / 13 kg|            ULTRAGAZ|\n",
            "|            CO|            DF|    BRASILIA|LR COMERCIO DE PR...| 24.912.669/0001-18|              QNO 15|       S/N|        LOTE PLL|        CEILANDIA|72255-600|GAS DE COZINHA|    01/12/2021|         99,99|           null|       R$ / 13 kg|              BRANCA|\n",
            "|            CO|            DF|    BRASILIA|CASCOL COMBUSTIVE...| 00.306.597/0015-00|QUADRA QR 516 CON...|         1|            null|    SAMAMBAIA SUL|70772-500|GAS DE COZINHA|    01/12/2021|         99,99|           null|       R$ / 13 kg|            ULTRAGAZ|\n",
            "|            CO|            DF|    BRASILIA|CASCOL COMBUSTIVE...| 00.306.597/0017-64|   QUADRA QNO 05 PLL|       S/N|            null|        CEILANDIA|72251-000|GAS DE COZINHA|    01/12/2021|         99,99|           null|       R$ / 13 kg|            LIQUIGÁS|\n",
            "|            CO|            DF|    BRASILIA|CASCOL COMBUSTIVE...| 00.306.597/0008-73|   SETOR CSD 06 LOTE|        36|     SETOR D SUL|       TAGUATINGA|72020-000|GAS DE COZINHA|    01/12/2021|         97,99|           null|       R$ / 13 kg|            ULTRAGAZ|\n",
            "|            CO|            MS|CAMPO GRANDE|POSTO DOS PODERES...| 24.624.785/0001-31|    AVENIDA DO POETA|       990|            null| DO DESBARRANCADO|79031-350|GAS DE COZINHA|    01/12/2021|           100|           null|       R$ / 13 kg|SUPERGASBRAS ENERGIA|\n",
            "|            CO|            MS|CAMPO GRANDE|RIBEIRO DE MENDON...| 16.045.015/0001-06| AVENIDA AFONSO PENA|      5264|            null|CHACARA CACHOEIRA|79040-010|GAS DE COZINHA|    01/12/2021|           116|           null|       R$ / 13 kg|             COPAGAZ|\n",
            "|            CO|            MS|CAMPO GRANDE|AUTO POSTO MALIBU...| 02.110.486/0001-46|RUA JOSE NOGUEIRA...|      1310|            null|       TIRADENTES|79042-010|GAS DE COZINHA|    01/12/2021|         95,99|           null|       R$ / 13 kg|            LIQUIGÁS|\n",
            "|            CO|            MS|CAMPO GRANDE| POSTO ROUXINOL LTDA| 00.413.865/0001-80|    AVENIDA ROUXINOL|        35|            null|       TIRADENTES|79041-150|GAS DE COZINHA|    01/12/2021|            98|           null|       R$ / 13 kg|             COPAGAZ|\n",
            "|            CO|            MS|    DOURADOS|GABIATTI & GABIAT...| 04.075.654/0001-35|RUA CORONEL PONCIANO|      2230|            null|  VILA INDUSTRIAL|79840-230|GAS DE COZINHA|    01/12/2021|            95|           null|       R$ / 13 kg|            LIQUIGÁS|\n",
            "|             N|            PA|       BELEM|AUTO POSTO GK EIRELI| 07.909.407/0001-85|AVENIDA DUQUE DE ...|      1169|            null|            MARCO|66093-400|GAS DE COZINHA|    01/12/2021|           112|           null|       R$ / 13 kg| NACIONAL GÁS BUTANO|\n",
            "|             N|            PA|       BELEM|GP PETROLEO COMER...| 06.945.995/0002-20|AVENIDA GENERALIS...|       306|            null|         UMARIZAL|66055-240|GAS DE COZINHA|    01/12/2021|           118|           null|       R$ / 13 kg|SUPERGASBRAS ENERGIA|\n",
            "|             N|            PA|       BELEM|IRMAOS TEIXEIRA LTDA| 04.976.718/0003-30|AVENIDA PEDRO ALV...|      3800|            null|       SACRAMENTA|66120-620|GAS DE COZINHA|    01/12/2021|           113|           null|       R$ / 13 kg|             BAHIANA|\n",
            "+--------------+--------------+------------+--------------------+-------------------+--------------------+----------+----------------+-----------------+---------+--------------+--------------+--------------+---------------+-----------------+--------------------+\n",
            "only showing top 20 rows\n",
            "\n"
          ]
        }
      ]
    },
    {
      "cell_type": "code",
      "source": [
        "# Renomeando colunas\n",
        "precogas.withColumnRenamed(existing = 'Estado - Sigla', new = 'Estado').show()"
      ],
      "metadata": {
        "colab": {
          "base_uri": "https://localhost:8080/"
        },
        "id": "KZYdJf_TLXRx",
        "outputId": "2656323a-fba6-4d4a-d30c-e5679f1b879f"
      },
      "execution_count": null,
      "outputs": [
        {
          "output_type": "stream",
          "name": "stdout",
          "text": [
            "+--------------+------+------------+--------------------+-------------------+--------------------+----------+----------------+-----------------+---------+-------+--------------+--------------+---------------+-----------------+--------------------+\n",
            "|Regiao - Sigla|Estado|   Municipio|             Revenda|    CNPJ da Revenda|         Nome da Rua|Numero Rua|     Complemento|           Bairro|      Cep|Produto|Data da Coleta|Valor de Venda|Valor de Compra|Unidade de Medida|            Bandeira|\n",
            "+--------------+------+------------+--------------------+-------------------+--------------------+----------+----------------+-----------------+---------+-------+--------------+--------------+---------------+-----------------+--------------------+\n",
            "|            SE|    SP| SAO VICENTE|CONSIGAZ DISTRIBU...| 01.597.589/0003-81| RUA MANOEL DE ABREU|       790|      QUADRA 108|   CIDADE NAUTICA|11355-400|    GLP|    01/12/2021|         97,99|           null|       R$ / 13 kg|            CONSIGAZ|\n",
            "|             N|    AC|  RIO BRANCO|AUTO POSTO AMAPA ...| 00.529.581/0001-53|    VIA CHICO MENDES|      3570|            null|            AREAL|69906-119|    GLP|    01/12/2021|           115|           null|       R$ / 13 kg|               FOGAS|\n",
            "|             N|    AC|  RIO BRANCO|AUTO POSTO ACAUAN...| 00.524.999/0001-78|       RODOVIA AC 40|      1800|            null|        VILA ACRE|69902-450|    GLP|    01/12/2021|           110|           null|       R$ / 13 kg|           AMAZONGÁS|\n",
            "|             N|    AC|  RIO BRANCO|AUTO POSTO CANIND...| 05.442.544/0001-27|       RODOVIA AC 40|      3206|           KM 07|        VILA ACRE|69902-450|    GLP|    01/12/2021|           115|           null|       R$ / 13 kg|           AMAZONGÁS|\n",
            "|             N|    AC|  RIO BRANCO|AUTO POSTO AEROPO...| 14.294.227/0001-00|      V CHICO MENDES|      2583|            null|           COMARA|69906-326|    GLP|    01/12/2021|           115|           null|       R$ / 13 kg|           AMAZONGÁS|\n",
            "|            CO|    DF|    BRASILIA|SOUSA & ALVES COM...| 07.111.605/0001-07| QNM 15 LOTE G AR...|       S/N|            null|        CEILANDIA|72215-150|    GLP|    01/12/2021|         99,99|           null|       R$ / 13 kg|SUPERGASBRAS ENERGIA|\n",
            "|            CO|    DF|    BRASILIA|MARLIM COMBUSTIVE...| 04.494.011/0001-26|          QNO 06 PLL|       S/N|            null|        CEILÂNDIA|72237-100|    GLP|    01/12/2021|         98,99|           null|       R$ / 13 kg|            LIQUIGÁS|\n",
            "|            CO|    DF|    BRASILIA|AUTO SHOPPING DER...| 37.063.328/0009-14| QI 19 LOTES 02 E 04|       S/N|SETOR INDUSTRIAL|       TAGUATINGA|72120-190|    GLP|    01/12/2021|         98,99|           null|       R$ / 13 kg|            ULTRAGAZ|\n",
            "|            CO|    DF|    BRASILIA|LR COMERCIO DE PR...| 24.912.669/0001-18|              QNO 15|       S/N|        LOTE PLL|        CEILANDIA|72255-600|    GLP|    01/12/2021|         99,99|           null|       R$ / 13 kg|              BRANCA|\n",
            "|            CO|    DF|    BRASILIA|CASCOL COMBUSTIVE...| 00.306.597/0015-00|QUADRA QR 516 CON...|         1|            null|    SAMAMBAIA SUL|70772-500|    GLP|    01/12/2021|         99,99|           null|       R$ / 13 kg|            ULTRAGAZ|\n",
            "|            CO|    DF|    BRASILIA|CASCOL COMBUSTIVE...| 00.306.597/0017-64|   QUADRA QNO 05 PLL|       S/N|            null|        CEILANDIA|72251-000|    GLP|    01/12/2021|         99,99|           null|       R$ / 13 kg|            LIQUIGÁS|\n",
            "|            CO|    DF|    BRASILIA|CASCOL COMBUSTIVE...| 00.306.597/0008-73|   SETOR CSD 06 LOTE|        36|     SETOR D SUL|       TAGUATINGA|72020-000|    GLP|    01/12/2021|         97,99|           null|       R$ / 13 kg|            ULTRAGAZ|\n",
            "|            CO|    MS|CAMPO GRANDE|POSTO DOS PODERES...| 24.624.785/0001-31|    AVENIDA DO POETA|       990|            null| DO DESBARRANCADO|79031-350|    GLP|    01/12/2021|           100|           null|       R$ / 13 kg|SUPERGASBRAS ENERGIA|\n",
            "|            CO|    MS|CAMPO GRANDE|RIBEIRO DE MENDON...| 16.045.015/0001-06| AVENIDA AFONSO PENA|      5264|            null|CHACARA CACHOEIRA|79040-010|    GLP|    01/12/2021|           116|           null|       R$ / 13 kg|             COPAGAZ|\n",
            "|            CO|    MS|CAMPO GRANDE|AUTO POSTO MALIBU...| 02.110.486/0001-46|RUA JOSE NOGUEIRA...|      1310|            null|       TIRADENTES|79042-010|    GLP|    01/12/2021|         95,99|           null|       R$ / 13 kg|            LIQUIGÁS|\n",
            "|            CO|    MS|CAMPO GRANDE| POSTO ROUXINOL LTDA| 00.413.865/0001-80|    AVENIDA ROUXINOL|        35|            null|       TIRADENTES|79041-150|    GLP|    01/12/2021|            98|           null|       R$ / 13 kg|             COPAGAZ|\n",
            "|            CO|    MS|    DOURADOS|GABIATTI & GABIAT...| 04.075.654/0001-35|RUA CORONEL PONCIANO|      2230|            null|  VILA INDUSTRIAL|79840-230|    GLP|    01/12/2021|            95|           null|       R$ / 13 kg|            LIQUIGÁS|\n",
            "|             N|    PA|       BELEM|AUTO POSTO GK EIRELI| 07.909.407/0001-85|AVENIDA DUQUE DE ...|      1169|            null|            MARCO|66093-400|    GLP|    01/12/2021|           112|           null|       R$ / 13 kg| NACIONAL GÁS BUTANO|\n",
            "|             N|    PA|       BELEM|GP PETROLEO COMER...| 06.945.995/0002-20|AVENIDA GENERALIS...|       306|            null|         UMARIZAL|66055-240|    GLP|    01/12/2021|           118|           null|       R$ / 13 kg|SUPERGASBRAS ENERGIA|\n",
            "|             N|    PA|       BELEM|IRMAOS TEIXEIRA LTDA| 04.976.718/0003-30|AVENIDA PEDRO ALV...|      3800|            null|       SACRAMENTA|66120-620|    GLP|    01/12/2021|           113|           null|       R$ / 13 kg|             BAHIANA|\n",
            "+--------------+------+------------+--------------------+-------------------+--------------------+----------+----------------+-----------------+---------+-------+--------------+--------------+---------------+-----------------+--------------------+\n",
            "only showing top 20 rows\n",
            "\n"
          ]
        }
      ]
    },
    {
      "cell_type": "code",
      "source": [
        "# Apagando Colunas do SparkDataFrame\n",
        "precogas.drop('Municipio','Revenda').show()"
      ],
      "metadata": {
        "colab": {
          "base_uri": "https://localhost:8080/"
        },
        "id": "HNZXb7-cZ9gT",
        "outputId": "e7090378-0977-4e5e-8506-370306326939"
      },
      "execution_count": null,
      "outputs": [
        {
          "output_type": "stream",
          "name": "stdout",
          "text": [
            "+--------------+--------------+-------------------+--------------------+----------+----------------+-----------------+---------+-------+--------------+--------------+---------------+-----------------+--------------------+\n",
            "|Regiao - Sigla|Estado - Sigla|    CNPJ da Revenda|         Nome da Rua|Numero Rua|     Complemento|           Bairro|      Cep|Produto|Data da Coleta|Valor de Venda|Valor de Compra|Unidade de Medida|            Bandeira|\n",
            "+--------------+--------------+-------------------+--------------------+----------+----------------+-----------------+---------+-------+--------------+--------------+---------------+-----------------+--------------------+\n",
            "|            SE|            SP| 01.597.589/0003-81| RUA MANOEL DE ABREU|       790|      QUADRA 108|   CIDADE NAUTICA|11355-400|    GLP|    01/12/2021|         97,99|           null|       R$ / 13 kg|            CONSIGAZ|\n",
            "|             N|            AC| 00.529.581/0001-53|    VIA CHICO MENDES|      3570|            null|            AREAL|69906-119|    GLP|    01/12/2021|           115|           null|       R$ / 13 kg|               FOGAS|\n",
            "|             N|            AC| 00.524.999/0001-78|       RODOVIA AC 40|      1800|            null|        VILA ACRE|69902-450|    GLP|    01/12/2021|           110|           null|       R$ / 13 kg|           AMAZONGÁS|\n",
            "|             N|            AC| 05.442.544/0001-27|       RODOVIA AC 40|      3206|           KM 07|        VILA ACRE|69902-450|    GLP|    01/12/2021|           115|           null|       R$ / 13 kg|           AMAZONGÁS|\n",
            "|             N|            AC| 14.294.227/0001-00|      V CHICO MENDES|      2583|            null|           COMARA|69906-326|    GLP|    01/12/2021|           115|           null|       R$ / 13 kg|           AMAZONGÁS|\n",
            "|            CO|            DF| 07.111.605/0001-07| QNM 15 LOTE G AR...|       S/N|            null|        CEILANDIA|72215-150|    GLP|    01/12/2021|         99,99|           null|       R$ / 13 kg|SUPERGASBRAS ENERGIA|\n",
            "|            CO|            DF| 04.494.011/0001-26|          QNO 06 PLL|       S/N|            null|        CEILÂNDIA|72237-100|    GLP|    01/12/2021|         98,99|           null|       R$ / 13 kg|            LIQUIGÁS|\n",
            "|            CO|            DF| 37.063.328/0009-14| QI 19 LOTES 02 E 04|       S/N|SETOR INDUSTRIAL|       TAGUATINGA|72120-190|    GLP|    01/12/2021|         98,99|           null|       R$ / 13 kg|            ULTRAGAZ|\n",
            "|            CO|            DF| 24.912.669/0001-18|              QNO 15|       S/N|        LOTE PLL|        CEILANDIA|72255-600|    GLP|    01/12/2021|         99,99|           null|       R$ / 13 kg|              BRANCA|\n",
            "|            CO|            DF| 00.306.597/0015-00|QUADRA QR 516 CON...|         1|            null|    SAMAMBAIA SUL|70772-500|    GLP|    01/12/2021|         99,99|           null|       R$ / 13 kg|            ULTRAGAZ|\n",
            "|            CO|            DF| 00.306.597/0017-64|   QUADRA QNO 05 PLL|       S/N|            null|        CEILANDIA|72251-000|    GLP|    01/12/2021|         99,99|           null|       R$ / 13 kg|            LIQUIGÁS|\n",
            "|            CO|            DF| 00.306.597/0008-73|   SETOR CSD 06 LOTE|        36|     SETOR D SUL|       TAGUATINGA|72020-000|    GLP|    01/12/2021|         97,99|           null|       R$ / 13 kg|            ULTRAGAZ|\n",
            "|            CO|            MS| 24.624.785/0001-31|    AVENIDA DO POETA|       990|            null| DO DESBARRANCADO|79031-350|    GLP|    01/12/2021|           100|           null|       R$ / 13 kg|SUPERGASBRAS ENERGIA|\n",
            "|            CO|            MS| 16.045.015/0001-06| AVENIDA AFONSO PENA|      5264|            null|CHACARA CACHOEIRA|79040-010|    GLP|    01/12/2021|           116|           null|       R$ / 13 kg|             COPAGAZ|\n",
            "|            CO|            MS| 02.110.486/0001-46|RUA JOSE NOGUEIRA...|      1310|            null|       TIRADENTES|79042-010|    GLP|    01/12/2021|         95,99|           null|       R$ / 13 kg|            LIQUIGÁS|\n",
            "|            CO|            MS| 00.413.865/0001-80|    AVENIDA ROUXINOL|        35|            null|       TIRADENTES|79041-150|    GLP|    01/12/2021|            98|           null|       R$ / 13 kg|             COPAGAZ|\n",
            "|            CO|            MS| 04.075.654/0001-35|RUA CORONEL PONCIANO|      2230|            null|  VILA INDUSTRIAL|79840-230|    GLP|    01/12/2021|            95|           null|       R$ / 13 kg|            LIQUIGÁS|\n",
            "|             N|            PA| 07.909.407/0001-85|AVENIDA DUQUE DE ...|      1169|            null|            MARCO|66093-400|    GLP|    01/12/2021|           112|           null|       R$ / 13 kg| NACIONAL GÁS BUTANO|\n",
            "|             N|            PA| 06.945.995/0002-20|AVENIDA GENERALIS...|       306|            null|         UMARIZAL|66055-240|    GLP|    01/12/2021|           118|           null|       R$ / 13 kg|SUPERGASBRAS ENERGIA|\n",
            "|             N|            PA| 04.976.718/0003-30|AVENIDA PEDRO ALV...|      3800|            null|       SACRAMENTA|66120-620|    GLP|    01/12/2021|           113|           null|       R$ / 13 kg|             BAHIANA|\n",
            "+--------------+--------------+-------------------+--------------------+----------+----------------+-----------------+---------+-------+--------------+--------------+---------------+-----------------+--------------------+\n",
            "only showing top 20 rows\n",
            "\n"
          ]
        }
      ]
    },
    {
      "cell_type": "markdown",
      "source": [
        "### **2 - Transformações úteis para um Cientista de Dados**"
      ],
      "metadata": {
        "id": "l3IM7ev7qmOY"
      }
    },
    {
      "cell_type": "code",
      "source": [
        "# Verificando os tipos das variáveis\n",
        "precogas.printSchema()"
      ],
      "metadata": {
        "colab": {
          "base_uri": "https://localhost:8080/"
        },
        "id": "ZbTsIoEkq41M",
        "outputId": "d1557c28-c1b4-4529-b9d2-770284928129"
      },
      "execution_count": null,
      "outputs": [
        {
          "output_type": "stream",
          "name": "stdout",
          "text": [
            "root\n",
            " |-- Regiao - Sigla: string (nullable = true)\n",
            " |-- Estado - Sigla: string (nullable = true)\n",
            " |-- Municipio: string (nullable = true)\n",
            " |-- Revenda: string (nullable = true)\n",
            " |-- CNPJ da Revenda: string (nullable = true)\n",
            " |-- Nome da Rua: string (nullable = true)\n",
            " |-- Numero Rua: string (nullable = true)\n",
            " |-- Complemento: string (nullable = true)\n",
            " |-- Bairro: string (nullable = true)\n",
            " |-- Cep: string (nullable = true)\n",
            " |-- Produto: string (nullable = true)\n",
            " |-- Data da Coleta: string (nullable = true)\n",
            " |-- Valor de Venda: string (nullable = true)\n",
            " |-- Valor de Compra: string (nullable = true)\n",
            " |-- Unidade de Medida: string (nullable = true)\n",
            " |-- Bandeira: string (nullable = true)\n",
            "\n"
          ]
        }
      ]
    },
    {
      "cell_type": "markdown",
      "source": [
        "#### **A - Corrigindo tipos de variáveis**"
      ],
      "metadata": {
        "id": "5TIKffusK3A5"
      }
    },
    {
      "cell_type": "code",
      "source": [
        "# Substituindo '/' por '-' e alterando para a variavel para o formato date\n",
        "precogas = precogas.withColumn(\n",
        "    colName = 'Data da Coleta', \n",
        "    col = to_date(\n",
        "            col = regexp_replace('Data da Coleta','/','-'),\n",
        "            format = \"dd-MM-yyyy\"\n",
        "          )\n",
        "    )\n",
        "\n",
        "# Inspecionando o resultado\n",
        "precogas.select('Data da Coleta').printSchema()\n",
        "precogas.show()"
      ],
      "metadata": {
        "colab": {
          "base_uri": "https://localhost:8080/"
        },
        "id": "znYyqLbJver3",
        "outputId": "e5a500f8-31b7-4d89-e80e-6629ecb06a90"
      },
      "execution_count": null,
      "outputs": [
        {
          "output_type": "stream",
          "name": "stdout",
          "text": [
            "root\n",
            " |-- Data da Coleta: date (nullable = true)\n",
            "\n",
            "+--------------+--------------+------------+--------------------+-------------------+--------------------+----------+----------------+-----------------+---------+-------+--------------+--------------+---------------+-----------------+--------------------+\n",
            "|Regiao - Sigla|Estado - Sigla|   Municipio|             Revenda|    CNPJ da Revenda|         Nome da Rua|Numero Rua|     Complemento|           Bairro|      Cep|Produto|Data da Coleta|Valor de Venda|Valor de Compra|Unidade de Medida|            Bandeira|\n",
            "+--------------+--------------+------------+--------------------+-------------------+--------------------+----------+----------------+-----------------+---------+-------+--------------+--------------+---------------+-----------------+--------------------+\n",
            "|            SE|            SP| SAO VICENTE|CONSIGAZ DISTRIBU...| 01.597.589/0003-81| RUA MANOEL DE ABREU|       790|      QUADRA 108|   CIDADE NAUTICA|11355-400|    GLP|    2021-12-01|         97,99|           null|       R$ / 13 kg|            CONSIGAZ|\n",
            "|             N|            AC|  RIO BRANCO|AUTO POSTO AMAPA ...| 00.529.581/0001-53|    VIA CHICO MENDES|      3570|            null|            AREAL|69906-119|    GLP|    2021-12-01|           115|           null|       R$ / 13 kg|               FOGAS|\n",
            "|             N|            AC|  RIO BRANCO|AUTO POSTO ACAUAN...| 00.524.999/0001-78|       RODOVIA AC 40|      1800|            null|        VILA ACRE|69902-450|    GLP|    2021-12-01|           110|           null|       R$ / 13 kg|           AMAZONGÁS|\n",
            "|             N|            AC|  RIO BRANCO|AUTO POSTO CANIND...| 05.442.544/0001-27|       RODOVIA AC 40|      3206|           KM 07|        VILA ACRE|69902-450|    GLP|    2021-12-01|           115|           null|       R$ / 13 kg|           AMAZONGÁS|\n",
            "|             N|            AC|  RIO BRANCO|AUTO POSTO AEROPO...| 14.294.227/0001-00|      V CHICO MENDES|      2583|            null|           COMARA|69906-326|    GLP|    2021-12-01|           115|           null|       R$ / 13 kg|           AMAZONGÁS|\n",
            "|            CO|            DF|    BRASILIA|SOUSA & ALVES COM...| 07.111.605/0001-07| QNM 15 LOTE G AR...|       S/N|            null|        CEILANDIA|72215-150|    GLP|    2021-12-01|         99,99|           null|       R$ / 13 kg|SUPERGASBRAS ENERGIA|\n",
            "|            CO|            DF|    BRASILIA|MARLIM COMBUSTIVE...| 04.494.011/0001-26|          QNO 06 PLL|       S/N|            null|        CEILÂNDIA|72237-100|    GLP|    2021-12-01|         98,99|           null|       R$ / 13 kg|            LIQUIGÁS|\n",
            "|            CO|            DF|    BRASILIA|AUTO SHOPPING DER...| 37.063.328/0009-14| QI 19 LOTES 02 E 04|       S/N|SETOR INDUSTRIAL|       TAGUATINGA|72120-190|    GLP|    2021-12-01|         98,99|           null|       R$ / 13 kg|            ULTRAGAZ|\n",
            "|            CO|            DF|    BRASILIA|LR COMERCIO DE PR...| 24.912.669/0001-18|              QNO 15|       S/N|        LOTE PLL|        CEILANDIA|72255-600|    GLP|    2021-12-01|         99,99|           null|       R$ / 13 kg|              BRANCA|\n",
            "|            CO|            DF|    BRASILIA|CASCOL COMBUSTIVE...| 00.306.597/0015-00|QUADRA QR 516 CON...|         1|            null|    SAMAMBAIA SUL|70772-500|    GLP|    2021-12-01|         99,99|           null|       R$ / 13 kg|            ULTRAGAZ|\n",
            "|            CO|            DF|    BRASILIA|CASCOL COMBUSTIVE...| 00.306.597/0017-64|   QUADRA QNO 05 PLL|       S/N|            null|        CEILANDIA|72251-000|    GLP|    2021-12-01|         99,99|           null|       R$ / 13 kg|            LIQUIGÁS|\n",
            "|            CO|            DF|    BRASILIA|CASCOL COMBUSTIVE...| 00.306.597/0008-73|   SETOR CSD 06 LOTE|        36|     SETOR D SUL|       TAGUATINGA|72020-000|    GLP|    2021-12-01|         97,99|           null|       R$ / 13 kg|            ULTRAGAZ|\n",
            "|            CO|            MS|CAMPO GRANDE|POSTO DOS PODERES...| 24.624.785/0001-31|    AVENIDA DO POETA|       990|            null| DO DESBARRANCADO|79031-350|    GLP|    2021-12-01|           100|           null|       R$ / 13 kg|SUPERGASBRAS ENERGIA|\n",
            "|            CO|            MS|CAMPO GRANDE|RIBEIRO DE MENDON...| 16.045.015/0001-06| AVENIDA AFONSO PENA|      5264|            null|CHACARA CACHOEIRA|79040-010|    GLP|    2021-12-01|           116|           null|       R$ / 13 kg|             COPAGAZ|\n",
            "|            CO|            MS|CAMPO GRANDE|AUTO POSTO MALIBU...| 02.110.486/0001-46|RUA JOSE NOGUEIRA...|      1310|            null|       TIRADENTES|79042-010|    GLP|    2021-12-01|         95,99|           null|       R$ / 13 kg|            LIQUIGÁS|\n",
            "|            CO|            MS|CAMPO GRANDE| POSTO ROUXINOL LTDA| 00.413.865/0001-80|    AVENIDA ROUXINOL|        35|            null|       TIRADENTES|79041-150|    GLP|    2021-12-01|            98|           null|       R$ / 13 kg|             COPAGAZ|\n",
            "|            CO|            MS|    DOURADOS|GABIATTI & GABIAT...| 04.075.654/0001-35|RUA CORONEL PONCIANO|      2230|            null|  VILA INDUSTRIAL|79840-230|    GLP|    2021-12-01|            95|           null|       R$ / 13 kg|            LIQUIGÁS|\n",
            "|             N|            PA|       BELEM|AUTO POSTO GK EIRELI| 07.909.407/0001-85|AVENIDA DUQUE DE ...|      1169|            null|            MARCO|66093-400|    GLP|    2021-12-01|           112|           null|       R$ / 13 kg| NACIONAL GÁS BUTANO|\n",
            "|             N|            PA|       BELEM|GP PETROLEO COMER...| 06.945.995/0002-20|AVENIDA GENERALIS...|       306|            null|         UMARIZAL|66055-240|    GLP|    2021-12-01|           118|           null|       R$ / 13 kg|SUPERGASBRAS ENERGIA|\n",
            "|             N|            PA|       BELEM|IRMAOS TEIXEIRA LTDA| 04.976.718/0003-30|AVENIDA PEDRO ALV...|      3800|            null|       SACRAMENTA|66120-620|    GLP|    2021-12-01|           113|           null|       R$ / 13 kg|             BAHIANA|\n",
            "+--------------+--------------+------------+--------------------+-------------------+--------------------+----------+----------------+-----------------+---------+-------+--------------+--------------+---------------+-----------------+--------------------+\n",
            "only showing top 20 rows\n",
            "\n"
          ]
        }
      ]
    },
    {
      "cell_type": "code",
      "source": [
        "# Transformando o preco em numerica\n",
        "precogas = precogas.withColumn(\n",
        "    colName = 'Valor de Venda', \n",
        "    col = regexp_replace('Valor de Venda',',','.').cast('float')\n",
        "    )\n",
        "\n",
        "# Inspecionando o resultado\n",
        "precogas.select('Valor de Venda').printSchema()\n",
        "precogas.show()\n"
      ],
      "metadata": {
        "colab": {
          "base_uri": "https://localhost:8080/"
        },
        "id": "nZbhkdlZqq7M",
        "outputId": "673d7c8d-ecfe-439c-f901-ebd9a0b03575"
      },
      "execution_count": null,
      "outputs": [
        {
          "output_type": "stream",
          "name": "stdout",
          "text": [
            "root\n",
            " |-- Valor de Venda: float (nullable = true)\n",
            "\n",
            "+--------------+--------------+------------+--------------------+-------------------+--------------------+----------+----------------+-----------------+---------+-------+--------------+--------------+---------------+-----------------+--------------------+\n",
            "|Regiao - Sigla|Estado - Sigla|   Municipio|             Revenda|    CNPJ da Revenda|         Nome da Rua|Numero Rua|     Complemento|           Bairro|      Cep|Produto|Data da Coleta|Valor de Venda|Valor de Compra|Unidade de Medida|            Bandeira|\n",
            "+--------------+--------------+------------+--------------------+-------------------+--------------------+----------+----------------+-----------------+---------+-------+--------------+--------------+---------------+-----------------+--------------------+\n",
            "|            SE|            SP| SAO VICENTE|CONSIGAZ DISTRIBU...| 01.597.589/0003-81| RUA MANOEL DE ABREU|       790|      QUADRA 108|   CIDADE NAUTICA|11355-400|    GLP|    2021-12-01|         97.99|           null|       R$ / 13 kg|            CONSIGAZ|\n",
            "|             N|            AC|  RIO BRANCO|AUTO POSTO AMAPA ...| 00.529.581/0001-53|    VIA CHICO MENDES|      3570|            null|            AREAL|69906-119|    GLP|    2021-12-01|         115.0|           null|       R$ / 13 kg|               FOGAS|\n",
            "|             N|            AC|  RIO BRANCO|AUTO POSTO ACAUAN...| 00.524.999/0001-78|       RODOVIA AC 40|      1800|            null|        VILA ACRE|69902-450|    GLP|    2021-12-01|         110.0|           null|       R$ / 13 kg|           AMAZONGÁS|\n",
            "|             N|            AC|  RIO BRANCO|AUTO POSTO CANIND...| 05.442.544/0001-27|       RODOVIA AC 40|      3206|           KM 07|        VILA ACRE|69902-450|    GLP|    2021-12-01|         115.0|           null|       R$ / 13 kg|           AMAZONGÁS|\n",
            "|             N|            AC|  RIO BRANCO|AUTO POSTO AEROPO...| 14.294.227/0001-00|      V CHICO MENDES|      2583|            null|           COMARA|69906-326|    GLP|    2021-12-01|         115.0|           null|       R$ / 13 kg|           AMAZONGÁS|\n",
            "|            CO|            DF|    BRASILIA|SOUSA & ALVES COM...| 07.111.605/0001-07| QNM 15 LOTE G AR...|       S/N|            null|        CEILANDIA|72215-150|    GLP|    2021-12-01|         99.99|           null|       R$ / 13 kg|SUPERGASBRAS ENERGIA|\n",
            "|            CO|            DF|    BRASILIA|MARLIM COMBUSTIVE...| 04.494.011/0001-26|          QNO 06 PLL|       S/N|            null|        CEILÂNDIA|72237-100|    GLP|    2021-12-01|         98.99|           null|       R$ / 13 kg|            LIQUIGÁS|\n",
            "|            CO|            DF|    BRASILIA|AUTO SHOPPING DER...| 37.063.328/0009-14| QI 19 LOTES 02 E 04|       S/N|SETOR INDUSTRIAL|       TAGUATINGA|72120-190|    GLP|    2021-12-01|         98.99|           null|       R$ / 13 kg|            ULTRAGAZ|\n",
            "|            CO|            DF|    BRASILIA|LR COMERCIO DE PR...| 24.912.669/0001-18|              QNO 15|       S/N|        LOTE PLL|        CEILANDIA|72255-600|    GLP|    2021-12-01|         99.99|           null|       R$ / 13 kg|              BRANCA|\n",
            "|            CO|            DF|    BRASILIA|CASCOL COMBUSTIVE...| 00.306.597/0015-00|QUADRA QR 516 CON...|         1|            null|    SAMAMBAIA SUL|70772-500|    GLP|    2021-12-01|         99.99|           null|       R$ / 13 kg|            ULTRAGAZ|\n",
            "|            CO|            DF|    BRASILIA|CASCOL COMBUSTIVE...| 00.306.597/0017-64|   QUADRA QNO 05 PLL|       S/N|            null|        CEILANDIA|72251-000|    GLP|    2021-12-01|         99.99|           null|       R$ / 13 kg|            LIQUIGÁS|\n",
            "|            CO|            DF|    BRASILIA|CASCOL COMBUSTIVE...| 00.306.597/0008-73|   SETOR CSD 06 LOTE|        36|     SETOR D SUL|       TAGUATINGA|72020-000|    GLP|    2021-12-01|         97.99|           null|       R$ / 13 kg|            ULTRAGAZ|\n",
            "|            CO|            MS|CAMPO GRANDE|POSTO DOS PODERES...| 24.624.785/0001-31|    AVENIDA DO POETA|       990|            null| DO DESBARRANCADO|79031-350|    GLP|    2021-12-01|         100.0|           null|       R$ / 13 kg|SUPERGASBRAS ENERGIA|\n",
            "|            CO|            MS|CAMPO GRANDE|RIBEIRO DE MENDON...| 16.045.015/0001-06| AVENIDA AFONSO PENA|      5264|            null|CHACARA CACHOEIRA|79040-010|    GLP|    2021-12-01|         116.0|           null|       R$ / 13 kg|             COPAGAZ|\n",
            "|            CO|            MS|CAMPO GRANDE|AUTO POSTO MALIBU...| 02.110.486/0001-46|RUA JOSE NOGUEIRA...|      1310|            null|       TIRADENTES|79042-010|    GLP|    2021-12-01|         95.99|           null|       R$ / 13 kg|            LIQUIGÁS|\n",
            "|            CO|            MS|CAMPO GRANDE| POSTO ROUXINOL LTDA| 00.413.865/0001-80|    AVENIDA ROUXINOL|        35|            null|       TIRADENTES|79041-150|    GLP|    2021-12-01|          98.0|           null|       R$ / 13 kg|             COPAGAZ|\n",
            "|            CO|            MS|    DOURADOS|GABIATTI & GABIAT...| 04.075.654/0001-35|RUA CORONEL PONCIANO|      2230|            null|  VILA INDUSTRIAL|79840-230|    GLP|    2021-12-01|          95.0|           null|       R$ / 13 kg|            LIQUIGÁS|\n",
            "|             N|            PA|       BELEM|AUTO POSTO GK EIRELI| 07.909.407/0001-85|AVENIDA DUQUE DE ...|      1169|            null|            MARCO|66093-400|    GLP|    2021-12-01|         112.0|           null|       R$ / 13 kg| NACIONAL GÁS BUTANO|\n",
            "|             N|            PA|       BELEM|GP PETROLEO COMER...| 06.945.995/0002-20|AVENIDA GENERALIS...|       306|            null|         UMARIZAL|66055-240|    GLP|    2021-12-01|         118.0|           null|       R$ / 13 kg|SUPERGASBRAS ENERGIA|\n",
            "|             N|            PA|       BELEM|IRMAOS TEIXEIRA LTDA| 04.976.718/0003-30|AVENIDA PEDRO ALV...|      3800|            null|       SACRAMENTA|66120-620|    GLP|    2021-12-01|         113.0|           null|       R$ / 13 kg|             BAHIANA|\n",
            "+--------------+--------------+------------+--------------------+-------------------+--------------------+----------+----------------+-----------------+---------+-------+--------------+--------------+---------------+-----------------+--------------------+\n",
            "only showing top 20 rows\n",
            "\n"
          ]
        }
      ]
    },
    {
      "cell_type": "markdown",
      "source": [
        "#### **B - Categorizando variáveis**"
      ],
      "metadata": {
        "id": "bGH_0E4LGAZ8"
      }
    },
    {
      "cell_type": "code",
      "source": [
        "# Substituindo '/' por '-' e alterando para a variavel para o formato date\n",
        "precogas.withColumn(\n",
        "    colName = 'Faixa_Preco', \n",
        "    col = (\n",
        "        when(precogas['Valor de Venda']<100,' abaixo de R$100,00').\n",
        "        when(((precogas['Valor de Venda']>=100) & \n",
        "            (precogas['Valor de Venda']<110)),'de R$100 a R$109,99').\n",
        "       otherwise('R$110,00 ou mais')\n",
        "    )\n",
        "    ).show()"
      ],
      "metadata": {
        "colab": {
          "base_uri": "https://localhost:8080/"
        },
        "id": "UM_91fn3F_dr",
        "outputId": "2723e46f-956b-4d72-b29e-274f3a1f18d8"
      },
      "execution_count": null,
      "outputs": [
        {
          "output_type": "stream",
          "name": "stdout",
          "text": [
            "+--------------+--------------+------------+--------------------+-------------------+--------------------+----------+----------------+-----------------+---------+-------+--------------+--------------+---------------+-----------------+--------------------+-------------------+\n",
            "|Regiao - Sigla|Estado - Sigla|   Municipio|             Revenda|    CNPJ da Revenda|         Nome da Rua|Numero Rua|     Complemento|           Bairro|      Cep|Produto|Data da Coleta|Valor de Venda|Valor de Compra|Unidade de Medida|            Bandeira|        Faixa_Preco|\n",
            "+--------------+--------------+------------+--------------------+-------------------+--------------------+----------+----------------+-----------------+---------+-------+--------------+--------------+---------------+-----------------+--------------------+-------------------+\n",
            "|            SE|            SP| SAO VICENTE|CONSIGAZ DISTRIBU...| 01.597.589/0003-81| RUA MANOEL DE ABREU|       790|      QUADRA 108|   CIDADE NAUTICA|11355-400|    GLP|    2021-12-01|         97.99|           null|       R$ / 13 kg|            CONSIGAZ| abaixo de R$100,00|\n",
            "|             N|            AC|  RIO BRANCO|AUTO POSTO AMAPA ...| 00.529.581/0001-53|    VIA CHICO MENDES|      3570|            null|            AREAL|69906-119|    GLP|    2021-12-01|         115.0|           null|       R$ / 13 kg|               FOGAS|   R$110,00 ou mais|\n",
            "|             N|            AC|  RIO BRANCO|AUTO POSTO ACAUAN...| 00.524.999/0001-78|       RODOVIA AC 40|      1800|            null|        VILA ACRE|69902-450|    GLP|    2021-12-01|         110.0|           null|       R$ / 13 kg|           AMAZONGÁS|   R$110,00 ou mais|\n",
            "|             N|            AC|  RIO BRANCO|AUTO POSTO CANIND...| 05.442.544/0001-27|       RODOVIA AC 40|      3206|           KM 07|        VILA ACRE|69902-450|    GLP|    2021-12-01|         115.0|           null|       R$ / 13 kg|           AMAZONGÁS|   R$110,00 ou mais|\n",
            "|             N|            AC|  RIO BRANCO|AUTO POSTO AEROPO...| 14.294.227/0001-00|      V CHICO MENDES|      2583|            null|           COMARA|69906-326|    GLP|    2021-12-01|         115.0|           null|       R$ / 13 kg|           AMAZONGÁS|   R$110,00 ou mais|\n",
            "|            CO|            DF|    BRASILIA|SOUSA & ALVES COM...| 07.111.605/0001-07| QNM 15 LOTE G AR...|       S/N|            null|        CEILANDIA|72215-150|    GLP|    2021-12-01|         99.99|           null|       R$ / 13 kg|SUPERGASBRAS ENERGIA| abaixo de R$100,00|\n",
            "|            CO|            DF|    BRASILIA|MARLIM COMBUSTIVE...| 04.494.011/0001-26|          QNO 06 PLL|       S/N|            null|        CEILÂNDIA|72237-100|    GLP|    2021-12-01|         98.99|           null|       R$ / 13 kg|            LIQUIGÁS| abaixo de R$100,00|\n",
            "|            CO|            DF|    BRASILIA|AUTO SHOPPING DER...| 37.063.328/0009-14| QI 19 LOTES 02 E 04|       S/N|SETOR INDUSTRIAL|       TAGUATINGA|72120-190|    GLP|    2021-12-01|         98.99|           null|       R$ / 13 kg|            ULTRAGAZ| abaixo de R$100,00|\n",
            "|            CO|            DF|    BRASILIA|LR COMERCIO DE PR...| 24.912.669/0001-18|              QNO 15|       S/N|        LOTE PLL|        CEILANDIA|72255-600|    GLP|    2021-12-01|         99.99|           null|       R$ / 13 kg|              BRANCA| abaixo de R$100,00|\n",
            "|            CO|            DF|    BRASILIA|CASCOL COMBUSTIVE...| 00.306.597/0015-00|QUADRA QR 516 CON...|         1|            null|    SAMAMBAIA SUL|70772-500|    GLP|    2021-12-01|         99.99|           null|       R$ / 13 kg|            ULTRAGAZ| abaixo de R$100,00|\n",
            "|            CO|            DF|    BRASILIA|CASCOL COMBUSTIVE...| 00.306.597/0017-64|   QUADRA QNO 05 PLL|       S/N|            null|        CEILANDIA|72251-000|    GLP|    2021-12-01|         99.99|           null|       R$ / 13 kg|            LIQUIGÁS| abaixo de R$100,00|\n",
            "|            CO|            DF|    BRASILIA|CASCOL COMBUSTIVE...| 00.306.597/0008-73|   SETOR CSD 06 LOTE|        36|     SETOR D SUL|       TAGUATINGA|72020-000|    GLP|    2021-12-01|         97.99|           null|       R$ / 13 kg|            ULTRAGAZ| abaixo de R$100,00|\n",
            "|            CO|            MS|CAMPO GRANDE|POSTO DOS PODERES...| 24.624.785/0001-31|    AVENIDA DO POETA|       990|            null| DO DESBARRANCADO|79031-350|    GLP|    2021-12-01|         100.0|           null|       R$ / 13 kg|SUPERGASBRAS ENERGIA|de R$100 a R$109,99|\n",
            "|            CO|            MS|CAMPO GRANDE|RIBEIRO DE MENDON...| 16.045.015/0001-06| AVENIDA AFONSO PENA|      5264|            null|CHACARA CACHOEIRA|79040-010|    GLP|    2021-12-01|         116.0|           null|       R$ / 13 kg|             COPAGAZ|   R$110,00 ou mais|\n",
            "|            CO|            MS|CAMPO GRANDE|AUTO POSTO MALIBU...| 02.110.486/0001-46|RUA JOSE NOGUEIRA...|      1310|            null|       TIRADENTES|79042-010|    GLP|    2021-12-01|         95.99|           null|       R$ / 13 kg|            LIQUIGÁS| abaixo de R$100,00|\n",
            "|            CO|            MS|CAMPO GRANDE| POSTO ROUXINOL LTDA| 00.413.865/0001-80|    AVENIDA ROUXINOL|        35|            null|       TIRADENTES|79041-150|    GLP|    2021-12-01|          98.0|           null|       R$ / 13 kg|             COPAGAZ| abaixo de R$100,00|\n",
            "|            CO|            MS|    DOURADOS|GABIATTI & GABIAT...| 04.075.654/0001-35|RUA CORONEL PONCIANO|      2230|            null|  VILA INDUSTRIAL|79840-230|    GLP|    2021-12-01|          95.0|           null|       R$ / 13 kg|            LIQUIGÁS| abaixo de R$100,00|\n",
            "|             N|            PA|       BELEM|AUTO POSTO GK EIRELI| 07.909.407/0001-85|AVENIDA DUQUE DE ...|      1169|            null|            MARCO|66093-400|    GLP|    2021-12-01|         112.0|           null|       R$ / 13 kg| NACIONAL GÁS BUTANO|   R$110,00 ou mais|\n",
            "|             N|            PA|       BELEM|GP PETROLEO COMER...| 06.945.995/0002-20|AVENIDA GENERALIS...|       306|            null|         UMARIZAL|66055-240|    GLP|    2021-12-01|         118.0|           null|       R$ / 13 kg|SUPERGASBRAS ENERGIA|   R$110,00 ou mais|\n",
            "|             N|            PA|       BELEM|IRMAOS TEIXEIRA LTDA| 04.976.718/0003-30|AVENIDA PEDRO ALV...|      3800|            null|       SACRAMENTA|66120-620|    GLP|    2021-12-01|         113.0|           null|       R$ / 13 kg|             BAHIANA|   R$110,00 ou mais|\n",
            "+--------------+--------------+------------+--------------------+-------------------+--------------------+----------+----------------+-----------------+---------+-------+--------------+--------------+---------------+-----------------+--------------------+-------------------+\n",
            "only showing top 20 rows\n",
            "\n"
          ]
        }
      ]
    },
    {
      "cell_type": "markdown",
      "source": [
        "#### **C - Criando o atributo Ano de uma variável que contém Data**\n",
        "\n"
      ],
      "metadata": {
        "id": "6EOgNpa3NDoB"
      }
    },
    {
      "cell_type": "code",
      "source": [
        "# Criando \n",
        "precogas.withColumn(\n",
        "    colName = 'Ano', \n",
        "    col = (precogas['Data da Coleta'].substr(0, 4)  )\n",
        "    ).show()"
      ],
      "metadata": {
        "colab": {
          "base_uri": "https://localhost:8080/"
        },
        "id": "uPcZ1y0hMY15",
        "outputId": "e5adbfc1-15bb-4dfd-b692-d1e9318c0b9a"
      },
      "execution_count": null,
      "outputs": [
        {
          "output_type": "stream",
          "name": "stdout",
          "text": [
            "+--------------+--------------+------------+--------------------+-------------------+--------------------+----------+----------------+-----------------+---------+-------+--------------+--------------+---------------+-----------------+--------------------+----+\n",
            "|Regiao - Sigla|Estado - Sigla|   Municipio|             Revenda|    CNPJ da Revenda|         Nome da Rua|Numero Rua|     Complemento|           Bairro|      Cep|Produto|Data da Coleta|Valor de Venda|Valor de Compra|Unidade de Medida|            Bandeira| Ano|\n",
            "+--------------+--------------+------------+--------------------+-------------------+--------------------+----------+----------------+-----------------+---------+-------+--------------+--------------+---------------+-----------------+--------------------+----+\n",
            "|            SE|            SP| SAO VICENTE|CONSIGAZ DISTRIBU...| 01.597.589/0003-81| RUA MANOEL DE ABREU|       790|      QUADRA 108|   CIDADE NAUTICA|11355-400|    GLP|    2021-12-01|         97.99|           null|       R$ / 13 kg|            CONSIGAZ|2021|\n",
            "|             N|            AC|  RIO BRANCO|AUTO POSTO AMAPA ...| 00.529.581/0001-53|    VIA CHICO MENDES|      3570|            null|            AREAL|69906-119|    GLP|    2021-12-01|         115.0|           null|       R$ / 13 kg|               FOGAS|2021|\n",
            "|             N|            AC|  RIO BRANCO|AUTO POSTO ACAUAN...| 00.524.999/0001-78|       RODOVIA AC 40|      1800|            null|        VILA ACRE|69902-450|    GLP|    2021-12-01|         110.0|           null|       R$ / 13 kg|           AMAZONGÁS|2021|\n",
            "|             N|            AC|  RIO BRANCO|AUTO POSTO CANIND...| 05.442.544/0001-27|       RODOVIA AC 40|      3206|           KM 07|        VILA ACRE|69902-450|    GLP|    2021-12-01|         115.0|           null|       R$ / 13 kg|           AMAZONGÁS|2021|\n",
            "|             N|            AC|  RIO BRANCO|AUTO POSTO AEROPO...| 14.294.227/0001-00|      V CHICO MENDES|      2583|            null|           COMARA|69906-326|    GLP|    2021-12-01|         115.0|           null|       R$ / 13 kg|           AMAZONGÁS|2021|\n",
            "|            CO|            DF|    BRASILIA|SOUSA & ALVES COM...| 07.111.605/0001-07| QNM 15 LOTE G AR...|       S/N|            null|        CEILANDIA|72215-150|    GLP|    2021-12-01|         99.99|           null|       R$ / 13 kg|SUPERGASBRAS ENERGIA|2021|\n",
            "|            CO|            DF|    BRASILIA|MARLIM COMBUSTIVE...| 04.494.011/0001-26|          QNO 06 PLL|       S/N|            null|        CEILÂNDIA|72237-100|    GLP|    2021-12-01|         98.99|           null|       R$ / 13 kg|            LIQUIGÁS|2021|\n",
            "|            CO|            DF|    BRASILIA|AUTO SHOPPING DER...| 37.063.328/0009-14| QI 19 LOTES 02 E 04|       S/N|SETOR INDUSTRIAL|       TAGUATINGA|72120-190|    GLP|    2021-12-01|         98.99|           null|       R$ / 13 kg|            ULTRAGAZ|2021|\n",
            "|            CO|            DF|    BRASILIA|LR COMERCIO DE PR...| 24.912.669/0001-18|              QNO 15|       S/N|        LOTE PLL|        CEILANDIA|72255-600|    GLP|    2021-12-01|         99.99|           null|       R$ / 13 kg|              BRANCA|2021|\n",
            "|            CO|            DF|    BRASILIA|CASCOL COMBUSTIVE...| 00.306.597/0015-00|QUADRA QR 516 CON...|         1|            null|    SAMAMBAIA SUL|70772-500|    GLP|    2021-12-01|         99.99|           null|       R$ / 13 kg|            ULTRAGAZ|2021|\n",
            "|            CO|            DF|    BRASILIA|CASCOL COMBUSTIVE...| 00.306.597/0017-64|   QUADRA QNO 05 PLL|       S/N|            null|        CEILANDIA|72251-000|    GLP|    2021-12-01|         99.99|           null|       R$ / 13 kg|            LIQUIGÁS|2021|\n",
            "|            CO|            DF|    BRASILIA|CASCOL COMBUSTIVE...| 00.306.597/0008-73|   SETOR CSD 06 LOTE|        36|     SETOR D SUL|       TAGUATINGA|72020-000|    GLP|    2021-12-01|         97.99|           null|       R$ / 13 kg|            ULTRAGAZ|2021|\n",
            "|            CO|            MS|CAMPO GRANDE|POSTO DOS PODERES...| 24.624.785/0001-31|    AVENIDA DO POETA|       990|            null| DO DESBARRANCADO|79031-350|    GLP|    2021-12-01|         100.0|           null|       R$ / 13 kg|SUPERGASBRAS ENERGIA|2021|\n",
            "|            CO|            MS|CAMPO GRANDE|RIBEIRO DE MENDON...| 16.045.015/0001-06| AVENIDA AFONSO PENA|      5264|            null|CHACARA CACHOEIRA|79040-010|    GLP|    2021-12-01|         116.0|           null|       R$ / 13 kg|             COPAGAZ|2021|\n",
            "|            CO|            MS|CAMPO GRANDE|AUTO POSTO MALIBU...| 02.110.486/0001-46|RUA JOSE NOGUEIRA...|      1310|            null|       TIRADENTES|79042-010|    GLP|    2021-12-01|         95.99|           null|       R$ / 13 kg|            LIQUIGÁS|2021|\n",
            "|            CO|            MS|CAMPO GRANDE| POSTO ROUXINOL LTDA| 00.413.865/0001-80|    AVENIDA ROUXINOL|        35|            null|       TIRADENTES|79041-150|    GLP|    2021-12-01|          98.0|           null|       R$ / 13 kg|             COPAGAZ|2021|\n",
            "|            CO|            MS|    DOURADOS|GABIATTI & GABIAT...| 04.075.654/0001-35|RUA CORONEL PONCIANO|      2230|            null|  VILA INDUSTRIAL|79840-230|    GLP|    2021-12-01|          95.0|           null|       R$ / 13 kg|            LIQUIGÁS|2021|\n",
            "|             N|            PA|       BELEM|AUTO POSTO GK EIRELI| 07.909.407/0001-85|AVENIDA DUQUE DE ...|      1169|            null|            MARCO|66093-400|    GLP|    2021-12-01|         112.0|           null|       R$ / 13 kg| NACIONAL GÁS BUTANO|2021|\n",
            "|             N|            PA|       BELEM|GP PETROLEO COMER...| 06.945.995/0002-20|AVENIDA GENERALIS...|       306|            null|         UMARIZAL|66055-240|    GLP|    2021-12-01|         118.0|           null|       R$ / 13 kg|SUPERGASBRAS ENERGIA|2021|\n",
            "|             N|            PA|       BELEM|IRMAOS TEIXEIRA LTDA| 04.976.718/0003-30|AVENIDA PEDRO ALV...|      3800|            null|       SACRAMENTA|66120-620|    GLP|    2021-12-01|         113.0|           null|       R$ / 13 kg|             BAHIANA|2021|\n",
            "+--------------+--------------+------------+--------------------+-------------------+--------------------+----------+----------------+-----------------+---------+-------+--------------+--------------+---------------+-----------------+--------------------+----+\n",
            "only showing top 20 rows\n",
            "\n"
          ]
        }
      ]
    },
    {
      "cell_type": "markdown",
      "source": [
        "### **3 - Filtrando linhas de um SparkDataFrame**"
      ],
      "metadata": {
        "id": "rPZsm-olbS9k"
      }
    },
    {
      "cell_type": "code",
      "source": [
        "# Selecionando somente as cotações realizadas na cidade de Salvador\n",
        "precogas.filter(precogas.Municipio == 'SALVADOR').show()"
      ],
      "metadata": {
        "colab": {
          "base_uri": "https://localhost:8080/"
        },
        "id": "3KQMJA8Yc_sr",
        "outputId": "65413d0a-d0dd-42bc-8714-9da22e693681"
      },
      "execution_count": null,
      "outputs": [
        {
          "output_type": "stream",
          "name": "stdout",
          "text": [
            "+--------------+--------------+---------+--------------------+-------------------+--------------------+----------+--------------------+--------------+---------+-------+--------------+--------------+---------------+-----------------+--------------------+\n",
            "|Regiao - Sigla|Estado - Sigla|Municipio|             Revenda|    CNPJ da Revenda|         Nome da Rua|Numero Rua|         Complemento|        Bairro|      Cep|Produto|Data da Coleta|Valor de Venda|Valor de Compra|Unidade de Medida|            Bandeira|\n",
            "+--------------+--------------+---------+--------------------+-------------------+--------------------+----------+--------------------+--------------+---------+-------+--------------+--------------+---------------+-----------------+--------------------+\n",
            "|            NE|            BA| SALVADOR|NADIR DE ALMEIDA ...| 04.997.975/0001-97|    RUA DOS JESUITAS|        10|   QUADRA 02 LOTE 98|    DOM AVELAR|41315-160|    GLP|    2021-12-01|          94.0|           null|       R$ / 13 kg|SUPERGASBRAS ENERGIA|\n",
            "|            NE|            BA| SALVADOR|PAU DA LIMA COMER...| 41.989.419/0001-03|    RUA ISMAR ARAUJO|       S/N|              GALPÃO|   PAU DA LIMA|41235-010|    GLP|    2021-12-01|         96.99|           null|       R$ / 13 kg|             BAHIANA|\n",
            "|            NE|            BA| SALVADOR|     BINHO GÁS LTDA.| 05.384.528/0001-25|    RUA DOS CARTUXOS|     S/N.º|  QUADRA 13, LOTE 11|    DOM AVELAR|41315-040|    GLP|    2021-12-01|          95.0|           null|       R$ / 13 kg|             BAHIANA|\n",
            "|            NE|            BA| SALVADOR|ÁGUAS CLARAS GÁS ...| 07.871.109/0001-43|    RUA JORGE BELLES|        14|                LOTE|  ÁGUAS CLARAS|41310-040|    GLP|    2021-12-01|         89.99|           null|       R$ / 13 kg|             BAHIANA|\n",
            "|            NE|            BA| SALVADOR|ANTONIO REBOUCAS ...| 04.129.917/0001-41|        RUA DO GRILO|       S/N|1 TRAVESSA       ...|    PERNAMBUES|41110-370|    GLP|    2021-12-01|         93.99|           null|       R$ / 13 kg|             BAHIANA|\n",
            "|            NE|            BA| SALVADOR|CRISPIM SOUZA COM...| 05.092.369/0001-95|RUA FILADELFO CAR...|       S/N|  LOT. JARDIM PIRAJÁ|  ÁGUAS CLARAS|41310-240|    GLP|    2021-12-01|         84.99|           null|       R$ / 13 kg|SUPERGASBRAS ENERGIA|\n",
            "|            NE|            BA| SALVADOR|GILVAN DAVI DO NA...| 08.081.251/0001-50|      RUA MARTACENIA|        39|              TERREO|  AGUAS CLARAS|41310-160|    GLP|    2021-12-01|          90.0|           null|       R$ / 13 kg|             BAHIANA|\n",
            "|            NE|            BA| SALVADOR|AMÂNCIA DE OLIVEI...| 12.807.757/0001-70|RUA   GENARO DE C...|       171|             LOJA 01|CASTELO BRANCO|41320-100|    GLP|    2021-12-01|         84.99|           null|       R$ / 13 kg|             BAHIANA|\n",
            "|            NE|            BA| SALVADOR|QUERO GÁS COMERCI...| 13.111.556/0001-05|   RUA   FRANK NALVA|        39|                null|  AGUAS CLARAS|41310-340|    GLP|    2021-12-01|          84.0|           null|       R$ / 13 kg|SUPERGASBRAS ENERGIA|\n",
            "|            NE|            BA| SALVADOR|PASSOS COMERCIO D...| 19.446.654/0001-71|       RUA  DA UNIAO|        25|                null|   MATA ESCURA|41225-100|    GLP|    2021-12-01|         100.0|           null|       R$ / 13 kg|             BAHIANA|\n",
            "|            NE|            BA| SALVADOR|ELVIS DAVI SILVA ...| 19.713.208/0001-86|RUA   BARTOLOMEU ...|        74|                null|    DOM AVELAR|41315-110|    GLP|    2021-12-01|          95.0|           null|       R$ / 13 kg|             BAHIANA|\n",
            "|            NE|            BA| SALVADOR|VILA COMERCIO DE ...| 21.097.458/0001-80|RUA DOUTOR ANTONI...|        SN|            TERREOGL|  VILA CANARIA|41390-090|    GLP|    2021-12-01|         94.99|           null|       R$ / 13 kg|             BAHIANA|\n",
            "|            NE|            BA| SALVADOR|SANTOS & VIEIRA C...| 23.790.048/0001-46| RUA FILHAS DE MARIA|       S/N|            DEPOSITO|    DOM AVELAR|41315-032|    GLP|    2021-12-01|          90.0|           null|       R$ / 13 kg|   NGC DISTRIBUIDORA|\n",
            "|            NE|            BA| SALVADOR|ERICA BARBOSA LISBOA| 15.327.280/0001-14|    RUA SANTA VERUSA|        68|                null|    PERNAMBUES|41120-000|    GLP|    2021-12-01|          82.0|           null|       R$ / 13 kg|             BAHIANA|\n",
            "|            NE|            BA| SALVADOR|BIJU GAS EIRELI - ME| 27.285.060/0001-54|RUA   FERNANDO DE...|         3|                  LJ|    PERNAMBUÉS|41100-200|    GLP|    2021-12-01|         94.99|           null|       R$ / 13 kg|             BAHIANA|\n",
            "|            NE|            BA| SALVADOR|VC COMERCIO VAREJ...| 31.432.473/0001-91|RUA JACOB DE CARV...|         6|                null|  AGUAS CLARAS|41310-320|    GLP|    2021-12-01|          85.0|           null|       R$ / 13 kg|            LIQUIGÁS|\n",
            "|            NE|            BA| SALVADOR|PONTUALGAS REVEND...| 33.372.239/0001-41|RUA NUMA POMPILIO...|        13|                null|    PERNAMBUES|41100-170|    GLP|    2021-12-01|         93.99|           null|       R$ / 13 kg|SUPERGASBRAS ENERGIA|\n",
            "|            NE|            BA| SALVADOR|GASMETROPOLI COME...| 33.711.973/0001-98|      RUA GUARATINGA|        23|  QUADRA IX LOTE 023|    PERNAMBUES|41100-040|    GLP|    2021-12-01|          87.0|           null|       R$ / 13 kg|SUPERGASBRAS ENERGIA|\n",
            "|            NE|            BA| SALVADOR|  GUSTAVO GAS EIRELI| 34.209.925/0001-69|  RUA THOMAZ GONZAGA|       479|              GALPAO|    PERNAMBUES|41130-000|    GLP|    2021-12-01|         89.99|           null|       R$ / 13 kg| NACIONAL GÁS BUTANO|\n",
            "|            NE|            BA| SALVADOR|F & K GAS COMERCI...| 34.177.630/0001-58|   RUA DOS APOSTOLOS|       S/N| QUADRA 023 LOTE 011|    DOM AVELAR|41315-350|    GLP|    2021-12-01|          95.0|           null|       R$ / 13 kg|             BAHIANA|\n",
            "+--------------+--------------+---------+--------------------+-------------------+--------------------+----------+--------------------+--------------+---------+-------+--------------+--------------+---------------+-----------------+--------------------+\n",
            "only showing top 20 rows\n",
            "\n"
          ]
        }
      ]
    },
    {
      "cell_type": "code",
      "source": [
        "# Selecionando somente as cotações realizadas no ACRE OU na BAHIA\n",
        "precogas.filter(\n",
        "    (precogas['Estado - Sigla'] == 'AC') | \n",
        "    (precogas['Estado - Sigla'] == 'BA')\n",
        "    ).show()"
      ],
      "metadata": {
        "colab": {
          "base_uri": "https://localhost:8080/"
        },
        "id": "1_BUQlu1nlZO",
        "outputId": "6c183ad6-4dc5-4fa3-9f65-5015aab89883"
      },
      "execution_count": null,
      "outputs": [
        {
          "output_type": "stream",
          "name": "stdout",
          "text": [
            "+--------------+--------------+------------+--------------------+-------------------+--------------------+----------+--------------------+----------------+---------+-------+--------------+--------------+---------------+-----------------+--------------------+\n",
            "|Regiao - Sigla|Estado - Sigla|   Municipio|             Revenda|    CNPJ da Revenda|         Nome da Rua|Numero Rua|         Complemento|          Bairro|      Cep|Produto|Data da Coleta|Valor de Venda|Valor de Compra|Unidade de Medida|            Bandeira|\n",
            "+--------------+--------------+------------+--------------------+-------------------+--------------------+----------+--------------------+----------------+---------+-------+--------------+--------------+---------------+-----------------+--------------------+\n",
            "|             N|            AC|  RIO BRANCO|AUTO POSTO AMAPA ...| 00.529.581/0001-53|    VIA CHICO MENDES|      3570|                null|           AREAL|69906-119|    GLP|    2021-12-01|         115.0|           null|       R$ / 13 kg|               FOGAS|\n",
            "|             N|            AC|  RIO BRANCO|AUTO POSTO ACAUAN...| 00.524.999/0001-78|       RODOVIA AC 40|      1800|                null|       VILA ACRE|69902-450|    GLP|    2021-12-01|         110.0|           null|       R$ / 13 kg|           AMAZONGÁS|\n",
            "|             N|            AC|  RIO BRANCO|AUTO POSTO CANIND...| 05.442.544/0001-27|       RODOVIA AC 40|      3206|               KM 07|       VILA ACRE|69902-450|    GLP|    2021-12-01|         115.0|           null|       R$ / 13 kg|           AMAZONGÁS|\n",
            "|             N|            AC|  RIO BRANCO|AUTO POSTO AEROPO...| 14.294.227/0001-00|      V CHICO MENDES|      2583|                null|          COMARA|69906-326|    GLP|    2021-12-01|         115.0|           null|       R$ / 13 kg|           AMAZONGÁS|\n",
            "|            NE|            BA|    SALVADOR|NADIR DE ALMEIDA ...| 04.997.975/0001-97|    RUA DOS JESUITAS|        10|   QUADRA 02 LOTE 98|      DOM AVELAR|41315-160|    GLP|    2021-12-01|          94.0|           null|       R$ / 13 kg|SUPERGASBRAS ENERGIA|\n",
            "|            NE|            BA|    SALVADOR|PAU DA LIMA COMER...| 41.989.419/0001-03|    RUA ISMAR ARAUJO|       S/N|              GALPÃO|     PAU DA LIMA|41235-010|    GLP|    2021-12-01|         96.99|           null|       R$ / 13 kg|             BAHIANA|\n",
            "|            NE|            BA|    SALVADOR|     BINHO GÁS LTDA.| 05.384.528/0001-25|    RUA DOS CARTUXOS|     S/N.º|  QUADRA 13, LOTE 11|      DOM AVELAR|41315-040|    GLP|    2021-12-01|          95.0|           null|       R$ / 13 kg|             BAHIANA|\n",
            "|            NE|            BA|      ILHEUS|GMS DISTRIBUIDORA...| 08.240.096/0001-77|    AVENIDA UBAITABA|       639|                null|       ESPERANCA|45658-800|    GLP|    2021-12-01|         110.0|           null|       R$ / 13 kg| NACIONAL GÁS BUTANO|\n",
            "|            NE|            BA|    SALVADOR|ÁGUAS CLARAS GÁS ...| 07.871.109/0001-43|    RUA JORGE BELLES|        14|                LOTE|    ÁGUAS CLARAS|41310-040|    GLP|    2021-12-01|         89.99|           null|       R$ / 13 kg|             BAHIANA|\n",
            "|            NE|            BA|    SALVADOR|ANTONIO REBOUCAS ...| 04.129.917/0001-41|        RUA DO GRILO|       S/N|1 TRAVESSA       ...|      PERNAMBUES|41110-370|    GLP|    2021-12-01|         93.99|           null|       R$ / 13 kg|             BAHIANA|\n",
            "|            NE|            BA|PAULO AFONSO|COMERCIAL DE ESTI...| 86.784.006/0002-01|AVENIDA PERIMETRAL 1|       189|                null|PERPETUO SOCORRO|48603-200|    GLP|    2021-12-01|          98.0|           null|       R$ / 13 kg|SUPERGASBRAS ENERGIA|\n",
            "|            NE|            BA|    SALVADOR|CRISPIM SOUZA COM...| 05.092.369/0001-95|RUA FILADELFO CAR...|       S/N|  LOT. JARDIM PIRAJÁ|    ÁGUAS CLARAS|41310-240|    GLP|    2021-12-01|         84.99|           null|       R$ / 13 kg|SUPERGASBRAS ENERGIA|\n",
            "|            NE|            BA|    SALVADOR|GILVAN DAVI DO NA...| 08.081.251/0001-50|      RUA MARTACENIA|        39|              TERREO|    AGUAS CLARAS|41310-160|    GLP|    2021-12-01|          90.0|           null|       R$ / 13 kg|             BAHIANA|\n",
            "|            NE|            BA|     ITABUNA|NETO SANTOS COMER...| 10.907.254/0001-41|  RUA SAO  SEBASTIAO|       307|                   B|          FATIMA|45603-451|    GLP|    2021-12-01|         100.0|           null|       R$ / 13 kg|             BAHIANA|\n",
            "|            NE|            BA|    SALVADOR|AMÂNCIA DE OLIVEI...| 12.807.757/0001-70|RUA   GENARO DE C...|       171|             LOJA 01|  CASTELO BRANCO|41320-100|    GLP|    2021-12-01|         84.99|           null|       R$ / 13 kg|             BAHIANA|\n",
            "|            NE|            BA|    SALVADOR|QUERO GÁS COMERCI...| 13.111.556/0001-05|   RUA   FRANK NALVA|        39|                null|    AGUAS CLARAS|41310-340|    GLP|    2021-12-01|          84.0|           null|       R$ / 13 kg|SUPERGASBRAS ENERGIA|\n",
            "|            NE|            BA|      ILHEUS|FERNANDES MOREIRA...| 12.997.269/0001-73|    RUA   URUGUAIANA|       530|                   A|         MALHADO|45651-350|    GLP|    2021-12-01|         102.0|           null|       R$ / 13 kg|             BAHIANA|\n",
            "|            NE|            BA|    SALVADOR|PASSOS COMERCIO D...| 19.446.654/0001-71|       RUA  DA UNIAO|        25|                null|     MATA ESCURA|41225-100|    GLP|    2021-12-01|         100.0|           null|       R$ / 13 kg|             BAHIANA|\n",
            "|            NE|            BA|    SALVADOR|ELVIS DAVI SILVA ...| 19.713.208/0001-86|RUA   BARTOLOMEU ...|        74|                null|      DOM AVELAR|41315-110|    GLP|    2021-12-01|          95.0|           null|       R$ / 13 kg|             BAHIANA|\n",
            "|            NE|            BA|    SALVADOR|VILA COMERCIO DE ...| 21.097.458/0001-80|RUA DOUTOR ANTONI...|        SN|            TERREOGL|    VILA CANARIA|41390-090|    GLP|    2021-12-01|         94.99|           null|       R$ / 13 kg|             BAHIANA|\n",
            "+--------------+--------------+------------+--------------------+-------------------+--------------------+----------+--------------------+----------------+---------+-------+--------------+--------------+---------------+-----------------+--------------------+\n",
            "only showing top 20 rows\n",
            "\n"
          ]
        }
      ]
    },
    {
      "cell_type": "code",
      "source": [
        "# Selecionando somente as cotações no estado de São Paulo no dia 10/12/2021\n",
        "precogas.filter(\n",
        "    (col('Estado - Sigla') == 'SP') & \n",
        "    (col('Data da Coleta') == '10/12/2021')\n",
        "    ).show()"
      ],
      "metadata": {
        "colab": {
          "base_uri": "https://localhost:8080/"
        },
        "id": "MjK5CzKjkytT",
        "outputId": "00cd0ae3-7309-4e56-ee1a-70240a356768"
      },
      "execution_count": null,
      "outputs": [
        {
          "output_type": "stream",
          "name": "stdout",
          "text": [
            "+--------------+--------------+---------+-------+---------------+-----------+----------+-----------+------+---+-------+--------------+--------------+---------------+-----------------+--------+\n",
            "|Regiao - Sigla|Estado - Sigla|Municipio|Revenda|CNPJ da Revenda|Nome da Rua|Numero Rua|Complemento|Bairro|Cep|Produto|Data da Coleta|Valor de Venda|Valor de Compra|Unidade de Medida|Bandeira|\n",
            "+--------------+--------------+---------+-------+---------------+-----------+----------+-----------+------+---+-------+--------------+--------------+---------------+-----------------+--------+\n",
            "+--------------+--------------+---------+-------+---------------+-----------+----------+-----------+------+---+-------+--------------+--------------+---------------+-----------------+--------+\n",
            "\n"
          ]
        }
      ]
    },
    {
      "cell_type": "code",
      "source": [
        "# Selecionando somente as cotações no estado da Bahia com preço abaixo de R$80\n",
        "precogas.filter(\n",
        "    (precogas['Estado - Sigla'] == 'BA') & \n",
        "    (precogas['Valor de Venda'] >120)\n",
        "    ).show()"
      ],
      "metadata": {
        "colab": {
          "base_uri": "https://localhost:8080/"
        },
        "id": "J_fbVe91oUrc",
        "outputId": "8f522c9c-8bd5-4166-94e2-d28fa2c5d73d"
      },
      "execution_count": null,
      "outputs": [
        {
          "output_type": "stream",
          "name": "stdout",
          "text": [
            "+--------------+--------------+---------+-------+---------------+-----------+----------+-----------+------+---+-------+--------------+--------------+---------------+-----------------+--------+\n",
            "|Regiao - Sigla|Estado - Sigla|Municipio|Revenda|CNPJ da Revenda|Nome da Rua|Numero Rua|Complemento|Bairro|Cep|Produto|Data da Coleta|Valor de Venda|Valor de Compra|Unidade de Medida|Bandeira|\n",
            "+--------------+--------------+---------+-------+---------------+-----------+----------+-----------+------+---+-------+--------------+--------------+---------------+-----------------+--------+\n",
            "+--------------+--------------+---------+-------+---------------+-----------+----------+-----------+------+---+-------+--------------+--------------+---------------+-----------------+--------+\n",
            "\n"
          ]
        }
      ]
    },
    {
      "cell_type": "code",
      "source": [
        "# Filtrando linhas com where\n",
        "precogas.where(\n",
        "    (col('Estado - Sigla') == 'BA') & \n",
        "    (col('Valor de Venda') < 85)\n",
        "    ).show()"
      ],
      "metadata": {
        "colab": {
          "base_uri": "https://localhost:8080/"
        },
        "id": "3sS5NlRFTf8-",
        "outputId": "09be2738-de8d-4127-ec22-6a89ed2568c3"
      },
      "execution_count": null,
      "outputs": [
        {
          "output_type": "stream",
          "name": "stdout",
          "text": [
            "+--------------+--------------+----------------+--------------------+-------------------+--------------------+----------+------------------+--------------------+---------+-------+--------------+--------------+---------------+-----------------+--------------------+\n",
            "|Regiao - Sigla|Estado - Sigla|       Municipio|             Revenda|    CNPJ da Revenda|         Nome da Rua|Numero Rua|       Complemento|              Bairro|      Cep|Produto|Data da Coleta|Valor de Venda|Valor de Compra|Unidade de Medida|            Bandeira|\n",
            "+--------------+--------------+----------------+--------------------+-------------------+--------------------+----------+------------------+--------------------+---------+-------+--------------+--------------+---------------+-----------------+--------------------+\n",
            "|            NE|            BA|        SALVADOR|CRISPIM SOUZA COM...| 05.092.369/0001-95|RUA FILADELFO CAR...|       S/N|LOT. JARDIM PIRAJÁ|        ÁGUAS CLARAS|41310-240|    GLP|    2021-12-01|         84.99|           null|       R$ / 13 kg|SUPERGASBRAS ENERGIA|\n",
            "|            NE|            BA|        SALVADOR|AMÂNCIA DE OLIVEI...| 12.807.757/0001-70|RUA   GENARO DE C...|       171|           LOJA 01|      CASTELO BRANCO|41320-100|    GLP|    2021-12-01|         84.99|           null|       R$ / 13 kg|             BAHIANA|\n",
            "|            NE|            BA|        SALVADOR|QUERO GÁS COMERCI...| 13.111.556/0001-05|   RUA   FRANK NALVA|        39|              null|        AGUAS CLARAS|41310-340|    GLP|    2021-12-01|          84.0|           null|       R$ / 13 kg|SUPERGASBRAS ENERGIA|\n",
            "|            NE|            BA|        SALVADOR|ERICA BARBOSA LISBOA| 15.327.280/0001-14|    RUA SANTA VERUSA|        68|              null|          PERNAMBUES|41120-000|    GLP|    2021-12-01|          82.0|           null|       R$ / 13 kg|             BAHIANA|\n",
            "|            NE|            BA|        SALVADOR|FILIPE LIMA DOS S...| 36.716.015/0001-06|RUA DOUTOR JORGE ...|       101|              CASA|        AGUAS CLARAS|41310-260|    GLP|    2021-12-01|         84.99|           null|       R$ / 13 kg| NACIONAL GÁS BUTANO|\n",
            "|            NE|            BA|        SALVADOR|JPA COMERCIO VARE...| 37.486.620/0001-92|RUA FILADELFIO CA...|        45|              null|        AGUAS CLARAS|41310-240|    GLP|    2021-12-01|         84.99|           null|       R$ / 13 kg| NACIONAL GÁS BUTANO|\n",
            "|            NE|            BA|          JEQUIE|GIRO GÁS COMÉRCIO...| 10.345.393/0001-29|       RUA BEIRA RIO|       S/N|              null|           MANDACARÚ|45207-050|    GLP|    2021-12-02|          80.0|           null|       R$ / 13 kg|            LIQUIGÁS|\n",
            "|            NE|            BA|        SALVADOR|PATRICIA DE OLIVE...| 11.102.493/0001-97|AVENIDA NESTOR DU...|        93|              null|         SAO CAETANO|40391-200|    GLP|    2021-12-06|         84.99|           null|       R$ / 13 kg|SUPERGASBRAS ENERGIA|\n",
            "|            NE|            BA|    SIMOES FILHO|PVB COMÉRCIO E RE...| 04.967.317/0001-52|   RUA EDMUNDO COSTA|       169|              null|         PITANGUINHA|43700-000|    GLP|    2021-12-07|          82.0|           null|       R$ / 13 kg|              BRANCA|\n",
            "|            NE|            BA|    SIMOES FILHO|PITANGUINHA COMER...| 11.857.353/0001-29|   RUA EDMUNDO COSTA|       169|              null|         PITANGUINHA|43700-000|    GLP|    2021-12-07|          82.0|           null|       R$ / 13 kg|SUPERGASBRAS ENERGIA|\n",
            "|            NE|            BA|          JEQUIE|GIRO GÁS COMÉRCIO...| 10.345.393/0001-29|       RUA BEIRA RIO|       S/N|              null|           MANDACARÚ|45207-050|    GLP|    2021-12-09|          80.0|           null|       R$ / 13 kg|            LIQUIGÁS|\n",
            "|            NE|            BA|          JEQUIE|GIRO GÁS COMÉRCIO...| 10.345.393/0001-29|       RUA BEIRA RIO|       S/N|              null|           MANDACARÚ|45207-050|    GLP|    2021-12-16|          80.0|           null|       R$ / 13 kg|            LIQUIGÁS|\n",
            "|            NE|            BA|        SALVADOR|RM REVENDEDORA DE...| 21.135.101/0001-40|RUA DOUTOR EDSON ...|        SN|            TERREO|          CAJAZEIRAS|41342-165|    GLP|    2021-12-16|          80.0|           null|       R$ / 13 kg|SUPERGASBRAS ENERGIA|\n",
            "|            NE|            BA|          JEQUIE|JV COM VAREJ DE G...| 23.013.800/0001-42|RUA ANTONIO DE JE...|       100|              null|    POMPILIO SAMPAIO|45206-057|    GLP|    2021-12-16|          83.0|           null|       R$ / 13 kg|            LIQUIGÁS|\n",
            "|            NE|            BA|        SALVADOR|RT REVENDENDORA D...| 26.652.963/0001-63|CAMINHO   26-SETO...|         2|            TERREO|          CAJAZEIRAS|41345-280|    GLP|    2021-12-16|          80.0|           null|       R$ / 13 kg|            LIQUIGÁS|\n",
            "|            NE|            BA|        SALVADOR|AMÂNCIA DE OLIVEI...| 12.807.757/0001-70|RUA   GENARO DE C...|       171|           LOJA 01|      CASTELO BRANCO|41320-100|    GLP|    2021-12-20|         84.99|           null|       R$ / 13 kg|             BAHIANA|\n",
            "|            NE|            BA|        SALVADOR|ALEXANDRE MESQUIT...| 31.963.883/0001-69|1A TRAVESSA DAS P...|        34|                LJ|FAZENDA GRANDE DO...|40353-520|    GLP|    2021-12-20|         84.99|           null|       R$ / 13 kg|SUPERGASBRAS ENERGIA|\n",
            "|            NE|            BA|LAURO DE FREITAS|NASCIMENTO GAS EI...| 29.563.452/0001-63|        RUA JUAZEIRO|        41|  QUADRA13 LOT 105|    PARQUE SAO PAULO|42741-150|    GLP|    2021-12-21|         77.99|           null|       R$ / 13 kg|SUPERGASBRAS ENERGIA|\n",
            "|            NE|            BA|        SALVADOR|   RIO SENA GAS LTDA| 04.116.094/0004-62|AVENIDA AFRÂNIO P...|        54|              null|          PLATAFORMA|40717-140|    GLP|    2021-12-22|         84.99|           null|       R$ / 13 kg|SUPERGASBRAS ENERGIA|\n",
            "|            NE|            BA|          JEQUIE|GIRO GÁS COMÉRCIO...| 10.345.393/0001-29|       RUA BEIRA RIO|       S/N|              null|           MANDACARÚ|45207-050|    GLP|    2021-12-22|          80.0|           null|       R$ / 13 kg|            LIQUIGÁS|\n",
            "+--------------+--------------+----------------+--------------------+-------------------+--------------------+----------+------------------+--------------------+---------+-------+--------------+--------------+---------------+-----------------+--------------------+\n",
            "only showing top 20 rows\n",
            "\n"
          ]
        }
      ]
    },
    {
      "cell_type": "markdown",
      "source": [
        "## C - ANÁLISE DE DADOS\n",
        "\n",
        "<font color=orange>ROTEIRO DE ANÁLISE</font>\n",
        "\n",
        "* Descrição estatística\n",
        "    * describe, summary\n",
        "* Dados agrupados por categorias (descrição por grupos, estratificação)\n",
        "* Tabela cruzada, tabela de contigência (crosstab)"
      ],
      "metadata": {
        "id": "b41AkIFFXT_5"
      }
    },
    {
      "cell_type": "markdown",
      "source": [
        "- A descrição estatística muitas vezes é demorada, como por exemplo os quantis, então é uma boa prática somente solictar o que será usado."
      ],
      "metadata": {
        "id": "R_Ysc41PwHBe"
      }
    },
    {
      "cell_type": "markdown",
      "source": [
        "### **1 - Medidas resumos de variáveis numéricas**"
      ],
      "metadata": {
        "id": "FB_8S9kkNnDn"
      }
    },
    {
      "cell_type": "code",
      "source": [
        "# Resumindo variáveis numéricas\n",
        "precogas.select('Valor de Venda').describe().show()"
      ],
      "metadata": {
        "colab": {
          "base_uri": "https://localhost:8080/"
        },
        "id": "m5-6Ojz8Nvro",
        "outputId": "17637d4d-8833-4758-ca3a-d3f718f9b43f"
      },
      "execution_count": null,
      "outputs": [
        {
          "output_type": "stream",
          "name": "stdout",
          "text": [
            "+-------+------------------+\n",
            "|summary|    Valor de Venda|\n",
            "+-------+------------------+\n",
            "|  count|             15765|\n",
            "|   mean|103.29313201371957|\n",
            "| stddev| 8.951108633678142|\n",
            "|    min|             77.99|\n",
            "|    max|             140.0|\n",
            "+-------+------------------+\n",
            "\n"
          ]
        }
      ]
    },
    {
      "cell_type": "code",
      "source": [
        "# Resumindo variáveis numéricas com summary\n",
        "precogas.select('Valor de Venda').summary().show()"
      ],
      "metadata": {
        "colab": {
          "base_uri": "https://localhost:8080/"
        },
        "id": "P6QYmsdQOPTI",
        "outputId": "82ddc0cd-d788-4c97-d7f6-ab4be1221301"
      },
      "execution_count": null,
      "outputs": [
        {
          "output_type": "stream",
          "name": "stdout",
          "text": [
            "+-------+------------------+\n",
            "|summary|    Valor de Venda|\n",
            "+-------+------------------+\n",
            "|  count|             15765|\n",
            "|   mean|103.29313201371957|\n",
            "| stddev| 8.951108633678142|\n",
            "|    min|             77.99|\n",
            "|    25%|             97.99|\n",
            "|    50%|             102.0|\n",
            "|    75%|             110.0|\n",
            "|    max|             140.0|\n",
            "+-------+------------------+\n",
            "\n"
          ]
        }
      ]
    },
    {
      "cell_type": "code",
      "source": [
        "# Resumindo variáveis numéricas com summary limitando as estatísticas\n",
        "precogas.select('Valor de Venda')\\\n",
        ".summary(\"min\", \"5%\",\"25%\", \"50%\",\"75%\", \"95%\",\"max\")\\\n",
        ".show()"
      ],
      "metadata": {
        "colab": {
          "base_uri": "https://localhost:8080/"
        },
        "id": "ZdT-VdZ_QSHX",
        "outputId": "517a4d97-a982-4d2c-ca06-002254828d75"
      },
      "execution_count": null,
      "outputs": [
        {
          "output_type": "stream",
          "name": "stdout",
          "text": [
            "+-------+--------------+\n",
            "|summary|Valor de Venda|\n",
            "+-------+--------------+\n",
            "|    min|         77.99|\n",
            "|     5%|         89.99|\n",
            "|    25%|         97.99|\n",
            "|    50%|         102.0|\n",
            "|    75%|         110.0|\n",
            "|    95%|         120.0|\n",
            "|    max|         140.0|\n",
            "+-------+--------------+\n",
            "\n"
          ]
        }
      ]
    },
    {
      "cell_type": "code",
      "source": [
        "# Algumas estatísticas individuais\n",
        "precogas.select(\n",
        "  mean('Valor de Venda').alias('Preço médio'),\n",
        "  percentile_approx('Valor de Venda',0.5).alias('Preço Mediano'),\n",
        "  percentile_approx('Valor de Venda',0.25).alias('Q1 do Preço'),\n",
        "  percentile_approx('Valor de Venda',0.75).alias('Q3 do Preço'),\n",
        "  min('Valor de Venda').alias('Preço Mínimo'),\n",
        "  max('Valor de Venda').alias('Preço Máximo')\n",
        ").show()"
      ],
      "metadata": {
        "colab": {
          "base_uri": "https://localhost:8080/"
        },
        "id": "VV3gplq8TfjI",
        "outputId": "2b6c45df-9685-42a4-eff7-3b6de9c2227f"
      },
      "execution_count": null,
      "outputs": [
        {
          "output_type": "stream",
          "name": "stdout",
          "text": [
            "+------------------+-------------+-----------+-----------+------------+------------+\n",
            "|       Preço médio|Preço Mediano|Q1 do Preço|Q3 do Preço|Preço Mínimo|Preço Máximo|\n",
            "+------------------+-------------+-----------+-----------+------------+------------+\n",
            "|103.29313201371957|        102.0|      97.99|      110.0|       77.99|       140.0|\n",
            "+------------------+-------------+-----------+-----------+------------+------------+\n",
            "\n"
          ]
        }
      ]
    },
    {
      "cell_type": "markdown",
      "source": [
        "### **2 - Tabelas de Frequências**"
      ],
      "metadata": {
        "id": "42xkMcNGKvJ3"
      }
    },
    {
      "cell_type": "code",
      "source": [
        "# Verificando quantas cotações foram realizadas por região do Brasil\n",
        "precogas.groupBy('Regiao - Sigla').count().orderBy(col(\"count\").desc()).show()"
      ],
      "metadata": {
        "colab": {
          "base_uri": "https://localhost:8080/"
        },
        "id": "xeV1Pn-fKt2k",
        "outputId": "30ef2dfd-5344-4376-e3d9-18b0796a1471"
      },
      "execution_count": null,
      "outputs": [
        {
          "output_type": "stream",
          "name": "stdout",
          "text": [
            "+--------------+-----+\n",
            "|Regiao - Sigla|count|\n",
            "+--------------+-----+\n",
            "|            SE| 6905|\n",
            "|             S| 3037|\n",
            "|            NE| 2621|\n",
            "|            CO| 1718|\n",
            "|             N| 1484|\n",
            "+--------------+-----+\n",
            "\n"
          ]
        }
      ]
    },
    {
      "cell_type": "code",
      "source": [
        "# Cotações por Estados cruzados por Regioes do Brasil\n",
        "precogas.crosstab('Estado - Sigla', 'Regiao - Sigla').show()"
      ],
      "metadata": {
        "colab": {
          "base_uri": "https://localhost:8080/"
        },
        "id": "ZidDqm4JN4Vj",
        "outputId": "ca46d178-59e2-424e-a79c-824ef889ae52"
      },
      "execution_count": null,
      "outputs": [
        {
          "output_type": "stream",
          "name": "stdout",
          "text": [
            "+-----------------------------+---+---+---+----+----+\n",
            "|Estado - Sigla_Regiao - Sigla| CO|  N| NE|   S|  SE|\n",
            "+-----------------------------+---+---+---+----+----+\n",
            "|                           MA|  0|  0|144|   0|   0|\n",
            "|                           GO|663|  0|  0|   0|   0|\n",
            "|                           CE|  0|  0|573|   0|   0|\n",
            "|                           AC|  0|114|  0|   0|   0|\n",
            "|                           PR|  0|  0|  0|1317|   0|\n",
            "|                           DF|210|  0|  0|   0|   0|\n",
            "|                           ES|  0|  0|  0|   0| 399|\n",
            "|                           RJ|  0|  0|  0|   0| 808|\n",
            "|                           RO|  0|178|  0|   0|   0|\n",
            "|                           SP|  0|  0|  0|   0|3996|\n",
            "|                           PB|  0|  0|223|   0|   0|\n",
            "|                           SE|  0|  0| 89|   0|   0|\n",
            "|                           RR|  0| 97|  0|   0|   0|\n",
            "|                           RS|  0|  0|  0|1469|   0|\n",
            "|                           BA|  0|  0|558|   0|   0|\n",
            "|                           PI|  0|  0|137|   0|   0|\n",
            "|                           RN|  0|  0|158|   0|   0|\n",
            "|                           MT|408|  0|  0|   0|   0|\n",
            "|                           AM|  0|171|  0|   0|   0|\n",
            "|                           PA|  0|564|  0|   0|   0|\n",
            "+-----------------------------+---+---+---+----+----+\n",
            "only showing top 20 rows\n",
            "\n"
          ]
        }
      ]
    },
    {
      "cell_type": "markdown",
      "source": [
        "### **3 - Análise Estratificada**"
      ],
      "metadata": {
        "id": "GhXRoOcJXRuN"
      }
    },
    {
      "cell_type": "code",
      "source": [
        "# Verificando o preço médio por Região do Brasil\n",
        "precogas.groupBy('Regiao - Sigla').mean('Valor de Venda').show()"
      ],
      "metadata": {
        "colab": {
          "base_uri": "https://localhost:8080/"
        },
        "id": "tMRWYV8alXMz",
        "outputId": "c596a9e7-5b5b-493e-bab0-90e3dbfbbe2e"
      },
      "execution_count": null,
      "outputs": [
        {
          "output_type": "stream",
          "name": "stdout",
          "text": [
            "+--------------+-------------------+\n",
            "|Regiao - Sigla|avg(Valor de Venda)|\n",
            "+--------------+-------------------+\n",
            "|            NE|   99.8615030072564|\n",
            "|             N| 111.42243928729363|\n",
            "|             S|  104.3858051268647|\n",
            "|            SE| 101.12792719040635|\n",
            "|            CO|  108.2772406821201|\n",
            "+--------------+-------------------+\n",
            "\n"
          ]
        }
      ]
    },
    {
      "cell_type": "code",
      "source": [
        "# Verificando o preço médio por Região do Brasil\n",
        "precogas.groupBy('Estado - Sigla').min('Valor de Venda').show(27)"
      ],
      "metadata": {
        "colab": {
          "base_uri": "https://localhost:8080/"
        },
        "id": "6cj5vX2xWvVh",
        "outputId": "a91b5a9f-d2af-4156-dbdd-ca65142bf65c"
      },
      "execution_count": null,
      "outputs": [
        {
          "output_type": "stream",
          "name": "stdout",
          "text": [
            "+--------------+-------------------+\n",
            "|Estado - Sigla|min(Valor de Venda)|\n",
            "+--------------+-------------------+\n",
            "|            SC|              95.99|\n",
            "|            RO|              100.0|\n",
            "|            PI|              99.99|\n",
            "|            AM|               97.0|\n",
            "|            RR|              105.0|\n",
            "|            GO|              89.49|\n",
            "|            TO|              94.99|\n",
            "|            MT|              84.99|\n",
            "|            SP|              79.99|\n",
            "|            PB|              89.99|\n",
            "|            ES|              79.99|\n",
            "|            RS|               85.0|\n",
            "|            MS|               89.0|\n",
            "|            AL|              86.99|\n",
            "|            MG|               84.9|\n",
            "|            PA|               87.0|\n",
            "|            BA|              77.99|\n",
            "|            SE|               90.0|\n",
            "|            PE|              79.99|\n",
            "|            CE|               88.0|\n",
            "|            RN|               96.0|\n",
            "|            RJ|               78.0|\n",
            "|            MA|               95.0|\n",
            "|            AC|              110.0|\n",
            "|            DF|              89.99|\n",
            "|            PR|               81.9|\n",
            "|            AP|              110.0|\n",
            "+--------------+-------------------+\n",
            "\n"
          ]
        }
      ]
    },
    {
      "cell_type": "markdown",
      "source": [
        "### **4 - Convertendo SparkDataFrame para PandasDataFrame**\n",
        "\n",
        "* Para salvar o recorte (view) dos dados selecionados;\n",
        "* Para salvar e compartilhar com outras áreas;\n",
        "* Para criação de mapas;"
      ],
      "metadata": {
        "id": "mc7-8Lj3J7nn"
      }
    },
    {
      "cell_type": "code",
      "source": [
        "# Verificando o preço médio por Região do Brasil\n",
        "preco_por_regiao = precogas.groupBy('Regiao - Sigla').mean('Valor de Venda')\n",
        "\n",
        "# Verificando o tipo de objeto resultante\n",
        "print(type(preco_por_regiao))"
      ],
      "metadata": {
        "id": "PWo7dwgPKBSH",
        "colab": {
          "base_uri": "https://localhost:8080/"
        },
        "outputId": "2083f184-d08f-4099-bb1a-c372ca4f6193"
      },
      "execution_count": null,
      "outputs": [
        {
          "output_type": "stream",
          "name": "stdout",
          "text": [
            "<class 'pyspark.sql.dataframe.DataFrame'>\n"
          ]
        }
      ]
    },
    {
      "cell_type": "code",
      "source": [
        "# Gerando um grafico\n",
        "import pyspark.pyplot \n",
        "\n",
        "preco_por_regiao.plot()"
      ],
      "metadata": {
        "id": "d32--H9_rng2",
        "colab": {
          "base_uri": "https://localhost:8080/",
          "height": 357
        },
        "outputId": "9eac7aa8-4129-4409-ac1b-c5ec205a5103"
      },
      "execution_count": null,
      "outputs": [
        {
          "output_type": "error",
          "ename": "ModuleNotFoundError",
          "evalue": "ignored",
          "traceback": [
            "\u001b[0;31m---------------------------------------------------------------------------\u001b[0m",
            "\u001b[0;31mModuleNotFoundError\u001b[0m                       Traceback (most recent call last)",
            "\u001b[0;32m<ipython-input-71-4161e7471329>\u001b[0m in \u001b[0;36m<module>\u001b[0;34m\u001b[0m\n\u001b[1;32m      1\u001b[0m \u001b[0;31m# Gerando um grafico\u001b[0m\u001b[0;34m\u001b[0m\u001b[0;34m\u001b[0m\u001b[0;34m\u001b[0m\u001b[0m\n\u001b[0;32m----> 2\u001b[0;31m \u001b[0;32mimport\u001b[0m \u001b[0mpyspark\u001b[0m\u001b[0;34m.\u001b[0m\u001b[0mpyplot\u001b[0m\u001b[0;34m\u001b[0m\u001b[0;34m\u001b[0m\u001b[0m\n\u001b[0m\u001b[1;32m      3\u001b[0m \u001b[0;34m\u001b[0m\u001b[0m\n\u001b[1;32m      4\u001b[0m \u001b[0mpreco_por_regiao\u001b[0m\u001b[0;34m.\u001b[0m\u001b[0mplot\u001b[0m\u001b[0;34m(\u001b[0m\u001b[0;34m)\u001b[0m\u001b[0;34m\u001b[0m\u001b[0;34m\u001b[0m\u001b[0m\n",
            "\u001b[0;31mModuleNotFoundError\u001b[0m: No module named 'pyspark.pyplot'",
            "",
            "\u001b[0;31m---------------------------------------------------------------------------\u001b[0;32m\nNOTE: If your import is failing due to a missing package, you can\nmanually install dependencies using either !pip or !apt.\n\nTo view examples of installing some common dependencies, click the\n\"Open Examples\" button below.\n\u001b[0;31m---------------------------------------------------------------------------\u001b[0m\n"
          ],
          "errorDetails": {
            "actions": [
              {
                "action": "open_url",
                "actionText": "Open Examples",
                "url": "/notebooks/snippets/importing_libraries.ipynb"
              }
            ]
          }
        }
      ]
    },
    {
      "cell_type": "markdown",
      "source": [
        "O SparkDataframe não tem métodos associados a Ele para fazer gráfico. Portanto, uma estratégia é transformar o resultado em um pandasDataFrame e utilizar os recursos das bibliotecas de gráficos, inlcuindo os métodos de gráficos do próprio Pandas"
      ],
      "metadata": {
        "id": "qa3oORplrHfU"
      }
    },
    {
      "cell_type": "code",
      "source": [
        "# Verificando o preço médio por Região do Brasil\n",
        "preco_por_regiao_pd = precogas.groupBy('Regiao - Sigla').mean('Valor de Venda').toPandas()\n",
        "\n",
        "# Verificando o tipo de objeto resultante\n",
        "print(type(preco_por_regiao_pd))\n",
        "preco_por_regiao_pd"
      ],
      "metadata": {
        "colab": {
          "base_uri": "https://localhost:8080/",
          "height": 224
        },
        "id": "sNbzU3Uaq27O",
        "outputId": "32c37477-9760-4df3-b7d3-84eb18fa5ebb"
      },
      "execution_count": null,
      "outputs": [
        {
          "output_type": "stream",
          "name": "stdout",
          "text": [
            "<class 'pandas.core.frame.DataFrame'>\n"
          ]
        },
        {
          "output_type": "execute_result",
          "data": {
            "text/plain": [
              "  Regiao - Sigla  avg(Valor de Venda)\n",
              "0             NE            99.861503\n",
              "1              N           111.422439\n",
              "2              S           104.385805\n",
              "3             SE           101.127927\n",
              "4             CO           108.277241"
            ],
            "text/html": [
              "\n",
              "  <div id=\"df-9130bf4a-5d28-4bea-8edc-f197c75b80ee\">\n",
              "    <div class=\"colab-df-container\">\n",
              "      <div>\n",
              "<style scoped>\n",
              "    .dataframe tbody tr th:only-of-type {\n",
              "        vertical-align: middle;\n",
              "    }\n",
              "\n",
              "    .dataframe tbody tr th {\n",
              "        vertical-align: top;\n",
              "    }\n",
              "\n",
              "    .dataframe thead th {\n",
              "        text-align: right;\n",
              "    }\n",
              "</style>\n",
              "<table border=\"1\" class=\"dataframe\">\n",
              "  <thead>\n",
              "    <tr style=\"text-align: right;\">\n",
              "      <th></th>\n",
              "      <th>Regiao - Sigla</th>\n",
              "      <th>avg(Valor de Venda)</th>\n",
              "    </tr>\n",
              "  </thead>\n",
              "  <tbody>\n",
              "    <tr>\n",
              "      <th>0</th>\n",
              "      <td>NE</td>\n",
              "      <td>99.861503</td>\n",
              "    </tr>\n",
              "    <tr>\n",
              "      <th>1</th>\n",
              "      <td>N</td>\n",
              "      <td>111.422439</td>\n",
              "    </tr>\n",
              "    <tr>\n",
              "      <th>2</th>\n",
              "      <td>S</td>\n",
              "      <td>104.385805</td>\n",
              "    </tr>\n",
              "    <tr>\n",
              "      <th>3</th>\n",
              "      <td>SE</td>\n",
              "      <td>101.127927</td>\n",
              "    </tr>\n",
              "    <tr>\n",
              "      <th>4</th>\n",
              "      <td>CO</td>\n",
              "      <td>108.277241</td>\n",
              "    </tr>\n",
              "  </tbody>\n",
              "</table>\n",
              "</div>\n",
              "      <button class=\"colab-df-convert\" onclick=\"convertToInteractive('df-9130bf4a-5d28-4bea-8edc-f197c75b80ee')\"\n",
              "              title=\"Convert this dataframe to an interactive table.\"\n",
              "              style=\"display:none;\">\n",
              "        \n",
              "  <svg xmlns=\"http://www.w3.org/2000/svg\" height=\"24px\"viewBox=\"0 0 24 24\"\n",
              "       width=\"24px\">\n",
              "    <path d=\"M0 0h24v24H0V0z\" fill=\"none\"/>\n",
              "    <path d=\"M18.56 5.44l.94 2.06.94-2.06 2.06-.94-2.06-.94-.94-2.06-.94 2.06-2.06.94zm-11 1L8.5 8.5l.94-2.06 2.06-.94-2.06-.94L8.5 2.5l-.94 2.06-2.06.94zm10 10l.94 2.06.94-2.06 2.06-.94-2.06-.94-.94-2.06-.94 2.06-2.06.94z\"/><path d=\"M17.41 7.96l-1.37-1.37c-.4-.4-.92-.59-1.43-.59-.52 0-1.04.2-1.43.59L10.3 9.45l-7.72 7.72c-.78.78-.78 2.05 0 2.83L4 21.41c.39.39.9.59 1.41.59.51 0 1.02-.2 1.41-.59l7.78-7.78 2.81-2.81c.8-.78.8-2.07 0-2.86zM5.41 20L4 18.59l7.72-7.72 1.47 1.35L5.41 20z\"/>\n",
              "  </svg>\n",
              "      </button>\n",
              "      \n",
              "  <style>\n",
              "    .colab-df-container {\n",
              "      display:flex;\n",
              "      flex-wrap:wrap;\n",
              "      gap: 12px;\n",
              "    }\n",
              "\n",
              "    .colab-df-convert {\n",
              "      background-color: #E8F0FE;\n",
              "      border: none;\n",
              "      border-radius: 50%;\n",
              "      cursor: pointer;\n",
              "      display: none;\n",
              "      fill: #1967D2;\n",
              "      height: 32px;\n",
              "      padding: 0 0 0 0;\n",
              "      width: 32px;\n",
              "    }\n",
              "\n",
              "    .colab-df-convert:hover {\n",
              "      background-color: #E2EBFA;\n",
              "      box-shadow: 0px 1px 2px rgba(60, 64, 67, 0.3), 0px 1px 3px 1px rgba(60, 64, 67, 0.15);\n",
              "      fill: #174EA6;\n",
              "    }\n",
              "\n",
              "    [theme=dark] .colab-df-convert {\n",
              "      background-color: #3B4455;\n",
              "      fill: #D2E3FC;\n",
              "    }\n",
              "\n",
              "    [theme=dark] .colab-df-convert:hover {\n",
              "      background-color: #434B5C;\n",
              "      box-shadow: 0px 1px 3px 1px rgba(0, 0, 0, 0.15);\n",
              "      filter: drop-shadow(0px 1px 2px rgba(0, 0, 0, 0.3));\n",
              "      fill: #FFFFFF;\n",
              "    }\n",
              "  </style>\n",
              "\n",
              "      <script>\n",
              "        const buttonEl =\n",
              "          document.querySelector('#df-9130bf4a-5d28-4bea-8edc-f197c75b80ee button.colab-df-convert');\n",
              "        buttonEl.style.display =\n",
              "          google.colab.kernel.accessAllowed ? 'block' : 'none';\n",
              "\n",
              "        async function convertToInteractive(key) {\n",
              "          const element = document.querySelector('#df-9130bf4a-5d28-4bea-8edc-f197c75b80ee');\n",
              "          const dataTable =\n",
              "            await google.colab.kernel.invokeFunction('convertToInteractive',\n",
              "                                                     [key], {});\n",
              "          if (!dataTable) return;\n",
              "\n",
              "          const docLinkHtml = 'Like what you see? Visit the ' +\n",
              "            '<a target=\"_blank\" href=https://colab.research.google.com/notebooks/data_table.ipynb>data table notebook</a>'\n",
              "            + ' to learn more about interactive tables.';\n",
              "          element.innerHTML = '';\n",
              "          dataTable['output_type'] = 'display_data';\n",
              "          await google.colab.output.renderOutput(dataTable, element);\n",
              "          const docLink = document.createElement('div');\n",
              "          docLink.innerHTML = docLinkHtml;\n",
              "          element.appendChild(docLink);\n",
              "        }\n",
              "      </script>\n",
              "    </div>\n",
              "  </div>\n",
              "  "
            ]
          },
          "metadata": {},
          "execution_count": 60
        }
      ]
    },
    {
      "cell_type": "code",
      "source": [
        "# Gerando um grafico\n",
        "preco_por_regiao.ps.plot.bar(\n",
        "    x = 'Regiao - Sigla', \n",
        "    y = 'avg(Valor de Venda)')"
      ],
      "metadata": {
        "colab": {
          "base_uri": "https://localhost:8080/",
          "height": 339
        },
        "id": "0fzoEN6krzGd",
        "outputId": "2bb1d685-eb98-45b8-a737-f870abcb105e"
      },
      "execution_count": null,
      "outputs": [
        {
          "output_type": "error",
          "ename": "AttributeError",
          "evalue": "ignored",
          "traceback": [
            "\u001b[0;31m---------------------------------------------------------------------------\u001b[0m",
            "\u001b[0;31mAttributeError\u001b[0m                            Traceback (most recent call last)",
            "\u001b[0;32m<ipython-input-63-695f25ba5045>\u001b[0m in \u001b[0;36m<module>\u001b[0;34m\u001b[0m\n\u001b[1;32m      1\u001b[0m \u001b[0;31m# Gerando um grafico\u001b[0m\u001b[0;34m\u001b[0m\u001b[0;34m\u001b[0m\u001b[0;34m\u001b[0m\u001b[0m\n\u001b[0;32m----> 2\u001b[0;31m preco_por_regiao.ps.plot.bar(\n\u001b[0m\u001b[1;32m      3\u001b[0m     \u001b[0mx\u001b[0m \u001b[0;34m=\u001b[0m \u001b[0;34m'Regiao - Sigla'\u001b[0m\u001b[0;34m,\u001b[0m\u001b[0;34m\u001b[0m\u001b[0;34m\u001b[0m\u001b[0m\n\u001b[1;32m      4\u001b[0m     y = 'avg(Valor de Venda)')\n",
            "\u001b[0;32m/content/spark-3.1.2-bin-hadoop2.7/python/pyspark/sql/dataframe.py\u001b[0m in \u001b[0;36m__getattr__\u001b[0;34m(self, name)\u001b[0m\n\u001b[1;32m   1642\u001b[0m         \u001b[0;32mif\u001b[0m \u001b[0mname\u001b[0m \u001b[0;32mnot\u001b[0m \u001b[0;32min\u001b[0m \u001b[0mself\u001b[0m\u001b[0;34m.\u001b[0m\u001b[0mcolumns\u001b[0m\u001b[0;34m:\u001b[0m\u001b[0;34m\u001b[0m\u001b[0;34m\u001b[0m\u001b[0m\n\u001b[1;32m   1643\u001b[0m             raise AttributeError(\n\u001b[0;32m-> 1644\u001b[0;31m                 \"'%s' object has no attribute '%s'\" % (self.__class__.__name__, name))\n\u001b[0m\u001b[1;32m   1645\u001b[0m         \u001b[0mjc\u001b[0m \u001b[0;34m=\u001b[0m \u001b[0mself\u001b[0m\u001b[0;34m.\u001b[0m\u001b[0m_jdf\u001b[0m\u001b[0;34m.\u001b[0m\u001b[0mapply\u001b[0m\u001b[0;34m(\u001b[0m\u001b[0mname\u001b[0m\u001b[0;34m)\u001b[0m\u001b[0;34m\u001b[0m\u001b[0;34m\u001b[0m\u001b[0m\n\u001b[1;32m   1646\u001b[0m         \u001b[0;32mreturn\u001b[0m \u001b[0mColumn\u001b[0m\u001b[0;34m(\u001b[0m\u001b[0mjc\u001b[0m\u001b[0;34m)\u001b[0m\u001b[0;34m\u001b[0m\u001b[0;34m\u001b[0m\u001b[0m\n",
            "\u001b[0;31mAttributeError\u001b[0m: 'DataFrame' object has no attribute 'ps'"
          ]
        }
      ]
    },
    {
      "cell_type": "code",
      "source": [
        "# Pegando informações de preço e Regiao\n",
        "preco_regiao = precogas.select(col('Regiao - Sigla').alias('regiao'), col('Valor de Venda').alias('preco')).toPandas()\n",
        "\n",
        "# Importando as bibliotecas graficas\n",
        "import seaborn as sns\n",
        "import matplotlib.pyplot as plt\n",
        "\n",
        "# Gerando o boxplot\n",
        "plt.figure(figsize = (8,8))\n",
        "sns.boxplot(data=preco_regiao, y = 'preco', x = 'regiao', \n",
        "            orient = 'v', palette = 'Set2', fliersize = 1, \n",
        "            width=0.5, saturation=1)\n",
        "plt.show()"
      ],
      "metadata": {
        "colab": {
          "base_uri": "https://localhost:8080/",
          "height": 497
        },
        "id": "QGL4J0ARw-uy",
        "outputId": "ce80f218-2f7d-4072-b496-7e5f0440c8a5"
      },
      "execution_count": null,
      "outputs": [
        {
          "output_type": "display_data",
          "data": {
            "text/plain": [
              "<Figure size 576x576 with 1 Axes>"
            ],
            "image/png": "[encoded data removed]"
          },
          "metadata": {
            "needs_background": "light"
          }
        }
      ]
    },
    {
      "cell_type": "markdown",
      "source": [
        "## **Comentários Finais**"
      ],
      "metadata": {
        "id": "Q6UPRVH3ogNW"
      }
    },
    {
      "cell_type": "markdown",
      "source": [
        "A documentação oficial do PySpark é extremamente útil e pode ser acessada em:\n",
        "https://spark.apache.org/docs/latest/api/python/reference/\n",
        "\n",
        "Ainda existem outros sites que podem ajudar a encontrar exemplos e tirar dúvidas de métodos e funções como:\n",
        "\n",
        "https://sparkbyexamples.com/pyspark/"
      ],
      "metadata": {
        "id": "hB49rllmomsd"
      }
    },
    {
      "cell_type": "markdown",
      "source": [
        "\n",
        "\n",
        "---\n",
        "\n"
      ],
      "metadata": {
        "id": "rp-WTxMjlk-n"
      }
    },
    {
      "cell_type": "markdown",
      "source": [
        "# <font color=orange><b>MATERIAL AULAS</b></font>"
      ],
      "metadata": {
        "id": "bnhKusNFll8b"
      }
    }
  ]
}