{
  "cells": [
    {
      "cell_type": "markdown",
      "metadata": {
        "id": "view-in-github",
        "colab_type": "text"
      },
      "source": [
        "<a href=\"https://colab.research.google.com/github/mbaliu-treino/Desenvolve/blob/main/LEANR_C_Estat%C3%ADstica_4_Correlacao_e_Regressao.ipynb\" target=\"_parent\"><img src=\"https://colab.research.google.com/assets/colab-badge.svg\" alt=\"Open In Colab\"/></a>"
      ]
    },
    {
      "cell_type": "markdown",
      "source": [
        "# <font color=orange><b>Estatística com Python: Correlação e Regressão</b></font>\n",
        "\n",
        "<a href=\"https://colab.research.google.com/drive/1jpFB2K_R56rJTujzB-VzAaB7lXZNqNUA?authuser=1#scrollTo=JSeHxPLGhvUz\"><font size=2; color=gray>Arquivo Colab</a></font>\n",
        "\n",
        "<ul><font size=2 color=gray>FICHA TÉCNICA\n",
        "<li><a href=\"https://cursos.alura.com.br/course/estatistica-correlacao-regressao\"><font size=2 color=gray>Estatística com Python: Correlação e Regressão</a>\n",
        "<li>Carga Horária: 10 h\n",
        "<li>Instrutora: Rodrigo Fernando Dias\n",
        "<li>Data de Início: 12-2022\n",
        "</ul>\n",
        "\n",
        "\n",
        "Este notebook é o resultado do material de apoio com anotações próprias sobre o conteúdo de correlação e regressão linear.\n",
        "\n",
        "* Exemplos [StatsModels](https://www.statsmodels.org/dev/examples/index.html)"
      ],
      "metadata": {
        "id": "JSeHxPLGhvUz"
      }
    },
    {
      "cell_type": "markdown",
      "source": [
        "## <font color=orange><b>Conteúdo</b></font>\n",
        "\n",
        "* "
      ],
      "metadata": {
        "id": "Rs0aFUuS6P56"
      }
    },
    {
      "cell_type": "markdown",
      "source": [
        "A obter uma matriz de covariância;\n",
        "O coeficiente de correlação de Pearson;\n",
        "A obter uma matriz de correlação;\n",
        "A interpretar os coeficientes de covariância e correlação.\n",
        "As definições básicas de uma regressão linear simples;\n",
        "O método de mínimos quadrados ordinários, para a obtenção dos parâmetros do modelo;\n",
        "A estimar os parâmetros com o uso do ferramental da biblioteca statsmodels;\n",
        "A calcular previsões dentro e fora da amostra."
      ],
      "metadata": {
        "id": "5m3D_p54avxk"
      }
    },
    {
      "cell_type": "markdown",
      "source": [
        "## <font color=orange><b>Metodologia</b></font>\n",
        "\n",
        "<font color=orange><b>5 ETAPAS DE TESTE DE HIPÓTESE</b></font>\n",
        "1. \n"
      ],
      "metadata": {
        "id": "NUQXYu7FQfMw"
      }
    },
    {
      "cell_type": "markdown",
      "source": [
        "# <font color=orange><b>CURSO</b></font>\n"
      ],
      "metadata": {
        "id": "ARUfEjcsnUvf"
      }
    },
    {
      "cell_type": "code",
      "source": [
        "# Verificação das versões\n",
        "import pandas as pd\n",
        "import numpy as np\n",
        "import scipy\n",
        "import statsmodels as sm\n",
        "import matplotlib\n",
        "import seaborn as sns\n",
        "import matplotlib.pyplot as plt\n",
        "\n",
        "\n",
        "print('Versão do pandas -> %s' % pd.__version__)\n",
        "print('Versão do numpy -> %s' % np.__version__)\n",
        "print('Versão do scipy -> %s' % scipy.__version__)\n",
        "print('Versão do statsmodels -> %s' % sm.__version__)\n",
        "print('Versão do seaborn -> %s' % sns.__version__)\n",
        "print('Versão do matplotlib -> %s' % matplotlib.__version__)"
      ],
      "metadata": {
        "colab": {
          "base_uri": "https://localhost:8080/"
        },
        "id": "B4ZPk5PRDY-r",
        "outputId": "146e1b04-b4a9-495f-e9a8-1adcc8495798"
      },
      "execution_count": null,
      "outputs": [
        {
          "output_type": "stream",
          "name": "stdout",
          "text": [
            "Versão do pandas -> 1.3.5\n",
            "Versão do numpy -> 1.21.6\n",
            "Versão do scipy -> 1.7.3\n",
            "Versão do statsmodels -> 0.12.2\n",
            "Versão do seaborn -> 0.11.2\n",
            "Versão do matplotlib -> 3.2.2\n"
          ]
        }
      ]
    },
    {
      "cell_type": "code",
      "source": [
        "import statsmodels.api"
      ],
      "metadata": {
        "id": "xYtCcOcfjvUs"
      },
      "execution_count": null,
      "outputs": []
    },
    {
      "cell_type": "markdown",
      "metadata": {
        "id": "cVgsZ_E3jQKg"
      },
      "source": [
        "# <font color=orange>1 CONHECENDO OS DADOS</font>\n",
        "***"
      ]
    },
    {
      "cell_type": "markdown",
      "metadata": {
        "id": "TDjqYYNojQKh"
      },
      "source": [
        "## <font color=orange>1.1 Dataset do projeto</font>\n",
        "***"
      ]
    },
    {
      "cell_type": "markdown",
      "metadata": {
        "id": "iN1gIbaKjQKh"
      },
      "source": [
        "### Pesquisa Nacional por Amostra de Domicílios - 2015\n",
        "\n",
        "A <b>Pesquisa Nacional por Amostra de Domicílios - PNAD</b> investiga anualmente, de forma permanente, características gerais da população, de educação, trabalho, rendimento e habitação e outras, com periodicidade variável, de acordo com as necessidades de informação para o país, como as características sobre migração, fecundidade, nupcialidade, saúde, segurança alimentar, entre outros temas. O levantamento dessas estatísticas constitui, ao longo dos 49 anos de realização da pesquisa, um importante instrumento para formulação, validação e avaliação de políticas orientadas para o desenvolvimento socioeconômico e a melhoria das condições de vida no Brasil."
      ]
    },
    {
      "cell_type": "markdown",
      "metadata": {
        "id": "U6V7br1RjQKi"
      },
      "source": [
        "**Fonte dos Dados**\n",
        "\n",
        "https://ww2.ibge.gov.br/home/estatistica/populacao/trabalhoerendimento/pnad2015/microdados.shtm"
      ]
    },
    {
      "cell_type": "markdown",
      "metadata": {
        "id": "r0Fe_qnzjQKj"
      },
      "source": [
        "**Variáveis utilizadas**\n",
        "\n",
        "> Renda\n",
        "> ***\n",
        "\n",
        "Rendimento mensal do trabalho principal para pessoas de 10 anos ou mais de idade.\n",
        "\n",
        "> Idade\n",
        "> ***\n",
        "\n",
        "Idade do morador na data de referência em anos.\n",
        "\n",
        "> Altura (elaboração própria)\n",
        "> ***\n",
        "\n",
        "Altura do morador em metros.\n",
        "\n",
        "> UF\n",
        "> ***\n",
        "\n",
        "|Código|Descrição|\n",
        "|---|---|\n",
        "|11|Rondônia|\n",
        "|12|Acre|\n",
        "|13|Amazonas|\n",
        "|14|Roraima|\n",
        "|15|Pará|\n",
        "|16|Amapá|\n",
        "|17|Tocantins|\n",
        "|21|Maranhão|\n",
        "|22|Piauí|\n",
        "|23|Ceará|\n",
        "|24|Rio Grande do Norte|\n",
        "|25|Paraíba|\n",
        "|26|Pernambuco|\n",
        "|27|Alagoas|\n",
        "|28|Sergipe|\n",
        "|29|Bahia|\n",
        "|31|Minas Gerais|\n",
        "|32|Espírito Santo|\n",
        "|33|Rio de Janeiro|\n",
        "|35|São Paulo|\n",
        "|41|Paraná|\n",
        "|42|Santa Catarina|\n",
        "|43|Rio Grande do Sul|\n",
        "|50|Mato Grosso do Sul|\n",
        "|51|Mato Grosso|\n",
        "|52|Goiás|\n",
        "|53|Distrito Federal|\n",
        "\n",
        "> Sexo\t\n",
        "> ***\n",
        "\n",
        "|Código|Descrição|\n",
        "|---|---|\n",
        "|0|Masculino|\n",
        "|1|Feminino|\n",
        "\n",
        "> Anos de Estudo\n",
        "> ***\n",
        "\n",
        "|Código|Descrição|\n",
        "|---|---|\n",
        "|1|Sem instrução e menos de 1 ano|\n",
        "|2|1 ano|\n",
        "|3|2 anos|\n",
        "|4|3 anos|\n",
        "|5|4 anos|\n",
        "|6|5 anos|\n",
        "|7|6 anos|\n",
        "|8|7 anos|\n",
        "|9|8 anos|\n",
        "|10|9 anos|\n",
        "|11|10 anos|\n",
        "|12|11 anos|\n",
        "|13|12 anos|\n",
        "|14|13 anos|\n",
        "|15|14 anos|\n",
        "|16|15 anos ou mais|\n",
        "|17|Não determinados| \n",
        "||Não aplicável|\n",
        "\n",
        "> Cor\n",
        "> ***\n",
        "\n",
        "|Código|Descrição|\n",
        "|---|---|\n",
        "|0|Indígena|\n",
        "|2|Branca|\n",
        "|4|Preta|\n",
        "|6|Amarela|\n",
        "|8|Parda|\n",
        "|9|Sem declaração|"
      ]
    },
    {
      "cell_type": "markdown",
      "metadata": {
        "id": "OK1IQH5cX7Gb"
      },
      "source": [
        "<font color='red'>Observação</font>\n",
        "***\n",
        "> Os seguintes tratamentos foram realizados nos dados originais:\n",
        "> 1. Foram eliminados os registros onde a <b>Renda</b> era inválida (999 999 999 999);\n",
        "> 2. Foram eliminados os registros onde a <b>Renda</b> era missing;\n",
        "> 3. Foram considerados somente os registros das <b>Pessoas de Referência</b> de cada domicílio (responsável pelo domicílio)."
      ]
    },
    {
      "cell_type": "markdown",
      "metadata": {
        "id": "8Rw70V6ojQKk"
      },
      "source": [
        "### Lendo o dataset do projeto"
      ]
    },
    {
      "cell_type": "code",
      "source": [
        "from google.colab import drive\n",
        "drive.mount('/content/drive')"
      ],
      "metadata": {
        "colab": {
          "base_uri": "https://localhost:8080/"
        },
        "id": "kHcVvsMiELow",
        "outputId": "c69f0367-67c1-4b40-83f9-d6e046caa3e6"
      },
      "execution_count": null,
      "outputs": [
        {
          "output_type": "stream",
          "name": "stdout",
          "text": [
            "Mounted at /content/drive\n"
          ]
        }
      ]
    },
    {
      "cell_type": "code",
      "execution_count": null,
      "metadata": {
        "colab": {
          "base_uri": "https://localhost:8080/",
          "height": 206
        },
        "id": "8QgOpE-wjQKl",
        "outputId": "054ea56a-0928-4036-82a4-38b1d621ab31"
      },
      "outputs": [
        {
          "output_type": "execute_result",
          "data": {
            "text/plain": [
              "   UF  Sexo  Idade  Cor  Anos de Estudo  Renda    Altura\n",
              "0  11     0     23    8              12    800  1.603808\n",
              "1  11     1     23    2              12   1150  1.739790\n",
              "2  11     1     35    8              15    880  1.760444\n",
              "3  11     0     46    2               6   3500  1.783158\n",
              "4  11     1     47    8               9    150  1.690631"
            ],
            "text/html": [
              "\n",
              "  <div id=\"df-672fbb12-6c05-45c3-95f9-800045210429\">\n",
              "    <div class=\"colab-df-container\">\n",
              "      <div>\n",
              "<style scoped>\n",
              "    .dataframe tbody tr th:only-of-type {\n",
              "        vertical-align: middle;\n",
              "    }\n",
              "\n",
              "    .dataframe tbody tr th {\n",
              "        vertical-align: top;\n",
              "    }\n",
              "\n",
              "    .dataframe thead th {\n",
              "        text-align: right;\n",
              "    }\n",
              "</style>\n",
              "<table border=\"1\" class=\"dataframe\">\n",
              "  <thead>\n",
              "    <tr style=\"text-align: right;\">\n",
              "      <th></th>\n",
              "      <th>UF</th>\n",
              "      <th>Sexo</th>\n",
              "      <th>Idade</th>\n",
              "      <th>Cor</th>\n",
              "      <th>Anos de Estudo</th>\n",
              "      <th>Renda</th>\n",
              "      <th>Altura</th>\n",
              "    </tr>\n",
              "  </thead>\n",
              "  <tbody>\n",
              "    <tr>\n",
              "      <th>0</th>\n",
              "      <td>11</td>\n",
              "      <td>0</td>\n",
              "      <td>23</td>\n",
              "      <td>8</td>\n",
              "      <td>12</td>\n",
              "      <td>800</td>\n",
              "      <td>1.603808</td>\n",
              "    </tr>\n",
              "    <tr>\n",
              "      <th>1</th>\n",
              "      <td>11</td>\n",
              "      <td>1</td>\n",
              "      <td>23</td>\n",
              "      <td>2</td>\n",
              "      <td>12</td>\n",
              "      <td>1150</td>\n",
              "      <td>1.739790</td>\n",
              "    </tr>\n",
              "    <tr>\n",
              "      <th>2</th>\n",
              "      <td>11</td>\n",
              "      <td>1</td>\n",
              "      <td>35</td>\n",
              "      <td>8</td>\n",
              "      <td>15</td>\n",
              "      <td>880</td>\n",
              "      <td>1.760444</td>\n",
              "    </tr>\n",
              "    <tr>\n",
              "      <th>3</th>\n",
              "      <td>11</td>\n",
              "      <td>0</td>\n",
              "      <td>46</td>\n",
              "      <td>2</td>\n",
              "      <td>6</td>\n",
              "      <td>3500</td>\n",
              "      <td>1.783158</td>\n",
              "    </tr>\n",
              "    <tr>\n",
              "      <th>4</th>\n",
              "      <td>11</td>\n",
              "      <td>1</td>\n",
              "      <td>47</td>\n",
              "      <td>8</td>\n",
              "      <td>9</td>\n",
              "      <td>150</td>\n",
              "      <td>1.690631</td>\n",
              "    </tr>\n",
              "  </tbody>\n",
              "</table>\n",
              "</div>\n",
              "      <button class=\"colab-df-convert\" onclick=\"convertToInteractive('df-672fbb12-6c05-45c3-95f9-800045210429')\"\n",
              "              title=\"Convert this dataframe to an interactive table.\"\n",
              "              style=\"display:none;\">\n",
              "        \n",
              "  <svg xmlns=\"http://www.w3.org/2000/svg\" height=\"24px\"viewBox=\"0 0 24 24\"\n",
              "       width=\"24px\">\n",
              "    <path d=\"M0 0h24v24H0V0z\" fill=\"none\"/>\n",
              "    <path d=\"M18.56 5.44l.94 2.06.94-2.06 2.06-.94-2.06-.94-.94-2.06-.94 2.06-2.06.94zm-11 1L8.5 8.5l.94-2.06 2.06-.94-2.06-.94L8.5 2.5l-.94 2.06-2.06.94zm10 10l.94 2.06.94-2.06 2.06-.94-2.06-.94-.94-2.06-.94 2.06-2.06.94z\"/><path d=\"M17.41 7.96l-1.37-1.37c-.4-.4-.92-.59-1.43-.59-.52 0-1.04.2-1.43.59L10.3 9.45l-7.72 7.72c-.78.78-.78 2.05 0 2.83L4 21.41c.39.39.9.59 1.41.59.51 0 1.02-.2 1.41-.59l7.78-7.78 2.81-2.81c.8-.78.8-2.07 0-2.86zM5.41 20L4 18.59l7.72-7.72 1.47 1.35L5.41 20z\"/>\n",
              "  </svg>\n",
              "      </button>\n",
              "      \n",
              "  <style>\n",
              "    .colab-df-container {\n",
              "      display:flex;\n",
              "      flex-wrap:wrap;\n",
              "      gap: 12px;\n",
              "    }\n",
              "\n",
              "    .colab-df-convert {\n",
              "      background-color: #E8F0FE;\n",
              "      border: none;\n",
              "      border-radius: 50%;\n",
              "      cursor: pointer;\n",
              "      display: none;\n",
              "      fill: #1967D2;\n",
              "      height: 32px;\n",
              "      padding: 0 0 0 0;\n",
              "      width: 32px;\n",
              "    }\n",
              "\n",
              "    .colab-df-convert:hover {\n",
              "      background-color: #E2EBFA;\n",
              "      box-shadow: 0px 1px 2px rgba(60, 64, 67, 0.3), 0px 1px 3px 1px rgba(60, 64, 67, 0.15);\n",
              "      fill: #174EA6;\n",
              "    }\n",
              "\n",
              "    [theme=dark] .colab-df-convert {\n",
              "      background-color: #3B4455;\n",
              "      fill: #D2E3FC;\n",
              "    }\n",
              "\n",
              "    [theme=dark] .colab-df-convert:hover {\n",
              "      background-color: #434B5C;\n",
              "      box-shadow: 0px 1px 3px 1px rgba(0, 0, 0, 0.15);\n",
              "      filter: drop-shadow(0px 1px 2px rgba(0, 0, 0, 0.3));\n",
              "      fill: #FFFFFF;\n",
              "    }\n",
              "  </style>\n",
              "\n",
              "      <script>\n",
              "        const buttonEl =\n",
              "          document.querySelector('#df-672fbb12-6c05-45c3-95f9-800045210429 button.colab-df-convert');\n",
              "        buttonEl.style.display =\n",
              "          google.colab.kernel.accessAllowed ? 'block' : 'none';\n",
              "\n",
              "        async function convertToInteractive(key) {\n",
              "          const element = document.querySelector('#df-672fbb12-6c05-45c3-95f9-800045210429');\n",
              "          const dataTable =\n",
              "            await google.colab.kernel.invokeFunction('convertToInteractive',\n",
              "                                                     [key], {});\n",
              "          if (!dataTable) return;\n",
              "\n",
              "          const docLinkHtml = 'Like what you see? Visit the ' +\n",
              "            '<a target=\"_blank\" href=https://colab.research.google.com/notebooks/data_table.ipynb>data table notebook</a>'\n",
              "            + ' to learn more about interactive tables.';\n",
              "          element.innerHTML = '';\n",
              "          dataTable['output_type'] = 'display_data';\n",
              "          await google.colab.output.renderOutput(dataTable, element);\n",
              "          const docLink = document.createElement('div');\n",
              "          docLink.innerHTML = docLinkHtml;\n",
              "          element.appendChild(docLink);\n",
              "        }\n",
              "      </script>\n",
              "    </div>\n",
              "  </div>\n",
              "  "
            ]
          },
          "metadata": {},
          "execution_count": 4
        }
      ],
      "source": [
        "# Carregamento no Pandas\n",
        "dados = pd.read_csv('/content/drive/MyDrive/Projetos/LEARNING/DADOS/PNAD_2015.csv', sep=',')\n",
        "dados.head()"
      ]
    },
    {
      "cell_type": "markdown",
      "metadata": {
        "id": "I8SZvx_GcajO"
      },
      "source": [
        "---"
      ]
    },
    {
      "cell_type": "markdown",
      "metadata": {
        "id": "dPTT675fcajP"
      },
      "source": [
        "# <font color=orange>2 RODANDO UMA REGRESSÃO LINEAR</font>\n",
        "***"
      ]
    },
    {
      "cell_type": "markdown",
      "metadata": {
        "id": "yRxm2BrFcajQ"
      },
      "source": [
        "**Dataset de exemplo**\n",
        "\n",
        "Um dataset real exige alguns tratamentos de outliers ou da forma funcional, o que atrapalha o foco no algorítmo de ML. Então aqui será testado um conjunto já tratado.\n",
        "\n",
        "> * $Y$ = Gasto das famílias\n",
        "> * $X$ = Renda das Famílias"
      ]
    },
    {
      "cell_type": "code",
      "execution_count": null,
      "metadata": {
        "id": "TvENegfwcajQ"
      },
      "outputs": [],
      "source": [
        "dataset = {\n",
        "    'Y': [3011, 1305, 1879, 2654, 2849, 1068, 2892, 2543, 3074, 849, 2184, 2943, 1357, 2755, 2163, 3099, 1600, 353, 1778, 740, 2129, 3302, 2412, 2683, 2515, 2395, 2292, 1000, 600, 1864, 3027, 1978, 2791, 1982, 900, 1964, 1247, 3067, 700, 1500, 3110, 2644, 1378, 2601, 501, 1292, 2125, 1431, 2260, 1770],\n",
        "    'X': [9714, 3728, 6062, 8845, 8378, 3338, 8507, 7947, 9915, 1632, 6825, 8918, 4100, 9184, 6180, 9997, 4500, 1069, 5925, 2466, 6083, 9712, 7780, 8383, 7185, 7483, 7640, 2100, 2000, 6012, 8902, 5345, 8210, 5662, 2700, 6546, 2900, 9894, 1500, 5000, 8885, 8813, 3446, 7881, 1164, 3401, 6641, 3329, 6648, 4800]\n",
        "}"
      ]
    },
    {
      "cell_type": "code",
      "execution_count": null,
      "metadata": {
        "colab": {
          "base_uri": "https://localhost:8080/",
          "height": 206
        },
        "id": "HfeWvtFWcajT",
        "outputId": "361fa198-dc71-4d4d-dece-b97254333dd8"
      },
      "outputs": [
        {
          "output_type": "execute_result",
          "data": {
            "text/plain": [
              "      Y     X\n",
              "0  3011  9714\n",
              "1  1305  3728\n",
              "2  1879  6062\n",
              "3  2654  8845\n",
              "4  2849  8378"
            ],
            "text/html": [
              "\n",
              "  <div id=\"df-9c14c0c2-d473-41cf-b1cc-b969c0259486\">\n",
              "    <div class=\"colab-df-container\">\n",
              "      <div>\n",
              "<style scoped>\n",
              "    .dataframe tbody tr th:only-of-type {\n",
              "        vertical-align: middle;\n",
              "    }\n",
              "\n",
              "    .dataframe tbody tr th {\n",
              "        vertical-align: top;\n",
              "    }\n",
              "\n",
              "    .dataframe thead th {\n",
              "        text-align: right;\n",
              "    }\n",
              "</style>\n",
              "<table border=\"1\" class=\"dataframe\">\n",
              "  <thead>\n",
              "    <tr style=\"text-align: right;\">\n",
              "      <th></th>\n",
              "      <th>Y</th>\n",
              "      <th>X</th>\n",
              "    </tr>\n",
              "  </thead>\n",
              "  <tbody>\n",
              "    <tr>\n",
              "      <th>0</th>\n",
              "      <td>3011</td>\n",
              "      <td>9714</td>\n",
              "    </tr>\n",
              "    <tr>\n",
              "      <th>1</th>\n",
              "      <td>1305</td>\n",
              "      <td>3728</td>\n",
              "    </tr>\n",
              "    <tr>\n",
              "      <th>2</th>\n",
              "      <td>1879</td>\n",
              "      <td>6062</td>\n",
              "    </tr>\n",
              "    <tr>\n",
              "      <th>3</th>\n",
              "      <td>2654</td>\n",
              "      <td>8845</td>\n",
              "    </tr>\n",
              "    <tr>\n",
              "      <th>4</th>\n",
              "      <td>2849</td>\n",
              "      <td>8378</td>\n",
              "    </tr>\n",
              "  </tbody>\n",
              "</table>\n",
              "</div>\n",
              "      <button class=\"colab-df-convert\" onclick=\"convertToInteractive('df-9c14c0c2-d473-41cf-b1cc-b969c0259486')\"\n",
              "              title=\"Convert this dataframe to an interactive table.\"\n",
              "              style=\"display:none;\">\n",
              "        \n",
              "  <svg xmlns=\"http://www.w3.org/2000/svg\" height=\"24px\"viewBox=\"0 0 24 24\"\n",
              "       width=\"24px\">\n",
              "    <path d=\"M0 0h24v24H0V0z\" fill=\"none\"/>\n",
              "    <path d=\"M18.56 5.44l.94 2.06.94-2.06 2.06-.94-2.06-.94-.94-2.06-.94 2.06-2.06.94zm-11 1L8.5 8.5l.94-2.06 2.06-.94-2.06-.94L8.5 2.5l-.94 2.06-2.06.94zm10 10l.94 2.06.94-2.06 2.06-.94-2.06-.94-.94-2.06-.94 2.06-2.06.94z\"/><path d=\"M17.41 7.96l-1.37-1.37c-.4-.4-.92-.59-1.43-.59-.52 0-1.04.2-1.43.59L10.3 9.45l-7.72 7.72c-.78.78-.78 2.05 0 2.83L4 21.41c.39.39.9.59 1.41.59.51 0 1.02-.2 1.41-.59l7.78-7.78 2.81-2.81c.8-.78.8-2.07 0-2.86zM5.41 20L4 18.59l7.72-7.72 1.47 1.35L5.41 20z\"/>\n",
              "  </svg>\n",
              "      </button>\n",
              "      \n",
              "  <style>\n",
              "    .colab-df-container {\n",
              "      display:flex;\n",
              "      flex-wrap:wrap;\n",
              "      gap: 12px;\n",
              "    }\n",
              "\n",
              "    .colab-df-convert {\n",
              "      background-color: #E8F0FE;\n",
              "      border: none;\n",
              "      border-radius: 50%;\n",
              "      cursor: pointer;\n",
              "      display: none;\n",
              "      fill: #1967D2;\n",
              "      height: 32px;\n",
              "      padding: 0 0 0 0;\n",
              "      width: 32px;\n",
              "    }\n",
              "\n",
              "    .colab-df-convert:hover {\n",
              "      background-color: #E2EBFA;\n",
              "      box-shadow: 0px 1px 2px rgba(60, 64, 67, 0.3), 0px 1px 3px 1px rgba(60, 64, 67, 0.15);\n",
              "      fill: #174EA6;\n",
              "    }\n",
              "\n",
              "    [theme=dark] .colab-df-convert {\n",
              "      background-color: #3B4455;\n",
              "      fill: #D2E3FC;\n",
              "    }\n",
              "\n",
              "    [theme=dark] .colab-df-convert:hover {\n",
              "      background-color: #434B5C;\n",
              "      box-shadow: 0px 1px 3px 1px rgba(0, 0, 0, 0.15);\n",
              "      filter: drop-shadow(0px 1px 2px rgba(0, 0, 0, 0.3));\n",
              "      fill: #FFFFFF;\n",
              "    }\n",
              "  </style>\n",
              "\n",
              "      <script>\n",
              "        const buttonEl =\n",
              "          document.querySelector('#df-9c14c0c2-d473-41cf-b1cc-b969c0259486 button.colab-df-convert');\n",
              "        buttonEl.style.display =\n",
              "          google.colab.kernel.accessAllowed ? 'block' : 'none';\n",
              "\n",
              "        async function convertToInteractive(key) {\n",
              "          const element = document.querySelector('#df-9c14c0c2-d473-41cf-b1cc-b969c0259486');\n",
              "          const dataTable =\n",
              "            await google.colab.kernel.invokeFunction('convertToInteractive',\n",
              "                                                     [key], {});\n",
              "          if (!dataTable) return;\n",
              "\n",
              "          const docLinkHtml = 'Like what you see? Visit the ' +\n",
              "            '<a target=\"_blank\" href=https://colab.research.google.com/notebooks/data_table.ipynb>data table notebook</a>'\n",
              "            + ' to learn more about interactive tables.';\n",
              "          element.innerHTML = '';\n",
              "          dataTable['output_type'] = 'display_data';\n",
              "          await google.colab.output.renderOutput(dataTable, element);\n",
              "          const docLink = document.createElement('div');\n",
              "          docLink.innerHTML = docLinkHtml;\n",
              "          element.appendChild(docLink);\n",
              "        }\n",
              "      </script>\n",
              "    </div>\n",
              "  </div>\n",
              "  "
            ]
          },
          "metadata": {},
          "execution_count": 35
        }
      ],
      "source": [
        "dataset = pd.DataFrame(dataset)\n",
        "dataset.head()"
      ]
    },
    {
      "cell_type": "code",
      "execution_count": null,
      "metadata": {
        "colab": {
          "base_uri": "https://localhost:8080/"
        },
        "id": "NGPOPV1VcajX",
        "outputId": "bb2b48f2-c2a6-4fa3-de95-c94eb086cc60"
      },
      "outputs": [
        {
          "output_type": "execute_result",
          "data": {
            "text/plain": [
              "(50, 2)"
            ]
          },
          "metadata": {},
          "execution_count": 7
        }
      ],
      "source": [
        "dataset.shape"
      ]
    },
    {
      "cell_type": "markdown",
      "metadata": {
        "id": "y0Lt1C-Ccaja"
      },
      "source": [
        "### Estatísticas descritivas"
      ]
    },
    {
      "cell_type": "code",
      "execution_count": null,
      "metadata": {
        "colab": {
          "base_uri": "https://localhost:8080/",
          "height": 300
        },
        "id": "POZusgEccajb",
        "outputId": "d4430435-2483-4a46-c378-79915ca2ef19"
      },
      "outputs": [
        {
          "output_type": "execute_result",
          "data": {
            "text/plain": [
              "                 Y            X\n",
              "count    50.000000    50.000000\n",
              "mean   2011.120000  6065.500000\n",
              "std     817.214648  2707.187812\n",
              "min     353.000000  1069.000000\n",
              "25%    1362.250000  3516.500000\n",
              "50%    2127.000000  6363.000000\n",
              "75%    2675.750000  8381.750000\n",
              "max    3302.000000  9997.000000"
            ],
            "text/html": [
              "\n",
              "  <div id=\"df-c6d488d4-b194-42f3-9871-f3b59ed9b457\">\n",
              "    <div class=\"colab-df-container\">\n",
              "      <div>\n",
              "<style scoped>\n",
              "    .dataframe tbody tr th:only-of-type {\n",
              "        vertical-align: middle;\n",
              "    }\n",
              "\n",
              "    .dataframe tbody tr th {\n",
              "        vertical-align: top;\n",
              "    }\n",
              "\n",
              "    .dataframe thead th {\n",
              "        text-align: right;\n",
              "    }\n",
              "</style>\n",
              "<table border=\"1\" class=\"dataframe\">\n",
              "  <thead>\n",
              "    <tr style=\"text-align: right;\">\n",
              "      <th></th>\n",
              "      <th>Y</th>\n",
              "      <th>X</th>\n",
              "    </tr>\n",
              "  </thead>\n",
              "  <tbody>\n",
              "    <tr>\n",
              "      <th>count</th>\n",
              "      <td>50.000000</td>\n",
              "      <td>50.000000</td>\n",
              "    </tr>\n",
              "    <tr>\n",
              "      <th>mean</th>\n",
              "      <td>2011.120000</td>\n",
              "      <td>6065.500000</td>\n",
              "    </tr>\n",
              "    <tr>\n",
              "      <th>std</th>\n",
              "      <td>817.214648</td>\n",
              "      <td>2707.187812</td>\n",
              "    </tr>\n",
              "    <tr>\n",
              "      <th>min</th>\n",
              "      <td>353.000000</td>\n",
              "      <td>1069.000000</td>\n",
              "    </tr>\n",
              "    <tr>\n",
              "      <th>25%</th>\n",
              "      <td>1362.250000</td>\n",
              "      <td>3516.500000</td>\n",
              "    </tr>\n",
              "    <tr>\n",
              "      <th>50%</th>\n",
              "      <td>2127.000000</td>\n",
              "      <td>6363.000000</td>\n",
              "    </tr>\n",
              "    <tr>\n",
              "      <th>75%</th>\n",
              "      <td>2675.750000</td>\n",
              "      <td>8381.750000</td>\n",
              "    </tr>\n",
              "    <tr>\n",
              "      <th>max</th>\n",
              "      <td>3302.000000</td>\n",
              "      <td>9997.000000</td>\n",
              "    </tr>\n",
              "  </tbody>\n",
              "</table>\n",
              "</div>\n",
              "      <button class=\"colab-df-convert\" onclick=\"convertToInteractive('df-c6d488d4-b194-42f3-9871-f3b59ed9b457')\"\n",
              "              title=\"Convert this dataframe to an interactive table.\"\n",
              "              style=\"display:none;\">\n",
              "        \n",
              "  <svg xmlns=\"http://www.w3.org/2000/svg\" height=\"24px\"viewBox=\"0 0 24 24\"\n",
              "       width=\"24px\">\n",
              "    <path d=\"M0 0h24v24H0V0z\" fill=\"none\"/>\n",
              "    <path d=\"M18.56 5.44l.94 2.06.94-2.06 2.06-.94-2.06-.94-.94-2.06-.94 2.06-2.06.94zm-11 1L8.5 8.5l.94-2.06 2.06-.94-2.06-.94L8.5 2.5l-.94 2.06-2.06.94zm10 10l.94 2.06.94-2.06 2.06-.94-2.06-.94-.94-2.06-.94 2.06-2.06.94z\"/><path d=\"M17.41 7.96l-1.37-1.37c-.4-.4-.92-.59-1.43-.59-.52 0-1.04.2-1.43.59L10.3 9.45l-7.72 7.72c-.78.78-.78 2.05 0 2.83L4 21.41c.39.39.9.59 1.41.59.51 0 1.02-.2 1.41-.59l7.78-7.78 2.81-2.81c.8-.78.8-2.07 0-2.86zM5.41 20L4 18.59l7.72-7.72 1.47 1.35L5.41 20z\"/>\n",
              "  </svg>\n",
              "      </button>\n",
              "      \n",
              "  <style>\n",
              "    .colab-df-container {\n",
              "      display:flex;\n",
              "      flex-wrap:wrap;\n",
              "      gap: 12px;\n",
              "    }\n",
              "\n",
              "    .colab-df-convert {\n",
              "      background-color: #E8F0FE;\n",
              "      border: none;\n",
              "      border-radius: 50%;\n",
              "      cursor: pointer;\n",
              "      display: none;\n",
              "      fill: #1967D2;\n",
              "      height: 32px;\n",
              "      padding: 0 0 0 0;\n",
              "      width: 32px;\n",
              "    }\n",
              "\n",
              "    .colab-df-convert:hover {\n",
              "      background-color: #E2EBFA;\n",
              "      box-shadow: 0px 1px 2px rgba(60, 64, 67, 0.3), 0px 1px 3px 1px rgba(60, 64, 67, 0.15);\n",
              "      fill: #174EA6;\n",
              "    }\n",
              "\n",
              "    [theme=dark] .colab-df-convert {\n",
              "      background-color: #3B4455;\n",
              "      fill: #D2E3FC;\n",
              "    }\n",
              "\n",
              "    [theme=dark] .colab-df-convert:hover {\n",
              "      background-color: #434B5C;\n",
              "      box-shadow: 0px 1px 3px 1px rgba(0, 0, 0, 0.15);\n",
              "      filter: drop-shadow(0px 1px 2px rgba(0, 0, 0, 0.3));\n",
              "      fill: #FFFFFF;\n",
              "    }\n",
              "  </style>\n",
              "\n",
              "      <script>\n",
              "        const buttonEl =\n",
              "          document.querySelector('#df-c6d488d4-b194-42f3-9871-f3b59ed9b457 button.colab-df-convert');\n",
              "        buttonEl.style.display =\n",
              "          google.colab.kernel.accessAllowed ? 'block' : 'none';\n",
              "\n",
              "        async function convertToInteractive(key) {\n",
              "          const element = document.querySelector('#df-c6d488d4-b194-42f3-9871-f3b59ed9b457');\n",
              "          const dataTable =\n",
              "            await google.colab.kernel.invokeFunction('convertToInteractive',\n",
              "                                                     [key], {});\n",
              "          if (!dataTable) return;\n",
              "\n",
              "          const docLinkHtml = 'Like what you see? Visit the ' +\n",
              "            '<a target=\"_blank\" href=https://colab.research.google.com/notebooks/data_table.ipynb>data table notebook</a>'\n",
              "            + ' to learn more about interactive tables.';\n",
              "          element.innerHTML = '';\n",
              "          dataTable['output_type'] = 'display_data';\n",
              "          await google.colab.output.renderOutput(dataTable, element);\n",
              "          const docLink = document.createElement('div');\n",
              "          docLink.innerHTML = docLinkHtml;\n",
              "          element.appendChild(docLink);\n",
              "        }\n",
              "      </script>\n",
              "    </div>\n",
              "  </div>\n",
              "  "
            ]
          },
          "metadata": {},
          "execution_count": 8
        }
      ],
      "source": [
        "dataset.describe()"
      ]
    },
    {
      "cell_type": "markdown",
      "metadata": {
        "id": "tVozByhrcajd"
      },
      "source": [
        "### Análise gráfica\n",
        "\n",
        "https://seaborn.pydata.org/generated/seaborn.boxplot.html"
      ]
    },
    {
      "cell_type": "code",
      "execution_count": null,
      "metadata": {
        "colab": {
          "base_uri": "https://localhost:8080/",
          "height": 431
        },
        "id": "xPtAowUacajf",
        "outputId": "c4dbb678-ea33-418e-c7ad-0b0f3717bc1b"
      },
      "outputs": [
        {
          "output_type": "execute_result",
          "data": {
            "text/plain": [
              "<matplotlib.axes._subplots.AxesSubplot at 0x7fd353aba790>"
            ]
          },
          "metadata": {},
          "execution_count": 9
        },
        {
          "output_type": "display_data",
          "data": {
            "text/plain": [
              "<Figure size 864x432 with 1 Axes>"
            ],
            "image/png": "[encoded data removed]"
          },
          "metadata": {
            "needs_background": "light"
          }
        }
      ],
      "source": [
        "# BOXPLOT\n",
        "ax = sns.boxplot(data=dataset, orient='h', width=0.5)\n",
        "ax.figure.set_size_inches(12, 6)\n",
        "ax.set_title('Box plot', fontsize=20)\n",
        "ax.set_xlabel('Reais (R$)', fontsize=16)\n",
        "ax"
      ]
    },
    {
      "cell_type": "markdown",
      "metadata": {
        "id": "Fg0MIFfgcaji"
      },
      "source": [
        "https://seaborn.pydata.org/generated/seaborn.lmplot.html"
      ]
    },
    {
      "cell_type": "code",
      "execution_count": null,
      "metadata": {
        "colab": {
          "base_uri": "https://localhost:8080/",
          "height": 473
        },
        "id": "s2ZFx_INcajj",
        "outputId": "77b18c7f-5348-458e-d7d7-32cc82e358f3"
      },
      "outputs": [
        {
          "output_type": "execute_result",
          "data": {
            "text/plain": [
              "<seaborn.axisgrid.FacetGrid at 0x7fd353a107f0>"
            ]
          },
          "metadata": {},
          "execution_count": 10
        },
        {
          "output_type": "display_data",
          "data": {
            "text/plain": [
              "<Figure size 864x432 with 1 Axes>"
            ],
            "image/png": "[encoded data removed]"
          },
          "metadata": {
            "needs_background": "light"
          }
        }
      ],
      "source": [
        "# GRÁFICO DE DISPERSÃO + MODELO LINEAR\n",
        "ax = sns.lmplot(x=\"X\", y=\"Y\", data=dataset)\n",
        "ax.fig.set_size_inches(12, 6)\n",
        "ax.fig.suptitle('Reta de Regressão - Gasto X Renda', fontsize=16, y=1.02)\n",
        "ax.set_xlabels(\"Renda das Famílias\", fontsize=14)\n",
        "ax.set_ylabels(\"Gasto das Famílias\", fontsize=14)\n",
        "ax"
      ]
    },
    {
      "cell_type": "markdown",
      "metadata": {
        "id": "c2OpdF85cajl"
      },
      "source": [
        "### Análise da correlação\n",
        "\n",
        "https://pandas.pydata.org/pandas-docs/stable/reference/api/pandas.DataFrame.corr.html"
      ]
    },
    {
      "cell_type": "code",
      "execution_count": null,
      "metadata": {
        "colab": {
          "base_uri": "https://localhost:8080/",
          "height": 112
        },
        "id": "eQEiUOdccajm",
        "outputId": "86c73940-b1d6-4845-944e-598abb968fc2",
        "scrolled": true
      },
      "outputs": [
        {
          "output_type": "execute_result",
          "data": {
            "text/plain": [
              "          Y         X\n",
              "Y  1.000000  0.984835\n",
              "X  0.984835  1.000000"
            ],
            "text/html": [
              "\n",
              "  <div id=\"df-0190cd46-b733-414d-9610-8ad6b71b912b\">\n",
              "    <div class=\"colab-df-container\">\n",
              "      <div>\n",
              "<style scoped>\n",
              "    .dataframe tbody tr th:only-of-type {\n",
              "        vertical-align: middle;\n",
              "    }\n",
              "\n",
              "    .dataframe tbody tr th {\n",
              "        vertical-align: top;\n",
              "    }\n",
              "\n",
              "    .dataframe thead th {\n",
              "        text-align: right;\n",
              "    }\n",
              "</style>\n",
              "<table border=\"1\" class=\"dataframe\">\n",
              "  <thead>\n",
              "    <tr style=\"text-align: right;\">\n",
              "      <th></th>\n",
              "      <th>Y</th>\n",
              "      <th>X</th>\n",
              "    </tr>\n",
              "  </thead>\n",
              "  <tbody>\n",
              "    <tr>\n",
              "      <th>Y</th>\n",
              "      <td>1.000000</td>\n",
              "      <td>0.984835</td>\n",
              "    </tr>\n",
              "    <tr>\n",
              "      <th>X</th>\n",
              "      <td>0.984835</td>\n",
              "      <td>1.000000</td>\n",
              "    </tr>\n",
              "  </tbody>\n",
              "</table>\n",
              "</div>\n",
              "      <button class=\"colab-df-convert\" onclick=\"convertToInteractive('df-0190cd46-b733-414d-9610-8ad6b71b912b')\"\n",
              "              title=\"Convert this dataframe to an interactive table.\"\n",
              "              style=\"display:none;\">\n",
              "        \n",
              "  <svg xmlns=\"http://www.w3.org/2000/svg\" height=\"24px\"viewBox=\"0 0 24 24\"\n",
              "       width=\"24px\">\n",
              "    <path d=\"M0 0h24v24H0V0z\" fill=\"none\"/>\n",
              "    <path d=\"M18.56 5.44l.94 2.06.94-2.06 2.06-.94-2.06-.94-.94-2.06-.94 2.06-2.06.94zm-11 1L8.5 8.5l.94-2.06 2.06-.94-2.06-.94L8.5 2.5l-.94 2.06-2.06.94zm10 10l.94 2.06.94-2.06 2.06-.94-2.06-.94-.94-2.06-.94 2.06-2.06.94z\"/><path d=\"M17.41 7.96l-1.37-1.37c-.4-.4-.92-.59-1.43-.59-.52 0-1.04.2-1.43.59L10.3 9.45l-7.72 7.72c-.78.78-.78 2.05 0 2.83L4 21.41c.39.39.9.59 1.41.59.51 0 1.02-.2 1.41-.59l7.78-7.78 2.81-2.81c.8-.78.8-2.07 0-2.86zM5.41 20L4 18.59l7.72-7.72 1.47 1.35L5.41 20z\"/>\n",
              "  </svg>\n",
              "      </button>\n",
              "      \n",
              "  <style>\n",
              "    .colab-df-container {\n",
              "      display:flex;\n",
              "      flex-wrap:wrap;\n",
              "      gap: 12px;\n",
              "    }\n",
              "\n",
              "    .colab-df-convert {\n",
              "      background-color: #E8F0FE;\n",
              "      border: none;\n",
              "      border-radius: 50%;\n",
              "      cursor: pointer;\n",
              "      display: none;\n",
              "      fill: #1967D2;\n",
              "      height: 32px;\n",
              "      padding: 0 0 0 0;\n",
              "      width: 32px;\n",
              "    }\n",
              "\n",
              "    .colab-df-convert:hover {\n",
              "      background-color: #E2EBFA;\n",
              "      box-shadow: 0px 1px 2px rgba(60, 64, 67, 0.3), 0px 1px 3px 1px rgba(60, 64, 67, 0.15);\n",
              "      fill: #174EA6;\n",
              "    }\n",
              "\n",
              "    [theme=dark] .colab-df-convert {\n",
              "      background-color: #3B4455;\n",
              "      fill: #D2E3FC;\n",
              "    }\n",
              "\n",
              "    [theme=dark] .colab-df-convert:hover {\n",
              "      background-color: #434B5C;\n",
              "      box-shadow: 0px 1px 3px 1px rgba(0, 0, 0, 0.15);\n",
              "      filter: drop-shadow(0px 1px 2px rgba(0, 0, 0, 0.3));\n",
              "      fill: #FFFFFF;\n",
              "    }\n",
              "  </style>\n",
              "\n",
              "      <script>\n",
              "        const buttonEl =\n",
              "          document.querySelector('#df-0190cd46-b733-414d-9610-8ad6b71b912b button.colab-df-convert');\n",
              "        buttonEl.style.display =\n",
              "          google.colab.kernel.accessAllowed ? 'block' : 'none';\n",
              "\n",
              "        async function convertToInteractive(key) {\n",
              "          const element = document.querySelector('#df-0190cd46-b733-414d-9610-8ad6b71b912b');\n",
              "          const dataTable =\n",
              "            await google.colab.kernel.invokeFunction('convertToInteractive',\n",
              "                                                     [key], {});\n",
              "          if (!dataTable) return;\n",
              "\n",
              "          const docLinkHtml = 'Like what you see? Visit the ' +\n",
              "            '<a target=\"_blank\" href=https://colab.research.google.com/notebooks/data_table.ipynb>data table notebook</a>'\n",
              "            + ' to learn more about interactive tables.';\n",
              "          element.innerHTML = '';\n",
              "          dataTable['output_type'] = 'display_data';\n",
              "          await google.colab.output.renderOutput(dataTable, element);\n",
              "          const docLink = document.createElement('div');\n",
              "          docLink.innerHTML = docLinkHtml;\n",
              "          element.appendChild(docLink);\n",
              "        }\n",
              "      </script>\n",
              "    </div>\n",
              "  </div>\n",
              "  "
            ]
          },
          "metadata": {},
          "execution_count": 11
        }
      ],
      "source": [
        "dataset.corr()"
      ]
    },
    {
      "cell_type": "markdown",
      "metadata": {
        "id": "cPOlHTg2cajo"
      },
      "source": [
        "### Modelo de regressão linear simples\n",
        "\n",
        "https://www.statsmodels.org/stable/regression.html"
      ]
    },
    {
      "cell_type": "code",
      "execution_count": null,
      "metadata": {
        "colab": {
          "base_uri": "https://localhost:8080/"
        },
        "id": "SidSGHeQcajo",
        "outputId": "9a011eb3-a1ff-4220-d584-cf221edf1fbb"
      },
      "outputs": [
        {
          "output_type": "stream",
          "name": "stderr",
          "text": [
            "/usr/local/lib/python3.8/dist-packages/statsmodels/tsa/tsatools.py:142: FutureWarning: In a future version of pandas all arguments of concat except for the argument 'objs' will be keyword-only\n",
            "  x = pd.concat(x[::order], 1)\n"
          ]
        }
      ],
      "source": [
        "import statsmodels.api as sm\n",
        "\n",
        "Y = dataset['Y']\n",
        "X = sm.add_constant(dataset['X'])"
      ]
    },
    {
      "cell_type": "code",
      "execution_count": null,
      "metadata": {
        "colab": {
          "base_uri": "https://localhost:8080/",
          "height": 206
        },
        "id": "iBQFGkf_cajr",
        "outputId": "66ab438e-0a90-439f-b5e4-53ce1fac67d8"
      },
      "outputs": [
        {
          "output_type": "execute_result",
          "data": {
            "text/plain": [
              "   const     X\n",
              "0    1.0  9714\n",
              "1    1.0  3728\n",
              "2    1.0  6062\n",
              "3    1.0  8845\n",
              "4    1.0  8378"
            ],
            "text/html": [
              "\n",
              "  <div id=\"df-6d8ac627-af5f-4e89-8021-f564b912f284\">\n",
              "    <div class=\"colab-df-container\">\n",
              "      <div>\n",
              "<style scoped>\n",
              "    .dataframe tbody tr th:only-of-type {\n",
              "        vertical-align: middle;\n",
              "    }\n",
              "\n",
              "    .dataframe tbody tr th {\n",
              "        vertical-align: top;\n",
              "    }\n",
              "\n",
              "    .dataframe thead th {\n",
              "        text-align: right;\n",
              "    }\n",
              "</style>\n",
              "<table border=\"1\" class=\"dataframe\">\n",
              "  <thead>\n",
              "    <tr style=\"text-align: right;\">\n",
              "      <th></th>\n",
              "      <th>const</th>\n",
              "      <th>X</th>\n",
              "    </tr>\n",
              "  </thead>\n",
              "  <tbody>\n",
              "    <tr>\n",
              "      <th>0</th>\n",
              "      <td>1.0</td>\n",
              "      <td>9714</td>\n",
              "    </tr>\n",
              "    <tr>\n",
              "      <th>1</th>\n",
              "      <td>1.0</td>\n",
              "      <td>3728</td>\n",
              "    </tr>\n",
              "    <tr>\n",
              "      <th>2</th>\n",
              "      <td>1.0</td>\n",
              "      <td>6062</td>\n",
              "    </tr>\n",
              "    <tr>\n",
              "      <th>3</th>\n",
              "      <td>1.0</td>\n",
              "      <td>8845</td>\n",
              "    </tr>\n",
              "    <tr>\n",
              "      <th>4</th>\n",
              "      <td>1.0</td>\n",
              "      <td>8378</td>\n",
              "    </tr>\n",
              "  </tbody>\n",
              "</table>\n",
              "</div>\n",
              "      <button class=\"colab-df-convert\" onclick=\"convertToInteractive('df-6d8ac627-af5f-4e89-8021-f564b912f284')\"\n",
              "              title=\"Convert this dataframe to an interactive table.\"\n",
              "              style=\"display:none;\">\n",
              "        \n",
              "  <svg xmlns=\"http://www.w3.org/2000/svg\" height=\"24px\"viewBox=\"0 0 24 24\"\n",
              "       width=\"24px\">\n",
              "    <path d=\"M0 0h24v24H0V0z\" fill=\"none\"/>\n",
              "    <path d=\"M18.56 5.44l.94 2.06.94-2.06 2.06-.94-2.06-.94-.94-2.06-.94 2.06-2.06.94zm-11 1L8.5 8.5l.94-2.06 2.06-.94-2.06-.94L8.5 2.5l-.94 2.06-2.06.94zm10 10l.94 2.06.94-2.06 2.06-.94-2.06-.94-.94-2.06-.94 2.06-2.06.94z\"/><path d=\"M17.41 7.96l-1.37-1.37c-.4-.4-.92-.59-1.43-.59-.52 0-1.04.2-1.43.59L10.3 9.45l-7.72 7.72c-.78.78-.78 2.05 0 2.83L4 21.41c.39.39.9.59 1.41.59.51 0 1.02-.2 1.41-.59l7.78-7.78 2.81-2.81c.8-.78.8-2.07 0-2.86zM5.41 20L4 18.59l7.72-7.72 1.47 1.35L5.41 20z\"/>\n",
              "  </svg>\n",
              "      </button>\n",
              "      \n",
              "  <style>\n",
              "    .colab-df-container {\n",
              "      display:flex;\n",
              "      flex-wrap:wrap;\n",
              "      gap: 12px;\n",
              "    }\n",
              "\n",
              "    .colab-df-convert {\n",
              "      background-color: #E8F0FE;\n",
              "      border: none;\n",
              "      border-radius: 50%;\n",
              "      cursor: pointer;\n",
              "      display: none;\n",
              "      fill: #1967D2;\n",
              "      height: 32px;\n",
              "      padding: 0 0 0 0;\n",
              "      width: 32px;\n",
              "    }\n",
              "\n",
              "    .colab-df-convert:hover {\n",
              "      background-color: #E2EBFA;\n",
              "      box-shadow: 0px 1px 2px rgba(60, 64, 67, 0.3), 0px 1px 3px 1px rgba(60, 64, 67, 0.15);\n",
              "      fill: #174EA6;\n",
              "    }\n",
              "\n",
              "    [theme=dark] .colab-df-convert {\n",
              "      background-color: #3B4455;\n",
              "      fill: #D2E3FC;\n",
              "    }\n",
              "\n",
              "    [theme=dark] .colab-df-convert:hover {\n",
              "      background-color: #434B5C;\n",
              "      box-shadow: 0px 1px 3px 1px rgba(0, 0, 0, 0.15);\n",
              "      filter: drop-shadow(0px 1px 2px rgba(0, 0, 0, 0.3));\n",
              "      fill: #FFFFFF;\n",
              "    }\n",
              "  </style>\n",
              "\n",
              "      <script>\n",
              "        const buttonEl =\n",
              "          document.querySelector('#df-6d8ac627-af5f-4e89-8021-f564b912f284 button.colab-df-convert');\n",
              "        buttonEl.style.display =\n",
              "          google.colab.kernel.accessAllowed ? 'block' : 'none';\n",
              "\n",
              "        async function convertToInteractive(key) {\n",
              "          const element = document.querySelector('#df-6d8ac627-af5f-4e89-8021-f564b912f284');\n",
              "          const dataTable =\n",
              "            await google.colab.kernel.invokeFunction('convertToInteractive',\n",
              "                                                     [key], {});\n",
              "          if (!dataTable) return;\n",
              "\n",
              "          const docLinkHtml = 'Like what you see? Visit the ' +\n",
              "            '<a target=\"_blank\" href=https://colab.research.google.com/notebooks/data_table.ipynb>data table notebook</a>'\n",
              "            + ' to learn more about interactive tables.';\n",
              "          element.innerHTML = '';\n",
              "          dataTable['output_type'] = 'display_data';\n",
              "          await google.colab.output.renderOutput(dataTable, element);\n",
              "          const docLink = document.createElement('div');\n",
              "          docLink.innerHTML = docLinkHtml;\n",
              "          element.appendChild(docLink);\n",
              "        }\n",
              "      </script>\n",
              "    </div>\n",
              "  </div>\n",
              "  "
            ]
          },
          "metadata": {},
          "execution_count": 13
        }
      ],
      "source": [
        "X.head()"
      ]
    },
    {
      "cell_type": "code",
      "execution_count": null,
      "metadata": {
        "colab": {
          "base_uri": "https://localhost:8080/"
        },
        "id": "PdS9cDXqcajt",
        "outputId": "5df2c34d-25ad-463b-fd27-e779c8987c8c",
        "scrolled": true
      },
      "outputs": [
        {
          "output_type": "execute_result",
          "data": {
            "text/plain": [
              "0    3011\n",
              "1    1305\n",
              "2    1879\n",
              "3    2654\n",
              "4    2849\n",
              "Name: Y, dtype: int64"
            ]
          },
          "metadata": {},
          "execution_count": 14
        }
      ],
      "source": [
        "Y.head()"
      ]
    },
    {
      "cell_type": "markdown",
      "metadata": {
        "id": "Dkg9S5tWcajy"
      },
      "source": [
        "### Estimando o modelo"
      ]
    },
    {
      "cell_type": "code",
      "execution_count": null,
      "metadata": {
        "colab": {
          "base_uri": "https://localhost:8080/",
          "height": 486
        },
        "id": "9O0dhVTfcajz",
        "outputId": "f452f1c5-fd1f-4c32-8b17-22076d3c56aa"
      },
      "outputs": [
        {
          "output_type": "execute_result",
          "data": {
            "text/plain": [
              "<class 'statsmodels.iolib.summary.Summary'>\n",
              "\"\"\"\n",
              "                            OLS Regression Results                            \n",
              "==============================================================================\n",
              "Dep. Variable:                      Y   R-squared:                       0.970\n",
              "Model:                            OLS   Adj. R-squared:                  0.969\n",
              "Method:                 Least Squares   F-statistic:                     1547.\n",
              "Date:                Fri, 23 Dec 2022   Prob (F-statistic):           3.56e-38\n",
              "Time:                        04:53:34   Log-Likelihood:                -318.16\n",
              "No. Observations:                  50   AIC:                             640.3\n",
              "Df Residuals:                      48   BIC:                             644.1\n",
              "Df Model:                           1                                         \n",
              "Covariance Type:            nonrobust                                         \n",
              "==============================================================================\n",
              "                 coef    std err          t      P>|t|      [0.025      0.975]\n",
              "------------------------------------------------------------------------------\n",
              "const        207.9033     50.127      4.148      0.000     107.117     308.690\n",
              "X              0.2973      0.008     39.328      0.000       0.282       0.312\n",
              "==============================================================================\n",
              "Omnibus:                       22.833   Durbin-Watson:                   2.408\n",
              "Prob(Omnibus):                  0.000   Jarque-Bera (JB):                3.915\n",
              "Skew:                           0.073   Prob(JB):                        0.141\n",
              "Kurtosis:                       1.637   Cond. No.                     1.64e+04\n",
              "==============================================================================\n",
              "\n",
              "Notes:\n",
              "[1] Standard Errors assume that the covariance matrix of the errors is correctly specified.\n",
              "[2] The condition number is large, 1.64e+04. This might indicate that there are\n",
              "strong multicollinearity or other numerical problems.\n",
              "\"\"\""
            ],
            "text/html": [
              "<table class=\"simpletable\">\n",
              "<caption>OLS Regression Results</caption>\n",
              "<tr>\n",
              "  <th>Dep. Variable:</th>            <td>Y</td>        <th>  R-squared:         </th> <td>   0.970</td>\n",
              "</tr>\n",
              "<tr>\n",
              "  <th>Model:</th>                   <td>OLS</td>       <th>  Adj. R-squared:    </th> <td>   0.969</td>\n",
              "</tr>\n",
              "<tr>\n",
              "  <th>Method:</th>             <td>Least Squares</td>  <th>  F-statistic:       </th> <td>   1547.</td>\n",
              "</tr>\n",
              "<tr>\n",
              "  <th>Date:</th>             <td>Fri, 23 Dec 2022</td> <th>  Prob (F-statistic):</th> <td>3.56e-38</td>\n",
              "</tr>\n",
              "<tr>\n",
              "  <th>Time:</th>                 <td>04:53:34</td>     <th>  Log-Likelihood:    </th> <td> -318.16</td>\n",
              "</tr>\n",
              "<tr>\n",
              "  <th>No. Observations:</th>      <td>    50</td>      <th>  AIC:               </th> <td>   640.3</td>\n",
              "</tr>\n",
              "<tr>\n",
              "  <th>Df Residuals:</th>          <td>    48</td>      <th>  BIC:               </th> <td>   644.1</td>\n",
              "</tr>\n",
              "<tr>\n",
              "  <th>Df Model:</th>              <td>     1</td>      <th>                     </th>     <td> </td>   \n",
              "</tr>\n",
              "<tr>\n",
              "  <th>Covariance Type:</th>      <td>nonrobust</td>    <th>                     </th>     <td> </td>   \n",
              "</tr>\n",
              "</table>\n",
              "<table class=\"simpletable\">\n",
              "<tr>\n",
              "    <td></td>       <th>coef</th>     <th>std err</th>      <th>t</th>      <th>P>|t|</th>  <th>[0.025</th>    <th>0.975]</th>  \n",
              "</tr>\n",
              "<tr>\n",
              "  <th>const</th> <td>  207.9033</td> <td>   50.127</td> <td>    4.148</td> <td> 0.000</td> <td>  107.117</td> <td>  308.690</td>\n",
              "</tr>\n",
              "<tr>\n",
              "  <th>X</th>     <td>    0.2973</td> <td>    0.008</td> <td>   39.328</td> <td> 0.000</td> <td>    0.282</td> <td>    0.312</td>\n",
              "</tr>\n",
              "</table>\n",
              "<table class=\"simpletable\">\n",
              "<tr>\n",
              "  <th>Omnibus:</th>       <td>22.833</td> <th>  Durbin-Watson:     </th> <td>   2.408</td>\n",
              "</tr>\n",
              "<tr>\n",
              "  <th>Prob(Omnibus):</th> <td> 0.000</td> <th>  Jarque-Bera (JB):  </th> <td>   3.915</td>\n",
              "</tr>\n",
              "<tr>\n",
              "  <th>Skew:</th>          <td> 0.073</td> <th>  Prob(JB):          </th> <td>   0.141</td>\n",
              "</tr>\n",
              "<tr>\n",
              "  <th>Kurtosis:</th>      <td> 1.637</td> <th>  Cond. No.          </th> <td>1.64e+04</td>\n",
              "</tr>\n",
              "</table><br/><br/>Notes:<br/>[1] Standard Errors assume that the covariance matrix of the errors is correctly specified.<br/>[2] The condition number is large, 1.64e+04. This might indicate that there are<br/>strong multicollinearity or other numerical problems."
            ]
          },
          "metadata": {},
          "execution_count": 15
        }
      ],
      "source": [
        "# Mínimo Ordinário Quadrados - Ordinary Lower Square\n",
        "resultado_regressao = sm.OLS(Y, X).fit()\n",
        "\n",
        "resultado_regressao.summary()"
      ]
    },
    {
      "cell_type": "code",
      "execution_count": null,
      "metadata": {
        "colab": {
          "base_uri": "https://localhost:8080/"
        },
        "id": "8W1oGgNecaj0",
        "outputId": "e41ad032-fe3c-4fc8-ff61-6b5391461b1c"
      },
      "outputs": [
        {
          "output_type": "stream",
          "name": "stdout",
          "text": [
            "                            OLS Regression Results                            \n",
            "==============================================================================\n",
            "Dep. Variable:                      Y   R-squared:                       0.970\n",
            "Model:                            OLS   Adj. R-squared:                  0.969\n",
            "Method:                 Least Squares   F-statistic:                     1547.\n",
            "Date:                Fri, 23 Dec 2022   Prob (F-statistic):           3.56e-38\n",
            "Time:                        04:53:34   Log-Likelihood:                -318.16\n",
            "No. Observations:                  50   AIC:                             640.3\n",
            "Df Residuals:                      48   BIC:                             644.1\n",
            "Df Model:                           1                                         \n",
            "Covariance Type:            nonrobust                                         \n",
            "==============================================================================\n",
            "                 coef    std err          t      P>|t|      [0.025      0.975]\n",
            "------------------------------------------------------------------------------\n",
            "const        207.9033     50.127      4.148      0.000     107.117     308.690\n",
            "X              0.2973      0.008     39.328      0.000       0.282       0.312\n",
            "==============================================================================\n",
            "Omnibus:                       22.833   Durbin-Watson:                   2.408\n",
            "Prob(Omnibus):                  0.000   Jarque-Bera (JB):                3.915\n",
            "Skew:                           0.073   Prob(JB):                        0.141\n",
            "Kurtosis:                       1.637   Cond. No.                     1.64e+04\n",
            "==============================================================================\n",
            "\n",
            "Notes:\n",
            "[1] Standard Errors assume that the covariance matrix of the errors is correctly specified.\n",
            "[2] The condition number is large, 1.64e+04. This might indicate that there are\n",
            "strong multicollinearity or other numerical problems.\n"
          ]
        }
      ],
      "source": [
        "print(resultado_regressao.summary())"
      ]
    },
    {
      "cell_type": "markdown",
      "metadata": {
        "id": "eP2wm9fBcaj2"
      },
      "source": [
        "### Obtendo as previsões dentro da amostra"
      ]
    },
    {
      "cell_type": "code",
      "execution_count": null,
      "metadata": {
        "colab": {
          "base_uri": "https://localhost:8080/",
          "height": 1000
        },
        "id": "cbuzGLB-caj2",
        "outputId": "d87979e8-1ed6-45b2-c560-ad0863f5d339",
        "scrolled": true
      },
      "outputs": [
        {
          "output_type": "execute_result",
          "data": {
            "text/plain": [
              "       Y     X   Y_previsto\n",
              "0   3011  9714  3095.785086\n",
              "1   1305  3728  1316.203010\n",
              "2   1879  6062  2010.079483\n",
              "3   2654  8845  2837.439476\n",
              "4   2849  8378  2698.604723\n",
              "5   1068  3338  1200.259640\n",
              "6   2892  8507  2736.955222\n",
              "7   2543  7947  2570.472435\n",
              "8   3074  9915  3155.540515\n",
              "9    849  1632   693.081721\n",
              "10  2184  6825  2236.912280\n",
              "11  2943  8918  2859.141696\n",
              "12  1357  4100  1426.795147\n",
              "13  2755  9184  2938.221020\n",
              "14  2163  6180  2045.159784\n",
              "15  3099  9997  3179.918352\n",
              "16  1600  4500  1545.711423\n",
              "17   353  1069   525.707062\n",
              "18  1778  5925  1969.350658\n",
              "19   740  2466   941.022158\n",
              "20  2129  6083  2016.322587\n",
              "21  3302  9712  3095.190505\n",
              "22  2412  7780  2520.824890\n",
              "23  2683  8383  2700.091176\n",
              "24  2515  7185  2343.936929\n",
              "25  2395  7483  2432.529554\n",
              "26  2292  7640  2479.204193\n",
              "27  1000  2100   832.213765\n",
              "28   600  2000   802.484696\n",
              "29  1864  6012  1995.214948\n",
              "30  3027  8902  2854.385045\n",
              "31  1978  5345  1796.922057\n",
              "32  2791  8210  2648.659887\n",
              "33  1982  5662  1891.163206\n",
              "34   900  2700  1010.588179\n",
              "35  1964  6546  2153.968177\n",
              "36  1247  2900  1070.046318\n",
              "37  3067  9894  3149.297410\n",
              "38   700  1500   653.839350\n",
              "39  1500  5000  1694.356769\n",
              "40  3110  8885  2849.331103\n",
              "41  2644  8813  2827.926174\n",
              "42  1378  3446  1232.367035\n",
              "43  2601  7881  2550.851249\n",
              "44   501  1164   553.949678\n",
              "45  1292  3401  1218.988954\n",
              "46  2125  6641  2182.210793\n",
              "47  1431  3329  1197.584024\n",
              "48  2260  6648  2184.291828\n",
              "49  1770  4800  1634.898631"
            ],
            "text/html": [
              "\n",
              "  <div id=\"df-6eb664b6-1e54-46ed-877b-f6d936cfe7f7\">\n",
              "    <div class=\"colab-df-container\">\n",
              "      <div>\n",
              "<style scoped>\n",
              "    .dataframe tbody tr th:only-of-type {\n",
              "        vertical-align: middle;\n",
              "    }\n",
              "\n",
              "    .dataframe tbody tr th {\n",
              "        vertical-align: top;\n",
              "    }\n",
              "\n",
              "    .dataframe thead th {\n",
              "        text-align: right;\n",
              "    }\n",
              "</style>\n",
              "<table border=\"1\" class=\"dataframe\">\n",
              "  <thead>\n",
              "    <tr style=\"text-align: right;\">\n",
              "      <th></th>\n",
              "      <th>Y</th>\n",
              "      <th>X</th>\n",
              "      <th>Y_previsto</th>\n",
              "    </tr>\n",
              "  </thead>\n",
              "  <tbody>\n",
              "    <tr>\n",
              "      <th>0</th>\n",
              "      <td>3011</td>\n",
              "      <td>9714</td>\n",
              "      <td>3095.785086</td>\n",
              "    </tr>\n",
              "    <tr>\n",
              "      <th>1</th>\n",
              "      <td>1305</td>\n",
              "      <td>3728</td>\n",
              "      <td>1316.203010</td>\n",
              "    </tr>\n",
              "    <tr>\n",
              "      <th>2</th>\n",
              "      <td>1879</td>\n",
              "      <td>6062</td>\n",
              "      <td>2010.079483</td>\n",
              "    </tr>\n",
              "    <tr>\n",
              "      <th>3</th>\n",
              "      <td>2654</td>\n",
              "      <td>8845</td>\n",
              "      <td>2837.439476</td>\n",
              "    </tr>\n",
              "    <tr>\n",
              "      <th>4</th>\n",
              "      <td>2849</td>\n",
              "      <td>8378</td>\n",
              "      <td>2698.604723</td>\n",
              "    </tr>\n",
              "    <tr>\n",
              "      <th>5</th>\n",
              "      <td>1068</td>\n",
              "      <td>3338</td>\n",
              "      <td>1200.259640</td>\n",
              "    </tr>\n",
              "    <tr>\n",
              "      <th>6</th>\n",
              "      <td>2892</td>\n",
              "      <td>8507</td>\n",
              "      <td>2736.955222</td>\n",
              "    </tr>\n",
              "    <tr>\n",
              "      <th>7</th>\n",
              "      <td>2543</td>\n",
              "      <td>7947</td>\n",
              "      <td>2570.472435</td>\n",
              "    </tr>\n",
              "    <tr>\n",
              "      <th>8</th>\n",
              "      <td>3074</td>\n",
              "      <td>9915</td>\n",
              "      <td>3155.540515</td>\n",
              "    </tr>\n",
              "    <tr>\n",
              "      <th>9</th>\n",
              "      <td>849</td>\n",
              "      <td>1632</td>\n",
              "      <td>693.081721</td>\n",
              "    </tr>\n",
              "    <tr>\n",
              "      <th>10</th>\n",
              "      <td>2184</td>\n",
              "      <td>6825</td>\n",
              "      <td>2236.912280</td>\n",
              "    </tr>\n",
              "    <tr>\n",
              "      <th>11</th>\n",
              "      <td>2943</td>\n",
              "      <td>8918</td>\n",
              "      <td>2859.141696</td>\n",
              "    </tr>\n",
              "    <tr>\n",
              "      <th>12</th>\n",
              "      <td>1357</td>\n",
              "      <td>4100</td>\n",
              "      <td>1426.795147</td>\n",
              "    </tr>\n",
              "    <tr>\n",
              "      <th>13</th>\n",
              "      <td>2755</td>\n",
              "      <td>9184</td>\n",
              "      <td>2938.221020</td>\n",
              "    </tr>\n",
              "    <tr>\n",
              "      <th>14</th>\n",
              "      <td>2163</td>\n",
              "      <td>6180</td>\n",
              "      <td>2045.159784</td>\n",
              "    </tr>\n",
              "    <tr>\n",
              "      <th>15</th>\n",
              "      <td>3099</td>\n",
              "      <td>9997</td>\n",
              "      <td>3179.918352</td>\n",
              "    </tr>\n",
              "    <tr>\n",
              "      <th>16</th>\n",
              "      <td>1600</td>\n",
              "      <td>4500</td>\n",
              "      <td>1545.711423</td>\n",
              "    </tr>\n",
              "    <tr>\n",
              "      <th>17</th>\n",
              "      <td>353</td>\n",
              "      <td>1069</td>\n",
              "      <td>525.707062</td>\n",
              "    </tr>\n",
              "    <tr>\n",
              "      <th>18</th>\n",
              "      <td>1778</td>\n",
              "      <td>5925</td>\n",
              "      <td>1969.350658</td>\n",
              "    </tr>\n",
              "    <tr>\n",
              "      <th>19</th>\n",
              "      <td>740</td>\n",
              "      <td>2466</td>\n",
              "      <td>941.022158</td>\n",
              "    </tr>\n",
              "    <tr>\n",
              "      <th>20</th>\n",
              "      <td>2129</td>\n",
              "      <td>6083</td>\n",
              "      <td>2016.322587</td>\n",
              "    </tr>\n",
              "    <tr>\n",
              "      <th>21</th>\n",
              "      <td>3302</td>\n",
              "      <td>9712</td>\n",
              "      <td>3095.190505</td>\n",
              "    </tr>\n",
              "    <tr>\n",
              "      <th>22</th>\n",
              "      <td>2412</td>\n",
              "      <td>7780</td>\n",
              "      <td>2520.824890</td>\n",
              "    </tr>\n",
              "    <tr>\n",
              "      <th>23</th>\n",
              "      <td>2683</td>\n",
              "      <td>8383</td>\n",
              "      <td>2700.091176</td>\n",
              "    </tr>\n",
              "    <tr>\n",
              "      <th>24</th>\n",
              "      <td>2515</td>\n",
              "      <td>7185</td>\n",
              "      <td>2343.936929</td>\n",
              "    </tr>\n",
              "    <tr>\n",
              "      <th>25</th>\n",
              "      <td>2395</td>\n",
              "      <td>7483</td>\n",
              "      <td>2432.529554</td>\n",
              "    </tr>\n",
              "    <tr>\n",
              "      <th>26</th>\n",
              "      <td>2292</td>\n",
              "      <td>7640</td>\n",
              "      <td>2479.204193</td>\n",
              "    </tr>\n",
              "    <tr>\n",
              "      <th>27</th>\n",
              "      <td>1000</td>\n",
              "      <td>2100</td>\n",
              "      <td>832.213765</td>\n",
              "    </tr>\n",
              "    <tr>\n",
              "      <th>28</th>\n",
              "      <td>600</td>\n",
              "      <td>2000</td>\n",
              "      <td>802.484696</td>\n",
              "    </tr>\n",
              "    <tr>\n",
              "      <th>29</th>\n",
              "      <td>1864</td>\n",
              "      <td>6012</td>\n",
              "      <td>1995.214948</td>\n",
              "    </tr>\n",
              "    <tr>\n",
              "      <th>30</th>\n",
              "      <td>3027</td>\n",
              "      <td>8902</td>\n",
              "      <td>2854.385045</td>\n",
              "    </tr>\n",
              "    <tr>\n",
              "      <th>31</th>\n",
              "      <td>1978</td>\n",
              "      <td>5345</td>\n",
              "      <td>1796.922057</td>\n",
              "    </tr>\n",
              "    <tr>\n",
              "      <th>32</th>\n",
              "      <td>2791</td>\n",
              "      <td>8210</td>\n",
              "      <td>2648.659887</td>\n",
              "    </tr>\n",
              "    <tr>\n",
              "      <th>33</th>\n",
              "      <td>1982</td>\n",
              "      <td>5662</td>\n",
              "      <td>1891.163206</td>\n",
              "    </tr>\n",
              "    <tr>\n",
              "      <th>34</th>\n",
              "      <td>900</td>\n",
              "      <td>2700</td>\n",
              "      <td>1010.588179</td>\n",
              "    </tr>\n",
              "    <tr>\n",
              "      <th>35</th>\n",
              "      <td>1964</td>\n",
              "      <td>6546</td>\n",
              "      <td>2153.968177</td>\n",
              "    </tr>\n",
              "    <tr>\n",
              "      <th>36</th>\n",
              "      <td>1247</td>\n",
              "      <td>2900</td>\n",
              "      <td>1070.046318</td>\n",
              "    </tr>\n",
              "    <tr>\n",
              "      <th>37</th>\n",
              "      <td>3067</td>\n",
              "      <td>9894</td>\n",
              "      <td>3149.297410</td>\n",
              "    </tr>\n",
              "    <tr>\n",
              "      <th>38</th>\n",
              "      <td>700</td>\n",
              "      <td>1500</td>\n",
              "      <td>653.839350</td>\n",
              "    </tr>\n",
              "    <tr>\n",
              "      <th>39</th>\n",
              "      <td>1500</td>\n",
              "      <td>5000</td>\n",
              "      <td>1694.356769</td>\n",
              "    </tr>\n",
              "    <tr>\n",
              "      <th>40</th>\n",
              "      <td>3110</td>\n",
              "      <td>8885</td>\n",
              "      <td>2849.331103</td>\n",
              "    </tr>\n",
              "    <tr>\n",
              "      <th>41</th>\n",
              "      <td>2644</td>\n",
              "      <td>8813</td>\n",
              "      <td>2827.926174</td>\n",
              "    </tr>\n",
              "    <tr>\n",
              "      <th>42</th>\n",
              "      <td>1378</td>\n",
              "      <td>3446</td>\n",
              "      <td>1232.367035</td>\n",
              "    </tr>\n",
              "    <tr>\n",
              "      <th>43</th>\n",
              "      <td>2601</td>\n",
              "      <td>7881</td>\n",
              "      <td>2550.851249</td>\n",
              "    </tr>\n",
              "    <tr>\n",
              "      <th>44</th>\n",
              "      <td>501</td>\n",
              "      <td>1164</td>\n",
              "      <td>553.949678</td>\n",
              "    </tr>\n",
              "    <tr>\n",
              "      <th>45</th>\n",
              "      <td>1292</td>\n",
              "      <td>3401</td>\n",
              "      <td>1218.988954</td>\n",
              "    </tr>\n",
              "    <tr>\n",
              "      <th>46</th>\n",
              "      <td>2125</td>\n",
              "      <td>6641</td>\n",
              "      <td>2182.210793</td>\n",
              "    </tr>\n",
              "    <tr>\n",
              "      <th>47</th>\n",
              "      <td>1431</td>\n",
              "      <td>3329</td>\n",
              "      <td>1197.584024</td>\n",
              "    </tr>\n",
              "    <tr>\n",
              "      <th>48</th>\n",
              "      <td>2260</td>\n",
              "      <td>6648</td>\n",
              "      <td>2184.291828</td>\n",
              "    </tr>\n",
              "    <tr>\n",
              "      <th>49</th>\n",
              "      <td>1770</td>\n",
              "      <td>4800</td>\n",
              "      <td>1634.898631</td>\n",
              "    </tr>\n",
              "  </tbody>\n",
              "</table>\n",
              "</div>\n",
              "      <button class=\"colab-df-convert\" onclick=\"convertToInteractive('df-6eb664b6-1e54-46ed-877b-f6d936cfe7f7')\"\n",
              "              title=\"Convert this dataframe to an interactive table.\"\n",
              "              style=\"display:none;\">\n",
              "        \n",
              "  <svg xmlns=\"http://www.w3.org/2000/svg\" height=\"24px\"viewBox=\"0 0 24 24\"\n",
              "       width=\"24px\">\n",
              "    <path d=\"M0 0h24v24H0V0z\" fill=\"none\"/>\n",
              "    <path d=\"M18.56 5.44l.94 2.06.94-2.06 2.06-.94-2.06-.94-.94-2.06-.94 2.06-2.06.94zm-11 1L8.5 8.5l.94-2.06 2.06-.94-2.06-.94L8.5 2.5l-.94 2.06-2.06.94zm10 10l.94 2.06.94-2.06 2.06-.94-2.06-.94-.94-2.06-.94 2.06-2.06.94z\"/><path d=\"M17.41 7.96l-1.37-1.37c-.4-.4-.92-.59-1.43-.59-.52 0-1.04.2-1.43.59L10.3 9.45l-7.72 7.72c-.78.78-.78 2.05 0 2.83L4 21.41c.39.39.9.59 1.41.59.51 0 1.02-.2 1.41-.59l7.78-7.78 2.81-2.81c.8-.78.8-2.07 0-2.86zM5.41 20L4 18.59l7.72-7.72 1.47 1.35L5.41 20z\"/>\n",
              "  </svg>\n",
              "      </button>\n",
              "      \n",
              "  <style>\n",
              "    .colab-df-container {\n",
              "      display:flex;\n",
              "      flex-wrap:wrap;\n",
              "      gap: 12px;\n",
              "    }\n",
              "\n",
              "    .colab-df-convert {\n",
              "      background-color: #E8F0FE;\n",
              "      border: none;\n",
              "      border-radius: 50%;\n",
              "      cursor: pointer;\n",
              "      display: none;\n",
              "      fill: #1967D2;\n",
              "      height: 32px;\n",
              "      padding: 0 0 0 0;\n",
              "      width: 32px;\n",
              "    }\n",
              "\n",
              "    .colab-df-convert:hover {\n",
              "      background-color: #E2EBFA;\n",
              "      box-shadow: 0px 1px 2px rgba(60, 64, 67, 0.3), 0px 1px 3px 1px rgba(60, 64, 67, 0.15);\n",
              "      fill: #174EA6;\n",
              "    }\n",
              "\n",
              "    [theme=dark] .colab-df-convert {\n",
              "      background-color: #3B4455;\n",
              "      fill: #D2E3FC;\n",
              "    }\n",
              "\n",
              "    [theme=dark] .colab-df-convert:hover {\n",
              "      background-color: #434B5C;\n",
              "      box-shadow: 0px 1px 3px 1px rgba(0, 0, 0, 0.15);\n",
              "      filter: drop-shadow(0px 1px 2px rgba(0, 0, 0, 0.3));\n",
              "      fill: #FFFFFF;\n",
              "    }\n",
              "  </style>\n",
              "\n",
              "      <script>\n",
              "        const buttonEl =\n",
              "          document.querySelector('#df-6eb664b6-1e54-46ed-877b-f6d936cfe7f7 button.colab-df-convert');\n",
              "        buttonEl.style.display =\n",
              "          google.colab.kernel.accessAllowed ? 'block' : 'none';\n",
              "\n",
              "        async function convertToInteractive(key) {\n",
              "          const element = document.querySelector('#df-6eb664b6-1e54-46ed-877b-f6d936cfe7f7');\n",
              "          const dataTable =\n",
              "            await google.colab.kernel.invokeFunction('convertToInteractive',\n",
              "                                                     [key], {});\n",
              "          if (!dataTable) return;\n",
              "\n",
              "          const docLinkHtml = 'Like what you see? Visit the ' +\n",
              "            '<a target=\"_blank\" href=https://colab.research.google.com/notebooks/data_table.ipynb>data table notebook</a>'\n",
              "            + ' to learn more about interactive tables.';\n",
              "          element.innerHTML = '';\n",
              "          dataTable['output_type'] = 'display_data';\n",
              "          await google.colab.output.renderOutput(dataTable, element);\n",
              "          const docLink = document.createElement('div');\n",
              "          docLink.innerHTML = docLinkHtml;\n",
              "          element.appendChild(docLink);\n",
              "        }\n",
              "      </script>\n",
              "    </div>\n",
              "  </div>\n",
              "  "
            ]
          },
          "metadata": {},
          "execution_count": 17
        }
      ],
      "source": [
        "dataset['Y_previsto'] = resultado_regressao.predict()\n",
        "dataset"
      ]
    },
    {
      "cell_type": "markdown",
      "metadata": {
        "id": "QTCRxEClcaj-"
      },
      "source": [
        "---"
      ]
    },
    {
      "cell_type": "markdown",
      "metadata": {
        "id": "DU3ADw3fdeS1"
      },
      "source": [
        "# <font color=orange>3 CORRELAÇÃO</font>\n",
        "***\n",
        "\n",
        "[Wikipedia](https://pt.wikipedia.org/wiki/Correla%C3%A7%C3%A3o)"
      ]
    },
    {
      "cell_type": "markdown",
      "metadata": {
        "id": "_8zdNQvrcakA"
      },
      "source": [
        "## <font color=orange>3.1 Covariância</font>\n",
        "***"
      ]
    },
    {
      "cell_type": "markdown",
      "metadata": {
        "id": "E5xyRLiYcakB"
      },
      "source": [
        "A covariância, ou variância conjunta, é a medida do grau de interdependência (ou inter-relação) numérica entre duas variáveis. \n",
        "\n",
        "Um problema da covariância, ou até mesmod a variância, é a sua relação com a unidade de medida da variável, dificuldando a interpretação e comparação dos valores resultantes. Isto dificulta a rápida identificação das altas relações e das baixas relações.\n",
        "\n",
        "É definida da seguinte maneira:"
      ]
    },
    {
      "cell_type": "markdown",
      "metadata": {
        "id": "z66qdhEPcakB"
      },
      "source": [
        "### Covariância populacional\n",
        "\n",
        "# $$\\sigma_{xy} = \\frac 1n\\sum_{i=1}^{n}(X_i-\\mu_x)(Y_i-\\mu_y)$$"
      ]
    },
    {
      "cell_type": "markdown",
      "metadata": {
        "id": "Q5Z7pL4ncakB"
      },
      "source": [
        "### Covariância amostral\n",
        "\n",
        "# $$S_{xy} = \\frac 1{n-1}\\sum_{i=1}^{n}(X_i-\\bar{X})(Y_i-\\bar{Y})$$"
      ]
    },
    {
      "cell_type": "markdown",
      "metadata": {
        "id": "jL1SrReTcakC"
      },
      "source": [
        "**Gerando uma amostra aleatória para facilitar o entendimento**"
      ]
    },
    {
      "cell_type": "code",
      "execution_count": null,
      "metadata": {
        "id": "ulha75EgcakC"
      },
      "outputs": [],
      "source": [
        "amostra = dados.query('Renda < 5000').sample(n = 20, random_state = 101)"
      ]
    },
    {
      "cell_type": "markdown",
      "metadata": {
        "id": "ZssTPkXGcakD"
      },
      "source": [
        "### Matriz de covariância\n",
        "\n",
        "[Documentação Pandas.cov](https://pandas.pydata.org/docs/reference/api/pandas.DataFrame.cov.html): o cálculo usado é para amostras."
      ]
    },
    {
      "cell_type": "code",
      "execution_count": null,
      "metadata": {
        "colab": {
          "base_uri": "https://localhost:8080/",
          "height": 175
        },
        "id": "hU6Ca7k3cakE",
        "outputId": "a63fe9c1-429b-4ca5-ec2c-476f6d96f146"
      },
      "outputs": [
        {
          "output_type": "execute_result",
          "data": {
            "text/plain": [
              "                      Idade          Renda  Anos de Estudo    Altura\n",
              "Idade            134.410526   -4947.968421      -16.410526  0.016506\n",
              "Renda          -4947.968421  764668.326316     2209.021053 -7.138236\n",
              "Anos de Estudo   -16.410526    2209.021053       16.936842  0.111281\n",
              "Altura             0.016506      -7.138236        0.111281  0.003354"
            ],
            "text/html": [
              "\n",
              "  <div id=\"df-51a1345a-1afc-4682-8ba5-45d607c12dba\">\n",
              "    <div class=\"colab-df-container\">\n",
              "      <div>\n",
              "<style scoped>\n",
              "    .dataframe tbody tr th:only-of-type {\n",
              "        vertical-align: middle;\n",
              "    }\n",
              "\n",
              "    .dataframe tbody tr th {\n",
              "        vertical-align: top;\n",
              "    }\n",
              "\n",
              "    .dataframe thead th {\n",
              "        text-align: right;\n",
              "    }\n",
              "</style>\n",
              "<table border=\"1\" class=\"dataframe\">\n",
              "  <thead>\n",
              "    <tr style=\"text-align: right;\">\n",
              "      <th></th>\n",
              "      <th>Idade</th>\n",
              "      <th>Renda</th>\n",
              "      <th>Anos de Estudo</th>\n",
              "      <th>Altura</th>\n",
              "    </tr>\n",
              "  </thead>\n",
              "  <tbody>\n",
              "    <tr>\n",
              "      <th>Idade</th>\n",
              "      <td>134.410526</td>\n",
              "      <td>-4947.968421</td>\n",
              "      <td>-16.410526</td>\n",
              "      <td>0.016506</td>\n",
              "    </tr>\n",
              "    <tr>\n",
              "      <th>Renda</th>\n",
              "      <td>-4947.968421</td>\n",
              "      <td>764668.326316</td>\n",
              "      <td>2209.021053</td>\n",
              "      <td>-7.138236</td>\n",
              "    </tr>\n",
              "    <tr>\n",
              "      <th>Anos de Estudo</th>\n",
              "      <td>-16.410526</td>\n",
              "      <td>2209.021053</td>\n",
              "      <td>16.936842</td>\n",
              "      <td>0.111281</td>\n",
              "    </tr>\n",
              "    <tr>\n",
              "      <th>Altura</th>\n",
              "      <td>0.016506</td>\n",
              "      <td>-7.138236</td>\n",
              "      <td>0.111281</td>\n",
              "      <td>0.003354</td>\n",
              "    </tr>\n",
              "  </tbody>\n",
              "</table>\n",
              "</div>\n",
              "      <button class=\"colab-df-convert\" onclick=\"convertToInteractive('df-51a1345a-1afc-4682-8ba5-45d607c12dba')\"\n",
              "              title=\"Convert this dataframe to an interactive table.\"\n",
              "              style=\"display:none;\">\n",
              "        \n",
              "  <svg xmlns=\"http://www.w3.org/2000/svg\" height=\"24px\"viewBox=\"0 0 24 24\"\n",
              "       width=\"24px\">\n",
              "    <path d=\"M0 0h24v24H0V0z\" fill=\"none\"/>\n",
              "    <path d=\"M18.56 5.44l.94 2.06.94-2.06 2.06-.94-2.06-.94-.94-2.06-.94 2.06-2.06.94zm-11 1L8.5 8.5l.94-2.06 2.06-.94-2.06-.94L8.5 2.5l-.94 2.06-2.06.94zm10 10l.94 2.06.94-2.06 2.06-.94-2.06-.94-.94-2.06-.94 2.06-2.06.94z\"/><path d=\"M17.41 7.96l-1.37-1.37c-.4-.4-.92-.59-1.43-.59-.52 0-1.04.2-1.43.59L10.3 9.45l-7.72 7.72c-.78.78-.78 2.05 0 2.83L4 21.41c.39.39.9.59 1.41.59.51 0 1.02-.2 1.41-.59l7.78-7.78 2.81-2.81c.8-.78.8-2.07 0-2.86zM5.41 20L4 18.59l7.72-7.72 1.47 1.35L5.41 20z\"/>\n",
              "  </svg>\n",
              "      </button>\n",
              "      \n",
              "  <style>\n",
              "    .colab-df-container {\n",
              "      display:flex;\n",
              "      flex-wrap:wrap;\n",
              "      gap: 12px;\n",
              "    }\n",
              "\n",
              "    .colab-df-convert {\n",
              "      background-color: #E8F0FE;\n",
              "      border: none;\n",
              "      border-radius: 50%;\n",
              "      cursor: pointer;\n",
              "      display: none;\n",
              "      fill: #1967D2;\n",
              "      height: 32px;\n",
              "      padding: 0 0 0 0;\n",
              "      width: 32px;\n",
              "    }\n",
              "\n",
              "    .colab-df-convert:hover {\n",
              "      background-color: #E2EBFA;\n",
              "      box-shadow: 0px 1px 2px rgba(60, 64, 67, 0.3), 0px 1px 3px 1px rgba(60, 64, 67, 0.15);\n",
              "      fill: #174EA6;\n",
              "    }\n",
              "\n",
              "    [theme=dark] .colab-df-convert {\n",
              "      background-color: #3B4455;\n",
              "      fill: #D2E3FC;\n",
              "    }\n",
              "\n",
              "    [theme=dark] .colab-df-convert:hover {\n",
              "      background-color: #434B5C;\n",
              "      box-shadow: 0px 1px 3px 1px rgba(0, 0, 0, 0.15);\n",
              "      filter: drop-shadow(0px 1px 2px rgba(0, 0, 0, 0.3));\n",
              "      fill: #FFFFFF;\n",
              "    }\n",
              "  </style>\n",
              "\n",
              "      <script>\n",
              "        const buttonEl =\n",
              "          document.querySelector('#df-51a1345a-1afc-4682-8ba5-45d607c12dba button.colab-df-convert');\n",
              "        buttonEl.style.display =\n",
              "          google.colab.kernel.accessAllowed ? 'block' : 'none';\n",
              "\n",
              "        async function convertToInteractive(key) {\n",
              "          const element = document.querySelector('#df-51a1345a-1afc-4682-8ba5-45d607c12dba');\n",
              "          const dataTable =\n",
              "            await google.colab.kernel.invokeFunction('convertToInteractive',\n",
              "                                                     [key], {});\n",
              "          if (!dataTable) return;\n",
              "\n",
              "          const docLinkHtml = 'Like what you see? Visit the ' +\n",
              "            '<a target=\"_blank\" href=https://colab.research.google.com/notebooks/data_table.ipynb>data table notebook</a>'\n",
              "            + ' to learn more about interactive tables.';\n",
              "          element.innerHTML = '';\n",
              "          dataTable['output_type'] = 'display_data';\n",
              "          await google.colab.output.renderOutput(dataTable, element);\n",
              "          const docLink = document.createElement('div');\n",
              "          docLink.innerHTML = docLinkHtml;\n",
              "          element.appendChild(docLink);\n",
              "        }\n",
              "      </script>\n",
              "    </div>\n",
              "  </div>\n",
              "  "
            ]
          },
          "metadata": {},
          "execution_count": 19
        }
      ],
      "source": [
        "amostra[['Idade', 'Renda', 'Anos de Estudo', 'Altura']].cov()"
      ]
    },
    {
      "cell_type": "markdown",
      "metadata": {
        "id": "dodkzGyBcakG"
      },
      "source": [
        "**Identificando as variâncias na diagonal principal da matriz**"
      ]
    },
    {
      "cell_type": "code",
      "execution_count": null,
      "metadata": {
        "colab": {
          "base_uri": "https://localhost:8080/"
        },
        "id": "iG3mpmBfcakH",
        "outputId": "46111a5b-ed85-40f7-bc90-fdfa8f9a992f"
      },
      "outputs": [
        {
          "output_type": "execute_result",
          "data": {
            "text/plain": [
              "134.4105263157895"
            ]
          },
          "metadata": {},
          "execution_count": 20
        }
      ],
      "source": [
        "amostra.Idade.var()"
      ]
    },
    {
      "cell_type": "markdown",
      "metadata": {
        "id": "9I8MVJAscakK"
      },
      "source": [
        "## <font color=orange>3.2 Interpretação da Covariância</font>\n",
        "***"
      ]
    },
    {
      "cell_type": "markdown",
      "metadata": {
        "id": "_H2Y3PVZcakK"
      },
      "source": [
        "Valor de $S_{xy}$ positivo indica uma associação linear positiva entre x e y, ou seja, à medida que o valor de x aumenta, o valor de y também aumenta. Neste caso, podemos ver na figura abaixo que os pontos que têm a maior influência sobre $S_{xy}$ devem estar nos quadrantes I e III.\n",
        "\n",
        "Se o valor de $S_{xy}$ for negativo temos um indicativo de associação linear negativa entre x e y, ou seja, à medida que x aumenta, o valor de y diminui. Neste caso, podemos ver na figura abaixo que os pontos que têm a maior influência sobre $S_{xy}$ devem estar nos quadrantes II e IV.\n",
        "\n",
        "Finalmente, se os pontos estiverem uniformemente distribuídos pelos quadrantes, o valor de $S_{xy}$ se aproximará de zero, indicando que não existe nenhuma associação linear entre x e y.\n",
        "\n",
        "<img src=\"https://caelum-online-public.s3.amazonaws.com/1273-estatistica-parte4/01/img026.png\" width=50%>"
      ]
    },
    {
      "cell_type": "markdown",
      "metadata": {
        "id": "frhw7Uc8cakL"
      },
      "source": [
        "**Verificando a existência de uma associação linear negativa**"
      ]
    },
    {
      "cell_type": "code",
      "execution_count": null,
      "metadata": {
        "colab": {
          "base_uri": "https://localhost:8080/",
          "height": 460
        },
        "id": "Xb__N-ZlcakL",
        "outputId": "bff6eff8-9b06-484b-abec-13b2edfa81d0"
      },
      "outputs": [
        {
          "output_type": "stream",
          "name": "stderr",
          "text": [
            "/usr/local/lib/python3.8/dist-packages/seaborn/_decorators.py:36: FutureWarning: Pass the following variables as keyword args: x, y. From version 0.12, the only valid positional argument will be `data`, and passing other arguments without an explicit keyword will result in an error or misinterpretation.\n",
            "  warnings.warn(\n"
          ]
        },
        {
          "output_type": "execute_result",
          "data": {
            "text/plain": [
              "<matplotlib.collections.LineCollection at 0x7fd3514a6400>"
            ]
          },
          "metadata": {},
          "execution_count": 21
        },
        {
          "output_type": "display_data",
          "data": {
            "text/plain": [
              "<Figure size 720x432 with 1 Axes>"
            ],
            "image/png": "[encoded data removed]"
          },
          "metadata": {
            "needs_background": "light"
          }
        }
      ],
      "source": [
        "x = amostra.Renda\n",
        "y = amostra.Idade\n",
        "\n",
        "ax = sns.scatterplot(x, y)\n",
        "ax.figure.set_size_inches(10, 6)\n",
        "ax.hlines(y = y.mean(), xmin = x.min(), xmax = x.max(), colors='black', linestyles='dashed')\n",
        "ax.vlines(x = x.mean(), ymin = y.min(), ymax = y.max(), colors='black', linestyles='dashed')"
      ]
    },
    {
      "cell_type": "markdown",
      "metadata": {
        "id": "es2CobcCcakQ"
      },
      "source": [
        "**Verificando a existência de uma associação linear positiva**"
      ]
    },
    {
      "cell_type": "code",
      "execution_count": null,
      "metadata": {
        "colab": {
          "base_uri": "https://localhost:8080/",
          "height": 460
        },
        "id": "eLc5JmYCcakQ",
        "outputId": "86cf6994-4397-4f89-b9be-18a80f432405"
      },
      "outputs": [
        {
          "output_type": "stream",
          "name": "stderr",
          "text": [
            "/usr/local/lib/python3.8/dist-packages/seaborn/_decorators.py:36: FutureWarning: Pass the following variables as keyword args: x, y. From version 0.12, the only valid positional argument will be `data`, and passing other arguments without an explicit keyword will result in an error or misinterpretation.\n",
            "  warnings.warn(\n"
          ]
        },
        {
          "output_type": "execute_result",
          "data": {
            "text/plain": [
              "<matplotlib.collections.LineCollection at 0x7fd351464fd0>"
            ]
          },
          "metadata": {},
          "execution_count": 22
        },
        {
          "output_type": "display_data",
          "data": {
            "text/plain": [
              "<Figure size 720x432 with 1 Axes>"
            ],
            "image/png": "[encoded data removed]"
          },
          "metadata": {
            "needs_background": "light"
          }
        }
      ],
      "source": [
        "x = amostra.Renda\n",
        "y = amostra['Anos de Estudo']\n",
        "\n",
        "ax = sns.scatterplot(x, y)\n",
        "ax.figure.set_size_inches(10, 6)\n",
        "ax.hlines(y = y.mean(), xmin = x.min(), xmax = x.max(), colors='black', linestyles='dashed')\n",
        "ax.vlines(x = x.mean(), ymin = y.min(), ymax = y.max(), colors='black', linestyles='dashed')"
      ]
    },
    {
      "cell_type": "markdown",
      "metadata": {
        "id": "mYYlKQeHcakS"
      },
      "source": [
        "**Verificando a inexistência de uma associação linear entre as variáveis**"
      ]
    },
    {
      "cell_type": "code",
      "execution_count": null,
      "metadata": {
        "colab": {
          "base_uri": "https://localhost:8080/",
          "height": 460
        },
        "id": "R0S1AiBlcakS",
        "outputId": "42a093fe-a16f-4ee2-b302-cebe668f7c25"
      },
      "outputs": [
        {
          "output_type": "stream",
          "name": "stderr",
          "text": [
            "/usr/local/lib/python3.8/dist-packages/seaborn/_decorators.py:36: FutureWarning: Pass the following variables as keyword args: x, y. From version 0.12, the only valid positional argument will be `data`, and passing other arguments without an explicit keyword will result in an error or misinterpretation.\n",
            "  warnings.warn(\n"
          ]
        },
        {
          "output_type": "execute_result",
          "data": {
            "text/plain": [
              "<matplotlib.collections.LineCollection at 0x7fd3513c4fd0>"
            ]
          },
          "metadata": {},
          "execution_count": 23
        },
        {
          "output_type": "display_data",
          "data": {
            "text/plain": [
              "<Figure size 720x432 with 1 Axes>"
            ],
            "image/png": "[encoded data removed]"
          },
          "metadata": {
            "needs_background": "light"
          }
        }
      ],
      "source": [
        "x = amostra.Idade\n",
        "y = amostra.Altura\n",
        "\n",
        "ax = sns.scatterplot(x, y)\n",
        "ax.figure.set_size_inches(10, 6)\n",
        "ax.hlines(y = y.mean(), xmin = x.min(), xmax = x.max(), colors='black', linestyles='dashed')\n",
        "ax.vlines(x = x.mean(), ymin = y.min(), ymax = y.max(), colors='black', linestyles='dashed')"
      ]
    },
    {
      "cell_type": "markdown",
      "metadata": {
        "id": "zgSmQYrHcakb"
      },
      "source": [
        "<font color='red'>Observação Importante:</font>\n",
        "> Pelo que foi apresentado pode parecer que valores elevados, tanto positivos quanto negativos, para a covariância indicam relações lineares fortes entre as variáveis envolvidas. No entanto, um problema quando se usa a covariância como uma medida da intensidade da relação linear é que o valor da covariância depende das unidades de medida para x e y.\n",
        "> \n",
        "> Uma medida da relação entre duas variáveis que não é afetada pelas unidades de medida para x e y é o coeficiente de correlação que veremos no próximo tópico."
      ]
    },
    {
      "cell_type": "markdown",
      "metadata": {
        "id": "oPAxUkyQcakb"
      },
      "source": [
        "## <font color=orange>3.3 Coeficiente de correlação de Pearson</font>\n",
        "***"
      ]
    },
    {
      "cell_type": "markdown",
      "metadata": {
        "id": "6TYCLh0Hcakf"
      },
      "source": [
        "O coeficiente de Pearson permite avaliar a intensidade da relação entre as duas variáveis, diferentemente da covariância.\n",
        "\n",
        "É obtido dividindo-se a covariância da população ou amostra pelo produto do desvio padrão populacional ou amostral de x pelo desvio padrão populacional ou amostral de y.\n",
        "\n",
        "O coeficiente de correlação varia de -1 a +1. Valores que se aproximam de -1 ou +1 indicam uma relação linear forte. Quanto mais próxima a correlação estiver de zero, mais fraca será a relação.\n",
        "\n",
        "Um ponto importante é que o coeficiente de correlação é uma medida de associação linear e não necessariamente de causação. Uma correlação alta entre duas variáveis não significa, necessariamente, que variações em uma delas provocará alterações na outra.\n"
      ]
    },
    {
      "cell_type": "markdown",
      "source": [
        "\n",
        "* A distribuição das variáveis deve ser semelhante à curva normal.\n",
        "\n",
        "A correlação de Pearson é adequada para relações lineares. Outros testes de correlação possível são:\n",
        "\n",
        "* **Teste de correlação $\\eta$ (ETA) (razão de correlação)**: para relações não-lineares de X: variável categórica e Y: variável numérica. O seu valor é uma porcentagem.\n",
        "* **Correlação de postos de Spearman**: para testes não-paramétricos.\n",
        "* **Correlação de postos de Kendall ($\\tau$ de Kendall)**: é semalhante à correlação de Spearman, mas traz o diferencial de correlação parcial.\n",
        "    * 1 é uma correlação de posto perfeita; -1 é uma correlação de posto inersamente perfeita.\n"
      ],
      "metadata": {
        "id": "83rLKDZCYllZ"
      }
    },
    {
      "cell_type": "markdown",
      "source": [
        "> Coeficientes de correlação como correlação de postos de Spearman e {\\displaystyle \\tau }{\\displaystyle \\tau } de Kendall medem a como uma variável aumenta enquanto outra variável também aumenta, sem exigir que o aumento seja representado por uma relação linear. Se, à medida que uma variável aumenta, uma outra variável diminui, os coeficientes de correlação de postos serão negativos. É comum considerar estes coeficientes de correlação de postos como alternativas ao coeficiente de correlação de Pearson, usado tanto para reduzir a quantidade de cálculo quanto para tornar o coeficiente menos sensível para distribuições não normais. Entretanto, esta visão tem pouca base matemática, na medida em que coeficientes de correlação de postos medem um tipo de relação diferente do coeficiente de correlação de Pearson e são melhor vistos como medidas de um tipo de associação diferente em vez de medidas alternativas do coeficiente de correlação da população. (Wikipedia)"
      ],
      "metadata": {
        "id": "ohJo5_oAZ_pa"
      }
    },
    {
      "cell_type": "markdown",
      "metadata": {
        "id": "OgecrWGdcakf"
      },
      "source": [
        "* Coeficiente de correlação de Pearson - dados populacionais\n",
        "\n",
        "> $$\\rho_{xy} = \\frac{\\sigma_{xy}}{\\sigma_{x}\\sigma_{y}}$$\n",
        "\n",
        "* Coeficiente de correlação de Pearson - dados amostrais\n",
        "\n",
        "> $$r_{xy} = \\frac{s_{xy}}{s_{x}s_{y}}$$\n",
        "\n",
        "Onde\n",
        "\n",
        "$\\sigma_{xy}$ = covariância populacional entre x e y\n",
        "\n",
        "$s_{xy}$ = covariância amostral entre x e y\n",
        "\n",
        "$\\sigma_{x}$ e $\\sigma_{y}$ = desvios padrão populacionais de x e y, respectivamente\n",
        "\n",
        "$s_{x}$ e $s_{y}$ = desvios padrão amostrais de x e y, respectivamente"
      ]
    },
    {
      "cell_type": "markdown",
      "metadata": {
        "id": "jPk2i26acakg"
      },
      "source": [
        "**Obtendo $s_{xy}$**"
      ]
    },
    {
      "cell_type": "code",
      "execution_count": null,
      "metadata": {
        "colab": {
          "base_uri": "https://localhost:8080/",
          "height": 112
        },
        "id": "lc6MNkgQcakg",
        "outputId": "981680c6-af59-4934-94e5-89a1eb8cb1dc"
      },
      "outputs": [
        {
          "output_type": "execute_result",
          "data": {
            "text/plain": [
              "          Altura         Renda\n",
              "Altura  0.006355 -1.078964e+00\n",
              "Renda  -1.078964  1.104491e+07"
            ],
            "text/html": [
              "\n",
              "  <div id=\"df-dc235c85-956a-48df-b21a-5bc701d3898a\">\n",
              "    <div class=\"colab-df-container\">\n",
              "      <div>\n",
              "<style scoped>\n",
              "    .dataframe tbody tr th:only-of-type {\n",
              "        vertical-align: middle;\n",
              "    }\n",
              "\n",
              "    .dataframe tbody tr th {\n",
              "        vertical-align: top;\n",
              "    }\n",
              "\n",
              "    .dataframe thead th {\n",
              "        text-align: right;\n",
              "    }\n",
              "</style>\n",
              "<table border=\"1\" class=\"dataframe\">\n",
              "  <thead>\n",
              "    <tr style=\"text-align: right;\">\n",
              "      <th></th>\n",
              "      <th>Altura</th>\n",
              "      <th>Renda</th>\n",
              "    </tr>\n",
              "  </thead>\n",
              "  <tbody>\n",
              "    <tr>\n",
              "      <th>Altura</th>\n",
              "      <td>0.006355</td>\n",
              "      <td>-1.078964e+00</td>\n",
              "    </tr>\n",
              "    <tr>\n",
              "      <th>Renda</th>\n",
              "      <td>-1.078964</td>\n",
              "      <td>1.104491e+07</td>\n",
              "    </tr>\n",
              "  </tbody>\n",
              "</table>\n",
              "</div>\n",
              "      <button class=\"colab-df-convert\" onclick=\"convertToInteractive('df-dc235c85-956a-48df-b21a-5bc701d3898a')\"\n",
              "              title=\"Convert this dataframe to an interactive table.\"\n",
              "              style=\"display:none;\">\n",
              "        \n",
              "  <svg xmlns=\"http://www.w3.org/2000/svg\" height=\"24px\"viewBox=\"0 0 24 24\"\n",
              "       width=\"24px\">\n",
              "    <path d=\"M0 0h24v24H0V0z\" fill=\"none\"/>\n",
              "    <path d=\"M18.56 5.44l.94 2.06.94-2.06 2.06-.94-2.06-.94-.94-2.06-.94 2.06-2.06.94zm-11 1L8.5 8.5l.94-2.06 2.06-.94-2.06-.94L8.5 2.5l-.94 2.06-2.06.94zm10 10l.94 2.06.94-2.06 2.06-.94-2.06-.94-.94-2.06-.94 2.06-2.06.94z\"/><path d=\"M17.41 7.96l-1.37-1.37c-.4-.4-.92-.59-1.43-.59-.52 0-1.04.2-1.43.59L10.3 9.45l-7.72 7.72c-.78.78-.78 2.05 0 2.83L4 21.41c.39.39.9.59 1.41.59.51 0 1.02-.2 1.41-.59l7.78-7.78 2.81-2.81c.8-.78.8-2.07 0-2.86zM5.41 20L4 18.59l7.72-7.72 1.47 1.35L5.41 20z\"/>\n",
              "  </svg>\n",
              "      </button>\n",
              "      \n",
              "  <style>\n",
              "    .colab-df-container {\n",
              "      display:flex;\n",
              "      flex-wrap:wrap;\n",
              "      gap: 12px;\n",
              "    }\n",
              "\n",
              "    .colab-df-convert {\n",
              "      background-color: #E8F0FE;\n",
              "      border: none;\n",
              "      border-radius: 50%;\n",
              "      cursor: pointer;\n",
              "      display: none;\n",
              "      fill: #1967D2;\n",
              "      height: 32px;\n",
              "      padding: 0 0 0 0;\n",
              "      width: 32px;\n",
              "    }\n",
              "\n",
              "    .colab-df-convert:hover {\n",
              "      background-color: #E2EBFA;\n",
              "      box-shadow: 0px 1px 2px rgba(60, 64, 67, 0.3), 0px 1px 3px 1px rgba(60, 64, 67, 0.15);\n",
              "      fill: #174EA6;\n",
              "    }\n",
              "\n",
              "    [theme=dark] .colab-df-convert {\n",
              "      background-color: #3B4455;\n",
              "      fill: #D2E3FC;\n",
              "    }\n",
              "\n",
              "    [theme=dark] .colab-df-convert:hover {\n",
              "      background-color: #434B5C;\n",
              "      box-shadow: 0px 1px 3px 1px rgba(0, 0, 0, 0.15);\n",
              "      filter: drop-shadow(0px 1px 2px rgba(0, 0, 0, 0.3));\n",
              "      fill: #FFFFFF;\n",
              "    }\n",
              "  </style>\n",
              "\n",
              "      <script>\n",
              "        const buttonEl =\n",
              "          document.querySelector('#df-dc235c85-956a-48df-b21a-5bc701d3898a button.colab-df-convert');\n",
              "        buttonEl.style.display =\n",
              "          google.colab.kernel.accessAllowed ? 'block' : 'none';\n",
              "\n",
              "        async function convertToInteractive(key) {\n",
              "          const element = document.querySelector('#df-dc235c85-956a-48df-b21a-5bc701d3898a');\n",
              "          const dataTable =\n",
              "            await google.colab.kernel.invokeFunction('convertToInteractive',\n",
              "                                                     [key], {});\n",
              "          if (!dataTable) return;\n",
              "\n",
              "          const docLinkHtml = 'Like what you see? Visit the ' +\n",
              "            '<a target=\"_blank\" href=https://colab.research.google.com/notebooks/data_table.ipynb>data table notebook</a>'\n",
              "            + ' to learn more about interactive tables.';\n",
              "          element.innerHTML = '';\n",
              "          dataTable['output_type'] = 'display_data';\n",
              "          await google.colab.output.renderOutput(dataTable, element);\n",
              "          const docLink = document.createElement('div');\n",
              "          docLink.innerHTML = docLinkHtml;\n",
              "          element.appendChild(docLink);\n",
              "        }\n",
              "      </script>\n",
              "    </div>\n",
              "  </div>\n",
              "  "
            ]
          },
          "metadata": {},
          "execution_count": 25
        }
      ],
      "source": [
        "s_xy = dados[['Altura', 'Renda']].cov()\n",
        "s_xy"
      ]
    },
    {
      "cell_type": "code",
      "execution_count": null,
      "metadata": {
        "colab": {
          "base_uri": "https://localhost:8080/"
        },
        "id": "_8KNoxdhcakj",
        "outputId": "12154376-9b35-4063-b812-b3f0c5f9ae44"
      },
      "outputs": [
        {
          "output_type": "execute_result",
          "data": {
            "text/plain": [
              "-1.0789639314252715"
            ]
          },
          "metadata": {},
          "execution_count": 27
        }
      ],
      "source": [
        "s_xy = s_xy.loc['Renda', 'Altura']\n",
        "s_xy"
      ]
    },
    {
      "cell_type": "markdown",
      "metadata": {
        "id": "sDybJtCMcakl"
      },
      "source": [
        "**Obtendo $s_x$ e $s_y$**"
      ]
    },
    {
      "cell_type": "code",
      "execution_count": null,
      "metadata": {
        "id": "LTEEbMIzcakl"
      },
      "outputs": [],
      "source": [
        "s_x = dados['Altura'].std()\n",
        "s_y = dados['Renda'].std()"
      ]
    },
    {
      "cell_type": "markdown",
      "metadata": {
        "id": "VVpQ5QcCcakm"
      },
      "source": [
        "**Obtendo o coeficiente de correlação $r_{xy}$**"
      ]
    },
    {
      "cell_type": "code",
      "execution_count": null,
      "metadata": {
        "colab": {
          "base_uri": "https://localhost:8080/"
        },
        "id": "TuPWxVgccakq",
        "outputId": "23b4de4e-b0d6-4329-af03-de87d26d65aa"
      },
      "outputs": [
        {
          "output_type": "execute_result",
          "data": {
            "text/plain": [
              "-0.0040726081434002874"
            ]
          },
          "metadata": {},
          "execution_count": 31
        }
      ],
      "source": [
        "r_xy = s_xy / (s_x * s_y)\n",
        "r_xy"
      ]
    },
    {
      "cell_type": "markdown",
      "metadata": {
        "id": "miyTUNqpcakr"
      },
      "source": [
        "**Obtendo uma matriz de correlação com o Pandas**"
      ]
    },
    {
      "cell_type": "code",
      "execution_count": null,
      "metadata": {
        "colab": {
          "base_uri": "https://localhost:8080/",
          "height": 112
        },
        "id": "SjQUE6wVcakt",
        "outputId": "4988ddc5-30dc-4108-af93-2e20372eff34"
      },
      "outputs": [
        {
          "output_type": "execute_result",
          "data": {
            "text/plain": [
              "          Altura     Renda\n",
              "Altura  1.000000 -0.004073\n",
              "Renda  -0.004073  1.000000"
            ],
            "text/html": [
              "\n",
              "  <div id=\"df-d05f331b-0a3b-4876-91eb-c1b3d1fe6b03\">\n",
              "    <div class=\"colab-df-container\">\n",
              "      <div>\n",
              "<style scoped>\n",
              "    .dataframe tbody tr th:only-of-type {\n",
              "        vertical-align: middle;\n",
              "    }\n",
              "\n",
              "    .dataframe tbody tr th {\n",
              "        vertical-align: top;\n",
              "    }\n",
              "\n",
              "    .dataframe thead th {\n",
              "        text-align: right;\n",
              "    }\n",
              "</style>\n",
              "<table border=\"1\" class=\"dataframe\">\n",
              "  <thead>\n",
              "    <tr style=\"text-align: right;\">\n",
              "      <th></th>\n",
              "      <th>Altura</th>\n",
              "      <th>Renda</th>\n",
              "    </tr>\n",
              "  </thead>\n",
              "  <tbody>\n",
              "    <tr>\n",
              "      <th>Altura</th>\n",
              "      <td>1.000000</td>\n",
              "      <td>-0.004073</td>\n",
              "    </tr>\n",
              "    <tr>\n",
              "      <th>Renda</th>\n",
              "      <td>-0.004073</td>\n",
              "      <td>1.000000</td>\n",
              "    </tr>\n",
              "  </tbody>\n",
              "</table>\n",
              "</div>\n",
              "      <button class=\"colab-df-convert\" onclick=\"convertToInteractive('df-d05f331b-0a3b-4876-91eb-c1b3d1fe6b03')\"\n",
              "              title=\"Convert this dataframe to an interactive table.\"\n",
              "              style=\"display:none;\">\n",
              "        \n",
              "  <svg xmlns=\"http://www.w3.org/2000/svg\" height=\"24px\"viewBox=\"0 0 24 24\"\n",
              "       width=\"24px\">\n",
              "    <path d=\"M0 0h24v24H0V0z\" fill=\"none\"/>\n",
              "    <path d=\"M18.56 5.44l.94 2.06.94-2.06 2.06-.94-2.06-.94-.94-2.06-.94 2.06-2.06.94zm-11 1L8.5 8.5l.94-2.06 2.06-.94-2.06-.94L8.5 2.5l-.94 2.06-2.06.94zm10 10l.94 2.06.94-2.06 2.06-.94-2.06-.94-.94-2.06-.94 2.06-2.06.94z\"/><path d=\"M17.41 7.96l-1.37-1.37c-.4-.4-.92-.59-1.43-.59-.52 0-1.04.2-1.43.59L10.3 9.45l-7.72 7.72c-.78.78-.78 2.05 0 2.83L4 21.41c.39.39.9.59 1.41.59.51 0 1.02-.2 1.41-.59l7.78-7.78 2.81-2.81c.8-.78.8-2.07 0-2.86zM5.41 20L4 18.59l7.72-7.72 1.47 1.35L5.41 20z\"/>\n",
              "  </svg>\n",
              "      </button>\n",
              "      \n",
              "  <style>\n",
              "    .colab-df-container {\n",
              "      display:flex;\n",
              "      flex-wrap:wrap;\n",
              "      gap: 12px;\n",
              "    }\n",
              "\n",
              "    .colab-df-convert {\n",
              "      background-color: #E8F0FE;\n",
              "      border: none;\n",
              "      border-radius: 50%;\n",
              "      cursor: pointer;\n",
              "      display: none;\n",
              "      fill: #1967D2;\n",
              "      height: 32px;\n",
              "      padding: 0 0 0 0;\n",
              "      width: 32px;\n",
              "    }\n",
              "\n",
              "    .colab-df-convert:hover {\n",
              "      background-color: #E2EBFA;\n",
              "      box-shadow: 0px 1px 2px rgba(60, 64, 67, 0.3), 0px 1px 3px 1px rgba(60, 64, 67, 0.15);\n",
              "      fill: #174EA6;\n",
              "    }\n",
              "\n",
              "    [theme=dark] .colab-df-convert {\n",
              "      background-color: #3B4455;\n",
              "      fill: #D2E3FC;\n",
              "    }\n",
              "\n",
              "    [theme=dark] .colab-df-convert:hover {\n",
              "      background-color: #434B5C;\n",
              "      box-shadow: 0px 1px 3px 1px rgba(0, 0, 0, 0.15);\n",
              "      filter: drop-shadow(0px 1px 2px rgba(0, 0, 0, 0.3));\n",
              "      fill: #FFFFFF;\n",
              "    }\n",
              "  </style>\n",
              "\n",
              "      <script>\n",
              "        const buttonEl =\n",
              "          document.querySelector('#df-d05f331b-0a3b-4876-91eb-c1b3d1fe6b03 button.colab-df-convert');\n",
              "        buttonEl.style.display =\n",
              "          google.colab.kernel.accessAllowed ? 'block' : 'none';\n",
              "\n",
              "        async function convertToInteractive(key) {\n",
              "          const element = document.querySelector('#df-d05f331b-0a3b-4876-91eb-c1b3d1fe6b03');\n",
              "          const dataTable =\n",
              "            await google.colab.kernel.invokeFunction('convertToInteractive',\n",
              "                                                     [key], {});\n",
              "          if (!dataTable) return;\n",
              "\n",
              "          const docLinkHtml = 'Like what you see? Visit the ' +\n",
              "            '<a target=\"_blank\" href=https://colab.research.google.com/notebooks/data_table.ipynb>data table notebook</a>'\n",
              "            + ' to learn more about interactive tables.';\n",
              "          element.innerHTML = '';\n",
              "          dataTable['output_type'] = 'display_data';\n",
              "          await google.colab.output.renderOutput(dataTable, element);\n",
              "          const docLink = document.createElement('div');\n",
              "          docLink.innerHTML = docLinkHtml;\n",
              "          element.appendChild(docLink);\n",
              "        }\n",
              "      </script>\n",
              "    </div>\n",
              "  </div>\n",
              "  "
            ]
          },
          "metadata": {},
          "execution_count": 32
        }
      ],
      "source": [
        "dados[['Altura', 'Renda']].corr()"
      ]
    },
    {
      "cell_type": "code",
      "execution_count": null,
      "metadata": {
        "colab": {
          "base_uri": "https://localhost:8080/",
          "height": 460
        },
        "id": "0Zddu4ajcakx",
        "outputId": "babf94d4-bc4f-424d-f201-8607da0005fb"
      },
      "outputs": [
        {
          "output_type": "stream",
          "name": "stderr",
          "text": [
            "/usr/local/lib/python3.8/dist-packages/seaborn/_decorators.py:36: FutureWarning: Pass the following variables as keyword args: x, y. From version 0.12, the only valid positional argument will be `data`, and passing other arguments without an explicit keyword will result in an error or misinterpretation.\n",
            "  warnings.warn(\n"
          ]
        },
        {
          "output_type": "execute_result",
          "data": {
            "text/plain": [
              "<matplotlib.collections.LineCollection at 0x7fd34e107430>"
            ]
          },
          "metadata": {},
          "execution_count": 34
        },
        {
          "output_type": "display_data",
          "data": {
            "text/plain": [
              "<Figure size 720x432 with 1 Axes>"
            ],
            "image/png": "[encoded data removed]"
          },
          "metadata": {
            "needs_background": "light"
          }
        }
      ],
      "source": [
        "x = amostra.Renda\n",
        "y = amostra.Altura\n",
        "\n",
        "ax = sns.scatterplot(x, y)\n",
        "ax.figure.set_size_inches(10, 6)\n",
        "ax.hlines(y = y.mean(), xmin = x.min(), xmax = x.max(), colors='black', linestyles='dashed')\n",
        "ax.vlines(x = x.mean(), ymin = y.min(), ymax = y.max(), colors='black', linestyles='dashed')"
      ]
    },
    {
      "cell_type": "code",
      "execution_count": null,
      "metadata": {
        "colab": {
          "base_uri": "https://localhost:8080/",
          "height": 112
        },
        "id": "r-Iasce4cakv",
        "outputId": "54f708bd-eb87-475b-94e3-fe9eb3af67c4"
      },
      "outputs": [
        {
          "output_type": "execute_result",
          "data": {
            "text/plain": [
              "          X         Y\n",
              "X  1.000000  0.984835\n",
              "Y  0.984835  1.000000"
            ],
            "text/html": [
              "\n",
              "  <div id=\"df-e25f9d5b-2b89-4ad4-8c0b-8d79c52dff43\">\n",
              "    <div class=\"colab-df-container\">\n",
              "      <div>\n",
              "<style scoped>\n",
              "    .dataframe tbody tr th:only-of-type {\n",
              "        vertical-align: middle;\n",
              "    }\n",
              "\n",
              "    .dataframe tbody tr th {\n",
              "        vertical-align: top;\n",
              "    }\n",
              "\n",
              "    .dataframe thead th {\n",
              "        text-align: right;\n",
              "    }\n",
              "</style>\n",
              "<table border=\"1\" class=\"dataframe\">\n",
              "  <thead>\n",
              "    <tr style=\"text-align: right;\">\n",
              "      <th></th>\n",
              "      <th>X</th>\n",
              "      <th>Y</th>\n",
              "    </tr>\n",
              "  </thead>\n",
              "  <tbody>\n",
              "    <tr>\n",
              "      <th>X</th>\n",
              "      <td>1.000000</td>\n",
              "      <td>0.984835</td>\n",
              "    </tr>\n",
              "    <tr>\n",
              "      <th>Y</th>\n",
              "      <td>0.984835</td>\n",
              "      <td>1.000000</td>\n",
              "    </tr>\n",
              "  </tbody>\n",
              "</table>\n",
              "</div>\n",
              "      <button class=\"colab-df-convert\" onclick=\"convertToInteractive('df-e25f9d5b-2b89-4ad4-8c0b-8d79c52dff43')\"\n",
              "              title=\"Convert this dataframe to an interactive table.\"\n",
              "              style=\"display:none;\">\n",
              "        \n",
              "  <svg xmlns=\"http://www.w3.org/2000/svg\" height=\"24px\"viewBox=\"0 0 24 24\"\n",
              "       width=\"24px\">\n",
              "    <path d=\"M0 0h24v24H0V0z\" fill=\"none\"/>\n",
              "    <path d=\"M18.56 5.44l.94 2.06.94-2.06 2.06-.94-2.06-.94-.94-2.06-.94 2.06-2.06.94zm-11 1L8.5 8.5l.94-2.06 2.06-.94-2.06-.94L8.5 2.5l-.94 2.06-2.06.94zm10 10l.94 2.06.94-2.06 2.06-.94-2.06-.94-.94-2.06-.94 2.06-2.06.94z\"/><path d=\"M17.41 7.96l-1.37-1.37c-.4-.4-.92-.59-1.43-.59-.52 0-1.04.2-1.43.59L10.3 9.45l-7.72 7.72c-.78.78-.78 2.05 0 2.83L4 21.41c.39.39.9.59 1.41.59.51 0 1.02-.2 1.41-.59l7.78-7.78 2.81-2.81c.8-.78.8-2.07 0-2.86zM5.41 20L4 18.59l7.72-7.72 1.47 1.35L5.41 20z\"/>\n",
              "  </svg>\n",
              "      </button>\n",
              "      \n",
              "  <style>\n",
              "    .colab-df-container {\n",
              "      display:flex;\n",
              "      flex-wrap:wrap;\n",
              "      gap: 12px;\n",
              "    }\n",
              "\n",
              "    .colab-df-convert {\n",
              "      background-color: #E8F0FE;\n",
              "      border: none;\n",
              "      border-radius: 50%;\n",
              "      cursor: pointer;\n",
              "      display: none;\n",
              "      fill: #1967D2;\n",
              "      height: 32px;\n",
              "      padding: 0 0 0 0;\n",
              "      width: 32px;\n",
              "    }\n",
              "\n",
              "    .colab-df-convert:hover {\n",
              "      background-color: #E2EBFA;\n",
              "      box-shadow: 0px 1px 2px rgba(60, 64, 67, 0.3), 0px 1px 3px 1px rgba(60, 64, 67, 0.15);\n",
              "      fill: #174EA6;\n",
              "    }\n",
              "\n",
              "    [theme=dark] .colab-df-convert {\n",
              "      background-color: #3B4455;\n",
              "      fill: #D2E3FC;\n",
              "    }\n",
              "\n",
              "    [theme=dark] .colab-df-convert:hover {\n",
              "      background-color: #434B5C;\n",
              "      box-shadow: 0px 1px 3px 1px rgba(0, 0, 0, 0.15);\n",
              "      filter: drop-shadow(0px 1px 2px rgba(0, 0, 0, 0.3));\n",
              "      fill: #FFFFFF;\n",
              "    }\n",
              "  </style>\n",
              "\n",
              "      <script>\n",
              "        const buttonEl =\n",
              "          document.querySelector('#df-e25f9d5b-2b89-4ad4-8c0b-8d79c52dff43 button.colab-df-convert');\n",
              "        buttonEl.style.display =\n",
              "          google.colab.kernel.accessAllowed ? 'block' : 'none';\n",
              "\n",
              "        async function convertToInteractive(key) {\n",
              "          const element = document.querySelector('#df-e25f9d5b-2b89-4ad4-8c0b-8d79c52dff43');\n",
              "          const dataTable =\n",
              "            await google.colab.kernel.invokeFunction('convertToInteractive',\n",
              "                                                     [key], {});\n",
              "          if (!dataTable) return;\n",
              "\n",
              "          const docLinkHtml = 'Like what you see? Visit the ' +\n",
              "            '<a target=\"_blank\" href=https://colab.research.google.com/notebooks/data_table.ipynb>data table notebook</a>'\n",
              "            + ' to learn more about interactive tables.';\n",
              "          element.innerHTML = '';\n",
              "          dataTable['output_type'] = 'display_data';\n",
              "          await google.colab.output.renderOutput(dataTable, element);\n",
              "          const docLink = document.createElement('div');\n",
              "          docLink.innerHTML = docLinkHtml;\n",
              "          element.appendChild(docLink);\n",
              "        }\n",
              "      </script>\n",
              "    </div>\n",
              "  </div>\n",
              "  "
            ]
          },
          "metadata": {},
          "execution_count": 33
        }
      ],
      "source": [
        "dataset[['X', 'Y']].corr()"
      ]
    },
    {
      "cell_type": "code",
      "execution_count": null,
      "metadata": {
        "colab": {
          "base_uri": "https://localhost:8080/",
          "height": 460
        },
        "id": "iMNkYpnhcak0",
        "outputId": "b5d67324-a3fd-4671-c1fe-0892e21ba9b2"
      },
      "outputs": [
        {
          "output_type": "stream",
          "name": "stderr",
          "text": [
            "/usr/local/lib/python3.8/dist-packages/seaborn/_decorators.py:36: FutureWarning: Pass the following variables as keyword args: x, y. From version 0.12, the only valid positional argument will be `data`, and passing other arguments without an explicit keyword will result in an error or misinterpretation.\n",
            "  warnings.warn(\n"
          ]
        },
        {
          "output_type": "execute_result",
          "data": {
            "text/plain": [
              "<matplotlib.collections.LineCollection at 0x7fd34e1749a0>"
            ]
          },
          "metadata": {},
          "execution_count": 35
        },
        {
          "output_type": "display_data",
          "data": {
            "text/plain": [
              "<Figure size 720x432 with 1 Axes>"
            ],
            "image/png": "[encoded data removed]"
          },
          "metadata": {
            "needs_background": "light"
          }
        }
      ],
      "source": [
        "x = dataset.Y\n",
        "y = dataset.X\n",
        "\n",
        "ax = sns.scatterplot(x, y)\n",
        "ax.figure.set_size_inches(10, 6)\n",
        "ax.hlines(y = y.mean(), xmin = x.min(), xmax = x.max(), colors='black', linestyles='dashed')\n",
        "ax.vlines(x = x.mean(), ymin = y.min(), ymax = y.max(), colors='black', linestyles='dashed')"
      ]
    },
    {
      "cell_type": "markdown",
      "metadata": {
        "id": "HSF3lXxzcak3"
      },
      "source": [
        "---"
      ]
    },
    {
      "cell_type": "markdown",
      "metadata": {
        "id": "glWc43l2hLnL"
      },
      "source": [
        "# <font color=orange>4 REGRESSÃO LINEAR</font>\n",
        "***"
      ]
    },
    {
      "cell_type": "markdown",
      "metadata": {
        "id": "T0nLJKtLcak8"
      },
      "source": [
        "A análise de regressão diz respeito ao estudo da dependência de uma variável (a variável dependente) em relação a uma ou mais variáveis, as variáveis explicativas ou independentes, visando estimar e/ou prever o valor médio da primeira em termos dos valores conhecidos ou fixados das segundas.\n",
        "\n",
        "#### Terminologia\n",
        "\n",
        "> A variável que é prevista é conhecida como variável dependente (*Y*).\n",
        "\n",
        "> A variável utilizada para prever o valor da variável dependente é conhecida como variável independente (*X*).\n",
        "\n",
        "A **análise de regressão simples** considera uma variável dependente e apenas uma variável independente onde a relação entre as variáveis se aproxima de uma linha reta."
      ]
    },
    {
      "cell_type": "markdown",
      "metadata": {
        "id": "jIXc6LA7cak9"
      },
      "source": [
        "## <font color=orange>4.1 Regressão linear simples</font>\n",
        "***"
      ]
    },
    {
      "cell_type": "markdown",
      "metadata": {
        "id": "bIhWKDuK75k2"
      },
      "source": [
        "### Função consumo\n",
        "\n",
        "O modelo teórico econômico \"[Função consumo](https://pt.wikipedia.org/wiki/Fun%C3%A7%C3%A3o_de_consumo#:~:text=Em%20economia%2C%20a%20fun%C3%A7%C3%A3o%20de,do%20Juro%20e%20da%20Moeda.)\" é um caso comum na exemplificação do uso da regressão linear. \n",
        "\n",
        "Um economista famoso do passado (John Maynard Keynes) concluiu em um de seus estudos que os indivíduos tendem a aumentar o seu consumo conforme sua renda aumenta. Logicamente esta teoria ganhou um pouco mais de complexidade, mas vamos utilizar sua forma mais simples para entender o procedimento de análise de regressão com a seguninte formulação (forma funcional):\n",
        "\n",
        "# $$Y_i = \\beta_1 + \\beta_2X_i$$\n",
        "\n",
        "Onde\n",
        "\n",
        "- $Y_i$ é o gasto das famílias ou consumo das famílias\n",
        "\n",
        "- $X_i$ é a renda disponível\n",
        "\n",
        "- $\\beta_1$ é conhecido como intercepto (no modelo teórico acima é conhecido como consumo autônomo, ou seja, o consumo quando o rendimento é zero)\n",
        "\n",
        "- $\\beta_2$ é o coefiente angular (no modelo teórico é a propensão marginal a consumir)\n",
        "\n",
        "Em uma análise de regressão linear simples, o interesse está em estimar a função de regressão populacional como a apresentada acima, ou seja, estimar os valores dos parâmetros $\\beta_1$ e $\\beta_2$ com base nas observações de $Y$ e $X$."
      ]
    },
    {
      "cell_type": "markdown",
      "metadata": {
        "id": "1kkZ2NxPcak-"
      },
      "source": [
        "**Carregando o dataset**"
      ]
    },
    {
      "cell_type": "code",
      "execution_count": null,
      "metadata": {
        "id": "-um71iXqcak-"
      },
      "outputs": [],
      "source": [
        "dataset = {\n",
        "    'Y': [3011, 1305, 1879, 2654, 2849, 1068, 2892, 2543, 3074, 849, 2184, 2943, 1357, 2755, 2163, 3099, 1600, 353, 1778, 740, 2129, 3302, 2412, 2683, 2515, 2395, 2292, 1000, 600, 1864, 3027, 1978, 2791, 1982, 900, 1964, 1247, 3067, 700, 1500, 3110, 2644, 1378, 2601, 501, 1292, 2125, 1431, 2260, 1770],\n",
        "    'X': [9714, 3728, 6062, 8845, 8378, 3338, 8507, 7947, 9915, 1632, 6825, 8918, 4100, 9184, 6180, 9997, 4500, 1069, 5925, 2466, 6083, 9712, 7780, 8383, 7185, 7483, 7640, 2100, 2000, 6012, 8902, 5345, 8210, 5662, 2700, 6546, 2900, 9894, 1500, 5000, 8885, 8813, 3446, 7881, 1164, 3401, 6641, 3329, 6648, 4800]\n",
        "}"
      ]
    },
    {
      "cell_type": "code",
      "execution_count": null,
      "metadata": {
        "colab": {
          "base_uri": "https://localhost:8080/",
          "height": 206
        },
        "id": "eVisdrGdcak_",
        "outputId": "6289717b-11d7-4d87-ba4f-ca02723525ba",
        "scrolled": true
      },
      "outputs": [
        {
          "output_type": "execute_result",
          "data": {
            "text/plain": [
              "      Y     X\n",
              "0  3011  9714\n",
              "1  1305  3728\n",
              "2  1879  6062\n",
              "3  2654  8845\n",
              "4  2849  8378"
            ],
            "text/html": [
              "\n",
              "  <div id=\"df-169c4059-c6cb-4a1a-84d2-3def20484aa7\">\n",
              "    <div class=\"colab-df-container\">\n",
              "      <div>\n",
              "<style scoped>\n",
              "    .dataframe tbody tr th:only-of-type {\n",
              "        vertical-align: middle;\n",
              "    }\n",
              "\n",
              "    .dataframe tbody tr th {\n",
              "        vertical-align: top;\n",
              "    }\n",
              "\n",
              "    .dataframe thead th {\n",
              "        text-align: right;\n",
              "    }\n",
              "</style>\n",
              "<table border=\"1\" class=\"dataframe\">\n",
              "  <thead>\n",
              "    <tr style=\"text-align: right;\">\n",
              "      <th></th>\n",
              "      <th>Y</th>\n",
              "      <th>X</th>\n",
              "    </tr>\n",
              "  </thead>\n",
              "  <tbody>\n",
              "    <tr>\n",
              "      <th>0</th>\n",
              "      <td>3011</td>\n",
              "      <td>9714</td>\n",
              "    </tr>\n",
              "    <tr>\n",
              "      <th>1</th>\n",
              "      <td>1305</td>\n",
              "      <td>3728</td>\n",
              "    </tr>\n",
              "    <tr>\n",
              "      <th>2</th>\n",
              "      <td>1879</td>\n",
              "      <td>6062</td>\n",
              "    </tr>\n",
              "    <tr>\n",
              "      <th>3</th>\n",
              "      <td>2654</td>\n",
              "      <td>8845</td>\n",
              "    </tr>\n",
              "    <tr>\n",
              "      <th>4</th>\n",
              "      <td>2849</td>\n",
              "      <td>8378</td>\n",
              "    </tr>\n",
              "  </tbody>\n",
              "</table>\n",
              "</div>\n",
              "      <button class=\"colab-df-convert\" onclick=\"convertToInteractive('df-169c4059-c6cb-4a1a-84d2-3def20484aa7')\"\n",
              "              title=\"Convert this dataframe to an interactive table.\"\n",
              "              style=\"display:none;\">\n",
              "        \n",
              "  <svg xmlns=\"http://www.w3.org/2000/svg\" height=\"24px\"viewBox=\"0 0 24 24\"\n",
              "       width=\"24px\">\n",
              "    <path d=\"M0 0h24v24H0V0z\" fill=\"none\"/>\n",
              "    <path d=\"M18.56 5.44l.94 2.06.94-2.06 2.06-.94-2.06-.94-.94-2.06-.94 2.06-2.06.94zm-11 1L8.5 8.5l.94-2.06 2.06-.94-2.06-.94L8.5 2.5l-.94 2.06-2.06.94zm10 10l.94 2.06.94-2.06 2.06-.94-2.06-.94-.94-2.06-.94 2.06-2.06.94z\"/><path d=\"M17.41 7.96l-1.37-1.37c-.4-.4-.92-.59-1.43-.59-.52 0-1.04.2-1.43.59L10.3 9.45l-7.72 7.72c-.78.78-.78 2.05 0 2.83L4 21.41c.39.39.9.59 1.41.59.51 0 1.02-.2 1.41-.59l7.78-7.78 2.81-2.81c.8-.78.8-2.07 0-2.86zM5.41 20L4 18.59l7.72-7.72 1.47 1.35L5.41 20z\"/>\n",
              "  </svg>\n",
              "      </button>\n",
              "      \n",
              "  <style>\n",
              "    .colab-df-container {\n",
              "      display:flex;\n",
              "      flex-wrap:wrap;\n",
              "      gap: 12px;\n",
              "    }\n",
              "\n",
              "    .colab-df-convert {\n",
              "      background-color: #E8F0FE;\n",
              "      border: none;\n",
              "      border-radius: 50%;\n",
              "      cursor: pointer;\n",
              "      display: none;\n",
              "      fill: #1967D2;\n",
              "      height: 32px;\n",
              "      padding: 0 0 0 0;\n",
              "      width: 32px;\n",
              "    }\n",
              "\n",
              "    .colab-df-convert:hover {\n",
              "      background-color: #E2EBFA;\n",
              "      box-shadow: 0px 1px 2px rgba(60, 64, 67, 0.3), 0px 1px 3px 1px rgba(60, 64, 67, 0.15);\n",
              "      fill: #174EA6;\n",
              "    }\n",
              "\n",
              "    [theme=dark] .colab-df-convert {\n",
              "      background-color: #3B4455;\n",
              "      fill: #D2E3FC;\n",
              "    }\n",
              "\n",
              "    [theme=dark] .colab-df-convert:hover {\n",
              "      background-color: #434B5C;\n",
              "      box-shadow: 0px 1px 3px 1px rgba(0, 0, 0, 0.15);\n",
              "      filter: drop-shadow(0px 1px 2px rgba(0, 0, 0, 0.3));\n",
              "      fill: #FFFFFF;\n",
              "    }\n",
              "  </style>\n",
              "\n",
              "      <script>\n",
              "        const buttonEl =\n",
              "          document.querySelector('#df-169c4059-c6cb-4a1a-84d2-3def20484aa7 button.colab-df-convert');\n",
              "        buttonEl.style.display =\n",
              "          google.colab.kernel.accessAllowed ? 'block' : 'none';\n",
              "\n",
              "        async function convertToInteractive(key) {\n",
              "          const element = document.querySelector('#df-169c4059-c6cb-4a1a-84d2-3def20484aa7');\n",
              "          const dataTable =\n",
              "            await google.colab.kernel.invokeFunction('convertToInteractive',\n",
              "                                                     [key], {});\n",
              "          if (!dataTable) return;\n",
              "\n",
              "          const docLinkHtml = 'Like what you see? Visit the ' +\n",
              "            '<a target=\"_blank\" href=https://colab.research.google.com/notebooks/data_table.ipynb>data table notebook</a>'\n",
              "            + ' to learn more about interactive tables.';\n",
              "          element.innerHTML = '';\n",
              "          dataTable['output_type'] = 'display_data';\n",
              "          await google.colab.output.renderOutput(dataTable, element);\n",
              "          const docLink = document.createElement('div');\n",
              "          docLink.innerHTML = docLinkHtml;\n",
              "          element.appendChild(docLink);\n",
              "        }\n",
              "      </script>\n",
              "    </div>\n",
              "  </div>\n",
              "  "
            ]
          },
          "metadata": {},
          "execution_count": 37
        }
      ],
      "source": [
        "dataset = pd.DataFrame(dataset)\n",
        "dataset.head()"
      ]
    },
    {
      "cell_type": "markdown",
      "metadata": {
        "id": "FnwGB3f1calB"
      },
      "source": [
        "### **1. Identificando a relação entre as variáveis**\n",
        "\n",
        "Primeira tarefa é saber se há alguma RELAÇÃO LINERAR entre ambas variáveis. Pode-se observar uma figura de dispersão ou, no seaborn, o `lmplot`.\n",
        "\n",
        "https://seaborn.pydata.org/generated/seaborn.lmplot.html\n",
        "\n",
        "Plota a reta de regressão entre duas variáveis juntamente com a dispersão entre elas."
      ]
    },
    {
      "cell_type": "code",
      "execution_count": null,
      "metadata": {
        "colab": {
          "base_uri": "https://localhost:8080/",
          "height": 473
        },
        "id": "DI16LyC7calB",
        "outputId": "e1a201d2-6cd3-42b0-bfed-976ae82afc1a"
      },
      "outputs": [
        {
          "output_type": "execute_result",
          "data": {
            "text/plain": [
              "<seaborn.axisgrid.FacetGrid at 0x7fd34e174dc0>"
            ]
          },
          "metadata": {},
          "execution_count": 38
        },
        {
          "output_type": "display_data",
          "data": {
            "text/plain": [
              "<Figure size 864x432 with 1 Axes>"
            ],
            "image/png": "[encoded data removed]"
          },
          "metadata": {
            "needs_background": "light"
          }
        }
      ],
      "source": [
        "# 1. Identificando a relação entre as variáveis\n",
        "ax = sns.lmplot(x=\"X\", y=\"Y\", data=dataset)\n",
        "ax.fig.set_size_inches(12, 6)\n",
        "ax.fig.suptitle('Reta de Regressão - Gasto X Renda', fontsize=16, y=1.02)\n",
        "ax.set_xlabels(\"Renda das Famílias\", fontsize=14)\n",
        "ax.set_ylabels(\"Gasto das Famílias\", fontsize=14)\n",
        "ax"
      ]
    },
    {
      "cell_type": "markdown",
      "metadata": {
        "id": "5_PIOCAv75k9"
      },
      "source": [
        "### **2. Matriz de correlação**\n",
        "\n",
        "Avaliação da intensidade da relação."
      ]
    },
    {
      "cell_type": "code",
      "execution_count": null,
      "metadata": {
        "colab": {
          "base_uri": "https://localhost:8080/",
          "height": 112
        },
        "id": "R7Zr6nuy75k-",
        "outputId": "e617cf66-f7c6-46f8-e98f-12cc2ee9f072"
      },
      "outputs": [
        {
          "output_type": "execute_result",
          "data": {
            "text/plain": [
              "          Y         X\n",
              "Y  1.000000  0.984835\n",
              "X  0.984835  1.000000"
            ],
            "text/html": [
              "\n",
              "  <div id=\"df-b2df19ab-293e-4878-b1ee-4deb5e087e4d\">\n",
              "    <div class=\"colab-df-container\">\n",
              "      <div>\n",
              "<style scoped>\n",
              "    .dataframe tbody tr th:only-of-type {\n",
              "        vertical-align: middle;\n",
              "    }\n",
              "\n",
              "    .dataframe tbody tr th {\n",
              "        vertical-align: top;\n",
              "    }\n",
              "\n",
              "    .dataframe thead th {\n",
              "        text-align: right;\n",
              "    }\n",
              "</style>\n",
              "<table border=\"1\" class=\"dataframe\">\n",
              "  <thead>\n",
              "    <tr style=\"text-align: right;\">\n",
              "      <th></th>\n",
              "      <th>Y</th>\n",
              "      <th>X</th>\n",
              "    </tr>\n",
              "  </thead>\n",
              "  <tbody>\n",
              "    <tr>\n",
              "      <th>Y</th>\n",
              "      <td>1.000000</td>\n",
              "      <td>0.984835</td>\n",
              "    </tr>\n",
              "    <tr>\n",
              "      <th>X</th>\n",
              "      <td>0.984835</td>\n",
              "      <td>1.000000</td>\n",
              "    </tr>\n",
              "  </tbody>\n",
              "</table>\n",
              "</div>\n",
              "      <button class=\"colab-df-convert\" onclick=\"convertToInteractive('df-b2df19ab-293e-4878-b1ee-4deb5e087e4d')\"\n",
              "              title=\"Convert this dataframe to an interactive table.\"\n",
              "              style=\"display:none;\">\n",
              "        \n",
              "  <svg xmlns=\"http://www.w3.org/2000/svg\" height=\"24px\"viewBox=\"0 0 24 24\"\n",
              "       width=\"24px\">\n",
              "    <path d=\"M0 0h24v24H0V0z\" fill=\"none\"/>\n",
              "    <path d=\"M18.56 5.44l.94 2.06.94-2.06 2.06-.94-2.06-.94-.94-2.06-.94 2.06-2.06.94zm-11 1L8.5 8.5l.94-2.06 2.06-.94-2.06-.94L8.5 2.5l-.94 2.06-2.06.94zm10 10l.94 2.06.94-2.06 2.06-.94-2.06-.94-.94-2.06-.94 2.06-2.06.94z\"/><path d=\"M17.41 7.96l-1.37-1.37c-.4-.4-.92-.59-1.43-.59-.52 0-1.04.2-1.43.59L10.3 9.45l-7.72 7.72c-.78.78-.78 2.05 0 2.83L4 21.41c.39.39.9.59 1.41.59.51 0 1.02-.2 1.41-.59l7.78-7.78 2.81-2.81c.8-.78.8-2.07 0-2.86zM5.41 20L4 18.59l7.72-7.72 1.47 1.35L5.41 20z\"/>\n",
              "  </svg>\n",
              "      </button>\n",
              "      \n",
              "  <style>\n",
              "    .colab-df-container {\n",
              "      display:flex;\n",
              "      flex-wrap:wrap;\n",
              "      gap: 12px;\n",
              "    }\n",
              "\n",
              "    .colab-df-convert {\n",
              "      background-color: #E8F0FE;\n",
              "      border: none;\n",
              "      border-radius: 50%;\n",
              "      cursor: pointer;\n",
              "      display: none;\n",
              "      fill: #1967D2;\n",
              "      height: 32px;\n",
              "      padding: 0 0 0 0;\n",
              "      width: 32px;\n",
              "    }\n",
              "\n",
              "    .colab-df-convert:hover {\n",
              "      background-color: #E2EBFA;\n",
              "      box-shadow: 0px 1px 2px rgba(60, 64, 67, 0.3), 0px 1px 3px 1px rgba(60, 64, 67, 0.15);\n",
              "      fill: #174EA6;\n",
              "    }\n",
              "\n",
              "    [theme=dark] .colab-df-convert {\n",
              "      background-color: #3B4455;\n",
              "      fill: #D2E3FC;\n",
              "    }\n",
              "\n",
              "    [theme=dark] .colab-df-convert:hover {\n",
              "      background-color: #434B5C;\n",
              "      box-shadow: 0px 1px 3px 1px rgba(0, 0, 0, 0.15);\n",
              "      filter: drop-shadow(0px 1px 2px rgba(0, 0, 0, 0.3));\n",
              "      fill: #FFFFFF;\n",
              "    }\n",
              "  </style>\n",
              "\n",
              "      <script>\n",
              "        const buttonEl =\n",
              "          document.querySelector('#df-b2df19ab-293e-4878-b1ee-4deb5e087e4d button.colab-df-convert');\n",
              "        buttonEl.style.display =\n",
              "          google.colab.kernel.accessAllowed ? 'block' : 'none';\n",
              "\n",
              "        async function convertToInteractive(key) {\n",
              "          const element = document.querySelector('#df-b2df19ab-293e-4878-b1ee-4deb5e087e4d');\n",
              "          const dataTable =\n",
              "            await google.colab.kernel.invokeFunction('convertToInteractive',\n",
              "                                                     [key], {});\n",
              "          if (!dataTable) return;\n",
              "\n",
              "          const docLinkHtml = 'Like what you see? Visit the ' +\n",
              "            '<a target=\"_blank\" href=https://colab.research.google.com/notebooks/data_table.ipynb>data table notebook</a>'\n",
              "            + ' to learn more about interactive tables.';\n",
              "          element.innerHTML = '';\n",
              "          dataTable['output_type'] = 'display_data';\n",
              "          await google.colab.output.renderOutput(dataTable, element);\n",
              "          const docLink = document.createElement('div');\n",
              "          docLink.innerHTML = docLinkHtml;\n",
              "          element.appendChild(docLink);\n",
              "        }\n",
              "      </script>\n",
              "    </div>\n",
              "  </div>\n",
              "  "
            ]
          },
          "metadata": {},
          "execution_count": 39
        }
      ],
      "source": [
        "dataset.corr()"
      ]
    },
    {
      "cell_type": "markdown",
      "metadata": {
        "id": "lzD2VpXccak9"
      },
      "source": [
        "### **Função de regressão populacional**\n",
        "\n",
        "A equação formulada acima é conhecida como **função de regressão populacional (FRP)** e em alguns livros é também representada da seguinte forma:\n",
        "\n",
        "> <h2>$$E(Y|X_i) = \\beta_1 + \\beta_2X_i$$</h2>\n",
        "\n",
        "Ela afirma que o valor esperado da distribuição de $Y$, dado $X_i$, tem uma relação funcional com $X_i$, isto é, a resposta média de $Y$ varia com $X$. O coeficientes $\\beta_1$ e $\\beta_2$ são conhecidos como coeficientes de regressão e também são conhecidos como intercepto e coeficiente angular, respectivamente.\n",
        "\n",
        "<img src=\"https://caelum-online-public.s3.amazonaws.com/1273-estatistica-parte4/01/img027.png\" width=50%>\n",
        "\n"
      ]
    },
    {
      "cell_type": "markdown",
      "source": [
        "**erro estocástico**\n",
        "\n",
        "O gráfico de dispersão acima deixa claro que com o aumento da renda familiar, em média, as despesas de consumo das famílias aumentam, mas não no mesmo nível. O que podemos dizer é que para um nível de renda $X_i$ as despesas médias de consumo de uma\n",
        "família agrupam-se em torno do consumo médio de todas as famílias deste nível $X_i$, isto é, em torno de sua esperança condicional $E(Y|X_i)$. Portanto, podemos expressar o desvio individual de $Y_i$ em torno de seu valor esperado da seguinte forma:\n",
        "\n",
        "> <h2> $$u_i = Y_i - E(Y|X_i)$$</h2>\n",
        "\n",
        "ou\n",
        "\n",
        "> <h2> $$Y_i = E(Y|X_i) + u_i$$</h2>\n",
        "\n",
        "onde o desvio $u_i$ é uma variável aleatória não-observável que assume valores positivos ou negativos. Esta variável é também cohecida como termo de erro estocástico.\n",
        "\n",
        "Observe que a podemos representar a FRP em sua **forma estocástica**, ou seja, considerando o termo do erro, da seguinte maneira:\n",
        "\n",
        "> <h2> $$Y_i = \\beta_1 + \\beta_2X_i + u_i$$</h2>"
      ],
      "metadata": {
        "id": "EsZhIP6ffRw5"
      }
    },
    {
      "cell_type": "markdown",
      "metadata": {
        "id": "yOR8pKHkcak9"
      },
      "source": [
        "## <font color=orange>4.2 O método de mínimos quadrados ordinários</font>\n",
        "***"
      ]
    },
    {
      "cell_type": "markdown",
      "source": [
        "### Dedução do método"
      ],
      "metadata": {
        "id": "aNFERySS-ds0"
      }
    },
    {
      "cell_type": "markdown",
      "metadata": {
        "id": "M-iKUvPlcak-"
      },
      "source": [
        "Considere a seguinte **função de regressão da população (FRP)** para duas variáveis:\n",
        "\n",
        ">  <h3>$$Y_i = \\beta_1 + \\beta_2X_i + u_i$$</h3>\n",
        "\n",
        "Como a **FRP** não pode ser obtida de forma direta, precisamos estimá-la através da **função de regressão amostral (FRA)**.\n",
        "\n",
        ">  <h3>$$Y_i = \\hat{\\beta}_1 + \\hat{\\beta}_2X_i + \\hat{u}_i$$</h3>\n",
        ">  <h3>$$Y_i = \\hat{Y}_i + \\hat{u}_i$$</h3>\n",
        "\n",
        "onde $\\hat{Y}_i$ é o valor estimado de $Y_i$, ou seja, o chapeu representa uma **estimativa**.\n",
        "\n",
        "A partir da equação acima podemos expressar o erro da seguinte maneira:\n",
        "\n",
        ">  <h3>$$\\hat{u}_i = Y_i - \\hat{Y}_i$$</h3>\n",
        ">  <h3>$$\\hat{u}_i = Y_i - \\hat{\\beta}_1 - \\hat{\\beta}_2X_i$$</h3>\n",
        "\n",
        "A ideia é determinar **FRA** de forma que fique o mais próximo possível do valor observado de $Y$. Intuitivamente uma forma interessante de fazer isso seria determinar **FRA** de maneira que a soma dos resíduos seja a menor possível.\n",
        "\n",
        ">  <h3>$$\\sum\\hat{u}_i = \\sum{(Y_i - \\hat{Y}_i)}$$</h3>\n",
        "\n"
      ]
    },
    {
      "cell_type": "markdown",
      "source": [
        "Avaliando a figura abaixo se pode verificar que talvez o critério de minimizar a soma dos resíduos não seja a melhor abordagem para solucionar o problema.\n",
        "\n",
        "<img src=\"https://caelum-online-public.s3.amazonaws.com/1273-estatistica-parte4/01/img015.png\" width=50%>\n",
        "\n",
        "O critério de minimização da soma dos resíduos assume que todos os resíduos tem o mesmo peso no somatório, o que nem sempre se comprova. Em nosso exemplo os resíduos $\\hat{u}_1$ e $\\hat{u}_4$ encontram-se bem mais afastados da **FRA** que $\\hat{u}_2$ e $\\hat{u}_3$. Isso acarreta na possibilidade de que a soma dos $\\hat{u}_i$'s seja bastante pequena e até mesmo nula, mesmo que os resíduos estejam muito dispersos em relação a reta de regressão.\n",
        "\n"
      ],
      "metadata": {
        "id": "-s3HBVOLvZn0"
      }
    },
    {
      "cell_type": "markdown",
      "metadata": {
        "id": "bIsppET0cak-"
      },
      "source": [
        "## <font color=orange>4.3 Estimadores de mínimos quadrados ordinários</font>\n",
        "***"
      ]
    },
    {
      "cell_type": "markdown",
      "metadata": {
        "id": "xLwHRq7cpbaa"
      },
      "source": [
        "### Formal"
      ]
    },
    {
      "cell_type": "markdown",
      "source": [
        "Para evitar tal problema adotou-se o critério de minimização da soma dos quadrados dos resíduos que é conhecido como **Método de Mínimos Quadrados**.\n",
        "\n",
        "> <h3>$$\\sum\\hat{u}_i^2 = \\sum{(Y_i - \\hat{Y}_i)^2}$$</h3>\n",
        "> <h3>$$\\sum\\hat{u}_i^2 = \\sum{(Y_i - \\hat{\\beta}_1 - \\hat{\\beta}_2X_i)^2}$$</h3>\n",
        "\n",
        "Após um procedimento de diferenciação, algumas simplificações e manipulações algébricas obtemos os **estimadores de mínimos quadrados**.\n",
        "\n",
        "> <h3>$$\n",
        "\\begin{equation}\n",
        "\\boxed{\\hat{\\beta}_2 = \\frac{n\\sum{X_iY_i} - \\sum{X_i}\\sum{Y_i}}{n\\sum{X_i^2} - (\\sum{X_i})^2}}\n",
        "\\end{equation}\n",
        "$$</h3>\n",
        "\n",
        "> <h3>$$\n",
        "\\begin{equation}\n",
        "\\boxed{\n",
        "\\begin{eqnarray}\n",
        "\\hat{\\beta}_1 &=& \\frac{\\sum{X_i^2}\\sum{Y_i} - \\sum{X_i}\\sum{X_iY_i}}{n\\sum{X_i^2} - (\\sum{X_i})^2}\\\\\n",
        "&=& \\bar{Y} - \\hat{\\beta}_2\\bar{X}\n",
        "\\end{eqnarray}\n",
        "}\n",
        "\\end{equation}\n",
        "$$</h3>"
      ],
      "metadata": {
        "id": "BpvH-RZ3vbqZ"
      }
    },
    {
      "cell_type": "markdown",
      "metadata": {
        "id": "HTFJyCNCcalE"
      },
      "source": [
        "**Obter $n$**"
      ]
    },
    {
      "cell_type": "code",
      "execution_count": null,
      "metadata": {
        "id": "ZcHOhSNRcalE"
      },
      "outputs": [],
      "source": [
        "# n\n",
        "n = len(dataset)\n",
        "n"
      ]
    },
    {
      "cell_type": "markdown",
      "metadata": {
        "id": "2R8QzULvcalF"
      },
      "source": [
        "**Obter $\\sum{Y}$**"
      ]
    },
    {
      "cell_type": "code",
      "execution_count": null,
      "metadata": {
        "id": "wfY4FHLgcalG"
      },
      "outputs": [],
      "source": [
        "# Somatória de Y\n",
        "SOMA_Y = dataset['Y'].sum()\n",
        "SOMA_Y"
      ]
    },
    {
      "cell_type": "markdown",
      "metadata": {
        "id": "dpWo8F-fcalI"
      },
      "source": [
        "**Obter $\\sum{X}$**"
      ]
    },
    {
      "cell_type": "code",
      "execution_count": null,
      "metadata": {
        "id": "vgRIhNl9calI"
      },
      "outputs": [],
      "source": [
        "# Somatória de X\n",
        "SOMA_X = dataset['X'].sum()\n",
        "SOMA_X"
      ]
    },
    {
      "cell_type": "markdown",
      "metadata": {
        "id": "ZOrXXyygcalJ"
      },
      "source": [
        "**Obter $\\sum{X^2}$**"
      ]
    },
    {
      "cell_type": "code",
      "execution_count": null,
      "metadata": {
        "id": "boXBQUIJcalK",
        "scrolled": true
      },
      "outputs": [],
      "source": [
        "# Coluna do X²\n",
        "dataset['X2'] = dataset['X']**2\n",
        "dataset.head()"
      ]
    },
    {
      "cell_type": "code",
      "execution_count": null,
      "metadata": {
        "id": "ce-I43picalL"
      },
      "outputs": [],
      "source": [
        "# Somatória de X²\n",
        "SOMA_X2 = dataset['X2'].sum()\n",
        "SOMA_X2"
      ]
    },
    {
      "cell_type": "code",
      "execution_count": null,
      "metadata": {
        "id": "TAiTZKfOcalM"
      },
      "outputs": [],
      "source": [
        "# Alternativa de Somatória de X²\n",
        "SOMA_X2 = [dataset['X'].apply(lambda x: x**2).sum()\n",
        "SOMA_X2"
      ]
    },
    {
      "cell_type": "markdown",
      "metadata": {
        "id": "ls1COzpxcalN"
      },
      "source": [
        "**Obter $\\sum{Y^2}$**"
      ]
    },
    {
      "cell_type": "code",
      "execution_count": null,
      "metadata": {
        "id": "gYc_poUmcalN"
      },
      "outputs": [],
      "source": [
        "# Alternativa de Somatória de Y²\n",
        "SOMA_Y2 = dataset['Y'].apply(lambda Y: Y**2).sum()\n",
        "SOMA_Y2"
      ]
    },
    {
      "cell_type": "markdown",
      "metadata": {
        "id": "UsCtTk3pcalP"
      },
      "source": [
        "**Obter $\\sum{XY}$**"
      ]
    },
    {
      "cell_type": "code",
      "execution_count": null,
      "metadata": {
        "id": "Mw4pfCAEcalP",
        "scrolled": true
      },
      "outputs": [],
      "source": [
        "# Somatória do produto de X e Y\n",
        "dataset['XY'] = dataset['X'] * dataset['Y']\n",
        "dataset.head()"
      ]
    },
    {
      "cell_type": "code",
      "execution_count": null,
      "metadata": {
        "id": "s1NNuoM4calQ"
      },
      "outputs": [],
      "source": [
        "SOMA_XY = dataset['XY'].sum()"
      ]
    },
    {
      "cell_type": "code",
      "execution_count": null,
      "metadata": {
        "id": "fwAWf3SScalR"
      },
      "outputs": [],
      "source": [
        "# # Somatória do produto de X e Y, alternativa\n",
        "SOMA_XY = dataset.apply(lambda data: data['X'] * data['Y'], axis='columns').sum()"
      ]
    },
    {
      "cell_type": "markdown",
      "metadata": {
        "id": "EX-oAn2rcalU"
      },
      "source": [
        "**Obter $\\hat{\\beta}_2$**\n",
        "\n",
        "> <h3>$$\\hat{\\beta}_2 = \\frac{n\\sum{X_iY_i} - \\sum{X_i}\\sum{Y_i}}{n\\sum{X_i^2} - (\\sum{X_i})^2}$$</h3>"
      ]
    },
    {
      "cell_type": "code",
      "execution_count": null,
      "metadata": {
        "id": "UY-nWn7LcalU"
      },
      "outputs": [],
      "source": [
        "numerador = n * SOMA_XY - SOMA_X * SOMA_Y\n",
        "denominador = n * SOMA_X2 - (SOMA_X)**2\n",
        "\n",
        "beta_2 = numerador / denominador\n",
        "beta_2"
      ]
    },
    {
      "cell_type": "markdown",
      "metadata": {
        "id": "v4QCFagscalW"
      },
      "source": [
        "**Obter $\\hat{\\beta}_1$**\n",
        "\n",
        "> <h3>$$\n",
        "\\begin{eqnarray}\n",
        "\\hat{\\beta}_1 &=& \\frac{\\sum{X_i^2}\\sum{Y_i} - \\sum{X_i}\\sum{X_iY_i}}{n\\sum{X_i^2} - (\\sum{X_i})^2}\\\\\n",
        "&=& \\bar{Y} - \\hat{\\beta}_2\\bar{X}\n",
        "\\end{eqnarray}\n",
        "$$</h2>"
      ]
    },
    {
      "cell_type": "code",
      "execution_count": null,
      "metadata": {
        "id": "-Gjc1ra5calW"
      },
      "outputs": [],
      "source": [
        "beta_1 = dataset['Y'].mean() - beta_2*dataset['X'].mean()"
      ]
    },
    {
      "cell_type": "markdown",
      "metadata": {
        "id": "SjcncMd1calY"
      },
      "source": [
        "### StatsModels"
      ]
    },
    {
      "cell_type": "markdown",
      "source": [
        "O StatsModels permite utilizar os padrões da linguagem R. Neste método ele já assume a existÊncia da constante. No método a seguir é necessário fornecer a constante."
      ],
      "metadata": {
        "id": "8rDRGVplEJ22"
      }
    },
    {
      "cell_type": "markdown",
      "metadata": {
        "id": "Ud6O4f-qcalY"
      },
      "source": [
        "**Importando a biblioteca**\n",
        "https://www.statsmodels.org/stable/index.html"
      ]
    },
    {
      "cell_type": "code",
      "execution_count": null,
      "metadata": {
        "id": "QnYZ2T-7calZ"
      },
      "outputs": [],
      "source": [
        "import statsmodels.api as sm"
      ]
    },
    {
      "cell_type": "code",
      "execution_count": null,
      "metadata": {
        "id": "sUlIFQh-calb"
      },
      "outputs": [],
      "source": [
        "Y = dataset['Y']"
      ]
    },
    {
      "cell_type": "code",
      "execution_count": null,
      "metadata": {
        "id": "6Npgg9NNcald",
        "scrolled": true,
        "colab": {
          "base_uri": "https://localhost:8080/"
        },
        "outputId": "a4243eca-f8e0-47cf-a9b9-8cbd2d58493e"
      },
      "outputs": [
        {
          "output_type": "stream",
          "name": "stderr",
          "text": [
            "/usr/local/lib/python3.8/dist-packages/statsmodels/tsa/tsatools.py:142: FutureWarning: In a future version of pandas all arguments of concat except for the argument 'objs' will be keyword-only\n",
            "  x = pd.concat(x[::order], 1)\n"
          ]
        }
      ],
      "source": [
        "# Declaração manual das variáveis independentes\n",
        "X = sm.add_constant(dataset['X'])"
      ]
    },
    {
      "cell_type": "code",
      "execution_count": null,
      "metadata": {
        "id": "eDgJXjCAcale",
        "scrolled": true,
        "colab": {
          "base_uri": "https://localhost:8080/"
        },
        "outputId": "ca827e09-707c-4137-983d-e91c1a0c2f23"
      },
      "outputs": [
        {
          "output_type": "execute_result",
          "data": {
            "text/plain": [
              "0    3011\n",
              "1    1305\n",
              "2    1879\n",
              "3    2654\n",
              "4    2849\n",
              "Name: Y, dtype: int64"
            ]
          },
          "metadata": {},
          "execution_count": 41
        }
      ],
      "source": [
        "Y.head()"
      ]
    },
    {
      "cell_type": "code",
      "source": [
        "X.head()"
      ],
      "metadata": {
        "colab": {
          "base_uri": "https://localhost:8080/",
          "height": 206
        },
        "id": "Q83Tl02HDQ58",
        "outputId": "15f507ce-ae5a-4005-cc4f-ad49b9c23fda"
      },
      "execution_count": null,
      "outputs": [
        {
          "output_type": "execute_result",
          "data": {
            "text/plain": [
              "   const     X\n",
              "0    1.0  9714\n",
              "1    1.0  3728\n",
              "2    1.0  6062\n",
              "3    1.0  8845\n",
              "4    1.0  8378"
            ],
            "text/html": [
              "\n",
              "  <div id=\"df-d6ce29e7-348f-426d-8b3d-78cfb877eb3d\">\n",
              "    <div class=\"colab-df-container\">\n",
              "      <div>\n",
              "<style scoped>\n",
              "    .dataframe tbody tr th:only-of-type {\n",
              "        vertical-align: middle;\n",
              "    }\n",
              "\n",
              "    .dataframe tbody tr th {\n",
              "        vertical-align: top;\n",
              "    }\n",
              "\n",
              "    .dataframe thead th {\n",
              "        text-align: right;\n",
              "    }\n",
              "</style>\n",
              "<table border=\"1\" class=\"dataframe\">\n",
              "  <thead>\n",
              "    <tr style=\"text-align: right;\">\n",
              "      <th></th>\n",
              "      <th>const</th>\n",
              "      <th>X</th>\n",
              "    </tr>\n",
              "  </thead>\n",
              "  <tbody>\n",
              "    <tr>\n",
              "      <th>0</th>\n",
              "      <td>1.0</td>\n",
              "      <td>9714</td>\n",
              "    </tr>\n",
              "    <tr>\n",
              "      <th>1</th>\n",
              "      <td>1.0</td>\n",
              "      <td>3728</td>\n",
              "    </tr>\n",
              "    <tr>\n",
              "      <th>2</th>\n",
              "      <td>1.0</td>\n",
              "      <td>6062</td>\n",
              "    </tr>\n",
              "    <tr>\n",
              "      <th>3</th>\n",
              "      <td>1.0</td>\n",
              "      <td>8845</td>\n",
              "    </tr>\n",
              "    <tr>\n",
              "      <th>4</th>\n",
              "      <td>1.0</td>\n",
              "      <td>8378</td>\n",
              "    </tr>\n",
              "  </tbody>\n",
              "</table>\n",
              "</div>\n",
              "      <button class=\"colab-df-convert\" onclick=\"convertToInteractive('df-d6ce29e7-348f-426d-8b3d-78cfb877eb3d')\"\n",
              "              title=\"Convert this dataframe to an interactive table.\"\n",
              "              style=\"display:none;\">\n",
              "        \n",
              "  <svg xmlns=\"http://www.w3.org/2000/svg\" height=\"24px\"viewBox=\"0 0 24 24\"\n",
              "       width=\"24px\">\n",
              "    <path d=\"M0 0h24v24H0V0z\" fill=\"none\"/>\n",
              "    <path d=\"M18.56 5.44l.94 2.06.94-2.06 2.06-.94-2.06-.94-.94-2.06-.94 2.06-2.06.94zm-11 1L8.5 8.5l.94-2.06 2.06-.94-2.06-.94L8.5 2.5l-.94 2.06-2.06.94zm10 10l.94 2.06.94-2.06 2.06-.94-2.06-.94-.94-2.06-.94 2.06-2.06.94z\"/><path d=\"M17.41 7.96l-1.37-1.37c-.4-.4-.92-.59-1.43-.59-.52 0-1.04.2-1.43.59L10.3 9.45l-7.72 7.72c-.78.78-.78 2.05 0 2.83L4 21.41c.39.39.9.59 1.41.59.51 0 1.02-.2 1.41-.59l7.78-7.78 2.81-2.81c.8-.78.8-2.07 0-2.86zM5.41 20L4 18.59l7.72-7.72 1.47 1.35L5.41 20z\"/>\n",
              "  </svg>\n",
              "      </button>\n",
              "      \n",
              "  <style>\n",
              "    .colab-df-container {\n",
              "      display:flex;\n",
              "      flex-wrap:wrap;\n",
              "      gap: 12px;\n",
              "    }\n",
              "\n",
              "    .colab-df-convert {\n",
              "      background-color: #E8F0FE;\n",
              "      border: none;\n",
              "      border-radius: 50%;\n",
              "      cursor: pointer;\n",
              "      display: none;\n",
              "      fill: #1967D2;\n",
              "      height: 32px;\n",
              "      padding: 0 0 0 0;\n",
              "      width: 32px;\n",
              "    }\n",
              "\n",
              "    .colab-df-convert:hover {\n",
              "      background-color: #E2EBFA;\n",
              "      box-shadow: 0px 1px 2px rgba(60, 64, 67, 0.3), 0px 1px 3px 1px rgba(60, 64, 67, 0.15);\n",
              "      fill: #174EA6;\n",
              "    }\n",
              "\n",
              "    [theme=dark] .colab-df-convert {\n",
              "      background-color: #3B4455;\n",
              "      fill: #D2E3FC;\n",
              "    }\n",
              "\n",
              "    [theme=dark] .colab-df-convert:hover {\n",
              "      background-color: #434B5C;\n",
              "      box-shadow: 0px 1px 3px 1px rgba(0, 0, 0, 0.15);\n",
              "      filter: drop-shadow(0px 1px 2px rgba(0, 0, 0, 0.3));\n",
              "      fill: #FFFFFF;\n",
              "    }\n",
              "  </style>\n",
              "\n",
              "      <script>\n",
              "        const buttonEl =\n",
              "          document.querySelector('#df-d6ce29e7-348f-426d-8b3d-78cfb877eb3d button.colab-df-convert');\n",
              "        buttonEl.style.display =\n",
              "          google.colab.kernel.accessAllowed ? 'block' : 'none';\n",
              "\n",
              "        async function convertToInteractive(key) {\n",
              "          const element = document.querySelector('#df-d6ce29e7-348f-426d-8b3d-78cfb877eb3d');\n",
              "          const dataTable =\n",
              "            await google.colab.kernel.invokeFunction('convertToInteractive',\n",
              "                                                     [key], {});\n",
              "          if (!dataTable) return;\n",
              "\n",
              "          const docLinkHtml = 'Like what you see? Visit the ' +\n",
              "            '<a target=\"_blank\" href=https://colab.research.google.com/notebooks/data_table.ipynb>data table notebook</a>'\n",
              "            + ' to learn more about interactive tables.';\n",
              "          element.innerHTML = '';\n",
              "          dataTable['output_type'] = 'display_data';\n",
              "          await google.colab.output.renderOutput(dataTable, element);\n",
              "          const docLink = document.createElement('div');\n",
              "          docLink.innerHTML = docLinkHtml;\n",
              "          element.appendChild(docLink);\n",
              "        }\n",
              "      </script>\n",
              "    </div>\n",
              "  </div>\n",
              "  "
            ]
          },
          "metadata": {},
          "execution_count": 42
        }
      ]
    },
    {
      "cell_type": "markdown",
      "metadata": {
        "id": "OZs1ykL_calh"
      },
      "source": [
        "**Estimando o modelo**"
      ]
    },
    {
      "cell_type": "code",
      "execution_count": null,
      "metadata": {
        "id": "CGGritStcalh"
      },
      "outputs": [],
      "source": [
        "# Método OLS - Ordinary least squares\n",
        "resultado_regressao = sm.OLS(Y, X, missing='drop').fit()"
      ]
    },
    {
      "cell_type": "markdown",
      "metadata": {
        "id": "pyVnbv7vcali"
      },
      "source": [
        "**Visualizando os parâmetros estimados**"
      ]
    },
    {
      "cell_type": "code",
      "execution_count": null,
      "metadata": {
        "id": "Ye2sF_ygcalj",
        "colab": {
          "base_uri": "https://localhost:8080/"
        },
        "outputId": "e583ded6-88bc-466b-9c83-c9418d6d9d6a"
      },
      "outputs": [
        {
          "output_type": "execute_result",
          "data": {
            "text/plain": [
              "<statsmodels.regression.linear_model.RegressionResultsWrapper at 0x7f3b26c96d30>"
            ]
          },
          "metadata": {},
          "execution_count": 44
        }
      ],
      "source": [
        "resultado_regressao"
      ]
    },
    {
      "cell_type": "code",
      "source": [
        "print(resultado_regressao.summary())"
      ],
      "metadata": {
        "colab": {
          "base_uri": "https://localhost:8080/"
        },
        "id": "bhd6YrTrGqKk",
        "outputId": "d6ccefb3-8993-4e06-85f2-ce8a4f4f9085"
      },
      "execution_count": null,
      "outputs": [
        {
          "output_type": "stream",
          "name": "stdout",
          "text": [
            "                            OLS Regression Results                            \n",
            "==============================================================================\n",
            "Dep. Variable:                      Y   R-squared:                       0.970\n",
            "Model:                            OLS   Adj. R-squared:                  0.969\n",
            "Method:                 Least Squares   F-statistic:                     1547.\n",
            "Date:                Mon, 26 Dec 2022   Prob (F-statistic):           3.56e-38\n",
            "Time:                        01:55:35   Log-Likelihood:                -318.16\n",
            "No. Observations:                  50   AIC:                             640.3\n",
            "Df Residuals:                      48   BIC:                             644.1\n",
            "Df Model:                           1                                         \n",
            "Covariance Type:            nonrobust                                         \n",
            "==============================================================================\n",
            "                 coef    std err          t      P>|t|      [0.025      0.975]\n",
            "------------------------------------------------------------------------------\n",
            "const        207.9033     50.127      4.148      0.000     107.117     308.690\n",
            "X              0.2973      0.008     39.328      0.000       0.282       0.312\n",
            "==============================================================================\n",
            "Omnibus:                       22.833   Durbin-Watson:                   2.408\n",
            "Prob(Omnibus):                  0.000   Jarque-Bera (JB):                3.915\n",
            "Skew:                           0.073   Prob(JB):                        0.141\n",
            "Kurtosis:                       1.637   Cond. No.                     1.64e+04\n",
            "==============================================================================\n",
            "\n",
            "Notes:\n",
            "[1] Standard Errors assume that the covariance matrix of the errors is correctly specified.\n",
            "[2] The condition number is large, 1.64e+04. This might indicate that there are\n",
            "strong multicollinearity or other numerical problems.\n"
          ]
        }
      ]
    },
    {
      "cell_type": "code",
      "execution_count": null,
      "metadata": {
        "id": "5RGcqao9call",
        "colab": {
          "base_uri": "https://localhost:8080/",
          "height": 165
        },
        "outputId": "d2cf89a9-9058-44a7-f652-4436b66cdc34"
      },
      "outputs": [
        {
          "output_type": "error",
          "ename": "NameError",
          "evalue": "ignored",
          "traceback": [
            "\u001b[0;31m---------------------------------------------------------------------------\u001b[0m",
            "\u001b[0;31mNameError\u001b[0m                                 Traceback (most recent call last)",
            "\u001b[0;32m<ipython-input-24-21e2343a1d68>\u001b[0m in \u001b[0;36m<module>\u001b[0;34m\u001b[0m\n\u001b[0;32m----> 1\u001b[0;31m \u001b[0mbeta_1\u001b[0m\u001b[0;34m\u001b[0m\u001b[0;34m\u001b[0m\u001b[0m\n\u001b[0m",
            "\u001b[0;31mNameError\u001b[0m: name 'beta_1' is not defined"
          ]
        }
      ],
      "source": [
        "beta_1"
      ]
    },
    {
      "cell_type": "code",
      "execution_count": null,
      "metadata": {
        "id": "RUScqQ1dcalm",
        "colab": {
          "base_uri": "https://localhost:8080/",
          "height": 165
        },
        "outputId": "5c9f8a29-7be2-43d0-8359-ef4a347427a0"
      },
      "outputs": [
        {
          "output_type": "error",
          "ename": "NameError",
          "evalue": "ignored",
          "traceback": [
            "\u001b[0;31m---------------------------------------------------------------------------\u001b[0m",
            "\u001b[0;31mNameError\u001b[0m                                 Traceback (most recent call last)",
            "\u001b[0;32m<ipython-input-25-b21d20ef47e7>\u001b[0m in \u001b[0;36m<module>\u001b[0;34m\u001b[0m\n\u001b[0;32m----> 1\u001b[0;31m \u001b[0mbeta_2\u001b[0m\u001b[0;34m\u001b[0m\u001b[0;34m\u001b[0m\u001b[0m\n\u001b[0m",
            "\u001b[0;31mNameError\u001b[0m: name 'beta_2' is not defined"
          ]
        }
      ],
      "source": [
        "beta_2"
      ]
    },
    {
      "cell_type": "code",
      "execution_count": null,
      "metadata": {
        "id": "9geqX6FScaln",
        "colab": {
          "base_uri": "https://localhost:8080/"
        },
        "outputId": "34e3c933-a560-421c-c86f-8bff59249050"
      },
      "outputs": [
        {
          "output_type": "execute_result",
          "data": {
            "text/plain": [
              "const    207.903314\n",
              "X          0.297291\n",
              "dtype: float64"
            ]
          },
          "metadata": {},
          "execution_count": 26
        }
      ],
      "source": [
        "# PARAMETROS DA REGRESSÃO\n",
        "resultado_regressao.params"
      ]
    },
    {
      "cell_type": "code",
      "execution_count": null,
      "metadata": {
        "id": "U238WwEVcalo",
        "colab": {
          "base_uri": "https://localhost:8080/"
        },
        "outputId": "ab17e12a-5cd8-46ca-cbdd-05ab252cfcc4"
      },
      "outputs": [
        {
          "output_type": "execute_result",
          "data": {
            "text/plain": [
              "207.90331377756553"
            ]
          },
          "metadata": {},
          "execution_count": 47
        }
      ],
      "source": [
        "# BETA 1 (const)\n",
        "beta_1 = resultado_regressao.params[0]\n",
        "beta_1"
      ]
    },
    {
      "cell_type": "code",
      "source": [
        "# BETA 2 (X)\n",
        "beta_2 = resultado_regressao.params[1]\n",
        "beta_2"
      ],
      "metadata": {
        "colab": {
          "base_uri": "https://localhost:8080/"
        },
        "id": "jBcS7K49FuND",
        "outputId": "3559bc4e-6446-443f-e546-83bed8091950"
      },
      "execution_count": null,
      "outputs": [
        {
          "output_type": "execute_result",
          "data": {
            "text/plain": [
              "0.29729069099372435"
            ]
          },
          "metadata": {},
          "execution_count": 48
        }
      ]
    },
    {
      "cell_type": "markdown",
      "metadata": {
        "id": "POcFkp72calp"
      },
      "source": [
        "**Intervalo de confiança para os parâmetros estimados**"
      ]
    },
    {
      "cell_type": "code",
      "execution_count": null,
      "metadata": {
        "id": "-VrPhUV8calp",
        "colab": {
          "base_uri": "https://localhost:8080/",
          "height": 112
        },
        "outputId": "43eea8db-98e5-4cab-9d79-a5e95d13ff08"
      },
      "outputs": [
        {
          "output_type": "execute_result",
          "data": {
            "text/plain": [
              "                0           1\n",
              "const  107.116864  308.689763\n",
              "X        0.282092    0.312490"
            ],
            "text/html": [
              "\n",
              "  <div id=\"df-b506cd0b-8181-4d94-b5a5-de807da5e01f\">\n",
              "    <div class=\"colab-df-container\">\n",
              "      <div>\n",
              "<style scoped>\n",
              "    .dataframe tbody tr th:only-of-type {\n",
              "        vertical-align: middle;\n",
              "    }\n",
              "\n",
              "    .dataframe tbody tr th {\n",
              "        vertical-align: top;\n",
              "    }\n",
              "\n",
              "    .dataframe thead th {\n",
              "        text-align: right;\n",
              "    }\n",
              "</style>\n",
              "<table border=\"1\" class=\"dataframe\">\n",
              "  <thead>\n",
              "    <tr style=\"text-align: right;\">\n",
              "      <th></th>\n",
              "      <th>0</th>\n",
              "      <th>1</th>\n",
              "    </tr>\n",
              "  </thead>\n",
              "  <tbody>\n",
              "    <tr>\n",
              "      <th>const</th>\n",
              "      <td>107.116864</td>\n",
              "      <td>308.689763</td>\n",
              "    </tr>\n",
              "    <tr>\n",
              "      <th>X</th>\n",
              "      <td>0.282092</td>\n",
              "      <td>0.312490</td>\n",
              "    </tr>\n",
              "  </tbody>\n",
              "</table>\n",
              "</div>\n",
              "      <button class=\"colab-df-convert\" onclick=\"convertToInteractive('df-b506cd0b-8181-4d94-b5a5-de807da5e01f')\"\n",
              "              title=\"Convert this dataframe to an interactive table.\"\n",
              "              style=\"display:none;\">\n",
              "        \n",
              "  <svg xmlns=\"http://www.w3.org/2000/svg\" height=\"24px\"viewBox=\"0 0 24 24\"\n",
              "       width=\"24px\">\n",
              "    <path d=\"M0 0h24v24H0V0z\" fill=\"none\"/>\n",
              "    <path d=\"M18.56 5.44l.94 2.06.94-2.06 2.06-.94-2.06-.94-.94-2.06-.94 2.06-2.06.94zm-11 1L8.5 8.5l.94-2.06 2.06-.94-2.06-.94L8.5 2.5l-.94 2.06-2.06.94zm10 10l.94 2.06.94-2.06 2.06-.94-2.06-.94-.94-2.06-.94 2.06-2.06.94z\"/><path d=\"M17.41 7.96l-1.37-1.37c-.4-.4-.92-.59-1.43-.59-.52 0-1.04.2-1.43.59L10.3 9.45l-7.72 7.72c-.78.78-.78 2.05 0 2.83L4 21.41c.39.39.9.59 1.41.59.51 0 1.02-.2 1.41-.59l7.78-7.78 2.81-2.81c.8-.78.8-2.07 0-2.86zM5.41 20L4 18.59l7.72-7.72 1.47 1.35L5.41 20z\"/>\n",
              "  </svg>\n",
              "      </button>\n",
              "      \n",
              "  <style>\n",
              "    .colab-df-container {\n",
              "      display:flex;\n",
              "      flex-wrap:wrap;\n",
              "      gap: 12px;\n",
              "    }\n",
              "\n",
              "    .colab-df-convert {\n",
              "      background-color: #E8F0FE;\n",
              "      border: none;\n",
              "      border-radius: 50%;\n",
              "      cursor: pointer;\n",
              "      display: none;\n",
              "      fill: #1967D2;\n",
              "      height: 32px;\n",
              "      padding: 0 0 0 0;\n",
              "      width: 32px;\n",
              "    }\n",
              "\n",
              "    .colab-df-convert:hover {\n",
              "      background-color: #E2EBFA;\n",
              "      box-shadow: 0px 1px 2px rgba(60, 64, 67, 0.3), 0px 1px 3px 1px rgba(60, 64, 67, 0.15);\n",
              "      fill: #174EA6;\n",
              "    }\n",
              "\n",
              "    [theme=dark] .colab-df-convert {\n",
              "      background-color: #3B4455;\n",
              "      fill: #D2E3FC;\n",
              "    }\n",
              "\n",
              "    [theme=dark] .colab-df-convert:hover {\n",
              "      background-color: #434B5C;\n",
              "      box-shadow: 0px 1px 3px 1px rgba(0, 0, 0, 0.15);\n",
              "      filter: drop-shadow(0px 1px 2px rgba(0, 0, 0, 0.3));\n",
              "      fill: #FFFFFF;\n",
              "    }\n",
              "  </style>\n",
              "\n",
              "      <script>\n",
              "        const buttonEl =\n",
              "          document.querySelector('#df-b506cd0b-8181-4d94-b5a5-de807da5e01f button.colab-df-convert');\n",
              "        buttonEl.style.display =\n",
              "          google.colab.kernel.accessAllowed ? 'block' : 'none';\n",
              "\n",
              "        async function convertToInteractive(key) {\n",
              "          const element = document.querySelector('#df-b506cd0b-8181-4d94-b5a5-de807da5e01f');\n",
              "          const dataTable =\n",
              "            await google.colab.kernel.invokeFunction('convertToInteractive',\n",
              "                                                     [key], {});\n",
              "          if (!dataTable) return;\n",
              "\n",
              "          const docLinkHtml = 'Like what you see? Visit the ' +\n",
              "            '<a target=\"_blank\" href=https://colab.research.google.com/notebooks/data_table.ipynb>data table notebook</a>'\n",
              "            + ' to learn more about interactive tables.';\n",
              "          element.innerHTML = '';\n",
              "          dataTable['output_type'] = 'display_data';\n",
              "          await google.colab.output.renderOutput(dataTable, element);\n",
              "          const docLink = document.createElement('div');\n",
              "          docLink.innerHTML = docLinkHtml;\n",
              "          element.appendChild(docLink);\n",
              "        }\n",
              "      </script>\n",
              "    </div>\n",
              "  </div>\n",
              "  "
            ]
          },
          "metadata": {},
          "execution_count": 34
        }
      ],
      "source": [
        "resultado_regressao.conf_int(alpha=.05)"
      ]
    },
    {
      "cell_type": "markdown",
      "source": [
        "## EXEMPLO 2\n"
      ],
      "metadata": {
        "id": "Ll7oTrM5JMEs"
      }
    },
    {
      "cell_type": "markdown",
      "source": [
        "Onde temos o número de domicílios que possuem computador (Y) e a renda total recebida por pessoas de 10 anos ou mais (X), em cada um dos estados brasileiros.\n",
        "\n",
        "Acredita-se que a posse de computadores tenha uma relação linear com a renda das famílias e para comprovar isso, podemos estimar uma regressão linear com os dados acima e avaliar os resultados obtidos.\n",
        "\n",
        "Neste problema, precisamos, inicialmente, obter as estimativas dos parâmetros de regressão.\n",
        "\n",
        "Informações extras:\n",
        "\n",
        "O valor da renda está dividido por 1.000.000, isto é, se um estado tem uma renda total de R\\$ 4,2, significa que ele tem uma renda total de R\\$ 4.200.000."
      ],
      "metadata": {
        "id": "JqGVvse1JOdG"
      }
    },
    {
      "cell_type": "code",
      "source": [
        "dataset_2 = {\n",
        "    'Y': [670, 220, 1202, 188, 1869, 248, 477, 1294, 816, 2671, 1403, 1586, 3468, 973, 701, 5310, 10950, 2008, 9574, 28863, 6466, 4274, 6432, 1326, 1423, 3211, 2140], \n",
        "    'X': [1.59, 0.56, 2.68, 0.47, 5.2, 0.58, 1.32, 3.88, 2.11, 5.53, 2.6, 2.94, 6.62, 1.91, 1.48, 10.64, 22.39, 4.2, 21.9, 59.66, 14.22, 9.57, 14.67, 3.28, 3.49, 6.94, 6.25]\n",
        "}"
      ],
      "metadata": {
        "id": "LvF6w6g0JO6n"
      },
      "execution_count": null,
      "outputs": []
    },
    {
      "cell_type": "code",
      "source": [
        "# sm = None\n",
        "import statsmodels.api as sm"
      ],
      "metadata": {
        "id": "5tJ_2lvBJQc4"
      },
      "execution_count": null,
      "outputs": []
    },
    {
      "cell_type": "code",
      "source": [
        "Y = dataset_2['Y']"
      ],
      "metadata": {
        "id": "1sA6IUEvJe-x"
      },
      "execution_count": null,
      "outputs": []
    },
    {
      "cell_type": "code",
      "source": [
        "X = sm.add_constant(dataset_2['X'])"
      ],
      "metadata": {
        "id": "hzsYfcn_Jq5J"
      },
      "execution_count": null,
      "outputs": []
    },
    {
      "cell_type": "code",
      "source": [
        "resultado_regressao_2 = sm.OLS(Y, X, missing='drop').fit()"
      ],
      "metadata": {
        "colab": {
          "base_uri": "https://localhost:8080/"
        },
        "id": "_R2cAY6oJyGC",
        "outputId": "c5b5d43c-6502-42eb-f198-a016bfdaf461"
      },
      "execution_count": null,
      "outputs": [
        {
          "output_type": "execute_result",
          "data": {
            "text/plain": [
              "<statsmodels.regression.linear_model.RegressionResultsWrapper at 0x7f3b29cd3e50>"
            ]
          },
          "metadata": {},
          "execution_count": 64
        }
      ]
    },
    {
      "cell_type": "code",
      "source": [
        "print(resultado_regressao_2.summary())"
      ],
      "metadata": {
        "colab": {
          "base_uri": "https://localhost:8080/"
        },
        "id": "-rtoMArCJ-3B",
        "outputId": "6414051a-9d0b-43bc-8307-180f72269217"
      },
      "execution_count": null,
      "outputs": [
        {
          "output_type": "stream",
          "name": "stdout",
          "text": [
            "                            OLS Regression Results                            \n",
            "==============================================================================\n",
            "Dep. Variable:                      y   R-squared:                       0.997\n",
            "Model:                            OLS   Adj. R-squared:                  0.997\n",
            "Method:                 Least Squares   F-statistic:                     7767.\n",
            "Date:                Mon, 26 Dec 2022   Prob (F-statistic):           1.07e-32\n",
            "Time:                        01:51:48   Log-Likelihood:                -194.05\n",
            "No. Observations:                  27   AIC:                             392.1\n",
            "Df Residuals:                      25   BIC:                             394.7\n",
            "Df Model:                           1                                         \n",
            "Covariance Type:            nonrobust                                         \n",
            "==============================================================================\n",
            "                 coef    std err          t      P>|t|      [0.025      0.975]\n",
            "------------------------------------------------------------------------------\n",
            "const       -168.3212     77.566     -2.170      0.040    -328.071      -8.571\n",
            "x1           481.3904      5.462     88.132      0.000     470.141     492.640\n",
            "==============================================================================\n",
            "Omnibus:                        5.099   Durbin-Watson:                   1.619\n",
            "Prob(Omnibus):                  0.078   Jarque-Bera (JB):                3.964\n",
            "Skew:                          -0.937   Prob(JB):                        0.138\n",
            "Kurtosis:                       3.116   Cond. No.                         17.2\n",
            "==============================================================================\n",
            "\n",
            "Notes:\n",
            "[1] Standard Errors assume that the covariance matrix of the errors is correctly specified.\n"
          ]
        }
      ]
    },
    {
      "cell_type": "markdown",
      "source": [
        "**PREVISÕES**\n",
        "\n",
        "Considerando os dados do problema anterior, onde se acredita que a posse de computadores tenha uma relação linear com a renda das famílias, após estimarmos o modelo (problema anterior), suponha que seja criado um estado e que este apresente uma renda total de R$ 2.345.678. O número de domicílios que possuem computador neste novo estado da federação."
      ],
      "metadata": {
        "id": "ZUEFhnGSMDzM"
      }
    },
    {
      "cell_type": "code",
      "source": [
        "resultado_regressao_2.predict([1, 2.345678])[0]"
      ],
      "metadata": {
        "colab": {
          "base_uri": "https://localhost:8080/"
        },
        "id": "0MKCZvwZMKoi",
        "outputId": "ac8f3a74-6e31-48bd-e588-6c386cb60384"
      },
      "execution_count": null,
      "outputs": [
        {
          "output_type": "execute_result",
          "data": {
            "text/plain": [
              "208.6006620110343"
            ]
          },
          "metadata": {},
          "execution_count": 66
        }
      ]
    },
    {
      "cell_type": "markdown",
      "source": [
        "**MÉTRICAS**"
      ],
      "metadata": {
        "id": "hunY8fhfh0Xs"
      }
    },
    {
      "cell_type": "code",
      "source": [
        "resultado_regressao_2.rsquared"
      ],
      "metadata": {
        "colab": {
          "base_uri": "https://localhost:8080/"
        },
        "id": "ToxSzsTxh312",
        "outputId": "23b9b501-58f0-4c2a-f123-31ef345e3452"
      },
      "execution_count": null,
      "outputs": [
        {
          "output_type": "execute_result",
          "data": {
            "text/plain": [
              "0.9967917066613234"
            ]
          },
          "metadata": {},
          "execution_count": 95
        }
      ]
    },
    {
      "cell_type": "markdown",
      "metadata": {
        "id": "Je8U449lcalq"
      },
      "source": [
        "## <font color=orange>4.4 Obtendo previsões</font>\n",
        "***\n",
        "\n",
        "As previsões podem ser dentro da amostra e fora da amostra. As previsões para dentro da amostra são chamadas de *previsões do treino*."
      ]
    },
    {
      "cell_type": "markdown",
      "metadata": {
        "id": "PNPQFFsrcalq"
      },
      "source": [
        "> $$\\hat{Y}_i = 207,9033 + 0,2973X_i$$"
      ]
    },
    {
      "cell_type": "markdown",
      "metadata": {
        "id": "qNpJclcrcalr"
      },
      "source": [
        "**Previsões dentro da amostra**"
      ]
    },
    {
      "cell_type": "code",
      "execution_count": null,
      "metadata": {
        "id": "fqOX7ssAcalr",
        "scrolled": true,
        "colab": {
          "base_uri": "https://localhost:8080/",
          "height": 206
        },
        "outputId": "8d60a2d3-ffb8-41b9-d9fc-b78a9f5277e0"
      },
      "outputs": [
        {
          "output_type": "execute_result",
          "data": {
            "text/plain": [
              "      Y     X   y_previsto   Y_previsto\n",
              "0  3011  9714  3095.785086  3095.785086\n",
              "1  1305  3728  1316.203010  1316.203010\n",
              "2  1879  6062  2010.079483  2010.079483\n",
              "3  2654  8845  2837.439476  2837.439476\n",
              "4  2849  8378  2698.604723  2698.604723"
            ],
            "text/html": [
              "\n",
              "  <div id=\"df-813cbe03-3115-4c4c-9e14-f95f6c9e3f50\">\n",
              "    <div class=\"colab-df-container\">\n",
              "      <div>\n",
              "<style scoped>\n",
              "    .dataframe tbody tr th:only-of-type {\n",
              "        vertical-align: middle;\n",
              "    }\n",
              "\n",
              "    .dataframe tbody tr th {\n",
              "        vertical-align: top;\n",
              "    }\n",
              "\n",
              "    .dataframe thead th {\n",
              "        text-align: right;\n",
              "    }\n",
              "</style>\n",
              "<table border=\"1\" class=\"dataframe\">\n",
              "  <thead>\n",
              "    <tr style=\"text-align: right;\">\n",
              "      <th></th>\n",
              "      <th>Y</th>\n",
              "      <th>X</th>\n",
              "      <th>y_previsto</th>\n",
              "      <th>Y_previsto</th>\n",
              "    </tr>\n",
              "  </thead>\n",
              "  <tbody>\n",
              "    <tr>\n",
              "      <th>0</th>\n",
              "      <td>3011</td>\n",
              "      <td>9714</td>\n",
              "      <td>3095.785086</td>\n",
              "      <td>3095.785086</td>\n",
              "    </tr>\n",
              "    <tr>\n",
              "      <th>1</th>\n",
              "      <td>1305</td>\n",
              "      <td>3728</td>\n",
              "      <td>1316.203010</td>\n",
              "      <td>1316.203010</td>\n",
              "    </tr>\n",
              "    <tr>\n",
              "      <th>2</th>\n",
              "      <td>1879</td>\n",
              "      <td>6062</td>\n",
              "      <td>2010.079483</td>\n",
              "      <td>2010.079483</td>\n",
              "    </tr>\n",
              "    <tr>\n",
              "      <th>3</th>\n",
              "      <td>2654</td>\n",
              "      <td>8845</td>\n",
              "      <td>2837.439476</td>\n",
              "      <td>2837.439476</td>\n",
              "    </tr>\n",
              "    <tr>\n",
              "      <th>4</th>\n",
              "      <td>2849</td>\n",
              "      <td>8378</td>\n",
              "      <td>2698.604723</td>\n",
              "      <td>2698.604723</td>\n",
              "    </tr>\n",
              "  </tbody>\n",
              "</table>\n",
              "</div>\n",
              "      <button class=\"colab-df-convert\" onclick=\"convertToInteractive('df-813cbe03-3115-4c4c-9e14-f95f6c9e3f50')\"\n",
              "              title=\"Convert this dataframe to an interactive table.\"\n",
              "              style=\"display:none;\">\n",
              "        \n",
              "  <svg xmlns=\"http://www.w3.org/2000/svg\" height=\"24px\"viewBox=\"0 0 24 24\"\n",
              "       width=\"24px\">\n",
              "    <path d=\"M0 0h24v24H0V0z\" fill=\"none\"/>\n",
              "    <path d=\"M18.56 5.44l.94 2.06.94-2.06 2.06-.94-2.06-.94-.94-2.06-.94 2.06-2.06.94zm-11 1L8.5 8.5l.94-2.06 2.06-.94-2.06-.94L8.5 2.5l-.94 2.06-2.06.94zm10 10l.94 2.06.94-2.06 2.06-.94-2.06-.94-.94-2.06-.94 2.06-2.06.94z\"/><path d=\"M17.41 7.96l-1.37-1.37c-.4-.4-.92-.59-1.43-.59-.52 0-1.04.2-1.43.59L10.3 9.45l-7.72 7.72c-.78.78-.78 2.05 0 2.83L4 21.41c.39.39.9.59 1.41.59.51 0 1.02-.2 1.41-.59l7.78-7.78 2.81-2.81c.8-.78.8-2.07 0-2.86zM5.41 20L4 18.59l7.72-7.72 1.47 1.35L5.41 20z\"/>\n",
              "  </svg>\n",
              "      </button>\n",
              "      \n",
              "  <style>\n",
              "    .colab-df-container {\n",
              "      display:flex;\n",
              "      flex-wrap:wrap;\n",
              "      gap: 12px;\n",
              "    }\n",
              "\n",
              "    .colab-df-convert {\n",
              "      background-color: #E8F0FE;\n",
              "      border: none;\n",
              "      border-radius: 50%;\n",
              "      cursor: pointer;\n",
              "      display: none;\n",
              "      fill: #1967D2;\n",
              "      height: 32px;\n",
              "      padding: 0 0 0 0;\n",
              "      width: 32px;\n",
              "    }\n",
              "\n",
              "    .colab-df-convert:hover {\n",
              "      background-color: #E2EBFA;\n",
              "      box-shadow: 0px 1px 2px rgba(60, 64, 67, 0.3), 0px 1px 3px 1px rgba(60, 64, 67, 0.15);\n",
              "      fill: #174EA6;\n",
              "    }\n",
              "\n",
              "    [theme=dark] .colab-df-convert {\n",
              "      background-color: #3B4455;\n",
              "      fill: #D2E3FC;\n",
              "    }\n",
              "\n",
              "    [theme=dark] .colab-df-convert:hover {\n",
              "      background-color: #434B5C;\n",
              "      box-shadow: 0px 1px 3px 1px rgba(0, 0, 0, 0.15);\n",
              "      filter: drop-shadow(0px 1px 2px rgba(0, 0, 0, 0.3));\n",
              "      fill: #FFFFFF;\n",
              "    }\n",
              "  </style>\n",
              "\n",
              "      <script>\n",
              "        const buttonEl =\n",
              "          document.querySelector('#df-813cbe03-3115-4c4c-9e14-f95f6c9e3f50 button.colab-df-convert');\n",
              "        buttonEl.style.display =\n",
              "          google.colab.kernel.accessAllowed ? 'block' : 'none';\n",
              "\n",
              "        async function convertToInteractive(key) {\n",
              "          const element = document.querySelector('#df-813cbe03-3115-4c4c-9e14-f95f6c9e3f50');\n",
              "          const dataTable =\n",
              "            await google.colab.kernel.invokeFunction('convertToInteractive',\n",
              "                                                     [key], {});\n",
              "          if (!dataTable) return;\n",
              "\n",
              "          const docLinkHtml = 'Like what you see? Visit the ' +\n",
              "            '<a target=\"_blank\" href=https://colab.research.google.com/notebooks/data_table.ipynb>data table notebook</a>'\n",
              "            + ' to learn more about interactive tables.';\n",
              "          element.innerHTML = '';\n",
              "          dataTable['output_type'] = 'display_data';\n",
              "          await google.colab.output.renderOutput(dataTable, element);\n",
              "          const docLink = document.createElement('div');\n",
              "          docLink.innerHTML = docLinkHtml;\n",
              "          element.appendChild(docLink);\n",
              "        }\n",
              "      </script>\n",
              "    </div>\n",
              "  </div>\n",
              "  "
            ]
          },
          "metadata": {},
          "execution_count": 50
        }
      ],
      "source": [
        "dataset['Y_previsto'] = beta_1 + beta_2*dataset['X']\n",
        "dataset.head()"
      ]
    },
    {
      "cell_type": "markdown",
      "metadata": {
        "id": "hRRoxxAwcals"
      },
      "source": [
        "**Utilizando o statsmodels**"
      ]
    },
    {
      "cell_type": "code",
      "execution_count": null,
      "metadata": {
        "id": "qLhv0yTgcals",
        "scrolled": true
      },
      "outputs": [],
      "source": [
        "dataset['Y_previsto_sm'] = resultado_regressao.predict()"
      ]
    },
    {
      "cell_type": "code",
      "execution_count": null,
      "metadata": {
        "id": "FctIV05Kcalu",
        "scrolled": true
      },
      "outputs": [],
      "source": [
        "dataset.drop(columns=['Y_previsto_sm', 'y_previsto'], inplace=True)"
      ]
    },
    {
      "cell_type": "markdown",
      "metadata": {
        "id": "OZBs0luwcalv"
      },
      "source": [
        "**Estimando o 'Gasto MÉDIO das Famílias' fora da amostra**"
      ]
    },
    {
      "cell_type": "code",
      "execution_count": null,
      "metadata": {
        "id": "4gXSqx41calv"
      },
      "outputs": [],
      "source": [
        "def prever(x):\n",
        "    return beta_1 + beta_2*x"
      ]
    },
    {
      "cell_type": "code",
      "execution_count": null,
      "metadata": {
        "id": "RyBwrPlQcalx",
        "colab": {
          "base_uri": "https://localhost:8080/"
        },
        "outputId": "c0527b09-1566-4767-f39a-5f2242b52a86"
      },
      "outputs": [
        {
          "output_type": "execute_result",
          "data": {
            "text/plain": [
              "2440.556403140435"
            ]
          },
          "metadata": {},
          "execution_count": 62
        }
      ],
      "source": [
        "# x: renda das famílias\n",
        "prever(7510)"
      ]
    },
    {
      "cell_type": "markdown",
      "metadata": {
        "id": "3P0ZtB-Qcalz"
      },
      "source": [
        "**Estimando o 'Gasto MÉDIO das Famílias' fora da amostra via StatsModels**"
      ]
    },
    {
      "cell_type": "code",
      "execution_count": null,
      "metadata": {
        "id": "DpDu_yiecal0",
        "colab": {
          "base_uri": "https://localhost:8080/"
        },
        "outputId": "71eeb85c-301b-4189-9e83-a78cf4c680bb"
      },
      "outputs": [
        {
          "output_type": "execute_result",
          "data": {
            "text/plain": [
              "array([2440.55640314])"
            ]
          },
          "metadata": {},
          "execution_count": 63
        }
      ],
      "source": [
        "resultado_regressao.predict([[1, 7510]])"
      ]
    },
    {
      "cell_type": "markdown",
      "metadata": {
        "id": "NfEjm65Gcal2"
      },
      "source": [
        "## <font color=orange>4.5 Resíduos</font>\n",
        "***"
      ]
    },
    {
      "cell_type": "markdown",
      "metadata": {
        "id": "RVAQCkvH75mH"
      },
      "source": [
        "Como vimos anteriormente, o resíduo da i-ésima observação é a diferença entre o valor observado de nossa variável dependente ($Y_i$) e o valor estimado da variável dependente ($\\hat{Y}_i$)."
      ]
    },
    {
      "cell_type": "markdown",
      "metadata": {
        "id": "EAGrrY7xcal3"
      },
      "source": [
        "<h3> $$\\hat{u}_i = Y_i - \\hat{Y}_i$$</h3>"
      ]
    },
    {
      "cell_type": "markdown",
      "metadata": {
        "id": "QVekZtNU75mH"
      },
      "source": [
        "Em outras palavras, $\\hat{u}_i$ é o erro obtido ao se utilizar a equação de regressão estimada para prever o valor da variável dependente."
      ]
    },
    {
      "cell_type": "markdown",
      "source": [
        "Métricas e Testes. A predição de dos resíduos pressupõe suposições sobre a distribuição, e como todo teste paramétrico, as suposições possuem hipóteses."
      ],
      "metadata": {
        "id": "BrS-CrGZPm7t"
      }
    },
    {
      "cell_type": "code",
      "execution_count": null,
      "metadata": {
        "id": "oiB2JiOLcal3",
        "scrolled": true,
        "colab": {
          "base_uri": "https://localhost:8080/",
          "height": 206
        },
        "outputId": "3505a408-6ea1-4652-f6c0-a4dfb939515f"
      },
      "outputs": [
        {
          "output_type": "execute_result",
          "data": {
            "text/plain": [
              "      Y     X   Y_previsto           u\n",
              "0  3011  9714  3095.785086  -84.785086\n",
              "1  1305  3728  1316.203010  -11.203010\n",
              "2  1879  6062  2010.079483 -131.079483\n",
              "3  2654  8845  2837.439476 -183.439476\n",
              "4  2849  8378  2698.604723  150.395277"
            ],
            "text/html": [
              "\n",
              "  <div id=\"df-8b688e06-ea01-4f01-8b49-3d70f727c327\">\n",
              "    <div class=\"colab-df-container\">\n",
              "      <div>\n",
              "<style scoped>\n",
              "    .dataframe tbody tr th:only-of-type {\n",
              "        vertical-align: middle;\n",
              "    }\n",
              "\n",
              "    .dataframe tbody tr th {\n",
              "        vertical-align: top;\n",
              "    }\n",
              "\n",
              "    .dataframe thead th {\n",
              "        text-align: right;\n",
              "    }\n",
              "</style>\n",
              "<table border=\"1\" class=\"dataframe\">\n",
              "  <thead>\n",
              "    <tr style=\"text-align: right;\">\n",
              "      <th></th>\n",
              "      <th>Y</th>\n",
              "      <th>X</th>\n",
              "      <th>Y_previsto</th>\n",
              "      <th>u</th>\n",
              "    </tr>\n",
              "  </thead>\n",
              "  <tbody>\n",
              "    <tr>\n",
              "      <th>0</th>\n",
              "      <td>3011</td>\n",
              "      <td>9714</td>\n",
              "      <td>3095.785086</td>\n",
              "      <td>-84.785086</td>\n",
              "    </tr>\n",
              "    <tr>\n",
              "      <th>1</th>\n",
              "      <td>1305</td>\n",
              "      <td>3728</td>\n",
              "      <td>1316.203010</td>\n",
              "      <td>-11.203010</td>\n",
              "    </tr>\n",
              "    <tr>\n",
              "      <th>2</th>\n",
              "      <td>1879</td>\n",
              "      <td>6062</td>\n",
              "      <td>2010.079483</td>\n",
              "      <td>-131.079483</td>\n",
              "    </tr>\n",
              "    <tr>\n",
              "      <th>3</th>\n",
              "      <td>2654</td>\n",
              "      <td>8845</td>\n",
              "      <td>2837.439476</td>\n",
              "      <td>-183.439476</td>\n",
              "    </tr>\n",
              "    <tr>\n",
              "      <th>4</th>\n",
              "      <td>2849</td>\n",
              "      <td>8378</td>\n",
              "      <td>2698.604723</td>\n",
              "      <td>150.395277</td>\n",
              "    </tr>\n",
              "  </tbody>\n",
              "</table>\n",
              "</div>\n",
              "      <button class=\"colab-df-convert\" onclick=\"convertToInteractive('df-8b688e06-ea01-4f01-8b49-3d70f727c327')\"\n",
              "              title=\"Convert this dataframe to an interactive table.\"\n",
              "              style=\"display:none;\">\n",
              "        \n",
              "  <svg xmlns=\"http://www.w3.org/2000/svg\" height=\"24px\"viewBox=\"0 0 24 24\"\n",
              "       width=\"24px\">\n",
              "    <path d=\"M0 0h24v24H0V0z\" fill=\"none\"/>\n",
              "    <path d=\"M18.56 5.44l.94 2.06.94-2.06 2.06-.94-2.06-.94-.94-2.06-.94 2.06-2.06.94zm-11 1L8.5 8.5l.94-2.06 2.06-.94-2.06-.94L8.5 2.5l-.94 2.06-2.06.94zm10 10l.94 2.06.94-2.06 2.06-.94-2.06-.94-.94-2.06-.94 2.06-2.06.94z\"/><path d=\"M17.41 7.96l-1.37-1.37c-.4-.4-.92-.59-1.43-.59-.52 0-1.04.2-1.43.59L10.3 9.45l-7.72 7.72c-.78.78-.78 2.05 0 2.83L4 21.41c.39.39.9.59 1.41.59.51 0 1.02-.2 1.41-.59l7.78-7.78 2.81-2.81c.8-.78.8-2.07 0-2.86zM5.41 20L4 18.59l7.72-7.72 1.47 1.35L5.41 20z\"/>\n",
              "  </svg>\n",
              "      </button>\n",
              "      \n",
              "  <style>\n",
              "    .colab-df-container {\n",
              "      display:flex;\n",
              "      flex-wrap:wrap;\n",
              "      gap: 12px;\n",
              "    }\n",
              "\n",
              "    .colab-df-convert {\n",
              "      background-color: #E8F0FE;\n",
              "      border: none;\n",
              "      border-radius: 50%;\n",
              "      cursor: pointer;\n",
              "      display: none;\n",
              "      fill: #1967D2;\n",
              "      height: 32px;\n",
              "      padding: 0 0 0 0;\n",
              "      width: 32px;\n",
              "    }\n",
              "\n",
              "    .colab-df-convert:hover {\n",
              "      background-color: #E2EBFA;\n",
              "      box-shadow: 0px 1px 2px rgba(60, 64, 67, 0.3), 0px 1px 3px 1px rgba(60, 64, 67, 0.15);\n",
              "      fill: #174EA6;\n",
              "    }\n",
              "\n",
              "    [theme=dark] .colab-df-convert {\n",
              "      background-color: #3B4455;\n",
              "      fill: #D2E3FC;\n",
              "    }\n",
              "\n",
              "    [theme=dark] .colab-df-convert:hover {\n",
              "      background-color: #434B5C;\n",
              "      box-shadow: 0px 1px 3px 1px rgba(0, 0, 0, 0.15);\n",
              "      filter: drop-shadow(0px 1px 2px rgba(0, 0, 0, 0.3));\n",
              "      fill: #FFFFFF;\n",
              "    }\n",
              "  </style>\n",
              "\n",
              "      <script>\n",
              "        const buttonEl =\n",
              "          document.querySelector('#df-8b688e06-ea01-4f01-8b49-3d70f727c327 button.colab-df-convert');\n",
              "        buttonEl.style.display =\n",
              "          google.colab.kernel.accessAllowed ? 'block' : 'none';\n",
              "\n",
              "        async function convertToInteractive(key) {\n",
              "          const element = document.querySelector('#df-8b688e06-ea01-4f01-8b49-3d70f727c327');\n",
              "          const dataTable =\n",
              "            await google.colab.kernel.invokeFunction('convertToInteractive',\n",
              "                                                     [key], {});\n",
              "          if (!dataTable) return;\n",
              "\n",
              "          const docLinkHtml = 'Like what you see? Visit the ' +\n",
              "            '<a target=\"_blank\" href=https://colab.research.google.com/notebooks/data_table.ipynb>data table notebook</a>'\n",
              "            + ' to learn more about interactive tables.';\n",
              "          element.innerHTML = '';\n",
              "          dataTable['output_type'] = 'display_data';\n",
              "          await google.colab.output.renderOutput(dataTable, element);\n",
              "          const docLink = document.createElement('div');\n",
              "          docLink.innerHTML = docLinkHtml;\n",
              "          element.appendChild(docLink);\n",
              "        }\n",
              "      </script>\n",
              "    </div>\n",
              "  </div>\n",
              "  "
            ]
          },
          "metadata": {},
          "execution_count": 67
        }
      ],
      "source": [
        "# Resíduos (manual)\n",
        "dataset['u'] = dataset['Y'] - dataset['Y_previsto']\n",
        "dataset.head()"
      ]
    },
    {
      "cell_type": "code",
      "execution_count": null,
      "metadata": {
        "id": "_rtZhoU8cal5",
        "colab": {
          "base_uri": "https://localhost:8080/",
          "height": 206
        },
        "outputId": "d7695375-c866-4387-a241-fe43c705e661"
      },
      "outputs": [
        {
          "output_type": "execute_result",
          "data": {
            "text/plain": [
              "      Y     X   Y_previsto           u    Residuos\n",
              "0  3011  9714  3095.785086  -84.785086  -84.785086\n",
              "1  1305  3728  1316.203010  -11.203010  -11.203010\n",
              "2  1879  6062  2010.079483 -131.079483 -131.079483\n",
              "3  2654  8845  2837.439476 -183.439476 -183.439476\n",
              "4  2849  8378  2698.604723  150.395277  150.395277"
            ],
            "text/html": [
              "\n",
              "  <div id=\"df-cbd41ae5-837d-4f5b-b4da-68e579c056ae\">\n",
              "    <div class=\"colab-df-container\">\n",
              "      <div>\n",
              "<style scoped>\n",
              "    .dataframe tbody tr th:only-of-type {\n",
              "        vertical-align: middle;\n",
              "    }\n",
              "\n",
              "    .dataframe tbody tr th {\n",
              "        vertical-align: top;\n",
              "    }\n",
              "\n",
              "    .dataframe thead th {\n",
              "        text-align: right;\n",
              "    }\n",
              "</style>\n",
              "<table border=\"1\" class=\"dataframe\">\n",
              "  <thead>\n",
              "    <tr style=\"text-align: right;\">\n",
              "      <th></th>\n",
              "      <th>Y</th>\n",
              "      <th>X</th>\n",
              "      <th>Y_previsto</th>\n",
              "      <th>u</th>\n",
              "      <th>Residuos</th>\n",
              "    </tr>\n",
              "  </thead>\n",
              "  <tbody>\n",
              "    <tr>\n",
              "      <th>0</th>\n",
              "      <td>3011</td>\n",
              "      <td>9714</td>\n",
              "      <td>3095.785086</td>\n",
              "      <td>-84.785086</td>\n",
              "      <td>-84.785086</td>\n",
              "    </tr>\n",
              "    <tr>\n",
              "      <th>1</th>\n",
              "      <td>1305</td>\n",
              "      <td>3728</td>\n",
              "      <td>1316.203010</td>\n",
              "      <td>-11.203010</td>\n",
              "      <td>-11.203010</td>\n",
              "    </tr>\n",
              "    <tr>\n",
              "      <th>2</th>\n",
              "      <td>1879</td>\n",
              "      <td>6062</td>\n",
              "      <td>2010.079483</td>\n",
              "      <td>-131.079483</td>\n",
              "      <td>-131.079483</td>\n",
              "    </tr>\n",
              "    <tr>\n",
              "      <th>3</th>\n",
              "      <td>2654</td>\n",
              "      <td>8845</td>\n",
              "      <td>2837.439476</td>\n",
              "      <td>-183.439476</td>\n",
              "      <td>-183.439476</td>\n",
              "    </tr>\n",
              "    <tr>\n",
              "      <th>4</th>\n",
              "      <td>2849</td>\n",
              "      <td>8378</td>\n",
              "      <td>2698.604723</td>\n",
              "      <td>150.395277</td>\n",
              "      <td>150.395277</td>\n",
              "    </tr>\n",
              "  </tbody>\n",
              "</table>\n",
              "</div>\n",
              "      <button class=\"colab-df-convert\" onclick=\"convertToInteractive('df-cbd41ae5-837d-4f5b-b4da-68e579c056ae')\"\n",
              "              title=\"Convert this dataframe to an interactive table.\"\n",
              "              style=\"display:none;\">\n",
              "        \n",
              "  <svg xmlns=\"http://www.w3.org/2000/svg\" height=\"24px\"viewBox=\"0 0 24 24\"\n",
              "       width=\"24px\">\n",
              "    <path d=\"M0 0h24v24H0V0z\" fill=\"none\"/>\n",
              "    <path d=\"M18.56 5.44l.94 2.06.94-2.06 2.06-.94-2.06-.94-.94-2.06-.94 2.06-2.06.94zm-11 1L8.5 8.5l.94-2.06 2.06-.94-2.06-.94L8.5 2.5l-.94 2.06-2.06.94zm10 10l.94 2.06.94-2.06 2.06-.94-2.06-.94-.94-2.06-.94 2.06-2.06.94z\"/><path d=\"M17.41 7.96l-1.37-1.37c-.4-.4-.92-.59-1.43-.59-.52 0-1.04.2-1.43.59L10.3 9.45l-7.72 7.72c-.78.78-.78 2.05 0 2.83L4 21.41c.39.39.9.59 1.41.59.51 0 1.02-.2 1.41-.59l7.78-7.78 2.81-2.81c.8-.78.8-2.07 0-2.86zM5.41 20L4 18.59l7.72-7.72 1.47 1.35L5.41 20z\"/>\n",
              "  </svg>\n",
              "      </button>\n",
              "      \n",
              "  <style>\n",
              "    .colab-df-container {\n",
              "      display:flex;\n",
              "      flex-wrap:wrap;\n",
              "      gap: 12px;\n",
              "    }\n",
              "\n",
              "    .colab-df-convert {\n",
              "      background-color: #E8F0FE;\n",
              "      border: none;\n",
              "      border-radius: 50%;\n",
              "      cursor: pointer;\n",
              "      display: none;\n",
              "      fill: #1967D2;\n",
              "      height: 32px;\n",
              "      padding: 0 0 0 0;\n",
              "      width: 32px;\n",
              "    }\n",
              "\n",
              "    .colab-df-convert:hover {\n",
              "      background-color: #E2EBFA;\n",
              "      box-shadow: 0px 1px 2px rgba(60, 64, 67, 0.3), 0px 1px 3px 1px rgba(60, 64, 67, 0.15);\n",
              "      fill: #174EA6;\n",
              "    }\n",
              "\n",
              "    [theme=dark] .colab-df-convert {\n",
              "      background-color: #3B4455;\n",
              "      fill: #D2E3FC;\n",
              "    }\n",
              "\n",
              "    [theme=dark] .colab-df-convert:hover {\n",
              "      background-color: #434B5C;\n",
              "      box-shadow: 0px 1px 3px 1px rgba(0, 0, 0, 0.15);\n",
              "      filter: drop-shadow(0px 1px 2px rgba(0, 0, 0, 0.3));\n",
              "      fill: #FFFFFF;\n",
              "    }\n",
              "  </style>\n",
              "\n",
              "      <script>\n",
              "        const buttonEl =\n",
              "          document.querySelector('#df-cbd41ae5-837d-4f5b-b4da-68e579c056ae button.colab-df-convert');\n",
              "        buttonEl.style.display =\n",
              "          google.colab.kernel.accessAllowed ? 'block' : 'none';\n",
              "\n",
              "        async function convertToInteractive(key) {\n",
              "          const element = document.querySelector('#df-cbd41ae5-837d-4f5b-b4da-68e579c056ae');\n",
              "          const dataTable =\n",
              "            await google.colab.kernel.invokeFunction('convertToInteractive',\n",
              "                                                     [key], {});\n",
              "          if (!dataTable) return;\n",
              "\n",
              "          const docLinkHtml = 'Like what you see? Visit the ' +\n",
              "            '<a target=\"_blank\" href=https://colab.research.google.com/notebooks/data_table.ipynb>data table notebook</a>'\n",
              "            + ' to learn more about interactive tables.';\n",
              "          element.innerHTML = '';\n",
              "          dataTable['output_type'] = 'display_data';\n",
              "          await google.colab.output.renderOutput(dataTable, element);\n",
              "          const docLink = document.createElement('div');\n",
              "          docLink.innerHTML = docLinkHtml;\n",
              "          element.appendChild(docLink);\n",
              "        }\n",
              "      </script>\n",
              "    </div>\n",
              "  </div>\n",
              "  "
            ]
          },
          "metadata": {},
          "execution_count": 68
        }
      ],
      "source": [
        "# Resíduos (StatsModels)\n",
        "dataset['Residuos'] = resultado_regressao.resid\n",
        "dataset.head()"
      ]
    },
    {
      "cell_type": "code",
      "execution_count": null,
      "metadata": {
        "id": "GbnSv-B-cal6",
        "scrolled": true
      },
      "outputs": [],
      "source": [
        "dataset.drop(columns='u', inplace=True)"
      ]
    },
    {
      "cell_type": "markdown",
      "metadata": {
        "id": "2FUvXCAW75mL"
      },
      "source": [
        "### <font color=Orange>4.5.1 Suposições sobre o termo de erro $u$</font>\n",
        "***\n",
        "\n",
        "> * 1. O termo de erro $u$ é uma variável aleatória com média igual a zero: $E(u) = 0$\n",
        "> * 2. A variância de $u$ é a mesma para todos os valores de $X$ (variância é constante)\n",
        "> * 3. O valores de $u$ são independentes, ou seja, o que acontece com um erro não interefere no outro erro.\n",
        "> * 4. O termo de erro $u$ é uma variável aleatória normalmente distribuída."
      ]
    },
    {
      "cell_type": "code",
      "source": [
        "# 1. O termo de erro  u  é uma variável aleatória com média igual a zero:  E(u)=0\n",
        "resultado_regressao.resid.mean()"
      ],
      "metadata": {
        "colab": {
          "base_uri": "https://localhost:8080/"
        },
        "id": "KucmR8leRamQ",
        "outputId": "4665cd8a-ee1c-49ec-80a2-fdcf327ca522"
      },
      "execution_count": null,
      "outputs": [
        {
          "output_type": "execute_result",
          "data": {
            "text/plain": [
              "-5.525180313270539e-13"
            ]
          },
          "metadata": {},
          "execution_count": 71
        }
      ]
    },
    {
      "cell_type": "code",
      "source": [
        "# 2. A variância de $u$ é a mesma para todos os valores de $X$\n",
        "for i in range(0,50,10):\n",
        "    var = resultado_regressao.resid[i:i+10].var()\n",
        "    print(var)"
      ],
      "metadata": {
        "colab": {
          "base_uri": "https://localhost:8080/"
        },
        "id": "E6pt0hdqRonI",
        "outputId": "ac761b94-1074-491d-ce40-58e2c048b4e2"
      },
      "execution_count": null,
      "outputs": [
        {
          "output_type": "stream",
          "name": "stdout",
          "text": [
            "16709.35527710779\n",
            "14452.677396738534\n",
            "24402.194423726327\n",
            "23554.144709559812\n",
            "18798.862409900255\n"
          ]
        }
      ]
    },
    {
      "cell_type": "markdown",
      "metadata": {
        "id": "7mFDWvhFcal7"
      },
      "source": [
        "**Análise visual dos resíduos**\n",
        "\n",
        "https://seaborn.pydata.org/generated/seaborn.scatterplot.html\n",
        "\n",
        "Caso fosse encontrado uma forma de U ma figura, significaria que não há uma relação linear entre as variáveis."
      ]
    },
    {
      "cell_type": "code",
      "execution_count": null,
      "metadata": {
        "id": "r3RhXDBccal8",
        "colab": {
          "base_uri": "https://localhost:8080/",
          "height": 430
        },
        "outputId": "9e19f616-b7ed-4f20-d925-d65f2094549e"
      },
      "outputs": [
        {
          "output_type": "execute_result",
          "data": {
            "text/plain": [
              "<matplotlib.axes._subplots.AxesSubplot at 0x7f3b26c77c10>"
            ]
          },
          "metadata": {},
          "execution_count": 78
        },
        {
          "output_type": "display_data",
          "data": {
            "text/plain": [
              "<Figure size 864x432 with 1 Axes>"
            ],
            "image/png": "[encoded data removed]"
          },
          "metadata": {
            "needs_background": "light"
          }
        }
      ],
      "source": [
        "# Análise visual de uma única variável independente\n",
        "ax = sns.scatterplot(x=dataset.X, y=dataset.Residuos)\n",
        "ax.figure.set_size_inches(12, 6)\n",
        "ax.set_title('Resíduos vs Variável Independente', fontsize=18)\n",
        "ax.set_xlabel('X', fontsize=14)\n",
        "ax.set_ylabel('Resíduos', fontsize=14)\n",
        "ax"
      ]
    },
    {
      "cell_type": "code",
      "execution_count": null,
      "metadata": {
        "id": "6An7Ir6275mN",
        "colab": {
          "base_uri": "https://localhost:8080/",
          "height": 430
        },
        "outputId": "864e3f64-550a-4324-94d7-97100c23f3d5"
      },
      "outputs": [
        {
          "output_type": "execute_result",
          "data": {
            "text/plain": [
              "<matplotlib.axes._subplots.AxesSubplot at 0x7f3b2607e5b0>"
            ]
          },
          "metadata": {},
          "execution_count": 80
        },
        {
          "output_type": "display_data",
          "data": {
            "text/plain": [
              "<Figure size 864x432 with 1 Axes>"
            ],
            "image/png": "[encoded data removed]"
          },
          "metadata": {
            "needs_background": "light"
          }
        }
      ],
      "source": [
        "# Análise visual do resultado previsto (mais apropriada para Regressão Linear Múltipla)\n",
        "ax = sns.scatterplot(x=dataset.Y_previsto, y=dataset.Residuos)\n",
        "ax.figure.set_size_inches(12, 6)\n",
        "ax.set_title('Resíduos vs Y_Previsto', fontsize=18)\n",
        "ax.set_xlabel('Y_Previsto', fontsize=14)\n",
        "ax.set_ylabel('Resíduos', fontsize=14)\n",
        "ax"
      ]
    },
    {
      "cell_type": "markdown",
      "metadata": {
        "id": "72hPAKNKcamD"
      },
      "source": [
        "### Hipótese de variância constante (homocedasticidade)\n",
        "\n",
        "Quando não há homocedasticidade nos dados, ou seja, variância constante, será preciso realizar transformações para encaixar os dados no modelo linear."
      ]
    },
    {
      "cell_type": "markdown",
      "source": [
        "![image.png](data:image/png;base64,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)"
      ],
      "metadata": {
        "id": "sx9SG2NYVVup"
      }
    },
    {
      "cell_type": "markdown",
      "metadata": {
        "id": "dm_pfD0jcamE"
      },
      "source": [
        "<img src=\"https://caelum-online-public.s3.amazonaws.com/1273-estatistica-parte4/01/img028.jpg\" width=80%>\n",
        "Fonte: Econometria Básica - 5ª edição - Gujarati e Porter"
      ]
    },
    {
      "cell_type": "code",
      "execution_count": null,
      "metadata": {
        "id": "lCys_bu_camE",
        "colab": {
          "base_uri": "https://localhost:8080/",
          "height": 430
        },
        "outputId": "dc7212c9-13b5-4c97-996c-dadf48cb8468"
      },
      "outputs": [
        {
          "output_type": "execute_result",
          "data": {
            "text/plain": [
              "<matplotlib.axes._subplots.AxesSubplot at 0x7f3b25fbcd30>"
            ]
          },
          "metadata": {},
          "execution_count": 82
        },
        {
          "output_type": "display_data",
          "data": {
            "text/plain": [
              "<Figure size 864x432 with 1 Axes>"
            ],
            "image/png": "[encoded data removed]"
          },
          "metadata": {
            "needs_background": "light"
          }
        }
      ],
      "source": [
        "# Análise visual da hmocedasticidade\n",
        "ax = sns.scatterplot(x=dataset.Y_previsto, y=dataset.Residuos**2)\n",
        "ax.figure.set_size_inches(12, 6)\n",
        "ax.set_title('Resíduos² vs Y_Previsto', fontsize=18)\n",
        "ax.set_xlabel('Y_Previsto', fontsize=14)\n",
        "ax.set_ylabel('Resíduos² (u²)', fontsize=14)\n",
        "ax"
      ]
    },
    {
      "cell_type": "markdown",
      "source": [
        "* Analisar os outliers e investigar a causa deles."
      ],
      "metadata": {
        "id": "nb1spZ_TWFc4"
      }
    },
    {
      "cell_type": "markdown",
      "metadata": {
        "id": "d3X2NkIicamv"
      },
      "source": [
        "## <font color=green>4.7 O coeficiente de determinação $R^2$</font>\n",
        "***"
      ]
    },
    {
      "cell_type": "markdown",
      "metadata": {
        "id": "02AXBeBrcamw"
      },
      "source": [
        "O **coeficiente de determinação R²** é uma medida resumida que diz quanto a linha de regressão amostral se ajusta aos dados, ou seja, o quanto o modelo linear explica a relação entre a variação da variável independente e o Y.\n",
        "\n"
      ]
    },
    {
      "cell_type": "markdown",
      "source": [
        " Pode ser obtido a partir da seguinte fórmula:\n",
        "\n",
        "> * $$R^2 = \\frac{\\big[\\sum{(Y_i - \\bar{Y})(\\hat{Y}_i - \\bar{Y})}\\big]^2}{\\sum{(Y_i - \\bar{Y}})^2 \\sum{(\\hat{Y}_i - \\bar{Y}})^2}$$\n",
        "\n"
      ],
      "metadata": {
        "id": "KqW44Bd3WxNw"
      }
    },
    {
      "cell_type": "markdown",
      "source": [
        "> * https://pt.wikipedia.org/wiki/Coeficiente_de_determinação\n",
        "> * https://en.wikipedia.org/wiki/Coefficient_of_determination\n",
        "\n",
        "Sabemos que o i-ésimo resíduo representa o erro de usarmos $\\hat{Y}_i$ para estimar $Y_i$. A **soma dos quadrados desses resíduos** é o valor que é minimizado pelo método dos mínimos quadrados. Esse valor pode ser representado da seguinte forma:\n",
        "\n",
        "> * $$SQ_{res} = \\sum{(Y_i - \\hat{Y}_i)^2}$$\n",
        "\n",
        "O valor da SQE ou SQ-res é uma medida do erro de se usar a equação de regressão estimada para estimar os valores da variável dependente na amostra.\n",
        "\n"
      ],
      "metadata": {
        "id": "aPIhi0iSXa5M"
      }
    },
    {
      "cell_type": "markdown",
      "source": [
        "Outro componente que podemos medir é a soma dos quadrados total (SQT) que representa a medida do erro envolvido no uso da média ($\\bar{Y}$) para fazer as estimativas. A SQT pode ser representada da forma abaixo:\n",
        "\n",
        "> * $$SQ_{Total} = \\sum{(Y_i - \\bar{Y})^2}$$\n",
        "\n",
        "Para quantificar o quanto os valores estimados ($\\hat{Y}_i$) se afastam da média ($\\bar{Y}$) podemos obter mais uma soma de quadrados. Essa soma é chamada de soma dos quadrados da regressão (SQR) e é representada pela seguinte fórmula:\n",
        "\n",
        "> * $$SQR = \\sum{(\\hat{Y}_i - \\bar{Y})^2}$$\n"
      ],
      "metadata": {
        "id": "8Il8GU4TYnLE"
      }
    },
    {
      "cell_type": "markdown",
      "metadata": {
        "id": "R5QuIfRCoT_W"
      },
      "source": [
        "### Soma do quadrados do erros (SQE)"
      ]
    },
    {
      "cell_type": "code",
      "execution_count": null,
      "metadata": {
        "id": "mjDVczwGcamw",
        "colab": {
          "base_uri": "https://localhost:8080/"
        },
        "outputId": "cbe71461-e486-452b-8db5-35bf01d39eb2"
      },
      "outputs": [
        {
          "output_type": "execute_result",
          "data": {
            "text/plain": [
              "984986.0375191914"
            ]
          },
          "metadata": {},
          "execution_count": 87
        }
      ],
      "source": [
        "SQE = dataset.apply(lambda dados: (dados['Y'] - dados['Y_previsto'])**2, axis='columns').sum()\n",
        "SQE = dataset['Residuos'].apply(lambda u: u**2).sum()"
      ]
    },
    {
      "cell_type": "code",
      "execution_count": null,
      "metadata": {
        "id": "fJ9ANPnIcamx",
        "colab": {
          "base_uri": "https://localhost:8080/"
        },
        "outputId": "f2655f44-8344-4e5b-80f5-0f32e8bbfb6c"
      },
      "outputs": [
        {
          "output_type": "execute_result",
          "data": {
            "text/plain": [
              "984986.0375191915"
            ]
          },
          "metadata": {},
          "execution_count": 88
        }
      ],
      "source": [
        "# Utilizando o ssr (sum of squared residuals) do statsmodels\n",
        "resultado_regressao.ssr"
      ]
    },
    {
      "cell_type": "markdown",
      "metadata": {
        "id": "ciYucebH75mU"
      },
      "source": [
        "### Soma do quadrados total (SQT)"
      ]
    },
    {
      "cell_type": "code",
      "execution_count": null,
      "metadata": {
        "id": "8nBBr4HE75mV",
        "colab": {
          "base_uri": "https://localhost:8080/"
        },
        "outputId": "4923cfce-7b67-4342-944c-649c7d95d7ad"
      },
      "outputs": [
        {
          "output_type": "execute_result",
          "data": {
            "text/plain": [
              "32724149.279999997"
            ]
          },
          "metadata": {},
          "execution_count": 89
        }
      ],
      "source": [
        "SQT = dataset['Y'].apply(lambda y: (y - dataset['Y'].mean())**2).sum()\n",
        "SQT"
      ]
    },
    {
      "cell_type": "markdown",
      "metadata": {
        "id": "2faHnARf75mW"
      },
      "source": [
        "### Soma do quadrados da regressão (SQR)"
      ]
    },
    {
      "cell_type": "code",
      "execution_count": null,
      "metadata": {
        "id": "sOIQrg2q75mW",
        "colab": {
          "base_uri": "https://localhost:8080/"
        },
        "outputId": "2d1c7eca-2b55-4379-88b8-081fbd5cb126"
      },
      "outputs": [
        {
          "output_type": "execute_result",
          "data": {
            "text/plain": [
              "31739163.24248083"
            ]
          },
          "metadata": {},
          "execution_count": 90
        }
      ],
      "source": [
        "SQR = dataset['Y_previsto'].apply(lambda y: (y - dataset['Y'].mean())**2).sum()\n",
        "SQR"
      ]
    },
    {
      "cell_type": "code",
      "execution_count": null,
      "metadata": {
        "id": "6Z_ZWswM75mX",
        "colab": {
          "base_uri": "https://localhost:8080/"
        },
        "outputId": "5af03ea8-de40-4c1d-8ed2-b835e9d9a426"
      },
      "outputs": [
        {
          "output_type": "execute_result",
          "data": {
            "text/plain": [
              "31739163.242480807"
            ]
          },
          "metadata": {},
          "execution_count": 91
        }
      ],
      "source": [
        "# Utilizando o ess (explained sum of squares) do statsmodels\n",
        "resultado_regressao.ess"
      ]
    },
    {
      "cell_type": "markdown",
      "metadata": {
        "id": "qzIqboEg75mY"
      },
      "source": [
        "### Relação entre as somas de quadrados\n",
        "\n",
        "> <h3>$$SQT = SQR + SQE$$</h3>\n",
        "\n",
        "Onde,\n",
        "\n",
        "\n",
        "> <h3> $SQE = \\sum{(Y_i - \\hat{Y}_i)^2}$</h3>\n",
        "\n",
        "> <h3> $SQT = \\sum{(Y_i - \\bar{Y})^2}$</h3>\n",
        "\n",
        "> <h3> $SQR = \\sum{(\\hat{Y}_i - \\bar{Y})^2}$</h3>\n",
        "\n"
      ]
    },
    {
      "cell_type": "markdown",
      "source": [
        "![image.png](data:image/png;base64,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)"
      ],
      "metadata": {
        "id": "EeWox9qub3nM"
      }
    },
    {
      "cell_type": "markdown",
      "source": [
        "[Imagem de erro](https://caelum-online-public.s3.amazonaws.com/1273-estatistica-parte4/01/img029.png)"
      ],
      "metadata": {
        "id": "mQ1twk7ub0qV"
      }
    },
    {
      "cell_type": "code",
      "execution_count": null,
      "metadata": {
        "id": "GOcnkBJY75mZ"
      },
      "outputs": [],
      "source": []
    },
    {
      "cell_type": "markdown",
      "metadata": {
        "id": "OMz_pGr375ma"
      },
      "source": [
        "### Coeficiente de determinação (R²)\n",
        "\n",
        "A regressão estimada teria um ajuste perfeito se todos os valores da variável dependente ($Y_i$) estiverem sobre a reta de regressão estimada. Quando isso ocorre temos $Y_i - \\hat{Y}_i = 0$ para todas as observações, o que resulta em uma $SQE = 0$. Como $SQT=SQR+SQE$, é possível deduzir que para termos um ajuste perfeito $SQT$ deve ser igual a $SQR$ e a razão entre estas medidas ($\\frac{SQR}{SQT}$) deve ser igual a 1.\n",
        "\n",
        "Quando o ajuste não é tão perfeito nota-se que a $SQE$ apresenta valores maiores o que faz a razão $\\frac{SQR}{SQT}$ diminuir, e em uma situação de total imperfeição do ajuste teríamos uma $SQR=0$ e $SQE=SQT$ levando a $\\frac{SQR}{SQT}=0$.\n",
        "\n",
        "A razão $\\frac{SQR}{SQT}$, que assume valores entre 0 e 1, é utilizada como medida de eficiência do ajuste da equação de regressão estimada. Essa medida é conhecida como coeficiente de determinação (R²).\n",
        "\n",
        "# $$R^2 = \\frac{SQR}{SQT} = \\frac{SQR}{SQR + SQE} $$\n",
        "\n",
        "## <font color='red'>Observação</font>\n",
        "> Somente com a utilização do R² não é possível tirar conclusões sobre a relação entre $Y$ e $X$ ser ou não ser estatisticamente\n",
        "significativa. Este tipo de afirmação deve basear-se em considerações que envolvem o tamanho da amostra e as propriedades da distribuição amostral dos estimadores mínimos quadrados.\n",
        "\n",
        "> Devido a relação do R² é possível analisar o valor como uma porcentagem da explicabilidade do modelo."
      ]
    },
    {
      "cell_type": "code",
      "execution_count": null,
      "metadata": {
        "id": "dKUngOqP75ma",
        "colab": {
          "base_uri": "https://localhost:8080/"
        },
        "outputId": "13c43329-c016-48ae-a341-9b0eac7810fd"
      },
      "outputs": [
        {
          "output_type": "execute_result",
          "data": {
            "text/plain": [
              "0.9699003317369304"
            ]
          },
          "metadata": {},
          "execution_count": 92
        }
      ],
      "source": [
        "R2 = SQR / SQT\n",
        "R2"
      ]
    },
    {
      "cell_type": "code",
      "execution_count": null,
      "metadata": {
        "id": "oFowDxPB75mb",
        "colab": {
          "base_uri": "https://localhost:8080/"
        },
        "outputId": "15a0e3a1-3699-4739-9548-c0f354f676ef"
      },
      "outputs": [
        {
          "output_type": "execute_result",
          "data": {
            "text/plain": [
              "0.9699003317369297"
            ]
          },
          "metadata": {},
          "execution_count": 93
        }
      ],
      "source": [
        "resultado_regressao.rsquared"
      ]
    },
    {
      "cell_type": "markdown",
      "metadata": {
        "id": "BwQR3YxTcam0"
      },
      "source": [
        "## <font color=orange>4.8 Testes aplicados a modelos de regressão</font>\n",
        "***\n",
        " Alguns testes são: \n",
        "\n",
        "* Avaliação da significância da relação entre as variáveis ($\\beta_2$)\n",
        "* Avaliação da significância conjunta dos parâmetros (Estatística-F)\n",
        "* Outros para séries temporais\n",
        "\n",
        "***"
      ]
    },
    {
      "cell_type": "markdown",
      "metadata": {
        "id": "eGZZaMp4td9Y"
      },
      "source": [
        "Como vimos, em uma regressão linear simples, a média da variável dependente ($Y$) é uma função linear da variável independente ($X$):\n",
        "\n",
        "> <h3>$$Y_i = \\beta_1 + \\beta_2X_i$$</h3>\n",
        "\n",
        "<font color=orange>Se o valor de $\\beta_2$ for zero</font> podemos verificar que o valor médio de $Y$ não depende do valor de $X$ e, portanto, concluímos que $X$ e $Y$ não estão linearmente relacionados. De forma <font color=orange>alternativa</font>, se o valor de $\\beta_2$ não for igual a zero, concluímos que as duas variáveis estão relacionadas.\n",
        "\n",
        "<font color=orange>Para testar se a relação de regressão é significativa</font>, é preciso realizar um **teste de hipóteses** para determinar se o valor de $\\beta_2$ é zero."
      ]
    },
    {
      "cell_type": "markdown",
      "source": [
        "Teste bicaudal para o coeficiente angular:\n",
        "\n",
        "> * $H_0: \\beta_2 = 0$\n",
        "> * $H_1: \\beta_2 \\neq 0$"
      ],
      "metadata": {
        "id": "ICLTIs31oo_1"
      }
    },
    {
      "cell_type": "markdown",
      "source": [
        "Antes de realizar este tipo de teste precisamos obter uma estimativa para $\\sigma^2$ (variância do erro). Esta medida é importante para obter a Estatística-Teste para definição da área de rejeição e aceitação."
      ],
      "metadata": {
        "id": "rkfa4JYNo9D7"
      }
    },
    {
      "cell_type": "markdown",
      "metadata": {
        "id": "ePVflM9mtd9Z"
      },
      "source": [
        "**Output do modelo de regressão estimado**"
      ]
    },
    {
      "cell_type": "code",
      "execution_count": null,
      "metadata": {
        "id": "xZu92Yaztd9Z"
      },
      "outputs": [],
      "source": [
        "print(resultado_regressao.summary())"
      ]
    },
    {
      "cell_type": "markdown",
      "metadata": {
        "id": "imBNBULStd9a"
      },
      "source": [
        "### Erro quadrático médio (EQM) - estimativa de $\\sigma^2$\n",
        "\n",
        "Lembre-se que a **soma dos quadrados do erros (SQE)** é uma medida numérica da variabilidade dos dados observados em torno da reta de regressão estimada. Todas as somas de quadrados, estudadas anteriormente, estão associadas a um determinado número de graus de liberdade. No caso da SQE, como devem ser estimados dois parâmetros, temos $n-2$ graus de liberdade.\n",
        "\n",
        "$$\\text{Grau Liberdade} = n_{elementos} - n_{parâmetros}$$\n",
        "\n",
        "O **erro quadrático médio**, representado pela equação abaixo, pode ser obtido dividindo-se a SQE por $n-2$ graus de liberdade.\n",
        "\n",
        "# $$EQM = \\frac{SQE}{n-2}$$"
      ]
    },
    {
      "cell_type": "code",
      "execution_count": null,
      "metadata": {
        "id": "qg5nZub3CEFx"
      },
      "outputs": [],
      "source": [
        "# Três formas de cálculo do EQM\n",
        "EQM = SQE / (n-2)\n",
        "EQM = resultado_regressao.ssr / resultado_regressao.df_resid\n",
        "EQM = resultado_regressao.mse_resid\n",
        "\n",
        "EQM"
      ]
    },
    {
      "cell_type": "markdown",
      "metadata": {
        "id": "3xHqA9Gicam0"
      },
      "source": [
        "### Teste de hipótese para nulidade do coeficiente angular"
      ]
    },
    {
      "cell_type": "markdown",
      "metadata": {
        "id": "QpUUlnKw9Ac_"
      },
      "source": [
        "Considere o seguinte modelo de regressão linear simples:\n",
        "\n",
        "> * <h3>$$Y_i = \\beta_1 + \\beta_2X_i + u_i$$</h3>\n",
        "\n",
        "Se as variáveis $Y$ e $X$ são linearmente relacionadas, espera-se que $\\beta_2$ seja diferente de zero. Para testar esta hipótese formulamos um teste de hipótese com a seguinte especificação de hipóteses nula e alternativa:\n",
        "\n",
        "> * $H_0: \\beta_2 = 0$\n",
        "> * $H_1: \\beta_2 \\neq 0$\n",
        "\n",
        "Caso $H_0$ seja rejeitada, concluiremos que existe uma relação linear estatisticamente significativa entre as duas variáveis."
      ]
    },
    {
      "cell_type": "markdown",
      "source": [
        "Considere agora que $b_1$ e $b_2$ são nossos estimadores de mínimos quadrados. Também as seguintes propriedades:\n",
        "\n",
        "> * Considere que a distribuição amostral de $b_2$ segue uma normal\n",
        "> * <h3>$$E(b_2) = \\beta_2$$</h3>\n",
        "> * <h3>$$\\sigma_{b_2} = \\frac{\\sigma}{\\sqrt{\\sum{(X_i - \\bar{X})^2}}}$$</h3>\n",
        "\n"
      ],
      "metadata": {
        "id": "uQsZWIfqSpTz"
      }
    },
    {
      "cell_type": "markdown",
      "source": [
        "Como não conhecemos o valor de $\\sigma$, utilizamos $s$ como estimativa:\n",
        "\n",
        "> <h3>$$s_{b_2} = \\frac{s}{\\sqrt{\\sum{(X_i - \\bar{X})^2}}}$$</h3>\n",
        "\n"
      ],
      "metadata": {
        "id": "431toSZ8TQPB"
      }
    },
    {
      "cell_type": "markdown",
      "source": [
        "**ESTATÍSTICA DE TESTE**\n",
        "\n",
        "Note que o valor esperado de $b_2$ é $\\beta_2$, logo, $b_2$ é um estimador não viesado de $\\beta_2$. Abaixo temos a estatística de teste (t) que segue uma distribuição t de Student com $n-2$ graus de liberdade.\n",
        "\n",
        "> <h3>$$t = \\frac{b_2 - \\beta_2}{s_{b_2}}$$</h3>"
      ],
      "metadata": {
        "id": "nwTV87RQTg-D"
      }
    },
    {
      "cell_type": "markdown",
      "metadata": {
        "id": "hupnxGgFtd9g"
      },
      "source": [
        "**Calculando $s$**"
      ]
    },
    {
      "cell_type": "code",
      "execution_count": null,
      "metadata": {
        "id": "9r87ZchPcam2"
      },
      "outputs": [],
      "source": [
        "s = np.sqrt(resultado_regressao.mse_resid)\n",
        "s = np.sqrt(EQM)\n",
        "s"
      ]
    },
    {
      "cell_type": "markdown",
      "metadata": {
        "id": "mr85iUdatd9q"
      },
      "source": [
        "**Calculando $\\sum{(X_i - \\bar{X})^2}$**"
      ]
    },
    {
      "cell_type": "code",
      "execution_count": null,
      "metadata": {
        "id": "exNBEriWtd9q"
      },
      "outputs": [],
      "source": [
        "SOMA_DESVIO2 = dataset['X'].apply(lambda x: (x - dataset['X'].mean())**2).sum()"
      ]
    },
    {
      "cell_type": "markdown",
      "metadata": {
        "id": "mEuMAudxtd9u"
      },
      "source": [
        "**Calculando $s_{b_2}$**"
      ]
    },
    {
      "cell_type": "code",
      "execution_count": null,
      "metadata": {
        "id": "uwr9JWN_td9u"
      },
      "outputs": [],
      "source": [
        "s_beta_2 = s / np.sqrt(SOMA_DESVIO2)"
      ]
    },
    {
      "cell_type": "markdown",
      "metadata": {
        "id": "ZXe59tB-td9w"
      },
      "source": [
        "**Determinando as áreas de aceitação e rejeição de $H_0$**"
      ]
    },
    {
      "cell_type": "code",
      "execution_count": 2,
      "metadata": {
        "id": "sYjgmVgUtd9w"
      },
      "outputs": [],
      "source": [
        "# ÁREA DE ACEITAÇÃO E REJEIÇÃO\n",
        "from scipy.stats import t as t_student"
      ]
    },
    {
      "cell_type": "markdown",
      "source": [
        "![image.png](data:image/png;base64,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)"
      ],
      "metadata": {
        "id": "d_dfqy1TVB-m"
      }
    },
    {
      "cell_type": "markdown",
      "metadata": {
        "id": "cuvV9yC-td9x"
      },
      "source": [
        "[Região de Aceitação](https://caelum-online-public.s3.amazonaws.com/1273-estatistica-parte4/01/img031.png)"
      ]
    },
    {
      "cell_type": "markdown",
      "metadata": {
        "id": "z9tmldlUtd9y"
      },
      "source": [
        "**Níveis de confiança e significância**"
      ]
    },
    {
      "cell_type": "code",
      "execution_count": 1,
      "metadata": {
        "id": "x6imEPp0td9y"
      },
      "outputs": [],
      "source": [
        "# Significância\n",
        "alpha = 0.05\n",
        "\n",
        "# Confiança\n",
        "confianca = 1 - alpha"
      ]
    },
    {
      "cell_type": "code",
      "execution_count": null,
      "metadata": {
        "id": "VFJGcIRGD-ai"
      },
      "outputs": [],
      "source": [
        "# Graus de Liberdade da soma dos quadrados dos resíduos (n - 2)\n",
        "graus_de_liberdade = resultado_regressao.df_resid"
      ]
    },
    {
      "cell_type": "markdown",
      "metadata": {
        "id": "Xb6DWLiTtd9z"
      },
      "source": [
        "**Obtendo $t_{\\alpha/2}$**"
      ]
    },
    {
      "cell_type": "code",
      "execution_count": null,
      "metadata": {
        "id": "yVEsPYPitd9z"
      },
      "outputs": [],
      "source": [
        "# Até a cauda superior\n",
        "probabilidade = (0.5 + (confianca/2))/2\n",
        "probabilidade"
      ]
    },
    {
      "cell_type": "code",
      "execution_count": null,
      "metadata": {
        "id": "_Cfvwj7Ktd91"
      },
      "outputs": [],
      "source": [
        "t_alpha_2 = t_student.ppf(probabilidade, graus_de_liberdade)\n",
        "t_alpha_2"
      ]
    },
    {
      "cell_type": "markdown",
      "source": [
        "![image.png](data:image/png;base64,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)"
      ],
      "metadata": {
        "id": "AUdiqjV4XbrD"
      }
    },
    {
      "cell_type": "markdown",
      "metadata": {
        "id": "oW11PFl4td94"
      },
      "source": [
        "[Região de Aceitação](https://caelum-online-public.s3.amazonaws.com/1273-estatistica-parte4/01/img032.png)"
      ]
    },
    {
      "cell_type": "markdown",
      "metadata": {
        "id": "Sjj0cgC7td94"
      },
      "source": [
        "**Obtendo $t = \\frac{b_2 - \\beta_2}{s_{b_2}}$**"
      ]
    },
    {
      "cell_type": "code",
      "execution_count": null,
      "metadata": {
        "id": "Db8oVrEWtd94"
      },
      "outputs": [],
      "source": [
        "t = (beta_2 - 0)/ s_beta_2\n",
        "t"
      ]
    },
    {
      "cell_type": "code",
      "execution_count": null,
      "metadata": {
        "id": "h-Tm7-Qstd95"
      },
      "outputs": [],
      "source": [
        "# Método StatsModels\n",
        "resultado_regressao.tvalues"
      ]
    },
    {
      "cell_type": "markdown",
      "source": [
        "![image.png](data:image/png;base64,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)"
      ],
      "metadata": {
        "id": "SPq9H32hXe-T"
      }
    },
    {
      "cell_type": "markdown",
      "metadata": {
        "id": "jOvLKfvitd97"
      },
      "source": [
        "[Região de Aceitação](https://caelum-online-public.s3.amazonaws.com/1273-estatistica-parte4/01/img033.png)"
      ]
    },
    {
      "cell_type": "markdown",
      "metadata": {
        "id": "lU747h33td97"
      },
      "source": [
        "#### Etapas e regras de decisão do teste t de significância dos parâmetros"
      ]
    },
    {
      "cell_type": "markdown",
      "source": [
        "![image.png](data:image/png;base64,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)"
      ],
      "metadata": {
        "id": "xUWPtaRxXh6k"
      }
    },
    {
      "cell_type": "markdown",
      "metadata": {
        "id": "kDHBbSAitd97"
      },
      "source": [
        "[Resumo: ](https://caelum-online-public.s3.amazonaws.com/1273-estatistica-parte4/01/img030.png)"
      ]
    },
    {
      "cell_type": "markdown",
      "metadata": {
        "id": "-Il6O2H6td98"
      },
      "source": [
        "#### <font color='orange'>Critério do valor crítico</font>\n",
        "\n",
        "> ### Teste Bicaudal\n",
        "> ### Rejeitar $H_0$ se $t \\leq -t_{\\alpha / 2}$ ou se $t \\geq t_{\\alpha / 2}$"
      ]
    },
    {
      "cell_type": "code",
      "execution_count": null,
      "metadata": {
        "id": "24_4-073td99"
      },
      "outputs": [],
      "source": [
        "# Rejeitar H0\n",
        "t <= t_alpha_2"
      ]
    },
    {
      "cell_type": "code",
      "execution_count": null,
      "metadata": {
        "id": "jya2Bqvktd9-"
      },
      "outputs": [],
      "source": [
        "# Rejeitar H0\n",
        "t >= t_alpha_2"
      ]
    },
    {
      "cell_type": "markdown",
      "metadata": {
        "id": "dW7cJcnQtd9_"
      },
      "source": [
        "#### <font color='orange'>Critério do p-valor</font>\n",
        "\n",
        "> ### Teste Bicaudal\n",
        "> ### Rejeitar $H_0$ se o valor $p\\leq\\alpha$"
      ]
    },
    {
      "cell_type": "code",
      "execution_count": null,
      "metadata": {
        "id": "LJQ3BBpBtd9_"
      },
      "outputs": [],
      "source": [
        "# Teste bicaudal (2x)\n",
        "p_valor = 2 * (t_student.sf(t, graus_de_liberdade))\n",
        "p_valor"
      ]
    },
    {
      "cell_type": "code",
      "execution_count": null,
      "metadata": {
        "id": "gpVuM3Gvtd-B"
      },
      "outputs": [],
      "source": [
        "# P-Valor StatsModels\n",
        "p_valor = resultado_regressao.pvalues[1]\n",
        "p_valor"
      ]
    },
    {
      "cell_type": "code",
      "execution_count": null,
      "metadata": {
        "id": "Qtmjl1oBtd-C"
      },
      "outputs": [],
      "source": [
        "# REJEITAR H0\n",
        "p_valor <= significancia"
      ]
    },
    {
      "cell_type": "markdown",
      "metadata": {
        "id": "EP5tgnmttd-D"
      },
      "source": [
        "<font color='orange'>Conclusão: Rejeitamos $H_0$ e concluímos que existe uma relação significativa entre as duas variáveis.</font>"
      ]
    },
    {
      "cell_type": "code",
      "execution_count": null,
      "metadata": {
        "id": "HMaewwFXtd-D"
      },
      "outputs": [],
      "source": [
        "print(resultado_regressao.summary())"
      ]
    },
    {
      "cell_type": "markdown",
      "metadata": {
        "id": "HTW4vH03td-E"
      },
      "source": [
        "---"
      ]
    },
    {
      "cell_type": "markdown",
      "metadata": {
        "id": "fEAeu55gtd-E"
      },
      "source": [
        "### Teste F"
      ]
    },
    {
      "cell_type": "markdown",
      "metadata": {
        "id": "boZIhWUmtd-E"
      },
      "source": [
        "O teste F também é uma ferramenta para testar a significância na regressão. Baseado na distribuição F de probabilidade, o teste F é utilizado para verificar a significância global na regressão, isto é, em uma regressão múltipla, onde existe mais de uma variável independente, o teste F verifica a <font color=orange>nulidade de todos os parâmetros do modelo conjuntamente</font>.\n",
        "\n",
        "Em nosso caso (regressão linear simples) ele fornece a mesma conclusão obtida com o teste t, que utiliza a [distribuição F de Fisher-Snedecor](https://pt.wikipedia.org/wiki/Distribui%C3%A7%C3%A3o_F_de_Fisher-Snedecor).\n",
        "\n"
      ]
    },
    {
      "cell_type": "markdown",
      "source": [
        "![image.png](data:image/png;base64,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)"
      ],
      "metadata": {
        "id": "aEUjz08VAOru"
      }
    },
    {
      "cell_type": "markdown",
      "source": [
        "**Hipóteses:**\n",
        "\n",
        "> * $H_0: \\beta_2 = 0$\n",
        "> * $H_0: \\beta_2 \\neq 0$\n",
        "\n",
        "**Estatística de teste:**\n",
        "\n",
        "* $$F = \\frac{\\frac{SQR}{k}}{\\frac{SQE}{n-k-1}}$$\n",
        "\n",
        "Onde,\n",
        "\n",
        "$SQR$ - soma dos quadrados da regressão\n",
        "\n",
        "$SQE$ - soma dos quadrados dos erros\n",
        "\n",
        "$k$ - total de variáveis independentes ($X$)\n",
        "\n",
        "**Regras de rejeição de $H_0$:**\n",
        "\n",
        "**Critério do valor crítico** $\\rightarrow$ Rejeitar se $F \\geq F_{\\alpha}$\n",
        "\n",
        "Onde,\n",
        "\n",
        "$F_{\\alpha}$ - baseia-se na distribuição F com $k$ graus de liberdade no numerador e $n-k-1$ no denominador.\n",
        "\n",
        "**Critério do p-valor** $\\rightarrow$ Rejeitar se $p-valor \\leq \\alpha$"
      ],
      "metadata": {
        "id": "FQz10-ly9qEf"
      }
    },
    {
      "cell_type": "markdown",
      "metadata": {
        "id": "gT3WGPkNtd-E"
      },
      "source": [
        "**Calculando a estatística de teste ($F$)**"
      ]
    },
    {
      "cell_type": "code",
      "execution_count": null,
      "metadata": {
        "id": "kGfJb7gVtd-E"
      },
      "outputs": [],
      "source": [
        "# Mean squared error the model - Erro Quadrático Médio (SQR/k)\n",
        "resultado_regressao.mse_model"
      ]
    },
    {
      "cell_type": "code",
      "execution_count": null,
      "metadata": {
        "id": "v-ano9jmtd-H"
      },
      "outputs": [],
      "source": [
        "# Mean squared error of the residuals\n",
        "resultado_regressao.mse_resid"
      ]
    },
    {
      "cell_type": "code",
      "execution_count": null,
      "metadata": {
        "id": "9vtS-VQ2td-I"
      },
      "outputs": [],
      "source": [
        "F = resultado_regressao.mse_model / resultado_regressao.mse_resid\n",
        "F"
      ]
    },
    {
      "cell_type": "code",
      "execution_count": null,
      "metadata": {
        "id": "w8yfK5k1td-K"
      },
      "outputs": [],
      "source": [
        "# Alternativa StatsModels\n",
        "resultado_regressao.fvalue"
      ]
    },
    {
      "cell_type": "markdown",
      "metadata": {
        "id": "OEzKwQYztd-K"
      },
      "source": [
        "**Obtendo o p-valor**"
      ]
    },
    {
      "cell_type": "code",
      "execution_count": null,
      "metadata": {
        "id": "XTl2Y4u5td-K"
      },
      "outputs": [],
      "source": [
        "# P-Valor para a Estatística-Teste F\n",
        "resultado_regressao.f_pvalue"
      ]
    },
    {
      "cell_type": "code",
      "execution_count": null,
      "metadata": {
        "id": "OWswoJrHtd-M"
      },
      "outputs": [],
      "source": [
        "# P-Valor para a Estatística-Teste F (SciPy)\n",
        "from scipy.stats import f\n",
        "p_valor = f.sf(F, 1, 48)\n",
        "p_valor"
      ]
    },
    {
      "cell_type": "code",
      "execution_count": null,
      "metadata": {
        "id": "GH127n5atd-O"
      },
      "outputs": [],
      "source": [
        "# Critério p-valor para rejeitar H0\n",
        "p_valor <= 0.05"
      ]
    },
    {
      "cell_type": "markdown",
      "metadata": {
        "id": "jy32sWqYtd-S"
      },
      "source": [
        "# <font color=orange>5 EXTRAS</font>\n",
        "***"
      ]
    },
    {
      "cell_type": "markdown",
      "metadata": {
        "id": "MpTZNPXgtd-S"
      },
      "source": [
        "## <font color=orange>5.1 Outros testes</font>\n",
        "***"
      ]
    },
    {
      "cell_type": "code",
      "execution_count": null,
      "metadata": {
        "id": "dP3-Wwp9td-S"
      },
      "outputs": [],
      "source": [
        "print(resultado_regressao.summary())"
      ]
    },
    {
      "cell_type": "markdown",
      "metadata": {
        "id": "2imxW8qCE2_p"
      },
      "source": [
        "### Durbin-Watson\n",
        "\n",
        "Teste para séries temporais, auto-correlação serial."
      ]
    },
    {
      "cell_type": "markdown",
      "source": [
        "### Número de Condição\n",
        "\n",
        "Refere-se a multicolinearidade."
      ],
      "metadata": {
        "id": "-mRcQj65FDT8"
      }
    },
    {
      "cell_type": "markdown",
      "metadata": {
        "id": "c60PkV_Std-U"
      },
      "source": [
        "### Normalidade dos resíduos - Omnibus\n",
        "\n",
        "> $H_0:$ Os dados se distribuem como uma normal\n",
        "\n",
        "https://docs.scipy.org/doc/scipy/reference/generated/scipy.stats.normaltest.html"
      ]
    },
    {
      "cell_type": "code",
      "execution_count": null,
      "metadata": {
        "id": "-Q6xvpfstd-U"
      },
      "outputs": [],
      "source": []
    },
    {
      "cell_type": "code",
      "execution_count": null,
      "metadata": {
        "id": "zrxNEHpstd-W"
      },
      "outputs": [],
      "source": []
    },
    {
      "cell_type": "markdown",
      "metadata": {
        "id": "trrfvTbQtd-X"
      },
      "source": [
        "https://docs.scipy.org/doc/scipy/reference/generated/scipy.stats.probplot.html"
      ]
    },
    {
      "cell_type": "code",
      "execution_count": null,
      "metadata": {
        "id": "Rv_9YHwutd-Z"
      },
      "outputs": [],
      "source": []
    },
    {
      "cell_type": "code",
      "execution_count": null,
      "metadata": {
        "id": "dYwjwYdMtd-b"
      },
      "outputs": [],
      "source": []
    },
    {
      "cell_type": "code",
      "execution_count": null,
      "metadata": {
        "id": "I5AOPc2vtd-c"
      },
      "outputs": [],
      "source": []
    },
    {
      "cell_type": "markdown",
      "metadata": {
        "id": "5ilwY6HQtd-d"
      },
      "source": [
        "### Verificando a simetria\n",
        "\n",
        "https://docs.scipy.org/doc/scipy/reference/generated/scipy.stats.skew.html"
      ]
    },
    {
      "cell_type": "code",
      "execution_count": null,
      "metadata": {
        "id": "6EuSXLHZtd-d"
      },
      "outputs": [],
      "source": []
    },
    {
      "cell_type": "code",
      "execution_count": null,
      "metadata": {
        "id": "dWLfxBy3td-g"
      },
      "outputs": [],
      "source": []
    },
    {
      "cell_type": "markdown",
      "metadata": {
        "id": "D52bUcYStd-g"
      },
      "source": [
        "### Verificando a curtose\n",
        "\n",
        "https://docs.scipy.org/doc/scipy/reference/generated/scipy.stats.kurtosis.html"
      ]
    },
    {
      "cell_type": "code",
      "execution_count": null,
      "metadata": {
        "id": "B_Zcx_cNtd-h"
      },
      "outputs": [],
      "source": []
    },
    {
      "cell_type": "markdown",
      "metadata": {
        "id": "19Z7h_Jhtd-h"
      },
      "source": [
        "### Normalidade dos resíduos - Jarque-Bera (statsmodels)\n",
        "\n",
        "> ### $H_0:$ Os dados se distribuem como uma normal\n",
        "\n",
        "> ### Estatística de teste\n",
        "> ### $$JB = \\frac{n}{6}(S^2 + \\frac{1}{4}(C - 3)^2)$$\n",
        "> #### Onde,\n",
        "> #### $n$ - número de observações\n",
        "> #### $S$ - Coeficiente de assimetria\n",
        "> #### $C$ - Coeficiente de curtose"
      ]
    },
    {
      "cell_type": "code",
      "execution_count": null,
      "metadata": {
        "id": "r356qjpOtd-h"
      },
      "outputs": [],
      "source": []
    },
    {
      "cell_type": "code",
      "execution_count": null,
      "metadata": {
        "id": "aK8Lvwvbtd-i"
      },
      "outputs": [],
      "source": []
    },
    {
      "cell_type": "code",
      "execution_count": null,
      "metadata": {
        "id": "4vvZL2V5td-j"
      },
      "outputs": [],
      "source": []
    },
    {
      "cell_type": "markdown",
      "metadata": {
        "id": "C7GvNaJztd-j"
      },
      "source": [
        "### Normalidade dos resíduos - Jarque-Bera (Correção)\n",
        "\n",
        "> ### $H_0:$ Os dados se distribuem como uma normal\n",
        "\n",
        "> ### Estatística de teste\n",
        "> ### $$JB = \\frac{n-k}{6}(S^2 + \\frac{1}{4}(C - 3)^2)$$\n",
        "> #### Onde,\n",
        "> #### $n$ - número de observações\n",
        "> #### $k$ - número de parâmetros do modelo\n",
        "> #### $S$ - Coeficiente de assimetria\n",
        "> #### $C$ - Coeficiente de curtose"
      ]
    },
    {
      "cell_type": "code",
      "execution_count": null,
      "metadata": {
        "id": "Xy-1QQn-td-j"
      },
      "outputs": [],
      "source": []
    },
    {
      "cell_type": "code",
      "execution_count": null,
      "metadata": {
        "id": "ynNMLEO3td-k"
      },
      "outputs": [],
      "source": []
    },
    {
      "cell_type": "code",
      "execution_count": null,
      "metadata": {
        "id": "9gRlfnxLtd-l"
      },
      "outputs": [],
      "source": []
    },
    {
      "cell_type": "code",
      "execution_count": null,
      "metadata": {
        "id": "Bspj3u5vtd-n"
      },
      "outputs": [],
      "source": []
    }
  ],
  "metadata": {
    "colab": {
      "provenance": [],
      "toc_visible": true,
      "include_colab_link": true
    },
    "kernelspec": {
      "display_name": "Python 3",
      "language": "python",
      "name": "python3"
    },
    "language_info": {
      "codemirror_mode": {
        "name": "ipython",
        "version": 3
      },
      "file_extension": ".py",
      "mimetype": "text/x-python",
      "name": "python",
      "nbconvert_exporter": "python",
      "pygments_lexer": "ipython3",
      "version": "3.6.5"
    }
  },
  "nbformat": 4,
  "nbformat_minor": 0
}