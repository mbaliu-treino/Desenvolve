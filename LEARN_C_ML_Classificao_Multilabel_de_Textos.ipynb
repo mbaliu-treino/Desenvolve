{
  "nbformat": 4,
  "nbformat_minor": 0,
  "metadata": {
    "colab": {
      "provenance": [],
      "toc_visible": true,
      "authorship_tag": "ABX9TyOpccd2N1tWMx4VlR9MGJfy",
      "include_colab_link": true
    },
    "kernelspec": {
      "name": "python3",
      "display_name": "Python 3"
    },
    "language_info": {
      "name": "python"
    }
  },
  "cells": [
    {
      "cell_type": "markdown",
      "metadata": {
        "id": "view-in-github",
        "colab_type": "text"
      },
      "source": [
        "<a href=\"https://colab.research.google.com/github/mbaliu-treino/Desenvolve/blob/main/LEARN_C_ML_Classificao_Multilabel_de_Textos.ipynb\" target=\"_parent\"><img src=\"https://colab.research.google.com/assets/colab-badge.svg\" alt=\"Open In Colab\"/></a>"
      ]
    },
    {
      "cell_type": "markdown",
      "source": [
        "# <font color=orange><b>Classificação multilabel de textos: múltiplos contextos em NLP\n",
        "</b></font>\n",
        "\n",
        "<a href=\"https://colab.research.google.com/drive/1bvoc7IvQ5bpZtbg2HzNjt0sUWYOLuZKy?authuser=1#scrollTo=JSeHxPLGhvUz\"><font size=2; color=gray>Arquivo Colab</a></font>\n",
        "\n",
        "<ul><font size=2 color=gray>FICHA TÉCNICA\n",
        "<li><a href=\"https://cursos.alura.com.br/course/classificacao-multilabel-nlp\"><font size=2 color=gray>Classificação multilabel de textos: múltiplos contextos em NLP\n",
        "</a>\n",
        "<li>Carga Horária: 10 h\n",
        "<li>Instrutora: Thiago Santos\n",
        "<li>Data de Início: 01-2023\n",
        "</ul>\n",
        "\n",
        "\n"
      ],
      "metadata": {
        "id": "JSeHxPLGhvUz"
      }
    },
    {
      "cell_type": "markdown",
      "source": [
        "Neta aula é aprendido sobre o conceito de classificação multi-label, aplicado para uma classificação de texto (NLP). Como caso de aprendizagem, será classificado as perguntas realizadas no Stackoverflow para obtenção de tags, de forma automatizada."
      ],
      "metadata": {
        "id": "sXTG_jOm8Zk1"
      }
    },
    {
      "cell_type": "markdown",
      "source": [
        "## <font color=orange><b>Conteúdo</b></font>"
      ],
      "metadata": {
        "id": "Rs0aFUuS6P56"
      }
    },
    {
      "cell_type": "markdown",
      "source": [
        "<font color=orange></font>\n",
        "* <font color=orange></font>\n",
        "\n",
        "* <font color=orange>Tipos de classificação</font>\n",
        "    * Classificação binária\n",
        "    * classificação multiclass\n",
        "    * Classificação multilabel\n",
        "        * Relação entre as diversas labels em uma classificação multilabel.\n",
        "\n",
        "* <font color=orange>Métricas de avaliações para modelos de classificação multilabel</font>\n",
        "    * Exact match (Acurácia)\n",
        "    * Hamming Loss\n",
        "\n",
        "* <font color=orange>Algorítmos de Classificação Multilabel</font>\n",
        "    * Transformação do Problema\n",
        "        * Relevância Binária\n",
        "            * Scikit-Multilearn: \n",
        "            * Scikit-learn: `OneVsRestClassifier`\n",
        "        * Classificador em Cadeia\n",
        "            * Scikit-Multilearn: `ClassifierChain`\n",
        "    * Classificador Adaptado \n",
        "        * KNN andaptado: `MLkNN`\n",
        "\n",
        "* <font color=orange>Binarização dos dados para classificação multilabel</font>"
      ],
      "metadata": {
        "id": "v5WkdbDye8BJ"
      }
    },
    {
      "cell_type": "markdown",
      "source": [
        "## <font color=orange><b>Resumo da Metodologia</b></font>"
      ],
      "metadata": {
        "id": "UzYLT_A7B8Y6"
      }
    },
    {
      "cell_type": "markdown",
      "source": [
        "* \n"
      ],
      "metadata": {
        "id": "0Ou6KZd3-tYf"
      }
    },
    {
      "cell_type": "markdown",
      "source": [
        "# <font color=orange><b>CONCEITOS</b></font>\n"
      ],
      "metadata": {
        "id": "ARUfEjcsnUvf"
      }
    },
    {
      "cell_type": "markdown",
      "source": [
        "## <font color=orange><b>Classificação Multi-Label</b></font>"
      ],
      "metadata": {
        "id": "M9VD1cvdNUXO"
      }
    },
    {
      "cell_type": "markdown",
      "source": [
        "\n",
        "\n",
        "A <font color=orange>classificação Binária</font> retorna sempre 0 ou 1. Assim só há a aceitação ou a rejeição da classificação. A validação deste modelos ocorre com uma simples matriz de confusão. Então a variável é a verificação lógica de uma afirmação (\"é um filme ou não?\")\n",
        "\n",
        "Na <font color=orange>classificação múltiplas classes (multiclasses)</font> é quando há mais de duas classes, mas cada evento só terá um rótulo.\n",
        "\n",
        "Na <font color=orange>classificação multi-label</font>, existem diversas classes (mais do que duas) e cada evento pode acumular as labels. Ou seja, podem ser atribuídas todos os atributos a um evento. Um exemplo comum dessa classificação é a atribuição de *tags*."
      ],
      "metadata": {
        "id": "T0HnoUK08InE"
      }
    },
    {
      "cell_type": "markdown",
      "source": [
        "# <font color=orange><b>0. PROBLEMA</b></font>\n"
      ],
      "metadata": {
        "id": "JrWYJd0qPmJg"
      }
    },
    {
      "cell_type": "markdown",
      "source": [
        "..."
      ],
      "metadata": {
        "id": "O7K-wKbjUee_"
      }
    },
    {
      "cell_type": "markdown",
      "source": [
        "<a href=\"https://github.com/alura-cursos/alura_classificacao_multilabel/blob/Aula7/Aula_7.ipynb\"><font size=2 color=gray>Material do curso</font></a>"
      ],
      "metadata": {
        "id": "ZIdDWjN99OQ5"
      }
    },
    {
      "cell_type": "markdown",
      "source": [
        "# <font color=orange><b>1. DADOS</b></font>\n"
      ],
      "metadata": {
        "id": "lAYMtuaMPpZn"
      }
    },
    {
      "cell_type": "code",
      "source": [
        "url_dados = 'https://raw.githubusercontent.com/alura-cursos/alura_classificacao_multilabel/master/dataset/stackoverflow_perguntas.csv'"
      ],
      "metadata": {
        "id": "9Wo7jSvuCYAu"
      },
      "execution_count": 1,
      "outputs": []
    },
    {
      "cell_type": "code",
      "source": [
        "import pandas as pd\n",
        "\n",
        "dados = pd.read_csv(url_dados, sep=',')\n",
        "dados.sample(5)"
      ],
      "metadata": {
        "colab": {
          "base_uri": "https://localhost:8080/",
          "height": 206
        },
        "id": "ErcMfoTvEugw",
        "outputId": "353d3c9f-6193-490a-9099-32df6d796d39"
      },
      "execution_count": 2,
      "outputs": [
        {
          "output_type": "execute_result",
          "data": {
            "text/plain": [
              "                                              Perguntas         Tags\n",
              "5316  Estou tendo uma dor de cabeça com múltiplos pr...      node.js\n",
              "2428  Quais as melhores opções de IDE ou Editores de...      node.js\n",
              "1046  Não estou conseguindo digitar nada dentro de u...  jquery html\n",
              "2572  Olá, tenho um webapp onde eu tiro uma foto com...         html\n",
              "2327  Criei uma lista onde preciso mostrar se um ite...      angular"
            ],
            "text/html": [
              "\n",
              "  <div id=\"df-275b8aaa-5b06-4760-ab75-195c2665a575\">\n",
              "    <div class=\"colab-df-container\">\n",
              "      <div>\n",
              "<style scoped>\n",
              "    .dataframe tbody tr th:only-of-type {\n",
              "        vertical-align: middle;\n",
              "    }\n",
              "\n",
              "    .dataframe tbody tr th {\n",
              "        vertical-align: top;\n",
              "    }\n",
              "\n",
              "    .dataframe thead th {\n",
              "        text-align: right;\n",
              "    }\n",
              "</style>\n",
              "<table border=\"1\" class=\"dataframe\">\n",
              "  <thead>\n",
              "    <tr style=\"text-align: right;\">\n",
              "      <th></th>\n",
              "      <th>Perguntas</th>\n",
              "      <th>Tags</th>\n",
              "    </tr>\n",
              "  </thead>\n",
              "  <tbody>\n",
              "    <tr>\n",
              "      <th>5316</th>\n",
              "      <td>Estou tendo uma dor de cabeça com múltiplos pr...</td>\n",
              "      <td>node.js</td>\n",
              "    </tr>\n",
              "    <tr>\n",
              "      <th>2428</th>\n",
              "      <td>Quais as melhores opções de IDE ou Editores de...</td>\n",
              "      <td>node.js</td>\n",
              "    </tr>\n",
              "    <tr>\n",
              "      <th>1046</th>\n",
              "      <td>Não estou conseguindo digitar nada dentro de u...</td>\n",
              "      <td>jquery html</td>\n",
              "    </tr>\n",
              "    <tr>\n",
              "      <th>2572</th>\n",
              "      <td>Olá, tenho um webapp onde eu tiro uma foto com...</td>\n",
              "      <td>html</td>\n",
              "    </tr>\n",
              "    <tr>\n",
              "      <th>2327</th>\n",
              "      <td>Criei uma lista onde preciso mostrar se um ite...</td>\n",
              "      <td>angular</td>\n",
              "    </tr>\n",
              "  </tbody>\n",
              "</table>\n",
              "</div>\n",
              "      <button class=\"colab-df-convert\" onclick=\"convertToInteractive('df-275b8aaa-5b06-4760-ab75-195c2665a575')\"\n",
              "              title=\"Convert this dataframe to an interactive table.\"\n",
              "              style=\"display:none;\">\n",
              "        \n",
              "  <svg xmlns=\"http://www.w3.org/2000/svg\" height=\"24px\"viewBox=\"0 0 24 24\"\n",
              "       width=\"24px\">\n",
              "    <path d=\"M0 0h24v24H0V0z\" fill=\"none\"/>\n",
              "    <path d=\"M18.56 5.44l.94 2.06.94-2.06 2.06-.94-2.06-.94-.94-2.06-.94 2.06-2.06.94zm-11 1L8.5 8.5l.94-2.06 2.06-.94-2.06-.94L8.5 2.5l-.94 2.06-2.06.94zm10 10l.94 2.06.94-2.06 2.06-.94-2.06-.94-.94-2.06-.94 2.06-2.06.94z\"/><path d=\"M17.41 7.96l-1.37-1.37c-.4-.4-.92-.59-1.43-.59-.52 0-1.04.2-1.43.59L10.3 9.45l-7.72 7.72c-.78.78-.78 2.05 0 2.83L4 21.41c.39.39.9.59 1.41.59.51 0 1.02-.2 1.41-.59l7.78-7.78 2.81-2.81c.8-.78.8-2.07 0-2.86zM5.41 20L4 18.59l7.72-7.72 1.47 1.35L5.41 20z\"/>\n",
              "  </svg>\n",
              "      </button>\n",
              "      \n",
              "  <style>\n",
              "    .colab-df-container {\n",
              "      display:flex;\n",
              "      flex-wrap:wrap;\n",
              "      gap: 12px;\n",
              "    }\n",
              "\n",
              "    .colab-df-convert {\n",
              "      background-color: #E8F0FE;\n",
              "      border: none;\n",
              "      border-radius: 50%;\n",
              "      cursor: pointer;\n",
              "      display: none;\n",
              "      fill: #1967D2;\n",
              "      height: 32px;\n",
              "      padding: 0 0 0 0;\n",
              "      width: 32px;\n",
              "    }\n",
              "\n",
              "    .colab-df-convert:hover {\n",
              "      background-color: #E2EBFA;\n",
              "      box-shadow: 0px 1px 2px rgba(60, 64, 67, 0.3), 0px 1px 3px 1px rgba(60, 64, 67, 0.15);\n",
              "      fill: #174EA6;\n",
              "    }\n",
              "\n",
              "    [theme=dark] .colab-df-convert {\n",
              "      background-color: #3B4455;\n",
              "      fill: #D2E3FC;\n",
              "    }\n",
              "\n",
              "    [theme=dark] .colab-df-convert:hover {\n",
              "      background-color: #434B5C;\n",
              "      box-shadow: 0px 1px 3px 1px rgba(0, 0, 0, 0.15);\n",
              "      filter: drop-shadow(0px 1px 2px rgba(0, 0, 0, 0.3));\n",
              "      fill: #FFFFFF;\n",
              "    }\n",
              "  </style>\n",
              "\n",
              "      <script>\n",
              "        const buttonEl =\n",
              "          document.querySelector('#df-275b8aaa-5b06-4760-ab75-195c2665a575 button.colab-df-convert');\n",
              "        buttonEl.style.display =\n",
              "          google.colab.kernel.accessAllowed ? 'block' : 'none';\n",
              "\n",
              "        async function convertToInteractive(key) {\n",
              "          const element = document.querySelector('#df-275b8aaa-5b06-4760-ab75-195c2665a575');\n",
              "          const dataTable =\n",
              "            await google.colab.kernel.invokeFunction('convertToInteractive',\n",
              "                                                     [key], {});\n",
              "          if (!dataTable) return;\n",
              "\n",
              "          const docLinkHtml = 'Like what you see? Visit the ' +\n",
              "            '<a target=\"_blank\" href=https://colab.research.google.com/notebooks/data_table.ipynb>data table notebook</a>'\n",
              "            + ' to learn more about interactive tables.';\n",
              "          element.innerHTML = '';\n",
              "          dataTable['output_type'] = 'display_data';\n",
              "          await google.colab.output.renderOutput(dataTable, element);\n",
              "          const docLink = document.createElement('div');\n",
              "          docLink.innerHTML = docLinkHtml;\n",
              "          element.appendChild(docLink);\n",
              "        }\n",
              "      </script>\n",
              "    </div>\n",
              "  </div>\n",
              "  "
            ]
          },
          "metadata": {},
          "execution_count": 2
        }
      ]
    },
    {
      "cell_type": "code",
      "source": [
        "dados.shape"
      ],
      "metadata": {
        "colab": {
          "base_uri": "https://localhost:8080/"
        },
        "id": "75Ky84STEzz_",
        "outputId": "4bef3243-b39c-4e46-9d47-fe56b29e1c5e"
      },
      "execution_count": 3,
      "outputs": [
        {
          "output_type": "execute_result",
          "data": {
            "text/plain": [
              "(5408, 2)"
            ]
          },
          "metadata": {},
          "execution_count": 3
        }
      ]
    },
    {
      "cell_type": "markdown",
      "source": [
        "# <font color=orange><b>2. VARIÁVEL STRING</b></font>\n"
      ],
      "metadata": {
        "id": "ams3ZOFcyDRA"
      }
    },
    {
      "cell_type": "markdown",
      "source": [
        "**Normalização dos strings**\n",
        "\n",
        "Como a base foi construída, possui-se 37 tags únicas. Elas são compostas por tags compostos e nomenclaturas com ruídos. Além da existências de distorções, essa quantidade de categorias dificuldade o modelo preditivo.\n",
        "\n",
        "Um outro problema é a ordem dos elementos compostos em uma string.\n",
        "\n",
        "Este caso exemplifica algumas das dificuldades de operar com strings. Existem muitas possibilidades de falsas divergências."
      ],
      "metadata": {
        "id": "InDuH3xHySOe"
      }
    },
    {
      "cell_type": "code",
      "source": [
        "tags_unicos = dados['Tags'].unique()\n",
        "len(tags_unicos)"
      ],
      "metadata": {
        "colab": {
          "base_uri": "https://localhost:8080/"
        },
        "id": "oCiAyPQbyFbY",
        "outputId": "3b2b008c-7aa8-42ea-d24b-d62f10e64c2a"
      },
      "execution_count": 4,
      "outputs": [
        {
          "output_type": "execute_result",
          "data": {
            "text/plain": [
              "37"
            ]
          },
          "metadata": {},
          "execution_count": 4
        }
      ]
    },
    {
      "cell_type": "code",
      "source": [
        "labels = dados['Tags'].str.strip().unique()\n",
        "len(labels)"
      ],
      "metadata": {
        "colab": {
          "base_uri": "https://localhost:8080/"
        },
        "id": "oIYeFyB8ze8h",
        "outputId": "386550cb-1cde-42ff-919e-5e7136bd1b4f"
      },
      "execution_count": 5,
      "outputs": [
        {
          "output_type": "execute_result",
          "data": {
            "text/plain": [
              "17"
            ]
          },
          "metadata": {},
          "execution_count": 5
        }
      ]
    },
    {
      "cell_type": "code",
      "source": [
        "labels"
      ],
      "metadata": {
        "colab": {
          "base_uri": "https://localhost:8080/"
        },
        "id": "2r8dZnPc0EZQ",
        "outputId": "107e003d-6958-46c8-9d9b-9879d27df5d1"
      },
      "execution_count": 6,
      "outputs": [
        {
          "output_type": "execute_result",
          "data": {
            "text/plain": [
              "array(['node.js', 'jquery', 'html', 'html angular', 'angular',\n",
              "       'jquery html', 'angular node.js', 'jquery html angular',\n",
              "       'html jquery', 'jquery angular', 'html node.js', 'jquery node.js',\n",
              "       'node.js html', 'angular html', 'html angular  node.js',\n",
              "       'jquery html node.js', 'html angular node.js'], dtype=object)"
            ]
          },
          "metadata": {},
          "execution_count": 6
        }
      ]
    },
    {
      "cell_type": "markdown",
      "source": [
        "**DESAFIO TÉCNICO**\n",
        "\n",
        "Para os modelos computacional é necessário a conversão destes valores textuais em valores numéricos, que são mais facilmente processados pelos métodos estatísticas, garantindo resultados mais robustos.\n",
        "\n",
        "Uma solução é converter uma variável categórica em diversas colunas binárias."
      ],
      "metadata": {
        "id": "1ISrB-IV3xGj"
      }
    },
    {
      "cell_type": "code",
      "source": [
        "labels_unicos = set()\n",
        "for l in labels:\n",
        "    for i in l.split():\n",
        "        labels_unicos.add(i)\n",
        "\n",
        "labels_unicos = list(labels_unicos)\n",
        "labels_unicos"
      ],
      "metadata": {
        "colab": {
          "base_uri": "https://localhost:8080/"
        },
        "id": "0VHUZdBl2Dna",
        "outputId": "af179fba-7dd0-457a-9d83-4304fc838bfa"
      },
      "execution_count": 7,
      "outputs": [
        {
          "output_type": "execute_result",
          "data": {
            "text/plain": [
              "['node.js', 'jquery', 'html', 'angular']"
            ]
          },
          "metadata": {},
          "execution_count": 7
        }
      ]
    },
    {
      "cell_type": "markdown",
      "source": [
        "Após a separação e o tratamento das tags, somente 4 tags únicas foram identificadas. Desta forma é possível realizar o *encoding* desta variável. É um processo semelhante ao *one hot encoding*."
      ],
      "metadata": {
        "id": "9JKVc2u83QAk"
      }
    },
    {
      "cell_type": "code",
      "source": [
        "# Exemplo de conversão\n",
        "node_js = []\n",
        "\n",
        "for linha_tag in dados['Tags']:\n",
        "    if 'node.js' in linha_tag:\n",
        "        node_js.append(1)\n",
        "    else:\n",
        "        node_js.append(0)\n",
        "\n",
        "df = dados.copy()\n",
        "df['node.js'] = node_js\n",
        "df"
      ],
      "metadata": {
        "colab": {
          "base_uri": "https://localhost:8080/",
          "height": 424
        },
        "id": "LHXabCOy44Eg",
        "outputId": "e7a104e5-2553-48cf-9388-16f3508194eb"
      },
      "execution_count": 8,
      "outputs": [
        {
          "output_type": "execute_result",
          "data": {
            "text/plain": [
              "                                              Perguntas           Tags  \\\n",
              "0     Possuo um projeto Node.js porém preciso criar ...        node.js   \n",
              "1     Gostaria de fazer testes unitários no Node.js,...        node.js   \n",
              "2     Como inverter a ordem com que o jQuery itera u...         jquery   \n",
              "3     Eu tenho uma página onde pretendo utilizar um ...           html   \n",
              "4     Como exibir os dados retornados do FireStore e...  html angular    \n",
              "...                                                 ...            ...   \n",
              "5403  Queria saber como pegar o total de cores de um...   jquery html    \n",
              "5404  Boa noite, estou usando phonegap para fazer um...          html    \n",
              "5405  Estou construindo um mini fórum, e nele, os us...    jquery html   \n",
              "5406  Boa tarde,  Estou para desenvolver um site na ...           html   \n",
              "5407  Estou fazendo um hotsite, ele é one page, e é ...    jquery html   \n",
              "\n",
              "      node.js  \n",
              "0           1  \n",
              "1           1  \n",
              "2           0  \n",
              "3           0  \n",
              "4           0  \n",
              "...       ...  \n",
              "5403        0  \n",
              "5404        0  \n",
              "5405        0  \n",
              "5406        0  \n",
              "5407        0  \n",
              "\n",
              "[5408 rows x 3 columns]"
            ],
            "text/html": [
              "\n",
              "  <div id=\"df-be8662b9-e9b6-404f-860b-61400a8a48bd\">\n",
              "    <div class=\"colab-df-container\">\n",
              "      <div>\n",
              "<style scoped>\n",
              "    .dataframe tbody tr th:only-of-type {\n",
              "        vertical-align: middle;\n",
              "    }\n",
              "\n",
              "    .dataframe tbody tr th {\n",
              "        vertical-align: top;\n",
              "    }\n",
              "\n",
              "    .dataframe thead th {\n",
              "        text-align: right;\n",
              "    }\n",
              "</style>\n",
              "<table border=\"1\" class=\"dataframe\">\n",
              "  <thead>\n",
              "    <tr style=\"text-align: right;\">\n",
              "      <th></th>\n",
              "      <th>Perguntas</th>\n",
              "      <th>Tags</th>\n",
              "      <th>node.js</th>\n",
              "    </tr>\n",
              "  </thead>\n",
              "  <tbody>\n",
              "    <tr>\n",
              "      <th>0</th>\n",
              "      <td>Possuo um projeto Node.js porém preciso criar ...</td>\n",
              "      <td>node.js</td>\n",
              "      <td>1</td>\n",
              "    </tr>\n",
              "    <tr>\n",
              "      <th>1</th>\n",
              "      <td>Gostaria de fazer testes unitários no Node.js,...</td>\n",
              "      <td>node.js</td>\n",
              "      <td>1</td>\n",
              "    </tr>\n",
              "    <tr>\n",
              "      <th>2</th>\n",
              "      <td>Como inverter a ordem com que o jQuery itera u...</td>\n",
              "      <td>jquery</td>\n",
              "      <td>0</td>\n",
              "    </tr>\n",
              "    <tr>\n",
              "      <th>3</th>\n",
              "      <td>Eu tenho uma página onde pretendo utilizar um ...</td>\n",
              "      <td>html</td>\n",
              "      <td>0</td>\n",
              "    </tr>\n",
              "    <tr>\n",
              "      <th>4</th>\n",
              "      <td>Como exibir os dados retornados do FireStore e...</td>\n",
              "      <td>html angular</td>\n",
              "      <td>0</td>\n",
              "    </tr>\n",
              "    <tr>\n",
              "      <th>...</th>\n",
              "      <td>...</td>\n",
              "      <td>...</td>\n",
              "      <td>...</td>\n",
              "    </tr>\n",
              "    <tr>\n",
              "      <th>5403</th>\n",
              "      <td>Queria saber como pegar o total de cores de um...</td>\n",
              "      <td>jquery html</td>\n",
              "      <td>0</td>\n",
              "    </tr>\n",
              "    <tr>\n",
              "      <th>5404</th>\n",
              "      <td>Boa noite, estou usando phonegap para fazer um...</td>\n",
              "      <td>html</td>\n",
              "      <td>0</td>\n",
              "    </tr>\n",
              "    <tr>\n",
              "      <th>5405</th>\n",
              "      <td>Estou construindo um mini fórum, e nele, os us...</td>\n",
              "      <td>jquery html</td>\n",
              "      <td>0</td>\n",
              "    </tr>\n",
              "    <tr>\n",
              "      <th>5406</th>\n",
              "      <td>Boa tarde,  Estou para desenvolver um site na ...</td>\n",
              "      <td>html</td>\n",
              "      <td>0</td>\n",
              "    </tr>\n",
              "    <tr>\n",
              "      <th>5407</th>\n",
              "      <td>Estou fazendo um hotsite, ele é one page, e é ...</td>\n",
              "      <td>jquery html</td>\n",
              "      <td>0</td>\n",
              "    </tr>\n",
              "  </tbody>\n",
              "</table>\n",
              "<p>5408 rows × 3 columns</p>\n",
              "</div>\n",
              "      <button class=\"colab-df-convert\" onclick=\"convertToInteractive('df-be8662b9-e9b6-404f-860b-61400a8a48bd')\"\n",
              "              title=\"Convert this dataframe to an interactive table.\"\n",
              "              style=\"display:none;\">\n",
              "        \n",
              "  <svg xmlns=\"http://www.w3.org/2000/svg\" height=\"24px\"viewBox=\"0 0 24 24\"\n",
              "       width=\"24px\">\n",
              "    <path d=\"M0 0h24v24H0V0z\" fill=\"none\"/>\n",
              "    <path d=\"M18.56 5.44l.94 2.06.94-2.06 2.06-.94-2.06-.94-.94-2.06-.94 2.06-2.06.94zm-11 1L8.5 8.5l.94-2.06 2.06-.94-2.06-.94L8.5 2.5l-.94 2.06-2.06.94zm10 10l.94 2.06.94-2.06 2.06-.94-2.06-.94-.94-2.06-.94 2.06-2.06.94z\"/><path d=\"M17.41 7.96l-1.37-1.37c-.4-.4-.92-.59-1.43-.59-.52 0-1.04.2-1.43.59L10.3 9.45l-7.72 7.72c-.78.78-.78 2.05 0 2.83L4 21.41c.39.39.9.59 1.41.59.51 0 1.02-.2 1.41-.59l7.78-7.78 2.81-2.81c.8-.78.8-2.07 0-2.86zM5.41 20L4 18.59l7.72-7.72 1.47 1.35L5.41 20z\"/>\n",
              "  </svg>\n",
              "      </button>\n",
              "      \n",
              "  <style>\n",
              "    .colab-df-container {\n",
              "      display:flex;\n",
              "      flex-wrap:wrap;\n",
              "      gap: 12px;\n",
              "    }\n",
              "\n",
              "    .colab-df-convert {\n",
              "      background-color: #E8F0FE;\n",
              "      border: none;\n",
              "      border-radius: 50%;\n",
              "      cursor: pointer;\n",
              "      display: none;\n",
              "      fill: #1967D2;\n",
              "      height: 32px;\n",
              "      padding: 0 0 0 0;\n",
              "      width: 32px;\n",
              "    }\n",
              "\n",
              "    .colab-df-convert:hover {\n",
              "      background-color: #E2EBFA;\n",
              "      box-shadow: 0px 1px 2px rgba(60, 64, 67, 0.3), 0px 1px 3px 1px rgba(60, 64, 67, 0.15);\n",
              "      fill: #174EA6;\n",
              "    }\n",
              "\n",
              "    [theme=dark] .colab-df-convert {\n",
              "      background-color: #3B4455;\n",
              "      fill: #D2E3FC;\n",
              "    }\n",
              "\n",
              "    [theme=dark] .colab-df-convert:hover {\n",
              "      background-color: #434B5C;\n",
              "      box-shadow: 0px 1px 3px 1px rgba(0, 0, 0, 0.15);\n",
              "      filter: drop-shadow(0px 1px 2px rgba(0, 0, 0, 0.3));\n",
              "      fill: #FFFFFF;\n",
              "    }\n",
              "  </style>\n",
              "\n",
              "      <script>\n",
              "        const buttonEl =\n",
              "          document.querySelector('#df-be8662b9-e9b6-404f-860b-61400a8a48bd button.colab-df-convert');\n",
              "        buttonEl.style.display =\n",
              "          google.colab.kernel.accessAllowed ? 'block' : 'none';\n",
              "\n",
              "        async function convertToInteractive(key) {\n",
              "          const element = document.querySelector('#df-be8662b9-e9b6-404f-860b-61400a8a48bd');\n",
              "          const dataTable =\n",
              "            await google.colab.kernel.invokeFunction('convertToInteractive',\n",
              "                                                     [key], {});\n",
              "          if (!dataTable) return;\n",
              "\n",
              "          const docLinkHtml = 'Like what you see? Visit the ' +\n",
              "            '<a target=\"_blank\" href=https://colab.research.google.com/notebooks/data_table.ipynb>data table notebook</a>'\n",
              "            + ' to learn more about interactive tables.';\n",
              "          element.innerHTML = '';\n",
              "          dataTable['output_type'] = 'display_data';\n",
              "          await google.colab.output.renderOutput(dataTable, element);\n",
              "          const docLink = document.createElement('div');\n",
              "          docLink.innerHTML = docLinkHtml;\n",
              "          element.appendChild(docLink);\n",
              "        }\n",
              "      </script>\n",
              "    </div>\n",
              "  </div>\n",
              "  "
            ]
          },
          "metadata": {},
          "execution_count": 8
        }
      ]
    },
    {
      "cell_type": "code",
      "source": [
        "# Função de conversão\n",
        "def label_encoding(categoria):\n",
        "    label = []\n",
        "\n",
        "    for linha_tag in dados['Tags']:\n",
        "        if categoria in linha_tag:\n",
        "            label.append(1)\n",
        "        else:\n",
        "            label.append(0)\n",
        "    return label\n",
        "\n",
        "for tag in labels_unicos:\n",
        "    dados[tag] = label_encoding(tag)\n",
        "\n",
        "dados.sample(5)"
      ],
      "metadata": {
        "colab": {
          "base_uri": "https://localhost:8080/",
          "height": 206
        },
        "id": "sZ9MjqqRMbeY",
        "outputId": "e6539bf9-68a3-4aa3-b520-f1a2f7e7919f"
      },
      "execution_count": 9,
      "outputs": [
        {
          "output_type": "execute_result",
          "data": {
            "text/plain": [
              "                                              Perguntas     Tags  node.js  \\\n",
              "3299  É possível mudar a cor do texto de um CODE ?  ...    html         0   \n",
              "2087  Possuo o seguinte código no express.js  CODE  ...  node.js        1   \n",
              "2970  Existe algum plugin em jQuery que faz este tip...   jquery        0   \n",
              "1936  Boa tarde amigos,  Eu estava fazendo o seguint...   jquery        0   \n",
              "5156  Tenho um arquivo chamado funcoes.js e outro ch...   jquery        0   \n",
              "\n",
              "      jquery  html  angular  \n",
              "3299       0     1        0  \n",
              "2087       0     0        0  \n",
              "2970       1     0        0  \n",
              "1936       1     0        0  \n",
              "5156       1     0        0  "
            ],
            "text/html": [
              "\n",
              "  <div id=\"df-5c26a3f3-8a28-4ac3-90f6-e32a392fe509\">\n",
              "    <div class=\"colab-df-container\">\n",
              "      <div>\n",
              "<style scoped>\n",
              "    .dataframe tbody tr th:only-of-type {\n",
              "        vertical-align: middle;\n",
              "    }\n",
              "\n",
              "    .dataframe tbody tr th {\n",
              "        vertical-align: top;\n",
              "    }\n",
              "\n",
              "    .dataframe thead th {\n",
              "        text-align: right;\n",
              "    }\n",
              "</style>\n",
              "<table border=\"1\" class=\"dataframe\">\n",
              "  <thead>\n",
              "    <tr style=\"text-align: right;\">\n",
              "      <th></th>\n",
              "      <th>Perguntas</th>\n",
              "      <th>Tags</th>\n",
              "      <th>node.js</th>\n",
              "      <th>jquery</th>\n",
              "      <th>html</th>\n",
              "      <th>angular</th>\n",
              "    </tr>\n",
              "  </thead>\n",
              "  <tbody>\n",
              "    <tr>\n",
              "      <th>3299</th>\n",
              "      <td>É possível mudar a cor do texto de um CODE ?  ...</td>\n",
              "      <td>html</td>\n",
              "      <td>0</td>\n",
              "      <td>0</td>\n",
              "      <td>1</td>\n",
              "      <td>0</td>\n",
              "    </tr>\n",
              "    <tr>\n",
              "      <th>2087</th>\n",
              "      <td>Possuo o seguinte código no express.js  CODE  ...</td>\n",
              "      <td>node.js</td>\n",
              "      <td>1</td>\n",
              "      <td>0</td>\n",
              "      <td>0</td>\n",
              "      <td>0</td>\n",
              "    </tr>\n",
              "    <tr>\n",
              "      <th>2970</th>\n",
              "      <td>Existe algum plugin em jQuery que faz este tip...</td>\n",
              "      <td>jquery</td>\n",
              "      <td>0</td>\n",
              "      <td>1</td>\n",
              "      <td>0</td>\n",
              "      <td>0</td>\n",
              "    </tr>\n",
              "    <tr>\n",
              "      <th>1936</th>\n",
              "      <td>Boa tarde amigos,  Eu estava fazendo o seguint...</td>\n",
              "      <td>jquery</td>\n",
              "      <td>0</td>\n",
              "      <td>1</td>\n",
              "      <td>0</td>\n",
              "      <td>0</td>\n",
              "    </tr>\n",
              "    <tr>\n",
              "      <th>5156</th>\n",
              "      <td>Tenho um arquivo chamado funcoes.js e outro ch...</td>\n",
              "      <td>jquery</td>\n",
              "      <td>0</td>\n",
              "      <td>1</td>\n",
              "      <td>0</td>\n",
              "      <td>0</td>\n",
              "    </tr>\n",
              "  </tbody>\n",
              "</table>\n",
              "</div>\n",
              "      <button class=\"colab-df-convert\" onclick=\"convertToInteractive('df-5c26a3f3-8a28-4ac3-90f6-e32a392fe509')\"\n",
              "              title=\"Convert this dataframe to an interactive table.\"\n",
              "              style=\"display:none;\">\n",
              "        \n",
              "  <svg xmlns=\"http://www.w3.org/2000/svg\" height=\"24px\"viewBox=\"0 0 24 24\"\n",
              "       width=\"24px\">\n",
              "    <path d=\"M0 0h24v24H0V0z\" fill=\"none\"/>\n",
              "    <path d=\"M18.56 5.44l.94 2.06.94-2.06 2.06-.94-2.06-.94-.94-2.06-.94 2.06-2.06.94zm-11 1L8.5 8.5l.94-2.06 2.06-.94-2.06-.94L8.5 2.5l-.94 2.06-2.06.94zm10 10l.94 2.06.94-2.06 2.06-.94-2.06-.94-.94-2.06-.94 2.06-2.06.94z\"/><path d=\"M17.41 7.96l-1.37-1.37c-.4-.4-.92-.59-1.43-.59-.52 0-1.04.2-1.43.59L10.3 9.45l-7.72 7.72c-.78.78-.78 2.05 0 2.83L4 21.41c.39.39.9.59 1.41.59.51 0 1.02-.2 1.41-.59l7.78-7.78 2.81-2.81c.8-.78.8-2.07 0-2.86zM5.41 20L4 18.59l7.72-7.72 1.47 1.35L5.41 20z\"/>\n",
              "  </svg>\n",
              "      </button>\n",
              "      \n",
              "  <style>\n",
              "    .colab-df-container {\n",
              "      display:flex;\n",
              "      flex-wrap:wrap;\n",
              "      gap: 12px;\n",
              "    }\n",
              "\n",
              "    .colab-df-convert {\n",
              "      background-color: #E8F0FE;\n",
              "      border: none;\n",
              "      border-radius: 50%;\n",
              "      cursor: pointer;\n",
              "      display: none;\n",
              "      fill: #1967D2;\n",
              "      height: 32px;\n",
              "      padding: 0 0 0 0;\n",
              "      width: 32px;\n",
              "    }\n",
              "\n",
              "    .colab-df-convert:hover {\n",
              "      background-color: #E2EBFA;\n",
              "      box-shadow: 0px 1px 2px rgba(60, 64, 67, 0.3), 0px 1px 3px 1px rgba(60, 64, 67, 0.15);\n",
              "      fill: #174EA6;\n",
              "    }\n",
              "\n",
              "    [theme=dark] .colab-df-convert {\n",
              "      background-color: #3B4455;\n",
              "      fill: #D2E3FC;\n",
              "    }\n",
              "\n",
              "    [theme=dark] .colab-df-convert:hover {\n",
              "      background-color: #434B5C;\n",
              "      box-shadow: 0px 1px 3px 1px rgba(0, 0, 0, 0.15);\n",
              "      filter: drop-shadow(0px 1px 2px rgba(0, 0, 0, 0.3));\n",
              "      fill: #FFFFFF;\n",
              "    }\n",
              "  </style>\n",
              "\n",
              "      <script>\n",
              "        const buttonEl =\n",
              "          document.querySelector('#df-5c26a3f3-8a28-4ac3-90f6-e32a392fe509 button.colab-df-convert');\n",
              "        buttonEl.style.display =\n",
              "          google.colab.kernel.accessAllowed ? 'block' : 'none';\n",
              "\n",
              "        async function convertToInteractive(key) {\n",
              "          const element = document.querySelector('#df-5c26a3f3-8a28-4ac3-90f6-e32a392fe509');\n",
              "          const dataTable =\n",
              "            await google.colab.kernel.invokeFunction('convertToInteractive',\n",
              "                                                     [key], {});\n",
              "          if (!dataTable) return;\n",
              "\n",
              "          const docLinkHtml = 'Like what you see? Visit the ' +\n",
              "            '<a target=\"_blank\" href=https://colab.research.google.com/notebooks/data_table.ipynb>data table notebook</a>'\n",
              "            + ' to learn more about interactive tables.';\n",
              "          element.innerHTML = '';\n",
              "          dataTable['output_type'] = 'display_data';\n",
              "          await google.colab.output.renderOutput(dataTable, element);\n",
              "          const docLink = document.createElement('div');\n",
              "          docLink.innerHTML = docLinkHtml;\n",
              "          element.appendChild(docLink);\n",
              "        }\n",
              "      </script>\n",
              "    </div>\n",
              "  </div>\n",
              "  "
            ]
          },
          "metadata": {},
          "execution_count": 9
        }
      ]
    },
    {
      "cell_type": "code",
      "source": [
        "# Alternativa de Combinação no case (Sklearn)\n",
        "from sklearn.preprocessing import MultiLabelBinarizer\n",
        "\n",
        "mlb = MultiLabelBinarizer()\n",
        "mlb.fit_transform(dados[['angular', 'jquery', 'html', 'node.js']])"
      ],
      "metadata": {
        "colab": {
          "base_uri": "https://localhost:8080/"
        },
        "id": "TW3g4Z-TslD9",
        "outputId": "71890165-abd1-476b-be75-442fc4847852"
      },
      "execution_count": 10,
      "outputs": [
        {
          "output_type": "execute_result",
          "data": {
            "text/plain": [
              "array([[0, 1, 0, 0, 1, 0, 0, 1, 0, 1, 0, 0, 1, 0, 0, 1, 0],\n",
              "       [0, 0, 0, 1, 0, 0, 1, 0, 0, 0, 0, 1, 1, 0, 0, 1, 1],\n",
              "       [0, 0, 0, 0, 0, 1, 0, 1, 1, 0, 0, 0, 0, 0, 1, 0, 0],\n",
              "       [1, 0, 1, 1, 0, 0, 1, 0, 0, 1, 1, 0, 0, 1, 0, 0, 0]])"
            ]
          },
          "metadata": {},
          "execution_count": 10
        }
      ]
    },
    {
      "cell_type": "markdown",
      "source": [
        "# <font color=orange><b>3. MODELAGEM</b></font>\n"
      ],
      "metadata": {
        "id": "plMpPtuWOO_I"
      }
    },
    {
      "cell_type": "markdown",
      "source": [
        "## <font color=orange><b>3.1 Conjuntos de Dados</b></font>\n"
      ],
      "metadata": {
        "id": "_k0U--RSOlBQ"
      }
    },
    {
      "cell_type": "markdown",
      "source": [
        "**QUESTÕES**\n",
        "\n",
        "* Balanceamento representativo\n",
        "* Múltiplas variáveis preditas\n",
        "    * Uma proporção para cada variável"
      ],
      "metadata": {
        "id": "kuXfr1J0dry4"
      }
    },
    {
      "cell_type": "markdown",
      "source": [
        "#### **BINARIZAÇÃO MULTILABEL - COMBINAÇÃO DE RESPOSTAS**\n",
        "\n"
      ],
      "metadata": {
        "id": "rvbi4K8leTne"
      }
    },
    {
      "cell_type": "code",
      "source": [
        "# Exemplo da função ZIP\n",
        "lista_1 = [1,2]\n",
        "lista_2 = [10,20]\n",
        "lista_3 = [100,200]\n",
        "\n",
        "list(zip(*[lista_1, lista_2, lista_3]))"
      ],
      "metadata": {
        "colab": {
          "base_uri": "https://localhost:8080/"
        },
        "id": "WYHguctUeZ2q",
        "outputId": "155a6410-9f67-4d4f-96db-3b64691fe30b"
      },
      "execution_count": 11,
      "outputs": [
        {
          "output_type": "execute_result",
          "data": {
            "text/plain": [
              "[(1, 10, 100), (2, 20, 200)]"
            ]
          },
          "metadata": {},
          "execution_count": 11
        }
      ]
    },
    {
      "cell_type": "code",
      "source": [
        "# Combinação no case\n",
        "lista_zip_tags = zip(\n",
        "    dados[labels_unicos[0]],\n",
        "    dados[labels_unicos[1]],\n",
        "    dados[labels_unicos[2]],\n",
        "    dados[labels_unicos[3]],\n",
        ")"
      ],
      "metadata": {
        "id": "mdta6Ftke6wu"
      },
      "execution_count": 12,
      "outputs": []
    },
    {
      "cell_type": "code",
      "source": [
        "# Alternativa de Combinação no case\n",
        "lista_zip_tags = zip( *[dados[tag_] for tag_ in labels_unicos] )\n",
        "\n",
        "# list(lista_zip_tags)[:5]"
      ],
      "metadata": {
        "id": "61qcujYAfcTX"
      },
      "execution_count": 13,
      "outputs": []
    },
    {
      "cell_type": "code",
      "source": [
        "dados['todas_tags'] = list(lista_zip_tags)\n",
        "dados.sample(5)"
      ],
      "metadata": {
        "colab": {
          "base_uri": "https://localhost:8080/",
          "height": 206
        },
        "id": "qgtfZH3rgwIp",
        "outputId": "06a91cb8-1ed4-436f-c0cb-76241c0f5613"
      },
      "execution_count": 14,
      "outputs": [
        {
          "output_type": "execute_result",
          "data": {
            "text/plain": [
              "                                              Perguntas     Tags  node.js  \\\n",
              "907   Tenho o seguinte código que os dados estão ret...  node.js        1   \n",
              "830   Estou tentando montar um javascript que escrev...     html        0   \n",
              "4309  No PHP, podemos converter uma quebra de linha ...     html        0   \n",
              "173   View:  CODE     Controller:  CODE   Estou com ...  jquery         0   \n",
              "596   Tenho duas divs, uma (div2) que contém 4 image...     html        0   \n",
              "\n",
              "      jquery  html  angular    todas_tags  \n",
              "907        0     0        0  (1, 0, 0, 0)  \n",
              "830        0     1        0  (0, 0, 1, 0)  \n",
              "4309       0     1        0  (0, 0, 1, 0)  \n",
              "173        1     0        0  (0, 1, 0, 0)  \n",
              "596        0     1        0  (0, 0, 1, 0)  "
            ],
            "text/html": [
              "\n",
              "  <div id=\"df-b0884c74-c01d-4b20-bcf8-d1c49f5fd21b\">\n",
              "    <div class=\"colab-df-container\">\n",
              "      <div>\n",
              "<style scoped>\n",
              "    .dataframe tbody tr th:only-of-type {\n",
              "        vertical-align: middle;\n",
              "    }\n",
              "\n",
              "    .dataframe tbody tr th {\n",
              "        vertical-align: top;\n",
              "    }\n",
              "\n",
              "    .dataframe thead th {\n",
              "        text-align: right;\n",
              "    }\n",
              "</style>\n",
              "<table border=\"1\" class=\"dataframe\">\n",
              "  <thead>\n",
              "    <tr style=\"text-align: right;\">\n",
              "      <th></th>\n",
              "      <th>Perguntas</th>\n",
              "      <th>Tags</th>\n",
              "      <th>node.js</th>\n",
              "      <th>jquery</th>\n",
              "      <th>html</th>\n",
              "      <th>angular</th>\n",
              "      <th>todas_tags</th>\n",
              "    </tr>\n",
              "  </thead>\n",
              "  <tbody>\n",
              "    <tr>\n",
              "      <th>907</th>\n",
              "      <td>Tenho o seguinte código que os dados estão ret...</td>\n",
              "      <td>node.js</td>\n",
              "      <td>1</td>\n",
              "      <td>0</td>\n",
              "      <td>0</td>\n",
              "      <td>0</td>\n",
              "      <td>(1, 0, 0, 0)</td>\n",
              "    </tr>\n",
              "    <tr>\n",
              "      <th>830</th>\n",
              "      <td>Estou tentando montar um javascript que escrev...</td>\n",
              "      <td>html</td>\n",
              "      <td>0</td>\n",
              "      <td>0</td>\n",
              "      <td>1</td>\n",
              "      <td>0</td>\n",
              "      <td>(0, 0, 1, 0)</td>\n",
              "    </tr>\n",
              "    <tr>\n",
              "      <th>4309</th>\n",
              "      <td>No PHP, podemos converter uma quebra de linha ...</td>\n",
              "      <td>html</td>\n",
              "      <td>0</td>\n",
              "      <td>0</td>\n",
              "      <td>1</td>\n",
              "      <td>0</td>\n",
              "      <td>(0, 0, 1, 0)</td>\n",
              "    </tr>\n",
              "    <tr>\n",
              "      <th>173</th>\n",
              "      <td>View:  CODE     Controller:  CODE   Estou com ...</td>\n",
              "      <td>jquery</td>\n",
              "      <td>0</td>\n",
              "      <td>1</td>\n",
              "      <td>0</td>\n",
              "      <td>0</td>\n",
              "      <td>(0, 1, 0, 0)</td>\n",
              "    </tr>\n",
              "    <tr>\n",
              "      <th>596</th>\n",
              "      <td>Tenho duas divs, uma (div2) que contém 4 image...</td>\n",
              "      <td>html</td>\n",
              "      <td>0</td>\n",
              "      <td>0</td>\n",
              "      <td>1</td>\n",
              "      <td>0</td>\n",
              "      <td>(0, 0, 1, 0)</td>\n",
              "    </tr>\n",
              "  </tbody>\n",
              "</table>\n",
              "</div>\n",
              "      <button class=\"colab-df-convert\" onclick=\"convertToInteractive('df-b0884c74-c01d-4b20-bcf8-d1c49f5fd21b')\"\n",
              "              title=\"Convert this dataframe to an interactive table.\"\n",
              "              style=\"display:none;\">\n",
              "        \n",
              "  <svg xmlns=\"http://www.w3.org/2000/svg\" height=\"24px\"viewBox=\"0 0 24 24\"\n",
              "       width=\"24px\">\n",
              "    <path d=\"M0 0h24v24H0V0z\" fill=\"none\"/>\n",
              "    <path d=\"M18.56 5.44l.94 2.06.94-2.06 2.06-.94-2.06-.94-.94-2.06-.94 2.06-2.06.94zm-11 1L8.5 8.5l.94-2.06 2.06-.94-2.06-.94L8.5 2.5l-.94 2.06-2.06.94zm10 10l.94 2.06.94-2.06 2.06-.94-2.06-.94-.94-2.06-.94 2.06-2.06.94z\"/><path d=\"M17.41 7.96l-1.37-1.37c-.4-.4-.92-.59-1.43-.59-.52 0-1.04.2-1.43.59L10.3 9.45l-7.72 7.72c-.78.78-.78 2.05 0 2.83L4 21.41c.39.39.9.59 1.41.59.51 0 1.02-.2 1.41-.59l7.78-7.78 2.81-2.81c.8-.78.8-2.07 0-2.86zM5.41 20L4 18.59l7.72-7.72 1.47 1.35L5.41 20z\"/>\n",
              "  </svg>\n",
              "      </button>\n",
              "      \n",
              "  <style>\n",
              "    .colab-df-container {\n",
              "      display:flex;\n",
              "      flex-wrap:wrap;\n",
              "      gap: 12px;\n",
              "    }\n",
              "\n",
              "    .colab-df-convert {\n",
              "      background-color: #E8F0FE;\n",
              "      border: none;\n",
              "      border-radius: 50%;\n",
              "      cursor: pointer;\n",
              "      display: none;\n",
              "      fill: #1967D2;\n",
              "      height: 32px;\n",
              "      padding: 0 0 0 0;\n",
              "      width: 32px;\n",
              "    }\n",
              "\n",
              "    .colab-df-convert:hover {\n",
              "      background-color: #E2EBFA;\n",
              "      box-shadow: 0px 1px 2px rgba(60, 64, 67, 0.3), 0px 1px 3px 1px rgba(60, 64, 67, 0.15);\n",
              "      fill: #174EA6;\n",
              "    }\n",
              "\n",
              "    [theme=dark] .colab-df-convert {\n",
              "      background-color: #3B4455;\n",
              "      fill: #D2E3FC;\n",
              "    }\n",
              "\n",
              "    [theme=dark] .colab-df-convert:hover {\n",
              "      background-color: #434B5C;\n",
              "      box-shadow: 0px 1px 3px 1px rgba(0, 0, 0, 0.15);\n",
              "      filter: drop-shadow(0px 1px 2px rgba(0, 0, 0, 0.3));\n",
              "      fill: #FFFFFF;\n",
              "    }\n",
              "  </style>\n",
              "\n",
              "      <script>\n",
              "        const buttonEl =\n",
              "          document.querySelector('#df-b0884c74-c01d-4b20-bcf8-d1c49f5fd21b button.colab-df-convert');\n",
              "        buttonEl.style.display =\n",
              "          google.colab.kernel.accessAllowed ? 'block' : 'none';\n",
              "\n",
              "        async function convertToInteractive(key) {\n",
              "          const element = document.querySelector('#df-b0884c74-c01d-4b20-bcf8-d1c49f5fd21b');\n",
              "          const dataTable =\n",
              "            await google.colab.kernel.invokeFunction('convertToInteractive',\n",
              "                                                     [key], {});\n",
              "          if (!dataTable) return;\n",
              "\n",
              "          const docLinkHtml = 'Like what you see? Visit the ' +\n",
              "            '<a target=\"_blank\" href=https://colab.research.google.com/notebooks/data_table.ipynb>data table notebook</a>'\n",
              "            + ' to learn more about interactive tables.';\n",
              "          element.innerHTML = '';\n",
              "          dataTable['output_type'] = 'display_data';\n",
              "          await google.colab.output.renderOutput(dataTable, element);\n",
              "          const docLink = document.createElement('div');\n",
              "          docLink.innerHTML = docLinkHtml;\n",
              "          element.appendChild(docLink);\n",
              "        }\n",
              "      </script>\n",
              "    </div>\n",
              "  </div>\n",
              "  "
            ]
          },
          "metadata": {},
          "execution_count": 14
        }
      ]
    },
    {
      "cell_type": "markdown",
      "source": [
        "**SEPARAÇÃO DOS CONJUNTOS**"
      ],
      "metadata": {
        "id": "yr2b8HjhiDIE"
      }
    },
    {
      "cell_type": "code",
      "source": [
        "from sklearn.model_selection import train_test_split\n",
        "\n",
        "X = dados['Perguntas']\n",
        "y = dados['todas_tags']\n",
        "\n",
        "X_train, X_test, y_train, y_test = train_test_split(X, y, test_size=0.2, random_state=123)"
      ],
      "metadata": {
        "id": "Gp-OQVCRchlM"
      },
      "execution_count": 15,
      "outputs": []
    },
    {
      "cell_type": "markdown",
      "source": [
        "## <font color=orange><b>3.2 Vetorização (tf-idf)</b></font>\n",
        "\n",
        "Um texto é uma liguagem humana, a qual não é tão facilmente processada pelos modelos estatísticos. Então a transformação de uma linguagem humana para um estrutura matemática permite a implementação de modelos de ML.\n",
        "\n",
        "**TF-IDF**\n",
        "\n",
        "Processo de vetorização em que cria uma matriz vetorial para cada token (palavra) com pesos para cada uma delas, buscando dar maior relevância para algumas palavras chaves.\n",
        "\n",
        "> A principal característica do TF-IDF é ser uma pontuação proporcional à frequência da palavra no texto e equilibrada pela frequência no corpus, ou seja, palavras que se repetem muito tendem a ter pontuações menores e são menos relevantes no processo de classificação."
      ],
      "metadata": {
        "id": "tYvE72k_iqw0"
      }
    },
    {
      "cell_type": "markdown",
      "source": [
        "![image.png](data:image/png;base64,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)"
      ],
      "metadata": {
        "id": "ao634dEajW3-"
      }
    },
    {
      "cell_type": "markdown",
      "source": [
        "* max_features: limite de posições para o modelo\n",
        "* max_df: remove a feature do token, caso tenha uma frequência acima do threshold (0-1)."
      ],
      "metadata": {
        "id": "_lkw_AE6w6rA"
      }
    },
    {
      "cell_type": "code",
      "source": [
        "from sklearn.feature_extraction.text import TfidfVectorizer\n",
        "\n",
        "vetorizador = TfidfVectorizer(max_features=5000, max_df=0.85)"
      ],
      "metadata": {
        "id": "RUiZKeDHjYP3"
      },
      "execution_count": 16,
      "outputs": []
    },
    {
      "cell_type": "code",
      "source": [
        "dados_treino_vetor = dados['Perguntas']\n",
        "# dados_treino_vetor = X_train\n",
        "# Faz sentido treinar com dados de teste?\n",
        "\n",
        "vetorizador.fit(dados_treino_vetor)\n",
        "\n",
        "X_train_tfidf = vetorizador.transform(X_train)\n",
        "X_test_tfidf = vetorizador.transform(X_test)"
      ],
      "metadata": {
        "id": "j1UoLtFjiCQx"
      },
      "execution_count": 17,
      "outputs": []
    },
    {
      "cell_type": "code",
      "source": [
        "X_train_tfidf.shape"
      ],
      "metadata": {
        "colab": {
          "base_uri": "https://localhost:8080/"
        },
        "id": "VAhAkkQnyWmd",
        "outputId": "71b536f9-84f6-46f9-d930-07d2f8b61e0b"
      },
      "execution_count": 18,
      "outputs": [
        {
          "output_type": "execute_result",
          "data": {
            "text/plain": [
              "(4326, 5000)"
            ]
          },
          "metadata": {},
          "execution_count": 18
        }
      ]
    },
    {
      "cell_type": "code",
      "source": [
        "X_test_tfidf.shape"
      ],
      "metadata": {
        "colab": {
          "base_uri": "https://localhost:8080/"
        },
        "id": "UVhcDB00yXuV",
        "outputId": "918cdb4a-dc62-4b70-f924-b46b07bb76f8"
      },
      "execution_count": 19,
      "outputs": [
        {
          "output_type": "execute_result",
          "data": {
            "text/plain": [
              "(1082, 5000)"
            ]
          },
          "metadata": {},
          "execution_count": 19
        }
      ]
    },
    {
      "cell_type": "markdown",
      "source": [
        "## <font color=orange><b>3.3 Relevância Binária</b></font>\n",
        "\n",
        "Relevância Binária é o método de aplicação de diversas classificações binárias para um conjunto de colunas. Esta é uma estratégia para a classificação multilabel."
      ],
      "metadata": {
        "id": "p2oNPRvxzFja"
      }
    },
    {
      "cell_type": "markdown",
      "source": [
        "**Algorítmo OneVsRest**\n",
        "\n",
        "O classificar Relevância Binária é implementada através do algorítmo [OneVsRest](https://scikit-learn.org/stable/modules/generated/sklearn.multiclass.OneVsRestClassifier.html) do Scikit-learn.\n",
        "\n",
        "Ao ser implementado, ele exige um estimador, ou seja, um algorítmo de classificação para ser executado em background. Alguns exemples são:\n",
        "\n",
        "* SVC\n",
        "* Regressão Logística\n",
        "* Decision Tree etc"
      ],
      "metadata": {
        "id": "qoDiX3Z5YJVG"
      }
    },
    {
      "cell_type": "markdown",
      "source": [
        "> [Exemplos de uso da função](https://scikit-learn.org/stable/modules/generated/sklearn.multiclass.OneVsRestClassifier.html#examples-using-sklearn-multiclass-onevsrestclassifier)"
      ],
      "metadata": {
        "id": "yS-KyuE2rzRX"
      }
    },
    {
      "cell_type": "code",
      "source": [
        "from sklearn.multiclass import OneVsRestClassifier\n",
        "from sklearn.linear_model import LogisticRegression\n",
        "\n",
        "regressao_logistica = LogisticRegression()\n",
        "classificador_onevsrest = OneVsRestClassifier(estimator = regressao_logistica)\n",
        "classificador_onevsrest"
      ],
      "metadata": {
        "colab": {
          "base_uri": "https://localhost:8080/"
        },
        "id": "tdRNadZlwDEc",
        "outputId": "87a23e6f-098a-46d4-cc85-0783a2af6e34"
      },
      "execution_count": 20,
      "outputs": [
        {
          "output_type": "execute_result",
          "data": {
            "text/plain": [
              "OneVsRestClassifier(estimator=LogisticRegression())"
            ]
          },
          "metadata": {},
          "execution_count": 20
        }
      ]
    },
    {
      "cell_type": "code",
      "source": [
        "# Conversão para um array de listas\n",
        "import numpy as np\n",
        "\n",
        "y_train_array = np.asarray(list(y_train))\n",
        "y_test_array = np.asarray(list(y_test))"
      ],
      "metadata": {
        "id": "eXkSlMWzxBmn"
      },
      "execution_count": 21,
      "outputs": []
    },
    {
      "cell_type": "code",
      "source": [
        "classificador_onevsrest.fit(X_train_tfidf, y_train_array)"
      ],
      "metadata": {
        "colab": {
          "base_uri": "https://localhost:8080/"
        },
        "id": "S6u68KuUwnHf",
        "outputId": "59441311-d1c4-421b-c905-aa9945ede4e4"
      },
      "execution_count": 22,
      "outputs": [
        {
          "output_type": "execute_result",
          "data": {
            "text/plain": [
              "OneVsRestClassifier(estimator=LogisticRegression())"
            ]
          },
          "metadata": {},
          "execution_count": 22
        }
      ]
    },
    {
      "cell_type": "markdown",
      "source": [
        "## <font color=orange><b>3.4 Avaliação</b></font>\n"
      ],
      "metadata": {
        "id": "pjtImlOuxpaE"
      }
    },
    {
      "cell_type": "markdown",
      "source": [
        "### <font color=orange>Exact Match</font>\n",
        "\n",
        "A acurácia mede, no caso de classificação multilabel, os registros que possuírem todas as subclassificações corretamente. Por isso, ela também é chamada de *extact match*."
      ],
      "metadata": {
        "id": "UPO7Tq9z8g4B"
      }
    },
    {
      "cell_type": "code",
      "source": [
        "resultado_onevsrest = classificador_onevsrest.score(X_test_tfidf, y_test_array)\n",
        "print(f'Resultado de acurácia: {resultado_onevsrest:.2%}')"
      ],
      "metadata": {
        "colab": {
          "base_uri": "https://localhost:8080/"
        },
        "id": "pKNLQQLqxmgE",
        "outputId": "c2381e57-9ebb-4129-daad-9ac76c5cd62b"
      },
      "execution_count": 23,
      "outputs": [
        {
          "output_type": "stream",
          "name": "stdout",
          "text": [
            "Resultado de acurácia: 41.68%\n"
          ]
        }
      ]
    },
    {
      "cell_type": "markdown",
      "source": [
        "**Combinações possíveis**"
      ],
      "metadata": {
        "id": "Tm-cKJ8A76K9"
      }
    },
    {
      "cell_type": "code",
      "source": [
        "# Combinações possíveis\n",
        "2**4"
      ],
      "metadata": {
        "colab": {
          "base_uri": "https://localhost:8080/"
        },
        "id": "ddTgmBav8JN5",
        "outputId": "87eb2ae6-5608-425a-dfde-e2b37a643a4d"
      },
      "execution_count": 24,
      "outputs": [
        {
          "output_type": "execute_result",
          "data": {
            "text/plain": [
              "16"
            ]
          },
          "metadata": {},
          "execution_count": 24
        }
      ]
    },
    {
      "cell_type": "code",
      "source": [
        "# Combinações existentes\n",
        "len(dados['todas_tags'].unique())"
      ],
      "metadata": {
        "colab": {
          "base_uri": "https://localhost:8080/"
        },
        "id": "yaeSiX_878WS",
        "outputId": "e73b6be6-20cf-4c0e-b594-14527ca16f94"
      },
      "execution_count": 25,
      "outputs": [
        {
          "output_type": "execute_result",
          "data": {
            "text/plain": [
              "13"
            ]
          },
          "metadata": {},
          "execution_count": 25
        }
      ]
    },
    {
      "cell_type": "markdown",
      "source": [
        "### <font color=orange>Hamming Loss</font>\n",
        "\n",
        "A métrica de Hamming Loss busca medir a distância entre a predição e os valores esperados, através da distância Hamming. Quanto maior a distância, maior a divergência com a predição perfeita. \n",
        "\n",
        "A Hamming Loss (perda de hamming) é calculada:\n",
        "\n",
        "$$\\frac{Distancia_{Hamming}}{Total\\_de\\_Previsões} = \\frac{\\sum{Erros}}{Total}$$\n",
        "\n",
        "Desta forma, `hamming_loss=0` representa o modelo perfeito. Já `hamming_loss=1` representa que o modelo não foi capaz de acertar qualquer label."
      ],
      "metadata": {
        "id": "1g576NGd8rEA"
      }
    },
    {
      "cell_type": "markdown",
      "source": [
        "> A principal diferença é que o Hamming loss avalia os acertos de cada label individualmente, enquanto a acurácia avalia a combinação das labels, ou seja, será considerado correto apenas se o classificador acertar todas as labels de uma determinada instância. Para o Hamming Loss, quanto mais próximo de 0 melhor o resultado, enquanto para a acurácia o melhor resultado é o mais próximo de 1."
      ],
      "metadata": {
        "id": "KOgowWiBAyXz"
      }
    },
    {
      "cell_type": "code",
      "source": [
        "from sklearn.metrics import hamming_loss\n",
        "\n",
        "previsao_onevsrest = classificador_onevsrest.predict(X_test_tfidf)\n",
        "hamming_loss_onevsrest = hamming_loss(y_test_array, previsao_onevsrest)\n",
        "\n",
        "print(f'Resultado de hamming loss: {hamming_loss_onevsrest:.2f}')"
      ],
      "metadata": {
        "colab": {
          "base_uri": "https://localhost:8080/"
        },
        "id": "4Wv-lxLw-e2R",
        "outputId": "d838358f-048d-44d9-c938-2af5957a8dfc"
      },
      "execution_count": 26,
      "outputs": [
        {
          "output_type": "stream",
          "name": "stdout",
          "text": [
            "Resultado de hamming loss: 0.19\n"
          ]
        }
      ]
    },
    {
      "cell_type": "markdown",
      "source": [
        "## <font color=orange><b>3.5 Classificação em Cadeia - Relação entre labels</b></font>\n"
      ],
      "metadata": {
        "id": "QCs2Mftl_9SS"
      }
    },
    {
      "cell_type": "markdown",
      "source": [
        "O modelo usado de Relevância Binária (One vs Rest) possui a premissa da independência das labels, ou seja, a ocorrência de uma label, não impacta na ocorrência de outras labels.\n",
        "\n",
        "No entanto, essa premissa pode não ser verdadeira no nosso fenômeno. Para conseguir incorporar esta relação no modelo podeoos usar um modelo de classificação em cadeia.\n",
        "\n",
        "O mecanismo para incorporar a relação entre as labels é através do processo recursão, em que após a primeira classificação binária acontencer, a variável predita é utilizada como variável preditora para a próxima label a ser predita. Assim, cria-se a estrutura de cadeia para as labels."
      ],
      "metadata": {
        "id": "YOSUIvwAAA3g"
      }
    },
    {
      "cell_type": "markdown",
      "source": [
        "* Transformação do problema em algo mais simples: \n",
        "    > * \"The problem transformation approach to multi-label classification converts multi-label problems to single-label problems: single-class or multi-class.\"\n",
        "* Adaptação dos algorítmos\n",
        "    > * Algorithm adaptation methods for multi-label classification concentrate on adapting single-label classification algorithms to the multi-label case usually by changes in cost/decision functions."
      ],
      "metadata": {
        "id": "Qd1AirWkSMFb"
      }
    },
    {
      "cell_type": "code",
      "source": [
        "# Avaliação da correlação entre as labels\n",
        "dados.corr()"
      ],
      "metadata": {
        "colab": {
          "base_uri": "https://localhost:8080/",
          "height": 175
        },
        "id": "B8cBHwE9-jef",
        "outputId": "033e6daa-d045-49a6-e770-d684f47c5274"
      },
      "execution_count": 27,
      "outputs": [
        {
          "output_type": "execute_result",
          "data": {
            "text/plain": [
              "          node.js    jquery      html   angular\n",
              "node.js  1.000000 -0.321485 -0.273523 -0.101787\n",
              "jquery  -0.321485  1.000000 -0.253977 -0.366269\n",
              "html    -0.273523 -0.253977  1.000000 -0.286706\n",
              "angular -0.101787 -0.366269 -0.286706  1.000000"
            ],
            "text/html": [
              "\n",
              "  <div id=\"df-3ceda3d9-cd17-4e43-9cbd-a25d3fdc7778\">\n",
              "    <div class=\"colab-df-container\">\n",
              "      <div>\n",
              "<style scoped>\n",
              "    .dataframe tbody tr th:only-of-type {\n",
              "        vertical-align: middle;\n",
              "    }\n",
              "\n",
              "    .dataframe tbody tr th {\n",
              "        vertical-align: top;\n",
              "    }\n",
              "\n",
              "    .dataframe thead th {\n",
              "        text-align: right;\n",
              "    }\n",
              "</style>\n",
              "<table border=\"1\" class=\"dataframe\">\n",
              "  <thead>\n",
              "    <tr style=\"text-align: right;\">\n",
              "      <th></th>\n",
              "      <th>node.js</th>\n",
              "      <th>jquery</th>\n",
              "      <th>html</th>\n",
              "      <th>angular</th>\n",
              "    </tr>\n",
              "  </thead>\n",
              "  <tbody>\n",
              "    <tr>\n",
              "      <th>node.js</th>\n",
              "      <td>1.000000</td>\n",
              "      <td>-0.321485</td>\n",
              "      <td>-0.273523</td>\n",
              "      <td>-0.101787</td>\n",
              "    </tr>\n",
              "    <tr>\n",
              "      <th>jquery</th>\n",
              "      <td>-0.321485</td>\n",
              "      <td>1.000000</td>\n",
              "      <td>-0.253977</td>\n",
              "      <td>-0.366269</td>\n",
              "    </tr>\n",
              "    <tr>\n",
              "      <th>html</th>\n",
              "      <td>-0.273523</td>\n",
              "      <td>-0.253977</td>\n",
              "      <td>1.000000</td>\n",
              "      <td>-0.286706</td>\n",
              "    </tr>\n",
              "    <tr>\n",
              "      <th>angular</th>\n",
              "      <td>-0.101787</td>\n",
              "      <td>-0.366269</td>\n",
              "      <td>-0.286706</td>\n",
              "      <td>1.000000</td>\n",
              "    </tr>\n",
              "  </tbody>\n",
              "</table>\n",
              "</div>\n",
              "      <button class=\"colab-df-convert\" onclick=\"convertToInteractive('df-3ceda3d9-cd17-4e43-9cbd-a25d3fdc7778')\"\n",
              "              title=\"Convert this dataframe to an interactive table.\"\n",
              "              style=\"display:none;\">\n",
              "        \n",
              "  <svg xmlns=\"http://www.w3.org/2000/svg\" height=\"24px\"viewBox=\"0 0 24 24\"\n",
              "       width=\"24px\">\n",
              "    <path d=\"M0 0h24v24H0V0z\" fill=\"none\"/>\n",
              "    <path d=\"M18.56 5.44l.94 2.06.94-2.06 2.06-.94-2.06-.94-.94-2.06-.94 2.06-2.06.94zm-11 1L8.5 8.5l.94-2.06 2.06-.94-2.06-.94L8.5 2.5l-.94 2.06-2.06.94zm10 10l.94 2.06.94-2.06 2.06-.94-2.06-.94-.94-2.06-.94 2.06-2.06.94z\"/><path d=\"M17.41 7.96l-1.37-1.37c-.4-.4-.92-.59-1.43-.59-.52 0-1.04.2-1.43.59L10.3 9.45l-7.72 7.72c-.78.78-.78 2.05 0 2.83L4 21.41c.39.39.9.59 1.41.59.51 0 1.02-.2 1.41-.59l7.78-7.78 2.81-2.81c.8-.78.8-2.07 0-2.86zM5.41 20L4 18.59l7.72-7.72 1.47 1.35L5.41 20z\"/>\n",
              "  </svg>\n",
              "      </button>\n",
              "      \n",
              "  <style>\n",
              "    .colab-df-container {\n",
              "      display:flex;\n",
              "      flex-wrap:wrap;\n",
              "      gap: 12px;\n",
              "    }\n",
              "\n",
              "    .colab-df-convert {\n",
              "      background-color: #E8F0FE;\n",
              "      border: none;\n",
              "      border-radius: 50%;\n",
              "      cursor: pointer;\n",
              "      display: none;\n",
              "      fill: #1967D2;\n",
              "      height: 32px;\n",
              "      padding: 0 0 0 0;\n",
              "      width: 32px;\n",
              "    }\n",
              "\n",
              "    .colab-df-convert:hover {\n",
              "      background-color: #E2EBFA;\n",
              "      box-shadow: 0px 1px 2px rgba(60, 64, 67, 0.3), 0px 1px 3px 1px rgba(60, 64, 67, 0.15);\n",
              "      fill: #174EA6;\n",
              "    }\n",
              "\n",
              "    [theme=dark] .colab-df-convert {\n",
              "      background-color: #3B4455;\n",
              "      fill: #D2E3FC;\n",
              "    }\n",
              "\n",
              "    [theme=dark] .colab-df-convert:hover {\n",
              "      background-color: #434B5C;\n",
              "      box-shadow: 0px 1px 3px 1px rgba(0, 0, 0, 0.15);\n",
              "      filter: drop-shadow(0px 1px 2px rgba(0, 0, 0, 0.3));\n",
              "      fill: #FFFFFF;\n",
              "    }\n",
              "  </style>\n",
              "\n",
              "      <script>\n",
              "        const buttonEl =\n",
              "          document.querySelector('#df-3ceda3d9-cd17-4e43-9cbd-a25d3fdc7778 button.colab-df-convert');\n",
              "        buttonEl.style.display =\n",
              "          google.colab.kernel.accessAllowed ? 'block' : 'none';\n",
              "\n",
              "        async function convertToInteractive(key) {\n",
              "          const element = document.querySelector('#df-3ceda3d9-cd17-4e43-9cbd-a25d3fdc7778');\n",
              "          const dataTable =\n",
              "            await google.colab.kernel.invokeFunction('convertToInteractive',\n",
              "                                                     [key], {});\n",
              "          if (!dataTable) return;\n",
              "\n",
              "          const docLinkHtml = 'Like what you see? Visit the ' +\n",
              "            '<a target=\"_blank\" href=https://colab.research.google.com/notebooks/data_table.ipynb>data table notebook</a>'\n",
              "            + ' to learn more about interactive tables.';\n",
              "          element.innerHTML = '';\n",
              "          dataTable['output_type'] = 'display_data';\n",
              "          await google.colab.output.renderOutput(dataTable, element);\n",
              "          const docLink = document.createElement('div');\n",
              "          docLink.innerHTML = docLinkHtml;\n",
              "          element.appendChild(docLink);\n",
              "        }\n",
              "      </script>\n",
              "    </div>\n",
              "  </div>\n",
              "  "
            ]
          },
          "metadata": {},
          "execution_count": 27
        }
      ]
    },
    {
      "cell_type": "markdown",
      "source": [
        "**Implementação da classificação recursisva**\n",
        "\n",
        "> [Scikit-learn multilearn](http://scikit.ml/userguide.html)"
      ],
      "metadata": {
        "id": "N9R_93deHkBe"
      }
    },
    {
      "cell_type": "code",
      "source": [
        "!pip install scikit-multilearn==0.24.1"
      ],
      "metadata": {
        "colab": {
          "base_uri": "https://localhost:8080/"
        },
        "id": "giZqI3tiHxw1",
        "outputId": "cdbfc57c-6f58-4e8d-9d0d-3ad65a50f5ed"
      },
      "execution_count": 28,
      "outputs": [
        {
          "output_type": "stream",
          "name": "stdout",
          "text": [
            "Looking in indexes: https://pypi.org/simple, https://us-python.pkg.dev/colab-wheels/public/simple/\n",
            "\u001b[31mERROR: Could not find a version that satisfies the requirement scikit-multilearn==0.24.1 (from versions: 0.2.0.linux-x86_64, 0.0.1, 0.0.3, 0.0.4, 0.0.5, 0.1.0, 0.2.0)\u001b[0m\u001b[31m\n",
            "\u001b[0m\u001b[31mERROR: No matching distribution found for scikit-multilearn==0.24.1\u001b[0m\u001b[31m\n",
            "\u001b[0m"
          ]
        }
      ]
    },
    {
      "cell_type": "code",
      "source": [
        "from skmultilearn.problem_transform import ClassifierChain\n",
        "\n",
        "regressao_logistica = LogisticRegression()\n",
        "classificador_cadeia = ClassifierChain(regressao_logistica)\n",
        "classificador_cadeia.fit(X_train_tfidf, y_train_array)\n",
        "resultado_cadeia = classificador_cadeia.score(X_test_tfidf, y_test_array)\n",
        "\n",
        "previsao_cadeia = classificador_cadeia.predict(X_test_tfidf)\n",
        "hamming_loss_cadeia = hamming_loss(y_test_array, previsao_cadeia)\n",
        "\n",
        "print('==== CLASSIFICADOR EM CADEIA ====')\n",
        "print(f'Resultado acurácia: {resultado_cadeia:.2%}')\n",
        "print(f'Resultado hamming loss: {hamming_loss_cadeia:.2f}')"
      ],
      "metadata": {
        "colab": {
          "base_uri": "https://localhost:8080/"
        },
        "id": "gab-z9jlMlZ4",
        "outputId": "20f0bcb4-c3d8-4061-8a24-8aed7ed95d13"
      },
      "execution_count": 29,
      "outputs": [
        {
          "output_type": "stream",
          "name": "stdout",
          "text": [
            "==== CLASSIFICADOR EM CADEIA ====\n",
            "Resultado acurácia: 49.82%\n",
            "Resultado hamming loss: 0.21\n"
          ]
        }
      ]
    },
    {
      "cell_type": "code",
      "source": [
        "# Relevância Binária com o Skmultilearn\n",
        "from skmultilearn.problem_transform import BinaryRelevance\n",
        "\n",
        "regressao_logistica = LogisticRegression()\n",
        "classificador_bn = BinaryRelevance(regressao_logistica)\n",
        "classificador_bn.fit(X_train_tfidf, y_train_array)\n",
        "resultado_bn = classificador_bn.score(X_test_tfidf, y_test_array)\n",
        "\n",
        "previsao_bn = classificador_bn.predict(X_test_tfidf)\n",
        "hamming_loss_bn = hamming_loss(y_test_array, previsao_bn)\n",
        "\n",
        "print('==== CLASSIFICADOR EM RELEVANCIA BINARIA ====')\n",
        "print(f'Resultado acurácia: {resultado_bn:.2%}')\n",
        "print(f'Resultado hamming loss: {hamming_loss_bn:.2f}')"
      ],
      "metadata": {
        "colab": {
          "base_uri": "https://localhost:8080/"
        },
        "id": "kjhMPkxBWGWf",
        "outputId": "4264864e-447b-40a9-bb82-58f50615883f"
      },
      "execution_count": 30,
      "outputs": [
        {
          "output_type": "stream",
          "name": "stdout",
          "text": [
            "==== CLASSIFICADOR EM RELEVANCIA BINARIA ====\n",
            "Resultado acurácia: 41.68%\n",
            "Resultado hamming loss: 0.19\n"
          ]
        }
      ]
    },
    {
      "cell_type": "markdown",
      "source": [
        "**Comparação dos Modelos**\n",
        "\n",
        "A comparação dos modelos mostra que eles tiveram melhores performances em aspectos diferentes. A escolha do melhor modelo irá depender do contexto.\n",
        "\n",
        "A acurácia leva em consideração o acerto de todas as labels de um registro. Então ela é importante quando o problema exige maior acerto do conjunto em um mesmo registro.\n",
        "\n",
        "Já o hamming loss considera os acertos parciais. Então ele é mais importante quando as partes são mais importantes do que o acerto concentrado em um registro.\n",
        "\n",
        "Outra consideração é sobre os falsos positivos e os falsos negativos. Dependendo da aplicação, é interessante reduzir reduzir um dos tipos de erros, para reduzir o impacto negativo do pior erro para o problema. Logo, isso exige a compreensão do problema e do impacto dos erros."
      ],
      "metadata": {
        "id": "mUJi8jLZOzfd"
      }
    },
    {
      "cell_type": "markdown",
      "source": [
        "## <font color=orange><b>3.6 ML-KNN - Algorítmo Adaptado</b></font>\n",
        "\n",
        "> [Artigo original do algorítmo](https://cs.nju.edu.cn/zhouzh/zhouzh.files/publication/pr07.pdf)\n",
        "> [Referência do Scikit-Multi-Learning](http://scikit.ml/api/skmultilearn.html#module-skmultilearn.adapt)\n",
        "\n",
        "O [ML-KNN](http://scikit.ml/api/skmultilearn.adapt.mlknn.html#skmultilearn.adapt.MLkNN) é uma adaptação ao algorítmo de KNN, a qual realiza classificações binárias. A adptação, ao identificar os elementos mais próximos, considera a "
      ],
      "metadata": {
        "id": "kbfaLnGxYF9R"
      }
    },
    {
      "cell_type": "markdown",
      "source": [
        "**Implementação**"
      ],
      "metadata": {
        "id": "JUoiM4tglov3"
      }
    },
    {
      "cell_type": "code",
      "source": [
        "from skmultilearn.adapt import MLkNN\n",
        "\n",
        "classificador_mlknn = MLkNN(k=10)\n",
        "classificador_mlknn.fit(X_train_tfidf, y_train_array)\n",
        "\n",
        "resultado_mlknn = classificador_mlknn.score(X_test_tfidf, y_test_array)\n",
        "\n",
        "previsao_mlknn = classificador_mlknn.predict(X_test_tfidf)\n",
        "hamming_loss_mlknn = hamming_loss(y_test_array, previsao_mlknn)\n",
        "\n",
        "print('==== CLASSIFICADOR EM KNN MULTI-LABEL ====')\n",
        "print(f'Resultado acurácia: {resultado_mlknn:.2%}')\n",
        "print(f'Resultado hamming loss: {hamming_loss_mlknn:.2f}')"
      ],
      "metadata": {
        "colab": {
          "base_uri": "https://localhost:8080/"
        },
        "id": "9rlbLakGlqFv",
        "outputId": "51874b08-8e49-4a94-928d-6ce59fb99710"
      },
      "execution_count": 34,
      "outputs": [
        {
          "output_type": "stream",
          "name": "stderr",
          "text": [
            "/usr/local/lib/python3.8/dist-packages/sklearn/utils/validation.py:70: FutureWarning: Pass n_neighbors=10 as keyword args. From version 1.0 (renaming of 0.25) passing these as positional arguments will result in an error\n",
            "  warnings.warn(f\"Pass {args_msg} as keyword args. From version \"\n"
          ]
        },
        {
          "output_type": "stream",
          "name": "stdout",
          "text": [
            "==== CLASSIFICADOR EM KNN MULTI-LABEL ====\n",
            "Resultado acurácia: 32.53%\n",
            "Resultado hamming loss: 0.25\n"
          ]
        }
      ]
    },
    {
      "cell_type": "markdown",
      "source": [
        "### <font color=orange><b>Aplicação do GridSearch</b></font>\n"
      ],
      "metadata": {
        "id": "_HsKEvrL6vMX"
      }
    },
    {
      "cell_type": "code",
      "source": [
        "from skmultilearn.adapt import MLkNN\n",
        "from sklearn.model_selection import GridSearchCV\n",
        "\n",
        "# Configuração do GridSearch\n",
        "# parameters = {'k': range(1,3), 's': [0.5, 0.7, 1.0]}\n",
        "parameters = {'k': range(1,30,1)}\n",
        "score = 'accuracy'  # f1_macro\n",
        "\n",
        "clf_mlknn = GridSearchCV(MLkNN(), parameters, scoring=score, cv=2)\n",
        "clf_mlknn.fit(X_train_tfidf, y_train_array)"
      ],
      "metadata": {
        "id": "8tpjznAV7YQv"
      },
      "execution_count": null,
      "outputs": []
    },
    {
      "cell_type": "code",
      "source": [
        "print(clf_mlknn.best_params_, clf_mlknn.best_score_)"
      ],
      "metadata": {
        "colab": {
          "base_uri": "https://localhost:8080/"
        },
        "id": "ixInLGgSCUJ5",
        "outputId": "ff2b9865-0a1f-4b2f-e092-62f852aeeb80"
      },
      "execution_count": 88,
      "outputs": [
        {
          "output_type": "stream",
          "name": "stdout",
          "text": [
            "{'k': 20} 0.35760517799352753\n"
          ]
        }
      ]
    },
    {
      "cell_type": "code",
      "source": [
        "clf_mlknn.cv_results_"
      ],
      "metadata": {
        "colab": {
          "base_uri": "https://localhost:8080/"
        },
        "id": "knA92_z-81tK",
        "outputId": "8cf71e5d-6201-4fc0-b184-2099796661b3"
      },
      "execution_count": 90,
      "outputs": [
        {
          "output_type": "execute_result",
          "data": {
            "text/plain": [
              "{'mean_fit_time': array([0.76988935, 0.7771076 , 0.8270694 , 0.85328674, 0.92935848,\n",
              "        0.90326107, 0.91947174, 0.94511259, 0.99578643, 0.96923339,\n",
              "        0.98149335, 0.9959023 , 1.0647465 , 1.04515958, 1.04657638,\n",
              "        1.0786711 , 1.15035546, 1.14047301, 1.39518535, 2.41889489,\n",
              "        1.16502285, 1.16898477, 1.23994756, 1.19643092, 1.22444284,\n",
              "        1.230919  , 1.24396884, 1.28372002, 1.28942204]),\n",
              " 'std_fit_time': array([9.66596603e-03, 2.24196911e-03, 1.46230459e-02, 2.39849091e-04,\n",
              "        4.36847210e-02, 5.01549244e-03, 4.77051735e-03, 1.36028528e-02,\n",
              "        3.92234325e-02, 1.83881521e-02, 1.03207827e-02, 7.96079636e-04,\n",
              "        3.22195292e-02, 2.31266022e-04, 5.19859791e-03, 1.19351149e-02,\n",
              "        6.76740408e-02, 3.59605551e-02, 3.25552225e-02, 3.34055543e-01,\n",
              "        6.81757927e-03, 7.92741776e-05, 4.96768951e-02, 3.91650200e-03,\n",
              "        8.29994678e-03, 1.93822384e-03, 1.39605999e-03, 1.40781403e-02,\n",
              "        1.02794170e-02]),\n",
              " 'mean_score_time': array([1.42813826, 1.41842639, 1.42643905, 1.4457823 , 1.45568871,\n",
              "        1.42832243, 1.49302375, 1.47187448, 1.47843707, 1.45605445,\n",
              "        1.47692585, 1.48006713, 1.46861112, 1.50296676, 1.48844016,\n",
              "        1.49239886, 1.97344124, 1.56516623, 2.04133344, 2.03064227,\n",
              "        1.47814131, 1.507985  , 1.49359906, 1.51634061, 1.48906028,\n",
              "        1.52416372, 1.55097663, 1.52805531, 1.47546995]),\n",
              " 'std_score_time': array([3.28378677e-02, 3.87455225e-02, 5.73396683e-04, 3.81720066e-03,\n",
              "        2.88600922e-02, 2.15446949e-03, 1.86008215e-02, 1.91299915e-02,\n",
              "        1.24374628e-02, 1.18310452e-02, 1.01203918e-02, 5.36096096e-03,\n",
              "        1.90073252e-02, 1.58647299e-02, 2.92193890e-03, 1.24052763e-02,\n",
              "        4.48744893e-01, 8.11352730e-02, 2.76922226e-01, 2.23828077e-01,\n",
              "        3.17001343e-03, 4.04953957e-04, 5.79106808e-03, 4.38034534e-03,\n",
              "        1.22686625e-02, 1.84235573e-02, 5.40651083e-02, 3.95309925e-03,\n",
              "        2.90471315e-02]),\n",
              " 'param_k': masked_array(data=[1, 2, 3, 4, 5, 6, 7, 8, 9, 10, 11, 12, 13, 14, 15, 16,\n",
              "                    17, 18, 19, 20, 21, 22, 23, 24, 25, 26, 27, 28, 29],\n",
              "              mask=[False, False, False, False, False, False, False, False,\n",
              "                    False, False, False, False, False, False, False, False,\n",
              "                    False, False, False, False, False, False, False, False,\n",
              "                    False, False, False, False, False],\n",
              "        fill_value='?',\n",
              "             dtype=object),\n",
              " 'params': [{'k': 1},\n",
              "  {'k': 2},\n",
              "  {'k': 3},\n",
              "  {'k': 4},\n",
              "  {'k': 5},\n",
              "  {'k': 6},\n",
              "  {'k': 7},\n",
              "  {'k': 8},\n",
              "  {'k': 9},\n",
              "  {'k': 10},\n",
              "  {'k': 11},\n",
              "  {'k': 12},\n",
              "  {'k': 13},\n",
              "  {'k': 14},\n",
              "  {'k': 15},\n",
              "  {'k': 16},\n",
              "  {'k': 17},\n",
              "  {'k': 18},\n",
              "  {'k': 19},\n",
              "  {'k': 20},\n",
              "  {'k': 21},\n",
              "  {'k': 22},\n",
              "  {'k': 23},\n",
              "  {'k': 24},\n",
              "  {'k': 25},\n",
              "  {'k': 26},\n",
              "  {'k': 27},\n",
              "  {'k': 28},\n",
              "  {'k': 29}],\n",
              " 'split0_test_score': array([0.35506241, 0.28941285, 0.33656958, 0.33980583, 0.35552473,\n",
              "        0.33055941, 0.35228849, 0.35136385, 0.36893204, 0.35829866,\n",
              "        0.35090153, 0.34951456, 0.36014794, 0.35413777, 0.35321313,\n",
              "        0.36662043, 0.36477115, 0.36245955, 0.35968562, 0.36708276,\n",
              "        0.36245955, 0.36061026, 0.35460009, 0.36061026, 0.37078132,\n",
              "        0.35460009, 0.36615811, 0.36338419, 0.37263061]),\n",
              " 'split1_test_score': array([0.34627832, 0.28247804, 0.33888118, 0.30420712, 0.33841886,\n",
              "        0.3347203 , 0.34766528, 0.33610726, 0.34304207, 0.34211743,\n",
              "        0.32501156, 0.33564494, 0.32917245, 0.33425798, 0.31900139,\n",
              "        0.33333333, 0.33009709, 0.34119279, 0.3347203 , 0.3481276 ,\n",
              "        0.34720296, 0.34257975, 0.345816  , 0.345816  , 0.3393435 ,\n",
              "        0.34396671, 0.34396671, 0.35182617, 0.32963477]),\n",
              " 'mean_test_score': array([0.35067037, 0.28594545, 0.33772538, 0.32200647, 0.3469718 ,\n",
              "        0.33263985, 0.34997688, 0.34373555, 0.35598706, 0.35020804,\n",
              "        0.33795654, 0.34257975, 0.34466019, 0.34419787, 0.33610726,\n",
              "        0.34997688, 0.34743412, 0.35182617, 0.34720296, 0.35760518,\n",
              "        0.35483125, 0.35159501, 0.35020804, 0.35321313, 0.35506241,\n",
              "        0.3492834 , 0.35506241, 0.35760518, 0.35113269]),\n",
              " 'std_test_score': array([0.00439205, 0.00346741, 0.0011558 , 0.01779935, 0.00855294,\n",
              "        0.00208044, 0.0023116 , 0.00762829, 0.01294498, 0.00809061,\n",
              "        0.01294498, 0.00693481, 0.01548775, 0.0099399 , 0.01710587,\n",
              "        0.01664355, 0.01733703, 0.01063338, 0.01248266, 0.00947758,\n",
              "        0.00762829, 0.00901526, 0.00439205, 0.00739713, 0.01571891,\n",
              "        0.00531669, 0.0110957 , 0.00577901, 0.02149792]),\n",
              " 'rank_test_score': array([11, 29, 25, 28, 19, 27, 14, 22,  3, 12, 24, 23, 20, 21, 26, 14, 17,\n",
              "         8, 18,  1,  6,  9, 13,  7,  4, 16,  4,  1, 10], dtype=int32)}"
            ]
          },
          "metadata": {},
          "execution_count": 90
        }
      ]
    },
    {
      "cell_type": "code",
      "source": [
        "import seaborn as sns\n",
        "import matplotlib.pyplot as plt\n",
        "\n",
        "sns.set()\n",
        "plt.figure(figsize=(10,5))\n",
        "sns.lineplot(\n",
        "    x = [i['k'] for i in clf_mlknn.cv_results_['params']],\n",
        "    y = clf_mlknn.cv_results_['mean_test_score'])\n",
        "plt.xticks([i['k'] for i in clf_mlknn.cv_results_['params']]);"
      ],
      "metadata": {
        "colab": {
          "base_uri": "https://localhost:8080/",
          "height": 322
        },
        "id": "F2hcxWG79XkU",
        "outputId": "f9051f53-28c5-48fe-ffe5-657802b49e26"
      },
      "execution_count": 91,
      "outputs": [
        {
          "output_type": "display_data",
          "data": {
            "text/plain": [
              "<Figure size 720x360 with 1 Axes>"
            ],
            "image/png": "[encoded data removed]"
          },
          "metadata": {}
        }
      ]
    },
    {
      "cell_type": "markdown",
      "source": [
        "# <font color=orange><b>4. Avaliação dos Resultados</b></font>\n"
      ],
      "metadata": {
        "id": "m9AcjePbpfTT"
      }
    },
    {
      "cell_type": "markdown",
      "source": [
        "Comparação dos resultados dos modelos"
      ],
      "metadata": {
        "id": "eAPr66PapABF"
      }
    },
    {
      "cell_type": "code",
      "source": [
        "resultados_classificacao = pd.DataFrame()\n",
        "\n",
        "resultados_classificacao['perguntas'] = X_test.values\n",
        "resultados_classificacao['tags real'] = list(y_test)\n",
        "resultados_classificacao['RB'] = list(previsao_onevsrest)\n",
        "resultados_classificacao['Cadeia'] = list(previsao_cadeia.toarray())\n",
        "resultados_classificacao['MLKNN'] = list(previsao_mlknn.toarray())\n",
        "resultados_classificacao"
      ],
      "metadata": {
        "colab": {
          "base_uri": "https://localhost:8080/",
          "height": 424
        },
        "id": "zLdhW9hO2pJL",
        "outputId": "845aa569-141f-4333-d160-15fafcfd3885"
      },
      "execution_count": 70,
      "outputs": [
        {
          "output_type": "execute_result",
          "data": {
            "text/plain": [
              "                                              perguntas     tags real  \\\n",
              "0     estou com conflito entre o  CODE   e os  CODE ...  (0, 1, 0, 0)   \n",
              "1     Estou fazendo um site que eu sou obrigado a us...  (0, 0, 1, 0)   \n",
              "2     Recentemente fiz um refactor do meu código par...  (1, 0, 0, 0)   \n",
              "3     Eu tenho esse código em CODE  que passo valore...  (0, 1, 1, 0)   \n",
              "4     Olá, em minha função tem o evento CODE  que de...  (0, 1, 1, 0)   \n",
              "...                                                 ...           ...   \n",
              "1077  Estou a desenvolver um website em jQuery. E at...  (0, 1, 0, 0)   \n",
              "1078  Estou usando este plugin - jquery autocomplete...  (0, 1, 0, 0)   \n",
              "1079  Tenho o seguinte jQuery:  CODE   Nisto, quanti...  (0, 1, 0, 0)   \n",
              "1080  Estou usando o SimpleModal Contact Form de Eri...  (0, 1, 0, 0)   \n",
              "1081  Estou tento problemas com o webpack, gostaria ...  (0, 0, 0, 1)   \n",
              "\n",
              "                RB                Cadeia         MLKNN  \n",
              "0     [0, 1, 0, 0]  [0.0, 1.0, 0.0, 0.0]  [0, 0, 0, 0]  \n",
              "1     [0, 0, 1, 0]  [0.0, 0.0, 1.0, 0.0]  [0, 1, 1, 0]  \n",
              "2     [1, 0, 0, 0]  [1.0, 0.0, 0.0, 0.0]  [1, 0, 0, 0]  \n",
              "3     [0, 1, 0, 0]  [0.0, 1.0, 0.0, 0.0]  [0, 1, 1, 0]  \n",
              "4     [0, 1, 0, 0]  [0.0, 1.0, 0.0, 0.0]  [0, 1, 1, 0]  \n",
              "...            ...                   ...           ...  \n",
              "1077  [0, 1, 1, 0]  [0.0, 1.0, 1.0, 0.0]  [0, 0, 1, 0]  \n",
              "1078  [0, 1, 0, 0]  [0.0, 1.0, 0.0, 0.0]  [0, 1, 0, 0]  \n",
              "1079  [0, 1, 0, 0]  [0.0, 1.0, 0.0, 0.0]  [0, 1, 0, 0]  \n",
              "1080  [0, 1, 0, 0]  [0.0, 1.0, 0.0, 0.0]  [0, 1, 0, 0]  \n",
              "1081  [0, 0, 0, 0]  [0.0, 0.0, 1.0, 0.0]  [0, 0, 1, 0]  \n",
              "\n",
              "[1082 rows x 5 columns]"
            ],
            "text/html": [
              "\n",
              "  <div id=\"df-e7b2d711-9b88-4f27-b632-8143038897e7\">\n",
              "    <div class=\"colab-df-container\">\n",
              "      <div>\n",
              "<style scoped>\n",
              "    .dataframe tbody tr th:only-of-type {\n",
              "        vertical-align: middle;\n",
              "    }\n",
              "\n",
              "    .dataframe tbody tr th {\n",
              "        vertical-align: top;\n",
              "    }\n",
              "\n",
              "    .dataframe thead th {\n",
              "        text-align: right;\n",
              "    }\n",
              "</style>\n",
              "<table border=\"1\" class=\"dataframe\">\n",
              "  <thead>\n",
              "    <tr style=\"text-align: right;\">\n",
              "      <th></th>\n",
              "      <th>perguntas</th>\n",
              "      <th>tags real</th>\n",
              "      <th>RB</th>\n",
              "      <th>Cadeia</th>\n",
              "      <th>MLKNN</th>\n",
              "    </tr>\n",
              "  </thead>\n",
              "  <tbody>\n",
              "    <tr>\n",
              "      <th>0</th>\n",
              "      <td>estou com conflito entre o  CODE   e os  CODE ...</td>\n",
              "      <td>(0, 1, 0, 0)</td>\n",
              "      <td>[0, 1, 0, 0]</td>\n",
              "      <td>[0.0, 1.0, 0.0, 0.0]</td>\n",
              "      <td>[0, 0, 0, 0]</td>\n",
              "    </tr>\n",
              "    <tr>\n",
              "      <th>1</th>\n",
              "      <td>Estou fazendo um site que eu sou obrigado a us...</td>\n",
              "      <td>(0, 0, 1, 0)</td>\n",
              "      <td>[0, 0, 1, 0]</td>\n",
              "      <td>[0.0, 0.0, 1.0, 0.0]</td>\n",
              "      <td>[0, 1, 1, 0]</td>\n",
              "    </tr>\n",
              "    <tr>\n",
              "      <th>2</th>\n",
              "      <td>Recentemente fiz um refactor do meu código par...</td>\n",
              "      <td>(1, 0, 0, 0)</td>\n",
              "      <td>[1, 0, 0, 0]</td>\n",
              "      <td>[1.0, 0.0, 0.0, 0.0]</td>\n",
              "      <td>[1, 0, 0, 0]</td>\n",
              "    </tr>\n",
              "    <tr>\n",
              "      <th>3</th>\n",
              "      <td>Eu tenho esse código em CODE  que passo valore...</td>\n",
              "      <td>(0, 1, 1, 0)</td>\n",
              "      <td>[0, 1, 0, 0]</td>\n",
              "      <td>[0.0, 1.0, 0.0, 0.0]</td>\n",
              "      <td>[0, 1, 1, 0]</td>\n",
              "    </tr>\n",
              "    <tr>\n",
              "      <th>4</th>\n",
              "      <td>Olá, em minha função tem o evento CODE  que de...</td>\n",
              "      <td>(0, 1, 1, 0)</td>\n",
              "      <td>[0, 1, 0, 0]</td>\n",
              "      <td>[0.0, 1.0, 0.0, 0.0]</td>\n",
              "      <td>[0, 1, 1, 0]</td>\n",
              "    </tr>\n",
              "    <tr>\n",
              "      <th>...</th>\n",
              "      <td>...</td>\n",
              "      <td>...</td>\n",
              "      <td>...</td>\n",
              "      <td>...</td>\n",
              "      <td>...</td>\n",
              "    </tr>\n",
              "    <tr>\n",
              "      <th>1077</th>\n",
              "      <td>Estou a desenvolver um website em jQuery. E at...</td>\n",
              "      <td>(0, 1, 0, 0)</td>\n",
              "      <td>[0, 1, 1, 0]</td>\n",
              "      <td>[0.0, 1.0, 1.0, 0.0]</td>\n",
              "      <td>[0, 0, 1, 0]</td>\n",
              "    </tr>\n",
              "    <tr>\n",
              "      <th>1078</th>\n",
              "      <td>Estou usando este plugin - jquery autocomplete...</td>\n",
              "      <td>(0, 1, 0, 0)</td>\n",
              "      <td>[0, 1, 0, 0]</td>\n",
              "      <td>[0.0, 1.0, 0.0, 0.0]</td>\n",
              "      <td>[0, 1, 0, 0]</td>\n",
              "    </tr>\n",
              "    <tr>\n",
              "      <th>1079</th>\n",
              "      <td>Tenho o seguinte jQuery:  CODE   Nisto, quanti...</td>\n",
              "      <td>(0, 1, 0, 0)</td>\n",
              "      <td>[0, 1, 0, 0]</td>\n",
              "      <td>[0.0, 1.0, 0.0, 0.0]</td>\n",
              "      <td>[0, 1, 0, 0]</td>\n",
              "    </tr>\n",
              "    <tr>\n",
              "      <th>1080</th>\n",
              "      <td>Estou usando o SimpleModal Contact Form de Eri...</td>\n",
              "      <td>(0, 1, 0, 0)</td>\n",
              "      <td>[0, 1, 0, 0]</td>\n",
              "      <td>[0.0, 1.0, 0.0, 0.0]</td>\n",
              "      <td>[0, 1, 0, 0]</td>\n",
              "    </tr>\n",
              "    <tr>\n",
              "      <th>1081</th>\n",
              "      <td>Estou tento problemas com o webpack, gostaria ...</td>\n",
              "      <td>(0, 0, 0, 1)</td>\n",
              "      <td>[0, 0, 0, 0]</td>\n",
              "      <td>[0.0, 0.0, 1.0, 0.0]</td>\n",
              "      <td>[0, 0, 1, 0]</td>\n",
              "    </tr>\n",
              "  </tbody>\n",
              "</table>\n",
              "<p>1082 rows × 5 columns</p>\n",
              "</div>\n",
              "      <button class=\"colab-df-convert\" onclick=\"convertToInteractive('df-e7b2d711-9b88-4f27-b632-8143038897e7')\"\n",
              "              title=\"Convert this dataframe to an interactive table.\"\n",
              "              style=\"display:none;\">\n",
              "        \n",
              "  <svg xmlns=\"http://www.w3.org/2000/svg\" height=\"24px\"viewBox=\"0 0 24 24\"\n",
              "       width=\"24px\">\n",
              "    <path d=\"M0 0h24v24H0V0z\" fill=\"none\"/>\n",
              "    <path d=\"M18.56 5.44l.94 2.06.94-2.06 2.06-.94-2.06-.94-.94-2.06-.94 2.06-2.06.94zm-11 1L8.5 8.5l.94-2.06 2.06-.94-2.06-.94L8.5 2.5l-.94 2.06-2.06.94zm10 10l.94 2.06.94-2.06 2.06-.94-2.06-.94-.94-2.06-.94 2.06-2.06.94z\"/><path d=\"M17.41 7.96l-1.37-1.37c-.4-.4-.92-.59-1.43-.59-.52 0-1.04.2-1.43.59L10.3 9.45l-7.72 7.72c-.78.78-.78 2.05 0 2.83L4 21.41c.39.39.9.59 1.41.59.51 0 1.02-.2 1.41-.59l7.78-7.78 2.81-2.81c.8-.78.8-2.07 0-2.86zM5.41 20L4 18.59l7.72-7.72 1.47 1.35L5.41 20z\"/>\n",
              "  </svg>\n",
              "      </button>\n",
              "      \n",
              "  <style>\n",
              "    .colab-df-container {\n",
              "      display:flex;\n",
              "      flex-wrap:wrap;\n",
              "      gap: 12px;\n",
              "    }\n",
              "\n",
              "    .colab-df-convert {\n",
              "      background-color: #E8F0FE;\n",
              "      border: none;\n",
              "      border-radius: 50%;\n",
              "      cursor: pointer;\n",
              "      display: none;\n",
              "      fill: #1967D2;\n",
              "      height: 32px;\n",
              "      padding: 0 0 0 0;\n",
              "      width: 32px;\n",
              "    }\n",
              "\n",
              "    .colab-df-convert:hover {\n",
              "      background-color: #E2EBFA;\n",
              "      box-shadow: 0px 1px 2px rgba(60, 64, 67, 0.3), 0px 1px 3px 1px rgba(60, 64, 67, 0.15);\n",
              "      fill: #174EA6;\n",
              "    }\n",
              "\n",
              "    [theme=dark] .colab-df-convert {\n",
              "      background-color: #3B4455;\n",
              "      fill: #D2E3FC;\n",
              "    }\n",
              "\n",
              "    [theme=dark] .colab-df-convert:hover {\n",
              "      background-color: #434B5C;\n",
              "      box-shadow: 0px 1px 3px 1px rgba(0, 0, 0, 0.15);\n",
              "      filter: drop-shadow(0px 1px 2px rgba(0, 0, 0, 0.3));\n",
              "      fill: #FFFFFF;\n",
              "    }\n",
              "  </style>\n",
              "\n",
              "      <script>\n",
              "        const buttonEl =\n",
              "          document.querySelector('#df-e7b2d711-9b88-4f27-b632-8143038897e7 button.colab-df-convert');\n",
              "        buttonEl.style.display =\n",
              "          google.colab.kernel.accessAllowed ? 'block' : 'none';\n",
              "\n",
              "        async function convertToInteractive(key) {\n",
              "          const element = document.querySelector('#df-e7b2d711-9b88-4f27-b632-8143038897e7');\n",
              "          const dataTable =\n",
              "            await google.colab.kernel.invokeFunction('convertToInteractive',\n",
              "                                                     [key], {});\n",
              "          if (!dataTable) return;\n",
              "\n",
              "          const docLinkHtml = 'Like what you see? Visit the ' +\n",
              "            '<a target=\"_blank\" href=https://colab.research.google.com/notebooks/data_table.ipynb>data table notebook</a>'\n",
              "            + ' to learn more about interactive tables.';\n",
              "          element.innerHTML = '';\n",
              "          dataTable['output_type'] = 'display_data';\n",
              "          await google.colab.output.renderOutput(dataTable, element);\n",
              "          const docLink = document.createElement('div');\n",
              "          docLink.innerHTML = docLinkHtml;\n",
              "          element.appendChild(docLink);\n",
              "        }\n",
              "      </script>\n",
              "    </div>\n",
              "  </div>\n",
              "  "
            ]
          },
          "metadata": {},
          "execution_count": 70
        }
      ]
    },
    {
      "cell_type": "code",
      "source": [
        "resultados_classificacao.loc[2]"
      ],
      "metadata": {
        "colab": {
          "base_uri": "https://localhost:8080/"
        },
        "id": "f-QTKkC24gaR",
        "outputId": "4500440b-203b-4ecf-ef55-6b1e861d6540"
      },
      "execution_count": 71,
      "outputs": [
        {
          "output_type": "execute_result",
          "data": {
            "text/plain": [
              "perguntas    Recentemente fiz um refactor do meu código par...\n",
              "tags real                                         (1, 0, 0, 0)\n",
              "RB                                                [1, 0, 0, 0]\n",
              "Cadeia                                    [1.0, 0.0, 0.0, 0.0]\n",
              "MLKNN                                             [1, 0, 0, 0]\n",
              "Name: 2, dtype: object"
            ]
          },
          "metadata": {},
          "execution_count": 71
        }
      ]
    },
    {
      "cell_type": "code",
      "source": [
        "resultados_classificacao.loc[2, 'perguntas']"
      ],
      "metadata": {
        "colab": {
          "base_uri": "https://localhost:8080/",
          "height": 122
        },
        "id": "k6fcMviF6Lwm",
        "outputId": "d110114b-41ce-4f20-9051-d0cbfac3a7a7"
      },
      "execution_count": 73,
      "outputs": [
        {
          "output_type": "execute_result",
          "data": {
            "text/plain": [
              "'Recentemente fiz um refactor do meu código para adotar o padrão MVC, pois o mesmo estava muito desorganizado!  Entretanto, começou a aparecer um erro chamado \"Too many connections\". Esse erro faz com que o meu node-mysql cai e não realize mais requisições até que eu restart o node.  Link do código: https://github.com/LeonardoVini/node-refctoring/blob/master/refctoring-backend.zip  Não sei o ES6 esteja causando isso ou eu tenha feito algo de errado. Eu tentei diversas vezes arrumar este erro.  Erro que aparece:   Código de conexão:  CODE   server.js:  CODE   Arquivo de rotas:  CODE   Arquivo de controller:  CODE   Arquivo model:  CODE  '"
            ],
            "application/vnd.google.colaboratory.intrinsic+json": {
              "type": "string"
            }
          },
          "metadata": {},
          "execution_count": 73
        }
      ]
    }
  ]
}