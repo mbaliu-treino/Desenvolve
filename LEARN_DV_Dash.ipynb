{
  "nbformat": 4,
  "nbformat_minor": 0,
  "metadata": {
    "colab": {
      "provenance": [],
      "collapsed_sections": [],
      "toc_visible": true,
      "authorship_tag": "ABX9TyNbyDIX8N1x43rVWu1Fj1e4",
      "include_colab_link": true
    },
    "kernelspec": {
      "name": "python3",
      "display_name": "Python 3"
    },
    "language_info": {
      "name": "python"
    }
  },
  "cells": [
    {
      "cell_type": "markdown",
      "metadata": {
        "id": "view-in-github",
        "colab_type": "text"
      },
      "source": [
        "<a href=\"https://colab.research.google.com/github/mbaliu-treino/Desenvolve/blob/main/LEARN_DV_Dash.ipynb\" target=\"_parent\"><img src=\"https://colab.research.google.com/assets/colab-badge.svg\" alt=\"Open In Colab\"/></a>"
      ]
    },
    {
      "cell_type": "markdown",
      "source": [
        "# DASH"
      ],
      "metadata": {
        "id": "o-BxY7t5A0TG"
      }
    },
    {
      "cell_type": "markdown",
      "source": [
        "CURSO: https://www.linkedin.com/learning/data-visualization-in-python-with-dash"
      ],
      "metadata": {
        "id": "n2PxbuyPfS7o"
      }
    },
    {
      "cell_type": "markdown",
      "source": [
        "<a href=\"https://colab.research.google.com/drive/1LNk1DPeEjtRA9lOvib03NXeii5u_RMOw\"><font color=gray size=2>Notebook</font></a>"
      ],
      "metadata": {
        "id": "lGL5SGo6JYyu"
      }
    },
    {
      "cell_type": "markdown",
      "source": [
        "O Dash é um framework para visualização de dados, baseado em Flask, React e Plotly.\n",
        "\n",
        "Assim o Flask proporciona a **funcionalidade web-browser**; O React.js proporciona a interface de usuário (UI) e a interatividade; já o Plotly proporciona a geração de gráficos."
      ],
      "metadata": {
        "id": "fML8IjZWPYPw"
      }
    },
    {
      "cell_type": "markdown",
      "source": [
        "No repositório do [Dash](https://dash.gallery/Portal/) existem diversos exemplos de aplicação para o Dash na visualziação de dado."
      ],
      "metadata": {
        "id": "ndiVBZ_xPYPx"
      }
    },
    {
      "cell_type": "markdown",
      "source": [
        "## <font color=orange>Ambiente</font>\n",
        "\n",
        "Para a construção do ambiente será usado um **ambiente virtual** para garantir o isolamento dos complementos usados neste projeto.\n",
        "\n",
        "<h3><b>1. PASTA DO PROJETO</b></h3>\n",
        "\n",
        "O primeiro passa foi criar uma pasta para o projeto. \n",
        "\n",
        "<h3><b>2. AMBIENTE VIRTUAL</b></h3>\n",
        "\n",
        "Com a pasta do projeto criada podemos criar um ambiente virtual para que possamos fazer experimentações com complementos sem afetar os complementos locais ou que estes afetem o funcionamento do projeto. \n",
        "\n",
        "```cmd\n",
        ":: Criação do ambiente .venv\n",
        "python -m venv .venv\n",
        ".venv\\Scripts\\activate\n",
        "\n",
        "pip install pandas\n",
        "pip install dash\n",
        "pip install gunicorn\n",
        "```\n",
        "\n",
        "<h3><b>3. REPOSITÓRIO REMOTO</b></h3>\n",
        "\n",
        "Outra operação que podemos fazer para testar os arquivos do curso é beixá-los do repositório do GitHub. Nele temos diversas branches que se referem aos arquivos usados nas aulas. Podemos usá-la para conferir os trabalhos realizados.\n",
        "\n",
        "Primeiro iremos copiar os arquivos do repositório remoto para o local. Depois iremos mudar para uma branch remota (o git irá baixar a branch a transformalá-la em local).\n",
        "\n",
        "```cmd\n",
        "git clone \"https://github.com/LinkedInLearning/data-vis-python-dash-3009706.git\"\n",
        "\n",
        "git checkout --track origin/02_01\n",
        "```\n",
        "\n",
        "> Todos esses códigos podemos executar dentro do VS Code. Ele também permite acessar aos repositórios remotos de forma visual (UI). Além disso ele permite alterar de ambiente pelo comando interno.\n",
        "\n",
        "Para testar se a configuração deu certo, podemos testar o arquivo PY já disponibilizado.\n",
        "\n",
        "```cmd\n",
        "python data-vis-python-dash-3009706\\02_01\\hello_world_dash.py\n",
        "```"
      ],
      "metadata": {
        "id": "1pSUnVSlBluy"
      }
    },
    {
      "cell_type": "markdown",
      "source": [
        "## Hello World Dash\n",
        "\n",
        "Como de costume na programação iremos começar criando um arquivo Hello World para conhecer o Dash. Criaremos um arquivo PY com o código a seguir e depois iremos executar no CMD.\n",
        "\n",
        "```python\n",
        "import dash\n",
        "from dash import html\n",
        "\n",
        "# Dash application\n",
        "app = dash.Dash(__name__)\n",
        "\n",
        "# Layout describes how the application looks like\n",
        "app.layout = html.P('Hello World sir Marcelo!')\n",
        "\n",
        "if __name__ == \"__main__\":\n",
        "    app.run_server(debug=True)\n",
        "```"
      ],
      "metadata": {
        "id": "Cl6_E5qtGvOU"
      }
    },
    {
      "cell_type": "markdown",
      "source": [
        "A opção `app.run_server(debug=True)` faz com que o terminal se torne um servidor, fornecendo um URL de acesso que permite visualizar a aplicação em um Browser Web. A opção `debug=True` faz com que ao alterarmos o arquivo e o salvar-lo, a página web será alterada automaticamente."
      ],
      "metadata": {
        "id": "RKfmoR6wJefl"
      }
    },
    {
      "cell_type": "markdown",
      "source": [
        "## Adicionando componetes HTML e Plotly\n",
        "\n",
        "O próximo item para aprender é como usar os componentes HTML par ajudar no layout e como adicionar um g´rafico interativo do Plotly no layout.\n",
        "\n",
        "```python\n",
        "import dash\n",
        "from dash import html\n",
        "from dash import dcc\n",
        "import plotly.express as px\n",
        "import pandas as pd\n",
        "\n",
        "# Read data\n",
        "uri_data = r'data-vis-python-dash-3009706\\02_03\\precious_metals_prices_2018_2021.csv'\n",
        "data = pd.read_csv(uri_data, usecols=['DateTime', 'Gold'])\n",
        "\n",
        "# Create the figure - it will be usued in the dcc.Graph\n",
        "fig = px.line(data, x='DateTime', y='Gold', title='Preço do Metal Precioso 2018-2021')\n",
        "\n",
        "# Dash application\n",
        "app = dash.Dash(__name__)\n",
        "app.title = 'Preço do Metal Precioso 2018-2021'\n",
        "\n",
        "# Layout describes how the application looks like\n",
        "app.layout = html.Div(\n",
        "    id='app-container',  # id da tag HTML\n",
        "    children=[  # itens dentro do componente\n",
        "        html.H1('Preço do Metal Precioso 2018-2021'),\n",
        "        html.P('Resultados em USD/oz'),\n",
        "        dcc.Graph(figure=fig)\n",
        "    ]\n",
        ")\n",
        "\n",
        "if __name__ == \"__main__\":\n",
        "    app.run_server(debug=True)\n",
        "```"
      ],
      "metadata": {
        "id": "U-qARi0WON6H"
      }
    },
    {
      "cell_type": "markdown",
      "source": [
        "## <font color=orange>Aparência do Plotly Express</font>\n",
        "\n",
        "A aparência dos gráficos do Plotly podem ser alteradas usando **Templates**. Outras alterações podem ser feitas usando o mesmo método `update_layout`.\n",
        "\n",
        "```python\n",
        "fig.update_layout(\n",
        "    template='plotly_dark',   # plotly_dark, seaborn, ggplot2 - import plotly.io as pio; print(pio.templates)\n",
        "    xaxis_title='Data',\n",
        "    yaxis_title='Preço (UDS/oz)',\n",
        "    font=dict(\n",
        "        family='Verdana, Sans-serif',\n",
        "        size=12,\n",
        "        color='white'\n",
        "    )\n",
        ")\n",
        "```"
      ],
      "metadata": {
        "id": "Tedarwg0QKMA"
      }
    },
    {
      "cell_type": "markdown",
      "source": [
        "```python\n",
        "# ARQUIVO app.py\n",
        "import dash\n",
        "from dash import html\n",
        "from dash import dcc\n",
        "import plotly.express as px\n",
        "import pandas as pd\n",
        "\n",
        "# Read data\n",
        "uri_data = r'data-vis-python-dash-3009706\\02_03\\precious_metals_prices_2018_2021.csv'\n",
        "data = pd.read_csv(uri_data, usecols=['DateTime', 'Gold'])\n",
        "\n",
        "# Create the figure - it will be usued in the dcc.Graph\n",
        "fig = px.line(\n",
        "    data, x='DateTime', y=['Gold'], \n",
        "    title='Preço do Metal Precioso 2018-2021', \n",
        "    color_discrete_map={'Gold': 'gold'})\n",
        "\n",
        "fig.update_layout(\n",
        "    template='plotly_dark',   # plotly_dark, seaborn, ggplot2 - import plotly.io as pio; print(pio.templates)\n",
        "    xaxis_title='Data',\n",
        "    yaxis_title='Preço (UDS/oz)',\n",
        "    font=dict(\n",
        "        family='Verdana, Sans-serif',\n",
        "        size=12,\n",
        "        color='white'\n",
        "    )\n",
        ")\n",
        "\n",
        "# Dash application\n",
        "app = dash.Dash(__name__)\n",
        "app.title = 'Preço do Metal Precioso 2018-2021'\n",
        "\n",
        "# Layout describes how the application looks like\n",
        "app.layout = html.Div(\n",
        "    id='app-container',  # id da tag HTML\n",
        "    children=[  # itens dentro do componente\n",
        "        html.H1('Preço do Metal Precioso 2018-2021'),\n",
        "        html.P('Resultados em USD/oz'),\n",
        "        dcc.Graph(figure=fig)\n",
        "    ]\n",
        ")\n",
        "\n",
        "if __name__ == \"__main__\":\n",
        "    app.run_server(debug=True)\n",
        "```"
      ],
      "metadata": {
        "id": "KccOZn8eTXSg"
      }
    },
    {
      "cell_type": "markdown",
      "source": [
        "## Argumentos de Estilo para CSS\n",
        "\n",
        "Para melhorar a qualidade gráfica do dashboard podemos usar: \n",
        "\n",
        "* Argumento de estilo de CSS\n",
        "* Arquivo CSS"
      ],
      "metadata": {
        "id": "bSbqlgMRTnQm"
      }
    },
    {
      "cell_type": "markdown",
      "source": [
        "Para alterar o estilo do Layout com argumento CSS no HTML podemos usar parâmetro `style`. É como se fosse a configuração in-line do CSS.\n",
        "\n",
        "```python\n",
        "style={\"backgroundColor\": \"rgb(17, 17, 17)\"}\n",
        "...\n",
        "style={\"color\": 'gold', \"fontFamily\": 'Verdana, Sans-serif'}\n",
        "```"
      ],
      "metadata": {
        "id": "RFVqY3ljXdGC"
      }
    },
    {
      "cell_type": "markdown",
      "source": [
        "```python\n",
        "# ARQUIVO app.py\n",
        "import dash\n",
        "from dash import dcc\n",
        "from dash import html\n",
        "import plotly.express as px\n",
        "import pandas as pd\n",
        "\n",
        "# Read data\n",
        "uri_data = r'data-vis-python-dash-3009706\\02_03\\precious_metals_prices_2018_2021.csv'\n",
        "data = pd.read_csv(uri_data, usecols=['DateTime', 'Gold'])\n",
        "\n",
        "# Create the figure - it will be usued in the dcc.Graph\n",
        "fig = px.line(\n",
        "    data, x='DateTime', y=['Gold'], \n",
        "    title='Preço do Metal Precioso 2018-2021', \n",
        "    color_discrete_map={'Gold': 'gold'})\n",
        "\n",
        "fig.update_layout(\n",
        "    template='plotly_dark',   # plotly_dark, seaborn, ggplot2 - import plotly.io as pio; print(pio.templates)\n",
        "    xaxis_title='Data',\n",
        "    yaxis_title='Preço (UDS/oz)',\n",
        "    font=dict(\n",
        "        family='Verdana, Sans-serif',\n",
        "        size=12,\n",
        "        color='white'\n",
        "    )\n",
        ")\n",
        "\n",
        "app = dash.Dash(__name__)\n",
        "app.title = \"Precious Metal Prices 2018-2021\"\n",
        "\n",
        "app.layout = html.Div(\n",
        "    id=\"app-container\",\n",
        "    style={\"backgroundColor\": \"rgb(17, 17, 17)\"},\n",
        "    children=[\n",
        "        html.Div(\n",
        "            id=\"header-area\",\n",
        "            style={\"backgroundColor\": \"rgb(17, 17, 17)\"},\n",
        "            children=[\n",
        "                html.H1(\n",
        "                    id=\"header-title\",\n",
        "                    style={\"color\": 'gold', \"fontFamily\": 'Verdana, Sans-serif'},\n",
        "                    children=\"Preço dos Metais Preciosos\",\n",
        "\n",
        "                ),\n",
        "                html.P(\n",
        "                    id=\"header-description\",\n",
        "                    style={\"color\": 'white', \"fontFamily\": 'Verdana, Sans-serif'},\n",
        "                    children=(\"Preço do Metal Precioso\", html.Br(), \"entre 2018 e 2021\"),\n",
        "                ),\n",
        "            ],\n",
        "        ),\n",
        "        html.Div(\n",
        "            id=\"graph-container\",\n",
        "            children=dcc.Graph(\n",
        "                id=\"price-chart\",\n",
        "                figure=fig,\n",
        "                config={\"displayModeBar\": False}\n",
        "            ),\n",
        "        ),\n",
        "    ]\n",
        ")\n",
        "\n",
        "if __name__ == \"__main__\":\n",
        "    app.run_server(debug=True)\n",
        "\n",
        "```"
      ],
      "metadata": {
        "id": "5jgAXgB5XYV8"
      }
    },
    {
      "cell_type": "markdown",
      "source": [
        "Outra forma de fazer alterações é por meio de um arquivo CSS. O Dash irá automaticamente buscar por uma pasta `assets > style.css` para carregar o estilo desejado. O arquivo `favicon.ico` será usado para identificar a aba no browser."
      ],
      "metadata": {
        "id": "8ZHQ1jdiYfLa"
      }
    },
    {
      "cell_type": "markdown",
      "source": [
        "**Arquivo stryle.css**"
      ],
      "metadata": {
        "id": "Lwm4XH5j0eCU"
      }
    },
    {
      "cell_type": "markdown",
      "source": [
        "* `#header-area` - o `#` serve para identificadores;\n",
        "* `.class-name` - para edição de estilo de classes;\n",
        "* `name` - edição de estilo de Tag;"
      ],
      "metadata": {
        "id": "3k6SKQSu4Y6U"
      }
    },
    {
      "cell_type": "markdown",
      "source": [
        "```css\n",
        "body {\n",
        "    font-family: Verdana, sans-serif;\n",
        "    margin: 0;\n",
        "    background-color: #800020;\n",
        "}\n",
        "\n",
        "/* Header styling */\n",
        "\n",
        "#header-area {\n",
        "    background-color: black;\n",
        "    height: 216px;\n",
        "\tmargin:0;\n",
        "\tpadding-top:24px;\n",
        "}\n",
        "\n",
        "#header-title {\n",
        "    color: #fff;\n",
        "    font-size: 48px;\n",
        "    font-weight: bold;\n",
        "    text-align: center;\n",
        "    margin: 0 auto;\n",
        "}\n",
        "\n",
        "#header-description {\n",
        "    color: #dfdfdf;\n",
        "    margin: 4px auto;\n",
        "    text-align: center;\n",
        "    max-width: 384px;\n",
        "\tfont-size: 18px;\n",
        "}\n",
        "\n",
        "/* Graph styling */\n",
        "\n",
        "#graph-container {\n",
        "    margin-right: auto;\n",
        "    margin-left: auto;\n",
        "    max-width: 1200px;\n",
        "    padding-right: 10px;\n",
        "    padding-left: 10px;\n",
        "    margin-top: 32px;\n",
        "}\n",
        "```"
      ],
      "metadata": {
        "id": "5g5TJC3VZ-ee"
      }
    },
    {
      "cell_type": "markdown",
      "source": [
        "## Interações"
      ],
      "metadata": {
        "id": "QfrVE4Ife4qM"
      }
    },
    {
      "cell_type": "markdown",
      "source": [
        "### Callback\n",
        "\n",
        "Callbacks é o sistema de reação de uma aplicação à uma ação do usuário. Este processo é o que permite a **interação** do usuário com a aplicação. Dada uma ação do usuário no aplicativo, uma ENTRADA, o programa irá recebê-la e processá-la para depois emitir uma nova SAÍDA."
      ],
      "metadata": {
        "id": "-hSIyLgXe9rM"
      }
    },
    {
      "cell_type": "markdown",
      "source": [
        "```python\n",
        "from dash.dependencies import Input, Output\n",
        "\n",
        "...\n",
        "\n",
        "# Definição do layout - campo de entrada e DIV da saída\n",
        "html.Div([\n",
        "    \"Input: \",\n",
        "    dcc.Input(id='my-input', value='initial value', type='text')\n",
        "    ]),\n",
        "html.Br(),\n",
        "html.Div(id='my-output'),\n",
        "\n",
        "...\n",
        "\n",
        "# Configuração do CALLBACK\n",
        "@app.callback(\n",
        "    # Características da saída\n",
        "    Output(component_id='my-output', component_property='children'),\n",
        "    # Características da entrada\n",
        "    Input(component_id='my-input', component_property='value')\n",
        ")\n",
        "\n",
        "...\n",
        "\n",
        "def update_output_div(input_value):\n",
        "    return 'Output: {}'.format(input_value)\n",
        "```"
      ],
      "metadata": {
        "id": "Yl_AdLerhgWS"
      }
    },
    {
      "cell_type": "markdown",
      "source": [
        "```python\n",
        "# ARQUIVO app_interativ.py\n",
        "import dash\n",
        "from dash import dcc\n",
        "from dash import html\n",
        "from dash.dependencies import Input, Output\n",
        "\n",
        "app = dash.Dash(__name__)\n",
        "\n",
        "app.layout = html.Div([\n",
        "    html.H6(\"Change the value in the text box to see callbacks in action!\"),\n",
        "    html.Div([\n",
        "        \"Input: \",\n",
        "        dcc.Input(id='my-input', value='initial value', type='text')\n",
        "    ]),\n",
        "    html.Br(),\n",
        "    html.Div(id='my-output'),\n",
        "\n",
        "])\n",
        "\n",
        "\n",
        "@app.callback(\n",
        "    Output(component_id='my-output', component_property='children'),\n",
        "    Input(component_id='my-input', component_property='value')\n",
        ")\n",
        "def update_output_div(input_value):\n",
        "    return 'Output: {}'.format(input_value)\n",
        "\n",
        "\n",
        "if __name__ == '__main__':\n",
        "    app.run_server(debug=True)\n",
        "```"
      ],
      "metadata": {
        "id": "mAbY-neA0ZL1"
      }
    },
    {
      "cell_type": "markdown",
      "source": [
        "### Drop-down menu\n",
        "\n",
        "O menu Drop-down permite que o usuário escolha uma categoria para alterar o visualização de dados. Isso poderá executar um filtro nos dados ou uma mudança processamento dos dados."
      ],
      "metadata": {
        "id": "Dlno7EwZfB6u"
      }
    },
    {
      "cell_type": "markdown",
      "source": [
        "```python\n",
        "dcc.Dropdown(\n",
        "    id=\"metal-filter\",\n",
        "    className=\"dropdown\",\n",
        "    options=[{\"label\": metal, \"value\": metal} for metal in data.columns[1:]],\n",
        "    clearable=False,\n",
        "    value='Gold'\n",
        ")\n",
        "\n",
        "...\n",
        "\n",
        "@app.callback(\n",
        "    Output(\"price-chart\", \"figure\"),\n",
        "    Input(\"metal-filter\", \"value\")\n",
        ")\n",
        "def update_chart(metal):\n",
        "    # Create a plotly plot for use by dcc.Graph().\n",
        "    fig = px.line(\n",
        "        data,\n",
        "        title=\"Precious Metal Prices 2018-2021\",\n",
        "        x=\"DateTime\",\n",
        "        y=[metal],\n",
        "        color_discrete_map={\n",
        "            \"Platinum\": \"#E5E4E2\",\n",
        "            \"Gold\": \"gold\",\n",
        "            \"Silver\": \"silver\",\n",
        "            \"Palladium\": \"#CED0DD\",\n",
        "            \"Rhodium\": \"#E2E7E1\",\n",
        "            \"Iridium\": \"#3D3C3A\",\n",
        "            \"Ruthenium\": \"#C9CBC8\"\n",
        "        }\n",
        "    )\n",
        "\n",
        "    fig.update_layout(\n",
        "        template=\"plotly_dark\",\n",
        "        xaxis_title=\"Date\",\n",
        "        yaxis_title=\"Price (USD/oz)\",\n",
        "        font=dict(\n",
        "            family=\"Verdana, sans-serif\",\n",
        "            size=18,\n",
        "            color=\"white\"\n",
        "        ),\n",
        "    )\n",
        "\n",
        "    return fig\n",
        "```"
      ],
      "metadata": {
        "id": "OacNH83CFFCb"
      }
    },
    {
      "cell_type": "markdown",
      "source": [
        "**dropdown_app.py**\n",
        "\n",
        "```python\n",
        "import dash\n",
        "from dash import dcc\n",
        "from dash import html\n",
        "from dash.dependencies import Output, Input\n",
        "import plotly.express as px\n",
        "import pandas as pd\n",
        "\n",
        "# Read in the data\n",
        "data = pd.read_csv(r'data-vis-python-dash-3009706\\02_03\\precious_metals_prices_2018_2021.csv')\n",
        "\n",
        "# Create a plotly plot for use by dcc.Graph().\n",
        "fig = px.line(\n",
        "    data,\n",
        "    title=\"Precious Metal Prices 2018-2021\",\n",
        "    x=\"DateTime\",\n",
        "    y=[\"Gold\"],\n",
        "    color_discrete_map={\"Gold\": \"gold\"}\n",
        ")\n",
        "\n",
        "app = dash.Dash(__name__)\n",
        "app.title = \"Precious Metal Prices 2018-2021\"\n",
        "\n",
        "app.layout = html.Div(\n",
        "    id=\"app-container\",\n",
        "    children=[\n",
        "        html.Div(\n",
        "            id=\"header-area\",\n",
        "            children=[\n",
        "                html.H1(\n",
        "                    id=\"header-title\",\n",
        "                    children=\"Precious Metal Prices\",\n",
        "\n",
        "                ),\n",
        "                html.P(\n",
        "                    id=\"header-description\",\n",
        "                    children=(\"The cost of precious metals\", html.Br(), \"between 2018 and 2021\"),\n",
        "                ),\n",
        "            ],\n",
        "        ),\n",
        "        html.Div(\n",
        "            id=\"menu-area\",\n",
        "            children=[\n",
        "                html.Div(\n",
        "                    children=[\n",
        "                        html.Div(\n",
        "                            className=\"menu-title\",\n",
        "                            children=\"Metal\"\n",
        "                        ),\n",
        "                        dcc.Dropdown(\n",
        "                            id=\"metal-filter\",\n",
        "                            className=\"dropdown\",\n",
        "                            options=[{\"label\": metal, \"value\": metal} for metal in data.columns[1:]],\n",
        "                            clearable=False,\n",
        "                            value=\"Gold\"\n",
        "                        )\n",
        "                    ]\n",
        "                )\n",
        "            ]\n",
        "        ),\n",
        "        html.Div(\n",
        "            id=\"graph-container\",\n",
        "            children=dcc.Graph(\n",
        "                id=\"price-chart\",\n",
        "                figure=fig,\n",
        "                config={\"displayModeBar\": False}\n",
        "            ),\n",
        "        ),\n",
        "    ]\n",
        ")\n",
        "\n",
        "\n",
        "@app.callback(\n",
        "    Output(\"price-chart\", \"figure\"),\n",
        "    Input(\"metal-filter\", \"value\")\n",
        ")\n",
        "def update_chart(metal):\n",
        "    # Create a plotly plot for use by dcc.Graph().\n",
        "    fig = px.line(\n",
        "        data,\n",
        "        title=\"Precious Metal Prices 2018-2021\",\n",
        "        x=\"DateTime\",\n",
        "        y=[metal],\n",
        "        color_discrete_map={\n",
        "            \"Platinum\": \"#E5E4E2\",\n",
        "            \"Gold\": \"gold\",\n",
        "            \"Silver\": \"silver\",\n",
        "            \"Palladium\": \"#CED0DD\",\n",
        "            \"Rhodium\": \"#E2E7E1\",\n",
        "            \"Iridium\": \"#3D3C3A\",\n",
        "            \"Ruthenium\": \"#C9CBC8\"\n",
        "        }\n",
        "    )\n",
        "\n",
        "    fig.update_layout(\n",
        "        template=\"plotly_dark\",\n",
        "        xaxis_title=\"Date\",\n",
        "        yaxis_title=\"Price (USD/oz)\",\n",
        "        font=dict(\n",
        "            family=\"Verdana, sans-serif\",\n",
        "            size=18,\n",
        "            color=\"white\"\n",
        "        ),\n",
        "    )\n",
        "\n",
        "    return fig\n",
        "\n",
        "\n",
        "if __name__ == \"__main__\":\n",
        "    app.run_server(debug=True)\n",
        "```"
      ],
      "metadata": {
        "id": "v8WoOIJxGuZn"
      }
    },
    {
      "cell_type": "markdown",
      "source": [
        "### Seletores de intervalo"
      ],
      "metadata": {
        "id": "LW--3waHfGEF"
      }
    },
    {
      "cell_type": "markdown",
      "source": [
        "```python\n",
        "import dash\n",
        "from dash import dcc\n",
        "from dash import html\n",
        "from dash.dependencies import Output, Input\n",
        "import plotly.express as px\n",
        "import pandas as pd\n",
        "\n",
        "# Read in the data\n",
        "data = pd.read_csv(r'data-vis-python-dash-3009706\\02_03\\precious_metals_prices_2018_2021.csv')\n",
        "data[\"DateTime\"] = pd.to_datetime(data[\"DateTime\"], format=\"%Y-%m-%d\")\n",
        "\n",
        "# Create a plotly plot for use by dcc.Graph().\n",
        "fig = px.line(\n",
        "    data,\n",
        "    title=\"Precious Metal Prices 2018-2021\",\n",
        "    x=\"DateTime\",\n",
        "    y=[\"Gold\"],\n",
        "    color_discrete_map={\"Gold\": \"gold\"}\n",
        ")\n",
        "\n",
        "app = dash.Dash(__name__)\n",
        "app.title = \"Precious Metal Prices 2018-2021\"\n",
        "\n",
        "app.layout = html.Div(\n",
        "    id=\"app-container\",\n",
        "    children=[\n",
        "        html.Div(\n",
        "            id=\"header-area\",\n",
        "            children=[\n",
        "                html.H1(\n",
        "                    id=\"header-title\",\n",
        "                    children=\"Precious Metal Prices\",\n",
        "\n",
        "                ),\n",
        "                html.P(\n",
        "                    id=\"header-description\",\n",
        "                    children=(\"The cost of precious metals\", html.Br(), \"between 2018 and 2021\"),\n",
        "                ),\n",
        "            ],\n",
        "        ),\n",
        "        html.Div(\n",
        "            id=\"menu-area\",\n",
        "            children=[\n",
        "                html.Div(\n",
        "                    children=[\n",
        "                        html.Div(\n",
        "                            className=\"menu-title\",\n",
        "                            children=\"Metal\"\n",
        "                        ),\n",
        "                        dcc.Dropdown(\n",
        "                            id=\"metal-filter\",\n",
        "                            className=\"dropdown\",\n",
        "                            options=[{\"label\": metal, \"value\": metal} for metal in data.columns[1:]],\n",
        "                            clearable=False,\n",
        "                            value=\"Gold\"\n",
        "                        )\n",
        "                    ]\n",
        "                ),\n",
        "                html.Div(\n",
        "                    children=[\n",
        "                        html.Div(\n",
        "                            className=\"menu-title\",\n",
        "                            children=\"Date Range\"\n",
        "                        ),\n",
        "                        dcc.DatePickerRange(\n",
        "                            id=\"date-range\",\n",
        "                            min_date_allowed=data.DateTime.min().date(),\n",
        "                            max_date_allowed=data.DateTime.max().date(),\n",
        "                            start_date=data.DateTime.min().date(),\n",
        "                            end_date=data.DateTime.max().date()\n",
        "                        )\n",
        "                    ]\n",
        "                )\n",
        "            ]\n",
        "        ),\n",
        "        html.Div(\n",
        "            id=\"graph-container\",\n",
        "            children=dcc.Graph(\n",
        "                id=\"price-chart\",\n",
        "                figure=fig,\n",
        "                config={\"displayModeBar\": False}\n",
        "            ),\n",
        "        ),\n",
        "    ]\n",
        ")\n",
        "\n",
        "\n",
        "@app.callback(\n",
        "    Output(\"price-chart\", \"figure\"),\n",
        "    Input(\"metal-filter\", \"value\"),\n",
        "    Input(\"date-range\", \"start_date\"),\n",
        "    Input(\"date-range\", \"end_date\")\n",
        ")\n",
        "def update_chart(metal, start_date, end_date):\n",
        "    filtered_data = data.loc[(data.DateTime >= start_date) & (data.DateTime <= end_date)]\n",
        "    # Create a plotly plot for use by dcc.Graph().\n",
        "    fig = px.line(\n",
        "        filtered_data,\n",
        "        title=\"Precious Metal Prices 2018-2021\",\n",
        "        x=\"DateTime\",\n",
        "        y=[metal],\n",
        "        color_discrete_map={\n",
        "            \"Platinum\": \"#E5E4E2\",\n",
        "            \"Gold\": \"gold\",\n",
        "            \"Silver\": \"silver\",\n",
        "            \"Palladium\": \"#CED0DD\",\n",
        "            \"Rhodium\": \"#E2E7E1\",\n",
        "            \"Iridium\": \"#3D3C3A\",\n",
        "            \"Ruthenium\": \"#C9CBC8\"\n",
        "        }\n",
        "    )\n",
        "\n",
        "    fig.update_layout(\n",
        "        template=\"plotly_dark\",\n",
        "        xaxis_title=\"Date\",\n",
        "        yaxis_title=\"Price (USD/oz)\",\n",
        "        font=dict(\n",
        "            family=\"Verdana, sans-serif\",\n",
        "            size=18,\n",
        "            color=\"white\"\n",
        "        ),\n",
        "    )\n",
        "\n",
        "    return fig\n",
        "\n",
        "\n",
        "if __name__ == \"__main__\":\n",
        "    app.run_server(debug=True)\n",
        "```"
      ],
      "metadata": {
        "id": "Lkc7QxXRI4Q6"
      }
    },
    {
      "cell_type": "markdown",
      "source": [
        "## Deploy"
      ],
      "metadata": {
        "id": "wiMyNifVfNtm"
      }
    },
    {
      "cell_type": "markdown",
      "source": [
        "web: gunicorn app:server"
      ],
      "metadata": {
        "id": "pv4dEW_GJJGb"
      }
    }
  ]
}