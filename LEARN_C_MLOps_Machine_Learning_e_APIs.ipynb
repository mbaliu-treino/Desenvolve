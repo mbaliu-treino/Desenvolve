{
  "nbformat": 4,
  "nbformat_minor": 0,
  "metadata": {
    "colab": {
      "provenance": [],
      "toc_visible": true,
      "authorship_tag": "ABX9TyNiqLJ2HLj1TM55U1nJ/QPh",
      "include_colab_link": true
    },
    "kernelspec": {
      "name": "python3",
      "display_name": "Python 3"
    },
    "language_info": {
      "name": "python"
    }
  },
  "cells": [
    {
      "cell_type": "markdown",
      "metadata": {
        "id": "view-in-github",
        "colab_type": "text"
      },
      "source": [
        "<a href=\"https://colab.research.google.com/github/mbaliu-treino/Desenvolve/blob/main/LEARN_C_MLOps_Machine_Learning_e_APIs.ipynb\" target=\"_parent\"><img src=\"https://colab.research.google.com/assets/colab-badge.svg\" alt=\"Open In Colab\"/></a>"
      ]
    },
    {
      "cell_type": "markdown",
      "source": [
        "# <font color=orange><b>MLOps: Machine Learning e APIs</b></font>\n",
        "\n",
        "<a href=\"https://colab.research.google.com/drive/1Fa9x-y8pfy5yKEg825eUdVlE2I4Chm4o?authuser=1\"><font size=2; color=gray>Arquivo Colab</a></font>\n",
        "\n",
        "<ul><font size=2 color=gray>FICHA TÉCNICA\n",
        "<li><a href=\"https://cursos.alura.com.br/course/mlops-machine-learning-e-apis\"><font size=2 color=gray>MLOps: Machine Learning e APIs</a>\n",
        "<li>Carga Horária: 10 h\n",
        "<li>Instrutora: Júlio Oliveira\n",
        "<li>Data de Início: 01-2023\n",
        "</ul>\n",
        "\n",
        "\n"
      ],
      "metadata": {
        "id": "JSeHxPLGhvUz"
      }
    },
    {
      "cell_type": "markdown",
      "source": [
        "* [HTTP: Entendendo a web por baixo dos panos](https://cursos.alura.com.br/course/http-fundamentos?preRequirementFrom=flask-rotas-templates-autenticacao)\n",
        "* [HTTP: Desmistificando o protocolo da Web](https://www.alura.com.br/artigos/desmistificando-o-protocolo-http-parte-1)\n",
        "* [HTTP: Diferenças entre GET e POST](https://www.alura.com.br/artigos/qual-e-diferenca-entre-http-e-https)\n",
        "* [Qual é a diferença entre HTTP e HTTPS?](https://www.alura.com.br/artigos/qual-e-diferenca-entre-http-e-https)"
      ],
      "metadata": {
        "id": "78MKiV0fp5NT"
      }
    },
    {
      "cell_type": "markdown",
      "source": [
        "Nesta aula é abordado uma estratégia de MLOps, etapa de disponibilização de um modelo finalizado, utilizando o framework do Flask."
      ],
      "metadata": {
        "id": "sXTG_jOm8Zk1"
      }
    },
    {
      "cell_type": "markdown",
      "source": [
        "1. Desenvolvimento de API Rest\n",
        "2. Implementação do modelo na API\n",
        "3. Teste da API\n",
        "    * Postme\n",
        "    * Requests do Python"
      ],
      "metadata": {
        "id": "ce0OAnj_ailS"
      }
    },
    {
      "cell_type": "markdown",
      "source": [
        "## <font color=orange><b>Conteúdo</b></font>"
      ],
      "metadata": {
        "id": "Rs0aFUuS6P56"
      }
    },
    {
      "cell_type": "markdown",
      "source": [
        "<font color=orange></font>\n",
        "\n",
        "* <font color=orange>MLOps</font>\n",
        "    * O que é MLOps.\n",
        "    * O que é uma API.\n",
        "    * O que é Flask.\n",
        "    * Como criar uma API com Flask.\n",
        "    * Como acessar uma API no navegador.\n",
        "    * Criação de *endpoints*.\n",
        "    * Criar um endpoint com um modelo de ML.\n",
        "\n",
        "* <font color=orange>Arquitetura da API</font>\n",
        "    * Estrutura básica de API no Flask\n",
        "    * Treinar o modelo durante a inicialização do serviço.\n",
        "    * Como colocar um modelo de machine learning em uma API.\n",
        "    * Utilização de modelos pré-treinados.\n",
        "    * Entrada de usuário pela URL (GET)\n",
        "    * Entrada de usuário através de JSON (POST)\n",
        "\n",
        "* <font color=orange>POST</font>\n",
        "    * Criação de endpoint para receber chamadas POST.\n",
        "    * Como fazer uma chamada POST\n",
        "\n",
        "* <font color=orange>Serialização</font>\n",
        "    * Como gravar um modelo em um arquivo.\n",
        "\n",
        "* <font color=orange>Verificação</font>\n",
        "    * O que é Postman.\n",
        "    * Como usar o Postman para testar API’s\n",
        "\n",
        "* <font color=orange>Autenticação na API</font>\n",
        "    * Como proteger um endpoint com login e senha.\n",
        "    * Como fazer uma chamada HTTP com uma autenticação básica.\n",
        "\n",
        "* <font color=orange>Pacote Requests</font>\n",
        "    * O que é o pacote Requests\n",
        "    * Como usar o Requests para consumir API’s\n",
        "\n",
        "* <font color=orange>VirtualEnv</font>\n",
        "    * O que é o VirtualEnv.\n",
        "    * Como criar ambientes virtuais.\n",
        "    * Arquivo de dependências requirements.\n",
        "\n",
        "\n",
        "* Como fazer análise de sentimento usando TextBlob.\n",
        "* Treinar um modelo com a base House Pricing."
      ],
      "metadata": {
        "id": "v5WkdbDye8BJ"
      }
    },
    {
      "cell_type": "markdown",
      "source": [
        "# <font color=orange><b>CONCEITOS</b></font>\n"
      ],
      "metadata": {
        "id": "ARUfEjcsnUvf"
      }
    },
    {
      "cell_type": "markdown",
      "source": [
        "## <font color=orange><b>ML Ops</b></font>"
      ],
      "metadata": {
        "id": "M9VD1cvdNUXO"
      }
    },
    {
      "cell_type": "markdown",
      "source": [
        "O MLOps é a etapa que vem após a conclusão do modelo. Então vem a etapa de tornar acessível o modelo para outros usuários."
      ],
      "metadata": {
        "id": "T0HnoUK08InE"
      }
    },
    {
      "cell_type": "markdown",
      "source": [
        "O processo investigativo do cientista de dados é muit acadêmico, buscando novos bases de dados, inseights dentro dos dados, quais são os melhores parâmetros para modelo, como está a performance preditiva do modelo. Muitas vezes o trabalho termina nesta etapa, após a conclusão investigativa.\n",
        "\n",
        "Mas em outras situações deseja-se usar o modelo criado no dia-a-dia e disponibilizá-lo para outros usuários poderem usar o conhecimento gerado. Este tópico faz parte da preocupação da melhor solução para entrega de software. Esta preocupação faz parte da **cultura DevOps**. \n",
        "\n",
        "Esta cultura trata de todos os passos, tecnologias, processos e pessoas do desenvolvimento até a operação:\n",
        "\n",
        "* Deploy\n",
        "* Operate\n",
        "* Integration\n",
        "* Continuous\n",
        "* Build\n",
        "* Plan\n",
        "* Continuous feedback\n",
        "\n",
        "A necessidade da nova escala dos modelos de ML, o MLOps (Machine Learning Operations) surge com a preocupação de tornar o desenvolvimento dos modelos mais robustos e acessíveis."
      ],
      "metadata": {
        "id": "Tv8-4NoG9YOs"
      }
    },
    {
      "cell_type": "markdown",
      "source": [
        "## <font color=orange><b>API</b></font>\n"
      ],
      "metadata": {
        "id": "SqgzolEMwiIT"
      }
    },
    {
      "cell_type": "markdown",
      "source": [
        "As APIs são formas de acessar remotamente serviços prontos disponibilizados ao uso de diversos usuários. O acesso ocorre através da requisição contextualizada do serviço (com o Request). O serviço irá retornar uma resposta estrturada (Response), após processar a requisição. Entã ele serve como um ponto de acesso à Bancos de dados, aplicações ou serviços. O termo API refere a \"Application Programming Interface\" (Interface de programação de aplicação).\n",
        "\n",
        "Alguns exemplos de serviços são as rotas pelo Google Maps, em que um site específico pode usar este serviço, informando o ponto de origem e o ponto de destino, e obter a resposta do trajeto necessário entre os dois.\n",
        "\n",
        "Uma vantagem das APIs é a economia de esforço, por dispensar a necessidade de abrir toda a aplicação do serviço. Somente uma comunicação direta entre máquinas é realizada."
      ],
      "metadata": {
        "id": "wB9vIcKNNZpz"
      }
    },
    {
      "cell_type": "markdown",
      "source": [
        "Para a criação de aplicações web os principais frameworks são:\n",
        "\n",
        "* Flask\n",
        "* Django\n",
        "* Pyramid"
      ],
      "metadata": {
        "id": "a7yauS4Cet_J"
      }
    },
    {
      "cell_type": "markdown",
      "source": [
        "O acesso de uma API ocorre através de um identificador HTTP que indica o IP do serviço e a porta de acesso. Cada acesso criado na API é chamado de **rota** ou de **endpoints**. Esse *endpoint* pode ser no estilo IP:porta, ou, nome e caminho da rota, sendo uma URL. "
      ],
      "metadata": {
        "id": "Dc2YT3-PrKBi"
      }
    },
    {
      "cell_type": "markdown",
      "source": [
        "Uma das formas de receber informações do usuário sobre o contexto e os atributos para a execução do serviço é através da própria URL."
      ],
      "metadata": {
        "id": "riBMUTVwteh8"
      }
    },
    {
      "cell_type": "markdown",
      "source": [
        "# <font color=orange><b>CURSO</b></font>\n"
      ],
      "metadata": {
        "id": "JrWYJd0qPmJg"
      }
    },
    {
      "cell_type": "markdown",
      "source": [
        "## <font color=orange><b>A. Criação de API com Flask (exemplo 1)</b></font>\n"
      ],
      "metadata": {
        "id": "lAYMtuaMPpZn"
      }
    },
    {
      "cell_type": "markdown",
      "source": [
        "1. Criação do Ambiente de Desenvolvimento\n",
        "\n",
        "```bash\n",
        "# Virtual Environment\n",
        "python -m venv venv\n",
        "```"
      ],
      "metadata": {
        "id": "uuR7KdG6RWhu"
      }
    },
    {
      "cell_type": "markdown",
      "source": [
        "2. Ativar ambiente virtual no CMD\n",
        "\n",
        "```bash\n",
        "./scripts/activate\n",
        "```"
      ],
      "metadata": {
        "id": "GAoZpQKsR44l"
      }
    },
    {
      "cell_type": "markdown",
      "source": [
        "```\n",
        "pip install flask\n",
        "```"
      ],
      "metadata": {
        "id": "BO3K39Okwy4F"
      }
    },
    {
      "cell_type": "markdown",
      "source": [
        "3. Arquivo `main.py`\n",
        "\n",
        "Este arquivo é script principal para a aplicação Flask.\n",
        "\n",
        "```python\n",
        "from flask import Flask\n",
        "\n",
        "# Instância do Flask\n",
        "app = Flask('meu_app')\n",
        "\n",
        "# Rotas da API de acesso para os usuários\n",
        "@app.route('/')  # rota básica\n",
        "# Função da rota\n",
        "def home():\n",
        "    return 'Minha primeira API.'\n",
        "\n",
        "app.run(debug=True)  # execução da aplicação no main.py\n",
        "```"
      ],
      "metadata": {
        "id": "SwLsrGtNWryA"
      }
    },
    {
      "cell_type": "markdown",
      "source": [
        "O `app.run(debug=True)` faz com que ao ser salvo o arquivo, o Flask irá reiniciar a execução no terminal."
      ],
      "metadata": {
        "id": "hT1m_N3ynfA5"
      }
    },
    {
      "cell_type": "markdown",
      "source": [
        "4. Execução do `main.py`\n",
        "\n",
        "```cmd\n",
        "python main.py\n",
        "```\n",
        "\n",
        "5. Abrir Serviço\n",
        "\n",
        "Abrir o endereço HTTP fornecido pelo CMD (http://127.0.0.1:5000/). Este endereço é o do localhost, da própria máquina, com a porta 5000. \n",
        "\n",
        "127.0.0.1 ou localhost é o endereço da própria máquina onde estamos trabalhando. Por padrão, o Flask executa a sua aplicação na porta 5000, mas isso pode ser alterado.\n",
        "\n",
        "Ao abrir o link, será realizada uma requisição do tipo GET da rota base (home). Na janela do CMD é possível ver o registro da solicitação.\n"
      ],
      "metadata": {
        "id": "O5yWHsm-dMZf"
      }
    },
    {
      "cell_type": "markdown",
      "source": [
        "## <font color=orange><b>B. Desenvolvimento de Modelo (modelo pré-treinado)</b></font>\n"
      ],
      "metadata": {
        "id": "-ALvSc_agPeY"
      }
    },
    {
      "cell_type": "markdown",
      "source": [
        "### <font color=orange><b>Análise de Sentimento</b></font>\n",
        "\n",
        "O modelo de análise de sentimento é um modelo que consegue mensurar a polaridade de uma menção. Então ele é uma avaliação se um texto possui uma menção positiva, neutra ou negativa. Esta análise faz parte do processamento de linguagem natural (NLP). \n"
      ],
      "metadata": {
        "id": "q8rkR5UAgN-7"
      }
    },
    {
      "cell_type": "markdown",
      "source": [
        "Para realizar esta análise será usado a biblioteca TextBlob, o qual já possui modelos pré-treinados, o que dispensa o desenvolvimento do modelo de análise de sentimento"
      ],
      "metadata": {
        "id": "i4e8LQMshHS4"
      }
    },
    {
      "cell_type": "markdown",
      "source": [
        "A análise de polaridade é a indicação do valor da menção (negativa, neutra ou positiva).  \n",
        "\n",
        "> * Ele é um indicador de -1 a 1. Sendo -1 é negativo e 1 é positivo;\n",
        "> * O valor pode ser entendido como a probabilidade da polaridade."
      ],
      "metadata": {
        "id": "INvNBh2ni4dn"
      }
    },
    {
      "cell_type": "markdown",
      "source": [
        "O TextBlob não opera adequadamente com textos em português, logo é recomendação a tradução para o inglês."
      ],
      "metadata": {
        "id": "ujqLlR9ljnuJ"
      }
    },
    {
      "cell_type": "code",
      "source": [
        "from textblob import TextBlob\n",
        "import textblob\n",
        "\n",
        "textblob.__version__"
      ],
      "metadata": {
        "colab": {
          "base_uri": "https://localhost:8080/",
          "height": 35
        },
        "id": "YkDU9TI9hVHs",
        "outputId": "ad9721b8-b87b-47cf-c8cf-7634e16b1d69"
      },
      "execution_count": null,
      "outputs": [
        {
          "output_type": "execute_result",
          "data": {
            "text/plain": [
              "'0.15.3'"
            ],
            "application/vnd.google.colaboratory.intrinsic+json": {
              "type": "string"
            }
          },
          "metadata": {},
          "execution_count": 18
        }
      ]
    },
    {
      "cell_type": "code",
      "source": [
        "frase = \"Python é ótimo para Machine Learning.\"\n",
        "\n",
        "tb = TextBlob(frase)\n",
        "tb_en = tb.translate(from_lang='pt', to='en')\n",
        "tb_en"
      ],
      "metadata": {
        "colab": {
          "base_uri": "https://localhost:8080/"
        },
        "id": "WTF_hJ4HhZr8",
        "outputId": "1e2a2559-804d-49ec-8218-aee4840a0fe0"
      },
      "execution_count": null,
      "outputs": [
        {
          "output_type": "execute_result",
          "data": {
            "text/plain": [
              "TextBlob(\"Python is great for Machine Learning.\")"
            ]
          },
          "metadata": {},
          "execution_count": 20
        }
      ]
    },
    {
      "cell_type": "code",
      "source": [
        "tb.sentiment.polarity"
      ],
      "metadata": {
        "colab": {
          "base_uri": "https://localhost:8080/"
        },
        "id": "ZS6ONUpViKCH",
        "outputId": "81805dc6-77f6-4c46-8c33-6b8e6034d38b"
      },
      "execution_count": null,
      "outputs": [
        {
          "output_type": "execute_result",
          "data": {
            "text/plain": [
              "0.0"
            ]
          },
          "metadata": {},
          "execution_count": 24
        }
      ]
    },
    {
      "cell_type": "code",
      "source": [
        "tb_en.sentiment.polarity"
      ],
      "metadata": {
        "colab": {
          "base_uri": "https://localhost:8080/"
        },
        "id": "90gQUGd5kUt-",
        "outputId": "78d0a130-8d63-4107-a13a-252a5e835c5d"
      },
      "execution_count": null,
      "outputs": [
        {
          "output_type": "execute_result",
          "data": {
            "text/plain": [
              "0.8"
            ]
          },
          "metadata": {},
          "execution_count": 21
        }
      ]
    },
    {
      "cell_type": "code",
      "source": [
        "tb_en.sentiment"
      ],
      "metadata": {
        "colab": {
          "base_uri": "https://localhost:8080/"
        },
        "id": "GdCc_uLxmL0V",
        "outputId": "c0aa78d6-d35b-4a1e-ca41-62ed0147916d"
      },
      "execution_count": null,
      "outputs": [
        {
          "output_type": "execute_result",
          "data": {
            "text/plain": [
              "Sentiment(polarity=0.8, subjectivity=0.75)"
            ]
          },
          "metadata": {},
          "execution_count": 25
        }
      ]
    },
    {
      "cell_type": "markdown",
      "source": [
        "Agora o resultado do índice da polaridade da análise de sentimento é mais adequado para o texto que possuímos."
      ],
      "metadata": {
        "id": "TPiFQskBkXRV"
      }
    },
    {
      "cell_type": "markdown",
      "source": [
        "### <font color=orange><b>Disponibilização do Modelo (exemplo 2)</b></font>\n",
        "\n"
      ],
      "metadata": {
        "id": "IPUf9nM2pjv0"
      }
    },
    {
      "cell_type": "markdown",
      "source": [
        "1. A API precisa receber uma frase do usuário\n",
        "2. Passar a frase para o modelo de análise de sentimento\n",
        "3. Retornar a polaridade"
      ],
      "metadata": {
        "id": "773urxKEtMGR"
      }
    },
    {
      "cell_type": "markdown",
      "source": [
        "**AMBIENTE**\n",
        "\n",
        "Instalação da biblioteca na máquina local para disponibilização para a execução do serviço\n",
        "\n",
        "```bash\n",
        "pip install textblob\n",
        "```"
      ],
      "metadata": {
        "id": "cpzJ1M42vRlq"
      }
    },
    {
      "cell_type": "markdown",
      "source": [
        "**Arquivo `main.py`**\n",
        "\n",
        "Construção do script central da API com a função de análise de sentimento\n",
        "\n",
        "```python\n",
        "from flask import Flask\n",
        "from textblob import TextBlob\n",
        "\n",
        "# Instância do Flask\n",
        "app = Flask(__name__)\n",
        "\n",
        "@app.route('/')  # rota básica\n",
        "def home():\n",
        "    return 'Minha primeira API!!!'\n",
        "\n",
        "@app.route('/sentimento/<frase>')  # endpoint análise de sentimento\n",
        "def sentimento(frase):\n",
        "    tb = TextBlob(frase)\n",
        "    tb_en = tb.translate(from_lang='pt', to='en')\n",
        "    polaridade =  tb_en.sentiment.polarity\n",
        "    return f\"Polaridade : {polaridade}\"\n",
        "\n",
        "app.run(debug=True)\n",
        "```"
      ],
      "metadata": {
        "id": "jYWp71AyxLxw"
      }
    },
    {
      "cell_type": "markdown",
      "source": [
        "> * `Flask('__name__')` facilita a aplicação saber onde foi iniciado, facilitando a localização dos recursos\n"
      ],
      "metadata": {
        "id": "AV906Aycn5sp"
      }
    },
    {
      "cell_type": "markdown",
      "source": [
        "> * `@app.route('/sentimento/<frase>')` indicação do input do usuário"
      ],
      "metadata": {
        "id": "YDdAvbBBuOcg"
      }
    },
    {
      "cell_type": "markdown",
      "source": [
        "**Execução da API**\n",
        "\n",
        "`http://127.0.0.1:5000//sentimento/Python é ótimo para Machine Learning.`"
      ],
      "metadata": {
        "id": "mWbNj0kpvVYb"
      }
    },
    {
      "cell_type": "markdown",
      "source": [
        "## <font color=orange><b>C. Teste de API</b></font>\n"
      ],
      "metadata": {
        "id": "oKlReFKry2SY"
      }
    },
    {
      "cell_type": "markdown",
      "source": [
        "Ao construir uma APi é muito importante que se tenha cuidado com a acessibilidade de diversos usuários ao serviços, mesmo que estes usem tecnologias diferentes da usada no desenvolvimento. Algumas ferramentas ajudam na realização e avaliação dos testes:"
      ],
      "metadata": {
        "id": "ztnke-_uy7Xt"
      }
    },
    {
      "cell_type": "markdown",
      "source": [
        "### <font color=orange><b>Postman</b></font>\n",
        "\n"
      ],
      "metadata": {
        "id": "1ceOKjGMy4zX"
      }
    },
    {
      "cell_type": "markdown",
      "source": [
        "[LINK](https://web.postman.co/onboarding/user): para a requisição no localhost é necessário ter a aplicação desktop."
      ],
      "metadata": {
        "id": "_Z7jXdiG01JH"
      }
    },
    {
      "cell_type": "markdown",
      "source": [
        "Nele é possível construir uma coleção de *requests* a serem feitas. Nele é possível salvar as requets, facilitando a produtividade na repetição dos testes."
      ],
      "metadata": {
        "id": "P3rTlV3IzO91"
      }
    },
    {
      "cell_type": "markdown",
      "source": [
        "1. Definição do nome da coleção (MLOps)\n",
        "2. Criação de uma pasta (destina a avaliação de uma *endpoint*)\n",
        "3. Criação das *requests*"
      ],
      "metadata": {
        "id": "mWlcCjI1zeF5"
      }
    },
    {
      "cell_type": "markdown",
      "source": [
        "## <font color=orange><b>Modelo 2: treinando o próprio modelo</b></font>\n"
      ],
      "metadata": {
        "id": "TtLz4Wjvbo57"
      }
    },
    {
      "cell_type": "markdown",
      "source": [
        "### <font color=orange><b>1. Desenvolvendo um modelo</b></font>\n",
        "\n"
      ],
      "metadata": {
        "id": "KAHZA1SFeUep"
      }
    },
    {
      "cell_type": "code",
      "source": [
        "uri_casas = 'https://raw.githubusercontent.com/alura-cursos/1576-mlops-machine-learning/aula-5/casas.csv'"
      ],
      "metadata": {
        "id": "2X20sNUjb4Jx"
      },
      "execution_count": 2,
      "outputs": []
    },
    {
      "cell_type": "code",
      "source": [
        "import pandas as pd"
      ],
      "metadata": {
        "id": "9vMM2yyHb88A"
      },
      "execution_count": 3,
      "outputs": []
    },
    {
      "cell_type": "code",
      "source": [
        "dados = pd.read_csv(uri_casas)\n",
        "dados"
      ],
      "metadata": {
        "colab": {
          "base_uri": "https://localhost:8080/",
          "height": 424
        },
        "id": "y-pIx2fBceIt",
        "outputId": "7460a8e3-850f-4006-8f65-0f73020f5e3f"
      },
      "execution_count": 4,
      "outputs": [
        {
          "output_type": "execute_result",
          "data": {
            "text/plain": [
              "      tamanho   ano  garagem   preco\n",
              "0       159.0  2003        2  208500\n",
              "1       117.0  1976        2  181500\n",
              "2       166.0  2001        2  223500\n",
              "3       160.0  1915        3  140000\n",
              "4       204.0  2000        3  250000\n",
              "...       ...   ...      ...     ...\n",
              "1455    153.0  1999        2  175000\n",
              "1456    193.0  1978        2  210000\n",
              "1457    217.0  1941        1  266500\n",
              "1458    100.0  1950        1  142125\n",
              "1459    117.0  1965        1  147500\n",
              "\n",
              "[1460 rows x 4 columns]"
            ],
            "text/html": [
              "\n",
              "  <div id=\"df-f1da39fb-401b-4322-a54e-0a228ab3a036\">\n",
              "    <div class=\"colab-df-container\">\n",
              "      <div>\n",
              "<style scoped>\n",
              "    .dataframe tbody tr th:only-of-type {\n",
              "        vertical-align: middle;\n",
              "    }\n",
              "\n",
              "    .dataframe tbody tr th {\n",
              "        vertical-align: top;\n",
              "    }\n",
              "\n",
              "    .dataframe thead th {\n",
              "        text-align: right;\n",
              "    }\n",
              "</style>\n",
              "<table border=\"1\" class=\"dataframe\">\n",
              "  <thead>\n",
              "    <tr style=\"text-align: right;\">\n",
              "      <th></th>\n",
              "      <th>tamanho</th>\n",
              "      <th>ano</th>\n",
              "      <th>garagem</th>\n",
              "      <th>preco</th>\n",
              "    </tr>\n",
              "  </thead>\n",
              "  <tbody>\n",
              "    <tr>\n",
              "      <th>0</th>\n",
              "      <td>159.0</td>\n",
              "      <td>2003</td>\n",
              "      <td>2</td>\n",
              "      <td>208500</td>\n",
              "    </tr>\n",
              "    <tr>\n",
              "      <th>1</th>\n",
              "      <td>117.0</td>\n",
              "      <td>1976</td>\n",
              "      <td>2</td>\n",
              "      <td>181500</td>\n",
              "    </tr>\n",
              "    <tr>\n",
              "      <th>2</th>\n",
              "      <td>166.0</td>\n",
              "      <td>2001</td>\n",
              "      <td>2</td>\n",
              "      <td>223500</td>\n",
              "    </tr>\n",
              "    <tr>\n",
              "      <th>3</th>\n",
              "      <td>160.0</td>\n",
              "      <td>1915</td>\n",
              "      <td>3</td>\n",
              "      <td>140000</td>\n",
              "    </tr>\n",
              "    <tr>\n",
              "      <th>4</th>\n",
              "      <td>204.0</td>\n",
              "      <td>2000</td>\n",
              "      <td>3</td>\n",
              "      <td>250000</td>\n",
              "    </tr>\n",
              "    <tr>\n",
              "      <th>...</th>\n",
              "      <td>...</td>\n",
              "      <td>...</td>\n",
              "      <td>...</td>\n",
              "      <td>...</td>\n",
              "    </tr>\n",
              "    <tr>\n",
              "      <th>1455</th>\n",
              "      <td>153.0</td>\n",
              "      <td>1999</td>\n",
              "      <td>2</td>\n",
              "      <td>175000</td>\n",
              "    </tr>\n",
              "    <tr>\n",
              "      <th>1456</th>\n",
              "      <td>193.0</td>\n",
              "      <td>1978</td>\n",
              "      <td>2</td>\n",
              "      <td>210000</td>\n",
              "    </tr>\n",
              "    <tr>\n",
              "      <th>1457</th>\n",
              "      <td>217.0</td>\n",
              "      <td>1941</td>\n",
              "      <td>1</td>\n",
              "      <td>266500</td>\n",
              "    </tr>\n",
              "    <tr>\n",
              "      <th>1458</th>\n",
              "      <td>100.0</td>\n",
              "      <td>1950</td>\n",
              "      <td>1</td>\n",
              "      <td>142125</td>\n",
              "    </tr>\n",
              "    <tr>\n",
              "      <th>1459</th>\n",
              "      <td>117.0</td>\n",
              "      <td>1965</td>\n",
              "      <td>1</td>\n",
              "      <td>147500</td>\n",
              "    </tr>\n",
              "  </tbody>\n",
              "</table>\n",
              "<p>1460 rows × 4 columns</p>\n",
              "</div>\n",
              "      <button class=\"colab-df-convert\" onclick=\"convertToInteractive('df-f1da39fb-401b-4322-a54e-0a228ab3a036')\"\n",
              "              title=\"Convert this dataframe to an interactive table.\"\n",
              "              style=\"display:none;\">\n",
              "        \n",
              "  <svg xmlns=\"http://www.w3.org/2000/svg\" height=\"24px\"viewBox=\"0 0 24 24\"\n",
              "       width=\"24px\">\n",
              "    <path d=\"M0 0h24v24H0V0z\" fill=\"none\"/>\n",
              "    <path d=\"M18.56 5.44l.94 2.06.94-2.06 2.06-.94-2.06-.94-.94-2.06-.94 2.06-2.06.94zm-11 1L8.5 8.5l.94-2.06 2.06-.94-2.06-.94L8.5 2.5l-.94 2.06-2.06.94zm10 10l.94 2.06.94-2.06 2.06-.94-2.06-.94-.94-2.06-.94 2.06-2.06.94z\"/><path d=\"M17.41 7.96l-1.37-1.37c-.4-.4-.92-.59-1.43-.59-.52 0-1.04.2-1.43.59L10.3 9.45l-7.72 7.72c-.78.78-.78 2.05 0 2.83L4 21.41c.39.39.9.59 1.41.59.51 0 1.02-.2 1.41-.59l7.78-7.78 2.81-2.81c.8-.78.8-2.07 0-2.86zM5.41 20L4 18.59l7.72-7.72 1.47 1.35L5.41 20z\"/>\n",
              "  </svg>\n",
              "      </button>\n",
              "      \n",
              "  <style>\n",
              "    .colab-df-container {\n",
              "      display:flex;\n",
              "      flex-wrap:wrap;\n",
              "      gap: 12px;\n",
              "    }\n",
              "\n",
              "    .colab-df-convert {\n",
              "      background-color: #E8F0FE;\n",
              "      border: none;\n",
              "      border-radius: 50%;\n",
              "      cursor: pointer;\n",
              "      display: none;\n",
              "      fill: #1967D2;\n",
              "      height: 32px;\n",
              "      padding: 0 0 0 0;\n",
              "      width: 32px;\n",
              "    }\n",
              "\n",
              "    .colab-df-convert:hover {\n",
              "      background-color: #E2EBFA;\n",
              "      box-shadow: 0px 1px 2px rgba(60, 64, 67, 0.3), 0px 1px 3px 1px rgba(60, 64, 67, 0.15);\n",
              "      fill: #174EA6;\n",
              "    }\n",
              "\n",
              "    [theme=dark] .colab-df-convert {\n",
              "      background-color: #3B4455;\n",
              "      fill: #D2E3FC;\n",
              "    }\n",
              "\n",
              "    [theme=dark] .colab-df-convert:hover {\n",
              "      background-color: #434B5C;\n",
              "      box-shadow: 0px 1px 3px 1px rgba(0, 0, 0, 0.15);\n",
              "      filter: drop-shadow(0px 1px 2px rgba(0, 0, 0, 0.3));\n",
              "      fill: #FFFFFF;\n",
              "    }\n",
              "  </style>\n",
              "\n",
              "      <script>\n",
              "        const buttonEl =\n",
              "          document.querySelector('#df-f1da39fb-401b-4322-a54e-0a228ab3a036 button.colab-df-convert');\n",
              "        buttonEl.style.display =\n",
              "          google.colab.kernel.accessAllowed ? 'block' : 'none';\n",
              "\n",
              "        async function convertToInteractive(key) {\n",
              "          const element = document.querySelector('#df-f1da39fb-401b-4322-a54e-0a228ab3a036');\n",
              "          const dataTable =\n",
              "            await google.colab.kernel.invokeFunction('convertToInteractive',\n",
              "                                                     [key], {});\n",
              "          if (!dataTable) return;\n",
              "\n",
              "          const docLinkHtml = 'Like what you see? Visit the ' +\n",
              "            '<a target=\"_blank\" href=https://colab.research.google.com/notebooks/data_table.ipynb>data table notebook</a>'\n",
              "            + ' to learn more about interactive tables.';\n",
              "          element.innerHTML = '';\n",
              "          dataTable['output_type'] = 'display_data';\n",
              "          await google.colab.output.renderOutput(dataTable, element);\n",
              "          const docLink = document.createElement('div');\n",
              "          docLink.innerHTML = docLinkHtml;\n",
              "          element.appendChild(docLink);\n",
              "        }\n",
              "      </script>\n",
              "    </div>\n",
              "  </div>\n",
              "  "
            ]
          },
          "metadata": {},
          "execution_count": 4
        }
      ]
    },
    {
      "cell_type": "code",
      "source": [
        "# colunas = ['tamanho', 'preco']\n",
        "# dados = dados[colunas]\n",
        "dados"
      ],
      "metadata": {
        "colab": {
          "base_uri": "https://localhost:8080/",
          "height": 424
        },
        "id": "vbnP-sDXc7uA",
        "outputId": "b438ac82-2b5c-471b-982d-ca0598a848ac"
      },
      "execution_count": 5,
      "outputs": [
        {
          "output_type": "execute_result",
          "data": {
            "text/plain": [
              "      tamanho   ano  garagem   preco\n",
              "0       159.0  2003        2  208500\n",
              "1       117.0  1976        2  181500\n",
              "2       166.0  2001        2  223500\n",
              "3       160.0  1915        3  140000\n",
              "4       204.0  2000        3  250000\n",
              "...       ...   ...      ...     ...\n",
              "1455    153.0  1999        2  175000\n",
              "1456    193.0  1978        2  210000\n",
              "1457    217.0  1941        1  266500\n",
              "1458    100.0  1950        1  142125\n",
              "1459    117.0  1965        1  147500\n",
              "\n",
              "[1460 rows x 4 columns]"
            ],
            "text/html": [
              "\n",
              "  <div id=\"df-b4669dd5-76ed-4d07-a23d-4ebbeccaf539\">\n",
              "    <div class=\"colab-df-container\">\n",
              "      <div>\n",
              "<style scoped>\n",
              "    .dataframe tbody tr th:only-of-type {\n",
              "        vertical-align: middle;\n",
              "    }\n",
              "\n",
              "    .dataframe tbody tr th {\n",
              "        vertical-align: top;\n",
              "    }\n",
              "\n",
              "    .dataframe thead th {\n",
              "        text-align: right;\n",
              "    }\n",
              "</style>\n",
              "<table border=\"1\" class=\"dataframe\">\n",
              "  <thead>\n",
              "    <tr style=\"text-align: right;\">\n",
              "      <th></th>\n",
              "      <th>tamanho</th>\n",
              "      <th>ano</th>\n",
              "      <th>garagem</th>\n",
              "      <th>preco</th>\n",
              "    </tr>\n",
              "  </thead>\n",
              "  <tbody>\n",
              "    <tr>\n",
              "      <th>0</th>\n",
              "      <td>159.0</td>\n",
              "      <td>2003</td>\n",
              "      <td>2</td>\n",
              "      <td>208500</td>\n",
              "    </tr>\n",
              "    <tr>\n",
              "      <th>1</th>\n",
              "      <td>117.0</td>\n",
              "      <td>1976</td>\n",
              "      <td>2</td>\n",
              "      <td>181500</td>\n",
              "    </tr>\n",
              "    <tr>\n",
              "      <th>2</th>\n",
              "      <td>166.0</td>\n",
              "      <td>2001</td>\n",
              "      <td>2</td>\n",
              "      <td>223500</td>\n",
              "    </tr>\n",
              "    <tr>\n",
              "      <th>3</th>\n",
              "      <td>160.0</td>\n",
              "      <td>1915</td>\n",
              "      <td>3</td>\n",
              "      <td>140000</td>\n",
              "    </tr>\n",
              "    <tr>\n",
              "      <th>4</th>\n",
              "      <td>204.0</td>\n",
              "      <td>2000</td>\n",
              "      <td>3</td>\n",
              "      <td>250000</td>\n",
              "    </tr>\n",
              "    <tr>\n",
              "      <th>...</th>\n",
              "      <td>...</td>\n",
              "      <td>...</td>\n",
              "      <td>...</td>\n",
              "      <td>...</td>\n",
              "    </tr>\n",
              "    <tr>\n",
              "      <th>1455</th>\n",
              "      <td>153.0</td>\n",
              "      <td>1999</td>\n",
              "      <td>2</td>\n",
              "      <td>175000</td>\n",
              "    </tr>\n",
              "    <tr>\n",
              "      <th>1456</th>\n",
              "      <td>193.0</td>\n",
              "      <td>1978</td>\n",
              "      <td>2</td>\n",
              "      <td>210000</td>\n",
              "    </tr>\n",
              "    <tr>\n",
              "      <th>1457</th>\n",
              "      <td>217.0</td>\n",
              "      <td>1941</td>\n",
              "      <td>1</td>\n",
              "      <td>266500</td>\n",
              "    </tr>\n",
              "    <tr>\n",
              "      <th>1458</th>\n",
              "      <td>100.0</td>\n",
              "      <td>1950</td>\n",
              "      <td>1</td>\n",
              "      <td>142125</td>\n",
              "    </tr>\n",
              "    <tr>\n",
              "      <th>1459</th>\n",
              "      <td>117.0</td>\n",
              "      <td>1965</td>\n",
              "      <td>1</td>\n",
              "      <td>147500</td>\n",
              "    </tr>\n",
              "  </tbody>\n",
              "</table>\n",
              "<p>1460 rows × 4 columns</p>\n",
              "</div>\n",
              "      <button class=\"colab-df-convert\" onclick=\"convertToInteractive('df-b4669dd5-76ed-4d07-a23d-4ebbeccaf539')\"\n",
              "              title=\"Convert this dataframe to an interactive table.\"\n",
              "              style=\"display:none;\">\n",
              "        \n",
              "  <svg xmlns=\"http://www.w3.org/2000/svg\" height=\"24px\"viewBox=\"0 0 24 24\"\n",
              "       width=\"24px\">\n",
              "    <path d=\"M0 0h24v24H0V0z\" fill=\"none\"/>\n",
              "    <path d=\"M18.56 5.44l.94 2.06.94-2.06 2.06-.94-2.06-.94-.94-2.06-.94 2.06-2.06.94zm-11 1L8.5 8.5l.94-2.06 2.06-.94-2.06-.94L8.5 2.5l-.94 2.06-2.06.94zm10 10l.94 2.06.94-2.06 2.06-.94-2.06-.94-.94-2.06-.94 2.06-2.06.94z\"/><path d=\"M17.41 7.96l-1.37-1.37c-.4-.4-.92-.59-1.43-.59-.52 0-1.04.2-1.43.59L10.3 9.45l-7.72 7.72c-.78.78-.78 2.05 0 2.83L4 21.41c.39.39.9.59 1.41.59.51 0 1.02-.2 1.41-.59l7.78-7.78 2.81-2.81c.8-.78.8-2.07 0-2.86zM5.41 20L4 18.59l7.72-7.72 1.47 1.35L5.41 20z\"/>\n",
              "  </svg>\n",
              "      </button>\n",
              "      \n",
              "  <style>\n",
              "    .colab-df-container {\n",
              "      display:flex;\n",
              "      flex-wrap:wrap;\n",
              "      gap: 12px;\n",
              "    }\n",
              "\n",
              "    .colab-df-convert {\n",
              "      background-color: #E8F0FE;\n",
              "      border: none;\n",
              "      border-radius: 50%;\n",
              "      cursor: pointer;\n",
              "      display: none;\n",
              "      fill: #1967D2;\n",
              "      height: 32px;\n",
              "      padding: 0 0 0 0;\n",
              "      width: 32px;\n",
              "    }\n",
              "\n",
              "    .colab-df-convert:hover {\n",
              "      background-color: #E2EBFA;\n",
              "      box-shadow: 0px 1px 2px rgba(60, 64, 67, 0.3), 0px 1px 3px 1px rgba(60, 64, 67, 0.15);\n",
              "      fill: #174EA6;\n",
              "    }\n",
              "\n",
              "    [theme=dark] .colab-df-convert {\n",
              "      background-color: #3B4455;\n",
              "      fill: #D2E3FC;\n",
              "    }\n",
              "\n",
              "    [theme=dark] .colab-df-convert:hover {\n",
              "      background-color: #434B5C;\n",
              "      box-shadow: 0px 1px 3px 1px rgba(0, 0, 0, 0.15);\n",
              "      filter: drop-shadow(0px 1px 2px rgba(0, 0, 0, 0.3));\n",
              "      fill: #FFFFFF;\n",
              "    }\n",
              "  </style>\n",
              "\n",
              "      <script>\n",
              "        const buttonEl =\n",
              "          document.querySelector('#df-b4669dd5-76ed-4d07-a23d-4ebbeccaf539 button.colab-df-convert');\n",
              "        buttonEl.style.display =\n",
              "          google.colab.kernel.accessAllowed ? 'block' : 'none';\n",
              "\n",
              "        async function convertToInteractive(key) {\n",
              "          const element = document.querySelector('#df-b4669dd5-76ed-4d07-a23d-4ebbeccaf539');\n",
              "          const dataTable =\n",
              "            await google.colab.kernel.invokeFunction('convertToInteractive',\n",
              "                                                     [key], {});\n",
              "          if (!dataTable) return;\n",
              "\n",
              "          const docLinkHtml = 'Like what you see? Visit the ' +\n",
              "            '<a target=\"_blank\" href=https://colab.research.google.com/notebooks/data_table.ipynb>data table notebook</a>'\n",
              "            + ' to learn more about interactive tables.';\n",
              "          element.innerHTML = '';\n",
              "          dataTable['output_type'] = 'display_data';\n",
              "          await google.colab.output.renderOutput(dataTable, element);\n",
              "          const docLink = document.createElement('div');\n",
              "          docLink.innerHTML = docLinkHtml;\n",
              "          element.appendChild(docLink);\n",
              "        }\n",
              "      </script>\n",
              "    </div>\n",
              "  </div>\n",
              "  "
            ]
          },
          "metadata": {},
          "execution_count": 5
        }
      ]
    },
    {
      "cell_type": "code",
      "source": [
        "# Variáveis Explicativas & Alvo\n",
        "X = dados.drop(columns=['preco'])\n",
        "y = dados['preco']"
      ],
      "metadata": {
        "id": "He7PTUvKdFry"
      },
      "execution_count": 6,
      "outputs": []
    },
    {
      "cell_type": "code",
      "source": [
        "# Conjuntos de treino e teste\n",
        "from sklearn.model_selection import train_test_split\n",
        "\n",
        "X_train, X_test, y_train, y_test = train_test_split(\n",
        "    X, y, test_size=0.3, random_state=42)"
      ],
      "metadata": {
        "id": "IIC2h0_UdTvJ"
      },
      "execution_count": 7,
      "outputs": []
    },
    {
      "cell_type": "code",
      "source": [
        "# Modelo de regressão linear\n",
        "from sklearn.linear_model import LinearRegression\n",
        "\n",
        "modelo_LR = LinearRegression()\n",
        "modelo_LR.fit(X_train, y_train)"
      ],
      "metadata": {
        "colab": {
          "base_uri": "https://localhost:8080/"
        },
        "id": "GkZ1UUAodt6Q",
        "outputId": "c5a0c991-24b3-4f78-ccd7-076cd5dd192c"
      },
      "execution_count": 8,
      "outputs": [
        {
          "output_type": "execute_result",
          "data": {
            "text/plain": [
              "LinearRegression()"
            ]
          },
          "metadata": {},
          "execution_count": 8
        }
      ]
    },
    {
      "cell_type": "code",
      "source": [
        "# Coeficientes do modelo\n",
        "modelo_LR.coef_"
      ],
      "metadata": {
        "colab": {
          "base_uri": "https://localhost:8080/"
        },
        "id": "oD7q3vTaecNA",
        "outputId": "086365e0-b0a6-41f4-cc6b-a65bd1d8321b"
      },
      "execution_count": 9,
      "outputs": [
        {
          "output_type": "execute_result",
          "data": {
            "text/plain": [
              "array([  830.00653222,   762.09006126, 25767.20537933])"
            ]
          },
          "metadata": {},
          "execution_count": 9
        }
      ]
    },
    {
      "cell_type": "code",
      "source": [
        "# Intercepto do modelo\n",
        "modelo_LR.intercept_"
      ],
      "metadata": {
        "colab": {
          "base_uri": "https://localhost:8080/"
        },
        "id": "TT0WtLIffRjU",
        "outputId": "dff509c9-0d3b-4f8c-b9b4-cacc047407d1"
      },
      "execution_count": 10,
      "outputs": [
        {
          "output_type": "execute_result",
          "data": {
            "text/plain": [
              "-1484640.8721676627"
            ]
          },
          "metadata": {},
          "execution_count": 10
        }
      ]
    },
    {
      "cell_type": "code",
      "source": [
        "modelo_LR.predict([[150, 2000, 0]])[0]"
      ],
      "metadata": {
        "colab": {
          "base_uri": "https://localhost:8080/"
        },
        "id": "--D4zUIyhCQH",
        "outputId": "48f15f6b-64e0-442d-ac50-1b0bac48c579"
      },
      "execution_count": 11,
      "outputs": [
        {
          "output_type": "stream",
          "name": "stderr",
          "text": [
            "/usr/local/lib/python3.8/dist-packages/sklearn/base.py:450: UserWarning: X does not have valid feature names, but LinearRegression was fitted with feature names\n",
            "  warnings.warn(\n"
          ]
        },
        {
          "output_type": "execute_result",
          "data": {
            "text/plain": [
              "164040.23018513736"
            ]
          },
          "metadata": {},
          "execution_count": 11
        }
      ]
    },
    {
      "cell_type": "markdown",
      "source": [
        "### <font color=orange><b>2. Inserindo na API o treinamento de um modelo</b></font>\n",
        "\n"
      ],
      "metadata": {
        "id": "6z53oWReeakI"
      }
    },
    {
      "cell_type": "markdown",
      "source": [
        "Uma das opções é inserir no script da API o código de treinamento do modelo de ML. NO entanto surge uma questão:\n",
        "\n",
        "* Deve-se colocar o desenvolvimento do modelo antes da criação da instância ou dentro de um endpoint?\n",
        "    * Se colocado dentro de um *endpoint*, ele será treinado toda vez que for solicitado um request a ele. Isso pode ser importante se for fornecido pelo usuário parâmetros ou dados para o treinamento.\n",
        "    * Se colocado antes da instância, ele será executado somente uma vez, tornando o modelo treinado acessível para consultadas. Este caso pode ser interessante quando se deseja saber somente o resultado do modelo já treinado (ou seja, será só retornado o `predict`).\n",
        "\n",
        "Esta questão afetará diretamente o tempo de resposta da API, o que irá interferir na experiência do usuário."
      ],
      "metadata": {
        "id": "v7W1iAlGf52A"
      }
    },
    {
      "cell_type": "markdown",
      "source": [
        "No código a seguir, o servidor irá antes de criar o serviço desenvolver o modelo, deixando-o salvo em um variável. Desta forma, ele estará acessível para os endpoints."
      ],
      "metadata": {
        "id": "IvmpFOtcifKt"
      }
    },
    {
      "cell_type": "markdown",
      "source": [
        "`@app.route('/cotacao/<int:tamanho>')` permite indicar o tipo de dado que deve ser enviado."
      ],
      "metadata": {
        "id": "DS-yhgn3jXfs"
      }
    },
    {
      "cell_type": "markdown",
      "source": [
        "```python\n",
        "from flask import Flask\n",
        "from textblob import TextBlob\n",
        "import pandas as pd\n",
        "from sklearn.model_selection import train_test_split\n",
        "from sklearn.linear_model import LinearRegression\n",
        "\n",
        "# MODELO\n",
        "uri_casas = 'https://raw.githubusercontent.com/alura-cursos/1576-mlops-machine-learning/aula-5/casas.csv'\n",
        "dados = pd.read_csv(uri_casas)\n",
        "colunas = ['tamanho', 'preco']\n",
        "dados = dados[colunas]\n",
        "# Variáveis Explicativas & Alvo\n",
        "X = dados.drop(columns=['preco'])\n",
        "y = dados['preco']\n",
        "X_train, X_test, y_train, y_test = train_test_split(\n",
        "    X, y, test_size=0.3, random_state=42)\n",
        "modelo_LR = LinearRegression()\n",
        "modelo_LR.fit(X_train, y_train)\n",
        "\n",
        "\n",
        "# Instância do Flask\n",
        "app = Flask(__name__)\n",
        "\n",
        "@app.route('/')  # rota básica\n",
        "def home():\n",
        "    return 'Minha primeira API!!!'\n",
        "\n",
        "@app.route('/sentimento/<frase>')  # endpoint análise de sentimento\n",
        "def sentimento(frase):\n",
        "    tb = TextBlob(frase)\n",
        "    tb_en = tb.translate(from_lang='pt', to='en')\n",
        "    polaridade =  tb_en.sentiment.polarity\n",
        "    return f\"Polaridade : {polaridade}\"\n",
        "\n",
        "@app.route('/cotacao/<int:tamanho>')\n",
        "def cotacao(tamanho):\n",
        "    preco = modelo_LR.predict([[tamanho]])[0]\n",
        "    return f'Preço do imóvel é {preco:.2f}'\n",
        "\n",
        "app.run(debug=True) \n",
        "```"
      ],
      "metadata": {
        "id": "c1cw4a3Sl40a"
      }
    },
    {
      "cell_type": "markdown",
      "source": [
        "**TESTE**\n",
        "\n",
        "`http://127.0.0.1:5000/cotacao/120`"
      ],
      "metadata": {
        "id": "5qAmuzxUkTRD"
      }
    },
    {
      "cell_type": "markdown",
      "source": [
        "## <font color=orange><b>D. Múltiplos parâmetros de entrada (POST)</b></font>\n",
        "\n"
      ],
      "metadata": {
        "id": "A9pIdR4hlKNN"
      }
    },
    {
      "cell_type": "markdown",
      "source": [
        "Mas para enviar uma sequência de variáveis através do *request* podemos usar o ***payload***. Nesta estratégia é enviado um objeto no estilo de um JSON com as variáveis. Assim, não será enviado na URL as variáveis, mas uma request **POST**"
      ],
      "metadata": {
        "id": "dyLvt0AMULTe"
      }
    },
    {
      "cell_type": "markdown",
      "source": [
        "```json\n",
        "{\n",
        "    \"tamanho\": 150,\n",
        "    \"ano\":2000,\n",
        "    \"garagem\":0\n",
        "}\n",
        "```\n",
        "\n",
        "* Normalmente não aceita aspas simples\n",
        "* No desenvolvimento web é comum a comunicação através de JSON, tanto para enviar dados no POST como para receber dados no GET."
      ],
      "metadata": {
        "id": "MpHsL8UUUzjY"
      }
    },
    {
      "cell_type": "markdown",
      "source": [
        "```python\n",
        "import flask\n",
        "from textblob import TextBlob\n",
        "import pandas as pd\n",
        "from sklearn.model_selection import train_test_split\n",
        "from sklearn.linear_model import LinearRegression\n",
        "\n",
        "# MODELO\n",
        "uri_casas = 'https://raw.githubusercontent.com/alura-cursos/1576-mlops-machine-learning/aula-5/casas.csv'\n",
        "dados = pd.read_csv(uri_casas)\n",
        "colunas = ['tamanho', 'ano', 'garagem']\n",
        "\n",
        "# Variáveis Explicativas & Alvo\n",
        "X = dados.drop(columns=['preco'])\n",
        "y = dados['preco']\n",
        "X_train, X_test, y_train, y_test = train_test_split(\n",
        "    X, y, test_size=0.3, random_state=42)\n",
        "modelo_LR = LinearRegression()\n",
        "modelo_LR.fit(X_train, y_train)\n",
        "\n",
        "\n",
        "# Instância do Flask\n",
        "app = flask.Flask(__name__)\n",
        "\n",
        "@app.route('/')  # rota básica\n",
        "def home():\n",
        "    return 'Minha primeira API!!!'\n",
        "\n",
        "@app.route('/sentimento/<frase>')  # endpoint análise de sentimento\n",
        "def sentimento(frase):\n",
        "    tb = TextBlob(frase)\n",
        "    tb_en = tb.translate(from_lang='pt', to='en')\n",
        "    polaridade =  tb_en.sentiment.polarity\n",
        "    return f\"Polaridade : {polaridade}\"\n",
        "\n",
        "@app.route('/cotacao/', methods=['POST'])\n",
        "def cotacao():\n",
        "    params = flask.request.get_json()\n",
        "    param_input = [parms[col] for col in colunas]  # ordenamento correto dos parâmetros\n",
        "    preco = modelo_LR.predict([param_input])\n",
        "    return flask.jsonify(preco=preco[0])\n",
        "\n",
        "app.run(debug=True) \n",
        "```"
      ],
      "metadata": {
        "id": "dPZK238olJvF"
      }
    },
    {
      "cell_type": "markdown",
      "source": [
        "> * `params = flask.request.get_json()` lê o JSON enviado no payload\n",
        "> * `param_input = [parms[col] for col in colunas]` ordena os valores dos parâmetros recebido no JSON"
      ],
      "metadata": {
        "id": "cJNRcj6dlUps"
      }
    },
    {
      "cell_type": "markdown",
      "source": [
        "> * `return flask.jsonify(preco=preco[0])` retorna um JSON"
      ],
      "metadata": {
        "id": "JWO-d81hlOpP"
      }
    },
    {
      "cell_type": "markdown",
      "source": [
        "**TESTE**\n",
        "\n",
        "Para testar um POST request pode-se usar o Postman.\n",
        "\n",
        "`http://127.0.0.1:5000/cotacao/`\n",
        "\n",
        "* HEADERS > Key > Content-Type: application/JSON\n",
        "* BODY > Raw > copiar o JSON\n",
        "\n",
        "```json\n",
        "{\n",
        "    \"tamanho\": 150,\n",
        "    \"ano\":2000,\n",
        "    \"garagem\":0\n",
        "}\n",
        "```\n"
      ],
      "metadata": {
        "id": "dHNhXpK8kS7e"
      }
    },
    {
      "cell_type": "markdown",
      "source": [
        "## <font color=orange><b>E. Serialização</b></font>\n",
        "\n",
        "A serialização é o processo de transformar um modelo do desenvolvimento em um arquivo que poderá ser carregado na produção. A vantagem desta estratégia é agilizar o processo de execução da API, garantire que o modelo na produção é o mesmo do desenvolvimento e facilitar o processo de atualização do modelo de produção.\n",
        "\n",
        "O termo serialização refere-se ao processo de transformar um objeto Python em um arquivo binário.\n"
      ],
      "metadata": {
        "id": "Ptv7S1f1nLYR"
      }
    },
    {
      "cell_type": "code",
      "source": [
        "import pickle\n",
        "\n",
        "pickle.dump(modelo_LR, open('modelo.sav', 'wb'))"
      ],
      "metadata": {
        "id": "7nc8tSHonkzw"
      },
      "execution_count": 12,
      "outputs": []
    },
    {
      "cell_type": "code",
      "source": [
        "from google.colab import files\n",
        "files.download('modelo.sav')"
      ],
      "metadata": {
        "colab": {
          "base_uri": "https://localhost:8080/",
          "height": 17
        },
        "id": "vThKOd_sn7lg",
        "outputId": "8447c050-de7a-465a-85b0-37e6c3ca41cd"
      },
      "execution_count": 14,
      "outputs": [
        {
          "output_type": "display_data",
          "data": {
            "text/plain": [
              "<IPython.core.display.Javascript object>"
            ],
            "application/javascript": [
              "\n",
              "    async function download(id, filename, size) {\n",
              "      if (!google.colab.kernel.accessAllowed) {\n",
              "        return;\n",
              "      }\n",
              "      const div = document.createElement('div');\n",
              "      const label = document.createElement('label');\n",
              "      label.textContent = `Downloading \"${filename}\": `;\n",
              "      div.appendChild(label);\n",
              "      const progress = document.createElement('progress');\n",
              "      progress.max = size;\n",
              "      div.appendChild(progress);\n",
              "      document.body.appendChild(div);\n",
              "\n",
              "      const buffers = [];\n",
              "      let downloaded = 0;\n",
              "\n",
              "      const channel = await google.colab.kernel.comms.open(id);\n",
              "      // Send a message to notify the kernel that we're ready.\n",
              "      channel.send({})\n",
              "\n",
              "      for await (const message of channel.messages) {\n",
              "        // Send a message to notify the kernel that we're ready.\n",
              "        channel.send({})\n",
              "        if (message.buffers) {\n",
              "          for (const buffer of message.buffers) {\n",
              "            buffers.push(buffer);\n",
              "            downloaded += buffer.byteLength;\n",
              "            progress.value = downloaded;\n",
              "          }\n",
              "        }\n",
              "      }\n",
              "      const blob = new Blob(buffers, {type: 'application/binary'});\n",
              "      const a = document.createElement('a');\n",
              "      a.href = window.URL.createObjectURL(blob);\n",
              "      a.download = filename;\n",
              "      div.appendChild(a);\n",
              "      a.click();\n",
              "      div.remove();\n",
              "    }\n",
              "  "
            ]
          },
          "metadata": {}
        },
        {
          "output_type": "display_data",
          "data": {
            "text/plain": [
              "<IPython.core.display.Javascript object>"
            ],
            "application/javascript": [
              "download(\"download_feed9585-c8a3-4d03-ac7d-9456a8f70c2b\", \"modelo.sav\", 620)"
            ]
          },
          "metadata": {}
        }
      ]
    },
    {
      "cell_type": "markdown",
      "source": [
        "### <font color=orange><b>Verificação dos modelos</b></font>\n",
        "\n",
        "É muito comum ocorrer problemas na transição do modelo de desenvolvimento para o modelo de produção. Um dos erros mais comuns é a incompatibilidade entre versões, que possuem depedências diferentes.\n",
        "\n"
      ],
      "metadata": {
        "id": "EeSbURgZpiRD"
      }
    },
    {
      "cell_type": "markdown",
      "source": [
        "Então é sempre recomendado verificar o modelo usado no desenvolvimento e especificar o modelo na produção."
      ],
      "metadata": {
        "id": "uUycSzkyp_W1"
      }
    },
    {
      "cell_type": "code",
      "source": [
        "import sklearn\n",
        "sklearn.__version__"
      ],
      "metadata": {
        "colab": {
          "base_uri": "https://localhost:8080/",
          "height": 35
        },
        "id": "q6lEDydop6DS",
        "outputId": "d7a7b04e-19be-4de4-969f-11343031ba4e"
      },
      "execution_count": 15,
      "outputs": [
        {
          "output_type": "execute_result",
          "data": {
            "text/plain": [
              "'1.0.2'"
            ],
            "application/vnd.google.colaboratory.intrinsic+json": {
              "type": "string"
            }
          },
          "metadata": {},
          "execution_count": 15
        }
      ]
    },
    {
      "cell_type": "markdown",
      "source": [
        "No servidor do Cobal temos a versão 1.0.2, já na máquina local ptemos a versão 1.2.0. Para resolver podemos ajustar manualmente ou criar um ambiente virtual especificiando as dependências."
      ],
      "metadata": {
        "id": "QyL7cc9Tqfdm"
      }
    },
    {
      "cell_type": "markdown",
      "source": [
        "A. Ajuste manual: `pip install -U scikit-learn==1.0.2`"
      ],
      "metadata": {
        "id": "5Y71aJhsqxiH"
      }
    },
    {
      "cell_type": "markdown",
      "source": [
        "### <font color=orange><b>Script de produção</b></font>\n",
        "\n",
        "\n"
      ],
      "metadata": {
        "id": "zJkIPKWSsiIG"
      }
    },
    {
      "cell_type": "markdown",
      "source": [
        "Arquivo `main.py`\n",
        "\n",
        "```python\n",
        "import flask\n",
        "from textblob import TextBlob\n",
        "from sklearn.linear_model import LinearRegression\n",
        "import pickle\n",
        "\n",
        "# MODELO\n",
        "modelo_LR = pickle.load(open('modelo.sav', 'rb'))\n",
        "colunas = ['tamanho', 'ano', 'garagem']\n",
        "\n",
        "\n",
        "# Instância do Flask\n",
        "app = flask.Flask(__name__)\n",
        "\n",
        "@app.route('/')  # rota básica\n",
        "def home():\n",
        "    return 'Minha primeira API!!!'\n",
        "\n",
        "@app.route('/sentimento/<frase>')  # endpoint análise de sentimento\n",
        "def sentimento(frase):\n",
        "    tb = TextBlob(frase)\n",
        "    tb_en = tb.translate(from_lang='pt', to='en')\n",
        "    polaridade =  tb_en.sentiment.polarity\n",
        "    return f\"Polaridade : {polaridade}\"\n",
        "\n",
        "@app.route('/cotacao/', methods=['POST'])\n",
        "def cotacao():\n",
        "    params = flask.request.get_json()\n",
        "    param_input = [params[col] for col in colunas]\n",
        "    preco = modelo_LR.predict([param_input])\n",
        "    return flask.jsonify(preco=preco[0])\n",
        "\n",
        "app.run(debug=True) \n",
        "```"
      ],
      "metadata": {
        "id": "4oVMxzgpsPTn"
      }
    },
    {
      "cell_type": "markdown",
      "source": [
        "## <font color=orange><b>D. Autenticação (Basic-Auth)</b></font>\n",
        "\n",
        "Ao consumir uma API pode ser interessante ter o recurso de autenticação para limitar o acesso dela.\n",
        "\n",
        "Aqui será demonstrado um exemplo de autenticação básica (Basic auth). O requisito será somente a solicitação de usuário e senha.\n",
        "\n",
        "Como fazer uma chamada HTTP com uma autenticação básica.\n"
      ],
      "metadata": {
        "id": "THfZP-Dss7RY"
      }
    },
    {
      "cell_type": "markdown",
      "source": [
        "`pip install flask-basicauth`"
      ],
      "metadata": {
        "id": "IgFAkWrfDWNN"
      }
    },
    {
      "cell_type": "markdown",
      "source": [
        "**TESTE**\n",
        "\n",
        "`http://127.0.0.1:5000/sentimento/Python é ótimo`\n",
        "\n",
        "* O Browser irá pedir a autenticação através de um Prompt.\n",
        "* Depois ficará salvo em Cache\n",
        "* Caso seja feita uma chamada sem as credenciais corretas será retornado a resposta HTTP 401 ('Unauthorized')\n",
        "* \n",
        "\n",
        "No Postman é preciso adicionar as credenciais na aba Autorização > Basic Auth."
      ],
      "metadata": {
        "id": "o6VLhTElGGNX"
      }
    },
    {
      "cell_type": "markdown",
      "source": [
        "## <font color=orange><b>E. Requisição com Python.Requests</b></font>\n",
        "\n"
      ],
      "metadata": {
        "id": "lZIfnyvAhW6N"
      }
    },
    {
      "cell_type": "markdown",
      "source": [
        "Uma das formas de consultar as PI é através do próprio Python. A biblioteca `Requests`auxilia muito o processo de interação web, das chamadas HTTP."
      ],
      "metadata": {
        "id": "urLZzah0i7a7"
      }
    },
    {
      "cell_type": "markdown",
      "source": [
        "**Instalar a biblioteca de requests**\n",
        "\n",
        "`pip install requests`"
      ],
      "metadata": {
        "id": "9Li255Eniqtw"
      }
    },
    {
      "cell_type": "code",
      "source": [
        "import requests\n",
        "\n",
        "url = 'http://127.0.0.1:5000/cotacao/'\n",
        "payload = {\"tamanho\": 150, \"ano\":2000, \"garagem\":0}\n",
        "auth = requests.auth.HTTPBasicAuth('usuario', 'senha')\n",
        "\n",
        "# url + data + json\n",
        "response = requests.post(url, json=payload)\n",
        "response = requests.post(url, json=payload, auth=auth)"
      ],
      "metadata": {
        "id": "4aOwD47qjLT1"
      },
      "execution_count": 19,
      "outputs": []
    },
    {
      "cell_type": "code",
      "source": [
        "import flask\n",
        "from flask_basicauth import BasicAuth\n",
        "from textblob import TextBlob\n",
        "from sklearn.linear_model import LinearRegression\n",
        "import pickle\n",
        "\n",
        "# MODELO\n",
        "modelo_LR = pickle.load(open('modelo.sav', 'rb'))\n",
        "colunas = ['tamanho', 'ano', 'garagem']\n",
        "\n",
        "\n",
        "# Instância do Flask\n",
        "app = flask.Flask(__name__)\n",
        "# Basic Auth (este exemplo é meramente didático, pois há medidas de maior segurança)\n",
        "app.config['BASIC_AUTH_USERNAME'] = 'usuario'\n",
        "app.config['BASIC_AUTH_PASSWORD'] = 'senha'\n",
        "\n",
        "basic_auth = BasicAuth(app)  # implementação da Basic Auth\n",
        "\n",
        "@app.route('/')  # rota básica\n",
        "def home():\n",
        "    return 'Minha primeira API!!!'\n",
        "\n",
        "@app.route('/sentimento/<frase>')\n",
        "@basic_auth.required  # exigência de Autenticação (username, password)\n",
        "def sentimento(frase):\n",
        "    tb = TextBlob(frase)\n",
        "    tb_en = tb.translate(from_lang='pt', to='en')\n",
        "    polaridade =  tb_en.sentiment.polarity\n",
        "    VAR_STR = f\"{tb}<br>{tb_en}<br> Polaridade: {polaridade:.2f}\"\n",
        "    return VAR_STR\n",
        "\n",
        "@app.route('/cotacao/', methods=['POST'])\n",
        "@basic_auth.required \n",
        "def cotacao():\n",
        "    params = flask.request.get_json()\n",
        "    param_input = [params[col] for col in colunas]\n",
        "    preco = modelo_LR.predict([param_input])\n",
        "    return flask.jsonify(preco=preco[0])\n",
        "\n",
        "app.run(debug=True) "
      ],
      "metadata": {
        "id": "XCrrtTL5uiuk"
      },
      "execution_count": null,
      "outputs": []
    },
    {
      "cell_type": "markdown",
      "source": [
        "Em uma janela CMD para rodar o python e ter acesso à máquina local podemos executar o código a seguir. Isso é necessário, pois o Colab não possui acesso à máquina local.\n",
        "\n",
        "```python\n",
        ">>> import requests\n",
        ">>> import requests\n",
        ">>>\n",
        ">>> url = 'http://127.0.0.1:5000/cotacao/'\n",
        ">>> payload = {\"tamanho\": 150, \"ano\":2000, \"garagem\":0}\n",
        ">>>\n",
        ">>> # url + data + json\n",
        ">>> response = requests.post(url, json=payload)\n",
        ">>> response\n",
        "<Response [401]>\n",
        "\n",
        ">>> auth = requests.auth.HTTPBasicAuth('usuario', 'senha')\n",
        ">>> response = requests.post(url, json=payload, auth=auth)\n",
        ">>> response\n",
        "<Response [200]>\n",
        "\n",
        ">>> response.text\n",
        "'{\\n  \"preco\": 164040.23018513736\\n}\\n'\n",
        "\n",
        ">>> response.content\n",
        "b'{\\n  \"preco\": 164040.23018513736\\n}\\n'\n",
        "\n",
        ">>> response.json\n",
        "<bound method Response.json of <Response [200]>>\n",
        "\n",
        ">>> response.json()\n",
        "{'preco': 164040.23018513736}\n",
        "\n",
        "\n",
        "```"
      ],
      "metadata": {
        "id": "LVCu50t4ka62"
      }
    },
    {
      "cell_type": "markdown",
      "source": [
        "## <font color=orange><b>F. Ambiente Virtual</b></font>\n",
        "\n"
      ],
      "metadata": {
        "id": "69nf-2rJmk0J"
      }
    },
    {
      "cell_type": "markdown",
      "source": [
        "É comum que um projeto de DS tenha diversos ambientes computacionais. O ambiente de desenvolvimento, no Colab (uma plataforma na nuvem), com diversas ferramentas instaladas. \n",
        "\n",
        "Outro ambiente, o de produção, possui outro conjunto de ferramentas e frameworks disponível. E há casos que podem ter mais outros ambientes. \n",
        "\n",
        "Para compatibilizá-los é preciso a verificação de diversos atributos desses ambientes. Um deles é o conjunto de dependências dos frameworks, ou seja, é importante que todas as bibliotecas necessárias estejam disponíveis. Um outro atributo importante dessas bibliotecas é a execução da mesma versão. Isso garante a mesma execução e cálculo dos processos."
      ],
      "metadata": {
        "id": "QVXtEvTDnNao"
      }
    },
    {
      "cell_type": "markdown",
      "source": [
        "Uma solução é a criação de ambientes virtuais. Eles permitem o empacotamento dos frameworks python."
      ],
      "metadata": {
        "id": "aMygQhcRol91"
      }
    },
    {
      "cell_type": "markdown",
      "source": [
        "1. Criação do Ambiente de Desenvolvimento\n",
        "\n",
        "```bash\n",
        "# Instalação do Virtual Environment\n",
        "pip instal virtualenv\n",
        "```"
      ],
      "metadata": {
        "id": "KCJWiaFsnMrO"
      }
    },
    {
      "cell_type": "markdown",
      "source": [
        "2. Execução de um ambiente\n",
        "\n",
        "```bash\n",
        "# Virtual Environment\n",
        "python -m venv venv\n",
        "# ou\n",
        "virtualenv venv\n",
        "```"
      ],
      "metadata": {
        "id": "81lCQCo0sD0I"
      }
    },
    {
      "cell_type": "markdown",
      "source": [
        "Salvando em um arquivo todas as dependências e suas versões:\n",
        "\n",
        "`pip freeze > requirements.txt`"
      ],
      "metadata": {
        "id": "Tc0KQ6oYr2cK"
      }
    },
    {
      "cell_type": "markdown",
      "source": [
        "Instalando as dependências a partir de um arquivo de requisitos:\n",
        "\n",
        "`pip install -r requirements.txt`"
      ],
      "metadata": {
        "id": "LJMbRsLlr3ck"
      }
    },
    {
      "cell_type": "markdown",
      "source": [
        "---\n",
        "\n",
        "1. Criação de API simples só de Home\n",
        "2. Execução de função e envio de parâmetro na URL\n",
        "3. Novos endpoints\n",
        "4. Execução do treinamento do modelo em Endpoint ou na inicialização\n",
        "5. Recebimento de diversos parâmetros através de Payload (POST)\n",
        "6. Serialização do modelo\n",
        "    * Verificação das versões\n",
        "7. Autenticação básica do acesso\n",
        "8. Solicitações com Python Requests\n",
        "9. Ambientes virtuais e dependências"
      ],
      "metadata": {
        "id": "fdCQw5C7l5B3"
      }
    },
    {
      "cell_type": "markdown",
      "source": [
        "**Requisição de um conjunto**\n",
        "\n",
        "[\n",
        "{ \"tamanho\": 120, \"ano\": 2002, \"garagem\":1 },\n",
        "{ \"tamanho\": 100, \"ano\": 2005, \"garagem\":0 },\n",
        "{ \"tamanho\": 75, \"ano\": 2000, \"garagem\":2 }\n",
        "]\n",
        "\n",
        "\n",
        "{ \"tamanho\": [120,100,75], \"ano\": [2002,2005,2000], \"garagem\":[1,0,2] }"
      ],
      "metadata": {
        "id": "3X-x_qxOs3qR"
      }
    }
  ]
}