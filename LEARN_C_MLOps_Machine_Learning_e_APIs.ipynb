{
  "nbformat": 4,
  "nbformat_minor": 0,
  "metadata": {
    "colab": {
      "provenance": [],
      "toc_visible": true,
      "authorship_tag": "ABX9TyN5E6q7E33cNXtAqTAer3qD",
      "include_colab_link": true
    },
    "kernelspec": {
      "name": "python3",
      "display_name": "Python 3"
    },
    "language_info": {
      "name": "python"
    }
  },
  "cells": [
    {
      "cell_type": "markdown",
      "metadata": {
        "id": "view-in-github",
        "colab_type": "text"
      },
      "source": [
        "<a href=\"https://colab.research.google.com/github/mbaliu-treino/Desenvolve/blob/main/LEARN_C_MLOps_Machine_Learning_e_APIs.ipynb\" target=\"_parent\"><img src=\"https://colab.research.google.com/assets/colab-badge.svg\" alt=\"Open In Colab\"/></a>"
      ]
    },
    {
      "cell_type": "markdown",
      "source": [
        "# <font color=orange><b>MLOps: Machine Learning e APIs</b></font>\n",
        "\n",
        "<a href=\"https://colab.research.google.com/drive/1Fa9x-y8pfy5yKEg825eUdVlE2I4Chm4o?authuser=1\"><font size=2; color=gray>Arquivo Colab</a></font>\n",
        "\n",
        "<ul><font size=2 color=gray>FICHA TÉCNICA\n",
        "<li><a href=\"https://cursos.alura.com.br/course/mlops-machine-learning-e-apis\"><font size=2 color=gray>MLOps: Machine Learning e APIs</a>\n",
        "<li>Carga Horária: 10 h\n",
        "<li>Instrutora: Júlio Oliveira\n",
        "<li>Data de Início: 01-2023\n",
        "</ul>\n",
        "\n",
        "\n"
      ],
      "metadata": {
        "id": "JSeHxPLGhvUz"
      }
    },
    {
      "cell_type": "markdown",
      "source": [
        "Nesta aula é abordado uma estratégia de MLOps, etapa de disponibilização de um modelo finalizado, utilizando o framework do Flask."
      ],
      "metadata": {
        "id": "sXTG_jOm8Zk1"
      }
    },
    {
      "cell_type": "markdown",
      "source": [
        "## <font color=orange><b>Conteúdo</b></font>\n",
        "\n",
        "* <font color=orange>Conceitos</font>\n",
        "\n",
        "* "
      ],
      "metadata": {
        "id": "Rs0aFUuS6P56"
      }
    },
    {
      "cell_type": "markdown",
      "source": [
        "1. Desenvolvimento de API Rest\n",
        "2. Incremento das API\n",
        "3. Implementação do modelo \n",
        "4. Teste da API\n",
        "    * Postme\n",
        "    * Requests do Python"
      ],
      "metadata": {
        "id": "ce0OAnj_ailS"
      }
    },
    {
      "cell_type": "markdown",
      "source": [
        "# <font color=orange><b>CURSO</b></font>\n"
      ],
      "metadata": {
        "id": "ARUfEjcsnUvf"
      }
    },
    {
      "cell_type": "markdown",
      "source": [
        "O MLOps é a etapa que vem após a conclusão do modelo. Então vem a etapa de tornar acessível o modelo para outros usuários."
      ],
      "metadata": {
        "id": "T0HnoUK08InE"
      }
    },
    {
      "cell_type": "markdown",
      "source": [
        "O processo investigativo do cientista de dados é muit acadêmico, buscando novos bases de dados, inseights dentro dos dados, quais são os melhores parâmetros para modelo, como está a performance preditiva do modelo. Muitas vezes o trabalho termina nesta etapa, após a conclusão investigativa.\n",
        "\n",
        "Mas em outras situações deseja-se usar o modelo criado no dia-a-dia e disponibilizá-lo para outros usuários poderem usar o conhecimento gerado. Este tópico faz parte da preocupação da melhor solução para entrega de software. Esta preocupação faz parte da **cultura DevOps**. \n",
        "\n",
        "Esta cultura trata de todos os passos, tecnologias, processos e pessoas do desenvolvimento até a operação:\n",
        "\n",
        "* Deploy\n",
        "* Operate\n",
        "* Integration\n",
        "* Continuous\n",
        "* Build\n",
        "* Plan\n",
        "* Continuous feedback\n",
        "\n",
        "A necessidade da nova escala dos modelos de ML, o MLOps (Machine Learning Operations) surge com a preocupação de tornar o desenvolvimento dos modelos mais robustos e acessíveis."
      ],
      "metadata": {
        "id": "Tv8-4NoG9YOs"
      }
    },
    {
      "cell_type": "markdown",
      "source": [
        "## <font color=orange><b>Dados no Looker Studio</b></font>\n",
        "\n",
        "O ambiente de desenvolvimento é o conjunto de ferramentas necessárias para a criação e execução dos códigos de programação.\n",
        "\n",
        "1. Criar > Fontes de Dados\n",
        "2. GOOGLE CONNECTORS: Origem dos dados\n",
        "    - Big Query\n",
        "3. TABELA DE FONTE\n",
        "    1. Selecionar Projeto\n",
        "    2. Selecionar Dataset (Conjunto de dados)\n",
        "    3. Selecionar Tabela (WD)\n",
        "    4. Nome (Conexão com o DW Big Query - BitByte) e Conectar"
      ],
      "metadata": {
        "id": "SqgzolEMwiIT"
      }
    }
  ]
}