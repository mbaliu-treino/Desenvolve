{
  "nbformat": 4,
  "nbformat_minor": 0,
  "metadata": {
    "colab": {
      "provenance": [],
      "collapsed_sections": [],
      "toc_visible": true,
      "authorship_tag": "ABX9TyMy+gxjASDUGhaAL1D9Axgb",
      "include_colab_link": true
    },
    "kernelspec": {
      "name": "python3",
      "display_name": "Python 3"
    },
    "language_info": {
      "name": "python"
    }
  },
  "cells": [
    {
      "cell_type": "markdown",
      "metadata": {
        "id": "view-in-github",
        "colab_type": "text"
      },
      "source": [
        "<a href=\"https://colab.research.google.com/github/mbaliu-treino/Desenvolve/blob/main/LEARN_C_DL_Keras_II.ipynb\" target=\"_parent\"><img src=\"https://colab.research.google.com/assets/colab-badge.svg\" alt=\"Open In Colab\"/></a>"
      ]
    },
    {
      "cell_type": "markdown",
      "source": [
        "# <font color=orange><b>Deep Learning parte 2: como a rede aprende</b></font>\n",
        "\n",
        "<font color=gray size=2><a href=https://colab.research.google.com/drive/1sshG2ikYZgvUjJWqZKKV8-7lHmTBRPE1>Arquivo Colab</a>; <a href=https://colab.research.google.com/drive/1xdfjvlDEZdxH8IrRHtVXvVKx_H-1T-HC>Parte I</a></font>\n",
        "\n",
        "<ul><font size=2 color=gray>FICHA TÉCNICA\n",
        "<li><a href=https://cursos.alura.com.br/course/deep-learning-como-a-rede-aprende><font size=2 color=gray>Deep Learning parte 2: como a rede aprende</a>\n",
        "<li>Carga Horária: 6 h\n",
        "<li>Instrutora: Cássia Sampaio\n",
        "<li>Data de Início: 08-2022\n",
        "</ul>\n",
        "\n",
        "<hr color=gray><br>\n",
        "<h3><b>Conteúdo / Aprendizagem:</b></h3>\n",
        "\n",
        "- "
      ],
      "metadata": {
        "id": "JSeHxPLGhvUz"
      }
    },
    {
      "cell_type": "markdown",
      "source": [
        "# <font color=orange>RESUMO</font>\n",
        "\n",
        "<a href=https://docs.google.com/spreadsheets/d/1tTygYlq9r7nkUsw9a25N5_z57-de_59tSBCIVPw6KUw><font size=2 color=gray>ROTEIROS Data Science</font></a>\n",
        "\n",
        "* <font color=orange><b>\n",
        "\n",
        "* "
      ],
      "metadata": {
        "id": "XLGw5JrFFY8e"
      }
    },
    {
      "cell_type": "markdown",
      "source": [
        "# <font color=orange>**CURSO I**</font>\n"
      ],
      "metadata": {
        "id": "AGVggbpvRpHf"
      }
    },
    {
      "cell_type": "code",
      "source": [
        "import tensorflow\n",
        "from tensorflow import keras\n",
        "import matplotlib.pyplot as plt\n",
        "import numpy as np"
      ],
      "metadata": {
        "id": "4_c4ZEMdrg_M"
      },
      "execution_count": null,
      "outputs": []
    },
    {
      "cell_type": "code",
      "source": [
        "# DADOS\n",
        "dataset = keras.datasets.fashion_mnist\n",
        "(imagens_treino, identificadores_treino), (imagens_teste, identificadores_teste) = dataset.load_data()\n",
        "\n",
        "# DICIONÁRIO DE CLASSES\n",
        "nomes_classes = {\n",
        "    0: 'Camiseta', 1: 'Calça', 2: 'Pullover', 3: 'Vestido', \n",
        "    4: 'Casaco', 5: 'Sandália', 6: 'Camisa', 7: 'tênis', \n",
        "    8: 'Bolsa', 9: 'Bota'}\n",
        "\n",
        "# MODELO\n",
        "# Normalização\n",
        "imagens_treino_norm = imagens_treino/255.0\n",
        "\n",
        "modelo = keras.Sequential([\n",
        "    keras.layers.Flatten(input_shape = (28,28)),  # Entrada\n",
        "    keras.layers.Dense(256, activation=tensorflow.nn.relu),  # Camada 1\n",
        "    keras.layers.Dropout(0.2),  # Camada 2\n",
        "    keras.layers.Dense(128, activation=tensorflow.nn.relu),  # Camada 3\n",
        "    keras.layers.Dense(10, activation=tensorflow.nn.softmax)  # Camada 4 - saída\n",
        "])\n",
        "\n",
        "# Compilação\n",
        "modelo.compile(\n",
        "    optimizer='adam', \n",
        "    loss='sparse_categorical_crossentropy',\n",
        "    metrics=['accuracy'])\n",
        "\n",
        "# Treino e histórico da rede\n",
        "%time historico = modelo.fit(imagens_treino_norm, identificadores_treino, epochs=7, validation_split=0.2)"
      ],
      "metadata": {
        "id": "PDHLY45ItyhE"
      },
      "execution_count": null,
      "outputs": []
    },
    {
      "cell_type": "markdown",
      "source": [
        "# <font color=orange>**CURSO**</font>\n",
        "\n",
        "**Projeto**: \n",
        "\n",
        "<font color=orange></font>"
      ],
      "metadata": {
        "id": "jgg2XMw1vEs_"
      }
    },
    {
      "cell_type": "markdown",
      "source": [
        "Na aprendizagem profunda, as redes aprendem com a transmissão de valores da camada de entrada até a camada de saída. Esse fluxo é chamado de *propagação* (<font color=orange>*forward propagation*</font>).\n",
        "\n",
        "Mas as redes neurais também aprendem com o fluxo no sentido contrário, chamado de retropropagação (<font color=orange>*backpropagation*</font>)."
      ],
      "metadata": {
        "id": "xW-XDsxdsX-m"
      }
    },
    {
      "cell_type": "markdown",
      "source": [
        "No processo de treinamento o Keras atribui <font color=orange>pesos</font> aos neurônios que são mais significativos para o resultado de maior probabilidade. Todo esse processo é uma sequencia de multiplicações de matrizes.\n",
        "\n",
        "> \"Os pesos “privilegiam” aspectos das nossas imagens que as diferem umas das outras.\"\n",
        "\n"
      ],
      "metadata": {
        "id": "RJbp5AjUw6bC"
      }
    },
    {
      "cell_type": "markdown",
      "source": [
        "<font color=orange>[+mínimo global e locais, análise das perdas]</font>\n",
        "\n",
        "<font color=orange>**Modelo ótimo**</font>: A escolha de um algorítmo de otimização e a obtenção do mínimo global com uma boa acurácia é o que define a qualidade de um modelo, sendo falado que o \"modelo convergiu\"."
      ],
      "metadata": {
        "id": "dCdgZ_QGMuNC"
      }
    },
    {
      "cell_type": "markdown",
      "source": [
        "<a href=https://github.com/cassiass/keras-tensorflow-2/blob/master/Segundo_projeto_aula5.ipynb><font size=2; color=gray>Material de referencial do curso</a></font>"
      ],
      "metadata": {
        "id": "bzJUWzHnlbP_"
      }
    },
    {
      "cell_type": "markdown",
      "source": [
        "## <font color=orange>Descrição do Modelo</font>\n",
        "\n",
        "Cada parâmetro é a conexão de um neurônio com outro. O seu conjunto forma a ideia de redes neurais. O número de Parâmetros de uma camada dense é $(n_{input} + 1)*n_{dense}$.\n",
        "\n",
        "Este 1 é do vetor de vieses.\n",
        "\n"
      ],
      "metadata": {
        "id": "uawszIdw0Ys_"
      }
    },
    {
      "cell_type": "code",
      "source": [
        "# Descrição do modelo\n",
        "sumario_do_modelo = modelo.summary()"
      ],
      "metadata": {
        "colab": {
          "base_uri": "https://localhost:8080/"
        },
        "id": "FNukBcscuzqC",
        "outputId": "58903a50-7c5d-4e01-d946-46947a8adf9e"
      },
      "execution_count": null,
      "outputs": [
        {
          "output_type": "stream",
          "name": "stdout",
          "text": [
            "Model: \"sequential\"\n",
            "_________________________________________________________________\n",
            " Layer (type)                Output Shape              Param #   \n",
            "=================================================================\n",
            " flatten (Flatten)           (None, 784)               0         \n",
            "                                                                 \n",
            " dense (Dense)               (None, 256)               200960    \n",
            "                                                                 \n",
            " dropout (Dropout)           (None, 256)               0         \n",
            "                                                                 \n",
            " dense_1 (Dense)             (None, 128)               32896     \n",
            "                                                                 \n",
            " dense_2 (Dense)             (None, 10)                1290      \n",
            "                                                                 \n",
            "=================================================================\n",
            "Total params: 235,146\n",
            "Trainable params: 235,146\n",
            "Non-trainable params: 0\n",
            "_________________________________________________________________\n"
          ]
        }
      ]
    },
    {
      "cell_type": "code",
      "source": [
        "# Configurações do modelo\n",
        "modelo.get_config()"
      ],
      "metadata": {
        "colab": {
          "base_uri": "https://localhost:8080/"
        },
        "id": "jNHMoSBhFM13",
        "outputId": "e37f5381-d80c-4142-e6f1-74c3fa4b1630"
      },
      "execution_count": null,
      "outputs": [
        {
          "output_type": "execute_result",
          "data": {
            "text/plain": [
              "{'name': 'sequential',\n",
              " 'layers': [{'class_name': 'InputLayer',\n",
              "   'config': {'batch_input_shape': (None, 28, 28),\n",
              "    'dtype': 'float32',\n",
              "    'sparse': False,\n",
              "    'ragged': False,\n",
              "    'name': 'flatten_input'}},\n",
              "  {'class_name': 'Flatten',\n",
              "   'config': {'name': 'flatten',\n",
              "    'trainable': True,\n",
              "    'batch_input_shape': (None, 28, 28),\n",
              "    'dtype': 'float32',\n",
              "    'data_format': 'channels_last'}},\n",
              "  {'class_name': 'Dense',\n",
              "   'config': {'name': 'dense',\n",
              "    'trainable': True,\n",
              "    'dtype': 'float32',\n",
              "    'units': 256,\n",
              "    'activation': 'relu',\n",
              "    'use_bias': True,\n",
              "    'kernel_initializer': {'class_name': 'GlorotUniform',\n",
              "     'config': {'seed': None}},\n",
              "    'bias_initializer': {'class_name': 'Zeros', 'config': {}},\n",
              "    'kernel_regularizer': None,\n",
              "    'bias_regularizer': None,\n",
              "    'activity_regularizer': None,\n",
              "    'kernel_constraint': None,\n",
              "    'bias_constraint': None}},\n",
              "  {'class_name': 'Dropout',\n",
              "   'config': {'name': 'dropout',\n",
              "    'trainable': True,\n",
              "    'dtype': 'float32',\n",
              "    'rate': 0.2,\n",
              "    'noise_shape': None,\n",
              "    'seed': None}},\n",
              "  {'class_name': 'Dense',\n",
              "   'config': {'name': 'dense_1',\n",
              "    'trainable': True,\n",
              "    'dtype': 'float32',\n",
              "    'units': 128,\n",
              "    'activation': 'relu',\n",
              "    'use_bias': True,\n",
              "    'kernel_initializer': {'class_name': 'GlorotUniform',\n",
              "     'config': {'seed': None}},\n",
              "    'bias_initializer': {'class_name': 'Zeros', 'config': {}},\n",
              "    'kernel_regularizer': None,\n",
              "    'bias_regularizer': None,\n",
              "    'activity_regularizer': None,\n",
              "    'kernel_constraint': None,\n",
              "    'bias_constraint': None}},\n",
              "  {'class_name': 'Dense',\n",
              "   'config': {'name': 'dense_2',\n",
              "    'trainable': True,\n",
              "    'dtype': 'float32',\n",
              "    'units': 10,\n",
              "    'activation': 'softmax',\n",
              "    'use_bias': True,\n",
              "    'kernel_initializer': {'class_name': 'GlorotUniform',\n",
              "     'config': {'seed': None}},\n",
              "    'bias_initializer': {'class_name': 'Zeros', 'config': {}},\n",
              "    'kernel_regularizer': None,\n",
              "    'bias_regularizer': None,\n",
              "    'activity_regularizer': None,\n",
              "    'kernel_constraint': None,\n",
              "    'bias_constraint': None}}]}"
            ]
          },
          "metadata": {},
          "execution_count": 4
        }
      ]
    },
    {
      "cell_type": "markdown",
      "source": [
        "## <font color=orange>Pesos - kernel matrix</font>\n",
        "\n",
        "[Dense Layer.get_weights()](https://keras.io/api/layers/base_layer/#getweights-method) → (kernel matrix, bias vector)\n",
        "\n",
        "`denseLayer.get_weights()[0]`\n",
        "\n",
        "> O inicializador de kernel ou matriz de pesos é usado o  glorot uniforme e os vieses são inicializados com 0. \"Glorot, pois é o sobrenome de Xavier Glorot que escreveu o artigo que define esse inicializador. Ele também é conhecido como o <font color=orange>inicializador uniforme de Xavier</font>.\"\n",
        "\n",
        "`sqrt(6 / (unidades_de_entrada_do_kernel + unidades_de_saída_do_kernel )) `\n",
        "\n"
      ],
      "metadata": {
        "id": "_5S-DQ1Y0f8z"
      }
    },
    {
      "cell_type": "code",
      "source": [
        "# Peso\n",
        "pesos_camada_dense = modelo.layers[1].get_weights()[0]\n",
        "pesos_camada_dense"
      ],
      "metadata": {
        "colab": {
          "base_uri": "https://localhost:8080/"
        },
        "id": "H2B9Htg7wqTu",
        "outputId": "a8d98000-4143-4328-c8c2-00bdc4bf2d04"
      },
      "execution_count": null,
      "outputs": [
        {
          "output_type": "execute_result",
          "data": {
            "text/plain": [
              "array([[ 0.0203223 , -0.05434692,  0.06956449, ..., -0.07449118,\n",
              "         0.01032351,  0.07844752],\n",
              "       [-0.1676414 , -0.23080726,  0.07318403, ..., -0.08472175,\n",
              "        -0.05743122,  0.02866836],\n",
              "       [-0.22834276, -0.09095304,  0.02592203, ...,  0.10012282,\n",
              "        -0.12115195, -0.05494787],\n",
              "       ...,\n",
              "       [-0.05286543, -0.02062679,  0.09179842, ...,  0.17969309,\n",
              "        -0.07743031, -0.02969291],\n",
              "       [-0.03520177,  0.2197236 ,  0.06628781, ...,  0.08246799,\n",
              "        -0.15859659,  0.09129699],\n",
              "       [-0.23934402,  0.07019272, -0.12293436, ..., -0.03656709,\n",
              "        -0.07761386,  0.14493692]], dtype=float32)"
            ]
          },
          "metadata": {},
          "execution_count": 5
        }
      ]
    },
    {
      "cell_type": "markdown",
      "source": [
        "## <font color=orange>Vieses - Bias vector</font>\n",
        "\n",
        "O viés é a distância atribuída pelo modelo a dois objetos. Quanto maior o viés, maior o custo de se atribuir certas características a determinados classes. \n",
        "\n",
        "Um exemplo no caso de classificações, um modelo errar uma imagem de uma saia e chamar de vestido é um erro mais próximo do que chama-la de sapato.\n",
        "\n",
        "> \"Repare que a nossa rede errou, logo, os valores que foram propagados foram também recalculados. Por ter errado, nossa rede diminuiu o peso, e por ter se afastado da curva ideal, aumentou o viés.\"\n",
        "\n",
        "`denseLayer.get_weights()[1]`"
      ],
      "metadata": {
        "id": "X7PEgg5_0WFx"
      }
    },
    {
      "cell_type": "code",
      "source": [
        "# Vieses\n",
        "vieses_camada_dense = modelo.layers[1].get_weights()[1]\n",
        "vieses_camada_dense"
      ],
      "metadata": {
        "colab": {
          "base_uri": "https://localhost:8080/"
        },
        "id": "NbvBg-Jp0ija",
        "outputId": "90c65d90-ef04-44b4-d472-c7983006c2c7"
      },
      "execution_count": null,
      "outputs": [
        {
          "output_type": "execute_result",
          "data": {
            "text/plain": [
              "array([-0.37184796, -0.30645618,  0.22276644,  0.07386806,  0.23295468,\n",
              "       -0.02646765, -0.03995598, -0.3424906 ,  0.17032586,  0.29668975,\n",
              "       -0.20523228,  0.01752654, -0.02032887, -0.10433159,  0.19188114,\n",
              "       -0.02217072,  0.09411247,  0.06997454,  0.09082602, -0.02782436,\n",
              "        0.1463919 , -0.04403247, -0.01646684, -0.3338928 , -0.1736118 ,\n",
              "       -0.01899808, -0.06577497,  0.32053757, -0.15422074,  0.0759829 ,\n",
              "        0.26991618, -0.00603891, -0.00930617, -0.06467654,  0.01668806,\n",
              "       -0.02390064, -0.265832  , -0.01317765,  0.34877917, -0.01830917,\n",
              "       -0.10448035,  0.09783575,  0.25655273, -0.00654598, -0.01787722,\n",
              "       -0.01213841, -0.16145372,  0.04261443,  0.11383726, -0.28154045,\n",
              "        0.19448029,  0.39470583,  0.1093784 ,  0.21115705,  0.07706273,\n",
              "        0.25527278,  0.32388586,  0.05630631,  0.03114285,  0.11572973,\n",
              "        0.06445594,  0.13769847,  0.4787609 , -0.00576084,  0.398069  ,\n",
              "       -0.30625904, -0.15054882,  0.0800378 , -0.02693936, -0.2815432 ,\n",
              "       -0.02566108,  0.09242516,  0.31748685,  0.2758643 ,  0.12500161,\n",
              "        0.24682438, -0.02870859,  0.09376888,  0.17125882,  0.0486386 ,\n",
              "        0.2365452 , -0.0345139 , -0.04118334,  0.02089866, -0.04334928,\n",
              "       -0.28150555, -0.18495622,  0.22857384,  0.17388418,  0.01222932,\n",
              "        0.2124394 ,  0.09973065,  0.3533848 ,  0.00151246,  0.01942999,\n",
              "       -0.00310712,  0.05814579,  0.00971398, -0.20736063,  0.1191789 ,\n",
              "        0.08861393,  0.33563158,  0.00501566,  0.24321577, -0.03526   ,\n",
              "        0.42169136, -0.01881954, -0.0970829 ,  0.17593071, -0.10517364,\n",
              "        0.05116814,  0.1032264 , -0.01879359,  0.0540692 ,  0.2522344 ,\n",
              "        0.42845848, -0.03246145,  0.02955265,  0.3102208 ,  0.36091065,\n",
              "       -0.0177541 , -0.3963402 ,  0.12976325,  0.05662829, -0.14139648,\n",
              "        0.06040364, -0.17935163,  0.05696913, -0.10897657,  0.19036843,\n",
              "        0.27203274,  0.11009026,  0.2179833 ,  0.12134112,  0.3337231 ,\n",
              "        0.04275412,  0.23295076,  0.4335941 , -0.31883362,  0.24789692,\n",
              "       -0.0078006 , -0.02400867,  0.05692251, -0.12652956, -0.00822395,\n",
              "        0.15069385,  0.23317042,  0.43543074,  0.04682935,  0.370106  ,\n",
              "        0.38092542,  0.04961149, -0.05037443,  0.40615073,  0.13558044,\n",
              "        0.31060484,  0.02755202,  0.04462851,  0.20230126,  0.08461393,\n",
              "        0.2372774 , -0.04244696,  0.18983491, -0.3244765 , -0.24936287,\n",
              "        0.29642925, -0.00783763, -0.08838417, -0.17077518, -0.03901708,\n",
              "        0.06889307,  0.1642742 , -0.07347649, -0.03677215, -0.21261913,\n",
              "       -0.21718498,  0.12076484,  0.16314575,  0.24121584,  0.04740529,\n",
              "        0.30463958,  0.1023545 ,  0.00754041, -0.1294052 , -0.27313414,\n",
              "        0.28722364,  0.01128885, -0.23107468, -0.01976781, -0.01518342,\n",
              "        0.20530294, -0.26065937,  0.02175246,  0.0533697 ,  0.08483198,\n",
              "       -0.01677616,  0.32793373,  0.17056508, -0.3272542 ,  0.38107747,\n",
              "       -0.11870131, -0.1895188 ,  0.01792885, -0.00984226,  0.26481152,\n",
              "        0.06819705,  0.21487528,  0.27519313,  0.01507673,  0.19773296,\n",
              "        0.2477444 ,  0.07221477, -0.01764153,  0.01761125, -0.00781253,\n",
              "       -0.04882998, -0.00536176, -0.01531298,  0.07447872, -0.00958068,\n",
              "        0.2055437 ,  0.06777338, -0.24851848,  0.24866703,  0.09161451,\n",
              "       -0.01842109,  0.01939579,  0.2942206 ,  0.11552251, -0.01393356,\n",
              "        0.0085291 ,  0.0154736 ,  0.20377101, -0.04951775,  0.25091052,\n",
              "        0.14344266, -0.03322695,  0.18530197,  0.04718239, -0.00249572,\n",
              "        0.15717548, -0.08249206,  0.00838612, -0.08756403, -0.05688546,\n",
              "        0.06802197, -0.29332608,  0.05410588,  0.1420829 , -0.04715071,\n",
              "        0.32934883,  0.28486362, -0.13204578,  0.26582935,  0.11726989,\n",
              "       -0.03420437], dtype=float32)"
            ]
          },
          "metadata": {},
          "execution_count": 6
        }
      ]
    },
    {
      "cell_type": "markdown",
      "source": [
        "## Experimentações com pesos\n",
        "\n",
        "O que aconteceria se o modelo começasse com os pesos zerados?"
      ],
      "metadata": {
        "id": "i7fzaU9Y45GF"
      }
    },
    {
      "cell_type": "markdown",
      "source": [
        "### Teste peso zerado"
      ],
      "metadata": {
        "id": "E8gY5Jcs9L0D"
      }
    },
    {
      "cell_type": "code",
      "source": [
        "# Criação de array de zeros\n",
        "pesos_camada_dense.shape\n",
        "\n",
        "pesos_camada_dense_zerados = np.zeros((784, 256))\n",
        "pesos_camada_dense_zerados"
      ],
      "metadata": {
        "colab": {
          "base_uri": "https://localhost:8080/"
        },
        "id": "jvv3LB-U46vL",
        "outputId": "587a873b-db48-45d5-e9ea-a3391104d859"
      },
      "execution_count": null,
      "outputs": [
        {
          "output_type": "execute_result",
          "data": {
            "text/plain": [
              "array([[0., 0., 0., ..., 0., 0., 0.],\n",
              "       [0., 0., 0., ..., 0., 0., 0.],\n",
              "       [0., 0., 0., ..., 0., 0., 0.],\n",
              "       ...,\n",
              "       [0., 0., 0., ..., 0., 0., 0.],\n",
              "       [0., 0., 0., ..., 0., 0., 0.],\n",
              "       [0., 0., 0., ..., 0., 0., 0.]])"
            ]
          },
          "metadata": {},
          "execution_count": 7
        }
      ]
    },
    {
      "cell_type": "code",
      "source": [
        "# Atribuição de pesos à camada densa\n",
        "modelo.layers[1].set_weights([pesos_camada_dense_zerados, vieses_camada_dense])\n",
        "\n",
        "modelo.layers[1].get_weights()"
      ],
      "metadata": {
        "colab": {
          "base_uri": "https://localhost:8080/"
        },
        "id": "glKqNVdN5LEO",
        "outputId": "e9c60af5-3fc5-49b7-c00e-1583d8fb0522"
      },
      "execution_count": null,
      "outputs": [
        {
          "output_type": "execute_result",
          "data": {
            "text/plain": [
              "[array([[0., 0., 0., ..., 0., 0., 0.],\n",
              "        [0., 0., 0., ..., 0., 0., 0.],\n",
              "        [0., 0., 0., ..., 0., 0., 0.],\n",
              "        ...,\n",
              "        [0., 0., 0., ..., 0., 0., 0.],\n",
              "        [0., 0., 0., ..., 0., 0., 0.],\n",
              "        [0., 0., 0., ..., 0., 0., 0.]], dtype=float32),\n",
              " array([-0.37184796, -0.30645618,  0.22276644,  0.07386806,  0.23295468,\n",
              "        -0.02646765, -0.03995598, -0.3424906 ,  0.17032586,  0.29668975,\n",
              "        -0.20523228,  0.01752654, -0.02032887, -0.10433159,  0.19188114,\n",
              "        -0.02217072,  0.09411247,  0.06997454,  0.09082602, -0.02782436,\n",
              "         0.1463919 , -0.04403247, -0.01646684, -0.3338928 , -0.1736118 ,\n",
              "        -0.01899808, -0.06577497,  0.32053757, -0.15422074,  0.0759829 ,\n",
              "         0.26991618, -0.00603891, -0.00930617, -0.06467654,  0.01668806,\n",
              "        -0.02390064, -0.265832  , -0.01317765,  0.34877917, -0.01830917,\n",
              "        -0.10448035,  0.09783575,  0.25655273, -0.00654598, -0.01787722,\n",
              "        -0.01213841, -0.16145372,  0.04261443,  0.11383726, -0.28154045,\n",
              "         0.19448029,  0.39470583,  0.1093784 ,  0.21115705,  0.07706273,\n",
              "         0.25527278,  0.32388586,  0.05630631,  0.03114285,  0.11572973,\n",
              "         0.06445594,  0.13769847,  0.4787609 , -0.00576084,  0.398069  ,\n",
              "        -0.30625904, -0.15054882,  0.0800378 , -0.02693936, -0.2815432 ,\n",
              "        -0.02566108,  0.09242516,  0.31748685,  0.2758643 ,  0.12500161,\n",
              "         0.24682438, -0.02870859,  0.09376888,  0.17125882,  0.0486386 ,\n",
              "         0.2365452 , -0.0345139 , -0.04118334,  0.02089866, -0.04334928,\n",
              "        -0.28150555, -0.18495622,  0.22857384,  0.17388418,  0.01222932,\n",
              "         0.2124394 ,  0.09973065,  0.3533848 ,  0.00151246,  0.01942999,\n",
              "        -0.00310712,  0.05814579,  0.00971398, -0.20736063,  0.1191789 ,\n",
              "         0.08861393,  0.33563158,  0.00501566,  0.24321577, -0.03526   ,\n",
              "         0.42169136, -0.01881954, -0.0970829 ,  0.17593071, -0.10517364,\n",
              "         0.05116814,  0.1032264 , -0.01879359,  0.0540692 ,  0.2522344 ,\n",
              "         0.42845848, -0.03246145,  0.02955265,  0.3102208 ,  0.36091065,\n",
              "        -0.0177541 , -0.3963402 ,  0.12976325,  0.05662829, -0.14139648,\n",
              "         0.06040364, -0.17935163,  0.05696913, -0.10897657,  0.19036843,\n",
              "         0.27203274,  0.11009026,  0.2179833 ,  0.12134112,  0.3337231 ,\n",
              "         0.04275412,  0.23295076,  0.4335941 , -0.31883362,  0.24789692,\n",
              "        -0.0078006 , -0.02400867,  0.05692251, -0.12652956, -0.00822395,\n",
              "         0.15069385,  0.23317042,  0.43543074,  0.04682935,  0.370106  ,\n",
              "         0.38092542,  0.04961149, -0.05037443,  0.40615073,  0.13558044,\n",
              "         0.31060484,  0.02755202,  0.04462851,  0.20230126,  0.08461393,\n",
              "         0.2372774 , -0.04244696,  0.18983491, -0.3244765 , -0.24936287,\n",
              "         0.29642925, -0.00783763, -0.08838417, -0.17077518, -0.03901708,\n",
              "         0.06889307,  0.1642742 , -0.07347649, -0.03677215, -0.21261913,\n",
              "        -0.21718498,  0.12076484,  0.16314575,  0.24121584,  0.04740529,\n",
              "         0.30463958,  0.1023545 ,  0.00754041, -0.1294052 , -0.27313414,\n",
              "         0.28722364,  0.01128885, -0.23107468, -0.01976781, -0.01518342,\n",
              "         0.20530294, -0.26065937,  0.02175246,  0.0533697 ,  0.08483198,\n",
              "        -0.01677616,  0.32793373,  0.17056508, -0.3272542 ,  0.38107747,\n",
              "        -0.11870131, -0.1895188 ,  0.01792885, -0.00984226,  0.26481152,\n",
              "         0.06819705,  0.21487528,  0.27519313,  0.01507673,  0.19773296,\n",
              "         0.2477444 ,  0.07221477, -0.01764153,  0.01761125, -0.00781253,\n",
              "        -0.04882998, -0.00536176, -0.01531298,  0.07447872, -0.00958068,\n",
              "         0.2055437 ,  0.06777338, -0.24851848,  0.24866703,  0.09161451,\n",
              "        -0.01842109,  0.01939579,  0.2942206 ,  0.11552251, -0.01393356,\n",
              "         0.0085291 ,  0.0154736 ,  0.20377101, -0.04951775,  0.25091052,\n",
              "         0.14344266, -0.03322695,  0.18530197,  0.04718239, -0.00249572,\n",
              "         0.15717548, -0.08249206,  0.00838612, -0.08756403, -0.05688546,\n",
              "         0.06802197, -0.29332608,  0.05410588,  0.1420829 , -0.04715071,\n",
              "         0.32934883,  0.28486362, -0.13204578,  0.26582935,  0.11726989,\n",
              "        -0.03420437], dtype=float32)]"
            ]
          },
          "metadata": {},
          "execution_count": 8
        }
      ]
    },
    {
      "cell_type": "code",
      "source": [
        "# Teste de performance do modelo\n",
        "# Compilação\n",
        "modelo.compile(\n",
        "    optimizer='adam', \n",
        "    loss='sparse_categorical_crossentropy',\n",
        "    metrics=['accuracy'])\n",
        "\n",
        "# Treino e histórico da rede\n",
        "%time historico = modelo.fit(imagens_treino_norm, identificadores_treino, epochs=7, validation_split=0.2)"
      ],
      "metadata": {
        "colab": {
          "base_uri": "https://localhost:8080/"
        },
        "id": "SGakUzq05-19",
        "outputId": "cbdd0537-48f7-4123-bb3b-a16be214b5e2"
      },
      "execution_count": null,
      "outputs": [
        {
          "output_type": "stream",
          "name": "stdout",
          "text": [
            "Epoch 1/7\n",
            "1500/1500 [==============================] - 7s 4ms/step - loss: 0.5439 - accuracy: 0.8004 - val_loss: 0.4057 - val_accuracy: 0.8538\n",
            "Epoch 2/7\n",
            "1500/1500 [==============================] - 6s 4ms/step - loss: 0.4070 - accuracy: 0.8478 - val_loss: 0.3828 - val_accuracy: 0.8572\n",
            "Epoch 3/7\n",
            "1500/1500 [==============================] - 8s 5ms/step - loss: 0.3781 - accuracy: 0.8590 - val_loss: 0.3575 - val_accuracy: 0.8681\n",
            "Epoch 4/7\n",
            "1500/1500 [==============================] - 6s 4ms/step - loss: 0.3525 - accuracy: 0.8690 - val_loss: 0.3623 - val_accuracy: 0.8636\n",
            "Epoch 5/7\n",
            "1500/1500 [==============================] - 12s 8ms/step - loss: 0.3377 - accuracy: 0.8736 - val_loss: 0.3436 - val_accuracy: 0.8700\n",
            "Epoch 6/7\n",
            "1500/1500 [==============================] - 12s 8ms/step - loss: 0.3254 - accuracy: 0.8779 - val_loss: 0.3332 - val_accuracy: 0.8813\n",
            "Epoch 7/7\n",
            "1500/1500 [==============================] - 10s 6ms/step - loss: 0.3144 - accuracy: 0.8838 - val_loss: 0.3405 - val_accuracy: 0.8748\n",
            "CPU times: user 1min, sys: 3.79 s, total: 1min 4s\n",
            "Wall time: 1min\n"
          ]
        }
      ]
    },
    {
      "cell_type": "code",
      "source": [
        "# GRÁFICO DE ACURÁCIA\n",
        "plt.figure(figsize=(14,6))\n",
        "plt.plot(historico.history['accuracy'])\n",
        "plt.plot(historico.history['val_accuracy'])\n",
        "plt.legend(['Treino', 'Valiação'])\n",
        "\n",
        "plt.grid()\n",
        "plt.xticks(range(len(historico.history['accuracy'])))\n",
        "plt.title('Acurácia por época', fontsize=20)\n",
        "plt.xlabel('Épocas', fontsize=14)\n",
        "plt.ylabel('Acurácia', fontsize=14)\n",
        "plt.ylim(top=1)\n",
        "plt.show()"
      ],
      "metadata": {
        "colab": {
          "base_uri": "https://localhost:8080/",
          "height": 416
        },
        "id": "FO6PqeKI7ZxQ",
        "outputId": "42d3eedd-1ebc-4643-b969-672035d4e1e8"
      },
      "execution_count": null,
      "outputs": [
        {
          "output_type": "display_data",
          "data": {
            "text/plain": [
              "<Figure size 1008x432 with 1 Axes>"
            ],
            "image/png": "[encoded data removed]"
          },
          "metadata": {
            "needs_background": "light"
          }
        }
      ]
    },
    {
      "cell_type": "code",
      "source": [
        "# GRÁFICO DE PERDA\n",
        "plt.figure(figsize=(14,6))\n",
        "plt.plot(historico.history['loss'])\n",
        "plt.plot(historico.history['val_loss'])\n",
        "plt.legend(['Treino', 'Valiação'])\n",
        "\n",
        "plt.grid()\n",
        "plt.xticks(range(len(historico.history['loss'])))\n",
        "plt.title('Perda por época', fontsize=20)\n",
        "plt.xlabel('Épocas', fontsize=14)\n",
        "plt.ylabel('Perda', fontsize=14)\n",
        "plt.ylim(bottom=0)\n",
        "plt.show()"
      ],
      "metadata": {
        "colab": {
          "base_uri": "https://localhost:8080/",
          "height": 416
        },
        "id": "CKTd3_7A7v2Z",
        "outputId": "9233c7ff-f740-482e-f436-d6ea66a6e59f"
      },
      "execution_count": null,
      "outputs": [
        {
          "output_type": "display_data",
          "data": {
            "text/plain": [
              "<Figure size 1008x432 with 1 Axes>"
            ],
            "image/png": "[encoded data removed]"
          },
          "metadata": {
            "needs_background": "light"
          }
        }
      ]
    },
    {
      "cell_type": "markdown",
      "source": [
        "A inicialização do modelo com peso zerado é chamado de inicialização **simétrica**. Mas isso gera problemas ao modelo, por não dar mais atenção a características mais importantes do outras. Essa diferenciação é chamada de inicialização **assimétrica**."
      ],
      "metadata": {
        "id": "c1Z8hVzQ7-5A"
      }
    },
    {
      "cell_type": "markdown",
      "source": [
        "### Teste pesos aleatórios"
      ],
      "metadata": {
        "id": "nhhuxE719R66"
      }
    },
    {
      "cell_type": "code",
      "source": [
        "# Criação de array de aleatórios [-1, 1]\n",
        "pesos_camada_dense.shape\n",
        "\n",
        "# pesos_camada_dense_aleatorios = np.random.rand(784, 256)*2-1\n",
        "pesos_camada_dense_aleatorios = np.array([np.random.normal(size=256) for i in range(784)])\n",
        "pesos_camada_dense_aleatorios.shape"
      ],
      "metadata": {
        "colab": {
          "base_uri": "https://localhost:8080/"
        },
        "id": "y0fALcDQ8VGR",
        "outputId": "e41951ee-399e-4cc7-9c48-39822641f2d2"
      },
      "execution_count": null,
      "outputs": [
        {
          "output_type": "execute_result",
          "data": {
            "text/plain": [
              "(784, 256)"
            ]
          },
          "metadata": {},
          "execution_count": 12
        }
      ]
    },
    {
      "cell_type": "code",
      "source": [
        "# Atribuição de pesos à camada densa\n",
        "modelo.layers[1].set_weights([pesos_camada_dense_aleatorios, vieses_camada_dense])\n",
        "\n",
        "modelo.layers[1].get_weights()"
      ],
      "metadata": {
        "colab": {
          "base_uri": "https://localhost:8080/"
        },
        "outputId": "38f0e526-a843-40b2-a1e4-d9b1a090ecb9",
        "id": "-GU0inHo9gOi"
      },
      "execution_count": null,
      "outputs": [
        {
          "output_type": "execute_result",
          "data": {
            "text/plain": [
              "[array([[-5.3377330e-01, -2.1762562e+00,  2.0191758e+00, ...,\n",
              "         -1.3522694e-01, -1.8089636e-01,  9.6506492e-04],\n",
              "        [ 2.4757566e-01,  6.1436749e-01, -1.7189987e+00, ...,\n",
              "         -3.8702658e-01, -1.3553227e+00,  5.1383632e-01],\n",
              "        [-1.2184538e-02, -1.1071978e-01, -1.3915074e+00, ...,\n",
              "         -6.0635668e-01, -3.1917775e-01,  4.6102095e-01],\n",
              "        ...,\n",
              "        [-2.4950984e+00,  4.5023188e-01,  1.7228109e+00, ...,\n",
              "          2.5305398e+00,  2.1699963e+00, -3.5270476e-01],\n",
              "        [ 5.8411556e-01,  9.9185377e-01, -6.5096706e-01, ...,\n",
              "          4.6175420e-01,  6.5598345e-01, -1.1345719e+00],\n",
              "        [-3.2753384e-01, -5.7405168e-01, -6.9327927e-01, ...,\n",
              "          1.1224138e+00,  1.8370138e+00,  8.1345278e-01]], dtype=float32),\n",
              " array([-0.37184796, -0.30645618,  0.22276644,  0.07386806,  0.23295468,\n",
              "        -0.02646765, -0.03995598, -0.3424906 ,  0.17032586,  0.29668975,\n",
              "        -0.20523228,  0.01752654, -0.02032887, -0.10433159,  0.19188114,\n",
              "        -0.02217072,  0.09411247,  0.06997454,  0.09082602, -0.02782436,\n",
              "         0.1463919 , -0.04403247, -0.01646684, -0.3338928 , -0.1736118 ,\n",
              "        -0.01899808, -0.06577497,  0.32053757, -0.15422074,  0.0759829 ,\n",
              "         0.26991618, -0.00603891, -0.00930617, -0.06467654,  0.01668806,\n",
              "        -0.02390064, -0.265832  , -0.01317765,  0.34877917, -0.01830917,\n",
              "        -0.10448035,  0.09783575,  0.25655273, -0.00654598, -0.01787722,\n",
              "        -0.01213841, -0.16145372,  0.04261443,  0.11383726, -0.28154045,\n",
              "         0.19448029,  0.39470583,  0.1093784 ,  0.21115705,  0.07706273,\n",
              "         0.25527278,  0.32388586,  0.05630631,  0.03114285,  0.11572973,\n",
              "         0.06445594,  0.13769847,  0.4787609 , -0.00576084,  0.398069  ,\n",
              "        -0.30625904, -0.15054882,  0.0800378 , -0.02693936, -0.2815432 ,\n",
              "        -0.02566108,  0.09242516,  0.31748685,  0.2758643 ,  0.12500161,\n",
              "         0.24682438, -0.02870859,  0.09376888,  0.17125882,  0.0486386 ,\n",
              "         0.2365452 , -0.0345139 , -0.04118334,  0.02089866, -0.04334928,\n",
              "        -0.28150555, -0.18495622,  0.22857384,  0.17388418,  0.01222932,\n",
              "         0.2124394 ,  0.09973065,  0.3533848 ,  0.00151246,  0.01942999,\n",
              "        -0.00310712,  0.05814579,  0.00971398, -0.20736063,  0.1191789 ,\n",
              "         0.08861393,  0.33563158,  0.00501566,  0.24321577, -0.03526   ,\n",
              "         0.42169136, -0.01881954, -0.0970829 ,  0.17593071, -0.10517364,\n",
              "         0.05116814,  0.1032264 , -0.01879359,  0.0540692 ,  0.2522344 ,\n",
              "         0.42845848, -0.03246145,  0.02955265,  0.3102208 ,  0.36091065,\n",
              "        -0.0177541 , -0.3963402 ,  0.12976325,  0.05662829, -0.14139648,\n",
              "         0.06040364, -0.17935163,  0.05696913, -0.10897657,  0.19036843,\n",
              "         0.27203274,  0.11009026,  0.2179833 ,  0.12134112,  0.3337231 ,\n",
              "         0.04275412,  0.23295076,  0.4335941 , -0.31883362,  0.24789692,\n",
              "        -0.0078006 , -0.02400867,  0.05692251, -0.12652956, -0.00822395,\n",
              "         0.15069385,  0.23317042,  0.43543074,  0.04682935,  0.370106  ,\n",
              "         0.38092542,  0.04961149, -0.05037443,  0.40615073,  0.13558044,\n",
              "         0.31060484,  0.02755202,  0.04462851,  0.20230126,  0.08461393,\n",
              "         0.2372774 , -0.04244696,  0.18983491, -0.3244765 , -0.24936287,\n",
              "         0.29642925, -0.00783763, -0.08838417, -0.17077518, -0.03901708,\n",
              "         0.06889307,  0.1642742 , -0.07347649, -0.03677215, -0.21261913,\n",
              "        -0.21718498,  0.12076484,  0.16314575,  0.24121584,  0.04740529,\n",
              "         0.30463958,  0.1023545 ,  0.00754041, -0.1294052 , -0.27313414,\n",
              "         0.28722364,  0.01128885, -0.23107468, -0.01976781, -0.01518342,\n",
              "         0.20530294, -0.26065937,  0.02175246,  0.0533697 ,  0.08483198,\n",
              "        -0.01677616,  0.32793373,  0.17056508, -0.3272542 ,  0.38107747,\n",
              "        -0.11870131, -0.1895188 ,  0.01792885, -0.00984226,  0.26481152,\n",
              "         0.06819705,  0.21487528,  0.27519313,  0.01507673,  0.19773296,\n",
              "         0.2477444 ,  0.07221477, -0.01764153,  0.01761125, -0.00781253,\n",
              "        -0.04882998, -0.00536176, -0.01531298,  0.07447872, -0.00958068,\n",
              "         0.2055437 ,  0.06777338, -0.24851848,  0.24866703,  0.09161451,\n",
              "        -0.01842109,  0.01939579,  0.2942206 ,  0.11552251, -0.01393356,\n",
              "         0.0085291 ,  0.0154736 ,  0.20377101, -0.04951775,  0.25091052,\n",
              "         0.14344266, -0.03322695,  0.18530197,  0.04718239, -0.00249572,\n",
              "         0.15717548, -0.08249206,  0.00838612, -0.08756403, -0.05688546,\n",
              "         0.06802197, -0.29332608,  0.05410588,  0.1420829 , -0.04715071,\n",
              "         0.32934883,  0.28486362, -0.13204578,  0.26582935,  0.11726989,\n",
              "        -0.03420437], dtype=float32)]"
            ]
          },
          "metadata": {},
          "execution_count": 13
        }
      ]
    },
    {
      "cell_type": "code",
      "source": [
        "# Teste de performance do modelo\n",
        "# Compilação\n",
        "modelo.compile(\n",
        "    optimizer='adam', \n",
        "    loss='sparse_categorical_crossentropy',\n",
        "    metrics=['accuracy'])\n",
        "\n",
        "# Treino e histórico da rede\n",
        "%time historico = modelo.fit(imagens_treino_norm, identificadores_treino, epochs=7, validation_split=0.2)"
      ],
      "metadata": {
        "colab": {
          "base_uri": "https://localhost:8080/"
        },
        "outputId": "c90ea8ea-7fc7-470d-d7a4-a90ca312f267",
        "id": "0dYGiY3M9gOl"
      },
      "execution_count": null,
      "outputs": [
        {
          "output_type": "stream",
          "name": "stdout",
          "text": [
            "Epoch 1/7\n",
            "1500/1500 [==============================] - 7s 4ms/step - loss: 1.4730 - accuracy: 0.6401 - val_loss: 0.5804 - val_accuracy: 0.7826\n",
            "Epoch 2/7\n",
            "1500/1500 [==============================] - 6s 4ms/step - loss: 0.5793 - accuracy: 0.7866 - val_loss: 0.4878 - val_accuracy: 0.8197\n",
            "Epoch 3/7\n",
            "1500/1500 [==============================] - 6s 4ms/step - loss: 0.4886 - accuracy: 0.8214 - val_loss: 0.4335 - val_accuracy: 0.8463\n",
            "Epoch 4/7\n",
            "1500/1500 [==============================] - 6s 4ms/step - loss: 0.4418 - accuracy: 0.8394 - val_loss: 0.4057 - val_accuracy: 0.8542\n",
            "Epoch 5/7\n",
            "1500/1500 [==============================] - 6s 4ms/step - loss: 0.4079 - accuracy: 0.8504 - val_loss: 0.3896 - val_accuracy: 0.8572\n",
            "Epoch 6/7\n",
            "1500/1500 [==============================] - 6s 4ms/step - loss: 0.3834 - accuracy: 0.8585 - val_loss: 0.3784 - val_accuracy: 0.8615\n",
            "Epoch 7/7\n",
            "1500/1500 [==============================] - 6s 4ms/step - loss: 0.3642 - accuracy: 0.8665 - val_loss: 0.3721 - val_accuracy: 0.8637\n",
            "CPU times: user 54.9 s, sys: 3.71 s, total: 58.6 s\n",
            "Wall time: 43.9 s\n"
          ]
        }
      ]
    },
    {
      "cell_type": "code",
      "source": [
        "# GRÁFICO DE ACURÁCIA\n",
        "plt.figure(figsize=(14,6))\n",
        "plt.plot(historico.history['accuracy'])\n",
        "plt.plot(historico.history['val_accuracy'])\n",
        "plt.legend(['Treino', 'Valiação'])\n",
        "\n",
        "plt.grid()\n",
        "plt.xticks(range(len(historico.history['accuracy'])))\n",
        "plt.title('Acurácia por época', fontsize=20)\n",
        "plt.xlabel('Épocas', fontsize=14)\n",
        "plt.ylabel('Acurácia', fontsize=14)\n",
        "plt.ylim(top=1)\n",
        "plt.show()"
      ],
      "metadata": {
        "colab": {
          "base_uri": "https://localhost:8080/",
          "height": 416
        },
        "outputId": "3a80cc6c-1998-414d-c7d5-a581630fdf72",
        "id": "doU4nOR_9gOm"
      },
      "execution_count": null,
      "outputs": [
        {
          "output_type": "display_data",
          "data": {
            "text/plain": [
              "<Figure size 1008x432 with 1 Axes>"
            ],
            "image/png": "[encoded data removed]"
          },
          "metadata": {
            "needs_background": "light"
          }
        }
      ]
    },
    {
      "cell_type": "code",
      "source": [
        "# GRÁFICO DE PERDA\n",
        "plt.figure(figsize=(14,6))\n",
        "plt.plot(historico.history['loss'])\n",
        "plt.plot(historico.history['val_loss'])\n",
        "plt.legend(['Treino', 'Valiação'])\n",
        "\n",
        "plt.grid()\n",
        "plt.xticks(range(len(historico.history['loss'])))\n",
        "plt.title('Perda por época', fontsize=20)\n",
        "plt.xlabel('Épocas', fontsize=14)\n",
        "plt.ylabel('Perda', fontsize=14)\n",
        "plt.ylim(bottom=0)\n",
        "plt.show()"
      ],
      "metadata": {
        "colab": {
          "base_uri": "https://localhost:8080/",
          "height": 416
        },
        "outputId": "ca9c6af1-c6cc-4597-c69b-c05cb189ba79",
        "id": "Thxs4E7p9gOo"
      },
      "execution_count": null,
      "outputs": [
        {
          "output_type": "display_data",
          "data": {
            "text/plain": [
              "<Figure size 1008x432 with 1 Axes>"
            ],
            "image/png": "[encoded data removed]"
          },
          "metadata": {
            "needs_background": "light"
          }
        }
      ]
    },
    {
      "cell_type": "markdown",
      "source": [
        "Aqui foi observado um dos tópicos de debate em redes neurais, que quando os números de pesos são muito pequenos, ou muito grandes, o modelo não conseque aprender.\n",
        "\n",
        "Então como o Keras faz?"
      ],
      "metadata": {
        "id": "Y0_kx7IQ-_yL"
      }
    },
    {
      "cell_type": "code",
      "source": [
        "modelo.get_config()"
      ],
      "metadata": {
        "colab": {
          "base_uri": "https://localhost:8080/"
        },
        "id": "VWGbGX4J9do7",
        "outputId": "6c687b5a-d552-4ea1-8497-e06891a99bd4"
      },
      "execution_count": null,
      "outputs": [
        {
          "output_type": "execute_result",
          "data": {
            "text/plain": [
              "{'name': 'sequential',\n",
              " 'layers': [{'class_name': 'InputLayer',\n",
              "   'config': {'batch_input_shape': (None, 28, 28),\n",
              "    'dtype': 'float32',\n",
              "    'sparse': False,\n",
              "    'ragged': False,\n",
              "    'name': 'flatten_input'}},\n",
              "  {'class_name': 'Flatten',\n",
              "   'config': {'name': 'flatten',\n",
              "    'trainable': True,\n",
              "    'batch_input_shape': (None, 28, 28),\n",
              "    'dtype': 'float32',\n",
              "    'data_format': 'channels_last'}},\n",
              "  {'class_name': 'Dense',\n",
              "   'config': {'name': 'dense',\n",
              "    'trainable': True,\n",
              "    'dtype': 'float32',\n",
              "    'units': 256,\n",
              "    'activation': 'relu',\n",
              "    'use_bias': True,\n",
              "    'kernel_initializer': {'class_name': 'GlorotUniform',\n",
              "     'config': {'seed': None}},\n",
              "    'bias_initializer': {'class_name': 'Zeros', 'config': {}},\n",
              "    'kernel_regularizer': None,\n",
              "    'bias_regularizer': None,\n",
              "    'activity_regularizer': None,\n",
              "    'kernel_constraint': None,\n",
              "    'bias_constraint': None}},\n",
              "  {'class_name': 'Dropout',\n",
              "   'config': {'name': 'dropout',\n",
              "    'trainable': True,\n",
              "    'dtype': 'float32',\n",
              "    'rate': 0.2,\n",
              "    'noise_shape': None,\n",
              "    'seed': None}},\n",
              "  {'class_name': 'Dense',\n",
              "   'config': {'name': 'dense_1',\n",
              "    'trainable': True,\n",
              "    'dtype': 'float32',\n",
              "    'units': 128,\n",
              "    'activation': 'relu',\n",
              "    'use_bias': True,\n",
              "    'kernel_initializer': {'class_name': 'GlorotUniform',\n",
              "     'config': {'seed': None}},\n",
              "    'bias_initializer': {'class_name': 'Zeros', 'config': {}},\n",
              "    'kernel_regularizer': None,\n",
              "    'bias_regularizer': None,\n",
              "    'activity_regularizer': None,\n",
              "    'kernel_constraint': None,\n",
              "    'bias_constraint': None}},\n",
              "  {'class_name': 'Dense',\n",
              "   'config': {'name': 'dense_2',\n",
              "    'trainable': True,\n",
              "    'dtype': 'float32',\n",
              "    'units': 10,\n",
              "    'activation': 'softmax',\n",
              "    'use_bias': True,\n",
              "    'kernel_initializer': {'class_name': 'GlorotUniform',\n",
              "     'config': {'seed': None}},\n",
              "    'bias_initializer': {'class_name': 'Zeros', 'config': {}},\n",
              "    'kernel_regularizer': None,\n",
              "    'bias_regularizer': None,\n",
              "    'activity_regularizer': None,\n",
              "    'kernel_constraint': None,\n",
              "    'bias_constraint': None}}]}"
            ]
          },
          "metadata": {},
          "execution_count": 17
        }
      ]
    },
    {
      "cell_type": "markdown",
      "source": [
        "## Experimentações com Vieses\n",
        "\n",
        "O que aconteceria se o modelo começasse com os pesos zerados?"
      ],
      "metadata": {
        "id": "Ijus-Cy90f6b"
      }
    },
    {
      "cell_type": "markdown",
      "source": [
        "### Teste vieses zerado"
      ],
      "metadata": {
        "id": "QcDHcHj60jBu"
      }
    },
    {
      "cell_type": "code",
      "source": [
        "# Criação de array zerado\n",
        "vieses_camada_dense_zerados = np.zeros((256,))\n",
        "\n",
        "# Atribuição de pesos à camada densa\n",
        "modelo.layers[1].set_weights([pesos_camada_dense, vieses_camada_dense_zerados])\n",
        "\n",
        "modelo.layers[1].get_weights()"
      ],
      "metadata": {
        "colab": {
          "base_uri": "https://localhost:8080/"
        },
        "id": "rfGNkRuN0k42",
        "outputId": "05a34a98-5c10-44b8-8508-53c80e5afce1"
      },
      "execution_count": null,
      "outputs": [
        {
          "output_type": "execute_result",
          "data": {
            "text/plain": [
              "[array([[ 0.0203223 , -0.05434692,  0.06956449, ..., -0.07449118,\n",
              "          0.01032351,  0.07844752],\n",
              "        [-0.1676414 , -0.23080726,  0.07318403, ..., -0.08472175,\n",
              "         -0.05743122,  0.02866836],\n",
              "        [-0.22834276, -0.09095304,  0.02592203, ...,  0.10012282,\n",
              "         -0.12115195, -0.05494787],\n",
              "        ...,\n",
              "        [-0.05286543, -0.02062679,  0.09179842, ...,  0.17969309,\n",
              "         -0.07743031, -0.02969291],\n",
              "        [-0.03520177,  0.2197236 ,  0.06628781, ...,  0.08246799,\n",
              "         -0.15859659,  0.09129699],\n",
              "        [-0.23934402,  0.07019272, -0.12293436, ..., -0.03656709,\n",
              "         -0.07761386,  0.14493692]], dtype=float32),\n",
              " array([0., 0., 0., 0., 0., 0., 0., 0., 0., 0., 0., 0., 0., 0., 0., 0., 0.,\n",
              "        0., 0., 0., 0., 0., 0., 0., 0., 0., 0., 0., 0., 0., 0., 0., 0., 0.,\n",
              "        0., 0., 0., 0., 0., 0., 0., 0., 0., 0., 0., 0., 0., 0., 0., 0., 0.,\n",
              "        0., 0., 0., 0., 0., 0., 0., 0., 0., 0., 0., 0., 0., 0., 0., 0., 0.,\n",
              "        0., 0., 0., 0., 0., 0., 0., 0., 0., 0., 0., 0., 0., 0., 0., 0., 0.,\n",
              "        0., 0., 0., 0., 0., 0., 0., 0., 0., 0., 0., 0., 0., 0., 0., 0., 0.,\n",
              "        0., 0., 0., 0., 0., 0., 0., 0., 0., 0., 0., 0., 0., 0., 0., 0., 0.,\n",
              "        0., 0., 0., 0., 0., 0., 0., 0., 0., 0., 0., 0., 0., 0., 0., 0., 0.,\n",
              "        0., 0., 0., 0., 0., 0., 0., 0., 0., 0., 0., 0., 0., 0., 0., 0., 0.,\n",
              "        0., 0., 0., 0., 0., 0., 0., 0., 0., 0., 0., 0., 0., 0., 0., 0., 0.,\n",
              "        0., 0., 0., 0., 0., 0., 0., 0., 0., 0., 0., 0., 0., 0., 0., 0., 0.,\n",
              "        0., 0., 0., 0., 0., 0., 0., 0., 0., 0., 0., 0., 0., 0., 0., 0., 0.,\n",
              "        0., 0., 0., 0., 0., 0., 0., 0., 0., 0., 0., 0., 0., 0., 0., 0., 0.,\n",
              "        0., 0., 0., 0., 0., 0., 0., 0., 0., 0., 0., 0., 0., 0., 0., 0., 0.,\n",
              "        0., 0., 0., 0., 0., 0., 0., 0., 0., 0., 0., 0., 0., 0., 0., 0., 0.,\n",
              "        0.], dtype=float32)]"
            ]
          },
          "metadata": {},
          "execution_count": 18
        }
      ]
    },
    {
      "cell_type": "code",
      "source": [
        "# Teste de performance do modelo\n",
        "# Compilação\n",
        "modelo.compile(\n",
        "    optimizer='adam', \n",
        "    loss='sparse_categorical_crossentropy',\n",
        "    metrics=['accuracy'])\n",
        "\n",
        "# Treino e histórico da rede\n",
        "%time historico = modelo.fit(imagens_treino_norm, identificadores_treino, epochs=7, validation_split=0.2)"
      ],
      "metadata": {
        "colab": {
          "base_uri": "https://localhost:8080/"
        },
        "id": "j1RiYUll1MvU",
        "outputId": "e74c0e4a-9732-4bfa-f824-081382774054"
      },
      "execution_count": null,
      "outputs": [
        {
          "output_type": "stream",
          "name": "stdout",
          "text": [
            "Epoch 1/7\n",
            "1500/1500 [==============================] - 7s 4ms/step - loss: 0.3188 - accuracy: 0.8821 - val_loss: 0.3322 - val_accuracy: 0.8820\n",
            "Epoch 2/7\n",
            "1500/1500 [==============================] - 6s 4ms/step - loss: 0.2960 - accuracy: 0.8898 - val_loss: 0.3178 - val_accuracy: 0.8833\n",
            "Epoch 3/7\n",
            "1500/1500 [==============================] - 6s 4ms/step - loss: 0.2828 - accuracy: 0.8923 - val_loss: 0.3221 - val_accuracy: 0.8857\n",
            "Epoch 4/7\n",
            "1500/1500 [==============================] - 6s 4ms/step - loss: 0.2784 - accuracy: 0.8955 - val_loss: 0.3196 - val_accuracy: 0.8893\n",
            "Epoch 5/7\n",
            "1500/1500 [==============================] - 6s 4ms/step - loss: 0.2685 - accuracy: 0.8979 - val_loss: 0.3030 - val_accuracy: 0.8898\n",
            "Epoch 6/7\n",
            "1500/1500 [==============================] - 7s 5ms/step - loss: 0.2643 - accuracy: 0.9010 - val_loss: 0.3185 - val_accuracy: 0.8857\n",
            "Epoch 7/7\n",
            "1500/1500 [==============================] - 7s 5ms/step - loss: 0.2589 - accuracy: 0.9027 - val_loss: 0.3103 - val_accuracy: 0.8910\n",
            "CPU times: user 55.9 s, sys: 3.96 s, total: 59.9 s\n",
            "Wall time: 46.2 s\n"
          ]
        }
      ]
    },
    {
      "cell_type": "code",
      "source": [
        "# GRÁFICO DE ACURÁCIA\n",
        "plt.figure(figsize=(14,6))\n",
        "plt.plot(historico.history['accuracy'])\n",
        "plt.plot(historico.history['val_accuracy'])\n",
        "plt.legend(['Treino', 'Valiação'])\n",
        "\n",
        "plt.grid()\n",
        "plt.xticks(range(len(historico.history['accuracy'])))\n",
        "plt.title('Acurácia por época', fontsize=20)\n",
        "plt.xlabel('Épocas', fontsize=14)\n",
        "plt.ylabel('Acurácia', fontsize=14)\n",
        "plt.ylim(top=1)\n",
        "plt.show()"
      ],
      "metadata": {
        "colab": {
          "base_uri": "https://localhost:8080/",
          "height": 416
        },
        "outputId": "f1093ace-8b85-41d1-e069-f2b46c199405",
        "id": "xyXdPNSv1PvI"
      },
      "execution_count": null,
      "outputs": [
        {
          "output_type": "display_data",
          "data": {
            "text/plain": [
              "<Figure size 1008x432 with 1 Axes>"
            ],
            "image/png": "[encoded data removed]"
          },
          "metadata": {
            "needs_background": "light"
          }
        }
      ]
    },
    {
      "cell_type": "code",
      "source": [
        "# GRÁFICO DE PERDA\n",
        "plt.figure(figsize=(14,6))\n",
        "plt.plot(historico.history['loss'])\n",
        "plt.plot(historico.history['val_loss'])\n",
        "plt.legend(['Treino', 'Valiação'])\n",
        "\n",
        "plt.grid()\n",
        "plt.xticks(range(len(historico.history['loss'])))\n",
        "plt.title('Perda por época', fontsize=20)\n",
        "plt.xlabel('Épocas', fontsize=14)\n",
        "plt.ylabel('Perda', fontsize=14)\n",
        "plt.ylim(bottom=0)\n",
        "plt.show()"
      ],
      "metadata": {
        "colab": {
          "base_uri": "https://localhost:8080/",
          "height": 416
        },
        "outputId": "5f996898-10a1-4fae-fcb3-d0fcfb6b51ba",
        "id": "9RWfDB1H1PvJ"
      },
      "execution_count": null,
      "outputs": [
        {
          "output_type": "display_data",
          "data": {
            "text/plain": [
              "<Figure size 1008x432 with 1 Axes>"
            ],
            "image/png": "[encoded data removed]"
          },
          "metadata": {
            "needs_background": "light"
          }
        }
      ]
    },
    {
      "cell_type": "markdown",
      "source": [
        "### Teste vieses aleatórios"
      ],
      "metadata": {
        "id": "9Lc4ENsv1-07"
      }
    },
    {
      "cell_type": "code",
      "source": [
        "# Criação de array aleatórios\n",
        "#    - [-10, 10]\n",
        "vieses_camada_dense_aleatorios = np.random.rand(256,)*20-10\n",
        "\n",
        "# Atribuição de pesos à camada densa\n",
        "modelo.layers[1].set_weights([pesos_camada_dense, vieses_camada_dense_aleatorios])\n",
        "\n",
        "modelo.layers[1].get_weights()"
      ],
      "metadata": {
        "colab": {
          "base_uri": "https://localhost:8080/"
        },
        "outputId": "3fefdd4f-faf1-4478-aa58-323259364788",
        "id": "qmGHiTdg1-09"
      },
      "execution_count": null,
      "outputs": [
        {
          "output_type": "execute_result",
          "data": {
            "text/plain": [
              "[array([[ 0.0203223 , -0.05434692,  0.06956449, ..., -0.07449118,\n",
              "          0.01032351,  0.07844752],\n",
              "        [-0.1676414 , -0.23080726,  0.07318403, ..., -0.08472175,\n",
              "         -0.05743122,  0.02866836],\n",
              "        [-0.22834276, -0.09095304,  0.02592203, ...,  0.10012282,\n",
              "         -0.12115195, -0.05494787],\n",
              "        ...,\n",
              "        [-0.05286543, -0.02062679,  0.09179842, ...,  0.17969309,\n",
              "         -0.07743031, -0.02969291],\n",
              "        [-0.03520177,  0.2197236 ,  0.06628781, ...,  0.08246799,\n",
              "         -0.15859659,  0.09129699],\n",
              "        [-0.23934402,  0.07019272, -0.12293436, ..., -0.03656709,\n",
              "         -0.07761386,  0.14493692]], dtype=float32),\n",
              " array([ 7.5787253 , -3.4202967 ,  9.7308655 ,  0.537601  ,  7.7967534 ,\n",
              "         2.1406333 ,  8.843178  , -6.063421  , -0.81917864, -7.384264  ,\n",
              "         0.23797433,  4.6998777 ,  5.7656035 , -4.947745  ,  8.44666   ,\n",
              "         8.566498  ,  5.5757947 , -1.6133659 ,  7.344778  ,  1.2595154 ,\n",
              "         5.4077687 ,  9.645593  , -2.344495  , -2.0067222 ,  8.525785  ,\n",
              "         1.2742751 ,  7.2648535 , -3.7085679 ,  5.822644  ,  8.81747   ,\n",
              "         9.145375  ,  5.025346  , -0.23333186, -8.386185  ,  8.932009  ,\n",
              "         9.488817  ,  8.787681  , -4.7554107 ,  3.6820672 ,  3.2517254 ,\n",
              "         5.2554846 , -6.3553834 ,  0.24330826,  9.102668  , -5.3076324 ,\n",
              "         7.6745715 ,  7.8062906 ,  8.447732  ,  3.885072  , -7.654295  ,\n",
              "         8.548407  , -0.4002325 , -4.294075  ,  0.7825127 , -6.1328745 ,\n",
              "         3.5092459 , -2.7751098 ,  6.966511  , -7.304631  , -4.647541  ,\n",
              "        -8.219881  ,  9.534422  , -3.2355087 ,  0.5063593 ,  9.97823   ,\n",
              "        -0.5025746 , -0.42218858,  1.7358732 ,  3.120063  ,  9.541622  ,\n",
              "         8.762268  ,  1.1223549 , -9.606268  ,  1.0344516 , -1.48606   ,\n",
              "         5.672309  , -9.007522  ,  7.867319  ,  6.5031304 , -8.9294815 ,\n",
              "         7.6653185 , -9.909637  , -3.0754702 , -5.428608  , -9.839211  ,\n",
              "         8.08514   ,  8.204443  ,  1.099602  , -4.1812887 ,  3.8531277 ,\n",
              "         7.5131693 , -6.8339415 , -8.367298  ,  7.8714767 , -1.7730503 ,\n",
              "         0.8174525 , -0.11847948,  8.076383  ,  2.5600312 , -6.5864153 ,\n",
              "        -4.6899495 , -0.21780775,  4.016108  , -3.1395462 , -4.052652  ,\n",
              "         2.7209625 ,  1.6649195 , -6.4082513 , -8.227581  , -0.48713207,\n",
              "        -3.4925985 ,  8.193595  ,  2.679085  ,  8.453177  , -0.6668852 ,\n",
              "        -3.8996956 , -6.079418  , -0.5869217 , -2.283235  , -7.504298  ,\n",
              "        -0.9261974 , -1.5214871 , -1.9922749 ,  2.6744723 ,  6.645098  ,\n",
              "        -7.6445746 ,  0.88327354, -5.940086  , -4.089842  ,  9.402185  ,\n",
              "        -9.779208  , -6.0487576 , -3.1368668 ,  2.6085122 ,  5.7486153 ,\n",
              "         7.714492  ,  5.0509543 , -6.972096  , -7.3725343 , -5.456538  ,\n",
              "        -0.71309793, -1.7572131 , -9.7618885 ,  4.6413355 ,  1.063762  ,\n",
              "        -6.7100735 ,  0.5845536 , -9.84669   , -7.136999  , -2.8961103 ,\n",
              "         0.45380214, -0.7774764 ,  4.265567  ,  7.4926796 , -4.1283855 ,\n",
              "         2.5229163 , -3.7416847 ,  1.8753462 , -8.025409  , -9.462753  ,\n",
              "        -2.1630619 ,  1.7476231 ,  3.566103  , -8.465719  ,  0.28671482,\n",
              "        -1.8863239 , -8.885948  ,  9.151597  ,  7.0362315 , -7.1449203 ,\n",
              "         8.195966  , -1.2875413 , -5.0351996 ,  2.8000913 ,  7.3548017 ,\n",
              "        -7.818314  ,  7.6999927 , -4.195852  , -0.11507601, -6.177951  ,\n",
              "        -7.1133876 ,  4.177267  , -3.211015  , -3.1737816 ,  4.9354997 ,\n",
              "        -3.733257  ,  2.426484  ,  6.6367445 , -7.7682843 , -3.059429  ,\n",
              "        -1.6419615 ,  4.376092  , -8.429869  , -9.462852  ,  6.4718647 ,\n",
              "        -2.529629  , -9.34181   , -8.274176  ,  2.0159194 , -9.506843  ,\n",
              "        -7.808639  , -7.967234  ,  9.396236  ,  5.217014  ,  3.9714253 ,\n",
              "         6.8269696 ,  1.3405404 ,  9.140894  ,  8.378669  , -2.2578506 ,\n",
              "        -8.523866  , -9.616584  , -9.163084  , -6.9629908 ,  5.3887644 ,\n",
              "         1.4893613 ,  3.5526786 ,  7.945216  ,  1.2288935 ,  2.1898837 ,\n",
              "        -3.5038161 ,  0.9235369 , -3.9147196 , -4.770372  ,  7.758927  ,\n",
              "         7.5843315 , -7.1762495 , -7.600623  , -4.6656413 , -6.504832  ,\n",
              "         0.60206336,  5.5019803 ,  5.1669374 ,  0.18294677,  9.74605   ,\n",
              "        -0.36889526,  0.14973958, -2.9073064 ,  0.6763068 ,  5.817742  ,\n",
              "        -8.874302  , -9.152477  , -2.6601038 ,  2.579374  , -4.215909  ,\n",
              "        -3.147656  ,  5.8913527 ,  5.9091406 , -6.6116576 ,  1.3346441 ,\n",
              "        -8.286876  , -6.7847447 ,  6.410226  , -5.0570087 ,  5.8150725 ,\n",
              "         9.121352  ], dtype=float32)]"
            ]
          },
          "metadata": {},
          "execution_count": 22
        }
      ]
    },
    {
      "cell_type": "code",
      "source": [
        "# Teste de performance do modelo\n",
        "# Compilação\n",
        "modelo.compile(\n",
        "    optimizer='adam', \n",
        "    loss='sparse_categorical_crossentropy',\n",
        "    metrics=['accuracy'])\n",
        "\n",
        "# Treino e histórico da rede\n",
        "%time historico = modelo.fit(imagens_treino_norm, identificadores_treino, epochs=7, validation_split=0.2)"
      ],
      "metadata": {
        "colab": {
          "base_uri": "https://localhost:8080/"
        },
        "outputId": "c8094080-aba1-4263-a83a-ff1a2eba1bfd",
        "id": "u2FZ6ckQ1-0-"
      },
      "execution_count": null,
      "outputs": [
        {
          "output_type": "stream",
          "name": "stdout",
          "text": [
            "Epoch 1/7\n",
            "1500/1500 [==============================] - 8s 5ms/step - loss: 0.4406 - accuracy: 0.8413 - val_loss: 0.3492 - val_accuracy: 0.8712\n",
            "Epoch 2/7\n",
            "1500/1500 [==============================] - 6s 4ms/step - loss: 0.3436 - accuracy: 0.8720 - val_loss: 0.3514 - val_accuracy: 0.8729\n",
            "Epoch 3/7\n",
            "1500/1500 [==============================] - 6s 4ms/step - loss: 0.3224 - accuracy: 0.8786 - val_loss: 0.3340 - val_accuracy: 0.8798\n",
            "Epoch 4/7\n",
            "1500/1500 [==============================] - 6s 4ms/step - loss: 0.3083 - accuracy: 0.8835 - val_loss: 0.3303 - val_accuracy: 0.8806\n",
            "Epoch 5/7\n",
            "1500/1500 [==============================] - 6s 4ms/step - loss: 0.2987 - accuracy: 0.8874 - val_loss: 0.3213 - val_accuracy: 0.8839\n",
            "Epoch 6/7\n",
            "1500/1500 [==============================] - 6s 4ms/step - loss: 0.2886 - accuracy: 0.8912 - val_loss: 0.3167 - val_accuracy: 0.8854\n",
            "Epoch 7/7\n",
            "1500/1500 [==============================] - 6s 4ms/step - loss: 0.2794 - accuracy: 0.8939 - val_loss: 0.3190 - val_accuracy: 0.8848\n",
            "CPU times: user 56.6 s, sys: 4.1 s, total: 1min\n",
            "Wall time: 45.8 s\n"
          ]
        }
      ]
    },
    {
      "cell_type": "code",
      "source": [
        "# GRÁFICO DE ACURÁCIA\n",
        "plt.figure(figsize=(14,6))\n",
        "plt.plot(historico.history['accuracy'])\n",
        "plt.plot(historico.history['val_accuracy'])\n",
        "plt.legend(['Treino', 'Valiação'])\n",
        "\n",
        "plt.grid()\n",
        "plt.xticks(range(len(historico.history['accuracy'])))\n",
        "plt.title('Acurácia por época', fontsize=20)\n",
        "plt.xlabel('Épocas', fontsize=14)\n",
        "plt.ylabel('Acurácia', fontsize=14)\n",
        "plt.ylim(top=1)\n",
        "plt.show()"
      ],
      "metadata": {
        "colab": {
          "base_uri": "https://localhost:8080/",
          "height": 416
        },
        "outputId": "cf7ed7f2-c085-4abd-b9f9-8faf4d9b36fb",
        "id": "NEUg34cD1-0_"
      },
      "execution_count": null,
      "outputs": [
        {
          "output_type": "display_data",
          "data": {
            "text/plain": [
              "<Figure size 1008x432 with 1 Axes>"
            ],
            "image/png": "[encoded data removed]"
          },
          "metadata": {
            "needs_background": "light"
          }
        }
      ]
    },
    {
      "cell_type": "code",
      "source": [
        "# GRÁFICO DE PERDA\n",
        "plt.figure(figsize=(14,6))\n",
        "plt.plot(historico.history['loss'])\n",
        "plt.plot(historico.history['val_loss'])\n",
        "plt.legend(['Treino', 'Valiação'])\n",
        "\n",
        "plt.grid()\n",
        "plt.xticks(range(len(historico.history['loss'])))\n",
        "plt.title('Perda por época', fontsize=20)\n",
        "plt.xlabel('Épocas', fontsize=14)\n",
        "plt.ylabel('Perda', fontsize=14)\n",
        "plt.ylim(bottom=0)\n",
        "plt.show()"
      ],
      "metadata": {
        "colab": {
          "base_uri": "https://localhost:8080/",
          "height": 416
        },
        "outputId": "699df2b3-3338-4705-c72a-d5416560ad41",
        "id": "8hG9RUPz1-1B"
      },
      "execution_count": null,
      "outputs": [
        {
          "output_type": "display_data",
          "data": {
            "text/plain": [
              "<Figure size 1008x432 with 1 Axes>"
            ],
            "image/png": "[encoded data removed]"
          },
          "metadata": {
            "needs_background": "light"
          }
        }
      ]
    },
    {
      "cell_type": "markdown",
      "source": [
        "## <font color=orange>ReLU</font>\n",
        "\n",
        "A função de ativação no Deep Learning, ou seja, o que acontece por baixo dos panos nas redes neurais são diversas transformações nas camadas ocultas (<font color=orange>*hidden layers*</font>), inúmeras multiplicações e somas de matrizes.\n",
        "\n",
        "$$output = activate( dot( input, kernel) + bias )$$\n",
        "\n",
        "<h3>$$output = (i * w) + bias$$</h3>"
      ],
      "metadata": {
        "id": "HmCsdWCkBk8A"
      }
    },
    {
      "cell_type": "markdown",
      "source": [
        "## <font color=orange>Gradiente Descendente</font>\n",
        "\n",
        "É uma função que o Keras aplica por trás dos panos para encontrar o menor valor de perda no modelo. A intensidade da diminuição é chamado de <font color=orange>*momentum*</font>.\n",
        "\n",
        "Então o objetivo nas redes neurais é encontrar o **valor mínimo de perda**. No entanto, pode acontecer do modelo encontrar um valor e considerá-lo o mínimo, sem que ele seja o mínimo valor de perda possível. Esses são chamados de <font color=orange>**mínimos locais**</font>. O menor mínimo possível é chamado de <font color=orange>**mínimo global**</font>. \n",
        "\n",
        "A baixa intensidade do *momentum* poderá fazer o modelo parar rapidamente em mínimos locais."
      ],
      "metadata": {
        "id": "253fvnojD0s1"
      }
    },
    {
      "cell_type": "markdown",
      "source": [
        "Ao processar o modelo, o gradiente descendente terá que executar todos os exemplos de treino para encontrar o mínimo global. Mas isso pode ser inviável computacionalmente. Uma entratégia é escolher pontos aleatórios para avaliação para inferência do mínimo local. Esse processo aleatório é chamado de **estocástico**. Logo, este método é chamado de <font color=orange>**Gradiente Descendente Estocástico**</font>."
      ],
      "metadata": {
        "id": "lWTk2dXSISTs"
      }
    },
    {
      "cell_type": "markdown",
      "source": [
        "## <font color=orange>Adam</font>\n",
        "\n",
        "*Estimativa de momento adaptável (<font color=orange>adaptive moment estimation</font>)*\n",
        "\n",
        "É um método que usa o gradiente descendente estocástico e avalia também o momento, ajustando os vieses."
      ],
      "metadata": {
        "id": "_6WkCndTLPJF"
      }
    },
    {
      "cell_type": "markdown",
      "source": [
        "### Hiperparâmetros do ADAM"
      ],
      "metadata": {
        "id": "twwxkzduPXBo"
      }
    },
    {
      "cell_type": "code",
      "source": [
        "keras.optimizers.Adam(lr=0.001)\n",
        "\n",
        "# lr - learing rate - taxa de aprendizado (momentum)"
      ],
      "metadata": {
        "id": "GHQSR5ZO2tL9"
      },
      "execution_count": null,
      "outputs": []
    },
    {
      "cell_type": "markdown",
      "source": [
        "## Hiperparâmetros\n"
      ],
      "metadata": {
        "id": "7_ugThS6RwtO"
      }
    },
    {
      "cell_type": "code",
      "source": [
        "# Teste de performance do modelo - baseline\n",
        "# Compilação\n",
        "modelo.compile(\n",
        "    optimizer='adam', \n",
        "    loss='sparse_categorical_crossentropy',\n",
        "    metrics=['accuracy'])\n",
        "\n",
        "# Treino e histórico da rede\n",
        "%time historico = modelo.fit(imagens_treino_norm, identificadores_treino, epochs=5, validation_split=0.2)"
      ],
      "metadata": {
        "colab": {
          "base_uri": "https://localhost:8080/"
        },
        "id": "hVccL-D-Ryz_",
        "outputId": "de4e313b-8ad8-4975-e2ba-0ff2adcf4106"
      },
      "execution_count": null,
      "outputs": [
        {
          "output_type": "stream",
          "name": "stdout",
          "text": [
            "Epoch 1/5\n",
            "1500/1500 [==============================] - 7s 5ms/step - loss: 0.2769 - accuracy: 0.8950 - val_loss: 0.3157 - val_accuracy: 0.8849\n",
            "Epoch 2/5\n",
            "1500/1500 [==============================] - 7s 4ms/step - loss: 0.2685 - accuracy: 0.8973 - val_loss: 0.3241 - val_accuracy: 0.8853\n",
            "Epoch 3/5\n",
            "1500/1500 [==============================] - 7s 5ms/step - loss: 0.2607 - accuracy: 0.8999 - val_loss: 0.3189 - val_accuracy: 0.8834\n",
            "Epoch 4/5\n",
            "1500/1500 [==============================] - 9s 6ms/step - loss: 0.2546 - accuracy: 0.9019 - val_loss: 0.3171 - val_accuracy: 0.8879\n",
            "Epoch 5/5\n",
            "1500/1500 [==============================] - 8s 5ms/step - loss: 0.2507 - accuracy: 0.9054 - val_loss: 0.3264 - val_accuracy: 0.8895\n",
            "CPU times: user 43.6 s, sys: 3.09 s, total: 46.6 s\n",
            "Wall time: 38.3 s\n"
          ]
        }
      ]
    },
    {
      "cell_type": "code",
      "source": [
        "# Teste de performance do modelo - adam\n",
        "# Compilação\n",
        "\n",
        "adam = keras.optimizers.Adam(lr=0.001)\n",
        "modelo.compile(\n",
        "    optimizer=adam, \n",
        "    loss='sparse_categorical_crossentropy',\n",
        "    metrics=['accuracy'])\n",
        "\n",
        "# Treino e histórico da rede\n",
        "%time historico = modelo.fit(imagens_treino_norm, identificadores_treino, epochs=5, validation_split=0.2)"
      ],
      "metadata": {
        "colab": {
          "base_uri": "https://localhost:8080/"
        },
        "outputId": "1afb717a-e9b2-43df-bb7d-9df9d8a6245a",
        "id": "QNeFLS-6R-gu"
      },
      "execution_count": null,
      "outputs": [
        {
          "output_type": "stream",
          "name": "stdout",
          "text": [
            "Epoch 1/5\n"
          ]
        },
        {
          "output_type": "stream",
          "name": "stderr",
          "text": [
            "/usr/local/lib/python3.7/dist-packages/keras/optimizer_v2/adam.py:105: UserWarning: The `lr` argument is deprecated, use `learning_rate` instead.\n",
            "  super(Adam, self).__init__(name, **kwargs)\n"
          ]
        },
        {
          "output_type": "stream",
          "name": "stdout",
          "text": [
            "1500/1500 [==============================] - 7s 5ms/step - loss: 0.2507 - accuracy: 0.9040 - val_loss: 0.3144 - val_accuracy: 0.8862\n",
            "Epoch 2/5\n",
            "1500/1500 [==============================] - 7s 4ms/step - loss: 0.2450 - accuracy: 0.9056 - val_loss: 0.3145 - val_accuracy: 0.8914\n",
            "Epoch 3/5\n",
            "1500/1500 [==============================] - 7s 4ms/step - loss: 0.2380 - accuracy: 0.9084 - val_loss: 0.3203 - val_accuracy: 0.8908\n",
            "Epoch 4/5\n",
            "1500/1500 [==============================] - 7s 4ms/step - loss: 0.2346 - accuracy: 0.9105 - val_loss: 0.3102 - val_accuracy: 0.8943\n",
            "Epoch 5/5\n",
            "1500/1500 [==============================] - 7s 4ms/step - loss: 0.2356 - accuracy: 0.9097 - val_loss: 0.3253 - val_accuracy: 0.8878\n",
            "CPU times: user 41.6 s, sys: 2.88 s, total: 44.5 s\n",
            "Wall time: 33.8 s\n"
          ]
        }
      ]
    },
    {
      "cell_type": "code",
      "source": [
        "# Teste de performance do modelo - adam(lr=0.5)\n",
        "# Compilação\n",
        "\n",
        "adam = keras.optimizers.Adam(lr=0.5)\n",
        "modelo.compile(\n",
        "    optimizer=adam, \n",
        "    loss='sparse_categorical_crossentropy',\n",
        "    metrics=['accuracy'])\n",
        "\n",
        "# Treino e histórico da rede\n",
        "%time historico = modelo.fit(imagens_treino_norm, identificadores_treino, epochs=5, validation_split=0.2)"
      ],
      "metadata": {
        "colab": {
          "base_uri": "https://localhost:8080/"
        },
        "outputId": "78923561-9af1-4782-b8fd-d54f0bb33fb6",
        "id": "gZZQrEojSONR"
      },
      "execution_count": null,
      "outputs": [
        {
          "output_type": "stream",
          "name": "stdout",
          "text": [
            "Epoch 1/5\n",
            "1500/1500 [==============================] - 7s 4ms/step - loss: 24.0875 - accuracy: 0.1032 - val_loss: 2.3403 - val_accuracy: 0.1005\n",
            "Epoch 2/5\n",
            "1500/1500 [==============================] - 6s 4ms/step - loss: 2.3604 - accuracy: 0.0991 - val_loss: 2.3635 - val_accuracy: 0.1003\n",
            "Epoch 3/5\n",
            "1500/1500 [==============================] - 9s 6ms/step - loss: 3.1549 - accuracy: 0.0991 - val_loss: 2.3593 - val_accuracy: 0.1030\n",
            "Epoch 4/5\n",
            "1500/1500 [==============================] - 8s 5ms/step - loss: 2.3598 - accuracy: 0.1020 - val_loss: 2.3924 - val_accuracy: 0.1005\n",
            "Epoch 5/5\n",
            "1500/1500 [==============================] - 6s 4ms/step - loss: 2.3590 - accuracy: 0.1000 - val_loss: 2.3331 - val_accuracy: 0.1005\n",
            "CPU times: user 41.2 s, sys: 2.64 s, total: 43.8 s\n",
            "Wall time: 35.8 s\n"
          ]
        }
      ]
    },
    {
      "cell_type": "markdown",
      "source": [
        "### Batch size\n",
        "\n",
        "Permite acelerar o processo de treinamento."
      ],
      "metadata": {
        "id": "SkwI84GLc6SJ"
      }
    },
    {
      "cell_type": "code",
      "source": [
        "# Teste de performance do modelo - adam(lr=0.5) + batch_size=480\n",
        "# Compilação\n",
        "\n",
        "adam = keras.optimizers.Adam(learning_rate=0.001)\n",
        "modelo.compile(\n",
        "    optimizer=adam, \n",
        "    loss='sparse_categorical_crossentropy',\n",
        "    metrics=['accuracy'])\n",
        "\n",
        "# Treino e histórico da rede\n",
        "historico = modelo.fit(imagens_treino_norm, identificadores_treino, epochs=5, validation_split=0.2,\n",
        "    batch_size=480)  # 10% da amostra"
      ],
      "metadata": {
        "colab": {
          "base_uri": "https://localhost:8080/"
        },
        "outputId": "76b3ebc8-104c-4086-eba7-370cca33cbee",
        "id": "3rRajuQJSXfY"
      },
      "execution_count": null,
      "outputs": [
        {
          "output_type": "stream",
          "name": "stdout",
          "text": [
            "Epoch 1/5\n",
            "100/100 [==============================] - 3s 21ms/step - loss: 0.2391 - accuracy: 0.9094 - val_loss: 0.3001 - val_accuracy: 0.8928\n",
            "Epoch 2/5\n",
            "100/100 [==============================] - 2s 17ms/step - loss: 0.2310 - accuracy: 0.9126 - val_loss: 0.2982 - val_accuracy: 0.8932\n",
            "Epoch 3/5\n",
            "100/100 [==============================] - 2s 17ms/step - loss: 0.2270 - accuracy: 0.9134 - val_loss: 0.2970 - val_accuracy: 0.8949\n",
            "Epoch 4/5\n",
            "100/100 [==============================] - 2s 17ms/step - loss: 0.2225 - accuracy: 0.9162 - val_loss: 0.2927 - val_accuracy: 0.8963\n",
            "Epoch 5/5\n",
            "100/100 [==============================] - 2s 17ms/step - loss: 0.2193 - accuracy: 0.9169 - val_loss: 0.2963 - val_accuracy: 0.8963\n"
          ]
        }
      ]
    },
    {
      "cell_type": "code",
      "source": [
        "# Teste de performance do modelo - adam(lr=0.5) + batch_size=480\n",
        "# Compilação\n",
        "\n",
        "adam = keras.optimizers.Adam(learning_rate=0.002)\n",
        "modelo.compile(\n",
        "    optimizer=adam, \n",
        "    loss='sparse_categorical_crossentropy',\n",
        "    metrics=['accuracy'])\n",
        "\n",
        "# Treino e histórico da rede\n",
        "historico = modelo.fit(imagens_treino_norm, identificadores_treino, epochs=5, validation_split=0.2,\n",
        "    batch_size=480)  # 10% da amostra"
      ],
      "metadata": {
        "colab": {
          "base_uri": "https://localhost:8080/"
        },
        "outputId": "677fd373-9b0f-46ba-ccca-dc4cb484dbe6",
        "id": "2MdmMLjdalvT"
      },
      "execution_count": null,
      "outputs": [
        {
          "output_type": "stream",
          "name": "stdout",
          "text": [
            "Epoch 1/5\n",
            "100/100 [==============================] - 2s 18ms/step - loss: 0.2351 - accuracy: 0.9097 - val_loss: 0.2996 - val_accuracy: 0.8945\n",
            "Epoch 2/5\n",
            "100/100 [==============================] - 2s 17ms/step - loss: 0.2298 - accuracy: 0.9130 - val_loss: 0.2967 - val_accuracy: 0.8970\n",
            "Epoch 3/5\n",
            "100/100 [==============================] - 2s 17ms/step - loss: 0.2263 - accuracy: 0.9134 - val_loss: 0.2939 - val_accuracy: 0.8946\n",
            "Epoch 4/5\n",
            "100/100 [==============================] - 2s 17ms/step - loss: 0.2241 - accuracy: 0.9143 - val_loss: 0.3055 - val_accuracy: 0.8928\n",
            "Epoch 5/5\n",
            "100/100 [==============================] - 2s 17ms/step - loss: 0.2164 - accuracy: 0.9171 - val_loss: 0.3001 - val_accuracy: 0.8942\n"
          ]
        }
      ]
    },
    {
      "cell_type": "markdown",
      "source": [
        "## Checkpoints do Modelo - estudo de hiperparâmetros"
      ],
      "metadata": {
        "id": "74Ygp98OcsrE"
      }
    },
    {
      "cell_type": "markdown",
      "source": [
        "### Call Back - mínimo local\n",
        "\n",
        "Quando identificado um mínimo local, o Keras permite interromper o processo. Para identificar isso, quando a perda de validação se tornar cosntante, o modelo deverá ser interrompido mais cedo."
      ],
      "metadata": {
        "id": "4Yne2DqidODO"
      }
    },
    {
      "cell_type": "code",
      "source": [
        "# Teste de performance do modelo - adam(lr=0.5) + batch_size=480\n",
        "# Compilação\n",
        "\n",
        "adam = keras.optimizers.Adam(learning_rate=0.5)\n",
        "\n",
        "callbacks = [keras.callbacks.EarlyStopping(monitor='val_loss'),\n",
        "             keras.callbacks.ModelCheckpoint(filepath='melhor_modelo.hdf5',\n",
        "                                             monitor='val_loss',\n",
        "                                             save_best_only=True,)]\n",
        "\n",
        "modelo.compile(\n",
        "    optimizer=adam, \n",
        "    loss='sparse_categorical_crossentropy',\n",
        "    metrics=['accuracy'])\n",
        "\n",
        "# Treino e histórico da rede\n",
        "historico = modelo.fit(imagens_treino_norm, identificadores_treino, epochs=5, validation_split=0.2,\n",
        "    batch_size=480,\n",
        "    callbacks=callbacks)  # 10% da amostra"
      ],
      "metadata": {
        "colab": {
          "base_uri": "https://localhost:8080/"
        },
        "outputId": "e8594c43-71b0-4a37-b66d-75e041846b42",
        "id": "KxxTSWWkdZOp"
      },
      "execution_count": null,
      "outputs": [
        {
          "output_type": "stream",
          "name": "stdout",
          "text": [
            "Epoch 1/5\n",
            "100/100 [==============================] - 2s 19ms/step - loss: 2.3633 - accuracy: 0.0989 - val_loss: 2.3391 - val_accuracy: 0.0983\n",
            "Epoch 2/5\n",
            "100/100 [==============================] - 2s 17ms/step - loss: 2.3147 - accuracy: 0.0997 - val_loss: 2.3207 - val_accuracy: 0.1027\n"
          ]
        }
      ]
    }
  ]
}