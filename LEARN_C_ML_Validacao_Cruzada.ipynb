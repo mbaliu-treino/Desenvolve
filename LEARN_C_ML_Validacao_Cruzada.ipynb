{
  "nbformat": 4,
  "nbformat_minor": 0,
  "metadata": {
    "colab": {
      "name": "LEARN C ML - Validacao Cruzada.ipynb",
      "provenance": [],
      "toc_visible": true,
      "authorship_tag": "ABX9TyO9guyGN8yRSFgAu6EdBS8H",
      "include_colab_link": true
    },
    "kernelspec": {
      "name": "python3",
      "display_name": "Python 3"
    },
    "language_info": {
      "name": "python"
    }
  },
  "cells": [
    {
      "cell_type": "markdown",
      "metadata": {
        "id": "view-in-github",
        "colab_type": "text"
      },
      "source": [
        "<a href=\"https://colab.research.google.com/github/mbaliu-treino/Desenvolve/blob/main/LEARN_C_ML_Validacao_Cruzada.ipynb\" target=\"_parent\"><img src=\"https://colab.research.google.com/assets/colab-badge.svg\" alt=\"Open In Colab\"/></a>"
      ]
    },
    {
      "cell_type": "markdown",
      "source": [
        "# <font color=orange><b>Machine Learning: validação de modelos</b></font>\n",
        "\n",
        "<ul><font size=2 color=gray>FICHA TÉCNICA\n",
        "<li><a href=https://cursos.alura.com.br/course/machine-learning-validando-modelos><font size=2 color=gray>Machine Learning: validação de modelos</a>\n",
        "<li>Carga Horária: 8 h\n",
        "<li>Instrutora: Guilherme Silveira\n",
        "<!-- </ul> -->\n",
        "\n",
        "<hr color=gray><br>\n",
        "<h3><b>Conteúdo / Aprendizagem:</b></h3>\n",
        "\n",
        "- Problemas no Hold Out\n",
        "- Técnicas de Validação Cruzada\n",
        "- A importância da aleatoriedade, estratificação e agrupamento\n",
        "    - KFold, StratifiedKFold, GroupKFold\n",
        "- Grupos não independentes na predição\n",
        "- Pipeline para treino e validação"
      ],
      "metadata": {
        "id": "JSeHxPLGhvUz"
      }
    },
    {
      "cell_type": "markdown",
      "source": [
        "# <font color=orange>RESUMO</font>\n",
        "\n",
        "<a href=https://docs.google.com/spreadsheets/d/1tTygYlq9r7nkUsw9a25N5_z57-de_59tSBCIVPw6KUw><font size=2 color=gray>ROTEIROS Data Science</font></a>\n",
        "\n",
        "**Cross-Validation para validação consistente**\n",
        "\n",
        "1. Separação de dados PREDITIVOS e RESPOSTA (X e y)\n",
        "2. Baseline\n",
        "    - Hold Out: Separação treino e teste,\n",
        "    - Classificação Dummy,\n",
        "3. Validação Cruzada\n",
        "    - Algorítmo parametrizado,\n",
        "    - Modelo de Cross-Validation\n",
        "        - Aleatorização\n",
        "        - Estratificação,\n",
        "        - Grupos dependentes,\n",
        "    - Resultado da Validação\n",
        "        - Resultados dos Folds,\n",
        "        - Média dos resultados,\n",
        "        - Intervalo da média,\n",
        "4. Pipeline\n",
        "    - Transformações,\n",
        "    - Validação\n"
      ],
      "metadata": {
        "id": "XLGw5JrFFY8e"
      }
    },
    {
      "cell_type": "markdown",
      "source": [
        "# <font color=orange>CURSO</font>\n",
        "\n",
        "https://scikit-learn.org/stable/modules/cross_validation.html\n",
        "\n"
      ],
      "metadata": {
        "id": "AGVggbpvRpHf"
      }
    },
    {
      "cell_type": "markdown",
      "source": [
        "\n",
        "\n",
        "## <font color=orange>**HOLD OUT**\n",
        "\n",
        "Como validar as previsões de um modelo de ML?\n",
        "\n",
        "* **HOLD OUT**: é uma técnica de separa os dados para treino e teste, sendo o teste guardado até a validação. É a técnica mais usada para testar modelos.\n",
        "\n",
        "> Ela é suficiente para uma primeira validação do modelo. Mas ela possui algumas características que podem causar uma validação equivocada do modelo. A **simples seleção aleatória** pode causar um enviesamento dos dados para treino ou teste, impactando o valor pontual da validação. Isso pode causar a adoção ou rejeição do modelo de forma equivocada, em decorrência do **enviesamento randômico**.\n",
        "\n",
        "> Ou seja, quando um modelo é testado com o `Hold Out`, o valor da métrica de validação varia bastante em decorrência do enviesamento da seleção aleatória. Isso dificulta a comparação entre modelos (algorítmos ou hiperparâmetros diferentes).\n"
      ],
      "metadata": {
        "id": "5bnnYGFuQUGp"
      }
    },
    {
      "cell_type": "markdown",
      "source": [
        "* PROS:\n",
        "    * Rápida,\n",
        "    * Boa performance,\n",
        "* CONS:\n",
        "    * Pouco consistente para comparar modelos (conjuntos de treino diferentes)"
      ],
      "metadata": {
        "id": "luB6n7xC39Ol"
      }
    },
    {
      "cell_type": "markdown",
      "source": [
        "![Hold Out](https://lh6.googleusercontent.com/VBkE78-G7k-c2aU2dwR4pVLpRwk41dljaoiU96dXNj-nk5jdao9witHsZRFVtQA_S0oj4a7z6fqr-2BpNTRLfy_siyPZzb2Cw-HDuQVVkOb0apxhjSG_g9u4OUnNQuHLThtmtA8kcS1XPY8Yjw)"
      ],
      "metadata": {
        "id": "ACl_oFiOgZnU"
      }
    },
    {
      "cell_type": "markdown",
      "source": [
        "## <font color=orange>**VALIDAÇÃO CRUZADA - Cross-Validation**\n",
        "\n",
        "É uma estratégia de validação de modelos, alternando $k$ vezes os conjuntos para treino e teste, e depois obtém-se a média dessas métricas de avaliação (cruzamento). Desta forma, são treinados diversos modelos com o mesmo algorítmo, mas com dados de treino diferentes. Estes dados de treino são $k$ seleções diferentes da base de dados.\n",
        "\n",
        "Com isso, é possível reduzir o impacto do acaso no conjunto de treino ou teste. É um método de execução iterativo (recursivo), para obtenção de uma síntese da métrica de validação de diversos modelos com conjunto de dados diferentes.\n",
        "\n",
        "É esperado que ele forneça uma estimativa mais **CONSISTÊNTE e CONFIÁVEL**. \n",
        "\n",
        "> 1. Existem dois propósitos para usar a Validação-Cruzada. [**MEDIDA ESPERADA**] Um primeiro é para a obtenção de métricas mais consistêntes e com menor variância (intervalo de confiância para as possibilidades de ocorrência das métricas). \n",
        "1. [**OTIMIZAÇÃO DE MODELO**] Um outro, para a seleção do melhor modelo/método. \n",
        "1. [**N PEQUENO**]Um terceiro é quando o conjunto de dados é um conjunto pequeno.\n",
        "\n",
        "<br>\n",
        "\n",
        "**<font color=orange>MEDIDA INTERVALAR</font>**: A medida da métrica de validação pode ser pontual, a média do $k$ modelos, mas também pode ser importante ter o intervalo esperado da média. \n",
        "\n",
        "Esse intervalo é obtido através do desvio padrão do conjunto de médias das validações. Para 95% de acerto usa-se o +/- 2 desvios padrão. (?Pelo Teorema da Tendência Central, as ocorrências das médias amostrais possui distribuição normal, centrada na média esperada :: PESQUISAR SOBRE).\n",
        "```\n",
        "Média da Validação Cruzada: 57.84%\n",
        "Intervalo da acurácia: [34.29%, 81.39%]\n",
        "```\n",
        "\n",
        "<br>\n",
        "\n",
        "**<font color=orange>TÉCNICAS DE SELEÇÃO</font>**: Existem diversas técnicas de seleção dos $k$ conjuntos. O método de seleção de _cortes sequenciais_ da base de dados é chamado de `K-Fold`. A situação de a quantidade de partes ser igual ao número de registros ($k$ = $N$), ou seja, só será deixado um de fora, é chamado de `Leave One Out`. \n",
        "\n",
        "> _A quantidade de K é um tópico de estudo, mas recomenda-se entre 5 e 10_.\n",
        "\n",
        "Na seleção poderá ser considerado:\n",
        "* o embaralhamento ou sequencial (shuffle),\n",
        "* estratificação,\n",
        "    * quando a variável alvo é desbalanceada,\n",
        "* agrupamentos \n",
        "    * quando se tem uma preditora multinominal (PESQUISAR SOBRE)\n",
        "\n",
        "<br>\n",
        "\n",
        "**<font color=orange>MODELO FINAL</font>**: A validação-cruzada em um conjunto de dados somente diz o que pode-se esperar, obtendo métricas mais constantes. **Ela não treina o seu modelo final**. Para obter o modelo final para a produção basta treiná-lo em todos os dados que foram usados para o cross-validation."
      ],
      "metadata": {
        "id": "3twMMkaOhZrx"
      }
    },
    {
      "cell_type": "markdown",
      "source": [
        "![Cross-Validation, K-Fold](https://lh6.googleusercontent.com/lrmzxasxj6MoRtJRs5v12g_o1jnxAE8RborC-y9mKX09IWtnc4BQV_Ei7Rg6WQdVd5wo4-6quL8lsEhS-GUaRKJ-_ZrqTZRhBvHjGQZbtP8YGpkBMFhe9SwBKhyGLgxdPCQYGXQPqPxp_UzjYQ)"
      ],
      "metadata": {
        "id": "h-caLsJuh6uA"
      }
    },
    {
      "cell_type": "markdown",
      "source": [
        "![Leave One Out](https://lh3.googleusercontent.com/PjaQyqLgBFZfjqqGqcjtqb1wmGogqefB7t1WLwKZirEnQne790s0idvZ9oQ5KFNLHJTTtRib2yARY7ilCWNxhiLCIhLM36FMFsF0DXDJ8ugJsKEFXtCbzeguyDhfWhtjbs87ApJEQDTPUcHlcQ)"
      ],
      "metadata": {
        "id": "wPGUbgslklfB"
      }
    },
    {
      "cell_type": "markdown",
      "source": [
        "## <font color=orange>_modelo de baseline</font>"
      ],
      "metadata": {
        "id": "LGJIYSfNlOY9"
      }
    },
    {
      "cell_type": "code",
      "source": [
        "# DADOS\n",
        "\n",
        "import pandas as pd\n",
        "import numpy as np\n",
        "from sklearn.model_selection import train_test_split\n",
        "\n",
        "uri = \"https://gist.githubusercontent.com/guilhermesilveira/e99a526b2e7ccc6c3b70f53db43a87d2/raw/1605fc74aa778066bf2e6695e24d53cf65f2f447/machine-learning-carros-simulacao.csv\"\n",
        "dados = pd.read_csv(uri).drop(columns=[\"Unnamed: 0\"], axis=1)\n",
        "\n",
        "# DADOS PREDITIVO E RESPOSTA\n",
        "x = dados[[\"preco\", \"idade_do_modelo\", \"km_por_ano\"]]\n",
        "y = dados[\"vendido\"]\n",
        "\n",
        "SEED = 158020\n",
        "np.random.seed(SEED)\n",
        "\n",
        "# SEPARAÇÃO TRENIO E TESTE\n",
        "treino_x, teste_x, treino_y, teste_y = train_test_split(x, y, test_size = 0.25,\n",
        "                                                         stratify = y)\n",
        "print(\"Treinaremos com %d elementos e testaremos com %d elementos\" % (len(treino_x), len(teste_x)))"
      ],
      "metadata": {
        "colab": {
          "base_uri": "https://localhost:8080/"
        },
        "id": "7HgR4v9rc4nI",
        "outputId": "a6190427-23d1-4b2c-8f39-17e123189923"
      },
      "execution_count": null,
      "outputs": [
        {
          "output_type": "stream",
          "name": "stdout",
          "text": [
            "Treinaremos com 7500 elementos e testaremos com 2500 elementos\n"
          ]
        }
      ]
    },
    {
      "cell_type": "code",
      "source": [
        "# CLASSIFICADOR DUMMY\n",
        "\n",
        "from sklearn.dummy import DummyClassifier\n",
        "\n",
        "dummy_stratified = DummyClassifier(strategy='stratified')\n",
        "dummy_stratified.fit(treino_x, treino_y)\n",
        "\n",
        "acuracia = dummy_stratified.score(teste_x, teste_y) * 100\n",
        "print(\"A acurácia do dummy stratified foi de %.2f%%\" % acuracia)"
      ],
      "metadata": {
        "colab": {
          "base_uri": "https://localhost:8080/"
        },
        "id": "4FIVG35alDOd",
        "outputId": "b9a9e21b-d759-4606-9a0f-699a08d65a05"
      },
      "execution_count": null,
      "outputs": [
        {
          "output_type": "stream",
          "name": "stdout",
          "text": [
            "A acurácia do dummy stratified foi de 50.96%\n"
          ]
        }
      ]
    },
    {
      "cell_type": "code",
      "execution_count": null,
      "metadata": {
        "colab": {
          "base_uri": "https://localhost:8080/"
        },
        "id": "E51hO_0XM2c7",
        "outputId": "7c29695a-fab5-41c1-fe98-d4b4b515ef86"
      },
      "outputs": [
        {
          "output_type": "stream",
          "name": "stdout",
          "text": [
            "A acurácia foi 71.92%\n"
          ]
        }
      ],
      "source": [
        "# CLASSIFICAÇÃO SIMPLES como baseline\n",
        "\n",
        "from sklearn.tree import DecisionTreeClassifier\n",
        "\n",
        "SEED = 158020\n",
        "np.random.seed(SEED)\n",
        "\n",
        "modelo = DecisionTreeClassifier(max_depth=2)\n",
        "modelo.fit(treino_x, treino_y)\n",
        "\n",
        "previsoes = modelo.predict(teste_x)\n",
        "acuracia = accuracy_score(teste_y, previsoes) * 100\n",
        "print (\"A acurácia foi %.2f%%\" % acuracia)"
      ]
    },
    {
      "cell_type": "code",
      "source": [
        "# BASELINE: CLASSIFICAÇÃO DUMMY FINAL\n",
        "\n",
        "SEED = 158020\n",
        "np.random.seed(SEED)\n",
        "\n",
        "# ==== 2\n",
        "treino_x, teste_x, treino_y, teste_y = train_test_split(x, y, test_size = 0.25,\n",
        "                                                         stratify = y)\n",
        "print(\"Treinaremos com %d elementos e testaremos com %d elementos\" % (len(treino_x), len(teste_x)))\n",
        "\n",
        "# ==== 3\n",
        "modelo = DecisionTreeClassifier(max_depth=2)\n",
        "modelo.fit(treino_x, treino_y)\n",
        "previsoes = modelo.predict(teste_x)\n",
        "\n",
        "acuracia = accuracy_score(teste_y, previsoes) * 100\n",
        "print(\"A acurácia do dummy stratified foi %.2f%%\" % acuracia)"
      ],
      "metadata": {
        "colab": {
          "base_uri": "https://localhost:8080/"
        },
        "id": "arsaqCr3lHNl",
        "outputId": "151da256-54e9-4c67-bb46-ef86eb414ac5"
      },
      "execution_count": null,
      "outputs": [
        {
          "output_type": "stream",
          "name": "stdout",
          "text": [
            "Treinaremos com 7500 elementos e testaremos com 2500 elementos\n",
            "A acurácia do dummy stratified foi 71.92%\n"
          ]
        }
      ]
    },
    {
      "cell_type": "markdown",
      "source": [
        "## <font color=orange>Validação</font>\n",
        "\n",
        "A validação cruzada num conjunto de dados somente dirá o que você pode esperar do modelo. Ela não irá treinar o seu modelo final."
      ],
      "metadata": {
        "id": "FroGW2OZlQQ9"
      }
    },
    {
      "cell_type": "markdown",
      "source": [
        "### <font color=orange>a. Estrutura básica</font>\n",
        "\n",
        "A seguir iremos montar uma estrutura simples de validação-cruzada para compreender a diferença no resultado da métrica de val"
      ],
      "metadata": {
        "id": "WcpMnFelM7pX"
      }
    },
    {
      "cell_type": "code",
      "source": [
        "# OBJETO DE VALIDAÇÃO-CRUZADA -> dict\n",
        "\n",
        "from sklearn.model_selection import cross_validate\n",
        "from sklearn.tree import DecisionTreeClassifier\n",
        "\n",
        "SEED = 158020\n",
        "np.random.seed(SEED)\n",
        "\n",
        "# MODELO\n",
        "modelo = DecisionTreeClassifier(max_depth=2)\n",
        "\n",
        "# VALIDAÇÃO CRUZADA\n",
        "results = cross_validate(modelo, x, y, cv=3)\n",
        "#  cv: quantidade de Folds (K_Folds default)\n",
        "\n",
        "results"
      ],
      "metadata": {
        "colab": {
          "base_uri": "https://localhost:8080/"
        },
        "id": "5UUKCZaClRbC",
        "outputId": "500e24f2-23bb-4792-8657-2e544b9f099d"
      },
      "execution_count": null,
      "outputs": [
        {
          "output_type": "execute_result",
          "data": {
            "text/plain": [
              "{'fit_time': array([0.0093472 , 0.00747752, 0.00774193]),\n",
              " 'score_time': array([0.00251961, 0.00224209, 0.00250673]),\n",
              " 'test_score': array([0.75704859, 0.7629763 , 0.75337534])}"
            ]
          },
          "metadata": {},
          "execution_count": 5
        }
      ]
    },
    {
      "cell_type": "code",
      "source": [
        "# MEDIDAS DA MÉTRICA - pontual e intervalar\n",
        "\n",
        "media = results[\"test_score\"].mean()\n",
        "desvio_padrao = results[\"test_score\"].std()\n",
        "# 95% dos dados estão entre os dois devios para mais ou menos.\n",
        "\n",
        "\n",
        "print('Resultados dos Fold: ', results['test_score'].round(5))\n",
        "print(f'Média da Validação Cruzada: {media:.2%}')\n",
        "print(f'Intervalo da acurácia: [{media-desvio_padrao*2:.2%}, {media+desvio_padrao*2:.2%}]')"
      ],
      "metadata": {
        "colab": {
          "base_uri": "https://localhost:8080/"
        },
        "id": "COiMhWzYl_tl",
        "outputId": "1d169aee-a691-4e7e-db30-c3a359b1e373"
      },
      "execution_count": null,
      "outputs": [
        {
          "output_type": "stream",
          "name": "stdout",
          "text": [
            "Resultados dos Fold:  [0.75705 0.76298 0.75338]\n",
            "Média da Validação Cruzada: 75.78%\n",
            "Intervalo da acurácia: [74.99%, 76.57%]\n"
          ]
        }
      ]
    },
    {
      "cell_type": "markdown",
      "source": [
        "### <font color=orange>b. Aleatoriedade</font>\n",
        "\n",
        "O Cross Validate não realiza a aleatorização dos dados na sua seleção. Somente seleciona as partes indicadas. Nem mesmo possui uma funcionalidade de aleatorização."
      ],
      "metadata": {
        "id": "0tDt7eUz3mZB"
      }
    },
    {
      "cell_type": "markdown",
      "source": [
        "No entanto, parâmetro `cv` do Cross-Validate do Scikit-Learn permite a indicação do número quanto um **gerador de validação cruzada**. Quando só indicado as partes, ele utiliza do [KFold](https://scikit-learn.org/stable/modules/generated/sklearn.model_selection.KFold.html#sklearn.model_selection.KFold)(n_splits).\n",
        "\n",
        "> KFold: Split dataset into k consecutive folds (without shuffling by default).\n",
        "\n",
        "[Documentação do Cross Validate](https://scikit-learn.org/stable/modules/generated/sklearn.model_selection.cross_validate.html#sklearn.model_selection.cross_validate)"
      ],
      "metadata": {
        "id": "bWCLfgaN4BKs"
      }
    },
    {
      "cell_type": "code",
      "source": [
        "# SEM ALEATORIZAÇÃO\n",
        "print('==== SEM ALEATORIZAÇÃO ====')\n",
        "from sklearn.model_selection import cross_validate, KFold\n",
        "\n",
        "SEED = 158020\n",
        "np.random.seed(SEED)\n",
        "\n",
        "# MODELOS\n",
        "cv = KFold(5)\n",
        "modelo = DecisionTreeClassifier(max_depth=2)\n",
        "results = cross_validate(modelo, x, y, cv=cv)\n",
        "\n",
        "# VALIDAÇÃO\n",
        "media = results[\"test_score\"].mean()\n",
        "desvio_padrao = results[\"test_score\"].std()\n",
        "# 95% dos dados estão entre os dois devios para mais ou menos.\n",
        "print('Resultados dos Fold: ', results['test_score'].round(5))\n",
        "print(f'Média da Validação Cruzada: {media:.2%}')\n",
        "print(f'Intervalo da acurácia: [{media-desvio_padrao*2:.2%}, {media+desvio_padrao*2:.2%}]')"
      ],
      "metadata": {
        "colab": {
          "base_uri": "https://localhost:8080/"
        },
        "id": "v6eOdRyt5o8j",
        "outputId": "5715dc79-71a2-40bb-9b38-0c6d0f3104ea"
      },
      "execution_count": null,
      "outputs": [
        {
          "output_type": "stream",
          "name": "stdout",
          "text": [
            "==== SEM ALEATORIZAÇÃO ====\n",
            "Resultados dos Fold:  [0.7595 0.7565 0.7575 0.7545 0.761 ]\n",
            "Média da Validação Cruzada: 75.78%\n",
            "Intervalo da acurácia: [75.33%, 76.23%]\n"
          ]
        }
      ]
    },
    {
      "cell_type": "code",
      "source": [
        "# COM ALEATORIZAÇÃO\n",
        "print('==== COM ALEATORIZAÇÃO ====')\n",
        "from sklearn.model_selection import cross_validate, KFold\n",
        "\n",
        "SEED = 158020\n",
        "np.random.seed(SEED)\n",
        "\n",
        "# MODELOS\n",
        "cv = KFold(n_splits=5, shuffle=True)\n",
        "modelo = DecisionTreeClassifier(max_depth=2)\n",
        "results = cross_validate(modelo, x, y, cv=cv)\n",
        "\n",
        "# VALIDAÇÃO\n",
        "media = results[\"test_score\"].mean()\n",
        "desvio_padrao = results[\"test_score\"].std()\n",
        "# 95% dos dados estão entre os dois devios para mais ou menos.\n",
        "print('Resultados dos Fold: ', results['test_score'].round(5))\n",
        "print(f'Média da Validação Cruzada: {media:.2%}')\n",
        "print(f'Intervalo da acurácia: [{media-desvio_padrao*2:.2%}, {media+desvio_padrao*2:.2%}]')"
      ],
      "metadata": {
        "colab": {
          "base_uri": "https://localhost:8080/"
        },
        "id": "qQ03lYj36n4z",
        "outputId": "0eb1a900-7e72-43fc-ce61-52fc83a455e2"
      },
      "execution_count": null,
      "outputs": [
        {
          "output_type": "stream",
          "name": "stdout",
          "text": [
            "==== COM ALEATORIZAÇÃO ====\n",
            "Resultados dos Fold:  [0.764  0.7465 0.7555 0.7645 0.7585]\n",
            "Média da Validação Cruzada: 75.78%\n",
            "Intervalo da acurácia: [74.46%, 77.10%]\n"
          ]
        }
      ]
    },
    {
      "cell_type": "markdown",
      "source": [
        "### <font color=orange>c. Estratificação</font>\n",
        "\n",
        "Na operação de separação do conjunto para treino e teste podemos obter conjuntos com **distribuições diferentes da variável resposta** entre nos nossos conjuntos obtidos. Isso poderá impactar negativamente o modelo.\n",
        "\n",
        "Essa situação de azar pode ser causada por:\n",
        "- Ordenação dos registros,\n",
        "- Azar na seleção aleatória;\n",
        "\n",
        "A estratificação é importante quando a base de dados possui classes desbalanceadas na variável RESPOSTA. Com isso, é mantido a proporção no conjunto de Treino e Teste, garantindo que há elementos suficientes para a análise."
      ],
      "metadata": {
        "id": "pSmQhgH2K99Q"
      }
    },
    {
      "cell_type": "markdown",
      "source": [
        "\n",
        "---\n",
        "\n",
        "Para testarmos esse efeito iremos criar uma base de dados em uma situação de \"azar\". Esta situação é a ordenação dos registros segundo a variável resposta. Mas poderia ser uma proporção desbalanceada também.\n",
        "Depois iremos realizar alguns testes de validação do modelo nessa base. Sem nenhum tratamento, com a aleatorização da seleção e com a estratificação dos dados."
      ],
      "metadata": {
        "id": "CZ5ZD8HQO-DG"
      }
    },
    {
      "cell_type": "code",
      "source": [
        "#Simular situação horrível de azar\n",
        "#Pode ser uma situação de \"azar\" ou uma proporção de exemplos desbalanceado entre as classes.\n",
        "\n",
        "dados_azar = dados.sort_values(\"vendido\", ascending=True)\n",
        "x_azar = dados_azar[[\"preco\", \"idade_do_modelo\", \"km_por_ano\"]]\n",
        "y_azar = dados_azar[\"vendido\"]\n",
        "dados_azar.head()"
      ],
      "metadata": {
        "colab": {
          "base_uri": "https://localhost:8080/",
          "height": 206
        },
        "id": "yL2Y3ImkK_jl",
        "outputId": "4771590b-6a97-4861-a49a-f2c2f0a18e2d"
      },
      "execution_count": null,
      "outputs": [
        {
          "output_type": "execute_result",
          "data": {
            "text/plain": [
              "         preco  vendido  idade_do_modelo   km_por_ano\n",
              "4999  74023.29        0               12  24812.80412\n",
              "5322  84843.49        0               13  23095.63834\n",
              "5319  83100.27        0               19  36240.72746\n",
              "5316  87932.13        0               16  32249.56426\n",
              "5315  77937.01        0               15  28414.50704"
            ],
            "text/html": [
              "\n",
              "  <div id=\"df-410b4ebe-af4f-450c-a6f9-918ee09c1a20\">\n",
              "    <div class=\"colab-df-container\">\n",
              "      <div>\n",
              "<style scoped>\n",
              "    .dataframe tbody tr th:only-of-type {\n",
              "        vertical-align: middle;\n",
              "    }\n",
              "\n",
              "    .dataframe tbody tr th {\n",
              "        vertical-align: top;\n",
              "    }\n",
              "\n",
              "    .dataframe thead th {\n",
              "        text-align: right;\n",
              "    }\n",
              "</style>\n",
              "<table border=\"1\" class=\"dataframe\">\n",
              "  <thead>\n",
              "    <tr style=\"text-align: right;\">\n",
              "      <th></th>\n",
              "      <th>preco</th>\n",
              "      <th>vendido</th>\n",
              "      <th>idade_do_modelo</th>\n",
              "      <th>km_por_ano</th>\n",
              "    </tr>\n",
              "  </thead>\n",
              "  <tbody>\n",
              "    <tr>\n",
              "      <th>4999</th>\n",
              "      <td>74023.29</td>\n",
              "      <td>0</td>\n",
              "      <td>12</td>\n",
              "      <td>24812.80412</td>\n",
              "    </tr>\n",
              "    <tr>\n",
              "      <th>5322</th>\n",
              "      <td>84843.49</td>\n",
              "      <td>0</td>\n",
              "      <td>13</td>\n",
              "      <td>23095.63834</td>\n",
              "    </tr>\n",
              "    <tr>\n",
              "      <th>5319</th>\n",
              "      <td>83100.27</td>\n",
              "      <td>0</td>\n",
              "      <td>19</td>\n",
              "      <td>36240.72746</td>\n",
              "    </tr>\n",
              "    <tr>\n",
              "      <th>5316</th>\n",
              "      <td>87932.13</td>\n",
              "      <td>0</td>\n",
              "      <td>16</td>\n",
              "      <td>32249.56426</td>\n",
              "    </tr>\n",
              "    <tr>\n",
              "      <th>5315</th>\n",
              "      <td>77937.01</td>\n",
              "      <td>0</td>\n",
              "      <td>15</td>\n",
              "      <td>28414.50704</td>\n",
              "    </tr>\n",
              "  </tbody>\n",
              "</table>\n",
              "</div>\n",
              "      <button class=\"colab-df-convert\" onclick=\"convertToInteractive('df-410b4ebe-af4f-450c-a6f9-918ee09c1a20')\"\n",
              "              title=\"Convert this dataframe to an interactive table.\"\n",
              "              style=\"display:none;\">\n",
              "        \n",
              "  <svg xmlns=\"http://www.w3.org/2000/svg\" height=\"24px\"viewBox=\"0 0 24 24\"\n",
              "       width=\"24px\">\n",
              "    <path d=\"M0 0h24v24H0V0z\" fill=\"none\"/>\n",
              "    <path d=\"M18.56 5.44l.94 2.06.94-2.06 2.06-.94-2.06-.94-.94-2.06-.94 2.06-2.06.94zm-11 1L8.5 8.5l.94-2.06 2.06-.94-2.06-.94L8.5 2.5l-.94 2.06-2.06.94zm10 10l.94 2.06.94-2.06 2.06-.94-2.06-.94-.94-2.06-.94 2.06-2.06.94z\"/><path d=\"M17.41 7.96l-1.37-1.37c-.4-.4-.92-.59-1.43-.59-.52 0-1.04.2-1.43.59L10.3 9.45l-7.72 7.72c-.78.78-.78 2.05 0 2.83L4 21.41c.39.39.9.59 1.41.59.51 0 1.02-.2 1.41-.59l7.78-7.78 2.81-2.81c.8-.78.8-2.07 0-2.86zM5.41 20L4 18.59l7.72-7.72 1.47 1.35L5.41 20z\"/>\n",
              "  </svg>\n",
              "      </button>\n",
              "      \n",
              "  <style>\n",
              "    .colab-df-container {\n",
              "      display:flex;\n",
              "      flex-wrap:wrap;\n",
              "      gap: 12px;\n",
              "    }\n",
              "\n",
              "    .colab-df-convert {\n",
              "      background-color: #E8F0FE;\n",
              "      border: none;\n",
              "      border-radius: 50%;\n",
              "      cursor: pointer;\n",
              "      display: none;\n",
              "      fill: #1967D2;\n",
              "      height: 32px;\n",
              "      padding: 0 0 0 0;\n",
              "      width: 32px;\n",
              "    }\n",
              "\n",
              "    .colab-df-convert:hover {\n",
              "      background-color: #E2EBFA;\n",
              "      box-shadow: 0px 1px 2px rgba(60, 64, 67, 0.3), 0px 1px 3px 1px rgba(60, 64, 67, 0.15);\n",
              "      fill: #174EA6;\n",
              "    }\n",
              "\n",
              "    [theme=dark] .colab-df-convert {\n",
              "      background-color: #3B4455;\n",
              "      fill: #D2E3FC;\n",
              "    }\n",
              "\n",
              "    [theme=dark] .colab-df-convert:hover {\n",
              "      background-color: #434B5C;\n",
              "      box-shadow: 0px 1px 3px 1px rgba(0, 0, 0, 0.15);\n",
              "      filter: drop-shadow(0px 1px 2px rgba(0, 0, 0, 0.3));\n",
              "      fill: #FFFFFF;\n",
              "    }\n",
              "  </style>\n",
              "\n",
              "      <script>\n",
              "        const buttonEl =\n",
              "          document.querySelector('#df-410b4ebe-af4f-450c-a6f9-918ee09c1a20 button.colab-df-convert');\n",
              "        buttonEl.style.display =\n",
              "          google.colab.kernel.accessAllowed ? 'block' : 'none';\n",
              "\n",
              "        async function convertToInteractive(key) {\n",
              "          const element = document.querySelector('#df-410b4ebe-af4f-450c-a6f9-918ee09c1a20');\n",
              "          const dataTable =\n",
              "            await google.colab.kernel.invokeFunction('convertToInteractive',\n",
              "                                                     [key], {});\n",
              "          if (!dataTable) return;\n",
              "\n",
              "          const docLinkHtml = 'Like what you see? Visit the ' +\n",
              "            '<a target=\"_blank\" href=https://colab.research.google.com/notebooks/data_table.ipynb>data table notebook</a>'\n",
              "            + ' to learn more about interactive tables.';\n",
              "          element.innerHTML = '';\n",
              "          dataTable['output_type'] = 'display_data';\n",
              "          await google.colab.output.renderOutput(dataTable, element);\n",
              "          const docLink = document.createElement('div');\n",
              "          docLink.innerHTML = docLinkHtml;\n",
              "          element.appendChild(docLink);\n",
              "        }\n",
              "      </script>\n",
              "    </div>\n",
              "  </div>\n",
              "  "
            ]
          },
          "metadata": {},
          "execution_count": 2
        }
      ]
    },
    {
      "cell_type": "code",
      "source": [
        "# TESTE DE AZAR SEM SHUFFLE\n",
        "from sklearn.model_selection import KFold\n",
        "\n",
        "SEED = 301\n",
        "np.random.seed(SEED)\n",
        "\n",
        "cv = KFold(n_splits = 10)\n",
        "modelo = DecisionTreeClassifier(max_depth=2)\n",
        "results = cross_validate(modelo, x_azar, y_azar, cv = cv, return_train_score=False)\n",
        "\n",
        "# VALIDAÇÃO\n",
        "media = results[\"test_score\"].mean()\n",
        "desvio_padrao = results[\"test_score\"].std()\n",
        "# 95% dos dados estão entre os dois devios para mais ou menos.\n",
        "print('Resultados dos Fold: ', results['test_score'].round(5))\n",
        "print(f'Média da Validação Cruzada: {media:.2%}')\n",
        "print(f'Intervalo da acurácia: [{media-desvio_padrao*2:.2%}, {media+desvio_padrao*2:.2%}]')"
      ],
      "metadata": {
        "colab": {
          "base_uri": "https://localhost:8080/"
        },
        "id": "TSnDflLJL_5V",
        "outputId": "16dc60a2-df0e-4817-e029-37252428beca"
      },
      "execution_count": null,
      "outputs": [
        {
          "output_type": "stream",
          "name": "stdout",
          "text": [
            "Resultados dos Fold:  [0.447 0.409 0.438 0.446 0.694 0.663 0.668 0.673 0.67  0.676]\n",
            "Média da Validação Cruzada: 57.84%\n",
            "Intervalo da acurácia: [34.29%, 81.39%]\n"
          ]
        }
      ]
    },
    {
      "cell_type": "code",
      "source": [
        "# TESTE DE AZAR COM SHUFFLE\n",
        "from sklearn.model_selection import KFold\n",
        "\n",
        "SEED = 301\n",
        "np.random.seed(SEED)\n",
        "\n",
        "cv = KFold(n_splits = 10, shuffle=True)\n",
        "modelo = DecisionTreeClassifier(max_depth=2)\n",
        "results = cross_validate(modelo, x_azar, y_azar, cv = cv, return_train_score=False)\n",
        "\n",
        "# VALIDAÇÃO\n",
        "media = results[\"test_score\"].mean()\n",
        "desvio_padrao = results[\"test_score\"].std()\n",
        "# 95% dos dados estão entre os dois devios para mais ou menos.\n",
        "print('Resultados dos Fold: ', results['test_score'].round(5))\n",
        "print(f'Média da Validação Cruzada: {media:.2%}')\n",
        "print(f'Intervalo da acurácia: [{media-desvio_padrao*2:.2%}, {media+desvio_padrao*2:.2%}]')"
      ],
      "metadata": {
        "colab": {
          "base_uri": "https://localhost:8080/"
        },
        "id": "B1us7YDIMK6o",
        "outputId": "15c86bb7-9b1c-4441-a180-8b04b734e222"
      },
      "execution_count": null,
      "outputs": [
        {
          "output_type": "stream",
          "name": "stdout",
          "text": [
            "Resultados dos Fold:  [0.741 0.776 0.75  0.742 0.796 0.757 0.772 0.757 0.748 0.739]\n",
            "Média da Validação Cruzada: 75.78%\n",
            "Intervalo da acurácia: [72.30%, 79.26%]\n"
          ]
        }
      ]
    },
    {
      "cell_type": "markdown",
      "source": [
        "Com a aleatorização da seleção já é possível reduzir o efeito da base de dados ordenada. No entanto, ainda é possível ocorrer o acaso de desbalanceamento da variável resposta."
      ],
      "metadata": {
        "id": "bfKwh5UqRG2V"
      }
    },
    {
      "cell_type": "code",
      "source": [
        "# TESTE DE AZAR COM SHUFFLE e ESTRATIFICADO\n",
        "from sklearn.model_selection import StratifiedKFold\n",
        "\n",
        "SEED = 301\n",
        "np.random.seed(SEED)\n",
        "\n",
        "cv = StratifiedKFold(n_splits = 10, shuffle=True)\n",
        "modelo = DecisionTreeClassifier(max_depth=2)\n",
        "results = cross_validate(modelo, x_azar, y_azar, cv = cv, return_train_score=False)\n",
        "\n",
        "# VALIDAÇÃO\n",
        "media = results[\"test_score\"].mean()\n",
        "desvio_padrao = results[\"test_score\"].std()\n",
        "# 95% dos dados estão entre os dois devios para mais ou menos.\n",
        "print('Resultados dos Fold: ', results['test_score'].round(5))\n",
        "print(f'Média da Validação Cruzada: {media:.2%}')\n",
        "print(f'Intervalo da acurácia: [{media-desvio_padrao*2:.2%}, {media+desvio_padrao*2:.2%}]')"
      ],
      "metadata": {
        "colab": {
          "base_uri": "https://localhost:8080/"
        },
        "id": "jG5m1Vo3Mlzo",
        "outputId": "de656f9d-6034-4b32-b47a-f479591806c2"
      },
      "execution_count": null,
      "outputs": [
        {
          "output_type": "stream",
          "name": "stdout",
          "text": [
            "Resultados dos Fold:  [0.757 0.767 0.771 0.753 0.769 0.752 0.745 0.774 0.75  0.74 ]\n",
            "Média da Validação Cruzada: 75.78%\n",
            "Intervalo da acurácia: [73.55%, 78.01%]\n"
          ]
        }
      ]
    },
    {
      "cell_type": "code",
      "source": [
        "# TESTE DE AZAR COM SHUFFLE e ESTRATIFICADO\n",
        "from sklearn.model_selection import StratifiedKFold\n",
        "\n",
        "SEED = 301\n",
        "np.random.seed(SEED)\n",
        "\n",
        "cv = StratifiedKFold(n_splits = 10, shuffle=False)\n",
        "modelo = DecisionTreeClassifier(max_depth=2)\n",
        "results = cross_validate(modelo, x_azar, y_azar, cv = cv, return_train_score=False)\n",
        "\n",
        "# VALIDAÇÃO\n",
        "media = results[\"test_score\"].mean()\n",
        "desvio_padrao = results[\"test_score\"].std()\n",
        "# 95% dos dados estão entre os dois devios para mais ou menos.\n",
        "print('Resultados dos Fold: ', results['test_score'].round(5))\n",
        "print(f'Média da Validação Cruzada: {media:.2%}')\n",
        "print(f'Intervalo da acurácia: [{media-desvio_padrao*2:.2%}, {media+desvio_padrao*2:.2%}]')"
      ],
      "metadata": {
        "colab": {
          "base_uri": "https://localhost:8080/"
        },
        "id": "tmBVWEsgNBCT",
        "outputId": "ce68dcc7-8f27-4905-9090-f4eb1a3cf9e9"
      },
      "execution_count": null,
      "outputs": [
        {
          "output_type": "stream",
          "name": "stdout",
          "text": [
            "Resultados dos Fold:  [0.744 0.759 0.763 0.765 0.754 0.742 0.771 0.748 0.764 0.768]\n",
            "Média da Validação Cruzada: 75.78%\n",
            "Intervalo da acurácia: [73.83%, 77.73%]\n"
          ]
        }
      ]
    },
    {
      "cell_type": "markdown",
      "source": [
        "Os testes anteriores mostram que garantir a estratificação adequada da variável respostas em cada treino é mais importante do que a aleatorização, a qual ṕoderá sempre ocorrer em situações raras."
      ],
      "metadata": {
        "id": "20V_sJ8vR_yd"
      }
    },
    {
      "cell_type": "markdown",
      "source": [
        "### <font color=orange>d. Grupos</font>\n",
        "\n",
        "O tipo de seleção dos conjuntos de Treino e Teste pode impactar no resultado do modelo, ou seja, na veracidade do comportamento da predição do modelo.\n",
        "\n",
        "O conceito de grupo é o agrupamento dos registros em uma mesma classe. Estes grupos terão um comportamento de certa forma semelhantes. Por tanto, os dados não são independentes aos grupos. Isso traz a necessidade de cuidados especiais na modelagem de dados.\n",
        "\n",
        "Um estimador como o StratifiedKFold irá ignorar os agrupamentos. Assim, no treino haverá todos os grupos presentes. No entanto, nos casos reais, novos grupos estarão presentes e eles serão desconhecidos para o modelo. Mas mesmo assim ele precisará saber como lidar com essa informação. A previsão de novos grupos quando nem todos os dados são leituras independentes entre si é uma situação especial.\n",
        "\n",
        "\n",
        "Exemplos de casos: modelos de carros, pacientes em um hospital."
      ],
      "metadata": {
        "id": "v91Z7jMxOy1c"
      }
    },
    {
      "cell_type": "code",
      "source": [
        "# Gerando dados aleatórios de modelo de carro para simulação de agrupamento ao usar nosso estimador\n",
        "np.random.seed(SEED)\n",
        "dados['modelo'] = dados.idade_do_modelo + np.random.randint(-2, 3, size=10000)\n",
        "dados.modelo = dados.modelo + abs(dados.modelo.min()) + 1\n",
        "dados.head()"
      ],
      "metadata": {
        "colab": {
          "base_uri": "https://localhost:8080/",
          "height": 206
        },
        "id": "zjQqtP7cWZOr",
        "outputId": "6a5c26c5-b5ba-4181-feab-7e390c3775cf"
      },
      "execution_count": null,
      "outputs": [
        {
          "output_type": "execute_result",
          "data": {
            "text/plain": [
              "       preco  vendido  idade_do_modelo   km_por_ano  modelo_aleatorio  modelo\n",
              "0   30941.02        1               18  35085.22134                18      18\n",
              "1   40557.96        1               20  12622.05362                24      24\n",
              "2   89627.50        0               12  11440.79806                14      14\n",
              "3   95276.14        0                3  43167.32682                 6       6\n",
              "4  117384.68        1                4  12770.11290                 5       5"
            ],
            "text/html": [
              "\n",
              "  <div id=\"df-eba48c59-5e5e-435d-8735-c220863802be\">\n",
              "    <div class=\"colab-df-container\">\n",
              "      <div>\n",
              "<style scoped>\n",
              "    .dataframe tbody tr th:only-of-type {\n",
              "        vertical-align: middle;\n",
              "    }\n",
              "\n",
              "    .dataframe tbody tr th {\n",
              "        vertical-align: top;\n",
              "    }\n",
              "\n",
              "    .dataframe thead th {\n",
              "        text-align: right;\n",
              "    }\n",
              "</style>\n",
              "<table border=\"1\" class=\"dataframe\">\n",
              "  <thead>\n",
              "    <tr style=\"text-align: right;\">\n",
              "      <th></th>\n",
              "      <th>preco</th>\n",
              "      <th>vendido</th>\n",
              "      <th>idade_do_modelo</th>\n",
              "      <th>km_por_ano</th>\n",
              "      <th>modelo_aleatorio</th>\n",
              "      <th>modelo</th>\n",
              "    </tr>\n",
              "  </thead>\n",
              "  <tbody>\n",
              "    <tr>\n",
              "      <th>0</th>\n",
              "      <td>30941.02</td>\n",
              "      <td>1</td>\n",
              "      <td>18</td>\n",
              "      <td>35085.22134</td>\n",
              "      <td>18</td>\n",
              "      <td>18</td>\n",
              "    </tr>\n",
              "    <tr>\n",
              "      <th>1</th>\n",
              "      <td>40557.96</td>\n",
              "      <td>1</td>\n",
              "      <td>20</td>\n",
              "      <td>12622.05362</td>\n",
              "      <td>24</td>\n",
              "      <td>24</td>\n",
              "    </tr>\n",
              "    <tr>\n",
              "      <th>2</th>\n",
              "      <td>89627.50</td>\n",
              "      <td>0</td>\n",
              "      <td>12</td>\n",
              "      <td>11440.79806</td>\n",
              "      <td>14</td>\n",
              "      <td>14</td>\n",
              "    </tr>\n",
              "    <tr>\n",
              "      <th>3</th>\n",
              "      <td>95276.14</td>\n",
              "      <td>0</td>\n",
              "      <td>3</td>\n",
              "      <td>43167.32682</td>\n",
              "      <td>6</td>\n",
              "      <td>6</td>\n",
              "    </tr>\n",
              "    <tr>\n",
              "      <th>4</th>\n",
              "      <td>117384.68</td>\n",
              "      <td>1</td>\n",
              "      <td>4</td>\n",
              "      <td>12770.11290</td>\n",
              "      <td>5</td>\n",
              "      <td>5</td>\n",
              "    </tr>\n",
              "  </tbody>\n",
              "</table>\n",
              "</div>\n",
              "      <button class=\"colab-df-convert\" onclick=\"convertToInteractive('df-eba48c59-5e5e-435d-8735-c220863802be')\"\n",
              "              title=\"Convert this dataframe to an interactive table.\"\n",
              "              style=\"display:none;\">\n",
              "        \n",
              "  <svg xmlns=\"http://www.w3.org/2000/svg\" height=\"24px\"viewBox=\"0 0 24 24\"\n",
              "       width=\"24px\">\n",
              "    <path d=\"M0 0h24v24H0V0z\" fill=\"none\"/>\n",
              "    <path d=\"M18.56 5.44l.94 2.06.94-2.06 2.06-.94-2.06-.94-.94-2.06-.94 2.06-2.06.94zm-11 1L8.5 8.5l.94-2.06 2.06-.94-2.06-.94L8.5 2.5l-.94 2.06-2.06.94zm10 10l.94 2.06.94-2.06 2.06-.94-2.06-.94-.94-2.06-.94 2.06-2.06.94z\"/><path d=\"M17.41 7.96l-1.37-1.37c-.4-.4-.92-.59-1.43-.59-.52 0-1.04.2-1.43.59L10.3 9.45l-7.72 7.72c-.78.78-.78 2.05 0 2.83L4 21.41c.39.39.9.59 1.41.59.51 0 1.02-.2 1.41-.59l7.78-7.78 2.81-2.81c.8-.78.8-2.07 0-2.86zM5.41 20L4 18.59l7.72-7.72 1.47 1.35L5.41 20z\"/>\n",
              "  </svg>\n",
              "      </button>\n",
              "      \n",
              "  <style>\n",
              "    .colab-df-container {\n",
              "      display:flex;\n",
              "      flex-wrap:wrap;\n",
              "      gap: 12px;\n",
              "    }\n",
              "\n",
              "    .colab-df-convert {\n",
              "      background-color: #E8F0FE;\n",
              "      border: none;\n",
              "      border-radius: 50%;\n",
              "      cursor: pointer;\n",
              "      display: none;\n",
              "      fill: #1967D2;\n",
              "      height: 32px;\n",
              "      padding: 0 0 0 0;\n",
              "      width: 32px;\n",
              "    }\n",
              "\n",
              "    .colab-df-convert:hover {\n",
              "      background-color: #E2EBFA;\n",
              "      box-shadow: 0px 1px 2px rgba(60, 64, 67, 0.3), 0px 1px 3px 1px rgba(60, 64, 67, 0.15);\n",
              "      fill: #174EA6;\n",
              "    }\n",
              "\n",
              "    [theme=dark] .colab-df-convert {\n",
              "      background-color: #3B4455;\n",
              "      fill: #D2E3FC;\n",
              "    }\n",
              "\n",
              "    [theme=dark] .colab-df-convert:hover {\n",
              "      background-color: #434B5C;\n",
              "      box-shadow: 0px 1px 3px 1px rgba(0, 0, 0, 0.15);\n",
              "      filter: drop-shadow(0px 1px 2px rgba(0, 0, 0, 0.3));\n",
              "      fill: #FFFFFF;\n",
              "    }\n",
              "  </style>\n",
              "\n",
              "      <script>\n",
              "        const buttonEl =\n",
              "          document.querySelector('#df-eba48c59-5e5e-435d-8735-c220863802be button.colab-df-convert');\n",
              "        buttonEl.style.display =\n",
              "          google.colab.kernel.accessAllowed ? 'block' : 'none';\n",
              "\n",
              "        async function convertToInteractive(key) {\n",
              "          const element = document.querySelector('#df-eba48c59-5e5e-435d-8735-c220863802be');\n",
              "          const dataTable =\n",
              "            await google.colab.kernel.invokeFunction('convertToInteractive',\n",
              "                                                     [key], {});\n",
              "          if (!dataTable) return;\n",
              "\n",
              "          const docLinkHtml = 'Like what you see? Visit the ' +\n",
              "            '<a target=\"_blank\" href=https://colab.research.google.com/notebooks/data_table.ipynb>data table notebook</a>'\n",
              "            + ' to learn more about interactive tables.';\n",
              "          element.innerHTML = '';\n",
              "          dataTable['output_type'] = 'display_data';\n",
              "          await google.colab.output.renderOutput(dataTable, element);\n",
              "          const docLink = document.createElement('div');\n",
              "          docLink.innerHTML = docLinkHtml;\n",
              "          element.appendChild(docLink);\n",
              "        }\n",
              "      </script>\n",
              "    </div>\n",
              "  </div>\n",
              "  "
            ]
          },
          "metadata": {},
          "execution_count": 22
        }
      ]
    },
    {
      "cell_type": "code",
      "source": [
        "# TESTE DE AZAR COM GRUPO\n",
        "from sklearn.model_selection import GroupKFold\n",
        "\n",
        "SEED = 301\n",
        "np.random.seed(SEED)\n",
        "\n",
        "cv = GroupKFold(n_splits = 10)\n",
        "modelo = DecisionTreeClassifier(max_depth=2)\n",
        "results = cross_validate(modelo, x_azar, y_azar, cv = cv, return_train_score=False,\n",
        "                         groups=dados['modelo'])\n",
        "\n",
        "# VALIDAÇÃO\n",
        "media = results[\"test_score\"].mean()\n",
        "desvio_padrao = results[\"test_score\"].std()\n",
        "# 95% dos dados estão entre os dois devios para mais ou menos.\n",
        "print('Resultados dos Fold: ', results['test_score'].round(5))\n",
        "print(f'Média da Validação Cruzada: {media:.2%}')\n",
        "print(f'Intervalo da acurácia: [{media-desvio_padrao*2:.2%}, {media+desvio_padrao*2:.2%}]')"
      ],
      "metadata": {
        "colab": {
          "base_uri": "https://localhost:8080/"
        },
        "id": "QTn28mHxfJbq",
        "outputId": "43b74b42-72c6-4a23-cc3b-c595bb3e63ef"
      },
      "execution_count": null,
      "outputs": [
        {
          "output_type": "stream",
          "name": "stdout",
          "text": [
            "Resultados dos Fold:  [0.76016 0.76098 0.74772 0.76816 0.7619  0.76992 0.7336  0.76263 0.76429\n",
            " 0.74906]\n",
            "Média da Validação Cruzada: 75.78%\n",
            "Intervalo da acurácia: [73.67%, 77.90%]\n"
          ]
        }
      ]
    },
    {
      "cell_type": "markdown",
      "source": [
        "## <font color=orange>Pipeline</font>\n",
        "\n",
        "O Pipeline é uma forma de criar uma sequência de ações, um processo de execução, com todos os requisitos para o modelo.\n",
        "\n",
        "Com ele é possível encadear tratamentos com a validação cruzada."
      ],
      "metadata": {
        "id": "6XSVVA3kwqUo"
      }
    },
    {
      "cell_type": "markdown",
      "source": [
        "### <font color=orange>Cross-Validation com StandarScaler</font>\n",
        "\n",
        "Agora veremos como ficará a estrutura da modelagem com a transformação de rescalamento."
      ],
      "metadata": {
        "id": "eva5YAhfuy4c"
      }
    },
    {
      "cell_type": "code",
      "source": [
        "# PIPELINE SIMPLES com Scaler\n",
        "from sklearn.preprocessing import StandardScaler\n",
        "from sklearn.svm import SVC\n",
        "\n",
        "SEED = 301\n",
        "np.random.seed(SEED)\n",
        "\n",
        "scaler = StandardScaler()\n",
        "scaler.fit(treino_x)\n",
        "treino_x_escalado = scaler.transform(treino_x)\n",
        "teste_x_escalado = scaler.transform(teste_x)\n",
        "\n",
        "modelo = SVC()\n",
        "modelo.fit(treino_x_escalado, treino_y)\n",
        "previsoes = modelo.predict(teste_x_escalado)\n",
        "\n",
        "acuracia = accuracy_score(teste_y, previsoes) * 100\n",
        "print(\"A acurácia foi de %.2f %%\" % acuracia)"
      ],
      "metadata": {
        "colab": {
          "base_uri": "https://localhost:8080/"
        },
        "id": "tfqe9Txlu5Lj",
        "outputId": "57d05e89-9fde-4d9e-ce85-27b33d6c685d"
      },
      "execution_count": null,
      "outputs": [
        {
          "output_type": "stream",
          "name": "stdout",
          "text": [
            "A acurácia foi de 74.40 %\n"
          ]
        }
      ]
    },
    {
      "cell_type": "code",
      "source": [
        "# PIPELINE COM CROSS-VALIDATE - sem scaler\n",
        "# TESTE DE AZAR COM GRUPO\n",
        "from sklearn.model_selection import GroupKFold\n",
        "\n",
        "SEED = 301\n",
        "np.random.seed(SEED)\n",
        "\n",
        "cv = GroupKFold(n_splits = 10)\n",
        "modelo = SVC()\n",
        "results = cross_validate(modelo, x_azar, y_azar, cv = cv, return_train_score=False,\n",
        "                         groups=dados['modelo'])\n",
        "\n",
        "# VALIDAÇÃO\n",
        "media = results[\"test_score\"].mean()\n",
        "desvio_padrao = results[\"test_score\"].std()\n",
        "# 95% dos dados estão entre os dois devios para mais ou menos.\n",
        "print('Resultados dos Fold: ', results['test_score'].round(5))\n",
        "print(f'Média da Validação Cruzada: {media:.2%}')\n",
        "print(f'Intervalo da acurácia: [{media-desvio_padrao*2:.2%}, {media+desvio_padrao*2:.2%}]')"
      ],
      "metadata": {
        "colab": {
          "base_uri": "https://localhost:8080/"
        },
        "id": "x-yS-C4Dvhdy",
        "outputId": "f5f9c843-087a-4fc6-b372-611854c7758a"
      },
      "execution_count": null,
      "outputs": [
        {
          "output_type": "stream",
          "name": "stdout",
          "text": [
            "Resultados dos Fold:  [0.77701 0.78447 0.78116 0.77612 0.77305 0.7988  0.74975 0.77677 0.7602\n",
            " 0.75   ]\n",
            "Média da Validação Cruzada: 77.27%\n",
            "Intervalo da acurácia: [74.35%, 80.20%]\n"
          ]
        }
      ]
    },
    {
      "cell_type": "code",
      "source": [
        "# PIPELINE - com CV e SCALER\n",
        "from sklearn.pipeline import Pipeline\n",
        "\n",
        "SEED = 301\n",
        "np.random.seed(SEED)\n",
        "\n",
        "scaler = StandardScaler()\n",
        "modelo = SVC()\n",
        "\n",
        "pipeline = Pipeline([('transformacao', scaler), ('estimador', modelo)])\n",
        "\n",
        "cv = GroupKFold(n_splits = 10)\n",
        "results = cross_validate(\n",
        "    pipeline, x_azar, y_azar, \n",
        "    cv = cv, return_train_score=False,\n",
        "    groups=dados['modelo'])\n",
        "\n",
        "# VALIDAÇÃO\n",
        "media = results[\"test_score\"].mean()\n",
        "desvio_padrao = results[\"test_score\"].std()\n",
        "# 95% dos dados estão entre os dois devios para mais ou menos.\n",
        "print('Resultados dos Fold: ', results['test_score'].round(5))\n",
        "print(f'Média da Validação Cruzada: {media:.2%}')\n",
        "print(f'Intervalo da acurácia: [{media-desvio_padrao*2:.2%}, {media+desvio_padrao*2:.2%}]')"
      ],
      "metadata": {
        "colab": {
          "base_uri": "https://localhost:8080/"
        },
        "id": "A1InL0luwyTN",
        "outputId": "8b384b04-80de-42bb-c307-3948f86d3c02"
      },
      "execution_count": null,
      "outputs": [
        {
          "output_type": "stream",
          "name": "stdout",
          "text": [
            "Resultados dos Fold:  [0.77007 0.77937 0.78318 0.7602  0.76697 0.78586 0.75076 0.76364 0.7551\n",
            " 0.75281]\n",
            "Média da Validação Cruzada: 76.68%\n",
            "Intervalo da acurácia: [74.28%, 79.08%]\n"
          ]
        }
      ]
    },
    {
      "cell_type": "markdown",
      "source": [
        "# TESTES\n",
        "\n",
        "Aqui é um espaço para fazer algumas experimentações de códigos."
      ],
      "metadata": {
        "id": "VKZuilQOAtzf"
      }
    },
    {
      "cell_type": "markdown",
      "source": [
        "## KFold\n",
        "\n",
        "Comportamento do KFOld. \n",
        "\n",
        "- O que gera? \n",
        "- Como usar ele sem a função `cross_validate`?"
      ],
      "metadata": {
        "id": "37JNlOMBAv-a"
      }
    },
    {
      "cell_type": "code",
      "source": [
        "from sklearn.model_selection import KFold\n",
        "\n",
        "\"\"\"\n",
        "split: -> [[train, test], [...]]\n",
        "\"\"\"\n",
        "\n",
        "# Instance \n",
        "kf = KFold(n_splits=2)\n",
        "# Number of Folds\n",
        "kf.get_n_splits(x_azar)\n",
        "# model\n",
        "print(kf)\n",
        "# \n",
        "for train_index, test_index in kf.split(x_azar):\n",
        "    print(\"TRAIN:\", train_index, \"TEST:\", test_index)"
      ],
      "metadata": {
        "colab": {
          "base_uri": "https://localhost:8080/"
        },
        "id": "D7U2RSNUAu7h",
        "outputId": "0eb120bd-d9c9-4f8e-d51a-2c9c33d79ef1"
      },
      "execution_count": null,
      "outputs": [
        {
          "output_type": "stream",
          "name": "stdout",
          "text": [
            "KFold(n_splits=2, random_state=None, shuffle=False)\n",
            "TRAIN: [5000 5001 5002 ... 9997 9998 9999] TEST: [   0    1    2 ... 4997 4998 4999]\n",
            "TRAIN: [   0    1    2 ... 4997 4998 4999] TEST: [5000 5001 5002 ... 9997 9998 9999]\n"
          ]
        }
      ]
    },
    {
      "cell_type": "markdown",
      "source": [
        "## SKLEARN - Guide\n"
      ],
      "metadata": {
        "id": "VVosW7781VdE"
      }
    },
    {
      "cell_type": "markdown",
      "source": [
        "Para entender a importância da Validação-Cruzada, vamos fazer um caso simples para identificar os riscos. Neste caso, iremos criar uma separção aleatória única e um modelo de classificação linear SVM."
      ],
      "metadata": {
        "id": "lSsKzcf41u6-"
      }
    },
    {
      "cell_type": "code",
      "source": [
        "# DATASET\n",
        "import numpy as np\n",
        "from sklearn import datasets\n",
        "\n",
        "X, y = datasets.load_iris(return_X_y=True)\n",
        "X.shape, y.shape"
      ],
      "metadata": {
        "colab": {
          "base_uri": "https://localhost:8080/"
        },
        "id": "qawqsW9s1ZmI",
        "outputId": "b5a60e82-e693-4073-8a6f-e63df4a91de8"
      },
      "execution_count": null,
      "outputs": [
        {
          "output_type": "execute_result",
          "data": {
            "text/plain": [
              "((150, 4), (150,))"
            ]
          },
          "metadata": {},
          "execution_count": 1
        }
      ]
    },
    {
      "cell_type": "markdown",
      "source": [
        "Com a base de dados, iremos separar aleatóriamente em treino e teste em uma única vez."
      ],
      "metadata": {
        "id": "jVkOp_iG2MOm"
      }
    },
    {
      "cell_type": "code",
      "source": [
        "# SEPARAÇÃO TREINO E TESTES\n",
        "X_train, X_test, y_train, y_test = train_test_split(\n",
        "     X, y, test_size=0.4, random_state=0)\n",
        "\n",
        ">>> X_train.shape, y_train.shape\n",
        "((90, 4), (90,))\n",
        ">>> X_test.shape, y_test.shape\n",
        "((60, 4), (60,))\n",
        "\n",
        ">>> clf = svm.SVC(kernel='linear', C=1).fit(X_train, y_train)\n",
        ">>> clf.score(X_test, y_test)\n",
        "0.96..."
      ],
      "metadata": {
        "id": "mEHX1Oad1jGD"
      },
      "execution_count": null,
      "outputs": []
    }
  ]
}