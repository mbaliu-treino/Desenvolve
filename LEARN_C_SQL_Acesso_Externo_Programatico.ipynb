{
  "nbformat": 4,
  "nbformat_minor": 0,
  "metadata": {
    "colab": {
      "provenance": [],
      "toc_visible": true,
      "authorship_tag": "ABX9TyP+/cJv54mr9VBVs1npjn/V",
      "include_colab_link": true
    },
    "kernelspec": {
      "name": "python3",
      "display_name": "Python 3"
    },
    "language_info": {
      "name": "python"
    }
  },
  "cells": [
    {
      "cell_type": "markdown",
      "metadata": {
        "id": "view-in-github",
        "colab_type": "text"
      },
      "source": [
        "<a href=\"https://colab.research.google.com/github/mbaliu-treino/Desenvolve/blob/main/LEARN_C_SQL_Acesso_Externo_Programatico.ipynb\" target=\"_parent\"><img src=\"https://colab.research.google.com/assets/colab-badge.svg\" alt=\"Open In Colab\"/></a>"
      ]
    },
    {
      "cell_type": "markdown",
      "source": [
        "# <font color=orange><b>SQL: Acesso Externo (acessando o  BigQuery de forma externa - programática)</b></font>\n",
        "\n",
        "<a href=\"https://cursos.alura.com.br/course/big-query-manipulacao-programatico-linguagens\"><font size=2; color=gray>Arquivo Colab</a></font>\n",
        "\n",
        "<ul><font size=2 color=gray>FICHA TÉCNICA\n",
        "<li><a href=https://cursos.alura.com.br/course/bigquery-manipulacao-dados><font size=2 color=gray>Acesso ao Big Query: manipulação programático linguagens</a>\n",
        "<li>Carga Horária: 12 h\n",
        "<li>Instrutora: Victorino Vila\n",
        "<li>Data de Início: 11-2022\n",
        "</ul>\n",
        "\n",
        "\n",
        "Este caderno contém algumas anotações sobre como acessar de forma externa o Google BigQuery para as principais operações através de linguagens de programação."
      ],
      "metadata": {
        "id": "JSeHxPLGhvUz"
      }
    },
    {
      "cell_type": "markdown",
      "source": [
        "## <font color=orange><b>Conteúdo</b></font>\n",
        "\n",
        "* Ambiente do Google Cloud\n",
        "* Princípio do acesso externo\n",
        "    * Linguagens programáticas\n",
        "* Chaves de segurança\n",
        "* Utilização de linguagens de programação para:\n",
        "    * Executar códigos SQL\n",
        "    * Criar novas tabelas\n",
        "    * Carregar dados\n",
        "    * Transferir dados de tabelas\n",
        "    * Excluir tabelas e datasets"
      ],
      "metadata": {
        "id": "Rs0aFUuS6P56"
      }
    },
    {
      "cell_type": "markdown",
      "source": [
        "# <font color=orange><b>CURSO</b></font>\n"
      ],
      "metadata": {
        "id": "ARUfEjcsnUvf"
      }
    },
    {
      "cell_type": "markdown",
      "source": [
        "## <font color=orange><b>Google Cloud Environment</b></font>\n",
        "\n",
        "As operações com o banco de dados do BIG QUERY são realizadas através de <font color=orange>API do BigQuery</font>, podendo ser realizadas ou através da Interface gráfica do Google Big Query ou acessadas através do Google Data Studio."
      ],
      "metadata": {
        "id": "FdgcenMnmf4h"
      }
    },
    {
      "cell_type": "markdown",
      "source": [
        "## <font color=orange><b>Acessos Externos</b></font>\n",
        "\n",
        "Os acessos externos são operações realizadas fora do ambiente do Google, mas que utilizam os dados armazenados no ambiente do Big Query. Podem ser ferramentas de Dashboard como o PowerBI; ou na utilização de programas para aplicações (web, desktop, mobile etc).\n",
        "\n",
        "Para acessar ao ambiente do Big Query de forma externa é necessário a <font color=orange>chave de segurança</font>, que pode ser armazenada em um JSON."
      ],
      "metadata": {
        "id": "W-UN2sZ3vNRK"
      }
    },
    {
      "cell_type": "markdown",
      "source": [
        "## <font color=orange><b>Ambiente de Desenvolvimento</b></font>\n",
        "\n",
        "O ambiente de desenvolvimento é o conjunto de ferramentas necessárias para a criação e execução dos códigos de programação. Cada uma das ferramentas externas possui um jeito para acessar o Big Query. Mas todas exigirão:\n",
        "\n",
        "* uma chave de acesso;\n",
        "* métodos de comunicação com a API do Big Query (<font color=orange>bibliotecas</font>)\n"
      ],
      "metadata": {
        "id": "SqgzolEMwiIT"
      }
    },
    {
      "cell_type": "markdown",
      "source": [
        "### <font color=orange>Visual Studio Community</font>\n",
        "\n",
        "As operações realizadas no Visual Studio Community também podem ser realizada no VS Code.\n",
        "\n",
        "O VS Code pode ser expandido com os plugins e é um editor leve, permitindo ser trabalho em diversos OS. Já o Community é uma IDE, mais pesado e de maior capacidade de execução."
      ],
      "metadata": {
        "id": "DzzcrDguw2pa"
      }
    },
    {
      "cell_type": "markdown",
      "source": [
        "### <font color=orange>C# - C Sharp</font>\n",
        "\n",
        "Os arquivos CS são códigos de programação do C#. É desenvolvida pela Microsoft como parte da plataforma .NET. Este é uma framework aberto e livre para diversos sistemas operacionais. Ela foi baseada na orientação a objetos do C++. Surgiu me 2000."
      ],
      "metadata": {
        "id": "kuAPGGjHzlJT"
      }
    },
    {
      "cell_type": "markdown",
      "source": [
        "### <font color=orange>Python</font>\n",
        "\n",
        "Os projetos em Python podem também ser executados no VS Community."
      ],
      "metadata": {
        "id": "qqURtlu80Ygv"
      }
    },
    {
      "cell_type": "markdown",
      "source": [
        "### <font color=orange>Node.JS</font>\n",
        "\n",
        "Para usar o Node.JS no VS Community é preciso primeiro instalar o framework na máquina de forma padrão.\n",
        "\n",
        "Para identificar no VS Community é preciso modificar o software através do VS Installer."
      ],
      "metadata": {
        "id": "9NLroQEa0tYW"
      }
    },
    {
      "cell_type": "markdown",
      "source": [
        "### <font color=orange>JAVA</font>\n",
        "\n",
        "Para rodar códigos JAVA"
      ],
      "metadata": {
        "id": "GoQTruKW1c7a"
      }
    },
    {
      "cell_type": "markdown",
      "source": [
        "### <font color=orange>JSON de Segurança</font>\n",
        "\n",
        "Para que as biliotecas das linguagens de programação possam se comunicar com o Big QUery é necessário a <font color=orange>chave de segurança</font>.\n"
      ],
      "metadata": {
        "id": "Sb0npxEk5RkQ"
      }
    },
    {
      "cell_type": "markdown",
      "source": [
        "#### Big Query API\n",
        "\n",
        "1. Ativação da API: `Google Console > Menu de Navegação > API e Serviços > Biblioteca`. Buscar por `Big Query API`.\n"
      ],
      "metadata": {
        "id": "W2E3QQNG_d5K"
      }
    },
    {
      "cell_type": "markdown",
      "source": [
        "#### **Credenciais**\n",
        "\n",
        "Existem diversas formas de criar credenciais para os projetos. Aqui será usada a <font color=orange>Conta de Serviços</font>.\n",
        "\n",
        "As Contas de Serviço permite identificar uma conta robô para ativação da autenticação. Essas credenciais permite o acesso para todos os recursos do sistema Google e não só para o Big Query.\n",
        "\n",
        "> Uma conta de serviço é um tipo especial de conta usada por um aplicativo ou instância de máquina virtual (VM) não uma pessoa. Os aplicativos usam contas de serviço para fazer chamadas de API autorizadas como a própria conta de serviço\n",
        "\n",
        "1. Ativação da API: `Google Console > Menu de Navegação > API e Serviços > Credenciais > Gerenciar Contas de Serviço`.\n",
        "2. Criar Conta de Serviço\n",
        "    * Projeto > Proprietário\n",
        "3. Concluir\n",
        "4. `... > Gerenciar Chaves > Adicionar Chaves > CriarNova Chave > Tipo: JSON`\n"
      ],
      "metadata": {
        "id": "VluRYzdAAcBq"
      }
    },
    {
      "cell_type": "markdown",
      "source": [
        "### <font color=orange>Variável de Ambiente</font>\n",
        "\n",
        "Os métodos dos componentes/bibliotecas/pacotes, que estarão acoplados ao prógrama do usuário, irão executar os métodos da API do Big Query. Para isso, eles precisam passar o JSON junto com as requisições para que o Google Cloud reconheça que é uma requisição segura. Então as requisições deverão passar pela segurança do Google Cloud, conversar com API do Big Query e alterando o banco de dados.\n",
        "\n",
        "Para registrar a localização do JSON usa-se uma variável de ambiente no OS.\n",
        "* Válido para todos os usuários\n",
        "* Nome padrão (`GOOGLE_APPLICATION_CREDENTIALS`)"
      ],
      "metadata": {
        "id": "c-8wa11IHVWg"
      }
    },
    {
      "cell_type": "markdown",
      "source": [
        "1. Editar variaveis de ambiente > Variáveis de Ambiente\n",
        "2. Criar nova Variável de Sistema"
      ],
      "metadata": {
        "id": "gNXrTE7YIkme"
      }
    },
    {
      "cell_type": "markdown",
      "source": [
        "Ou por linha de comando (adm):\n",
        "\n",
        "`SETX var file_path /m`\n",
        "\n",
        "`SETX GOOGLE_APPLICATION_CREDENTIALS C:\\Users\\BIGQUERY_acessoExterno\\chave\\bigquery-treinamento-8d3ecf5cd585.json /m`"
      ],
      "metadata": {
        "id": "MbhooFqcLOy0"
      }
    },
    {
      "cell_type": "markdown",
      "source": [
        "### <font color=orange>Bibliotecas</font>\n",
        "\n",
        "#### <font color=orange>PYTHON</font>\n",
        "\n",
        "* CMD: `pip install google-cloud-bigquery`"
      ],
      "metadata": {
        "id": "rid7taNdRUnL"
      }
    },
    {
      "cell_type": "markdown",
      "source": [
        "## <font color=orange>Consulta SQL</font>\n",
        "\n",
        "Os problemas operacionais podem ser resolvidos através da interação com o Big Query. As consultas SQL são as execuções mais comuns nas aplicações.\n",
        "\n",
        "A consulta de referência será:\n",
        "\n",
        "```sql\n",
        "SELECT DISTINCT nome, periodo_id\n",
        "FROM `BitbyteDW.curso`\n",
        "WHERE periodo_id LIKE '2010.%'\n",
        "```"
      ],
      "metadata": {
        "id": "i5_SqHZzS0Nr"
      }
    },
    {
      "cell_type": "markdown",
      "source": [
        "**PYTHON**"
      ],
      "metadata": {
        "id": "WWMxfP0hWIVg"
      }
    },
    {
      "cell_type": "markdown",
      "source": [
        "* `Client`: pode ser especificado o projeto em que se pretende trabalhar. Pois dentro de um JSON pode haver diversos projetos.\n",
        "\n",
        "* A biblioteca retorna uma objeto com as linhas do resultado da query. As colunas podem ser acessadas separadamente.\n",
        "* Resulto: `google.cloud.bigquery.table.RowIterator`\n",
        "* Linha: `google.cloud.bigquery.table.Row`\n"
      ],
      "metadata": {
        "id": "Wag2H4QUZ_tx"
      }
    },
    {
      "cell_type": "markdown",
      "source": [
        "* [[DOCS] Query results as dataframe](https://cloud.google.com/bigquery/docs/samples/bigquery-query-results-dataframe)"
      ],
      "metadata": {
        "id": "Rc4nly1Bblx-"
      }
    },
    {
      "cell_type": "code",
      "source": [
        "from google.cloud import bigquery\n",
        "\n",
        "# Conexão com o projeto\n",
        "client = bigquery.Client()\n",
        "consultaSQL = \"\"\"\n",
        "    SELECT DISTINCT nome, periodo_id \n",
        "    FROM `projeto-final-bq-ds-369013.BitbyteDW.curso` \n",
        "    WHERE periodo_id LIKE '2010.%'\n",
        "    \"\"\"\n",
        "\n",
        "# Job no Google - criar um job para a consulta (fila de execução)\n",
        "query_job = client.query(consultaSQL)\n",
        "df = query_job.to_dataframe()\n",
        "\n",
        "resultadoSQL = query_job.result()\n",
        "\n",
        "for linha in resultadoSQL:\n",
        "    print('NOME: ' + linha.nome + ', PERÍODO: ' + str(linha.periodo_id))"
      ],
      "metadata": {
        "id": "Uo3CBFa6Zo1D"
      },
      "execution_count": null,
      "outputs": []
    },
    {
      "cell_type": "markdown",
      "source": [
        "* CMD: `python programa001.py`"
      ],
      "metadata": {
        "id": "9MbldpAGaYQv"
      }
    },
    {
      "cell_type": "markdown",
      "source": [
        "Amostra do retorno do programa\n",
        "```\n",
        "NOME: Scrum e métodos ágeis, PERÍODO: 2010.1\n",
        "NOME: Desenvolvimento web com VRaptor, PERÍODO: 2010.1\n",
        "NOME: Desenvolvimento mobile com iOS, PERÍODO: 2010.1\n",
        "NOME: Desenvolvimento mobile com Android, PERÍODO: 2010.1\n",
        "NOME: Ruby on Rails, PERÍODO: 2010.1\n",
        "NOME: PHP e MySql, PERÍODO: 2010.1\n",
        "NOME: C# e orientação a objetos, PERÍODO: 2010.1\n",
        "NOME: Java e orientação a objetos, PERÍODO: 2010.1\n",
        "```"
      ],
      "metadata": {
        "id": "b6FVJSLMae_s"
      }
    },
    {
      "cell_type": "markdown",
      "source": [
        "```\n",
        "df = query_job.to_dataframe()\n",
        "print(df)\n",
        "\n",
        "                                  nome periodo_id\n",
        "0                Scrum e métodos ágeis     2010.1\n",
        "1      Desenvolvimento web com VRaptor     2010.1\n",
        "2       Desenvolvimento mobile com iOS     2010.1\n",
        "3   Desenvolvimento mobile com Android     2010.1\n",
        "```"
      ],
      "metadata": {
        "id": "dM-PZAXTdmFt"
      }
    },
    {
      "cell_type": "code",
      "source": [
        "# Obtenção da tabela (API request)\n",
        "destination_table = client.get_table(table_id) "
      ],
      "metadata": {
        "id": "ATcYyhFg2Cy4"
      },
      "execution_count": null,
      "outputs": []
    },
    {
      "cell_type": "markdown",
      "source": [
        "## <font color=orange>Criação de Tabelas</font>\n",
        "\n",
        "Durante o processo de ETL/ELT no Big Query é muito comum que seja trabalho com diversas **tabelas temporárias**. Então ter uma forma de criar dinamicamente estas tabelas, segundo um layoout previamente definifo seria muito útil.\n",
        "\n",
        "A criação de uma tabela nova através da interface gráfica segue o seguinte processo:\n",
        "\n",
        "1. Abrir Conjunto de Dados\n",
        "2. Criar Tabela ...\n",
        "3. Criar Tabela de: Tabela em branco\n",
        "4. Destino\n",
        "    * Projeto\n",
        "    * Conjunto de dados\n",
        "    * Nome da tabela\n",
        "5. Esquema (campos) [UI ou por texto]\n",
        "    * Nome do campo\n",
        "    * Tipo de dado\n",
        "\n",
        "Então o desafio é como fazer este processo através de linguagens de programação."
      ],
      "metadata": {
        "id": "-k0BM7WaXaML"
      }
    },
    {
      "cell_type": "markdown",
      "source": [
        "\n",
        "\n",
        "```sql\n",
        "-- Esquema por texto\n",
        "CODIGO:INTEGER,\n",
        "DESCRITOR:STRING,\n",
        "DATA:DATE,\n",
        "CASADO:BOOLEAN\n",
        "```\n",
        "\n",
        "```json\n",
        "[\n",
        "    {\n",
        "        \"name\": \"CODIGO\",\n",
        "        \"type\": \"INTEGER\",\n",
        "        \"mode\": \"NULLABLE\"\n",
        "    },\n",
        "    {\n",
        "        \"name\": \"DESCRITOR\",\n",
        "        \"type\": \"STRING\",\n",
        "        \"mode\": \"NULLABLE\",\n",
        "        \"maxLength\": \"255\"\n",
        "    },\n",
        "    {\n",
        "        \"name\": \"DATA\",\n",
        "        \"type\": \"DATE\",\n",
        "        \"mode\": \"NULLABLE\"\n",
        "    },\n",
        "    {\n",
        "        \"name\": \"CASADO\",\n",
        "        \"type\": \"BOOLEAN\",\n",
        "        \"mode\": \"NULLABLE\",\n",
        "        \"description\": \"Pergunta booleana\"\n",
        "    }\n",
        "]\n",
        "```"
      ],
      "metadata": {
        "id": "G6sfw7UibVZt"
      }
    },
    {
      "cell_type": "markdown",
      "source": [
        "**PYTHON**"
      ],
      "metadata": {
        "id": "iEKH8A8abYyj"
      }
    },
    {
      "cell_type": "markdown",
      "source": [
        "1. Conexão do Cliente com o projeto Google\n",
        "2. Criação do ESQUEMA (estrutura dos campos)\n",
        "3. Identificação do nome completo da nova tabela\n",
        "4. Criação do Objeto Table\n",
        "5. Solicitação do cliente de criação de tabela\n",
        "6. Verificação"
      ],
      "metadata": {
        "id": "xP0fvaptbZTM"
      }
    },
    {
      "cell_type": "code",
      "source": [
        "# CRIAÇÃO DE TABELAS\n",
        "from google.cloud import bigquery\n",
        "\n",
        "# 1. Projeto nomeado\n",
        "client = bigquery.Client(project='projeto-final-bq-ds-369013')\n",
        "\n",
        "# 2. SCHEMA - CAMPOS\n",
        "schema = [\n",
        "    bigquery.SchemaField('CODIGO', 'INTEGER'),\n",
        "    bigquery.SchemaField('DESCRICAO', 'STRING'),\n",
        "    bigquery.SchemaField('DATA', 'DATE'),\n",
        "    bigquery.SchemaField('CASADO', 'BOOLEAN')\n",
        "]\n",
        "\n",
        "# 3. Nome completo\n",
        "table_id = 'projeto-final-bq-ds-369013.BitbyteDW.CLIENTE_PYTHON'\n",
        "# 4. Objeto Table\n",
        "table = bigquery.Table(table_ref=table_id, schema=schema)\n",
        "# 5. Requisição do cliente\n",
        "table = client.create_table(table)\n",
        "# 6. Verificação\n",
        "print(f'TABELA CRIADA {table.project}.{table.dataset_id}.{table.table_id}')"
      ],
      "metadata": {
        "id": "sWCjxP37hbvA"
      },
      "execution_count": null,
      "outputs": []
    },
    {
      "cell_type": "code",
      "source": [
        "# EXEMPLO 2: Criação de múltiplas tabelas\n",
        "from google.cloud import bigquery\n",
        "\n",
        "client = bigquery.Client(project=\"projeto-final-bq-ds-369013\")\n",
        "\n",
        "schemaAgencia = [\n",
        "    bigquery.SchemaField(\"NUMERO_AGENCIA\",\"STRING\"),\n",
        "    bigquery.SchemaField(\"NOME_AGENCIA\",\"STRING\")\n",
        "    ]\n",
        "schemaCliente = [\n",
        "    bigquery.SchemaField(\"CPF\",\"STRING\"),\n",
        "    bigquery.SchemaField(\"NOME_CLIENTE\",\"STRING\")\n",
        "    ]\n",
        "schemaContaCorrente = [\n",
        "    bigquery.SchemaField(\"NUMERO_CONTA\",\"STRING\"),\n",
        "    bigquery.SchemaField(\"NUMERO_AGENCIA\",\"STRING\"), \n",
        "    bigquery.SchemaField(\"NOME_CLIENTE\",\"STRING\"),\n",
        "    bigquery.SchemaField(\"TIPO_CONTA\",\"INTEGER\")\n",
        "    ]\n",
        "\n",
        "table_idAgencias = \"projeto-final-bq-ds-369013.BYTEBANK_PYTHON.AGENCIAS\"\n",
        "tableAgencias = bigquery.Table(table_idAgencias, schemaAgencia)\n",
        "tableAgencias = client.create_table(tableAgencias)\n",
        "\n",
        "table_idClientes = \"projeto-final-bq-ds-369013.BYTEBANK_PYTHON.CLIENTES\"\n",
        "tableClientes = bigquery.Table(table_idClientes, schemaCliente)\n",
        "tableClientes = client.create_table(tableClientes)\n",
        "\n",
        "table_idContasCorrente = \"projeto-final-bq-ds-369013.BYTEBANK_PYTHON.CONTAS_CORRENTE\"\n",
        "tableContasCorrente = bigquery.Table(table_idContasCorrente, schemaContaCorrente)\n",
        "tableContasCorrente = client.create_table(tableContasCorrente)\n",
        "\n",
        "print(\"Tabelas Criadas\")"
      ],
      "metadata": {
        "id": "mMwTgTcCixVM"
      },
      "execution_count": null,
      "outputs": []
    },
    {
      "cell_type": "markdown",
      "source": [
        "Ou ainda, a criação dos esquemas pode ser mais *pythonic*."
      ],
      "metadata": {
        "id": "aV0doFeXjVQ9"
      }
    },
    {
      "cell_type": "code",
      "source": [
        "schemaContaCorrente = {\n",
        "    \"NUMERO_CONTA\": \"STRING\",\n",
        "    \"NUMERO_AGENCIA\": \"STRING\", \n",
        "    \"NOME_CLIENTE\": \"STRING\",\n",
        "    \"TIPO_CONTA\": \"INTEGER\"\n",
        "}\n",
        "\n",
        "sd = schemaContaCorrente\n",
        "schemaContaCorrente = [bigquery.SchemaField(field, sd[field]) for field in sd]"
      ],
      "metadata": {
        "colab": {
          "base_uri": "https://localhost:8080/"
        },
        "id": "B-7kPW4Mjbtq",
        "outputId": "f0091f6c-6ee4-4c5b-820e-454da1f0e18b"
      },
      "execution_count": null,
      "outputs": [
        {
          "output_type": "execute_result",
          "data": {
            "text/plain": [
              "['bigquery.SchemaField(NUMERO_CONTA, STRING)',\n",
              " 'bigquery.SchemaField(NUMERO_AGENCIA, STRING)',\n",
              " 'bigquery.SchemaField(NOME_CLIENTE, STRING)',\n",
              " 'bigquery.SchemaField(TIPO_CONTA, INTEGER)']"
            ]
          },
          "metadata": {},
          "execution_count": 6
        }
      ]
    },
    {
      "cell_type": "markdown",
      "source": [
        "## <font color=orange>Carregando dados CSV</font>\n",
        "\n",
        "Outro desafio comum é colocar dados dentro das tabelas através de **arquivos externos**.\n",
        "\n",
        "Ao carregar um CSV, o Big Uqery interpreta a sua estrutura (schema) e cria uma nova tabela para os novos dados. Existem diversas formas de importar dados CSV. Neste caso será experimentado a importação de arquivos armazenados no Google Cloud Storage ([arquivo](https://caelum-online-public.s3.amazonaws.com/2115-acesso-big-query/05/_desktop-consideracoes-sobre-leitura.zip)).\n",
        "\n",
        "\n",
        "1. **Cloud Storage**: Repositório interno do Google Cloud\n",
        "    * **INTERVALO/BUCKET**: repositório dentro do qual poderá ter pastas e arquivos.\n",
        "    * Localização do arquivo: `gs://curso-bigquery-1234/externo/DADOS_EXTERNO.csv`\n",
        "2. Big Query\n",
        "    * Origem: Google Cloud Storage\n",
        "    * Detecção automática do esquema\n",
        "    * Pular a primeira linha: cabeçalho\n",
        "\n",
        "Então o desafio é como fazer este processo através de linguagens de programação."
      ],
      "metadata": {
        "id": "bAG9TFiSl9pL"
      }
    },
    {
      "cell_type": "markdown",
      "source": [
        "**PYTHON**"
      ],
      "metadata": {
        "id": "ZFU21EX-Bw62"
      }
    },
    {
      "cell_type": "markdown",
      "source": [
        "Através do Python é possível executar o carregamento de dados externos a uma tabela do Big Query através dos métodos da biblioteca. Os métodos criarão e carregarão a tabela com os dados do arquivo.\n"
      ],
      "metadata": {
        "id": "KGhGz876Bw63"
      }
    },
    {
      "cell_type": "markdown",
      "source": [
        "Os métodos permitem os seguintes tipos de estruturas de arquivos para a carga de dados:\n",
        "\n",
        "* CSV\n",
        "* DstaFrame\n",
        "* JSON\n",
        "* URI"
      ],
      "metadata": {
        "id": "BuxH5hkwsdtw"
      }
    },
    {
      "cell_type": "markdown",
      "source": [
        "### GC Storage"
      ],
      "metadata": {
        "id": "l_nZzzOW2uXF"
      }
    },
    {
      "cell_type": "markdown",
      "source": [
        "**ROTEIRO DE CARGA VIA PYTHON**\n",
        "\n",
        "1. Conexão do Cliente com o projeto Google\n",
        "2. Criação do ESQUEMA (estrutura dos campos)\n",
        "    * A ordem das colunas do CSV\n",
        "3. Identificação do nome completo da nova tabela\n",
        "4. Configuração do Job\n",
        "5. URI de fonte (no caso do Google Cloud Storage)\n",
        "6. Execução do Job\n",
        "7. Verificação"
      ],
      "metadata": {
        "id": "CDswHiw10I8B"
      }
    },
    {
      "cell_type": "code",
      "source": [
        "# CARREGANDO DADOS EXTERNOS - Google Cloud Storage\n",
        "# CRIAÇÃO DE TABELAS\n",
        "from google.cloud import bigquery\n",
        "\n",
        "# 1. Projeto nomeado\n",
        "client = bigquery.Client(project='projeto-final-bq-ds-369013')\n",
        "\n",
        "# 2. SCHEMA - CAMPOS\n",
        "schema = [\n",
        "    bigquery.SchemaField('CODIGO', 'INTEGER'),\n",
        "    bigquery.SchemaField('DESCRICAO', 'STRING'),\n",
        "    bigquery.SchemaField('DATA', 'DATE'),\n",
        "    bigquery.SchemaField('CASADO', 'BOOLEAN')\n",
        "]\n",
        "\n",
        "# 3. Nome completo da tabela - destination\n",
        "table_id = 'projeto-final-bq-ds-369013.BitbyteDW.CLIENTE_PYTHON'\n",
        "\n",
        "# 4. Configuração do Job\n",
        "\"\"\"\n",
        "    * estrutura dos dados\n",
        "    * linhas de cabeçalho\n",
        "    * formato do arquivo\n",
        "\"\"\"\n",
        "job_config = bigquery.LoadJobConfig(\n",
        "    schema=schema, \n",
        "    skip_leading_rows=1,\n",
        "    source_format=bigquery.SourceFormat.CSV)\n",
        "\n",
        "# 5. URI fonte\n",
        "uri = 'gs://curso-bigquery-1234/externo/DADOS_EXTERNO.csv'\n",
        "\n",
        "# 6. Load table job\n",
        "load_job = client.load_table_from_uri(\n",
        "    source_uris=uri,\n",
        "    destination=table_id,\n",
        "    job_config=job_config\n",
        ")\n",
        "\n",
        "# 7. Verificação\n",
        "load_job.result()\n",
        "\n",
        "print(f'TABELA CRIADA {table_id}')"
      ],
      "metadata": {
        "id": "V2CqQ6XhCdpS"
      },
      "execution_count": null,
      "outputs": []
    },
    {
      "cell_type": "markdown",
      "source": [
        "* CMD: `python programa003.py`"
      ],
      "metadata": {
        "id": "hI772I-E00Fz"
      }
    },
    {
      "cell_type": "markdown",
      "source": [
        "### Arquivo Local"
      ],
      "metadata": {
        "id": "wQvh1FSJ21QI"
      }
    },
    {
      "cell_type": "code",
      "source": [
        "# CARREGANDO DADOS EXTERNOS\n",
        "# CRIAÇÃO DE TABELAS\n",
        "from google.cloud import bigquery\n",
        "\n",
        "# 1. Projeto nomeado\n",
        "client = bigquery.Client(project='projeto-final-bq-ds-369013')\n",
        "\n",
        "# 2. SCHEMA - CAMPOS\n",
        "schema = [\n",
        "    bigquery.SchemaField('CODIGO', 'INTEGER'),\n",
        "    bigquery.SchemaField('DESCRICAO', 'STRING'),\n",
        "    bigquery.SchemaField('DATA', 'DATE'),\n",
        "    bigquery.SchemaField('CASADO', 'BOOLEAN')\n",
        "]\n",
        "\n",
        "# 3. Nome completo da tabela - destination\n",
        "table_id = 'projeto-final-bq-ds-369013.BitbyteDW.CLIENTE_PYTHON_csv'\n",
        "\n",
        "# 4. Configuração do Job\n",
        "\"\"\"\n",
        "    * estrutura dos dados\n",
        "    * linhas de cabeçalho\n",
        "    * formato do arquivo\n",
        "\"\"\"\n",
        "job_config = bigquery.LoadJobConfig(\n",
        "    schema=schema, \n",
        "    skip_leading_rows=1,\n",
        "    source_format=bigquery.SourceFormat.CSV)\n",
        "\n",
        "# 5. URI fonte\n",
        "uri = 'gs://curso-bigquery-1234/externo/DADOS_EXTERNO.csv'\n",
        "\n",
        "# 6. Load table job\n",
        "with open('DADOS_EXTERNO.csv', 'rb') as file_csv:\n",
        "    load_job = client.load_table_from_file(\n",
        "        file_obj=file_csv,\n",
        "        destination=table_id,\n",
        "        job_config=job_config\n",
        "    )\n",
        "\n",
        "# 7. Verificação\n",
        "load_job.result()\n",
        "\n",
        "print(f'TABELA CRIADA {table_id}')"
      ],
      "metadata": {
        "id": "hlT5q-sj24H4"
      },
      "execution_count": null,
      "outputs": []
    },
    {
      "cell_type": "markdown",
      "source": [
        "Um outro exemplo:"
      ],
      "metadata": {
        "id": "75LnEZuD3rkl"
      }
    },
    {
      "cell_type": "code",
      "source": [
        "from google.cloud import bigquery\n",
        "\n",
        "client = bigquery.Client(project=\"projeto-final-bq-ds-369013\")\n",
        "\n",
        "schemaAgencia = [\n",
        "    bigquery.SchemaField(\"NUMERO_AGENCIA\",\"STRING\"),\n",
        "    bigquery.SchemaField(\"NOME_AGENCIA\",\"STRING\")\n",
        "    ]\n",
        "schemaCliente = [\n",
        "    bigquery.SchemaField(\"CPF\",\"STRING\"),\n",
        "    bigquery.SchemaField(\"NOME_CLIENTE\",\"STRING\")\n",
        "    ]\n",
        "schemaContaCorrente = [\n",
        "    bigquery.SchemaField(\"NUMERO_CONTA\",\"STRING\"),\n",
        "    bigquery.SchemaField(\"NUMERO_AGENCIA\",\"STRING\"), \n",
        "    bigquery.SchemaField(\"NOME_CLIENTE\",\"STRING\"),\n",
        "    bigquery.SchemaField(\"TIPO_CONTA\",\"INTEGER\")\n",
        "    ]\n",
        "\n",
        "table_idAgencias = \"projeto-final-bq-ds-369013.BYTEBANK_PYTHON.AGENCIAS\"\n",
        "uriAgencias = \"gs://projeto-final-bq-ds-369013/Exercicios/Agencias.csv\"\n",
        "job_configAgencias = bigquery.LoadJobConfig(schema=schemaAgencia, skip_leading_rows=1, source_format=bigquery.SourceFormat.CSV)\n",
        "load_jobAgencias = client.load_table_from_uri(source_uris=uriAgencias, destination=table_idAgencias, job_config=job_configAgencias)\n",
        "load_jobAgencias.result()\n",
        "\n",
        "table_idClientes = \"projeto-final-bq-ds-369013.BYTEBANK_PYTHON.CLIENTES\"\n",
        "uriClientes = \"gs://projeto-final-bq-ds-369013/Exercicios/Clientes.csv\"\n",
        "job_configClientes = bigquery.LoadJobConfig(schema=schemaCliente, skip_leading_rows=1, source_format=bigquery.SourceFormat.CSV)\n",
        "load_jobClientes = client.load_table_from_uri(source_uris=uriClientes, destination=table_idClientes, job_config=job_configClientes)\n",
        "load_jobClientes.result()\n",
        "\n",
        "table_idContasCorrente = \"projeto-final-bq-ds-369013.BYTEBANK_PYTHON.CONTAS_CORRENTE\"\n",
        "uriContasCorrente = \"gs://projeto-final-bq-ds-369013/Exercicios/ContasCorrente.csv\"\n",
        "job_configContasCorrente = bigquery.LoadJobConfig(schema=schemaContaCorrente, skip_leading_rows=1, source_format=bigquery.SourceFormat.CSV)\n",
        "load_jobContasCorrente = client.load_table_from_uri(source_uris=uriContasCorrente, destination=table_idContasCorrente, job_config=job_configContasCorrente)\n",
        "load_jobContasCorrente.result()\n",
        "\n",
        "print(\"TABELAS CARREGADAS\")"
      ],
      "metadata": {
        "id": "6wfS0Ru13u-o"
      },
      "execution_count": null,
      "outputs": []
    },
    {
      "cell_type": "markdown",
      "source": [
        "## <font color=orange>Transferências de Dados</font>"
      ],
      "metadata": {
        "id": "RSoBCRIvZZrB"
      }
    },
    {
      "cell_type": "markdown",
      "source": [
        "### <h3>Console</h3>\n",
        "\n",
        "Através do Console a transferÊncia é mais simples, pois não exige Tokens e confirmações.\n",
        "\n",
        "> Abas lateral `transferência` > Origem: `dataset copy`:\n",
        "\n",
        "* Nome do Job\n",
        "* Repetições\n",
        "* Dataset destino\n",
        "* Fonte\n",
        "    * Dataset\n",
        "    * Projeto"
      ],
      "metadata": {
        "id": "L5dy6XUOZvWr"
      }
    },
    {
      "cell_type": "markdown",
      "source": [
        "### <h3>G Shell</h3>\n",
        "\n",
        "```shell\n",
        "bq mk --transfer_config \\ # criação de JOB de cópia\n",
        "--project_id=curso-big-query-0965 \\\n",
        "--data_source=cross_region_copy \\ # constante \\\n",
        "--target_dataset=Suco_de_Frutas_3 \\ # nome do destino\n",
        "--display_name=\"Job de copia de conjunto de dados curso ALURA\" \\ # nome do JOB\n",
        "--params='{\"source_dataset_id\":\"Suco_de_Frutas_2\",\"source_project_id\":\"curso-big-query-0965\",\"overwrite_destination_table\":\"true\"}'\n",
        "```"
      ],
      "metadata": {
        "id": "JVvHn0K1A8C-"
      }
    },
    {
      "cell_type": "markdown",
      "source": [
        "## <font color=orange>Apagando Tabelas</font>\n",
        "\n"
      ],
      "metadata": {
        "id": "_Q2Rkt3m35q0"
      }
    },
    {
      "cell_type": "markdown",
      "source": [
        "**PYTHON**"
      ],
      "metadata": {
        "id": "BTw8Ni4E4DF4"
      }
    },
    {
      "cell_type": "code",
      "source": [
        "# REMOÇÃO DE TABELAS\n",
        "from google.cloud import bigquery\n",
        "\n",
        "# 1. Projeto nomeado\n",
        "client = bigquery.Client(project='projeto-final-bq-ds-369013')\n",
        "table_id = 'projeto-final-bq-ds-369013.BitbyteDW.CLIENTE_PYTHON_csv'\n",
        "client.delete_table(\n",
        "    table_id,\n",
        "    not_found_ok=True)\n",
        "\n",
        "print('TABELA EXCLUÍDA COM SUCESSO')"
      ],
      "metadata": {
        "id": "EYqp7TCV4DY2"
      },
      "execution_count": null,
      "outputs": []
    },
    {
      "cell_type": "markdown",
      "source": [
        "\n",
        "\n",
        "---\n",
        "\n"
      ],
      "metadata": {
        "id": "hnpfdcSAuYH6"
      }
    },
    {
      "cell_type": "markdown",
      "source": [
        "## <font color=orange>Excluir Datasets</font>\n",
        "\n"
      ],
      "metadata": {
        "id": "99Tb9qEgbgLt"
      }
    },
    {
      "cell_type": "markdown",
      "source": [
        "### <h3>Console / Área de Trabalho</h3>\n",
        "\n",
        "> Ícone de Remover Conjunto de Dados\n",
        "\n"
      ],
      "metadata": {
        "id": "Uy1GSo5nEy3-"
      }
    },
    {
      "cell_type": "markdown",
      "source": [
        "### <h3>G Shell</h3>\n",
        "\n",
        "```shell\n",
        "bq rm -r -d Suco_de_Frutas_2\n",
        "```"
      ],
      "metadata": {
        "id": "hGo18nwGExgo"
      }
    }
  ]
}