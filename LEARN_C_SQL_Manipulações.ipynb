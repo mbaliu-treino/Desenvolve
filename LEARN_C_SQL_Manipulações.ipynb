{
  "nbformat": 4,
  "nbformat_minor": 0,
  "metadata": {
    "colab": {
      "name": "LEARN C SQL Manipulações.ipynb",
      "provenance": [],
      "toc_visible": true,
      "authorship_tag": "ABX9TyO0TZm/Ckyf32d7N6Zzsvom",
      "include_colab_link": true
    },
    "kernelspec": {
      "name": "python3",
      "display_name": "Python 3"
    },
    "language_info": {
      "name": "python"
    }
  },
  "cells": [
    {
      "cell_type": "markdown",
      "metadata": {
        "id": "view-in-github",
        "colab_type": "text"
      },
      "source": [
        "<a href=\"https://colab.research.google.com/github/mbaliu-treino/Desenvolve/blob/main/LEARN_C_SQL_Manipula%C3%A7%C3%B5es.ipynb\" target=\"_parent\"><img src=\"https://colab.research.google.com/assets/colab-badge.svg\" alt=\"Open In Colab\"/></a>"
      ]
    },
    {
      "cell_type": "markdown",
      "source": [
        "# <font color=orange><b>SQL: manipulação de dados (criando Bancos de Dados no BigQuery)</b></font>\n",
        "\n",
        "<a href=https://colab.research.google.com/drive/1dBwFU7mAL-1sPYIF8Do53rsBjA4Q6QwD><font size=2; color=gray>Arquivo Colab</a></font>\n",
        "\n",
        "<ul><font size=2 color=gray>FICHA TÉCNICA\n",
        "<li><a href=https://cursos.alura.com.br/course/bigquery-manipulacao-dados><font size=2 color=gray>SQL: manipulação de dados (criando Bancos de Dados no BigQuery)</a>\n",
        "<li>Carga Horária: 14 h\n",
        "<li>Instrutora: Victorino Vila\n",
        "<li>Data de Início: 08-2022\n",
        "</ul>\n",
        "\n",
        "\n",
        "Este caderno contém algumas anotações sobre as principais manipulações de bancos de dados a serem usadas no SQL, baseado no Google BigQuery."
      ],
      "metadata": {
        "id": "JSeHxPLGhvUz"
      }
    },
    {
      "cell_type": "markdown",
      "source": [
        "## <font color=orange><b>Conteúdo</b></font>\n",
        "\n",
        "* <font color=orange>Conceitos</font>\n",
        "    * Banco de dados transacionais-operacionais\n",
        "    * Banco de dados gerenciais\n",
        "    * Datawarehouse\n",
        "    * Google BigQuery\n",
        "    * Conjuntos de dados (dataset)\n",
        "    * Tabelas\n",
        "    * Tipos de dados\n",
        "* <font color=orange>Construção de Datawarehouse</font>\n",
        "    * DATASETS\n",
        "        * Criar dataset\n",
        "        * Analisar dataset\n",
        "        * Transferir dados\n",
        "        * Excluir dataset\n",
        "    * TABELAS\n",
        "        * Criar tabelas\n",
        "        * Atualizar tabelas\n",
        "        * Renomear campo\n",
        "        * Inserir dados\n",
        "        * Atualizar dados\n",
        "        * Remover dados\n",
        "    * Cargas\n",
        "        * Extrair esquema-JSON\n",
        "        * Arquivo externo CSV\n",
        "        * Arquivo externo JSON\n",
        "        * Dados de outra tabela\n",
        "        * Carga sem duplicar registros\n",
        "        * Carga com atualização dos dados existentes\n",
        "        * Usando o Google Storage\n",
        "        * Usando o Google Shell"
      ],
      "metadata": {
        "id": "Rs0aFUuS6P56"
      }
    },
    {
      "cell_type": "markdown",
      "source": [
        "# <font color=orange><b>CURSO</b></font>\n"
      ],
      "metadata": {
        "id": "ARUfEjcsnUvf"
      }
    },
    {
      "cell_type": "markdown",
      "source": [
        "## <font color=orange><b>**Banco de dados transacionais - operacionais**</b></font>\n",
        "\n",
        "Os banco de dados transacionais registram todas as operações do dia-a-dia (emissão de nota fiscal, contabilização das vendas, eventos no setor de compras, notas fiscais com códigos únicos, sistemas de controle de estoques, contabilidade, sistemas de cobrança e pago de contas, folha de pagamento etc), consumindo memória e recurso computacional para validar as regras de negócio, tais como a validação dos produtos vendidos.\n",
        "\n",
        "* Estrutura mais complexa\n",
        "* Gasta mais tempo na validação do dado\n",
        "* Suporta processos CRUD (create, read, update, remove) sofisticados;\n",
        "* 24 * 7 disponível (a empresa depende do funcionamento desse BD)\n",
        "* Voltado para o operacional da empresa"
      ],
      "metadata": {
        "id": "FdgcenMnmf4h"
      }
    },
    {
      "cell_type": "markdown",
      "source": [
        "## <font color=orange><b>**Banco de dados gerenciais (Datawarehouse)**</b></font>\n",
        "\n",
        "Nos banco de dados gerenciais, o desejado é obter uma visão do conjunto dos dados, de forma resumida. Essa visão do todo, resumindo os dados, é chamado de **dados consolidados**. \n",
        "\n",
        "A criação de um banco de dados separado somente para o gerenciamento é interessante para não ter sobrecarga de requisições aos banco de dados, tornando lento as operações nos picos de utilizações. Então este banco de dados pode ser atualizado quando o BD transacional está mais inativo, permitindo a utilização eficiente no mesmo período de trabalho.\n",
        "\n",
        "Sistema de dados gerenciais apoia o processo de tomada de decisão em áreas de planejamento estratégico, controle gerencial e controle operacional.\n",
        "\n",
        "* Estrutura mais simples\n",
        "* Gasta mais tempo na exibição dos dados\n",
        "* Suporta processos CRUD simples;\n",
        "* Não precisa estar 24 * 7 disponível\n",
        "* Voltado para o gerenciamento da empresa"
      ],
      "metadata": {
        "id": "nyvA8rayl5__"
      }
    },
    {
      "cell_type": "markdown",
      "source": [
        "O objetivo desse banco de dados é **entender a siatuação da empresa**, através de MÉTRICAS (qualitativas e quantitativas), ao longo do tempo para permitir a comparação da evolução.\n",
        "\n"
      ],
      "metadata": {
        "id": "0-0eXhH31DPL"
      }
    },
    {
      "cell_type": "markdown",
      "source": [
        "**CONTEXTUALIZAÇÃO**\n",
        "\n",
        "Somente uma métrica não possui muito sentido para sua avaliação. Portanto é necessários mais informações para CONTEXTUALIZAR uma métrica. Esse contexto pode ser os **atributos de uma métrica**, como informações sobre categorias, localização, período da métrica, além da comparação histórica dos atributos. \n",
        "\n",
        "Cada atributo é chamado de dimensão no BD."
      ],
      "metadata": {
        "id": "jewbT6s94a33"
      }
    },
    {
      "cell_type": "markdown",
      "source": [
        "## <font color=orange><b>BigQuery</b></font>\n",
        "\n",
        "Só deve ser usado para Banco de Dados Gerenciais (datawarehouse) e jamais para BD operacionais."
      ],
      "metadata": {
        "id": "IKPm3zoYpS3v"
      }
    },
    {
      "cell_type": "markdown",
      "source": [
        "## <font color=orange><b>Datawarehouse</b></font>\n",
        "\n",
        "* O que queremos medir? (MÉTRICA - INDICADOR)\n",
        "* Como queremos medir? (DIMENSÕES)\n",
        "\n",
        "### MATRIZ DIMENSÃO-INDICADOR\n",
        "\n",
        "Conhecer quais indicadores (métricas) se relacionam com as dimensões. Com ela é possível planejar quais *tabelas de fato* serão necessárias.\n",
        "\n",
        "### Tabela de Fato\n",
        "\n",
        "Qual é o fato/ocorrência/métricas da tabela e quais serão as suas dimensões."
      ],
      "metadata": {
        "id": "haT-b8ew4oYI"
      }
    },
    {
      "cell_type": "markdown",
      "source": [
        "# <font color=orange><b>Construção do Datawarehouse</b></font>"
      ],
      "metadata": {
        "id": "meDkl0yK65kx"
      }
    },
    {
      "cell_type": "markdown",
      "source": [
        "## <font color=orange>CONCEITO: Conjunto de dados (dataset)</font>\n",
        "\n",
        "O Conjunto de dados no BigQuery é equivalente a um banco de dados relacional, sendo um conjunto de tabelas. Esses conjuntos de dados estão relacionado a um único **Projeto Google**.\n",
        "\n",
        "Para criar um CD no BQ existem diversas formas:\n",
        "\n",
        "* Console Cloud;\n",
        "* Google Shell - linhas de comando para todas as operações no Google\n",
        "* APIs\n",
        "* Bibliotecas de clientes (C#, Python etc)\n",
        "* Copiando um conjunto de dados existentes.\n",
        "\n",
        "**LIMITAÇÕES**\n",
        "\n",
        "* LOCALIZAÇÃO: a definição do local geográfico é apenas na criação.\n",
        "* As operações só podem ocorrer em um mesmo Conjunto de Dados.\n",
        "* Nome do CD é limitado 1.024 caracteres.\n",
        "* Case sensitive\n",
        "* Não pode conter: - & @ % no nome"
      ],
      "metadata": {
        "id": "jhTAxS7a68ON"
      }
    },
    {
      "cell_type": "markdown",
      "source": [
        "## <font color=orange>Criar conjunto de dados</font>"
      ],
      "metadata": {
        "id": "PHZsX_4G9TTF"
      }
    },
    {
      "cell_type": "markdown",
      "source": [
        "UI (console do BigQuery) > Criar Conjunto de Dados > ..."
      ],
      "metadata": {
        "id": "RTaRdGID9eLw"
      }
    },
    {
      "cell_type": "markdown",
      "source": [
        "<h3>G Shell</h3>\n",
        "\n",
        "```shell\n",
        "# Criação de Conjunto de Dados (dataset)\n",
        "bq --location=location mk \\  \n",
        "--dataset \\  \n",
        "--default_table_expiration integer1  \\  \n",
        "--default_partition_expiration integer2  \\  \n",
        "--description description  \\  \n",
        "project_id:dataset\n",
        "\n",
        "bq --location=southamerica-east1 mk --dataset \\\n",
        "--default_table_expiration 3600 \\\n",
        "--description \"Criar o conjunto de dados bicicletas\" \\\n",
        "bicicletas\n",
        "```"
      ],
      "metadata": {
        "id": "3zeCrnr2-L-Z"
      }
    },
    {
      "cell_type": "markdown",
      "source": [
        "## <font color=orange>Analisar Dataset no Shell</font>"
      ],
      "metadata": {
        "id": "2mxWBQcr_lPR"
      }
    },
    {
      "cell_type": "markdown",
      "source": [
        "```shell\n",
        "# LISTA OS DATASETS (BD) NO PROJETO\n",
        "bq ls\n",
        "```\n",
        "\n",
        "```shell\n",
        "# MOSTRA UM RESUMO DO DATASET em JSON\n",
        "bq show --format=prettyjson <dataset>\n",
        "```\n",
        "\n",
        "```shell\n",
        "# ALTERA A DESCRIÇÃO DE UM DATASET\n",
        "bq update --description=\"Novo descritor do conjunto de dados\" Suco_de_Frutas_2\n",
        "```"
      ],
      "metadata": {
        "id": "Td4pfK38_pDm"
      }
    },
    {
      "cell_type": "markdown",
      "source": [
        "## <font color=orange>Transferências de Dados</font>"
      ],
      "metadata": {
        "id": "RSoBCRIvZZrB"
      }
    },
    {
      "cell_type": "markdown",
      "source": [
        "<h3>Console</h3>\n",
        "\n",
        "Através do Console a transferÊncia é mais simples, pois não exige Tokens e confirmações.\n",
        "\n",
        "> Abas lateral `transferência` > Origem: `dataset copy`:\n",
        "\n",
        "* Nome do Job\n",
        "* Repetições\n",
        "* Dataset destino\n",
        "* Fonte\n",
        "    * Dataset\n",
        "    * Projeto"
      ],
      "metadata": {
        "id": "L5dy6XUOZvWr"
      }
    },
    {
      "cell_type": "markdown",
      "source": [
        "<h3>G Shell</h3>\n",
        "\n",
        "```shell\n",
        "bq mk --transfer_config \\ # criação de JOB de cópia\n",
        "--project_id=curso-big-query-0965 \\\n",
        "--data_source=cross_region_copy \\ # constante \\\n",
        "--target_dataset=Suco_de_Frutas_3 \\ # nome do destino\n",
        "--display_name=\"Job de copia de conjunto de dados curso ALURA\" \\ # nome do JOB\n",
        "--params='{\"source_dataset_id\":\"Suco_de_Frutas_2\",\"source_project_id\":\"curso-big-query-0965\",\"overwrite_destination_table\":\"true\"}'\n",
        "```"
      ],
      "metadata": {
        "id": "JVvHn0K1A8C-"
      }
    },
    {
      "cell_type": "markdown",
      "source": [
        "## <font color=orange>Excluir Datasets</font>\n",
        "\n",
        "<h3>Console / Área de Trabalho</h3>\n",
        "\n",
        "> Ícone de Remover Conjunto de Dados\n",
        "\n",
        "<h3>G Shell</h3>\n",
        "\n",
        "```shell\n",
        "bq rm -r -d Suco_de_Frutas_2\n",
        "```"
      ],
      "metadata": {
        "id": "99Tb9qEgbgLt"
      }
    },
    {
      "cell_type": "markdown",
      "source": [
        "## <font color=orange>CONCEITO: Tabelas</font>\n",
        "\n",
        "O BigQuery rompe com diversos paradigmas do **modelo relacional**. Os datasets são compostos por TABELAS, onde serão armazenados os dados. \n",
        "\n",
        "Uma primeira quebra é que as tabelas não possuem RELAÇÕES entre elas, logo o BigQuery não é Banco de Dados Relacional. Isso ocorre porque o objetivo do BugQuery não *gerenciar as transações* de uma corporação, como controle do sistema de vendas, sistema de compras e fluxo de caixa.\n",
        "\n",
        "Ele é destinado para exibir dados gerenciais, dados já íntegros, para geração de relatórios."
      ],
      "metadata": {
        "id": "_6BckLTsu24j"
      }
    },
    {
      "cell_type": "markdown",
      "source": [
        "## <font color=orange>Criação de Tabelas</font>\n",
        "\n",
        "[Dados para o exemplo](https://caelum-online-public.s3.amazonaws.com/2085-big-guery/04/manutencao-de-dados-Criando+a+tabela+por+esquema.zip)\n",
        "\n",
        "* Console - SQL (Nova Consulta)\n",
        "* Console - Área de Trabalho\n",
        "* G Shell\n",
        "* Esquema (JSON)\n",
        "\n"
      ],
      "metadata": {
        "id": "tZuSNoYYcRVf"
      }
    },
    {
      "cell_type": "markdown",
      "source": [
        "### Tipos de dados\n",
        "\n",
        "* INT64\n",
        "* NUMERIC: possuem 38 casas decimais. Para dados monetários, em que não se deve arredondar.\n",
        "* FLOAT: numéricos aproximados. NaN, +inf, -inf\n",
        "\n",
        "* BOOL\n",
        "* STRING\n",
        "* BYTES: para imagens, arquivos etc\n",
        "\n",
        "* DATE: só da data (YYYY-MM-DD)\n",
        "* DATETIME: YYYY-MM-DD HH:MM:SS.DDDDDDD\n",
        "* TIME: só o horário (HH:MM:SS.DDDDDDD)\n",
        "* TIMESTAMP\n",
        "\n",
        "* ARRAY\n",
        "* STRUCT: pode conter diversas subcampos, inclusive outros arrays.\n",
        "\n",
        "* GEOGRAPHY\n"
      ],
      "metadata": {
        "id": "dbhaEdmCncym"
      }
    },
    {
      "cell_type": "markdown",
      "source": [
        "<h3>Console - SQL</h3>"
      ],
      "metadata": {
        "id": "6lMM2INNytsn"
      }
    },
    {
      "cell_type": "markdown",
      "source": [
        "```sql\n",
        "-- Criação de uma tabela\n",
        "CREATE TABLE curso-big-query-0965.Suco_de_Frutas.PRODUTO\n",
        "(ID_PRODUTO INT64\n",
        ",COD_PRODUTO STRING\n",
        ",DESC_PRODUTO STRING\n",
        ",ATR_TAMANHO STRING\n",
        ",ATR_SABOR STRING\n",
        ",COD_MARCA STRING\n",
        ",DESC_MARCA STRING\n",
        ",COD_CATEGORIA STRING\n",
        ",DESC_CATGEORIA STRING);\n",
        "```\n",
        "\n",
        "```sql\n",
        "-- Criação de campos com descritores\n",
        "CREATE TABLE curso-big-query-0965.Suco_de_Frutas.ORGANIZACIONAL\n",
        "(ID_VENDEDOR INT64 NOT NULL\n",
        ",COD_VENDEDOR STRING\n",
        ",DESC_VENDEDOR STRING OPTIONS(description=\"Este campo mostra o nome do Vendedor\")\n",
        ",COD_GERENTE STRING\n",
        ",DESC_GERENTE STRING\n",
        ",COD_DIRETOR STRING\n",
        ",DESC_DIRETOR STRING OPTIONS(description=\"Aqui temos o nome do diretor da área\") )\n",
        "OPTIONS (description = \"Esta é a tabela de dados referente a dimensão ORGANIZACIONAL\");\n",
        "```"
      ],
      "metadata": {
        "id": "KZ4kkRAwu01e"
      }
    },
    {
      "cell_type": "markdown",
      "source": [
        "<h3>G Shell</h3>"
      ],
      "metadata": {
        "id": "MseJ-3qly0W9"
      }
    },
    {
      "cell_type": "markdown",
      "source": [
        "```shell\n",
        "bq mk --table --description \"Tabela referente a dimensão FABRICA\" Suco_de_Frutas.FABRICA \\\n",
        "ID_FABRICA:INT64,COD_FABRICA:STRING,DESC_FABRICA:STRING\n",
        "```"
      ],
      "metadata": {
        "id": "4srdB8IIycgL"
      }
    },
    {
      "cell_type": "markdown",
      "source": [
        "<h3>ESQUEMA - JSON</h3>\n",
        "\n",
        "O esquema permite criar os campos através de um JSON com as especificações dos campos.\n",
        "\n",
        "> Cria-se uma tabela sem especificar os campos > Detalhes da Tabela > Editar Esquema > Editar com texto ...\n",
        "\n",
        "* Ao criar o esquema usando o console o comando json deve usar INTEGER.\n",
        "\n",
        "```json\n",
        "[\n",
        " {\n",
        "   \"description\": \"Identificador do Cliente\",\n",
        "   \"name\": \"ID_CLIENTE\",\n",
        "   \"type\": \"INTEGER\",\n",
        "   \"mode\": \"NULLABLE\"\n",
        " },\n",
        " {\n",
        "   \"description\": \"Código do Cliente\",\n",
        "   \"name\": \"COD_CLIENTE\",\n",
        "   \"type\": \"STRING\",\n",
        "   \"mode\": \"NULLABLE\"\n",
        " },\n",
        " {\n",
        "   \"description\": \"Descritor do Cliente\",\n",
        "   \"name\": \"DESC_CLIENTE\",\n",
        "   \"type\": \"STRING\",\n",
        "   \"mode\": \"NULLABLE\"\n",
        " },\n",
        " {\n",
        "   \"description\": \"Código da Cidade\",\n",
        "   \"name\": \"COD_CIDADE\",\n",
        "   \"type\": \"STRING\",\n",
        "   \"mode\": \"NULLABLE\"\n",
        " },\n",
        " {\n",
        "   \"description\": \"Descritor da Cidade\",\n",
        "   \"name\": \"DESC_CIDADE\",\n",
        "   \"type\": \"STRING\",\n",
        "   \"mode\": \"NULLABLE\"\n",
        " },\n",
        " {\n",
        "   \"description\": \"Código do Estado\",\n",
        "   \"name\": \"COD_ESTADO\",\n",
        "   \"type\": \"STRING\",\n",
        "   \"mode\": \"NULLABLE\"\n",
        " },\n",
        " {\n",
        "   \"description\": \"Descritor do Estado\",\n",
        "   \"name\": \"DESC_ESTADO\",\n",
        "   \"type\": \"STRING\",\n",
        "   \"mode\": \"NULLABLE\"\n",
        " },\n",
        " {\n",
        "   \"description\": \"Código da Região\",\n",
        "   \"name\": \"COD_REGIAO\",\n",
        "   \"type\": \"STRING\",\n",
        "   \"mode\": \"NULLABLE\"\n",
        " },\n",
        " {\n",
        "   \"description\": \"Descritor da Região\",\n",
        "   \"name\": \"DESC_REGIAO\",\n",
        "   \"type\": \"STRING\",\n",
        "   \"mode\": \"NULLABLE\"\n",
        " },\n",
        " {\n",
        "   \"description\": \"Código do Segmento\",\n",
        "   \"name\": \"COD_SEGMENTO\",\n",
        "   \"type\": \"STRING\",\n",
        "   \"mode\": \"NULLABLE\"\n",
        " },\n",
        " {\n",
        "   \"description\": \"Descritor do Segmento\",\n",
        "   \"name\": \"DESC_SEGMENTO\",\n",
        "   \"type\": \"STRING\",\n",
        "   \"mode\": \"NULLABLE\"\n",
        " }\n",
        "]\n",
        "\n",
        "```"
      ],
      "metadata": {
        "id": "CJoy4AKI0DMJ"
      }
    },
    {
      "cell_type": "markdown",
      "source": [
        "<h3>Console - Área de Trabalho</h3>"
      ],
      "metadata": {
        "id": "ASpNfICr1XTA"
      }
    },
    {
      "cell_type": "markdown",
      "source": [
        "## <font color=orange>Atualização de dados</font>\n",
        "\n",
        "- [Arquivos para a atualização](https://caelum-online-public.s3.amazonaws.com/2085-big-guery/05/manutencao-de-dados-Carga+atrav%C3%A9s+de+outra+tabela.zip)\n",
        "- [Arquivos para a atualização](https://caelum-online-public.s3.amazonaws.com/2085-big-guery/05/EXTERNAL_FILES.zip)"
      ],
      "metadata": {
        "id": "93Dp_IWV107z"
      }
    },
    {
      "cell_type": "markdown",
      "source": [
        "### <font color=orange>Renomear campo</font>\n",
        "\n",
        "* Caso a coluna tenha dados nela, será necessário apagar os dados e modificar a coluna.\n",
        "\n",
        "```sql\n",
        "-- Mudança de nome de campo\n",
        "create or replace table curso-big-query-0965.Suco_de_Frutas.PRODUTO as \n",
        "SELECT ID_PRODUTO, COD_PRODUTO, DESC_PRODUTO, COD_MARCA, DESC_MARCA, ATR_TAMANHO, ATR_SABOR, COD_CATEGORIA, DESC_CATGEORIA AS DESC_CATEGORIA\n",
        "FROM curso-big-query-0965.Suco_de_Frutas.PRODUTO;\n",
        "```\n"
      ],
      "metadata": {
        "id": "TcOqEniEy3m3"
      }
    },
    {
      "cell_type": "markdown",
      "source": [
        "### <font color=orange>Inserção de dados</font>\n",
        "\n",
        "```sql\n",
        "-- Inserção de uma linha de dados\n",
        "INSERT INTO curso-big-query-0965.Suco_de_Frutas.PRODUTO \n",
        "(ID_PRODUTO, COD_PRODUTO, DESC_PRODUTO, COD_MARCA, DESC_MARCA, ATR_TAMANHO, ATR_SABOR, COD_CATEGORIA, DESC_CATEGORIA)\n",
        "VALUES (1,'1002334','Linha Citros - 1 Litro - Lima/Limão','Linha Citros','Linha Citros','1 Litro','Lima/Limão','Águas Minerais','Águas Minerais');\n",
        "\n",
        "\n",
        "-- Inserção de múltiplas linhas\n",
        "INSERT INTO curso-big-query-0965.Suco_de_Frutas.PRODUTO\n",
        "(ID_PRODUTO, COD_PRODUTO, DESC_PRODUTO, COD_MARCA, DESC_MARCA, ATR_TAMANHO, \n",
        "ATR_SABOR, COD_CATEGORIA, DESC_CATEGORIA)\n",
        "VALUES \n",
        "(2,'1041119','Linha Citros - 700 ml - Lima/Limão','Linha Citros','Linha Citros',\n",
        "'700 ml', 'Lima/Limão', 'Águas Minerais', 'Águas Minerais'),\n",
        "(3,'1042712','Linha Citros - 700 ml - Limão','Linha Citros','Linha Citros',\n",
        "'700 ml', 'Limão', 'Águas Minerais', 'Águas Minerais');\n",
        "```"
      ],
      "metadata": {
        "id": "GtHBxEPA3ykF"
      }
    },
    {
      "cell_type": "markdown",
      "source": [
        "### <font color=orange>Atualização de dados</font>\n",
        "\n",
        "```sql\n",
        "UPDATE curso-big-query-0965.Suco_de_Frutas.PRODUTO SET \n",
        "DESC_PRODUTO = 'Linha Citros - 1 Litro - Lima/Limão', ATR_TAMANHO = '1 Litro'\n",
        "WHERE ID_PRODUTO = 3;` \n",
        "para alterar o registro com `ID_PRODUTO = 3`\n",
        "```"
      ],
      "metadata": {
        "id": "j_u5I4--y3xx"
      }
    },
    {
      "cell_type": "markdown",
      "source": [
        "### <font color=orange>Remoção de dados</font>\n",
        "\n",
        "```sql\n",
        "-- Remove registro\n",
        "DELETE FROM curso-big-query-0965.Suco_de_Frutas.PRODUTO WHERE ID_PRODUTO = 3;\n",
        "\n",
        "-- Remove toda a tabela\n",
        "DELETE FROM curso-big-query-0965.Suco_de_Frutas.PRODUTO WHERE 1=1;\n",
        "```"
      ],
      "metadata": {
        "id": "S5ZJD0NFy30U"
      }
    },
    {
      "cell_type": "markdown",
      "source": [
        "## <font color=orange>Carga</font>\n"
      ],
      "metadata": {
        "id": "N9C1bwPyD_FL"
      }
    },
    {
      "cell_type": "markdown",
      "source": [
        "### <font color=orange>Obtenção do Esquema-JSON</font>\n",
        "\n",
        "Para obter uma preview do esquema de uma tabela já existente para ajudar na importação correta de um arquivo CSV.\n",
        "\n",
        "1. EXTRAÇÃO DO JSON\n",
        "```shell\n",
        "# Salva em pasta temporária do BigQuery\n",
        "bq show --schema --format=prettyjson Suco_de_Frutas.CLIENTE > /tmp/cliente.json\n",
        "```\n",
        "\n",
        "2. ABRIR JSON\n",
        "\n",
        "> Abrir Editor > File > Open > Pasta raiz (`/`) > tmp > cliente.json\n",
        "\n",
        "3. Copiar JSON"
      ],
      "metadata": {
        "id": "JMUoyPwh0lfN"
      }
    },
    {
      "cell_type": "markdown",
      "source": [
        "### <font color=orange>Arquivo Externo - CSV</font>\n",
        "\n",
        "> Nova Tabela > Fonte Externa > Autodetecção das colunas\n",
        "\n",
        "> Quanto tiver CABEÇALHO, pular uma linha"
      ],
      "metadata": {
        "id": "IJ2qIWpfED0A"
      }
    },
    {
      "cell_type": "markdown",
      "source": [
        "### <font color=orange>Com outra tabela</font>\n",
        "\n",
        "Este processo é útil para importar um arquivo em uma tabela temporária, realizar o tratmento necessário e carregar na tabela desejada.\n",
        "\n",
        "```sql\n",
        "-- Carga através de outra tabela - com transformação do tipo de dados\n",
        "INSERT INTO curso-big-query-0965.Suco_de_Frutas.PRODUTO\n",
        "(ID_PRODUTO, COD_PRODUTO, DESC_PRODUTO, COD_MARCA, DESC_MARCA, COD_CATEGORIA,\n",
        "DESC_CATEGORIA, ATR_SABOR, ATR_TAMANHO)\n",
        "SELECT ID_PRODUTO, CAST(COD_PRODUTO AS STRING) AS COD_PRODUTO, DESC_PRODUTO, COD_MARCA\n",
        ", DESC_MARCA, COD_CATEGORIA,\n",
        "DESC_CATEGORIA, ATR_SABOR, ATR_TAMANHO\n",
        "FROM curso-big-query-0965.Suco_de_Frutas.tmp_PRODUTO1;\n",
        "```"
      ],
      "metadata": {
        "id": "5qq4PP9HEONn"
      }
    },
    {
      "cell_type": "markdown",
      "source": [
        "### <font color=orange>Sem duplicar registros</font>\n",
        "\n",
        "Já que o tamnaho no BigQuery não é problema, o mais comum é importar todos os dados, repetindo os registros, mas com uma informação da data e horário. Depois busca-se somente os dados mais recentes.\n",
        "\n",
        "```sql\n",
        "-- Sem carregar registros existentes (coluna de comparação)\n",
        "INSERT INTO curso-big-query-0965.Suco_de_Frutas.PRODUTO\n",
        "(ID_PRODUTO, COD_PRODUTO, DESC_PRODUTO, COD_MARCA, DESC_MARCA, COD_CATEGORIA,\n",
        "DESC_CATEGORIA, ATR_SABOR, ATR_TAMANHO)\n",
        "SELECT ID_PRODUTO, CAST(COD_PRODUTO AS STRING) AS COD_PRODUTO, DESC_PRODUTO, COD_MARCA\n",
        ", DESC_MARCA, COD_CATEGORIA,\n",
        "DESC_CATEGORIA, ATR_SABOR, ATR_TAMANHO\n",
        "FROM curso-big-query-0965.Suco_de_Frutas.tmp_PRODUTO2\n",
        "WHERE ID_PRODUTO NOT IN (SELECT ID_PRODUTO FROM curso-big-query-0965.Suco_de_Frutas.PRODUTO);\n",
        "\n",
        "-- Verificação\n",
        "SELECT * FROM curso-big-query-0965.Suco_de_Frutas.PRODUTO\n",
        "WHERE ID_PRODUTO = 15;\n",
        "```"
      ],
      "metadata": {
        "id": "R56LVKXGy329"
      }
    },
    {
      "cell_type": "markdown",
      "source": [
        "### <font color=orange>Com atualização dos existentes e inserção de novos</font>\n",
        "\n",
        "```sql\n",
        "-- Para atualizar os registros antigos existentes\n",
        "MERGE curso-big-query-0965.Suco_de_Frutas.PRODUTO T\n",
        "USING curso-big-query-0965.Suco_de_Frutas.tmp_PRODUTO2 S\n",
        "ON T.ID_PRODUTO = S.ID_PRODUTO\n",
        "WHEN MATCHED THEN\n",
        "    UPDATE SET COD_PRODUTO = CAST(S.COD_PRODUTO AS STRING),\n",
        "    DESC_PRODUTO = S.DESC_PRODUTO,\n",
        "    COD_MARCA = S.COD_MARCA,\n",
        "    DESC_MARCA = S.DESC_MARCA,\n",
        "    COD_CATEGORIA = S.COD_CATEGORIA,\n",
        "    DESC_CATEGORIA = S.DESC_CATEGORIA,\n",
        "    ATR_SABOR = S.ATR_SABOR,\n",
        "    ATR_TAMANHO = S.ATR_TAMANHO\n",
        "WHEN NOT MATCHED THEN\n",
        "    INSERT (ID_PRODUTO, COD_PRODUTO, DESC_PRODUTO, COD_MARCA, DESC_MARCA, COD_CATEGORIA,\n",
        "DESC_CATEGORIA, ATR_SABOR, ATR_TAMANHO)\n",
        "VALUES \n",
        "(S.ID_PRODUTO, CAST(S.COD_PRODUTO AS STRING), S.DESC_PRODUTO, S.COD_MARCA, S.DESC_MARCA, S.COD_CATEGORIA,\n",
        "S.DESC_CATEGORIA, S.ATR_SABOR, S.ATR_TAMANHO);\n",
        "\n",
        "\n",
        "SELECT * FROM curso-big-query-0965.Suco_de_Frutas.PRODUTO\n",
        "WHERE ID_PRODUTO = 15;\n",
        "```"
      ],
      "metadata": {
        "id": "ob9bbZidtR8k"
      }
    },
    {
      "cell_type": "markdown",
      "source": [
        "### <font color=orange>Arquivo externo, com tabela existente</font>\n",
        "\n",
        "Para fazer a carga de dados em um tabela já existente é semelhante ao processo de criar uma tabela nova.\n",
        "\n",
        "* A tabela precisa estar vazia\n",
        "* Explicitar o esquema (colunas)"
      ],
      "metadata": {
        "id": "cancecs8yM4d"
      }
    },
    {
      "cell_type": "markdown",
      "source": [
        "### <font color=orange>Carga do Google Storage</font>\n",
        "\n",
        "Destinado para armazenar dados não estruturados.\n",
        "\n",
        "* O repositório no Google Storage e o Conjunto de dados (dataset) precisam ser os mesmos. Ou indicar outra fonte."
      ],
      "metadata": {
        "id": "JAvLbFRczMpb"
      }
    },
    {
      "cell_type": "markdown",
      "source": [
        "### <font color=orange>Com o G Shell</font>\n",
        "\n",
        "Para carregar do pelo Shell é preciso que os dados estejam no Google Storage.\n",
        "\n",
        "1. Carregar dados do G.Storage\n",
        "2. Obter o Esquema da tabela existente.\n",
        "3. Carregados os dados\n",
        "\n",
        "```shell\n",
        "# [OPTION] <table> <file_path> <schema>\n",
        "bq load --format=csv --skip_leading_rows=1 Suco_de_Frutas.ORGANIZACIONAL gs://curso-big-query-0965/organizacional.csv /tmp/organizacional.json\n",
        "```"
      ],
      "metadata": {
        "id": "ydqiY-zs0fXW"
      }
    },
    {
      "cell_type": "markdown",
      "source": [
        "### <font color=orange>Arquivo Externo - JSON</font>\n",
        "\n",
        "1. Upload no G.Storage\n",
        "2. Salvar o Schema (no G.Shell)\n",
        "3. Carregar pelo Shell\n",
        "\n",
        "```shell\n",
        "bq load --format=csv --skip_leading_rows=1 Suco_de_Frutas.ORGANIZACIONAL gs://curso-big-query-0965/organizacional.csv /tmp/organizacional.json\n",
        "```"
      ],
      "metadata": {
        "id": "6Ras44rb9mUK"
      }
    }
  ]
}