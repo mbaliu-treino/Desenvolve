{
  "nbformat": 4,
  "nbformat_minor": 0,
  "metadata": {
    "colab": {
      "name": "LEARN C SQL Funções.ipynb",
      "provenance": [],
      "toc_visible": true,
      "authorship_tag": "ABX9TyPUiKNBVknOqXexY4iBwB/n",
      "include_colab_link": true
    },
    "kernelspec": {
      "name": "python3",
      "display_name": "Python 3"
    },
    "language_info": {
      "name": "python"
    }
  },
  "cells": [
    {
      "cell_type": "markdown",
      "metadata": {
        "id": "view-in-github",
        "colab_type": "text"
      },
      "source": [
        "<a href=\"https://colab.research.google.com/github/mbaliu-treino/Desenvolve/blob/main/LEARN_C_SQL_Fun%C3%A7%C3%B5es.ipynb\" target=\"_parent\"><img src=\"https://colab.research.google.com/assets/colab-badge.svg\" alt=\"Open In Colab\"/></a>"
      ]
    },
    {
      "cell_type": "markdown",
      "source": [
        "# <font color=orange><b>SQL: funções do BigQuery</b></font>\n",
        "\n",
        "<a href=https://colab.research.google.com/drive/1dBwFU7mAL-1sPYIF8Do53rsBjA4Q6QwD><font size=2; color=gray>Arquivo Colab</a></font>\n",
        "\n",
        "<ul><font size=2 color=gray>FICHA TÉCNICA\n",
        "<li><a href=https://cursos.alura.com.br/course/bigquery-funcoes><font size=2 color=gray>BigQuery: funções do BigQuery</a>\n",
        "<li>Carga Horária: 16 h\n",
        "<li>Instrutora: Victorino Vila\n",
        "<li>Data de Início: 08-2022\n",
        "</ul>\n",
        "\n",
        "\n",
        "Este caderno contém algumas anotações sobre as principais funções a serem usadas no SQL, baseado no Google BigQuery."
      ],
      "metadata": {
        "id": "JSeHxPLGhvUz"
      }
    },
    {
      "cell_type": "markdown",
      "source": [
        "## <font color=orange><b>Conteúdo</b></font>\n",
        "\n",
        "* Tipos de dados SQL (BigQuery)\n",
        "    * Conversão com CAST\n",
        "* Funções SQL\n",
        "    * Numéricas\n",
        "        * round\n",
        "        * Precisão decimal\n",
        "        * Divisão segura\n",
        "        * Notação científica\n",
        "        * range_bucket\n",
        "    * Lógicas\n",
        "        * Operadores lógicos\n",
        "        * Expressões condicionais\n",
        "        * IF clause\n",
        "        * CASE WHEN clause\n",
        "        * COALESCE\n",
        "    * String\n",
        "        * UPPER, LOWER, INITCAP\n",
        "        * LTRIM, RTRIM, TRIM, LEFT, RIGHT, SUBSTR\n",
        "        * CHAR_LENGTH, STARTS_WITH, ENDS_WITH, CONCAT\n",
        "        * INSTR, STRPOS, REVERSE, REPLACE, SPLIT\n",
        "        * Regular expressions\n",
        "        * Formats\n",
        "    * Data e hora\n",
        "        * Datetime\n",
        "        * Timestamp\n",
        "        * add, sub, diff\n",
        "        * extract, trunc, last_day\n",
        "        * generate_date_array\n",
        "        * Format, UNIX\n",
        "    * Geográficas\n",
        "        * BigQuery GeoViz\n",
        "        * ST_GEOGPOINT, ST_MAKELINE, ST_MAKEPOLYGON"
      ],
      "metadata": {
        "id": "Rs0aFUuS6P56"
      }
    },
    {
      "cell_type": "markdown",
      "source": [
        "# <font color=orange><b></b></font>Dados para experimentações\n",
        "\n",
        "```sql\n",
        "WITH example AS (\n",
        "  SELECT true AS is_valid, 'a' as letter, 1 as position\n",
        "  UNION ALL SELECT false , 'b', 2\n",
        "  UNION ALL SELECT false , 'c', 3\n",
        ")\n",
        "SELECT * FROM example;\n",
        "```"
      ],
      "metadata": {
        "id": "ARUfEjcsnUvf"
      }
    },
    {
      "cell_type": "markdown",
      "source": [
        "# <font color=orange><b>Funções</b></font>"
      ],
      "metadata": {
        "id": "STMlpDcY1L3N"
      }
    },
    {
      "cell_type": "markdown",
      "source": [
        "## <font color=orange>Numéricos</font>"
      ],
      "metadata": {
        "id": "fw3zWi_V1JU8"
      }
    },
    {
      "cell_type": "markdown",
      "source": [
        "```sql\n",
        "WITH exemplo AS\n",
        "(SELECT 'Sat' AS Day, 1451 AS numrides, 1018 AS oneways\n",
        "UNION ALL SELECT 'Sun', 2376, 936)\n",
        "```\n",
        "\n",
        "```sql\n",
        "-- Arredondamento\n",
        "SELECT *, ROUND((numrides/oneways), 3) AS frac_rounded\n",
        "FROM exemplo;\n",
        "```\n",
        "\n",
        "\n",
        "```sql\n",
        "-- Divisões por 0\n",
        "SELECT IEEE_Divide(numrides, oneways) AS frac_zero\n",
        "FROM exemplo;\n",
        "```\n",
        "\n",
        "```\n",
        ">> -Infinit, NaN, Infinit\n",
        "```\n"
      ],
      "metadata": {
        "id": "nnqbCA_0xAGP"
      }
    },
    {
      "cell_type": "markdown",
      "source": [
        "Cláusula para não apontar erro em operações inexecutáveis. \n",
        "\n",
        "```sql\n",
        "-- try\n",
        "SELECT SAFE.log(10, -3) AS logaritic\n",
        "FROM exemplo;\n",
        "\n",
        ">> null\n",
        "```"
      ],
      "metadata": {
        "id": "74yWZHSBzw9y"
      }
    },
    {
      "cell_type": "markdown",
      "source": [
        "### Precisão decimal no cálculo"
      ],
      "metadata": {
        "id": "4Vj9eWyF1u9v"
      }
    },
    {
      "cell_type": "markdown",
      "source": [
        "* **NUMERIC**: para quando os cálculos não devam ser arredondados, como em contas financeiras.\n",
        "\n",
        "* **FLOAT**: cálculos científicos, em que as casas decimais são importantes."
      ],
      "metadata": {
        "id": "IMGnG5qH1y_z"
      }
    },
    {
      "cell_type": "markdown",
      "source": [
        "### **FLOAT**\n",
        "\n",
        "```sql\n",
        "WITH exemplo AS\n",
        "(SELECT 1.23 as PAYMENT\n",
        "UNION ALL SELECT 7.89\n",
        "UNION ALL SELECT 12.43)\n",
        "\n",
        "SELECT sum(PAYMENT) as TOTAL_PAYMENT, avg(PAYMENT) as AVG_PAYMENT FROM examplo;\n",
        "```\n",
        "\n",
        "```\n",
        "21.54999999, 7.18333333334\n",
        "```"
      ],
      "metadata": {
        "id": "cH-G6mEk2hgv"
      }
    },
    {
      "cell_type": "markdown",
      "source": [
        "### **NUMERIC**\n",
        "\n",
        "```sql\n",
        "WITH exemplo AS\n",
        "(SELECT numeric '1.23' as PAYMENT\n",
        "UNION ALL SELECT numeric '7.89'\n",
        "UNION ALL SELECT numeric '12.43')\n",
        "\n",
        "SELECT sum(PAYMENT) as TOTAL_PAYMENT, avg(PAYMENT) as AVG_PAYMENT FROM examplo;\n",
        "```\n",
        "\n",
        "```\n",
        "21.55, 7.183333\n",
        "```"
      ],
      "metadata": {
        "id": "QxMNeBv73J2F"
      }
    },
    {
      "cell_type": "markdown",
      "source": [
        "* `sign`: retorna `0` para valores negativos e `1` para positvos.\n",
        "* `is_nan`: \n",
        "* `is_inf`\n"
      ],
      "metadata": {
        "id": "PHyTZpgo3rU0"
      }
    },
    {
      "cell_type": "markdown",
      "source": [
        "* `rand()`: [0,1[\n",
        "* `sqrt`\n",
        "* `pow(2,4)`: elevação\n",
        "* `ln`, `log`, `log10`\n",
        "* `MOD(10/3)`: = `%`"
      ],
      "metadata": {
        "id": "C666lGwh4CqM"
      }
    },
    {
      "cell_type": "markdown",
      "source": [
        "* `round`: arredonda o 0.5 para cima.\n",
        "* `trunc`: arredonda para floor.\n",
        "* `ceil`, `floor`: maior, menor inteiro mais próximo."
      ],
      "metadata": {
        "id": "i4l_7QHO5KRo"
      }
    },
    {
      "cell_type": "markdown",
      "source": [
        "* `greatest`: retorna o maior valor dentro de um array\n",
        "* `least`: retorna o menor valor de um array\n"
      ],
      "metadata": {
        "id": "nSlbRSMC4hZq"
      }
    },
    {
      "cell_type": "markdown",
      "source": [
        "* `SAFE_MULTIPLY`: evita o overflow de multiplicações muito grandes."
      ],
      "metadata": {
        "id": "ykKm4Y-F4yGF"
      }
    },
    {
      "cell_type": "markdown",
      "source": [
        "### **RANGE_BUCKET**\n",
        "\n",
        "É uma ferramenta que facilita a identificação de **faixas de valores** para classificar cada valor. É uma alternativa simples às caixas condicionais (if, where).\n",
        "\n",
        "> Ao usar a função RANGE_BUCKET ela retorna que posição um número entraria em um array ordenado. No BigQuery a função RANGE_BUCKET(ponto, array) retorna a posição do ponto no array ."
      ],
      "metadata": {
        "id": "V7ahW3Hm7Nb-"
      }
    },
    {
      "cell_type": "markdown",
      "source": [
        "```sql\n",
        "-- QUANTOS ALUNOS EU TENHO ENTRE 10 E 13, ENTRE 13 E 15 E ENTRE 15 E 18?\n",
        "WITH Students AS\n",
        "(SELECT 'A1' AS ALUNO, 11 AS AGE\n",
        "UNION ALL SELECT 'A2' , 12\n",
        "UNION ALL SELECT 'A3' , 11\n",
        "UNION ALL SELECT 'A4' , 14\n",
        "UNION ALL SELECT 'A5' , 17\n",
        "UNION ALL SELECT 'A6' , 17\n",
        "UNION ALL SELECT 'A7' , 18\n",
        "UNION ALL SELECT 'A8' , 16\n",
        "UNION ALL SELECT 'A9' , 11\n",
        "UNION ALL SELECT 'A10' , 12\n",
        "UNION ALL SELECT 'A11' , 13\n",
        "UNION ALL SELECT 'A12' , 13\n",
        "UNION ALL SELECT 'A13' , 16)\n",
        "SELECT RANGE_BUCKET( AGE, [9, 13, 15, 19]), COUNT(*) FROM Students\n",
        "GROUP BY 1;\n",
        "```"
      ],
      "metadata": {
        "id": "iujvy6YM71rV"
      }
    },
    {
      "cell_type": "markdown",
      "source": [
        "## <font color=orange>Lógicas</font>"
      ],
      "metadata": {
        "id": "Xe8eRs4WmHyv"
      }
    },
    {
      "cell_type": "markdown",
      "source": [
        "* OR, AND, NOT"
      ],
      "metadata": {
        "id": "PuOj9OVPmNJ-"
      }
    },
    {
      "cell_type": "markdown",
      "source": [
        "### Expressão condicional\n"
      ],
      "metadata": {
        "id": "AjkjizD8o1g3"
      }
    },
    {
      "cell_type": "markdown",
      "source": [
        "\n",
        "#### **IF**\n",
        "\n",
        "`if (expression, when_true, when_false)`\n",
        "\n",
        "```sql\n",
        "SELECT (\n",
        "    IF (costPrice is NULL, 30.0, costPrice) *\n",
        "    IF (margin is NULL, 0.10, margin))\n",
        "```"
      ],
      "metadata": {
        "id": "_gOV715mh_RV"
      }
    },
    {
      "cell_type": "markdown",
      "source": [
        "#### **CASE WHEN**\n",
        "\n",
        "```sql\n",
        "-- CASE WHEN - RANGE_BUCKET\n",
        "WITH Students AS\n",
        "(SELECT 'A1' AS ALUNO, 11 AS AGE\n",
        "UNION ALL SELECT 'A2' , 12\n",
        "UNION ALL SELECT 'A3' , 11\n",
        "UNION ALL SELECT 'A4' , 14\n",
        "UNION ALL SELECT 'A5' , 17\n",
        "UNION ALL SELECT 'A6' , 17\n",
        "UNION ALL SELECT 'A7' , 18\n",
        "UNION ALL SELECT 'A8' , 16\n",
        "UNION ALL SELECT 'A9' , 11\n",
        "UNION ALL SELECT 'A10' , 12\n",
        "UNION ALL SELECT 'A11' , 13\n",
        "UNION ALL SELECT 'A12' , 13\n",
        "UNION ALL SELECT 'A13' , 16)\n",
        "SELECT ALUNO, RANGE_BUCKET( AGE, [9, 13, 15, 18]),\n",
        "CASE \n",
        "  WHEN AGE >= 9 AND AGE < 13 THEN '1'\n",
        "  WHEN AGE >= 13 AND AGE < 15 THEN '2'\n",
        "  WHEN AGE >= 15 AND AGE < 18 THEN '3'\n",
        "  ELSE '4' END \n",
        "FROM Students;\n",
        "```"
      ],
      "metadata": {
        "id": "FPiZRtrHruCU"
      }
    },
    {
      "cell_type": "markdown",
      "source": [
        "#### **COALESCE**\n",
        "\n",
        "`SELECT COALESCE (NULL, 'B', 'C') retorna B.`\n",
        "\n",
        "`coalesce(margin)` = `IF (margin is NULL, 0.10, margin)`\n",
        "\n"
      ],
      "metadata": {
        "id": "ulFX0FyXppGL"
      }
    },
    {
      "cell_type": "markdown",
      "source": [
        "```sql\n",
        "-- COALESCE\n",
        "WITH catalog AS (\n",
        "  SELECT 30.0 AS costPrice, 0.15 as margin, 0.1 as taxRate\n",
        "  UNION ALL SELECT NULL, 0.21, 0.15\n",
        "  UNION ALL SELECT 30.0, NULL, 0.09\n",
        "  UNION ALL SELECT 30.0, 0.30, NULL\n",
        "  UNION ALL SELECT 30.0, NULL, 0.10\n",
        ")\n",
        "SELECT \n",
        "  IF (costPrice IS NULL, 30.0, costPrice) * \n",
        "  IF (margin IS NULL, 0.10, margin) * \n",
        "  IF (taxrate IS NULL, 0.15, taxrate) \n",
        "  as FORMULA1 ,\n",
        "  COALESCE (\n",
        "    costPrice * margin * taxrate, \n",
        "    30.0 * margin * taxrate, \n",
        "    costprice * 0.10 * taxrate, \n",
        "    costPrice * margin * 0.15\n",
        "  ) as FORMULA2 FROM catalog;\n",
        "  ```"
      ],
      "metadata": {
        "id": "RT4mZODnrkqh"
      }
    },
    {
      "cell_type": "markdown",
      "source": [
        "## <font color=orange>Converção de Tipos</font>"
      ],
      "metadata": {
        "id": "fKO3FMjrqv6o"
      }
    },
    {
      "cell_type": "markdown",
      "source": [
        "```sql\n",
        "CAST('1' AS INT64)\n",
        "```\n",
        "\n",
        "```sql\n",
        "SAFE_CAST('ele' AS INT64)\n",
        ">> null\n",
        "```"
      ],
      "metadata": {
        "id": "Ro-KEyLMqyZR"
      }
    },
    {
      "cell_type": "markdown",
      "source": [
        "```sql\n",
        "-- Conversão segura\n",
        "WITH example AS (\n",
        "    SELECT 'Jonh' AS employee, 'Doente' as Hours_work\n",
        "    UNION ALL SELECT 'Jean', '100'\n",
        "    UNION ALL SELECT 'Peter', 'De férias'\n",
        "    UNION ALL SELECT 'Mary', '80'\n",
        ")\n",
        "SELECT SUM (SAFE_CAST(Hours_work AS INT64)) AS TOTAL FROM example;\n",
        "```"
      ],
      "metadata": {
        "id": "d9m2EC0btIIv"
      }
    },
    {
      "cell_type": "markdown",
      "source": [
        "## <font color=orange>STRINGS</font>"
      ],
      "metadata": {
        "id": "nMZtr4gHtoD3"
      }
    },
    {
      "cell_type": "markdown",
      "source": [
        "**LOWER, UPPER, INITCAP**\n",
        "\n",
        "A função INITCAP retorna com o primeiro caractere de cada palavra em maiúsculas e todos os outros caracteres em minúsculas\n",
        "\n",
        "```sql\n",
        "--initcap - personalizado\n",
        "WITH examples AS\n",
        " (SELECT \"Alo Mundo-todo mundo!\" AS FRASES, \" \" AS DELIMITER\n",
        " UNION ALL SELECT \"o cachorro TORNADO é alegre+manso\", \"+\"\n",
        " UNION ALL SELECT \"maça&laranja&pera\", \"&\"\n",
        " UNION ALL SELECT \"tata ta tavendo a tatia\", \"t\")\n",
        " SELECT FRASES, INITCAP(FRASES), INITCAP(FRASES, DELIMITER) FROM examples;\n",
        " ```"
      ],
      "metadata": {
        "id": "V1i2conQtrSl"
      }
    },
    {
      "cell_type": "markdown",
      "source": [
        "**LTRIM, RTRIM, TRIM, LEFT, RIGHT, SUBSTR**\n",
        "\n",
        "* **SUBSTR**: Extrai um sub-string de um string.\n",
        "\n",
        "\n",
        "\n",
        "```sql\n",
        "-- Funções de TRIM\n",
        "WITH items AS\n",
        " (SELECT \"     MAÇA     \" AS ITEM\n",
        " UNION ALL SELECT \"     BANANA     \"\n",
        " UNION ALL SELECT \"     LARANJA     \")\n",
        " SELECT ITEM, LTRIM(ITEM), RTRIM(ITEM), TRIM(ITEM) FROM items;\n",
        "\n",
        "-- left, right\n",
        "WITH items AS\n",
        " (SELECT \"     MAÇA     \" AS ITEM\n",
        " UNION ALL SELECT \"     BANANA     \"\n",
        " UNION ALL SELECT \"     LARANJA     \")\n",
        " SELECT TRIM(ITEM), LEFT(TRIM(ITEM), 2), RIGHT(TRIM(ITEM),2) FROM items;\n",
        "\n",
        "-- SUBSTR\n",
        " WITH example AS\n",
        "(SELECT 'banana' AS source_value,\n",
        "UNION ALL SELECT 'melancia'\n",
        "UNION ALL SELECT 'tangerina')\n",
        "SELECT source_value, SUBSTR(source_value,3,3) FROM example;\n",
        "\n",
        "WITH example AS\n",
        "(SELECT 'banana' AS source_value,\n",
        "UNION ALL SELECT 'melancia'\n",
        "UNION ALL SELECT 'tangerina')\n",
        "SELECT source_value, SUBSTR(source_value,3) FROM example;\n",
        " ```"
      ],
      "metadata": {
        "id": "csRaw45BulpA"
      }
    },
    {
      "cell_type": "markdown",
      "source": [
        "**CHAR_LENGTH, STARTS_WITH, ENDS_WITH, CONCAT**\n",
        "\n",
        "* CHAR_LENGTH: números de caracteres do string\n",
        "* STARTS_WITH, ENDS_WITH: avaliação lógica sobre as extremidades do string.\n",
        "* CONCAT: junta múltiplos strings. `CONCAT(A, ' ', B)`\n",
        "\n",
        "```sql\n",
        "-- Funções CHAR_LENGTH, STARTS_WITH, ENDS_WITH, CONCAT\n",
        "WITH examples AS\n",
        "(SELECT \"DR\" AS Titulo, \"Carlos\" as NOME, \"Junior\" as SOBRENOME\n",
        "UNION ALL SELECT \"SR\", \"Marcos\", \"Almeida\"\n",
        "UNION ALL SELECT \"DR\" , \"Mario\", \"Costa\"\n",
        "UNION ALL SELECT \"MS\" , \"Maria\", \"Rosa\")\n",
        "SELECT CONCAT (Titulo, \" \", Nome, \" \", Sobrenome), \n",
        "CHAR_LENGTH(CONCAT (Titulo, \" \", Nome, \" \", Sobrenome)),\n",
        "STARTS_WITH(CONCAT (Titulo, \" \", Nome, \" \", Sobrenome), \"DR\"), \n",
        "ENDS_WITH(CONCAT (Titulo, \" \", Nome, \" \", Sobrenome), \"Dr\") FROM examples;\n",
        " ```"
      ],
      "metadata": {
        "id": "pJe4kzorvD4U"
      }
    },
    {
      "cell_type": "markdown",
      "source": [
        "```sql\n",
        "SELECT CPF, NOME, CONCAT(ENDERECO_1, ' ', BAIRRO, ' ', CIDADE, ' ', ESTADO, ' ', CEP) AS ENDERECO_COMPLETO FROM `curso-big-query-0965.sucos_vendas.tabela_de_clientes`\n",
        "ORDER BY NOME ;\n",
        "```"
      ],
      "metadata": {
        "id": "hl0aZE775TAc"
      }
    },
    {
      "cell_type": "markdown",
      "source": [
        "**INSTR, SUBSTR, STRPOS, REVERSE, REPLACE, SPLIT**\n",
        "\n",
        "* **INSTR**: Retonar a posição de um conjunto de caracteres em um string (in str).\n",
        "* **STRPOS**: Mostra a posição de um sub-string. Extrai um sub-string do string a apartir  de um caracter.\n",
        "* **REVERSE**: Escrever o string de trás para frente.\n",
        "* **REPLACE**: Substitui um string por outro.\n",
        "* **SPLIT**: Transforma o string em um array segundo um delimitador.\n",
        "\n",
        "\n",
        "```sql\n",
        "-- Funções INSTR\n",
        "WITH example AS\n",
        "(SELECT 'banana' AS source_value, 'an' AS search_value, 1 as position, 1 as occcurrence\n",
        "UNION ALL SELECT 'banana' AS source_value, 'an' AS search_value, 3 as position, 1 as occcurrence\n",
        "UNION ALL SELECT 'banana' AS source_value, 'xx' AS search_value, 1 as position, 2 as occcurrence)\n",
        "SELECT *, INSTR(source_value, search_value, position, occcurrence) FROM example;\n",
        " ```\n",
        "\n",
        " ```sql\n",
        "-- Funções STRPOS\n",
        "WITH example AS\n",
        "(SELECT 'foo@example.com' AS source_value,\n",
        "UNION ALL SELECT 'victor@gmail.com'\n",
        "UNION ALL SELECT 'quexample@brazil.com')\n",
        "SELECT source_value, SUBSTR(source_value,1, STRPOS(source_value, \"@\") - 1) FROM example;\n",
        " ```\n",
        " \n",
        " ```sql\n",
        "-- Funções REPLACE\n",
        "WITH example AS\n",
        "(SELECT 'foo@example.com' AS source_value,\n",
        "UNION ALL SELECT 'victor@gmail.com'\n",
        "UNION ALL SELECT 'quexample@brazil.com')\n",
        "SELECT source_value, REPLACE(source_value, \"@\",\"XXXXXX\") FROM example;\n",
        " ```\n",
        "\n",
        "  ```sql\n",
        "-- Funções SPLIT - separa um string em um array\n",
        "WITH example AS\n",
        "(SELECT 'foo@example.com' AS source_value,\n",
        "UNION ALL SELECT 'victor@gmail.com'\n",
        "UNION ALL SELECT 'quexample@brazil.com')\n",
        "SELECT source_value, SPLIT(source_value, \"@\") FROM example;\n",
        " ```"
      ],
      "metadata": {
        "id": "LXdjO7ukv9DT"
      }
    },
    {
      "cell_type": "markdown",
      "source": [
        "**REGULAR EXPRESSIONS**\n",
        "\n",
        "* REGEXP_CONTAINS: Retorna True ou False, se existir o sub-string em um string.\n",
        "* REGEXP_EXTRACT: `REGEXP_EXTRACT(field, exp, initial, occurance)`\n",
        "* REGEXP_EXTRACT_ALL: retorna um array\n",
        "* REGEXP_REPLACE\n",
        "* ...\n",
        "\n",
        "```sql\n",
        "-- REGULAR EXPRESSION\n",
        "SELECT FIELD,\n",
        "REGEXP_CONTAINS(FIELD, r'[0-9]{5}-[0-9]{3}') AS TEM_CEP,\n",
        "REGEXP_EXTRACT(FIELD, r'[0-9]{5}-[0-9]{3}', 1, 1) AS CEP,\n",
        "REGEXP_EXTRACT(FIELD, r'[0-9]{5}-[0-9]{3}', 1, 2) AS CEP2,\n",
        "REGEXP_EXTRACT_ALL(FIELD, r'[0-9]{5}-[0-9]{3}') AS CEP3,\n",
        "REGEXP_REPLACE(FIELD, r'[0-9]{5}-[0-9]{3}', 'XXXXX-XXX') AS CEP2,\n",
        "FROM\n",
        "(SELECT * from UNNEST\n",
        "([\"22222-22\",\"     22222-222  \",\"Meu CEP é 222222-22\", \"Do CEP 22222-222 ATÉ O 22333-222\"]) AS FIELD);\n",
        "```"
      ],
      "metadata": {
        "id": "7RttWn5by5rM"
      }
    },
    {
      "cell_type": "markdown",
      "source": [
        "**FORMAT**\n",
        "\n",
        "```sql\n",
        "-- \n",
        "SELECT FORMAT(\"%015d\", 10);\n",
        ">> 000000000000010\n",
        "```\n",
        "\n",
        "* Decimal: `FORMAT(\"%015'd\", 10)`\n",
        "* Float: `FORMAT(\"%.*f\", 3, 10.785675)`\n",
        "* Notação científica: `FORMAT(\"%.*fe\", 3, 10.7e1)`\n",
        "* +: `FORMAT(\"+%.*fe\", 3, 10.7e1)`"
      ],
      "metadata": {
        "id": "GzDU7gc90dnQ"
      }
    },
    {
      "cell_type": "markdown",
      "source": [
        "## <font color=orange>DATETIME - TIMESTAMP</font>\n",
        "\n",
        "* **DATETIME**: inicializa como uma função ou um TIMESTAMP.\n",
        "* **TIMESTAMP**: inicializa com um STRING.\n",
        "* **DATE**: inicializa como uma função ou um TIMESTAMP.\n",
        "* **TIME**: inicializa como uma função ou um TIMESTAMP."
      ],
      "metadata": {
        "id": "hRk8FSjhn1ek"
      }
    },
    {
      "cell_type": "markdown",
      "source": [
        "**ATUAIS**\n",
        "\n",
        "```sql\n",
        "-- DATETIME, TIMESTAMP, DATE, TIME\n",
        "SELECT CURRENT_DATETIME,\n",
        "    CURRENT_TIMESTAMP,\n",
        "    CURRENT_DATE,\n",
        "    CURRENT_TIME;\n",
        " ```\n",
        "\n",
        "**ALTERANDO O UTC**\n",
        "\n",
        "```sql\n",
        "-- ALTERANDO O UTC\n",
        "SELECT CURRENT_DATETIME('America/Sao_Paulo'),\n",
        "    CURRENT_DATETIME('Europe/London'),\n",
        "    CURRENT_TIMESTAMP,\n",
        "    CURRENT_DATE,\n",
        "    CURRENT_TIME;\n",
        "```\n",
        "\n",
        "**CRIANDO DADOS DE DATAS**\n",
        "```sql\n",
        "SELECT TIMESTAMP('2020-07-01 10:00:00'),\n",
        "    DATETIME (2020, 7, 1, 10, 0 , 0),\n",
        "    DATE(2020, 7, 1),\n",
        "    TIME(10,0,0)\n",
        "    DATE(TIMESTAMP('2020-07-01 10:00:00')),\n",
        "    DATETIME(TIMESTAMP('2020-07-01 10:00:00')),\n",
        "    TIME(TIMESTAMP('2020-07-01 10:00:00'));\n",
        "```\n",
        "\n",
        "**ADIÇÃO, SUBTRAÇÃO e DIFERENÇA**\n",
        "\n",
        "```sql\n",
        "SELECT \n",
        "-- ADD\n",
        "  DATE_ADD (DATE(2008, 12, 25), INTERVAL 5 DAY) AS CINCO_DIAS_DEPOIS,\n",
        "  DATE_ADD (DATE(2008, 12, 25), INTERVAL 4 YEAR) AS QUATRO_ANOS_DEPOIS,\n",
        "  TIMESTAMP_ADD (CURRENT_TIMESTAMP, INTERVAL 45 MINUTE) AS QUARENTA_CINCO_MINUTOS_DEPOIS\n",
        "-- SUB\n",
        "  DATE_SUB (DATE(2008, 12, 25), INTERVAL 5 DAY) AS CINCO_DIAS_ANTES,\n",
        "  DATE_SUB (DATE(2008, 12, 25), INTERVAL 4 YEAR) AS QUATRO_ANOS_ANTES,\n",
        "  TIMESTAMP_SUB (CURRENT_TIMESTAMP, INTERVAL 45 MINUTE) AS QUARENTA_CINCO_MINUTOS_ANTES\n",
        "-- DIFF\n",
        "  DATE_DIFF (DATE(2010,12,25), DATE(2008, 9, 15), DAY),\n",
        "  DATETIME_DIFF (CURRENT_DATETIME, DATETIME(TIMESTAMP('2020-07-01 10:00:00')), MINUTE);\n",
        "```"
      ],
      "metadata": {
        "id": "r_sgYagRoSlU"
      }
    },
    {
      "cell_type": "markdown",
      "source": [
        "### Extract, Trunc, Last_day, generate_date_array\n",
        "\n",
        "* EXTRACT: Extrai informação de uma data.\n",
        "* generate_date_array: range de datas.\n",
        "* TRUNC: limpa as informações de menor representação (granularidade).\n",
        "* LAST_DAY: mostra o último dia do mês, semestre e do ano.\n"
      ],
      "metadata": {
        "id": "-7qaFjbNtuVa"
      }
    },
    {
      "cell_type": "markdown",
      "source": [
        "```sql\n",
        "-- Extraindo informações\n",
        "SELECT DATA,\n",
        "  EXTRACT(MONTH FROM DATA) AS MES,\n",
        "  EXTRACT(DAY FROM DATA) AS DIA,\n",
        "  EXTRACT(YEAR FROM DATA) AS ANO,\n",
        "  EXTRACT(DAYOFWEEK FROM DATA) AS SEMANA\n",
        "FROM UNNEST (GENERATE_DATE_ARRAY('2015-12-23', '2016-01-09')) AS DATA\n",
        "ORDER BY DATA;\n",
        "```\n",
        "\n",
        "```sql\n",
        "-- Simplicando a data\n",
        "SELECT \n",
        "  DATETIME_ADD(CURRENT_DATETIME, INTERVAL 90 DAY), \n",
        "  DATETIME_TRUNC(DATETIME_ADD(CURRENT_DATETIME, INTERVAL 90 DAY), DAY), \n",
        "  DATETIME_TRUNC(DATETIME_ADD(CURRENT_DATETIME, INTERVAL 90 DAY), MINUTE), \n",
        "  DATETIME_TRUNC(DATETIME_ADD(CURRENT_DATETIME, INTERVAL 90 DAY), MONTH), \n",
        "  DATETIME_TRUNC(DATETIME_ADD(CURRENT_DATETIME, INTERVAL 90 DAY), YEAR);\n",
        "```\n",
        "\n",
        "```sql\n",
        "SELECT \n",
        "  DATETIME_ADD(CURRENT_DATETIME, INTERVAL 90 DAY), \n",
        "  LAST_DAY(DATETIME_ADD(CURRENT_DATETIME, INTERVAL 90 DAY), MONTH),\n",
        "  LAST_DAY(DATETIME_ADD(CURRENT_DATETIME, INTERVAL 90 DAY), YEAR);\n",
        "```"
      ],
      "metadata": {
        "id": "Or7ilCHEtX7D"
      }
    },
    {
      "cell_type": "markdown",
      "source": [
        "```sql\n",
        "WITH TAB_IDADE AS (\n",
        "SELECT NOME, DATE_DIFF(CURRENT_DATE, DATA_DE_NASCIMENTO, YEAR) AS IDADE_ATUAL, IDADE \n",
        "FROM `curso-big-query-0965.sucos_vendas.tabela_de_clientes`)\n",
        "\n",
        "SELECT NOME, IDADE_ATUAL, IDADE,\n",
        "CASE WHEN (IDADE_ATUAL - IDADE) <> 0 THEN 'IDADE NÃO BATE'\n",
        "ELSE 'IDADE BATE COM A BASE DE DADOS' END AS RESULTADO FROM TAB_IDADE;\n",
        "```"
      ],
      "metadata": {
        "id": "j4tzhptC5MpR"
      }
    },
    {
      "cell_type": "markdown",
      "source": [
        "### Formatação de datas"
      ],
      "metadata": {
        "id": "EIv0Y6V2v2Tj"
      }
    },
    {
      "cell_type": "markdown",
      "source": [
        "* FORMAT_DATE\n",
        "* FORMAT_TIME\n",
        "* FORMAT_DATETIME\n",
        "* FORMAT_TIMESTAMP\n",
        "\n",
        "```sql\n",
        "SELECT \n",
        "    CURRENT_DATETIME, \n",
        "    FORMAT_DATETIME('%A, Dia %d de %B de %Y', CURRENT_DATETIME);\n",
        "```"
      ],
      "metadata": {
        "id": "vs-ZpVbCv4vF"
      }
    },
    {
      "cell_type": "markdown",
      "source": [
        "### Data UNIX\n",
        "\n",
        "É muito comum ser usado para registros de logs, auditorias internas, "
      ],
      "metadata": {
        "id": "4ffwrrQQwt-I"
      }
    },
    {
      "cell_type": "markdown",
      "source": [
        "```sql\n",
        "-- Ler datas UNIX\n",
        "SELECT\n",
        "  visitStartTime, TIMESTAMP_SECONDS(visitStartTime) FROM\n",
        " `bigquery-public-data.google_analytics_sample.ga_sessions_20170731`\n",
        "LIMIT 10;\n",
        "```\n",
        "\n",
        "```sql\n",
        "-- Transformar em UNIX\n",
        "SELECT CURRENT_TIMESTAMP, UNIX_SECONDS(CURRENT_TIMESTAMP);\n",
        "\n",
        "SELECT UNIX_DATE(DATE \"2008-12-25\") as dias_de_diferenca;\n",
        ">> 14238\n",
        "```"
      ],
      "metadata": {
        "id": "5lm6NGeswvTp"
      }
    },
    {
      "cell_type": "markdown",
      "source": [
        "## <font color=orange>Spatial Functions</font>"
      ],
      "metadata": {
        "id": "r1sWbLie0aim"
      }
    },
    {
      "cell_type": "markdown",
      "source": [
        "**ATIVAR O GEOVIZ**\n",
        "\n",
        "1. Google > BigQuery geo viz > [primeiro link](https://cloud.google.com/bigquery/docs/gis-getting-started) >  Ative API > Escolha o projeto\n",
        "2. Google > BigQuery geo viz > [bigquerygeoviz.appspot.com](https://bigquerygeoviz.appspot.com/) > Authorize"
      ],
      "metadata": {
        "id": "l_ZAx4Fr0dDI"
      }
    },
    {
      "cell_type": "markdown",
      "source": [
        "```sql\n",
        "-- Carregar dados das bicicletas\n",
        "SELECT *\n",
        "FROM `bigquery-public-data.new_york.citibike_stations`;\n",
        "\n",
        "-- Transforma coordenadas em point (WKT)\n",
        "SELECT ST_GEOGPOINT(longitude, latitude) AS Station, num_bikes_available\n",
        "FROM \n",
        "`bigquery-public-data.new_york.citibike_stations`\n",
        "WHERE num_bikes_available > 10;\n",
        "```"
      ],
      "metadata": {
        "id": "WXu7VZM51cWW"
      }
    },
    {
      "cell_type": "markdown",
      "source": [
        "```sql\n",
        "-- Construção de linhas\n",
        "SELECT ST_MAKELINE(ARRAY_AGG(Ponto)) as Linha FROM \n",
        "(SELECT ST_GEOGPOINT(-22.9349, -43.1730) AS Ponto\n",
        "UNION ALL SELECT ST_GEOGPOINT(-22.9365, -43.1771));\n",
        "\n",
        "SELECT ST_DISTANCE (ST_GEOGPOINT(-22.9349, -43.1730),\n",
        "                    ST_GEOGPOINT(-22.9365, -43.1771))\n",
        "AS Distancia;\n",
        "```"
      ],
      "metadata": {
        "id": "FDBZexeX4Bb8"
      }
    },
    {
      "cell_type": "markdown",
      "source": [
        "```sql\n",
        "-- Construção de polígonos\n",
        "SELECT ST_MAKEPOLYGON(ST_MAKELINE(ARRAY_AGG(Ponto))) as Poligono FROM \n",
        "(SELECT ST_GEOGPOINT(-22.9349, -43.1730) AS Ponto\n",
        "UNION ALL SELECT ST_GEOGPOINT(-22.9365, -43.1771)\n",
        "UNION ALL SELECT ST_GEOGPOINT(-22.9375, -43.1781));\n",
        "\n",
        "\n",
        "SELECT ST_AREA(ST_MAKEPOLYGON(ST_MAKELINE(ARRAY_AGG(Ponto)))) as Area FROM \n",
        "(SELECT ST_GEOGPOINT(-22.9349, -43.1730) AS Ponto\n",
        "UNION ALL SELECT ST_GEOGPOINT(-22.9365, -43.1771)\n",
        "UNION ALL SELECT ST_GEOGPOINT(-22.9375, -43.1781));\n",
        "```"
      ],
      "metadata": {
        "id": "hLly-xM64JMn"
      }
    }
  ]
}