{
  "nbformat": 4,
  "nbformat_minor": 0,
  "metadata": {
    "colab": {
      "provenance": [],
      "toc_visible": true,
      "authorship_tag": "ABX9TyO5SDsVji1zy8WCskCKCg9a",
      "include_colab_link": true
    },
    "kernelspec": {
      "name": "python3",
      "display_name": "Python 3"
    },
    "language_info": {
      "name": "python"
    }
  },
  "cells": [
    {
      "cell_type": "markdown",
      "metadata": {
        "id": "view-in-github",
        "colab_type": "text"
      },
      "source": [
        "<a href=\"https://colab.research.google.com/github/mbaliu-treino/Desenvolve/blob/main/LEARN_C_DS_DeepLearning_Rede_Neural_com_Numpy.ipynb\" target=\"_parent\"><img src=\"https://colab.research.google.com/assets/colab-badge.svg\" alt=\"Open In Colab\"/></a>"
      ]
    },
    {
      "cell_type": "markdown",
      "source": [
        "# <font color=orange><b>Regressão: implemente uma rede neural com numpy</b></font>\n",
        "\n",
        "<font color=gray size=2><a href=https://colab.research.google.com/drive/1j-c9deeieWMZnCeR8h5QoenlCnMbD1ZM>Arquivo Colab</a></font>\n",
        "\n",
        "<ul><font size=2 color=gray>FICHA TÉCNICA\n",
        "<li><a href=https://cursos.alura.com.br/course/rede-neural-numpy><font size=2 color=gray>Regressão: implemente uma rede neural com numpy</a>\n",
        "<li>Carga Horária: 7 h\n",
        "<li>Instrutora: Allan Spadini\n",
        "<li>Data de Início: 09-2022\n",
        "</ul>\n",
        "\n",
        "<hr color=gray><br>\n",
        "<h3><b>Conteúdo / Aprendizagem:</b></h3>\n",
        "\n",
        "- "
      ],
      "metadata": {
        "id": "JSeHxPLGhvUz"
      }
    },
    {
      "cell_type": "markdown",
      "source": [
        "# <font color=orange>RESUMO</font>\n",
        "\n",
        "<a href=https://docs.google.com/spreadsheets/d/1tTygYlq9r7nkUsw9a25N5_z57-de_59tSBCIVPw6KUw><font size=2 color=gray>ROTEIROS Data Science</font></a>\n",
        "\n",
        "* <font color=orange><b>\n",
        "\n",
        "* "
      ],
      "metadata": {
        "id": "XLGw5JrFFY8e"
      }
    },
    {
      "cell_type": "markdown",
      "source": [
        "# <font color=orange>**CURSO**</font>\n",
        "\n",
        "**Projeto**: neste curso é abordado um caso hipotético de uma análise das análises de uma empresa de mobilidade urbana com bicicletas alugadas. \n",
        "\n",
        "\n",
        "<font color=orange><b></b></font>\n"
      ],
      "metadata": {
        "id": "jgg2XMw1vEs_"
      }
    },
    {
      "cell_type": "markdown",
      "source": [
        "> A base de dados que estamos usando foi baseada na Bike Sharing Dataset, obtida a partir de sistemas de compartilhamento de bicicletas que são formas diferentes de aluguel de bicicletas, em que o processo de associação, locação e devolução é automático. Assim, um usuário pode alugar uma bicicleta a partir de uma determinada posição e retornar em outra posição. Os dados provenientes desses sistemas são muito interessantes para pesquisas em ciência de dados e aprendizagem de máquina (o famoso machine learning). Além das informações usadas no curso, são registradas informações relacionada à posição de partida e chegada de cada usuário. O que não ocorre em outras formas de transporte como ônibus e metrô. Isso faz com que o sistema de compartilhamento de bicicletas seja uma forma eficiente de estudar a mobilidade na cidade.\n",
        "\n",
        "> No artigo de Fanaee-T. e Gama (2013), essa base de dados foi usada para estudar um algoritmo de rotulagem de eventos. Por exemplo, se ocorreu um empréstimo de bicicleta ou não. Os resultados mostraram que o algoritmo proposto pode ser uma alternativa viável na falta de humanos treinados no assunto.\n",
        "\n",
        "Referência bibliográfica\n",
        "\n",
        "Fanaee-T., Hadi, and Gama, João. 'Event labeling combining ensemble detectors and background knowledge', Progress in Artificial Intelligence (2013): pp. 1-15, Springer Berlin Heidelberg. doi:10.1007/s13748-013-0040-3"
      ],
      "metadata": {
        "id": "0zopmCAwvfBR"
      }
    },
    {
      "cell_type": "markdown",
      "source": [
        "<a href=https://github.com/alura-cursos/redes-neurais/archive/allanspadini-aula-5.zip><font size=2; color=gray>Material de referencial do curso</a></font>"
      ],
      "metadata": {
        "id": "bzJUWzHnlbP_"
      }
    },
    {
      "cell_type": "markdown",
      "source": [
        "## <font color=orange><b>Carga de dados</b></font>"
      ],
      "metadata": {
        "id": "_WacAOS5rX86"
      }
    },
    {
      "cell_type": "code",
      "source": [
        "import pandas as pd\n",
        "import numpy as np\n",
        "import matplotlib.pyplot as plt\n",
        "import seaborn as sns"
      ],
      "metadata": {
        "id": "MDG1Hd_Qr7Ms"
      },
      "execution_count": 1,
      "outputs": []
    },
    {
      "cell_type": "code",
      "source": [
        "# Download dos dados\n",
        "data_uri = 'https://github.com/alura-cursos/redes-neurais/archive/allanspadini-aula-1.zip'\n",
        "\n",
        "!wget $data_uri\n",
        "!unzip /content/allanspadini-aula-1.zip"
      ],
      "metadata": {
        "colab": {
          "base_uri": "https://localhost:8080/"
        },
        "id": "patHi_Jtr96B",
        "outputId": "5817e780-d662-44b3-8917-269db93ca7e9"
      },
      "execution_count": 2,
      "outputs": [
        {
          "output_type": "stream",
          "name": "stdout",
          "text": [
            "--2022-09-04 18:16:31--  https://github.com/alura-cursos/redes-neurais/archive/allanspadini-aula-1.zip\n",
            "Resolving github.com (github.com)... 140.82.121.4\n",
            "Connecting to github.com (github.com)|140.82.121.4|:443... connected.\n",
            "HTTP request sent, awaiting response... 302 Found\n",
            "Location: https://codeload.github.com/alura-cursos/redes-neurais/zip/refs/heads/allanspadini-aula-1 [following]\n",
            "--2022-09-04 18:16:31--  https://codeload.github.com/alura-cursos/redes-neurais/zip/refs/heads/allanspadini-aula-1\n",
            "Resolving codeload.github.com (codeload.github.com)... 140.82.121.9\n",
            "Connecting to codeload.github.com (codeload.github.com)|140.82.121.9|:443... connected.\n",
            "HTTP request sent, awaiting response... 200 OK\n",
            "Length: unspecified [application/zip]\n",
            "Saving to: ‘allanspadini-aula-1.zip’\n",
            "\n",
            "allanspadini-aula-1     [ <=>                ]   6.04K  --.-KB/s    in 0.001s  \n",
            "\n",
            "2022-09-04 18:16:32 (5.17 MB/s) - ‘allanspadini-aula-1.zip’ saved [6186]\n",
            "\n",
            "Archive:  /content/allanspadini-aula-1.zip\n",
            "194fc7bbc9d83beae2c657b52b6d92cdbfd1e4ea\n",
            "   creating: redes-neurais-allanspadini-aula-1/\n",
            "  inflating: redes-neurais-allanspadini-aula-1/Bicicletas.csv  \n",
            "  inflating: redes-neurais-allanspadini-aula-1/Bikes_aula1.ipynb  \n"
          ]
        }
      ]
    },
    {
      "cell_type": "code",
      "source": [
        "# Leitura no Pandas\n",
        "dados = pd.read_csv('/content/redes-neurais-allanspadini-aula-1/Bicicletas.csv')\n",
        "dados.sample(5)"
      ],
      "metadata": {
        "colab": {
          "base_uri": "https://localhost:8080/",
          "height": 206
        },
        "id": "tRMbNx4psq67",
        "outputId": "7e4f1794-3762-4aa4-e782-dee113c2e481"
      },
      "execution_count": 3,
      "outputs": [
        {
          "output_type": "execute_result",
          "data": {
            "text/plain": [
              "     clima  temperatura  bicicletas_alugadas\n",
              "11       1     0.160473                 1162\n",
              "129      1     0.522721                 4803\n",
              "96       1     0.433696                 3141\n",
              "475      1     0.515775                 7290\n",
              "166      2     0.595346                 3767"
            ],
            "text/html": [
              "\n",
              "  <div id=\"df-fbb0d629-b53f-4fc6-b8ec-015d5f392749\">\n",
              "    <div class=\"colab-df-container\">\n",
              "      <div>\n",
              "<style scoped>\n",
              "    .dataframe tbody tr th:only-of-type {\n",
              "        vertical-align: middle;\n",
              "    }\n",
              "\n",
              "    .dataframe tbody tr th {\n",
              "        vertical-align: top;\n",
              "    }\n",
              "\n",
              "    .dataframe thead th {\n",
              "        text-align: right;\n",
              "    }\n",
              "</style>\n",
              "<table border=\"1\" class=\"dataframe\">\n",
              "  <thead>\n",
              "    <tr style=\"text-align: right;\">\n",
              "      <th></th>\n",
              "      <th>clima</th>\n",
              "      <th>temperatura</th>\n",
              "      <th>bicicletas_alugadas</th>\n",
              "    </tr>\n",
              "  </thead>\n",
              "  <tbody>\n",
              "    <tr>\n",
              "      <th>11</th>\n",
              "      <td>1</td>\n",
              "      <td>0.160473</td>\n",
              "      <td>1162</td>\n",
              "    </tr>\n",
              "    <tr>\n",
              "      <th>129</th>\n",
              "      <td>1</td>\n",
              "      <td>0.522721</td>\n",
              "      <td>4803</td>\n",
              "    </tr>\n",
              "    <tr>\n",
              "      <th>96</th>\n",
              "      <td>1</td>\n",
              "      <td>0.433696</td>\n",
              "      <td>3141</td>\n",
              "    </tr>\n",
              "    <tr>\n",
              "      <th>475</th>\n",
              "      <td>1</td>\n",
              "      <td>0.515775</td>\n",
              "      <td>7290</td>\n",
              "    </tr>\n",
              "    <tr>\n",
              "      <th>166</th>\n",
              "      <td>2</td>\n",
              "      <td>0.595346</td>\n",
              "      <td>3767</td>\n",
              "    </tr>\n",
              "  </tbody>\n",
              "</table>\n",
              "</div>\n",
              "      <button class=\"colab-df-convert\" onclick=\"convertToInteractive('df-fbb0d629-b53f-4fc6-b8ec-015d5f392749')\"\n",
              "              title=\"Convert this dataframe to an interactive table.\"\n",
              "              style=\"display:none;\">\n",
              "        \n",
              "  <svg xmlns=\"http://www.w3.org/2000/svg\" height=\"24px\"viewBox=\"0 0 24 24\"\n",
              "       width=\"24px\">\n",
              "    <path d=\"M0 0h24v24H0V0z\" fill=\"none\"/>\n",
              "    <path d=\"M18.56 5.44l.94 2.06.94-2.06 2.06-.94-2.06-.94-.94-2.06-.94 2.06-2.06.94zm-11 1L8.5 8.5l.94-2.06 2.06-.94-2.06-.94L8.5 2.5l-.94 2.06-2.06.94zm10 10l.94 2.06.94-2.06 2.06-.94-2.06-.94-.94-2.06-.94 2.06-2.06.94z\"/><path d=\"M17.41 7.96l-1.37-1.37c-.4-.4-.92-.59-1.43-.59-.52 0-1.04.2-1.43.59L10.3 9.45l-7.72 7.72c-.78.78-.78 2.05 0 2.83L4 21.41c.39.39.9.59 1.41.59.51 0 1.02-.2 1.41-.59l7.78-7.78 2.81-2.81c.8-.78.8-2.07 0-2.86zM5.41 20L4 18.59l7.72-7.72 1.47 1.35L5.41 20z\"/>\n",
              "  </svg>\n",
              "      </button>\n",
              "      \n",
              "  <style>\n",
              "    .colab-df-container {\n",
              "      display:flex;\n",
              "      flex-wrap:wrap;\n",
              "      gap: 12px;\n",
              "    }\n",
              "\n",
              "    .colab-df-convert {\n",
              "      background-color: #E8F0FE;\n",
              "      border: none;\n",
              "      border-radius: 50%;\n",
              "      cursor: pointer;\n",
              "      display: none;\n",
              "      fill: #1967D2;\n",
              "      height: 32px;\n",
              "      padding: 0 0 0 0;\n",
              "      width: 32px;\n",
              "    }\n",
              "\n",
              "    .colab-df-convert:hover {\n",
              "      background-color: #E2EBFA;\n",
              "      box-shadow: 0px 1px 2px rgba(60, 64, 67, 0.3), 0px 1px 3px 1px rgba(60, 64, 67, 0.15);\n",
              "      fill: #174EA6;\n",
              "    }\n",
              "\n",
              "    [theme=dark] .colab-df-convert {\n",
              "      background-color: #3B4455;\n",
              "      fill: #D2E3FC;\n",
              "    }\n",
              "\n",
              "    [theme=dark] .colab-df-convert:hover {\n",
              "      background-color: #434B5C;\n",
              "      box-shadow: 0px 1px 3px 1px rgba(0, 0, 0, 0.15);\n",
              "      filter: drop-shadow(0px 1px 2px rgba(0, 0, 0, 0.3));\n",
              "      fill: #FFFFFF;\n",
              "    }\n",
              "  </style>\n",
              "\n",
              "      <script>\n",
              "        const buttonEl =\n",
              "          document.querySelector('#df-fbb0d629-b53f-4fc6-b8ec-015d5f392749 button.colab-df-convert');\n",
              "        buttonEl.style.display =\n",
              "          google.colab.kernel.accessAllowed ? 'block' : 'none';\n",
              "\n",
              "        async function convertToInteractive(key) {\n",
              "          const element = document.querySelector('#df-fbb0d629-b53f-4fc6-b8ec-015d5f392749');\n",
              "          const dataTable =\n",
              "            await google.colab.kernel.invokeFunction('convertToInteractive',\n",
              "                                                     [key], {});\n",
              "          if (!dataTable) return;\n",
              "\n",
              "          const docLinkHtml = 'Like what you see? Visit the ' +\n",
              "            '<a target=\"_blank\" href=https://colab.research.google.com/notebooks/data_table.ipynb>data table notebook</a>'\n",
              "            + ' to learn more about interactive tables.';\n",
              "          element.innerHTML = '';\n",
              "          dataTable['output_type'] = 'display_data';\n",
              "          await google.colab.output.renderOutput(dataTable, element);\n",
              "          const docLink = document.createElement('div');\n",
              "          docLink.innerHTML = docLinkHtml;\n",
              "          element.appendChild(docLink);\n",
              "        }\n",
              "      </script>\n",
              "    </div>\n",
              "  </div>\n",
              "  "
            ]
          },
          "metadata": {},
          "execution_count": 3
        }
      ]
    },
    {
      "cell_type": "markdown",
      "source": [
        "## <font color=orange><b>Explorando a base de dados</b></font>"
      ],
      "metadata": {
        "id": "HNkI6gQvtCKa"
      }
    },
    {
      "cell_type": "code",
      "source": [
        "# Tamanho da base\n",
        "dados.shape"
      ],
      "metadata": {
        "colab": {
          "base_uri": "https://localhost:8080/"
        },
        "id": "Z75aL37bszY8",
        "outputId": "c1ea64f5-f971-4ec5-cde3-1837b4e14f11"
      },
      "execution_count": 4,
      "outputs": [
        {
          "output_type": "execute_result",
          "data": {
            "text/plain": [
              "(731, 3)"
            ]
          },
          "metadata": {},
          "execution_count": 4
        }
      ]
    },
    {
      "cell_type": "code",
      "source": [
        "# Colunas\n",
        "list(dados.columns)"
      ],
      "metadata": {
        "colab": {
          "base_uri": "https://localhost:8080/"
        },
        "id": "UJnErclitMZ0",
        "outputId": "43055553-ea79-471a-eb8e-d1c4895b0f65"
      },
      "execution_count": 5,
      "outputs": [
        {
          "output_type": "execute_result",
          "data": {
            "text/plain": [
              "['clima', 'temperatura', 'bicicletas_alugadas']"
            ]
          },
          "metadata": {},
          "execution_count": 5
        }
      ]
    },
    {
      "cell_type": "markdown",
      "source": [
        "O objetivo é entender a quantidade de bicicletas alugadas, por tanto essa variável será o nosso ALVO. As variáveis de clima e temperatura são atributos do dia, junto da métrica de quantidade de bicicletas alugadas."
      ],
      "metadata": {
        "id": "R2e0HHWQtZoi"
      }
    },
    {
      "cell_type": "code",
      "source": [
        "plt.scatter(dados['temperatura'], dados['bicicletas_alugadas'])\n",
        "plt.xlabel('Temperatura')\n",
        "plt.ylabel('Bicicletas alugadas')\n",
        "plt.show()"
      ],
      "metadata": {
        "colab": {
          "base_uri": "https://localhost:8080/",
          "height": 279
        },
        "id": "DgWBM77dtQep",
        "outputId": "561b9c85-6e4e-43c8-9d84-a192cd2c8f1d"
      },
      "execution_count": 6,
      "outputs": [
        {
          "output_type": "display_data",
          "data": {
            "text/plain": [
              "<Figure size 432x288 with 1 Axes>"
            ],
            "image/png": "[encoded data removed]"
          },
          "metadata": {
            "needs_background": "light"
          }
        }
      ]
    },
    {
      "cell_type": "code",
      "source": [
        "# CATEGÓRICA x NUMÉRICA - scatter\n",
        "plt.scatter(dados['clima'], dados['bicicletas_alugadas'])\n",
        "plt.xlabel('Clima')\n",
        "plt.ylabel('Bicicletas alugadas')\n",
        "\n",
        "indice = [1,2,3]\n",
        "plt.xticks(indice, fontsize=14)\n",
        "plt.show()"
      ],
      "metadata": {
        "colab": {
          "base_uri": "https://localhost:8080/",
          "height": 283
        },
        "id": "M2ODt_pguH0d",
        "outputId": "f490b6d0-5d96-47bf-dcdf-c6984fb5575f"
      },
      "execution_count": 7,
      "outputs": [
        {
          "output_type": "display_data",
          "data": {
            "text/plain": [
              "<Figure size 432x288 with 1 Axes>"
            ],
            "image/png": "[encoded data removed]"
          },
          "metadata": {
            "needs_background": "light"
          }
        }
      ]
    },
    {
      "cell_type": "code",
      "source": [
        "# CATEGÓRICA x NUMÉRICA - boxplot\n",
        "plt.boxplot(dados['bicicletas_alugadas'], )\n",
        "# plt.xlabel('Clima')\n",
        "# plt.ylabel('Bicicletas alugadas')\n",
        "\n",
        "# indice = [1,2,3]\n",
        "# plt.xticks(indice, fontsize=14)\n",
        "plt.show()\n",
        "\n",
        "# Como mostrar vários boxplot em uma imagem"
      ],
      "metadata": {
        "colab": {
          "base_uri": "https://localhost:8080/",
          "height": 265
        },
        "id": "yIM35mukx0vQ",
        "outputId": "345113fe-ceff-4957-9ee9-c3e501880ba5"
      },
      "execution_count": 8,
      "outputs": [
        {
          "output_type": "display_data",
          "data": {
            "text/plain": [
              "<Figure size 432x288 with 1 Axes>"
            ],
            "image/png": "[encoded data removed]"
          },
          "metadata": {
            "needs_background": "light"
          }
        }
      ]
    },
    {
      "cell_type": "code",
      "source": [
        "# CATEGÓRICA x NUMÉRICA - boxplot\n",
        "sns.boxplot(data=dados, y='bicicletas_alugadas', x='clima')\n",
        "plt.xlabel('Clima')\n",
        "plt.ylabel('Bicicletas alugadas')\n",
        "\n",
        "plt.xticks(fontsize=14)\n",
        "plt.show()"
      ],
      "metadata": {
        "colab": {
          "base_uri": "https://localhost:8080/",
          "height": 283
        },
        "id": "LTWHjYxsysSD",
        "outputId": "6dd783bb-c5d7-4407-88dc-e02034363068"
      },
      "execution_count": 9,
      "outputs": [
        {
          "output_type": "display_data",
          "data": {
            "text/plain": [
              "<Figure size 432x288 with 1 Axes>"
            ],
            "image/png": "[encoded data removed]"
          },
          "metadata": {
            "needs_background": "light"
          }
        }
      ]
    },
    {
      "cell_type": "markdown",
      "source": [
        "## <font color=orange><b>Normalização</b></font>"
      ],
      "metadata": {
        "id": "TgYWin6ktE46"
      }
    },
    {
      "cell_type": "code",
      "source": [
        "y = dados['bicicletas_alugadas'].values\n",
        "X = dados[['clima', 'temperatura']].values  # -> np.array"
      ],
      "metadata": {
        "id": "BZ-j9Z_StK6Z"
      },
      "execution_count": 25,
      "outputs": []
    },
    {
      "cell_type": "code",
      "source": [
        "# Normalização: Máx - Mín [0 - 1]\n",
        "X_maxs = np.amax(X, axis=0)\n",
        "X_norm = X / X_maxs\n",
        "print(X_norm)"
      ],
      "metadata": {
        "colab": {
          "base_uri": "https://localhost:8080/"
        },
        "id": "Yp0Ud2ucuXTh",
        "outputId": "3f6c24f1-65ca-41fe-8a1c-1fef267e6746"
      },
      "execution_count": 26,
      "outputs": [
        {
          "output_type": "stream",
          "name": "stdout",
          "text": [
            "[[0.66666667 0.43242565]\n",
            " [0.66666667 0.42066914]\n",
            " [0.33333333 0.22524188]\n",
            " ...\n",
            " [0.66666667 0.28826395]\n",
            " [0.33333333 0.27553942]\n",
            " [0.66666667 0.26577246]]\n"
          ]
        }
      ]
    },
    {
      "cell_type": "code",
      "source": [
        "# Normalização: Máx - Mín [0 - 1]\n",
        "y_norm = y / np.amax(y)"
      ],
      "metadata": {
        "id": "mbT2VnehuwpF"
      },
      "execution_count": 27,
      "outputs": []
    },
    {
      "cell_type": "markdown",
      "source": [
        "# <font color=orange><b>Estrutura das Redes Neurais</b></font>"
      ],
      "metadata": {
        "id": "EPqZe3ltv1IZ"
      }
    },
    {
      "cell_type": "markdown",
      "source": [
        "## **FUNÇÕES DAS REDES**\n",
        "\n",
        "* Cada valor das variáveis explicativas é multiplicado pelo PESO. \n",
        "* Depois são somados os produtos de todas variáveis obtendo um valor da SOMA em cada registro.\n",
        "* Após isso, os valores da SOMA são processados pela FUNÇÃO DE ATIVAÇÃO, obtendo o valor da saída."
      ],
      "metadata": {
        "id": "pD3t4a_M2f0B"
      }
    },
    {
      "cell_type": "markdown",
      "source": [
        "![Sigmoid](https://lh4.googleusercontent.com/efWc9RBhWUYYoYuqXhcQdjseIJ_r1_esW1muTDlcn73SJWjl9IUTX88SzYN3JKVdadXhJaBj6a_NAG-zPPwb_rWrJfdtiDz9AyPqAKkHLjK8mHOVnSwsv6iiYRHftydAF4YgCQvqTgoUg4wGQoqI_kTUOC1WLGd5lOl7VWrcOnyS66IsfKKWT3Ks7A)"
      ],
      "metadata": {
        "id": "YQdJGMFLVzaL"
      }
    },
    {
      "cell_type": "code",
      "source": [
        "def sigmoid(Soma):\n",
        "    return 1 / (1 + np.exp(-Soma))\n",
        "\n",
        "def relu(Soma):\n",
        "    return np.maximum(0, Soma)"
      ],
      "metadata": {
        "id": "HyoM754nu6ff"
      },
      "execution_count": 28,
      "outputs": []
    },
    {
      "cell_type": "markdown",
      "source": [
        "## <font color=orange>ARQUITETURA</font>\n",
        "\n",
        "São contados como camadas a OCULTA e a SAÍDA."
      ],
      "metadata": {
        "id": "02REcwal469g"
      }
    },
    {
      "cell_type": "markdown",
      "source": [
        "![](https://lh3.googleusercontent.com/E5770rjjn5MwDYlF223vH9BFHUabRqgjBVD5_w803-b4AYBFt3otScCwEwXSs3TiZqUOzPnKVelJc80w7XUVlG1gb5itYvkJarJKRohHkFw_MaftLCEXr76Hvu04cXLt0qPcNj-NDNI4oWXS5C26PDayis-xfLwuULdotA9QBMR7NnFWRMcrEGKC6Q)\n",
        "\n",
        "![](https://lh5.googleusercontent.com/5zo-cEpO2Hg04Ee_AqvRavZj1uCm72snjWQOZ0SkTK64v6ytHwHgbtmQ9bMyTRJOQBaXzca-myvyY2IhWBSQTcuoMHWR31ZnfYHAGUO94KBSZmufH8szs8TE0EXatC-i91uX1qoF5c4g56D_UUgyQaQaB6AqelTJERSnUvqdALjiRng6PAPBr6rf9g)"
      ],
      "metadata": {
        "id": "iEvVWXxRWOGe"
      }
    },
    {
      "cell_type": "markdown",
      "source": [
        "**PROPAGAÇÃO**\n",
        "\n",
        "Uma rede neural é um conjunto de funções entre os dados de entradas, um conjuntos de *nodes* e uma saída esperada."
      ],
      "metadata": {
        "id": "XMGkLmj732H8"
      }
    },
    {
      "cell_type": "code",
      "source": [
        "nodes = 3\n",
        "\n",
        "arquitetura = [\n",
        "    # ENTRADA=2 variáveis; SAÍDA: número de nodes, ATIVAÇÃO\n",
        "    {'dim_entrada': 2, 'dim_saida': nodes, 'ativacao': 'relu'},\n",
        "    # ENTRADA=3 nodes; SAÍDA: resposta esperada, ATIVAÇÃO\n",
        "    {'dim_entrada': nodes, 'dim_saida': 1, 'ativacao': 'sigmoid'},\n",
        "]"
      ],
      "metadata": {
        "id": "GDlmqp8x3fwW"
      },
      "execution_count": 31,
      "outputs": []
    },
    {
      "cell_type": "markdown",
      "source": [
        "## <font color=orange>PESOS e VIESES</font>\n",
        "\n",
        "Os pesos serão armazenados em matrizes."
      ],
      "metadata": {
        "id": "4xPLAdAwRWc0"
      }
    },
    {
      "cell_type": "markdown",
      "source": [
        "![](https://lh3.googleusercontent.com/i1t1_Ae_bpjVc4Pnls2tgNE3tuW3IM5H2Up0oEaKWd-nTxSvmCMb1mb-mCIYAGtUFoGrJW_LHuQtqe3E2N-8eZuiCY3wJGbGbi5WCpbxP1UDSkPABxLah6dtt7_Ec6XlIMa0VMdGbhKXJ8lKUaMuXAEDWji5psX5RO4YJIE3U0EMV7cITehhT-JlEw)\n",
        "\n",
        "![](https://lh4.googleusercontent.com/mFX3DR1ARHT8Sq70x7RLCyc-CJfpe7goRzXWyFO58jRHRsXwnikeMDq2Qi-1sqwEruMwtXG0ObO_v79UFPm7uw8mahGZx6vu_byEWKNeK_RswvNXLP4PZjNxmEh6HvS_nDDBeLnrhDjv3fUfGn-xg0E8gyr7ZBKPVNzpu8EXsB6udsskQvmUqQPK_w)"
      ],
      "metadata": {
        "id": "SYFepVXnWXyj"
      }
    },
    {
      "cell_type": "code",
      "source": [
        "def inicia_camadas(arquitetura, seed=99):\n",
        "    np.random.seed(seed)\n",
        "\n",
        "    # A quantidde de camadas é o comprimento da arquitetura\n",
        "    numero_de_camadas = len(arquitetura)\n",
        "\n",
        "    valores_parametros = {}\n",
        "    for indice, camada in enumerate(arquitetura):\n",
        "        indice_camada = indice + 1\n",
        "\n",
        "        tamanho_camada_entrada = camada['dim_entrada']\n",
        "        tamanho_camada_saida = camada['dim_saida']\n",
        "\n",
        "        # PESOS\n",
        "        valor_randomico = np.random.randn(tamanho_camada_saida, tamanho_camada_entrada)\n",
        "        valores_parametros['P' + str(indice_camada)] = valor_randomico\n",
        "\n",
        "        # VIESES\n",
        "        valor_randomico = np.random.randn(tamanho_camada_saida)\n",
        "        valores_parametros['B' + str(indice_camada)] = valor_randomico\n",
        "\n",
        "    return valores_parametros"
      ],
      "metadata": {
        "id": "RAg6y0xa5qH4"
      },
      "execution_count": 35,
      "outputs": []
    },
    {
      "cell_type": "code",
      "source": [
        "inicia_camadas(arquitetura)"
      ],
      "metadata": {
        "colab": {
          "base_uri": "https://localhost:8080/"
        },
        "id": "IK9FJbtrU0zq",
        "outputId": "427d890e-5c83-40a3-f32c-b660cbb10eae"
      },
      "execution_count": 36,
      "outputs": [
        {
          "output_type": "execute_result",
          "data": {
            "text/plain": [
              "{'P1': array([[-0.14235884,  2.05722174],\n",
              "        [ 0.28326194,  1.32981198],\n",
              "        [-0.15462185, -0.06903086]]),\n",
              " 'B1': array([ 0.75518049,  0.82564665, -0.11306921]),\n",
              " 'P2': array([[-2.36783759, -0.16704943,  0.68539797]]),\n",
              " 'B2': array([0.02350011])}"
            ]
          },
          "metadata": {},
          "execution_count": 36
        }
      ]
    },
    {
      "cell_type": "markdown",
      "source": [
        "**PROPAGAÇÃO**\n"
      ],
      "metadata": {
        "id": "ZT7iOWTpWnb0"
      }
    },
    {
      "cell_type": "code",
      "source": [
        "# A forma mais eficiente computacionalmente é através do cálculo de matrizes.\n",
        "def propaga_uma_camada(Ativado_anterior, Pesos_atuais, b_atual, ativacao='relu'):\n",
        "    Saida_atual = np.dor(Pesos_atuais, Ativado_anterior) + b_atual # multiplicação de matrizes\n",
        "\n",
        "    if ativacao == 'relu':\n",
        "        func_ativacao = relu\n",
        "    if ativacao == 'sigmoide':\n",
        "        func_ativacao = sigmoid\n",
        "\n",
        "    return func_ativacao(Saida_atual)"
      ],
      "metadata": {
        "id": "kYqzRGa5Wpn8"
      },
      "execution_count": 37,
      "outputs": []
    },
    {
      "cell_type": "code",
      "source": [
        "def propaga_total(X, valores_parametros, arquitetura):\n",
        "    memoria = {}\n",
        "\n",
        "    "
      ],
      "metadata": {
        "id": "OtV__8WtdGJs"
      },
      "execution_count": null,
      "outputs": []
    }
  ]
}