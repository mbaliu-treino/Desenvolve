{
  "nbformat": 4,
  "nbformat_minor": 0,
  "metadata": {
    "colab": {
      "provenance": [],
      "toc_visible": true,
      "authorship_tag": "ABX9TyMRkv7BlQAD4Bije6asM8e6",
      "include_colab_link": true
    },
    "kernelspec": {
      "name": "python3",
      "display_name": "Python 3"
    },
    "language_info": {
      "name": "python"
    }
  },
  "cells": [
    {
      "cell_type": "markdown",
      "metadata": {
        "id": "view-in-github",
        "colab_type": "text"
      },
      "source": [
        "<a href=\"https://colab.research.google.com/github/mbaliu-treino/Desenvolve/blob/main/LEARN_C_DS_DeepLearning_Rede_Neural_com_Numpy.ipynb\" target=\"_parent\"><img src=\"https://colab.research.google.com/assets/colab-badge.svg\" alt=\"Open In Colab\"/></a>"
      ]
    },
    {
      "cell_type": "markdown",
      "source": [
        "# <font color=orange><b>Regressão: implemente uma rede neural com numpy</b></font>\n",
        "\n",
        "<font color=gray size=2><a href=https://colab.research.google.com/drive/1j-c9deeieWMZnCeR8h5QoenlCnMbD1ZM>Arquivo Colab</a></font>\n",
        "\n",
        "<ul><font size=2 color=gray>FICHA TÉCNICA\n",
        "<li><a href=https://cursos.alura.com.br/course/rede-neural-numpy><font size=2 color=gray>Regressão: implemente uma rede neural com numpy</a>\n",
        "<li>Carga Horária: 7 h\n",
        "<li>Instrutora: Allan Spadini\n",
        "<li>Data de Início: 09-2022\n",
        "</ul>\n",
        "\n",
        "<hr color=gray><br>\n",
        "<h3><b>Conteúdo / Aprendizagem:</b></h3>\n",
        "\n",
        "- "
      ],
      "metadata": {
        "id": "JSeHxPLGhvUz"
      }
    },
    {
      "cell_type": "markdown",
      "source": [
        "# <font color=orange>RESUMO</font>\n",
        "\n",
        "<a href=https://docs.google.com/spreadsheets/d/1tTygYlq9r7nkUsw9a25N5_z57-de_59tSBCIVPw6KUw><font size=2 color=gray>ROTEIROS Data Science</font></a>\n",
        "\n",
        "* <font color=orange><b>\n",
        "\n",
        "* "
      ],
      "metadata": {
        "id": "XLGw5JrFFY8e"
      }
    },
    {
      "cell_type": "markdown",
      "source": [
        "# <font color=orange>**CURSO**</font>\n",
        "\n",
        "**Projeto**: neste curso é abordado um caso hipotético de uma análise das análises de uma empresa de mobilidade urbana com bicicletas alugadas. \n",
        "\n",
        "\n",
        "<font color=orange><b></b></font>\n"
      ],
      "metadata": {
        "id": "jgg2XMw1vEs_"
      }
    },
    {
      "cell_type": "markdown",
      "source": [
        "> A base de dados que estamos usando foi baseada na Bike Sharing Dataset, obtida a partir de sistemas de compartilhamento de bicicletas que são formas diferentes de aluguel de bicicletas, em que o processo de associação, locação e devolução é automático. Assim, um usuário pode alugar uma bicicleta a partir de uma determinada posição e retornar em outra posição. Os dados provenientes desses sistemas são muito interessantes para pesquisas em ciência de dados e aprendizagem de máquina (o famoso machine learning). Além das informações usadas no curso, são registradas informações relacionada à posição de partida e chegada de cada usuário. O que não ocorre em outras formas de transporte como ônibus e metrô. Isso faz com que o sistema de compartilhamento de bicicletas seja uma forma eficiente de estudar a mobilidade na cidade.\n",
        "\n",
        "> No artigo de Fanaee-T. e Gama (2013), essa base de dados foi usada para estudar um algoritmo de rotulagem de eventos. Por exemplo, se ocorreu um empréstimo de bicicleta ou não. Os resultados mostraram que o algoritmo proposto pode ser uma alternativa viável na falta de humanos treinados no assunto.\n",
        "\n",
        "Referência bibliográfica\n",
        "\n",
        "Fanaee-T., Hadi, and Gama, João. 'Event labeling combining ensemble detectors and background knowledge', Progress in Artificial Intelligence (2013): pp. 1-15, Springer Berlin Heidelberg. doi:10.1007/s13748-013-0040-3"
      ],
      "metadata": {
        "id": "0zopmCAwvfBR"
      }
    },
    {
      "cell_type": "markdown",
      "source": [
        "<a href=https://github.com/alura-cursos/redes-neurais/archive/allanspadini-aula-5.zip><font size=2; color=gray>Material de referencial do curso</a></font>\n",
        "\n",
        "<a href=\"https://colab.research.google.com/drive/1mOy30tlkdhbm4JLMPqIunzKbvbZMa1iZ?authuser=1#scrollTo=Wa1fIf_Ny5Vv&uniqifier=1\"><font size=2; color=gray>Material de referencial do curso</a></font>\n",
        "\n"
      ],
      "metadata": {
        "id": "bzJUWzHnlbP_"
      }
    },
    {
      "cell_type": "markdown",
      "source": [
        "## <font color=orange><b>Carga de dados</b></font>"
      ],
      "metadata": {
        "id": "_WacAOS5rX86"
      }
    },
    {
      "cell_type": "code",
      "source": [
        "import pandas as pd\n",
        "import numpy as np\n",
        "import matplotlib.pyplot as plt\n",
        "import matplotlib as mpl\n",
        "import seaborn as sns"
      ],
      "metadata": {
        "id": "MDG1Hd_Qr7Ms"
      },
      "execution_count": 32,
      "outputs": []
    },
    {
      "cell_type": "code",
      "source": [
        "# Download dos dados\n",
        "data_uri = 'https://github.com/alura-cursos/redes-neurais/archive/allanspadini-aula-1.zip'\n",
        "\n",
        "!wget $data_uri\n",
        "!unzip /content/allanspadini-aula-1.zip"
      ],
      "metadata": {
        "colab": {
          "base_uri": "https://localhost:8080/"
        },
        "id": "patHi_Jtr96B",
        "outputId": "210b8506-df42-4eda-e3fd-73218d2f6a51"
      },
      "execution_count": 5,
      "outputs": [
        {
          "output_type": "stream",
          "name": "stdout",
          "text": [
            "--2022-09-05 20:50:04--  https://github.com/alura-cursos/redes-neurais/archive/allanspadini-aula-1.zip\n",
            "Resolving github.com (github.com)... 140.82.113.4\n",
            "Connecting to github.com (github.com)|140.82.113.4|:443... connected.\n",
            "HTTP request sent, awaiting response... 302 Found\n",
            "Location: https://codeload.github.com/alura-cursos/redes-neurais/zip/refs/heads/allanspadini-aula-1 [following]\n",
            "--2022-09-05 20:50:04--  https://codeload.github.com/alura-cursos/redes-neurais/zip/refs/heads/allanspadini-aula-1\n",
            "Resolving codeload.github.com (codeload.github.com)... 140.82.112.9\n",
            "Connecting to codeload.github.com (codeload.github.com)|140.82.112.9|:443... connected.\n",
            "HTTP request sent, awaiting response... 200 OK\n",
            "Length: unspecified [application/zip]\n",
            "Saving to: ‘allanspadini-aula-1.zip’\n",
            "\n",
            "allanspadini-aula-1     [ <=>                ]   6.04K  --.-KB/s    in 0.002s  \n",
            "\n",
            "2022-09-05 20:50:04 (3.64 MB/s) - ‘allanspadini-aula-1.zip’ saved [6186]\n",
            "\n",
            "Archive:  /content/allanspadini-aula-1.zip\n",
            "194fc7bbc9d83beae2c657b52b6d92cdbfd1e4ea\n",
            "   creating: redes-neurais-allanspadini-aula-1/\n",
            "  inflating: redes-neurais-allanspadini-aula-1/Bicicletas.csv  \n",
            "  inflating: redes-neurais-allanspadini-aula-1/Bikes_aula1.ipynb  \n"
          ]
        }
      ]
    },
    {
      "cell_type": "code",
      "source": [
        "# Leitura no Pandas\n",
        "dados = pd.read_csv('/content/redes-neurais-allanspadini-aula-1/Bicicletas.csv')\n",
        "dados.sample(5)"
      ],
      "metadata": {
        "colab": {
          "base_uri": "https://localhost:8080/",
          "height": 206
        },
        "id": "tRMbNx4psq67",
        "outputId": "8fd877e1-cb64-4f30-b9cb-c6e873ce6acc"
      },
      "execution_count": 39,
      "outputs": [
        {
          "output_type": "execute_result",
          "data": {
            "text/plain": [
              "     clima  temperatura  bicicletas_alugadas\n",
              "423      1     0.353525                 4363\n",
              "294      1     0.425492                 4308\n",
              "267      2     0.572637                 5010\n",
              "517      2     0.607962                 4127\n",
              "222      1     0.651521                 4792"
            ],
            "text/html": [
              "\n",
              "  <div id=\"df-c53aace2-9230-45bb-b575-a91c92a8c362\">\n",
              "    <div class=\"colab-df-container\">\n",
              "      <div>\n",
              "<style scoped>\n",
              "    .dataframe tbody tr th:only-of-type {\n",
              "        vertical-align: middle;\n",
              "    }\n",
              "\n",
              "    .dataframe tbody tr th {\n",
              "        vertical-align: top;\n",
              "    }\n",
              "\n",
              "    .dataframe thead th {\n",
              "        text-align: right;\n",
              "    }\n",
              "</style>\n",
              "<table border=\"1\" class=\"dataframe\">\n",
              "  <thead>\n",
              "    <tr style=\"text-align: right;\">\n",
              "      <th></th>\n",
              "      <th>clima</th>\n",
              "      <th>temperatura</th>\n",
              "      <th>bicicletas_alugadas</th>\n",
              "    </tr>\n",
              "  </thead>\n",
              "  <tbody>\n",
              "    <tr>\n",
              "      <th>423</th>\n",
              "      <td>1</td>\n",
              "      <td>0.353525</td>\n",
              "      <td>4363</td>\n",
              "    </tr>\n",
              "    <tr>\n",
              "      <th>294</th>\n",
              "      <td>1</td>\n",
              "      <td>0.425492</td>\n",
              "      <td>4308</td>\n",
              "    </tr>\n",
              "    <tr>\n",
              "      <th>267</th>\n",
              "      <td>2</td>\n",
              "      <td>0.572637</td>\n",
              "      <td>5010</td>\n",
              "    </tr>\n",
              "    <tr>\n",
              "      <th>517</th>\n",
              "      <td>2</td>\n",
              "      <td>0.607962</td>\n",
              "      <td>4127</td>\n",
              "    </tr>\n",
              "    <tr>\n",
              "      <th>222</th>\n",
              "      <td>1</td>\n",
              "      <td>0.651521</td>\n",
              "      <td>4792</td>\n",
              "    </tr>\n",
              "  </tbody>\n",
              "</table>\n",
              "</div>\n",
              "      <button class=\"colab-df-convert\" onclick=\"convertToInteractive('df-c53aace2-9230-45bb-b575-a91c92a8c362')\"\n",
              "              title=\"Convert this dataframe to an interactive table.\"\n",
              "              style=\"display:none;\">\n",
              "        \n",
              "  <svg xmlns=\"http://www.w3.org/2000/svg\" height=\"24px\"viewBox=\"0 0 24 24\"\n",
              "       width=\"24px\">\n",
              "    <path d=\"M0 0h24v24H0V0z\" fill=\"none\"/>\n",
              "    <path d=\"M18.56 5.44l.94 2.06.94-2.06 2.06-.94-2.06-.94-.94-2.06-.94 2.06-2.06.94zm-11 1L8.5 8.5l.94-2.06 2.06-.94-2.06-.94L8.5 2.5l-.94 2.06-2.06.94zm10 10l.94 2.06.94-2.06 2.06-.94-2.06-.94-.94-2.06-.94 2.06-2.06.94z\"/><path d=\"M17.41 7.96l-1.37-1.37c-.4-.4-.92-.59-1.43-.59-.52 0-1.04.2-1.43.59L10.3 9.45l-7.72 7.72c-.78.78-.78 2.05 0 2.83L4 21.41c.39.39.9.59 1.41.59.51 0 1.02-.2 1.41-.59l7.78-7.78 2.81-2.81c.8-.78.8-2.07 0-2.86zM5.41 20L4 18.59l7.72-7.72 1.47 1.35L5.41 20z\"/>\n",
              "  </svg>\n",
              "      </button>\n",
              "      \n",
              "  <style>\n",
              "    .colab-df-container {\n",
              "      display:flex;\n",
              "      flex-wrap:wrap;\n",
              "      gap: 12px;\n",
              "    }\n",
              "\n",
              "    .colab-df-convert {\n",
              "      background-color: #E8F0FE;\n",
              "      border: none;\n",
              "      border-radius: 50%;\n",
              "      cursor: pointer;\n",
              "      display: none;\n",
              "      fill: #1967D2;\n",
              "      height: 32px;\n",
              "      padding: 0 0 0 0;\n",
              "      width: 32px;\n",
              "    }\n",
              "\n",
              "    .colab-df-convert:hover {\n",
              "      background-color: #E2EBFA;\n",
              "      box-shadow: 0px 1px 2px rgba(60, 64, 67, 0.3), 0px 1px 3px 1px rgba(60, 64, 67, 0.15);\n",
              "      fill: #174EA6;\n",
              "    }\n",
              "\n",
              "    [theme=dark] .colab-df-convert {\n",
              "      background-color: #3B4455;\n",
              "      fill: #D2E3FC;\n",
              "    }\n",
              "\n",
              "    [theme=dark] .colab-df-convert:hover {\n",
              "      background-color: #434B5C;\n",
              "      box-shadow: 0px 1px 3px 1px rgba(0, 0, 0, 0.15);\n",
              "      filter: drop-shadow(0px 1px 2px rgba(0, 0, 0, 0.3));\n",
              "      fill: #FFFFFF;\n",
              "    }\n",
              "  </style>\n",
              "\n",
              "      <script>\n",
              "        const buttonEl =\n",
              "          document.querySelector('#df-c53aace2-9230-45bb-b575-a91c92a8c362 button.colab-df-convert');\n",
              "        buttonEl.style.display =\n",
              "          google.colab.kernel.accessAllowed ? 'block' : 'none';\n",
              "\n",
              "        async function convertToInteractive(key) {\n",
              "          const element = document.querySelector('#df-c53aace2-9230-45bb-b575-a91c92a8c362');\n",
              "          const dataTable =\n",
              "            await google.colab.kernel.invokeFunction('convertToInteractive',\n",
              "                                                     [key], {});\n",
              "          if (!dataTable) return;\n",
              "\n",
              "          const docLinkHtml = 'Like what you see? Visit the ' +\n",
              "            '<a target=\"_blank\" href=https://colab.research.google.com/notebooks/data_table.ipynb>data table notebook</a>'\n",
              "            + ' to learn more about interactive tables.';\n",
              "          element.innerHTML = '';\n",
              "          dataTable['output_type'] = 'display_data';\n",
              "          await google.colab.output.renderOutput(dataTable, element);\n",
              "          const docLink = document.createElement('div');\n",
              "          docLink.innerHTML = docLinkHtml;\n",
              "          element.appendChild(docLink);\n",
              "        }\n",
              "      </script>\n",
              "    </div>\n",
              "  </div>\n",
              "  "
            ]
          },
          "metadata": {},
          "execution_count": 39
        }
      ]
    },
    {
      "cell_type": "markdown",
      "source": [
        "## <font color=orange><b>Explorando a base de dados</b></font>"
      ],
      "metadata": {
        "id": "HNkI6gQvtCKa"
      }
    },
    {
      "cell_type": "code",
      "source": [
        "# Tamanho da base\n",
        "dados.shape"
      ],
      "metadata": {
        "colab": {
          "base_uri": "https://localhost:8080/"
        },
        "id": "Z75aL37bszY8",
        "outputId": "6ff880bc-f920-48c6-ae64-658b3791052d"
      },
      "execution_count": 53,
      "outputs": [
        {
          "output_type": "execute_result",
          "data": {
            "text/plain": [
              "(731, 3)"
            ]
          },
          "metadata": {},
          "execution_count": 53
        }
      ]
    },
    {
      "cell_type": "code",
      "source": [
        "# Colunas\n",
        "list(dados.columns)"
      ],
      "metadata": {
        "colab": {
          "base_uri": "https://localhost:8080/"
        },
        "id": "UJnErclitMZ0",
        "outputId": "d677d68e-5e33-4b88-cf4e-fc719c4766e8"
      },
      "execution_count": 54,
      "outputs": [
        {
          "output_type": "execute_result",
          "data": {
            "text/plain": [
              "['clima', 'temperatura', 'bicicletas_alugadas']"
            ]
          },
          "metadata": {},
          "execution_count": 54
        }
      ]
    },
    {
      "cell_type": "markdown",
      "source": [
        "O objetivo é entender a quantidade de bicicletas alugadas, por tanto essa variável será o nosso ALVO. As variáveis de clima e temperatura são atributos do dia, junto da métrica de quantidade de bicicletas alugadas."
      ],
      "metadata": {
        "id": "R2e0HHWQtZoi"
      }
    },
    {
      "cell_type": "code",
      "source": [
        "# Configuração da imagem\n",
        "mpl.rcParams['figure.figsize'] = (10,6)\n",
        "mpl.rcParams['font.size'] = 12"
      ],
      "metadata": {
        "id": "6GBRM3SVdsHD"
      },
      "execution_count": 55,
      "outputs": []
    },
    {
      "cell_type": "code",
      "source": [
        "# Scatter com Matplotlib\n",
        "sel = dados['clima']==1\n",
        "plt.scatter(dados[sel]['temperatura'], dados[sel]['bicicletas_alugadas'], c='k')\n",
        "\n",
        "sel = dados['clima']==2\n",
        "plt.scatter(dados[sel]['temperatura'], dados[sel]['bicicletas_alugadas'], c='b')\n",
        "\n",
        "sel = dados['clima']==3\n",
        "plt.scatter(dados[sel]['temperatura'], dados[sel]['bicicletas_alugadas'], c='r')\n",
        "\n",
        "plt.xlabel('Temperatura')\n",
        "plt.ylabel('Bicicletas alugadas')\n",
        "plt.show()"
      ],
      "metadata": {
        "colab": {
          "base_uri": "https://localhost:8080/",
          "height": 394
        },
        "id": "DgWBM77dtQep",
        "outputId": "d2f5ffaf-0bb6-4060-d0ff-0e3cb27cdea4"
      },
      "execution_count": 56,
      "outputs": [
        {
          "output_type": "display_data",
          "data": {
            "text/plain": [
              "<Figure size 720x432 with 1 Axes>"
            ],
            "image/png": "[encoded data removed]"
          },
          "metadata": {
            "needs_background": "light"
          }
        }
      ]
    },
    {
      "cell_type": "code",
      "source": [
        "# Scatter com Seaborn\n",
        "sns.scatterplot(data=dados, x='temperatura', y='bicicletas_alugadas', hue='clima')\n",
        "plt.xlabel('Temperatura')\n",
        "plt.ylabel('Bicicletas alugadas')\n",
        "plt.show()"
      ],
      "metadata": {
        "colab": {
          "base_uri": "https://localhost:8080/",
          "height": 394
        },
        "id": "zvZTgozwexE_",
        "outputId": "59cbd4b7-93df-46ef-aac2-d8df4ba9a9ef"
      },
      "execution_count": 57,
      "outputs": [
        {
          "output_type": "display_data",
          "data": {
            "text/plain": [
              "<Figure size 720x432 with 1 Axes>"
            ],
            "image/png": "[encoded data removed]"
          },
          "metadata": {
            "needs_background": "light"
          }
        }
      ]
    },
    {
      "cell_type": "code",
      "source": [
        "# CATEGÓRICA x NUMÉRICA - scatter\n",
        "plt.scatter(dados['clima'], dados['bicicletas_alugadas'])\n",
        "plt.xlabel('Clima')\n",
        "plt.ylabel('Bicicletas alugadas')\n",
        "\n",
        "indice = [1,2,3]\n",
        "plt.xticks(indice, fontsize=14)\n",
        "plt.show()"
      ],
      "metadata": {
        "colab": {
          "base_uri": "https://localhost:8080/",
          "height": 395
        },
        "id": "M2ODt_pguH0d",
        "outputId": "b1a13de2-d877-49ef-ef9b-82282305bf70"
      },
      "execution_count": 58,
      "outputs": [
        {
          "output_type": "display_data",
          "data": {
            "text/plain": [
              "<Figure size 720x432 with 1 Axes>"
            ],
            "image/png": "[encoded data removed]"
          },
          "metadata": {
            "needs_background": "light"
          }
        }
      ]
    },
    {
      "cell_type": "code",
      "source": [
        "# CATEGÓRICA x NUMÉRICA - boxplot\n",
        "plt.boxplot(dados['bicicletas_alugadas'], )\n",
        "# plt.xlabel('Clima')\n",
        "# plt.ylabel('Bicicletas alugadas')\n",
        "\n",
        "# indice = [1,2,3]\n",
        "# plt.xticks(indice, fontsize=14)\n",
        "plt.show()\n",
        "\n",
        "# Como mostrar vários boxplot em uma imagem"
      ],
      "metadata": {
        "colab": {
          "base_uri": "https://localhost:8080/",
          "height": 377
        },
        "id": "yIM35mukx0vQ",
        "outputId": "7235f31c-20b9-4035-91e8-6dbe60d1cdf7"
      },
      "execution_count": 59,
      "outputs": [
        {
          "output_type": "display_data",
          "data": {
            "text/plain": [
              "<Figure size 720x432 with 1 Axes>"
            ],
            "image/png": "[encoded data removed]"
          },
          "metadata": {
            "needs_background": "light"
          }
        }
      ]
    },
    {
      "cell_type": "code",
      "source": [
        "# CATEGÓRICA x NUMÉRICA - boxplot\n",
        "sns.boxplot(data=dados, y='bicicletas_alugadas', x='clima')\n",
        "plt.xlabel('Clima')\n",
        "plt.ylabel('Bicicletas alugadas')\n",
        "\n",
        "plt.xticks(fontsize=14)\n",
        "plt.show()"
      ],
      "metadata": {
        "colab": {
          "base_uri": "https://localhost:8080/",
          "height": 395
        },
        "id": "LTWHjYxsysSD",
        "outputId": "ecb57aa8-34ad-445e-fa12-bf16f2861d02"
      },
      "execution_count": 60,
      "outputs": [
        {
          "output_type": "display_data",
          "data": {
            "text/plain": [
              "<Figure size 720x432 with 1 Axes>"
            ],
            "image/png": "[encoded data removed]"
          },
          "metadata": {
            "needs_background": "light"
          }
        }
      ]
    },
    {
      "cell_type": "markdown",
      "source": [
        "## <font color=orange><b>Normalização</b></font>"
      ],
      "metadata": {
        "id": "TgYWin6ktE46"
      }
    },
    {
      "cell_type": "code",
      "source": [
        "y = dados['bicicletas_alugadas'].values\n",
        "X = dados[['clima', 'temperatura']].values  # -> np.array"
      ],
      "metadata": {
        "id": "BZ-j9Z_StK6Z"
      },
      "execution_count": 61,
      "outputs": []
    },
    {
      "cell_type": "code",
      "source": [
        "# Normalização: Máx - Mín [0 - 1]\n",
        "X_maxs = np.amax(X, axis=0)\n",
        "X_norm = X / X_maxs\n",
        "print(X_norm)"
      ],
      "metadata": {
        "colab": {
          "base_uri": "https://localhost:8080/"
        },
        "id": "Yp0Ud2ucuXTh",
        "outputId": "31c31567-198f-4ae7-eb22-2acc3ed0036f"
      },
      "execution_count": 62,
      "outputs": [
        {
          "output_type": "stream",
          "name": "stdout",
          "text": [
            "[[0.66666667 0.43242565]\n",
            " [0.66666667 0.42066914]\n",
            " [0.33333333 0.22524188]\n",
            " ...\n",
            " [0.66666667 0.28826395]\n",
            " [0.33333333 0.27553942]\n",
            " [0.66666667 0.26577246]]\n"
          ]
        }
      ]
    },
    {
      "cell_type": "code",
      "source": [
        "# Normalização: Máx - Mín [0 - 1]\n",
        "ymax = np.amax(y)\n",
        "y_norm = y / ymax\n"
      ],
      "metadata": {
        "id": "mbT2VnehuwpF"
      },
      "execution_count": 63,
      "outputs": []
    },
    {
      "cell_type": "markdown",
      "source": [
        "# <font color=orange><b>Estrutura das Redes Neurais</b></font>"
      ],
      "metadata": {
        "id": "EPqZe3ltv1IZ"
      }
    },
    {
      "cell_type": "markdown",
      "source": [
        "## **FUNÇÕES DAS REDES**\n",
        "\n",
        "* Cada valor das variáveis explicativas é multiplicado pelo PESO. \n",
        "* Depois são somados os produtos de todas variáveis obtendo um valor da SOMA em cada registro.\n",
        "* Após isso, os valores da SOMA são processados pela FUNÇÃO DE ATIVAÇÃO, obtendo o valor da saída."
      ],
      "metadata": {
        "id": "pD3t4a_M2f0B"
      }
    },
    {
      "cell_type": "markdown",
      "source": [
        "![Sigmoid](https://lh4.googleusercontent.com/efWc9RBhWUYYoYuqXhcQdjseIJ_r1_esW1muTDlcn73SJWjl9IUTX88SzYN3JKVdadXhJaBj6a_NAG-zPPwb_rWrJfdtiDz9AyPqAKkHLjK8mHOVnSwsv6iiYRHftydAF4YgCQvqTgoUg4wGQoqI_kTUOC1WLGd5lOl7VWrcOnyS66IsfKKWT3Ks7A)"
      ],
      "metadata": {
        "id": "YQdJGMFLVzaL"
      }
    },
    {
      "cell_type": "code",
      "source": [
        "def sigmoid(Soma):\n",
        "    return 1 / (1 + np.exp(-Soma))\n",
        "\n",
        "def relu(Soma):\n",
        "    return np.maximum(0, Soma)"
      ],
      "metadata": {
        "id": "HyoM754nu6ff"
      },
      "execution_count": 64,
      "outputs": []
    },
    {
      "cell_type": "markdown",
      "source": [
        "## <font color=orange>ARQUITETURA</font>\n",
        "\n",
        "São contados como camadas a OCULTA e a SAÍDA."
      ],
      "metadata": {
        "id": "02REcwal469g"
      }
    },
    {
      "cell_type": "markdown",
      "source": [
        "![](https://lh3.googleusercontent.com/E5770rjjn5MwDYlF223vH9BFHUabRqgjBVD5_w803-b4AYBFt3otScCwEwXSs3TiZqUOzPnKVelJc80w7XUVlG1gb5itYvkJarJKRohHkFw_MaftLCEXr76Hvu04cXLt0qPcNj-NDNI4oWXS5C26PDayis-xfLwuULdotA9QBMR7NnFWRMcrEGKC6Q)\n",
        "\n",
        "![](https://lh5.googleusercontent.com/5zo-cEpO2Hg04Ee_AqvRavZj1uCm72snjWQOZ0SkTK64v6ytHwHgbtmQ9bMyTRJOQBaXzca-myvyY2IhWBSQTcuoMHWR31ZnfYHAGUO94KBSZmufH8szs8TE0EXatC-i91uX1qoF5c4g56D_UUgyQaQaB6AqelTJERSnUvqdALjiRng6PAPBr6rf9g)"
      ],
      "metadata": {
        "id": "iEvVWXxRWOGe"
      }
    },
    {
      "cell_type": "markdown",
      "source": [
        "**PROPAGAÇÃO**\n",
        "\n",
        "Uma rede neural é um conjunto de funções entre os dados de entradas, um conjuntos de *nodes* e uma saída esperada."
      ],
      "metadata": {
        "id": "XMGkLmj732H8"
      }
    },
    {
      "cell_type": "code",
      "source": [
        "nodes = 50\n",
        "\n",
        "arquitetura = [\n",
        "    # ENTRADA=2 variáveis; SAÍDA: número de nodes, ATIVAÇÃO\n",
        "    {'dim_entrada': 2, 'dim_saida': nodes, 'ativacao': 'relu'},\n",
        "    # ENTRADA=3 nodes; SAÍDA: resposta esperada, ATIVAÇÃO\n",
        "    {'dim_entrada': nodes, 'dim_saida': 1, 'ativacao': 'sigmoide'},\n",
        "]"
      ],
      "metadata": {
        "id": "GDlmqp8x3fwW"
      },
      "execution_count": 65,
      "outputs": []
    },
    {
      "cell_type": "markdown",
      "source": [
        "## <font color=orange>PESOS e VIESES</font>\n",
        "\n",
        "Os pesos serão armazenados em matrizes."
      ],
      "metadata": {
        "id": "4xPLAdAwRWc0"
      }
    },
    {
      "cell_type": "markdown",
      "source": [
        "![](https://lh3.googleusercontent.com/i1t1_Ae_bpjVc4Pnls2tgNE3tuW3IM5H2Up0oEaKWd-nTxSvmCMb1mb-mCIYAGtUFoGrJW_LHuQtqe3E2N-8eZuiCY3wJGbGbi5WCpbxP1UDSkPABxLah6dtt7_Ec6XlIMa0VMdGbhKXJ8lKUaMuXAEDWji5psX5RO4YJIE3U0EMV7cITehhT-JlEw)\n",
        "\n",
        "![](https://lh4.googleusercontent.com/mFX3DR1ARHT8Sq70x7RLCyc-CJfpe7goRzXWyFO58jRHRsXwnikeMDq2Qi-1sqwEruMwtXG0ObO_v79UFPm7uw8mahGZx6vu_byEWKNeK_RswvNXLP4PZjNxmEh6HvS_nDDBeLnrhDjv3fUfGn-xg0E8gyr7ZBKPVNzpu8EXsB6udsskQvmUqQPK_w)"
      ],
      "metadata": {
        "id": "SYFepVXnWXyj"
      }
    },
    {
      "cell_type": "code",
      "source": [
        "def inicia_camadas(arquitetura, seed=99):\n",
        "    # inicia os valores aleatórios\n",
        "    np.random.seed(seed)\n",
        "\n",
        "    # A quantidde de camadas é o comprimento da arquitetura\n",
        "    numero_de_camadas = len(arquitetura)\n",
        "\n",
        "    # inicia armazenamento de parametros\n",
        "    valores_parametros = {}\n",
        "    # itera nas camadas da rede\n",
        "    for indice, camada in enumerate(arquitetura):\n",
        "        indice_camada = indice + 1\n",
        "\n",
        "        # extrai o numero de nodos nas camadas\n",
        "        tamanho_camada_entrada = camada['dim_entrada']\n",
        "        tamanho_camada_saida = camada['dim_saida']\n",
        "\n",
        "        # inicia os valores na matriz de pesos P e o vetor de viés ou bias b\n",
        "        # PESOS\n",
        "        valor_randomico = np.random.randn(tamanho_camada_saida, tamanho_camada_entrada)\n",
        "        valores_parametros['P' + str(indice_camada)] = valor_randomico\n",
        "\n",
        "        # VIESES\n",
        "        valor_randomico = np.random.randn(tamanho_camada_saida,1)\n",
        "        valores_parametros['B' + str(indice_camada)] = valor_randomico\n",
        "\n",
        "    return valores_parametros"
      ],
      "metadata": {
        "id": "RAg6y0xa5qH4"
      },
      "execution_count": 66,
      "outputs": []
    },
    {
      "cell_type": "code",
      "source": [
        "inicia_camadas(arquitetura)"
      ],
      "metadata": {
        "colab": {
          "base_uri": "https://localhost:8080/"
        },
        "id": "IK9FJbtrU0zq",
        "outputId": "e5afa879-218a-44a3-8243-6698d3a16f5f"
      },
      "execution_count": 67,
      "outputs": [
        {
          "output_type": "execute_result",
          "data": {
            "text/plain": [
              "{'P1': array([[-0.14235884,  2.05722174],\n",
              "        [ 0.28326194,  1.32981198],\n",
              "        [-0.15462185, -0.06903086],\n",
              "        [ 0.75518049,  0.82564665],\n",
              "        [-0.11306921, -2.36783759],\n",
              "        [-0.16704943,  0.68539797],\n",
              "        [ 0.02350011,  0.45620128],\n",
              "        [ 0.27049278, -1.43500814],\n",
              "        [ 0.88281715, -0.58008166],\n",
              "        [-0.5015653 ,  0.59095329],\n",
              "        [-0.73161625,  0.26175546],\n",
              "        [-0.85579558, -0.18752591],\n",
              "        [-0.37348629, -0.46197097],\n",
              "        [-0.8164661 , -0.0451233 ],\n",
              "        [ 0.12132778,  0.92595278],\n",
              "        [-0.5738197 ,  0.05270311],\n",
              "        [ 2.20731059,  0.39182187],\n",
              "        [ 0.48271343,  0.43333402],\n",
              "        [-1.70429169, -0.24390807],\n",
              "        [-2.13970379,  0.86132265],\n",
              "        [ 1.7002844 , -0.5287848 ],\n",
              "        [ 1.76347792, -1.12160783],\n",
              "        [-1.19193417,  0.55273192],\n",
              "        [-0.81598095, -0.49664685],\n",
              "        [ 1.08622556, -0.97467528],\n",
              "        [-0.28213582, -0.11721415],\n",
              "        [ 0.37854727,  0.73219465],\n",
              "        [-0.10357103, -1.19870628],\n",
              "        [ 1.01003558,  2.87536033],\n",
              "        [ 0.82031264,  0.56061151],\n",
              "        [-0.3756422 , -0.2521043 ],\n",
              "        [-1.38961345,  0.61733228],\n",
              "        [-0.13578705,  1.28790496],\n",
              "        [-1.0369944 ,  1.36433214],\n",
              "        [-0.30995664, -0.61111712],\n",
              "        [-0.48310578, -0.60898369],\n",
              "        [-2.0883353 ,  0.639322  ],\n",
              "        [ 0.77430395,  1.2785694 ],\n",
              "        [ 0.70527602,  0.65597738],\n",
              "        [-1.67850204,  0.18310987],\n",
              "        [-1.13322409, -0.27908571],\n",
              "        [ 1.3966199 ,  0.03221944],\n",
              "        [-2.61366077, -1.00157763],\n",
              "        [-0.56751101, -0.22565803],\n",
              "        [ 0.93802381,  0.83678413],\n",
              "        [ 0.81214848,  0.23230697],\n",
              "        [-0.29510767, -0.361676  ],\n",
              "        [ 0.43211507,  0.93395855],\n",
              "        [ 1.55263386,  0.09362341],\n",
              "        [ 0.29482583,  1.48543077]]), 'B1': array([[-1.08688515e+00],\n",
              "        [ 8.21162813e-01],\n",
              "        [-7.87949202e-01],\n",
              "        [ 1.59381165e+00],\n",
              "        [ 1.40590436e+00],\n",
              "        [ 1.64475657e+00],\n",
              "        [ 1.54159871e+00],\n",
              "        [ 8.40607638e-01],\n",
              "        [-1.02309440e+00],\n",
              "        [ 4.94772302e-01],\n",
              "        [ 8.95732598e-01],\n",
              "        [ 4.77352014e-01],\n",
              "        [-1.14530523e-01],\n",
              "        [ 1.56897432e-01],\n",
              "        [ 3.87596666e-01],\n",
              "        [-1.02622658e+00],\n",
              "        [ 6.79142901e-01],\n",
              "        [ 5.54910372e-01],\n",
              "        [-1.31716926e-01],\n",
              "        [ 6.67894281e-01],\n",
              "        [ 1.16363973e+00],\n",
              "        [-1.01666722e+00],\n",
              "        [ 1.47066833e+00],\n",
              "        [ 1.01632113e+00],\n",
              "        [ 1.00611039e+00],\n",
              "        [ 9.97332447e-01],\n",
              "        [ 7.14421983e-01],\n",
              "        [ 6.49593493e-04],\n",
              "        [-7.33294923e-01],\n",
              "        [ 5.12437307e-01],\n",
              "        [ 1.32907566e-01],\n",
              "        [-6.93652472e-01],\n",
              "        [ 1.75962899e+00],\n",
              "        [ 8.40528586e-01],\n",
              "        [-3.10890162e-01],\n",
              "        [-1.57442600e+00],\n",
              "        [-8.38072059e-01],\n",
              "        [ 4.88591998e-01],\n",
              "        [-2.57728369e-01],\n",
              "        [-1.31747634e+00],\n",
              "        [ 2.66891203e-01],\n",
              "        [-1.58741869e-01],\n",
              "        [-4.02619607e-01],\n",
              "        [-1.24490875e+00],\n",
              "        [ 3.34665121e-01],\n",
              "        [-1.07254795e+00],\n",
              "        [-2.12651032e-01],\n",
              "        [ 1.16056691e+00],\n",
              "        [ 1.24447987e+00],\n",
              "        [-1.28082147e-01]]), 'P2': array([[-3.07945486,  0.75522325, -0.92893378, -1.39337244,  0.73992621,\n",
              "         -1.84978514,  0.71247105,  0.90508065,  0.50265173,  0.20955906,\n",
              "         -0.11217659, -0.48380828, -1.08197644,  2.36857433, -0.44460942,\n",
              "         -0.92346059, -0.09324987,  0.57758019,  1.02077119, -0.22801955,\n",
              "         -0.19028807, -0.80115937, -0.25609991,  0.86529352, -0.06213452,\n",
              "         -0.36709025,  0.17099595, -0.78168215, -2.1572057 , -0.48658625,\n",
              "         -2.98882641, -0.26444905,  0.41154512,  0.98755606,  0.52988999,\n",
              "          0.03628373, -1.02566714, -1.09881221, -0.21000609, -0.86502845,\n",
              "         -0.96216852,  0.04465285, -0.85171651, -1.81679329, -0.21833847,\n",
              "         -0.94965828,  0.51756429,  1.29398149,  0.76000095,  0.43644696]]), 'B2': array([[1.36563364]])}"
            ]
          },
          "metadata": {},
          "execution_count": 67
        }
      ]
    },
    {
      "cell_type": "markdown",
      "source": [
        "## **PROPAGAÇÃO DA REDE**\n"
      ],
      "metadata": {
        "id": "ZT7iOWTpWnb0"
      }
    },
    {
      "cell_type": "code",
      "source": [
        "# A forma mais eficiente computacionalmente é através do cálculo de matrizes.\n",
        "def propaga_uma_camada(Ativado_anterior, Pesos_atual, b_atual, ativacao='relu'):\n",
        "    # cálculo da entrada para a função de ativação\n",
        "    Saida_atual = np.dot(Pesos_atual, Ativado_anterior) + b_atual\n",
        "    \n",
        "    # selecção da função de ativação\n",
        "    if ativacao is \"relu\":\n",
        "        func_ativacao = relu\n",
        "    elif ativacao is \"sigmoid\":\n",
        "        func_ativacao = sigmoid\n",
        "    else:\n",
        "        raise Exception('Ainda não implementamos essa funcao')\n",
        "        \n",
        "    # retorna a ativação calculada Ativado_atual e a matriz intermediária Saida\n",
        "    return func_ativacao(Saida_atual), Saida_atual"
      ],
      "metadata": {
        "id": "kYqzRGa5Wpn8"
      },
      "execution_count": 90,
      "outputs": []
    },
    {
      "cell_type": "code",
      "source": [
        "def propaga_total(X, valores_parametros, arquitetura):\n",
        "    # memoria temporaria para a retropropagacao\n",
        "    memoria = {}  # para guardar os dados da rede neural\n",
        "\n",
        "    # O vetor X é a ativação para a camada 0\n",
        "    Ativado_atual = X\n",
        "\n",
        "    # iterações para as camadas\n",
        "    for indice, camada in enumerate(arquitetura):\n",
        "        # a numeração das camadas começa de 1\n",
        "        indice_camada = indice + 1\n",
        "        # utiliza a ativação da iteração anterior\n",
        "        Ativado_anterior = Ativado_atual\n",
        "\n",
        "        # extrai a função de ativação para a camada atual\n",
        "        func_ativacao_atual = camada['ativacao']\n",
        "        # extrai os pesos da camada atual\n",
        "        Pesos_atual = valores_parametros['P' + str(indice_camada)]\n",
        "        # extrai os pesos da camada atual\n",
        "        b_atual = valores_parametros['B' + str(indice_camada)]\n",
        "\n",
        "        # cálculo da ativação para a camada atual\n",
        "        Ativado_atual, Saida_atual = propaga_uma_camada(Ativado_anterior, Pesos_atual, b_atual, func_ativacao_atual)\n",
        "\n",
        "        # salva os valores calculados na memória\n",
        "        memoria['A' + str(indice)] = Ativado_anterior\n",
        "        memoria['Z' + str(indice_camada)] = Saida_atual\n",
        "    \n",
        "    # retorna o vetor predito e um dicionário contendo os valores intermediários\n",
        "    return Ativado_atual, memoria"
      ],
      "metadata": {
        "id": "OtV__8WtdGJs"
      },
      "execution_count": 91,
      "outputs": []
    },
    {
      "cell_type": "markdown",
      "source": [
        "# Avaliando o Modelo"
      ],
      "metadata": {
        "id": "YAV07aZz4Etw"
      }
    },
    {
      "cell_type": "code",
      "source": [
        "# Execução da rede\n",
        "valores_parametros = inicia_camadas(arquitetura, seed = 99)\n",
        "y_estimado, memoria = propaga_total(np.transpose(X), valores_parametros, arquitetura)"
      ],
      "metadata": {
        "id": "35jgkDG-xhUG",
        "colab": {
          "base_uri": "https://localhost:8080/",
          "height": 345
        },
        "outputId": "ee9cf42a-535a-4abf-be84-cdebe7611e99"
      },
      "execution_count": 92,
      "outputs": [
        {
          "output_type": "error",
          "ename": "Exception",
          "evalue": "ignored",
          "traceback": [
            "\u001b[0;31m---------------------------------------------------------------------------\u001b[0m",
            "\u001b[0;31mException\u001b[0m                                 Traceback (most recent call last)",
            "\u001b[0;32m<ipython-input-92-403ee22ece4a>\u001b[0m in \u001b[0;36m<module>\u001b[0;34m\u001b[0m\n\u001b[1;32m      1\u001b[0m \u001b[0;31m# Execução da rede\u001b[0m\u001b[0;34m\u001b[0m\u001b[0;34m\u001b[0m\u001b[0;34m\u001b[0m\u001b[0m\n\u001b[1;32m      2\u001b[0m \u001b[0mvalores_parametros\u001b[0m \u001b[0;34m=\u001b[0m \u001b[0minicia_camadas\u001b[0m\u001b[0;34m(\u001b[0m\u001b[0marquitetura\u001b[0m\u001b[0;34m,\u001b[0m \u001b[0mseed\u001b[0m \u001b[0;34m=\u001b[0m \u001b[0;36m99\u001b[0m\u001b[0;34m)\u001b[0m\u001b[0;34m\u001b[0m\u001b[0;34m\u001b[0m\u001b[0m\n\u001b[0;32m----> 3\u001b[0;31m \u001b[0my_estimado\u001b[0m\u001b[0;34m,\u001b[0m \u001b[0mmemoria\u001b[0m \u001b[0;34m=\u001b[0m \u001b[0mpropaga_total\u001b[0m\u001b[0;34m(\u001b[0m\u001b[0mnp\u001b[0m\u001b[0;34m.\u001b[0m\u001b[0mtranspose\u001b[0m\u001b[0;34m(\u001b[0m\u001b[0mX\u001b[0m\u001b[0;34m)\u001b[0m\u001b[0;34m,\u001b[0m \u001b[0mvalores_parametros\u001b[0m\u001b[0;34m,\u001b[0m \u001b[0marquitetura\u001b[0m\u001b[0;34m)\u001b[0m\u001b[0;34m\u001b[0m\u001b[0;34m\u001b[0m\u001b[0m\n\u001b[0m",
            "\u001b[0;32m<ipython-input-91-67f86609ff1a>\u001b[0m in \u001b[0;36mpropaga_total\u001b[0;34m(X, valores_parametros, arquitetura)\u001b[0m\n\u001b[1;32m     21\u001b[0m \u001b[0;34m\u001b[0m\u001b[0m\n\u001b[1;32m     22\u001b[0m         \u001b[0;31m# cálculo da ativação para a camada atual\u001b[0m\u001b[0;34m\u001b[0m\u001b[0;34m\u001b[0m\u001b[0;34m\u001b[0m\u001b[0m\n\u001b[0;32m---> 23\u001b[0;31m         \u001b[0mAtivado_atual\u001b[0m\u001b[0;34m,\u001b[0m \u001b[0mSaida_atual\u001b[0m \u001b[0;34m=\u001b[0m \u001b[0mpropaga_uma_camada\u001b[0m\u001b[0;34m(\u001b[0m\u001b[0mAtivado_anterior\u001b[0m\u001b[0;34m,\u001b[0m \u001b[0mPesos_atual\u001b[0m\u001b[0;34m,\u001b[0m \u001b[0mb_atual\u001b[0m\u001b[0;34m,\u001b[0m \u001b[0mfunc_ativacao_atual\u001b[0m\u001b[0;34m)\u001b[0m\u001b[0;34m\u001b[0m\u001b[0;34m\u001b[0m\u001b[0m\n\u001b[0m\u001b[1;32m     24\u001b[0m \u001b[0;34m\u001b[0m\u001b[0m\n\u001b[1;32m     25\u001b[0m         \u001b[0;31m# salva os valores calculados na memória\u001b[0m\u001b[0;34m\u001b[0m\u001b[0;34m\u001b[0m\u001b[0;34m\u001b[0m\u001b[0m\n",
            "\u001b[0;32m<ipython-input-90-c1e11cacac77>\u001b[0m in \u001b[0;36mpropaga_uma_camada\u001b[0;34m(Ativado_anterior, Pesos_atual, b_atual, ativacao)\u001b[0m\n\u001b[1;32m     10\u001b[0m         \u001b[0mfunc_ativacao\u001b[0m \u001b[0;34m=\u001b[0m \u001b[0msigmoid\u001b[0m\u001b[0;34m\u001b[0m\u001b[0;34m\u001b[0m\u001b[0m\n\u001b[1;32m     11\u001b[0m     \u001b[0;32melse\u001b[0m\u001b[0;34m:\u001b[0m\u001b[0;34m\u001b[0m\u001b[0;34m\u001b[0m\u001b[0m\n\u001b[0;32m---> 12\u001b[0;31m         \u001b[0;32mraise\u001b[0m \u001b[0mException\u001b[0m\u001b[0;34m(\u001b[0m\u001b[0;34m'Ainda não implementamos essa funcao'\u001b[0m\u001b[0;34m)\u001b[0m\u001b[0;34m\u001b[0m\u001b[0;34m\u001b[0m\u001b[0m\n\u001b[0m\u001b[1;32m     13\u001b[0m \u001b[0;34m\u001b[0m\u001b[0m\n\u001b[1;32m     14\u001b[0m     \u001b[0;31m# retorna a ativação calculada Ativado_atual e a matriz intermediária Saida\u001b[0m\u001b[0;34m\u001b[0m\u001b[0;34m\u001b[0m\u001b[0;34m\u001b[0m\u001b[0m\n",
            "\u001b[0;31mException\u001b[0m: Ainda não implementamos essa funcao"
          ]
        }
      ]
    },
    {
      "cell_type": "code",
      "source": [
        "# Comparação da previsão\n",
        "print(f'y real é {y_norm[0]* ymax:.2f}')\n",
        "print(f'y estimado foi de {y_estimado[0,0] * ymax:.2f}')"
      ],
      "metadata": {
        "colab": {
          "base_uri": "https://localhost:8080/"
        },
        "id": "Avf7cws60Y-b",
        "outputId": "29d709f8-6601-44d3-e904-0a667d8af5a6"
      },
      "execution_count": 86,
      "outputs": [
        {
          "output_type": "stream",
          "name": "stdout",
          "text": [
            "y real é 985.00\n",
            "y estimado foi de 5.18\n"
          ]
        }
      ]
    },
    {
      "cell_type": "markdown",
      "source": [
        "## Custo - Entropia binária cruzada\n",
        "\n",
        "Para avaliar o quanto nós erramos, de forma a ter uma medida de avaliação para a correção da rede, iremos adotar uma **função de custo (loss function)**. Aqui usaremos a função de entropia binária cruzada. Ela busca garantir que o nosso valor predito é o mais próximo do valor real de y.\n",
        "\n",
        "> \"A função de custo vai ser usada durante a correção dos pesos, como uma forma de medir se estamos nos aproximando da resposta desejada. Queremos diminuir a diferença entre a resposta conhecida e a estimada.\"\n",
        "\n",
        "$$\\hat{y} = y_{estimado}$$\n",
        "\n",
        "$$F(\\hat{y}, y) = -(y \\log{\\hat{y}}+ (1-y) \\log{(1-\\hat{y})})$$"
      ],
      "metadata": {
        "id": "qSkLfH2P5QDn"
      }
    },
    {
      "cell_type": "markdown",
      "source": [
        "![função de custo entropia binária cruzada](https://lh4.googleusercontent.com/N8kWLU3otpzUjLxIMYlgY0qJUIpzkQfNDvTgAZuA8dQGnMK2x-pO6hxajI4ZnysfPrt4ogNBZLkuHooEuSdLYYKAHulfDwZoo7CaU2hnYFi8tbeBmW2mjtBzZKeEihi8zyFP-AWrx9a-uqXthqEX3SpxG0Y_qPtNGiY9Y4dQwqRvHceZdUqk7cb60g)"
      ],
      "metadata": {
        "id": "-itGhAY_6flH"
      }
    },
    {
      "cell_type": "code",
      "source": [
        "def valor_de_custo(Y_predito, Y):\n",
        "    # numero_de_exemplos\n",
        "    m = Y_predito.shape[1]\n",
        "    \n",
        "    custo = -1 / m * (np.dot(Y, np.log(Y_predito).T) + np.dot(1 - Y, np.log(1 - Y_predito).T))\n",
        "    return np.squeeze(custo)"
      ],
      "metadata": {
        "id": "u6yJjdaV6fyM"
      },
      "execution_count": 72,
      "outputs": []
    },
    {
      "cell_type": "markdown",
      "source": [
        "## Atualização dos pesos"
      ],
      "metadata": {
        "id": "o9T9eWuPQkpe"
      }
    },
    {
      "cell_type": "markdown",
      "source": [
        "Curva Peso - Custo: a busca do peso ideal, o de mínimo custo global.\n",
        "\n",
        "![Curva Peso - Custo: a busca do peso ideal, o de mínimo custo global.](https://lh4.googleusercontent.com/6lGFF5vafaoU51GOEF2EWfLC-NMZmpgOfyrhnUvfGZxotK0ZNdTBaotZ_PgOPqm5_85stJLg5OfdyAVtTaCMUss0P3qpRwVsKmdYje7YgQG6pU-5FGoEzJbLnBMN1prJVD_z7eAodqfRRjOYBWTT-JYJ5CXYfFOiLyTqFHRMvBgfBq2RqSRA8tVe3g)"
      ],
      "metadata": {
        "id": "49z1nZylR6Bg"
      }
    },
    {
      "cell_type": "markdown",
      "source": [
        "> O algoritmo usado para atualizar os pesos da rede recebe o nome de gradiente descendente e é o mais usado em machine learning, embora existam algumas variações dele. A ideia de aplicação do gradiente descendente é a minimização da função de custo. Isso significa encontrar o ponto onde a função de custo possui o menor valor.\n",
        "\n",
        "> Esse valor será mínimo quando o nosso número de bicicletas alugadas estimado for o mais próximo possível do número conhecido de número de bicicletas alugadas. \n",
        "\n",
        "> Através da matemática, sabemos que o ângulo de descida de uma função é a derivada da função com respeito a um determinado valor. No nosso caso queremos derivar a função de custo em relação aos pesos, ou em relação ao valor estimado que é dependente dos pesos. Queremos saber em que direção devemos atualizar os pesos para que o custo diminua.\n",
        "\n",
        "![](https://lh3.googleusercontent.com/2JEQnsGW-ErfvQv79mqQT0z6hEZ09Pj1f-LZ6NVyD_-cqet7nzAIRZ1QrGB87vok7NED3v8VuCkkIS8ZCu6Bw5h_-J4koxT1ymjfhokWxUFJ1psqyDZimKb2TnwkVgRST4Tr2_Twb3__8UdC6CvbPMA)\n",
        "\n",
        "> Devemos ter em mente que conforme andamos pela função o ângulo de descida muda. Por isso, o algoritmo de gradiente descendente é aplicado iterativamente. Andamos um passo na função e atualizamos os pesos. Depois disso, andamos mais um passo e verificamos se progredimos. O quanto andamos em cada passo é a taxa de aprendizagem. O tamanho da taxa de aprendizagem é importante. Se escolhemos uma taxa de aprendizagem muito alta, podemos passar direto do ponto de mínimo, sem nunca chegar neste valor. Embora a sua escolha seja muitas vezes por tentativa e erro, a taxa de aprendizagem pode ser escolhida de forma sistemática. Um valor ótimo pode ser obtido como aquele que fornece a maior diferença entre dois valores de custo consecutivos. Além disso, em alguns casos, a taxa de aprendizagem pode ser atualizada no decorrer da aplicação do algoritmo de gradiente descendente. Diminuímos o valor da taxa de aprendizagem aos poucos conforme nos aproximamos do ponto de mínimo da função de custo."
      ],
      "metadata": {
        "id": "ZDleR9rFSR39"
      }
    },
    {
      "cell_type": "code",
      "source": [
        "def atualiza(valores_parametros, gradientes, arquitetura, taxa_aprendizagem):\n",
        "    for indice_camada, camada in enumerate(arquitetura, 1):\n",
        "        valores_parametros['P'+str(indice_camada)] -= taxa_aprendizagem * gradientes[\n",
        "            'dP'+str(indice_camada)\n",
        "        ]\n",
        "        valores_parametros['b'+str(indice_camada)] -= taxa_aprendizagem * gradientes[\n",
        "            'db'+str(indice_camada)\n",
        "        ]\n",
        "        return valores_parametros"
      ],
      "metadata": {
        "id": "L-WoAVq8Qmfq"
      },
      "execution_count": 73,
      "outputs": []
    },
    {
      "cell_type": "markdown",
      "source": [
        "## Gradientes\n",
        "\n",
        "Na última camada o gradiente é derivada da função de custo pelo número de y estimados.\n",
        "\n",
        "$$Gradiente = \\frac{dCusto}{d \\hat{y}}$$\n",
        "\n",
        "A derivada da função de entropia é:\n",
        "\n",
        "$$ \\frac{dF}{ d \\hat{y} } = -1 \\left ( \\frac{y}{\\hat{y} }-\\frac{ (1-y) }{(1 - \\hat{y} ) } \\right )$$"
      ],
      "metadata": {
        "id": "a16Wi9E1TgNb"
      }
    },
    {
      "cell_type": "code",
      "source": [
        "def retropropagacao_total(Y_predito, Y, memoria, valores_parametros, arquitetura):\n",
        "   \n",
        "    gradientes = {}\n",
        "    \n",
        "    # numero de exemplos\n",
        "    #m = Y.shape[1]\n",
        "    # para garantir que os dois vetores tenham a mesma dimensão\n",
        "    Y = Y.reshape(Y_predito.shape)\n",
        "    \n",
        "    # inicia o algoritmo de gradiente descendente\n",
        "    dAtivado_anterior = - (np.divide(Y, Y_predito) - np.divide(1 - Y, 1 - Y_predito));\n",
        "    \n",
        "    for indice_camada_anterior, camada in reversed(list(enumerate(arquitetura))):\n",
        "        \n",
        "        indice_camada_atual = indice_camada_anterior + 1\n",
        "        # Função de ativação para a camada atual\n",
        "        \n",
        "        funcao_ativao_atual = camada[\"ativacao\"]\n",
        "        \n",
        "        dAtivado_atual = dAtivado_anterior\n",
        "        \n",
        "        Ativado_anterior = memoria[\"A\" + str(indice_camada_anterior)]\n",
        "        Saida_atual = memoria[\"Z\" + str(indice_camada_atual)]\n",
        "        \n",
        "        Pesos_atual = valores_parametros[\"P\" + str(indice_camada_atual)]\n",
        "        b_atual = valores_parametros[\"b\" + str(indice_camada_atual)]\n",
        "        \n",
        "        dAtivado_anterior, dPesos_atual, db_atual = retropropagacao_uma_camada(\n",
        "            dAtivado_atual, Pesos_atual, b_atual, Saida_atual, Ativado_anterior, funcao_ativao_atual)\n",
        "        \n",
        "        gradientes[\"dP\" + str(indice_camada_atual)] = dPesos_atual\n",
        "        gradientes[\"db\" + str(indice_camada_atual)] = db_atual\n",
        "    \n",
        "    return gradientes"
      ],
      "metadata": {
        "id": "7MAGh1RFU8RE"
      },
      "execution_count": 74,
      "outputs": []
    },
    {
      "cell_type": "markdown",
      "source": [
        "> Agora já vimos mais ou menos como que funciona o cálculo do gradiente para a última camada, mas agora precisamos entender melhor como que vai funcionar para as demais camadas e, para isso, podemos olhar novamente para o processo de propagação.\n",
        "\n",
        "Então, podemos lembrar que na aplicação do processo de propagação temos a aplicação de uma soma para o cálculo dos valores dos nodos que vão, se os valores dos nodos após a aplicação de uma função de ativação. Essa função de ativação vai sair dos valores dos nodos para passar para uma próxima camada.\n",
        "\n",
        "Se ela chegar em uma próxima camada oculta, por exemplo, esses valores vão ser o x, a entrada dessa camada oculta, e eles vão entrar em uma outra função de soma de forma que posteriormente eles vão entrar ainda depois de uma outra função de ativação. Isso daí pode ser até uma função de ativação n, um “an” aqui, porque eu posso ter n camadas de ativação.\n",
        "\n",
        "O que eu quero que você entenda é que o processo de propagação pode ser visto através de uma aplicação de uma série de funções, a composição de funções.\n",
        "\n",
        "Se voltarmos agora para o processo de retropropagação, podemos pensar que a derivada dessas funções, o ângulo de descida, o gradiente que vamos calcular para cada uma das camadas ocultas, ele vai ser obtido através da aplicação da derivação de uma função composta.\n",
        "\n",
        "A derivação de uma função composta é feita através da aplicação da regra da cadeia e através da aplicação da regra da cadeia conseguimos montar padrões e obter essas equações que nós vamos utilizar para o cálculo do gradiente.\n",
        "\n",
        "Sempre tenha em mente que estamos calculando o gradiente, a derivada, a direção de descida, o ângulo de descida, da nossa montanha de função de custo. Para isso, nosso dP, a derivada, o gradiente dos pesos, vai ser obtido através dessa equação aqui.\n",
        "\n",
        "O que que é cada termo aqui? O m é o nosso número de nodos em uma determinada camada. O Z seria o valor de soma, da aplicação de soma, e aqui seria o gradiente do dZ. E o A é o resultado da aplicação da função de ativação. O T aqui está indicando a transposta, porque vai ser uma matriz, e o l é um índice que indica se eu estou pegando o dZ da camada atual que eu estou considerando ou de uma camada anterior que está funcionando como a entrada para essa camada que eu estou levando em consideração.\n",
        "\n",
        "Para economizar espaço eu vou implementar já a derivada, a nossa relu_retro e a sigmoid_retro não vai me retornar o g' ele vai me retornar dA multiplicado pelo g' direto, que vai ser o dZ.\n",
        "\n",
        "![Retropropagação](https://lh4.googleusercontent.com/9ESQciGJRjYqLpvXyHZ5DmltCSQeVX8_lR7XA721LmjmaJxsGZhS6Swu1nD5p60ntB9enjmLTuFqFcogFaqWB0Gcrh082Yig-4VODpWD0ZYD1LI86UfmOgQqZ4bbrBsbhh756_lmb3cvaodbi33qbrYh-Tzc-H6M9rMStya8v_wKaoQ9IRTA3O5BZw)"
      ],
      "metadata": {
        "id": "7OTmBNCBU36s"
      }
    },
    {
      "cell_type": "code",
      "source": [
        "def sigmoid_retro(dAtivado, Saida):\n",
        "    sig = sigmoid(Saida)\n",
        "    return dAtivado * sig * (1 - sig)\n",
        "\n",
        "def relu_retro(dAtivado, Saida):\n",
        "    dSaida = np.array(dAtivado, copy = True)\n",
        "    dSaida[Saida <= 0] = 0;\n",
        "    return dSaida;"
      ],
      "metadata": {
        "id": "TgenN_2hU0Y2"
      },
      "execution_count": 75,
      "outputs": []
    },
    {
      "cell_type": "code",
      "source": [
        "def retropropagacao_uma_camada(dAtivado_atual, Pesos_atual, b_atual, Saida_atual, Ativado_anterior, ativacao=\"relu\"):\n",
        "    # número de exemplos\n",
        "    m = Ativado_anterior.shape[1]\n",
        "    \n",
        "    # seleção função de ativação\n",
        "    if ativacao is \"relu\":\n",
        "        func_ativacao_retro = relu_retro\n",
        "    elif ativacao is \"sigmoid\":\n",
        "        func_ativacao_retro = sigmoid_retro\n",
        "    else:\n",
        "        raise Exception('Ainda não implementamos essa funcao')\n",
        "    \n",
        "    # derivada da função de ativação\n",
        "    dSaida_atual = func_ativacao_retro(dAtivado_atual, Saida_atual)\n",
        "    \n",
        "    # derivada da matriz de Pesos\n",
        "    dPesos_atual = np.dot(dSaida_atual, Ativado_anterior.T) / m\n",
        "    # derivada do vetor b\n",
        "    db_atual = np.sum(dSaida_atual, axis=1, keepdims=True) / m\n",
        "    # derivada da matriz A_anterior\n",
        "    dAtivado_anterior = np.dot(Pesos_atual.T, dSaida_atual)\n",
        "\n",
        "    return dAtivado_anterior, dPesos_atual, db_atual"
      ],
      "metadata": {
        "id": "UIFRw_bOU08S"
      },
      "execution_count": 76,
      "outputs": []
    },
    {
      "cell_type": "markdown",
      "source": [
        "É comum haver confusão entre o algoritmo do gradiente descendente e o de retropropagação. O gradiente descendente é utilizado para a atualização dos pesos, e a retropropagação é utilizada para obter o gradiente que é utilizado dentro do algoritmo de gradiente descendente.\n",
        "\n",
        "Um tensor é uma generalização de vetores e matrizes para dimensões maiores do que 1D ou 2D"
      ],
      "metadata": {
        "id": "CIA-Suy1VrLc"
      }
    },
    {
      "cell_type": "markdown",
      "source": [
        "# Modelo de Treino\n",
        "\n",
        "Cada atualização dos pesos, retropropagação é chamada de **época**.\n",
        "\n",
        "Taxa de aprendizagem é o quanto que será atualizado os pesos."
      ],
      "metadata": {
        "id": "CRqdtmKsWc83"
      }
    },
    {
      "cell_type": "code",
      "source": [
        "def treino(X, Y, X_teste,Y_teste, arquitetura, epocas, taxa_aprendizagem):\n",
        "    # Inicia os parâmetros (pesos) da rede neural\n",
        "    seed=2\n",
        "    valores_parametros = inicia_camadas(arquitetura, seed)\n",
        "\n",
        "    historia_custo = []\n",
        "    historia_custo_teste = []\n",
        "\n",
        "    for i in range(epocas):\n",
        "        # Obtém-se um Y, mas ainda não muito bom\n",
        "        Y_predito, memoria = propaga_total(X, valores_parametros, arquitetura)\n",
        "\n",
        "        Y_predito_teste, memoria_teste = propaga_total(X_teste, valores_parametros, arquitetura)\n",
        "\n",
        "        # Quanto foi o erro?\n",
        "        # calcula as métricas e salva nas listas de história\n",
        "        custo = valor_de_custo(Y_predito, Y)\n",
        "        custo_teste = valor_de_custo(Y_predito_teste, Y)\n",
        "        historia_custo.append(custo)\n",
        "        historia_custo_teste.append(custo_teste)\n",
        "\n",
        "        # Correção dos valores de pesos\n",
        "        gradientes = retropropagacao_total(Y_predito, Y, memoria, valores_parametros, arquitetura)\n",
        "        # atualição dos pesos\n",
        "        valores_parametros = atualiza(valores_parametros, gradientes, arquitetura, taxa_aprendizagem)\n",
        "\n",
        "        if(i % 50 == 0):\n",
        "            print(\"Iteração: {:05} - custo: {:.5f} \".format(i, custo))\n",
        "\n",
        "    return valores_parametros, historia_custo, historia_custo_teste"
      ],
      "metadata": {
        "id": "wVXBYIPSWgN9"
      },
      "execution_count": 80,
      "outputs": []
    },
    {
      "cell_type": "markdown",
      "source": [
        "# Implementação"
      ],
      "metadata": {
        "id": "WuXVXZm_ZheL"
      }
    },
    {
      "cell_type": "markdown",
      "source": [
        "## Treino"
      ],
      "metadata": {
        "id": "amJqIRpwZjK8"
      }
    },
    {
      "cell_type": "code",
      "source": [
        "from sklearn.model_selection import train_test_split"
      ],
      "metadata": {
        "id": "2sodEqumZkiq"
      },
      "execution_count": 78,
      "outputs": []
    },
    {
      "cell_type": "code",
      "source": [
        "X_treino, X_teste, y_treino, y_teste = train_test_split( X, y, test_size=0.43, random_state=42)\n",
        "\n",
        "# Treinamento\n",
        "# treino(X, Y, X_teste, Y_teste, arquitetura, epocas, taxa_aprendizagem)\n",
        "# -> valores_parametros, historia_custo, historia_custo_teste\n",
        "valores_parametros, historia_custo, historia_custo_teste = treino(\n",
        "    np.transpose(X_treino), np.transpose(y_treino.reshape((y_treino.shape[0], 1))), \n",
        "    np.transpose(X_teste), \n",
        "    np.transpose(y_teste.reshape((y_teste.shape[0], 1))), \n",
        "    arquitetura, 20000, 0.01)"
      ],
      "metadata": {
        "colab": {
          "base_uri": "https://localhost:8080/",
          "height": 484
        },
        "id": "ECQ5JaeJZroH",
        "outputId": "34d39b38-e2cf-4baf-e398-660bb906a062"
      },
      "execution_count": 82,
      "outputs": [
        {
          "output_type": "error",
          "ename": "ValueError",
          "evalue": "ignored",
          "traceback": [
            "\u001b[0;31m---------------------------------------------------------------------------\u001b[0m",
            "\u001b[0;31mValueError\u001b[0m                                Traceback (most recent call last)",
            "\u001b[0;32m<ipython-input-82-310d2d5451f2>\u001b[0m in \u001b[0;36m<module>\u001b[0;34m\u001b[0m\n\u001b[1;32m      8\u001b[0m     \u001b[0mnp\u001b[0m\u001b[0;34m.\u001b[0m\u001b[0mtranspose\u001b[0m\u001b[0;34m(\u001b[0m\u001b[0mX_teste\u001b[0m\u001b[0;34m)\u001b[0m\u001b[0;34m,\u001b[0m\u001b[0;34m\u001b[0m\u001b[0;34m\u001b[0m\u001b[0m\n\u001b[1;32m      9\u001b[0m     \u001b[0mnp\u001b[0m\u001b[0;34m.\u001b[0m\u001b[0mtranspose\u001b[0m\u001b[0;34m(\u001b[0m\u001b[0my_teste\u001b[0m\u001b[0;34m.\u001b[0m\u001b[0mreshape\u001b[0m\u001b[0;34m(\u001b[0m\u001b[0;34m(\u001b[0m\u001b[0my_teste\u001b[0m\u001b[0;34m.\u001b[0m\u001b[0mshape\u001b[0m\u001b[0;34m[\u001b[0m\u001b[0;36m0\u001b[0m\u001b[0;34m]\u001b[0m\u001b[0;34m,\u001b[0m \u001b[0;36m1\u001b[0m\u001b[0;34m)\u001b[0m\u001b[0;34m)\u001b[0m\u001b[0;34m)\u001b[0m\u001b[0;34m,\u001b[0m\u001b[0;34m\u001b[0m\u001b[0;34m\u001b[0m\u001b[0m\n\u001b[0;32m---> 10\u001b[0;31m     arquitetura, 20000, 0.01)\n\u001b[0m",
            "\u001b[0;32m<ipython-input-80-937d29acc320>\u001b[0m in \u001b[0;36mtreino\u001b[0;34m(X, Y, X_teste, Y_teste, arquitetura, epocas, taxa_aprendizagem)\u001b[0m\n\u001b[1;32m     16\u001b[0m         \u001b[0;31m# calcula as métricas e salva nas listas de história\u001b[0m\u001b[0;34m\u001b[0m\u001b[0;34m\u001b[0m\u001b[0;34m\u001b[0m\u001b[0m\n\u001b[1;32m     17\u001b[0m         \u001b[0mcusto\u001b[0m \u001b[0;34m=\u001b[0m \u001b[0mvalor_de_custo\u001b[0m\u001b[0;34m(\u001b[0m\u001b[0mY_predito\u001b[0m\u001b[0;34m,\u001b[0m \u001b[0mY\u001b[0m\u001b[0;34m)\u001b[0m\u001b[0;34m\u001b[0m\u001b[0;34m\u001b[0m\u001b[0m\n\u001b[0;32m---> 18\u001b[0;31m         \u001b[0mcusto_teste\u001b[0m \u001b[0;34m=\u001b[0m \u001b[0mvalor_de_custo\u001b[0m\u001b[0;34m(\u001b[0m\u001b[0mY_predito_teste\u001b[0m\u001b[0;34m,\u001b[0m \u001b[0mY\u001b[0m\u001b[0;34m)\u001b[0m\u001b[0;34m\u001b[0m\u001b[0;34m\u001b[0m\u001b[0m\n\u001b[0m\u001b[1;32m     19\u001b[0m         \u001b[0mhistoria_custo\u001b[0m\u001b[0;34m.\u001b[0m\u001b[0mappend\u001b[0m\u001b[0;34m(\u001b[0m\u001b[0mcusto\u001b[0m\u001b[0;34m)\u001b[0m\u001b[0;34m\u001b[0m\u001b[0;34m\u001b[0m\u001b[0m\n\u001b[1;32m     20\u001b[0m         \u001b[0mhistoria_custo_teste\u001b[0m\u001b[0;34m.\u001b[0m\u001b[0mappend\u001b[0m\u001b[0;34m(\u001b[0m\u001b[0mcusto_teste\u001b[0m\u001b[0;34m)\u001b[0m\u001b[0;34m\u001b[0m\u001b[0;34m\u001b[0m\u001b[0m\n",
            "\u001b[0;32m<ipython-input-72-f6870b985917>\u001b[0m in \u001b[0;36mvalor_de_custo\u001b[0;34m(Y_predito, Y)\u001b[0m\n\u001b[1;32m      3\u001b[0m     \u001b[0mm\u001b[0m \u001b[0;34m=\u001b[0m \u001b[0mY_predito\u001b[0m\u001b[0;34m.\u001b[0m\u001b[0mshape\u001b[0m\u001b[0;34m[\u001b[0m\u001b[0;36m1\u001b[0m\u001b[0;34m]\u001b[0m\u001b[0;34m\u001b[0m\u001b[0;34m\u001b[0m\u001b[0m\n\u001b[1;32m      4\u001b[0m \u001b[0;34m\u001b[0m\u001b[0m\n\u001b[0;32m----> 5\u001b[0;31m     \u001b[0mcusto\u001b[0m \u001b[0;34m=\u001b[0m \u001b[0;34m-\u001b[0m\u001b[0;36m1\u001b[0m \u001b[0;34m/\u001b[0m \u001b[0mm\u001b[0m \u001b[0;34m*\u001b[0m \u001b[0;34m(\u001b[0m\u001b[0mnp\u001b[0m\u001b[0;34m.\u001b[0m\u001b[0mdot\u001b[0m\u001b[0;34m(\u001b[0m\u001b[0mY\u001b[0m\u001b[0;34m,\u001b[0m \u001b[0mnp\u001b[0m\u001b[0;34m.\u001b[0m\u001b[0mlog\u001b[0m\u001b[0;34m(\u001b[0m\u001b[0mY_predito\u001b[0m\u001b[0;34m)\u001b[0m\u001b[0;34m.\u001b[0m\u001b[0mT\u001b[0m\u001b[0;34m)\u001b[0m \u001b[0;34m+\u001b[0m \u001b[0mnp\u001b[0m\u001b[0;34m.\u001b[0m\u001b[0mdot\u001b[0m\u001b[0;34m(\u001b[0m\u001b[0;36m1\u001b[0m \u001b[0;34m-\u001b[0m \u001b[0mY\u001b[0m\u001b[0;34m,\u001b[0m \u001b[0mnp\u001b[0m\u001b[0;34m.\u001b[0m\u001b[0mlog\u001b[0m\u001b[0;34m(\u001b[0m\u001b[0;36m1\u001b[0m \u001b[0;34m-\u001b[0m \u001b[0mY_predito\u001b[0m\u001b[0;34m)\u001b[0m\u001b[0;34m.\u001b[0m\u001b[0mT\u001b[0m\u001b[0;34m)\u001b[0m\u001b[0;34m)\u001b[0m\u001b[0;34m\u001b[0m\u001b[0;34m\u001b[0m\u001b[0m\n\u001b[0m\u001b[1;32m      6\u001b[0m     \u001b[0;32mreturn\u001b[0m \u001b[0mnp\u001b[0m\u001b[0;34m.\u001b[0m\u001b[0msqueeze\u001b[0m\u001b[0;34m(\u001b[0m\u001b[0mcusto\u001b[0m\u001b[0;34m)\u001b[0m\u001b[0;34m\u001b[0m\u001b[0;34m\u001b[0m\u001b[0m\n",
            "\u001b[0;32m<__array_function__ internals>\u001b[0m in \u001b[0;36mdot\u001b[0;34m(*args, **kwargs)\u001b[0m\n",
            "\u001b[0;31mValueError\u001b[0m: shapes (1,416) and (315,1) not aligned: 416 (dim 1) != 315 (dim 0)"
          ]
        }
      ]
    },
    {
      "cell_type": "code",
      "source": [
        "# Visualização do desempenho\n",
        "plt.plot(historia_custo)\n",
        "plt.plot(historia_custo_teste, 'r')\n",
        "plt.legend(['Treinamento','Teste'])\n",
        "plt.ylabel('Custo')\n",
        "plt.xlabel('Épocas')\n",
        "plt.show()"
      ],
      "metadata": {
        "id": "PkebxkCFasBF"
      },
      "execution_count": null,
      "outputs": []
    },
    {
      "cell_type": "markdown",
      "metadata": {
        "id": "iMMx-njCy5Vy"
      },
      "source": [
        "## Previsões"
      ]
    },
    {
      "cell_type": "code",
      "execution_count": null,
      "metadata": {
        "id": "zeQ1DDEAy5Vy"
      },
      "outputs": [],
      "source": [
        "# Previsão\n",
        "Y_pred, _ = propaga_total(np.transpose(X_teste), valores_parametros, arquitetura)"
      ]
    },
    {
      "cell_type": "code",
      "execution_count": null,
      "metadata": {
        "id": "WnBGAi22y5Vy"
      },
      "outputs": [],
      "source": [
        "plt.plot(np.transpose(X_teste)[1],ymax*y_teste,'.')\n",
        "plt.plot(np.transpose(X_teste)[1],ymax*Y_pred.reshape([-1,1]),'.r')\n",
        "plt.legend(['Reais','Preditos'])\n",
        "plt.ylabel('bicicletas_alugadas')\n",
        "plt.xlabel('temperatura')\n",
        "plt.show()"
      ]
    },
    {
      "cell_type": "code",
      "execution_count": null,
      "metadata": {
        "id": "bIMv-9Jzy5Vz"
      },
      "outputs": [],
      "source": [
        "plt.plot(3*np.transpose(X_teste)[0],ymax*y_teste,'.')\n",
        "plt.plot(3*np.transpose(X_teste)[0],ymax*Y_pred.reshape([-1,1]),'.r')\n",
        "plt.legend(['Reais','Preditos'])\n",
        "plt.ylabel('bicicletas_alugadas')\n",
        "plt.xlabel('clima')\n",
        "plt.rcParams.update({'font.size': 22})\n",
        "indice=[1,2,3]\n",
        "plt.xticks(indice, fontsize=14)\n",
        "plt.show()"
      ]
    }
  ]
}