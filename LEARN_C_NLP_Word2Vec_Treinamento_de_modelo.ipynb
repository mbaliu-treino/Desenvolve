{
  "nbformat": 4,
  "nbformat_minor": 0,
  "metadata": {
    "colab": {
      "provenance": [],
      "toc_visible": true,
      "include_colab_link": true
    },
    "kernelspec": {
      "name": "python3",
      "display_name": "Python 3"
    },
    "language_info": {
      "name": "python"
    }
  },
  "cells": [
    {
      "cell_type": "markdown",
      "metadata": {
        "id": "view-in-github",
        "colab_type": "text"
      },
      "source": [
        "<a href=\"https://colab.research.google.com/github/mbaliu-treino/Desenvolve/blob/main/LEARN_C_NLP_Word2Vec_Treinamento_de_modelo.ipynb\" target=\"_parent\"><img src=\"https://colab.research.google.com/assets/colab-badge.svg\" alt=\"Open In Colab\"/></a>"
      ]
    },
    {
      "cell_type": "markdown",
      "source": [
        "# <font color=orange><b>Word2Vec: treinamento de Word Embedding</b></font>\n",
        "\n",
        "<font color=gray size=2><a href=\"https://colab.research.google.com/drive/1X6z7zpGcas2mGn-JSFbV7nN5nBeeMW_q\">Arquivo Colab</a></font>\n",
        "\n",
        "<ul><font size=2 color=gray><b>FICHA TÉCNICA</b>\n",
        "<li><a href=\"https://cursos.alura.com.br/course/word2vec-treinamento-word-embedding\"><font size=2 color=gray>Word2Vec: treinamento de Word Embedding</a>\n",
        "<li>Carga Horária: 10 h\n",
        "<li>Instrutora: Thiago G Santos\n",
        "<li>Data de Início: 09-2022\n",
        "</ul>\n",
        "\n",
        "<hr color=gray><br>\n",
        "\n",
        "* [Efficient Estimation of Word Representations in Vector Space](https://arxiv.org/pdf/1301.3781.pdf)\n",
        "\n",
        "\n",
        "<h3><b>Conteúdo / Aprendizagem:</b></h3>\n",
        "\n",
        "- "
      ],
      "metadata": {
        "id": "JSeHxPLGhvUz"
      }
    },
    {
      "cell_type": "markdown",
      "source": [
        "# <font color=orange>RESUMO</font>\n",
        "\n",
        "<a href=https://docs.google.com/spreadsheets/d/1tTygYlq9r7nkUsw9a25N5_z57-de_59tSBCIVPw6KUw><font size=2 color=gray>ROTEIROS Data Science</font></a>\n",
        "\n",
        "* <font color=orange><b>"
      ],
      "metadata": {
        "id": "XLGw5JrFFY8e"
      }
    },
    {
      "cell_type": "markdown",
      "source": [
        "# <font color=orange>CURSO</font>\n",
        "\n",
        "**Projeto**: Neste curso, vamos criar nossa própria representação Word2Vec, para criar um classificador de artigos de jornais, usando apenas os títulos de cada reportagem. Treinado o modelo Word2Vec e o classificador, ambos modelos serão disponibilizados em uma aplicação Web para simular um modelos de machine learning em produção.\n",
        "\n",
        "* [Paper de Tomas Mikolov](https://arxiv.org/pdf/1301.3781.pdf)\n",
        "* [Embedding Project do TensorFloe](https://projector.tensorflow.org/)"
      ],
      "metadata": {
        "id": "AGVggbpvRpHf"
      }
    },
    {
      "cell_type": "markdown",
      "source": [
        "<a href=\"https://github.com/alura-cursos/word2vec_treinamento/tree/aula06\"><font size=2; color=gray>Material de referencial do curso</a></font>"
      ],
      "metadata": {
        "id": "bzJUWzHnlbP_"
      }
    },
    {
      "cell_type": "markdown",
      "source": [
        "## <font color=orange>Carga de Dados</font>\n",
        "\n",
        "A base de dados será a base de conhecimento para o modelo, fornecendo um conhecimento previamente já consolidado que servirá para o treinamento. No NLP, essa base de dados é conhecimento como *corpus textual*.\n",
        "\n"
      ],
      "metadata": {
        "id": "b5ftlE3vG5QY"
      }
    },
    {
      "cell_type": "code",
      "source": [
        "# Para o output do Colab quebrar as linhas longas\n",
        "from IPython.display import HTML, display\n",
        "\n",
        "def set_css():\n",
        "  display(HTML('''\n",
        "  <style>\n",
        "    pre {\n",
        "        white-space: pre-wrap;\n",
        "    }\n",
        "  </style>\n",
        "  '''))\n",
        "\n",
        "get_ipython().events.register('pre_run_cell', set_css)"
      ],
      "metadata": {
        "id": "g4WhDSW1gNEv"
      },
      "execution_count": null,
      "outputs": []
    },
    {
      "cell_type": "code",
      "source": [
        "import pandas as pd"
      ],
      "metadata": {
        "colab": {
          "base_uri": "https://localhost:8080/",
          "height": 17
        },
        "id": "rGzhwuEf94jZ",
        "outputId": "13be76bf-45f9-4333-8662-3ec46576effd"
      },
      "execution_count": null,
      "outputs": [
        {
          "output_type": "display_data",
          "data": {
            "text/plain": [
              "<IPython.core.display.HTML object>"
            ],
            "text/html": [
              "\n",
              "  <style>\n",
              "    pre {\n",
              "        white-space: pre-wrap;\n",
              "    }\n",
              "  </style>\n",
              "  "
            ]
          },
          "metadata": {}
        }
      ]
    },
    {
      "cell_type": "code",
      "source": [
        "uri_treino = 'https://caelum-online-public.s3.amazonaws.com/1638-word-embedding/treino.csv'\n",
        "uri_teste = 'https://caelum-online-public.s3.amazonaws.com/1638-word-embedding/teste.csv'"
      ],
      "metadata": {
        "colab": {
          "base_uri": "https://localhost:8080/",
          "height": 17
        },
        "id": "X-m6kvLNT7RK",
        "outputId": "75f6d4df-aa4d-4e3c-de65-decc10c9980e"
      },
      "execution_count": null,
      "outputs": [
        {
          "output_type": "display_data",
          "data": {
            "text/plain": [
              "<IPython.core.display.HTML object>"
            ],
            "text/html": [
              "\n",
              "  <style>\n",
              "    pre {\n",
              "        white-space: pre-wrap;\n",
              "    }\n",
              "  </style>\n",
              "  "
            ]
          },
          "metadata": {}
        }
      ]
    },
    {
      "cell_type": "code",
      "source": [
        "dados_treino = pd.read_csv(uri_treino)\n",
        "dados_teste = pd.read_csv(uri_teste)"
      ],
      "metadata": {
        "colab": {
          "base_uri": "https://localhost:8080/",
          "height": 17
        },
        "id": "uMoCIuXkU0g5",
        "outputId": "5149b46d-53ce-4c30-cb93-f2bbb29aeef3"
      },
      "execution_count": null,
      "outputs": [
        {
          "output_type": "display_data",
          "data": {
            "text/plain": [
              "<IPython.core.display.HTML object>"
            ],
            "text/html": [
              "\n",
              "  <style>\n",
              "    pre {\n",
              "        white-space: pre-wrap;\n",
              "    }\n",
              "  </style>\n",
              "  "
            ]
          },
          "metadata": {}
        }
      ]
    },
    {
      "cell_type": "code",
      "source": [
        "dados_treino.sample(5)"
      ],
      "metadata": {
        "colab": {
          "base_uri": "https://localhost:8080/",
          "height": 424
        },
        "id": "gsHBkF0hVEKN",
        "outputId": "35aa18d4-24d2-4ed7-ec2e-980dc7fc0c70"
      },
      "execution_count": null,
      "outputs": [
        {
          "output_type": "display_data",
          "data": {
            "text/plain": [
              "<IPython.core.display.HTML object>"
            ],
            "text/html": [
              "\n",
              "  <style>\n",
              "    pre {\n",
              "        white-space: pre-wrap;\n",
              "    }\n",
              "  </style>\n",
              "  "
            ]
          },
          "metadata": {}
        },
        {
          "output_type": "execute_result",
          "data": {
            "text/plain": [
              "                                                   title  \\\n",
              "16575  Ruy Castro apresenta programa de rádio com rar...   \n",
              "34990  Observado pelo presidente, Ganso se destaca em...   \n",
              "42051  Criminosos explodem caixa eletrônico em posto ...   \n",
              "15064  China inicia processo na OMC contra Estados Un...   \n",
              "89634  Cleiton Xavier e Egídio fazem tratamento em di...   \n",
              "\n",
              "                                                    text        date  \\\n",
              "16575  A partir deste domingo (2), o escritor e colun...  2017-01-07   \n",
              "34990  Criticado pela falta de apresentações convince...  2015-03-04   \n",
              "42051  Um grupo de criminosos explodiu na madrugada d...  2015-04-02   \n",
              "15064  Um dia após expirar o prazo para que os demais...  2016-12-12   \n",
              "89634  Os jogadores do Palmeiras ganharam folga nesta...  2015-02-11   \n",
              "\n",
              "        category subcategory  \\\n",
              "16575  ilustrada         NaN   \n",
              "34990    esporte         NaN   \n",
              "42051  cotidiano         NaN   \n",
              "15064    mercado         NaN   \n",
              "89634    esporte         NaN   \n",
              "\n",
              "                                                    link  \n",
              "16575  http://www1.folha.uol.com.br/ilustrada/2017/07...  \n",
              "34990  http://www1.folha.uol.com.br/esporte/2015/04/1...  \n",
              "42051  http://www1.folha.uol.com.br/cotidiano/2015/02...  \n",
              "15064  http://www1.folha.uol.com.br/mercado/2016/12/1...  \n",
              "89634  http://www1.folha.uol.com.br/esporte/2015/11/1...  "
            ],
            "text/html": [
              "\n",
              "  <div id=\"df-ec3d3b12-792f-4815-90b1-d0d8aefbc455\">\n",
              "    <div class=\"colab-df-container\">\n",
              "      <div>\n",
              "<style scoped>\n",
              "    .dataframe tbody tr th:only-of-type {\n",
              "        vertical-align: middle;\n",
              "    }\n",
              "\n",
              "    .dataframe tbody tr th {\n",
              "        vertical-align: top;\n",
              "    }\n",
              "\n",
              "    .dataframe thead th {\n",
              "        text-align: right;\n",
              "    }\n",
              "</style>\n",
              "<table border=\"1\" class=\"dataframe\">\n",
              "  <thead>\n",
              "    <tr style=\"text-align: right;\">\n",
              "      <th></th>\n",
              "      <th>title</th>\n",
              "      <th>text</th>\n",
              "      <th>date</th>\n",
              "      <th>category</th>\n",
              "      <th>subcategory</th>\n",
              "      <th>link</th>\n",
              "    </tr>\n",
              "  </thead>\n",
              "  <tbody>\n",
              "    <tr>\n",
              "      <th>16575</th>\n",
              "      <td>Ruy Castro apresenta programa de rádio com rar...</td>\n",
              "      <td>A partir deste domingo (2), o escritor e colun...</td>\n",
              "      <td>2017-01-07</td>\n",
              "      <td>ilustrada</td>\n",
              "      <td>NaN</td>\n",
              "      <td>http://www1.folha.uol.com.br/ilustrada/2017/07...</td>\n",
              "    </tr>\n",
              "    <tr>\n",
              "      <th>34990</th>\n",
              "      <td>Observado pelo presidente, Ganso se destaca em...</td>\n",
              "      <td>Criticado pela falta de apresentações convince...</td>\n",
              "      <td>2015-03-04</td>\n",
              "      <td>esporte</td>\n",
              "      <td>NaN</td>\n",
              "      <td>http://www1.folha.uol.com.br/esporte/2015/04/1...</td>\n",
              "    </tr>\n",
              "    <tr>\n",
              "      <th>42051</th>\n",
              "      <td>Criminosos explodem caixa eletrônico em posto ...</td>\n",
              "      <td>Um grupo de criminosos explodiu na madrugada d...</td>\n",
              "      <td>2015-04-02</td>\n",
              "      <td>cotidiano</td>\n",
              "      <td>NaN</td>\n",
              "      <td>http://www1.folha.uol.com.br/cotidiano/2015/02...</td>\n",
              "    </tr>\n",
              "    <tr>\n",
              "      <th>15064</th>\n",
              "      <td>China inicia processo na OMC contra Estados Un...</td>\n",
              "      <td>Um dia após expirar o prazo para que os demais...</td>\n",
              "      <td>2016-12-12</td>\n",
              "      <td>mercado</td>\n",
              "      <td>NaN</td>\n",
              "      <td>http://www1.folha.uol.com.br/mercado/2016/12/1...</td>\n",
              "    </tr>\n",
              "    <tr>\n",
              "      <th>89634</th>\n",
              "      <td>Cleiton Xavier e Egídio fazem tratamento em di...</td>\n",
              "      <td>Os jogadores do Palmeiras ganharam folga nesta...</td>\n",
              "      <td>2015-02-11</td>\n",
              "      <td>esporte</td>\n",
              "      <td>NaN</td>\n",
              "      <td>http://www1.folha.uol.com.br/esporte/2015/11/1...</td>\n",
              "    </tr>\n",
              "  </tbody>\n",
              "</table>\n",
              "</div>\n",
              "      <button class=\"colab-df-convert\" onclick=\"convertToInteractive('df-ec3d3b12-792f-4815-90b1-d0d8aefbc455')\"\n",
              "              title=\"Convert this dataframe to an interactive table.\"\n",
              "              style=\"display:none;\">\n",
              "        \n",
              "  <svg xmlns=\"http://www.w3.org/2000/svg\" height=\"24px\"viewBox=\"0 0 24 24\"\n",
              "       width=\"24px\">\n",
              "    <path d=\"M0 0h24v24H0V0z\" fill=\"none\"/>\n",
              "    <path d=\"M18.56 5.44l.94 2.06.94-2.06 2.06-.94-2.06-.94-.94-2.06-.94 2.06-2.06.94zm-11 1L8.5 8.5l.94-2.06 2.06-.94-2.06-.94L8.5 2.5l-.94 2.06-2.06.94zm10 10l.94 2.06.94-2.06 2.06-.94-2.06-.94-.94-2.06-.94 2.06-2.06.94z\"/><path d=\"M17.41 7.96l-1.37-1.37c-.4-.4-.92-.59-1.43-.59-.52 0-1.04.2-1.43.59L10.3 9.45l-7.72 7.72c-.78.78-.78 2.05 0 2.83L4 21.41c.39.39.9.59 1.41.59.51 0 1.02-.2 1.41-.59l7.78-7.78 2.81-2.81c.8-.78.8-2.07 0-2.86zM5.41 20L4 18.59l7.72-7.72 1.47 1.35L5.41 20z\"/>\n",
              "  </svg>\n",
              "      </button>\n",
              "      \n",
              "  <style>\n",
              "    .colab-df-container {\n",
              "      display:flex;\n",
              "      flex-wrap:wrap;\n",
              "      gap: 12px;\n",
              "    }\n",
              "\n",
              "    .colab-df-convert {\n",
              "      background-color: #E8F0FE;\n",
              "      border: none;\n",
              "      border-radius: 50%;\n",
              "      cursor: pointer;\n",
              "      display: none;\n",
              "      fill: #1967D2;\n",
              "      height: 32px;\n",
              "      padding: 0 0 0 0;\n",
              "      width: 32px;\n",
              "    }\n",
              "\n",
              "    .colab-df-convert:hover {\n",
              "      background-color: #E2EBFA;\n",
              "      box-shadow: 0px 1px 2px rgba(60, 64, 67, 0.3), 0px 1px 3px 1px rgba(60, 64, 67, 0.15);\n",
              "      fill: #174EA6;\n",
              "    }\n",
              "\n",
              "    [theme=dark] .colab-df-convert {\n",
              "      background-color: #3B4455;\n",
              "      fill: #D2E3FC;\n",
              "    }\n",
              "\n",
              "    [theme=dark] .colab-df-convert:hover {\n",
              "      background-color: #434B5C;\n",
              "      box-shadow: 0px 1px 3px 1px rgba(0, 0, 0, 0.15);\n",
              "      filter: drop-shadow(0px 1px 2px rgba(0, 0, 0, 0.3));\n",
              "      fill: #FFFFFF;\n",
              "    }\n",
              "  </style>\n",
              "\n",
              "      <script>\n",
              "        const buttonEl =\n",
              "          document.querySelector('#df-ec3d3b12-792f-4815-90b1-d0d8aefbc455 button.colab-df-convert');\n",
              "        buttonEl.style.display =\n",
              "          google.colab.kernel.accessAllowed ? 'block' : 'none';\n",
              "\n",
              "        async function convertToInteractive(key) {\n",
              "          const element = document.querySelector('#df-ec3d3b12-792f-4815-90b1-d0d8aefbc455');\n",
              "          const dataTable =\n",
              "            await google.colab.kernel.invokeFunction('convertToInteractive',\n",
              "                                                     [key], {});\n",
              "          if (!dataTable) return;\n",
              "\n",
              "          const docLinkHtml = 'Like what you see? Visit the ' +\n",
              "            '<a target=\"_blank\" href=https://colab.research.google.com/notebooks/data_table.ipynb>data table notebook</a>'\n",
              "            + ' to learn more about interactive tables.';\n",
              "          element.innerHTML = '';\n",
              "          dataTable['output_type'] = 'display_data';\n",
              "          await google.colab.output.renderOutput(dataTable, element);\n",
              "          const docLink = document.createElement('div');\n",
              "          docLink.innerHTML = docLinkHtml;\n",
              "          element.appendChild(docLink);\n",
              "        }\n",
              "      </script>\n",
              "    </div>\n",
              "  </div>\n",
              "  "
            ]
          },
          "metadata": {},
          "execution_count": 5
        }
      ]
    },
    {
      "cell_type": "code",
      "source": [
        "dados_treino.shape"
      ],
      "metadata": {
        "colab": {
          "base_uri": "https://localhost:8080/",
          "height": 34
        },
        "id": "1veYn_kOVJFL",
        "outputId": "dfd3af75-7563-4d2f-e4e3-ac137c6e9a1d"
      },
      "execution_count": null,
      "outputs": [
        {
          "output_type": "display_data",
          "data": {
            "text/plain": [
              "<IPython.core.display.HTML object>"
            ],
            "text/html": [
              "\n",
              "  <style>\n",
              "    pre {\n",
              "        white-space: pre-wrap;\n",
              "    }\n",
              "  </style>\n",
              "  "
            ]
          },
          "metadata": {}
        },
        {
          "output_type": "execute_result",
          "data": {
            "text/plain": [
              "(90000, 6)"
            ]
          },
          "metadata": {},
          "execution_count": 6
        }
      ]
    },
    {
      "cell_type": "code",
      "source": [
        "dados_teste.shape"
      ],
      "metadata": {
        "colab": {
          "base_uri": "https://localhost:8080/",
          "height": 34
        },
        "id": "vG7c0MPcVLoK",
        "outputId": "21e0ab38-282a-4d2f-bf20-e6e2a53848b0"
      },
      "execution_count": null,
      "outputs": [
        {
          "output_type": "display_data",
          "data": {
            "text/plain": [
              "<IPython.core.display.HTML object>"
            ],
            "text/html": [
              "\n",
              "  <style>\n",
              "    pre {\n",
              "        white-space: pre-wrap;\n",
              "    }\n",
              "  </style>\n",
              "  "
            ]
          },
          "metadata": {}
        },
        {
          "output_type": "execute_result",
          "data": {
            "text/plain": [
              "(20513, 6)"
            ]
          },
          "metadata": {},
          "execution_count": 7
        }
      ]
    },
    {
      "cell_type": "markdown",
      "source": [
        "## Tratamento dos dados\n"
      ],
      "metadata": {
        "id": "b4vHYTwAVejT"
      }
    },
    {
      "cell_type": "markdown",
      "source": [
        "### SpaCy\n",
        "\n",
        "Aqui será visto a biblioteca SpaCy para o NLP. Ela é uma biblioteca *open source* desenvolvida para a aplicação de NLP na industria.\n",
        "\n",
        "> Esta biblioteca foi projetada especificamente para uso em produção e ajuda a criar aplicações que processam e “compreendem” grandes volumes de textos. Alguns exemplos de utilização são para extração de informações, pré-processamento e aprendizado profundo."
      ],
      "metadata": {
        "id": "JR_EhR5_XUXz"
      }
    },
    {
      "cell_type": "markdown",
      "source": [
        "**VANTAGENS**: Ela facilita o processamento de dados por ao realizar a tokenização das frases, ela já realiza o *tageamento* delas, ou seja, a classificação das palavras (stopword, alpha)"
      ],
      "metadata": {
        "id": "LivfJxE7TDF_"
      }
    },
    {
      "cell_type": "code",
      "source": [
        "# O Colab já possui o spacy, mas não o modelo em português\n",
        "!python -m spacy download pt_core_news_sm"
      ],
      "metadata": {
        "colab": {
          "base_uri": "https://localhost:8080/",
          "height": 1000
        },
        "id": "hi72gUyeWHau",
        "outputId": "cfe6eee2-75ef-430a-9a2d-60a471414378"
      },
      "execution_count": null,
      "outputs": [
        {
          "output_type": "display_data",
          "data": {
            "text/plain": [
              "<IPython.core.display.HTML object>"
            ],
            "text/html": [
              "\n",
              "  <style>\n",
              "    pre {\n",
              "        white-space: pre-wrap;\n",
              "    }\n",
              "  </style>\n",
              "  "
            ]
          },
          "metadata": {}
        },
        {
          "output_type": "stream",
          "name": "stdout",
          "text": [
            "2022-09-12 19:34:14.808679: E tensorflow/stream_executor/cuda/cuda_driver.cc:271] failed call to cuInit: CUDA_ERROR_NO_DEVICE: no CUDA-capable device is detected\n",
            "Looking in indexes: https://pypi.org/simple, https://us-python.pkg.dev/colab-wheels/public/simple/\n",
            "Collecting pt-core-news-sm==3.4.0\n",
            "  Downloading https://github.com/explosion/spacy-models/releases/download/pt_core_news_sm-3.4.0/pt_core_news_sm-3.4.0-py3-none-any.whl (13.0 MB)\n",
            "\u001b[K     |████████████████████████████████| 13.0 MB 3.1 MB/s \n",
            "\u001b[?25hRequirement already satisfied: spacy<3.5.0,>=3.4.0 in /usr/local/lib/python3.7/dist-packages (from pt-core-news-sm==3.4.0) (3.4.1)\n",
            "Requirement already satisfied: srsly<3.0.0,>=2.4.3 in /usr/local/lib/python3.7/dist-packages (from spacy<3.5.0,>=3.4.0->pt-core-news-sm==3.4.0) (2.4.4)\n",
            "Requirement already satisfied: catalogue<2.1.0,>=2.0.6 in /usr/local/lib/python3.7/dist-packages (from spacy<3.5.0,>=3.4.0->pt-core-news-sm==3.4.0) (2.0.8)\n",
            "Requirement already satisfied: preshed<3.1.0,>=3.0.2 in /usr/local/lib/python3.7/dist-packages (from spacy<3.5.0,>=3.4.0->pt-core-news-sm==3.4.0) (3.0.7)\n",
            "Requirement already satisfied: pathy>=0.3.5 in /usr/local/lib/python3.7/dist-packages (from spacy<3.5.0,>=3.4.0->pt-core-news-sm==3.4.0) (0.6.2)\n",
            "Requirement already satisfied: wasabi<1.1.0,>=0.9.1 in /usr/local/lib/python3.7/dist-packages (from spacy<3.5.0,>=3.4.0->pt-core-news-sm==3.4.0) (0.10.1)\n",
            "Requirement already satisfied: typer<0.5.0,>=0.3.0 in /usr/local/lib/python3.7/dist-packages (from spacy<3.5.0,>=3.4.0->pt-core-news-sm==3.4.0) (0.4.2)\n",
            "Requirement already satisfied: spacy-legacy<3.1.0,>=3.0.9 in /usr/local/lib/python3.7/dist-packages (from spacy<3.5.0,>=3.4.0->pt-core-news-sm==3.4.0) (3.0.10)\n",
            "Requirement already satisfied: numpy>=1.15.0 in /usr/local/lib/python3.7/dist-packages (from spacy<3.5.0,>=3.4.0->pt-core-news-sm==3.4.0) (1.21.6)\n",
            "Requirement already satisfied: murmurhash<1.1.0,>=0.28.0 in /usr/local/lib/python3.7/dist-packages (from spacy<3.5.0,>=3.4.0->pt-core-news-sm==3.4.0) (1.0.8)\n",
            "Requirement already satisfied: requests<3.0.0,>=2.13.0 in /usr/local/lib/python3.7/dist-packages (from spacy<3.5.0,>=3.4.0->pt-core-news-sm==3.4.0) (2.23.0)\n",
            "Requirement already satisfied: langcodes<4.0.0,>=3.2.0 in /usr/local/lib/python3.7/dist-packages (from spacy<3.5.0,>=3.4.0->pt-core-news-sm==3.4.0) (3.3.0)\n",
            "Requirement already satisfied: thinc<8.2.0,>=8.1.0 in /usr/local/lib/python3.7/dist-packages (from spacy<3.5.0,>=3.4.0->pt-core-news-sm==3.4.0) (8.1.0)\n",
            "Requirement already satisfied: jinja2 in /usr/local/lib/python3.7/dist-packages (from spacy<3.5.0,>=3.4.0->pt-core-news-sm==3.4.0) (2.11.3)\n",
            "Requirement already satisfied: cymem<2.1.0,>=2.0.2 in /usr/local/lib/python3.7/dist-packages (from spacy<3.5.0,>=3.4.0->pt-core-news-sm==3.4.0) (2.0.6)\n",
            "Requirement already satisfied: pydantic!=1.8,!=1.8.1,<1.10.0,>=1.7.4 in /usr/local/lib/python3.7/dist-packages (from spacy<3.5.0,>=3.4.0->pt-core-news-sm==3.4.0) (1.9.2)\n",
            "Requirement already satisfied: tqdm<5.0.0,>=4.38.0 in /usr/local/lib/python3.7/dist-packages (from spacy<3.5.0,>=3.4.0->pt-core-news-sm==3.4.0) (4.64.1)\n",
            "Requirement already satisfied: packaging>=20.0 in /usr/local/lib/python3.7/dist-packages (from spacy<3.5.0,>=3.4.0->pt-core-news-sm==3.4.0) (21.3)\n",
            "Requirement already satisfied: setuptools in /usr/local/lib/python3.7/dist-packages (from spacy<3.5.0,>=3.4.0->pt-core-news-sm==3.4.0) (57.4.0)\n",
            "Requirement already satisfied: spacy-loggers<2.0.0,>=1.0.0 in /usr/local/lib/python3.7/dist-packages (from spacy<3.5.0,>=3.4.0->pt-core-news-sm==3.4.0) (1.0.3)\n",
            "Requirement already satisfied: typing-extensions<4.2.0,>=3.7.4 in /usr/local/lib/python3.7/dist-packages (from spacy<3.5.0,>=3.4.0->pt-core-news-sm==3.4.0) (4.1.1)\n",
            "Requirement already satisfied: zipp>=0.5 in /usr/local/lib/python3.7/dist-packages (from catalogue<2.1.0,>=2.0.6->spacy<3.5.0,>=3.4.0->pt-core-news-sm==3.4.0) (3.8.1)\n",
            "Requirement already satisfied: pyparsing!=3.0.5,>=2.0.2 in /usr/local/lib/python3.7/dist-packages (from packaging>=20.0->spacy<3.5.0,>=3.4.0->pt-core-news-sm==3.4.0) (3.0.9)\n",
            "Requirement already satisfied: smart-open<6.0.0,>=5.2.1 in /usr/local/lib/python3.7/dist-packages (from pathy>=0.3.5->spacy<3.5.0,>=3.4.0->pt-core-news-sm==3.4.0) (5.2.1)\n",
            "Requirement already satisfied: idna<3,>=2.5 in /usr/local/lib/python3.7/dist-packages (from requests<3.0.0,>=2.13.0->spacy<3.5.0,>=3.4.0->pt-core-news-sm==3.4.0) (2.10)\n",
            "Requirement already satisfied: chardet<4,>=3.0.2 in /usr/local/lib/python3.7/dist-packages (from requests<3.0.0,>=2.13.0->spacy<3.5.0,>=3.4.0->pt-core-news-sm==3.4.0) (3.0.4)\n",
            "Requirement already satisfied: certifi>=2017.4.17 in /usr/local/lib/python3.7/dist-packages (from requests<3.0.0,>=2.13.0->spacy<3.5.0,>=3.4.0->pt-core-news-sm==3.4.0) (2022.6.15)\n",
            "Requirement already satisfied: urllib3!=1.25.0,!=1.25.1,<1.26,>=1.21.1 in /usr/local/lib/python3.7/dist-packages (from requests<3.0.0,>=2.13.0->spacy<3.5.0,>=3.4.0->pt-core-news-sm==3.4.0) (1.24.3)\n",
            "Requirement already satisfied: blis<0.8.0,>=0.7.8 in /usr/local/lib/python3.7/dist-packages (from thinc<8.2.0,>=8.1.0->spacy<3.5.0,>=3.4.0->pt-core-news-sm==3.4.0) (0.7.8)\n",
            "Requirement already satisfied: click<9.0.0,>=7.1.1 in /usr/local/lib/python3.7/dist-packages (from typer<0.5.0,>=0.3.0->spacy<3.5.0,>=3.4.0->pt-core-news-sm==3.4.0) (7.1.2)\n",
            "Requirement already satisfied: MarkupSafe>=0.23 in /usr/local/lib/python3.7/dist-packages (from jinja2->spacy<3.5.0,>=3.4.0->pt-core-news-sm==3.4.0) (2.0.1)\n",
            "Installing collected packages: pt-core-news-sm\n",
            "Successfully installed pt-core-news-sm-3.4.0\n",
            "\u001b[38;5;2m✔ Download and installation successful\u001b[0m\n",
            "You can now load the package via spacy.load('pt_core_news_sm')\n"
          ]
        }
      ]
    },
    {
      "cell_type": "code",
      "source": [
        "import spacy"
      ],
      "metadata": {
        "colab": {
          "base_uri": "https://localhost:8080/",
          "height": 17
        },
        "id": "MPGUPzP1WFBq",
        "outputId": "7760bbd2-202f-4fd8-c5db-cc75d023ef4c"
      },
      "execution_count": null,
      "outputs": [
        {
          "output_type": "display_data",
          "data": {
            "text/plain": [
              "<IPython.core.display.HTML object>"
            ],
            "text/html": [
              "\n",
              "  <style>\n",
              "    pre {\n",
              "        white-space: pre-wrap;\n",
              "    }\n",
              "  </style>\n",
              "  "
            ]
          },
          "metadata": {}
        }
      ]
    },
    {
      "cell_type": "code",
      "source": [
        "nlp = spacy.load('pt_core_news_sm')"
      ],
      "metadata": {
        "colab": {
          "base_uri": "https://localhost:8080/",
          "height": 17
        },
        "id": "bNeSXCC9WtlW",
        "outputId": "7471192c-b0c7-4860-8dc0-362d629472d3"
      },
      "execution_count": null,
      "outputs": [
        {
          "output_type": "display_data",
          "data": {
            "text/plain": [
              "<IPython.core.display.HTML object>"
            ],
            "text/html": [
              "\n",
              "  <style>\n",
              "    pre {\n",
              "        white-space: pre-wrap;\n",
              "    }\n",
              "  </style>\n",
              "  "
            ]
          },
          "metadata": {}
        }
      ]
    },
    {
      "cell_type": "markdown",
      "source": [
        "### Estruturas do Spacy"
      ],
      "metadata": {
        "id": "LOmEXY1JYdh6"
      }
    },
    {
      "cell_type": "code",
      "source": [
        "texto = 'Rio de Janeiro é uma cidade maravilhosa.'\n",
        "\n",
        "doc = nlp(texto)"
      ],
      "metadata": {
        "colab": {
          "base_uri": "https://localhost:8080/",
          "height": 17
        },
        "id": "MsDySgWxWx1x",
        "outputId": "7156b077-4dac-4446-d64d-cfcf27721075"
      },
      "execution_count": null,
      "outputs": [
        {
          "output_type": "display_data",
          "data": {
            "text/plain": [
              "<IPython.core.display.HTML object>"
            ],
            "text/html": [
              "\n",
              "  <style>\n",
              "    pre {\n",
              "        white-space: pre-wrap;\n",
              "    }\n",
              "  </style>\n",
              "  "
            ]
          },
          "metadata": {}
        }
      ]
    },
    {
      "cell_type": "code",
      "source": [
        "type(doc)"
      ],
      "metadata": {
        "colab": {
          "base_uri": "https://localhost:8080/",
          "height": 34
        },
        "id": "ZS2PC5SRYp96",
        "outputId": "3aea4f5e-60a3-47cc-e6ec-3aae63c2e87b"
      },
      "execution_count": null,
      "outputs": [
        {
          "output_type": "display_data",
          "data": {
            "text/plain": [
              "<IPython.core.display.HTML object>"
            ],
            "text/html": [
              "\n",
              "  <style>\n",
              "    pre {\n",
              "        white-space: pre-wrap;\n",
              "    }\n",
              "  </style>\n",
              "  "
            ]
          },
          "metadata": {}
        },
        {
          "output_type": "execute_result",
          "data": {
            "text/plain": [
              "spacy.tokens.doc.Doc"
            ]
          },
          "metadata": {},
          "execution_count": 12
        }
      ]
    },
    {
      "cell_type": "code",
      "source": [
        "doc[0]"
      ],
      "metadata": {
        "colab": {
          "base_uri": "https://localhost:8080/",
          "height": 34
        },
        "id": "TyelYv3DYrtF",
        "outputId": "da4355fb-4e62-49bf-d39d-a44778b1d619"
      },
      "execution_count": null,
      "outputs": [
        {
          "output_type": "display_data",
          "data": {
            "text/plain": [
              "<IPython.core.display.HTML object>"
            ],
            "text/html": [
              "\n",
              "  <style>\n",
              "    pre {\n",
              "        white-space: pre-wrap;\n",
              "    }\n",
              "  </style>\n",
              "  "
            ]
          },
          "metadata": {}
        },
        {
          "output_type": "execute_result",
          "data": {
            "text/plain": [
              "Rio"
            ]
          },
          "metadata": {},
          "execution_count": 13
        }
      ]
    },
    {
      "cell_type": "code",
      "source": [
        "for i in doc:\n",
        "    print(i)"
      ],
      "metadata": {
        "colab": {
          "base_uri": "https://localhost:8080/",
          "height": 156
        },
        "id": "5nEhRENhYt8P",
        "outputId": "30bde4f6-0bf3-4453-e36e-cccd88e1dd1b"
      },
      "execution_count": null,
      "outputs": [
        {
          "output_type": "display_data",
          "data": {
            "text/plain": [
              "<IPython.core.display.HTML object>"
            ],
            "text/html": [
              "\n",
              "  <style>\n",
              "    pre {\n",
              "        white-space: pre-wrap;\n",
              "    }\n",
              "  </style>\n",
              "  "
            ]
          },
          "metadata": {}
        },
        {
          "output_type": "stream",
          "name": "stdout",
          "text": [
            "Rio\n",
            "de\n",
            "Janeiro\n",
            "é\n",
            "uma\n",
            "cidade\n",
            "maravilhosa\n",
            ".\n"
          ]
        }
      ]
    },
    {
      "cell_type": "code",
      "source": [
        "# Entidade nomeada (ner)\n",
        "doc.ents"
      ],
      "metadata": {
        "colab": {
          "base_uri": "https://localhost:8080/",
          "height": 34
        },
        "id": "sl-jdrTjYyqS",
        "outputId": "614ecd87-a1dc-46f2-be74-d57db50a36d1"
      },
      "execution_count": null,
      "outputs": [
        {
          "output_type": "display_data",
          "data": {
            "text/plain": [
              "<IPython.core.display.HTML object>"
            ],
            "text/html": [
              "\n",
              "  <style>\n",
              "    pre {\n",
              "        white-space: pre-wrap;\n",
              "    }\n",
              "  </style>\n",
              "  "
            ]
          },
          "metadata": {}
        },
        {
          "output_type": "execute_result",
          "data": {
            "text/plain": [
              "(Rio de Janeiro,)"
            ]
          },
          "metadata": {},
          "execution_count": 15
        }
      ]
    },
    {
      "cell_type": "code",
      "source": [
        "# Tags\n",
        "doc[0].is_stop"
      ],
      "metadata": {
        "colab": {
          "base_uri": "https://localhost:8080/",
          "height": 34
        },
        "id": "OuwyGPPGZElH",
        "outputId": "68dcc34d-6700-4369-ea59-9fabde925b33"
      },
      "execution_count": null,
      "outputs": [
        {
          "output_type": "display_data",
          "data": {
            "text/plain": [
              "<IPython.core.display.HTML object>"
            ],
            "text/html": [
              "\n",
              "  <style>\n",
              "    pre {\n",
              "        white-space: pre-wrap;\n",
              "    }\n",
              "  </style>\n",
              "  "
            ]
          },
          "metadata": {}
        },
        {
          "output_type": "execute_result",
          "data": {
            "text/plain": [
              "False"
            ]
          },
          "metadata": {},
          "execution_count": 16
        }
      ]
    },
    {
      "cell_type": "code",
      "source": [
        "doc[1].is_stop"
      ],
      "metadata": {
        "colab": {
          "base_uri": "https://localhost:8080/",
          "height": 34
        },
        "id": "_e5CcWIQZIaB",
        "outputId": "5612fb95-092c-4898-8555-6e20031bf95a"
      },
      "execution_count": null,
      "outputs": [
        {
          "output_type": "display_data",
          "data": {
            "text/plain": [
              "<IPython.core.display.HTML object>"
            ],
            "text/html": [
              "\n",
              "  <style>\n",
              "    pre {\n",
              "        white-space: pre-wrap;\n",
              "    }\n",
              "  </style>\n",
              "  "
            ]
          },
          "metadata": {}
        },
        {
          "output_type": "execute_result",
          "data": {
            "text/plain": [
              "True"
            ]
          },
          "metadata": {},
          "execution_count": 17
        }
      ]
    },
    {
      "cell_type": "markdown",
      "source": [
        "## Pre-Processamento\n",
        "\n",
        "Para o pré=processamento dos textos para o treinamento do modelo Word2Vec podemos usar como referência o projeto do NILC-USP de [Words Embeddings](https://github.com/nathanshartmann/portuguese_word_embeddings/blob/master/preprocessing.py).\n",
        "\n",
        "> \"NILC-Embeddings é um repositório destinado ao armazenamento e compartilhamento de vetores de palavras (do inglês, word embeddings) gerados para a Língua Portuguesa. O objetivo é fomentar e tornar acessível recursos vetoriais prontos para serem utilizados nas tarefas de Processamento da Linguagem Natural e Aprendizado de Máquina. O repositório traz vetores gerados a partir de um grande córpus do português do Brasil e português europeu, de fontes e gêneros variados. Foram utilizados dezessete córpus diferentes, totalizando 1,395,926,282 tokens.\" [[fonte]](http://www.nilc.icmc.usp.br/embeddings)\n"
      ],
      "metadata": {
        "id": "x_y3TVFDNjsl"
      }
    },
    {
      "cell_type": "markdown",
      "source": [
        "**TIPOS DE TRATAMENTOS RECOMENDADOS**\n",
        "\n",
        "* Caso dos caracteres (upper case, lower case)"
      ],
      "metadata": {
        "id": "RfU-1pZsSRSC"
      }
    },
    {
      "cell_type": "code",
      "source": [
        "# Função de tratamento proposto pelo curso\n",
        "def trata_textos(doc):\n",
        "\n",
        "    tokens_validos = []\n",
        "    for token in doc:\n",
        "        token_is_valid = not (token.is_stop) and (token.is_alpha)\n",
        "        if token_is_valid:\n",
        "            tokens_validos.append(token.text)\n",
        "\n",
        "    if len(tokens_validos) > 3:\n",
        "        return \" \".join(tokens_validos)\n",
        "    else:\n",
        "        return None"
      ],
      "metadata": {
        "colab": {
          "base_uri": "https://localhost:8080/",
          "height": 17
        },
        "id": "hcZLqU9DNsRp",
        "outputId": "f78cfd28-8f33-43dd-cbdf-6375d0681491"
      },
      "execution_count": null,
      "outputs": [
        {
          "output_type": "display_data",
          "data": {
            "text/plain": [
              "<IPython.core.display.HTML object>"
            ],
            "text/html": [
              "\n",
              "  <style>\n",
              "    pre {\n",
              "        white-space: pre-wrap;\n",
              "    }\n",
              "  </style>\n",
              "  "
            ]
          },
          "metadata": {}
        }
      ]
    },
    {
      "cell_type": "code",
      "source": [
        "# Função de tratamento proposto pelo curso\n",
        "def trata_textos_(doc):\n",
        "\n",
        "    tokens_validos = []\n",
        "    for token in doc:\n",
        "        token_is_valid = not (token.is_stop) and (token.is_alpha)\n",
        "        if token_is_valid:\n",
        "            tokens_validos.append(token.text)\n",
        "\n",
        "    if len(tokens_validos) > 3:\n",
        "        return \" \".join(tokens_validos)\n",
        "    else:\n",
        "        return None"
      ],
      "metadata": {
        "id": "qwqsZLcQRYA4",
        "colab": {
          "base_uri": "https://localhost:8080/",
          "height": 17
        },
        "outputId": "aa1f1356-246b-4a59-aabf-f272971d06b3"
      },
      "execution_count": null,
      "outputs": [
        {
          "output_type": "display_data",
          "data": {
            "text/plain": [
              "<IPython.core.display.HTML object>"
            ],
            "text/html": [
              "\n",
              "  <style>\n",
              "    pre {\n",
              "        white-space: pre-wrap;\n",
              "    }\n",
              "  </style>\n",
              "  "
            ]
          },
          "metadata": {}
        }
      ]
    },
    {
      "cell_type": "code",
      "source": [
        "trata_textos(doc)"
      ],
      "metadata": {
        "colab": {
          "base_uri": "https://localhost:8080/",
          "height": 35
        },
        "id": "WA9FQOh9QH9X",
        "outputId": "3ce8cf85-52dc-42f4-896c-a25b5221d472"
      },
      "execution_count": null,
      "outputs": [
        {
          "output_type": "display_data",
          "data": {
            "text/plain": [
              "<IPython.core.display.HTML object>"
            ],
            "text/html": [
              "\n",
              "  <style>\n",
              "    pre {\n",
              "        white-space: pre-wrap;\n",
              "    }\n",
              "  </style>\n",
              "  "
            ]
          },
          "metadata": {}
        },
        {
          "output_type": "execute_result",
          "data": {
            "text/plain": [
              "'Rio Janeiro cidade maravilhosa'"
            ],
            "application/vnd.google.colaboratory.intrinsic+json": {
              "type": "string"
            }
          },
          "metadata": {},
          "execution_count": 20
        }
      ]
    },
    {
      "cell_type": "code",
      "source": [
        "# %%time\n",
        "# textos_para_tratamento = dados_treino['title']\n",
        "# textos_tratados = [trata_textos(doc) for doc in nlp.pipe(textos_para_tratamento, batch_size=1000, n_process=-1)]"
      ],
      "metadata": {
        "colab": {
          "base_uri": "https://localhost:8080/",
          "height": 17
        },
        "id": "z4CCKmQPN4Kl",
        "outputId": "2aaf4223-b04a-4501-c9b3-9e551a8ae72f"
      },
      "execution_count": null,
      "outputs": [
        {
          "output_type": "display_data",
          "data": {
            "text/plain": [
              "<IPython.core.display.HTML object>"
            ],
            "text/html": [
              "\n",
              "  <style>\n",
              "    pre {\n",
              "        white-space: pre-wrap;\n",
              "    }\n",
              "  </style>\n",
              "  "
            ]
          },
          "metadata": {}
        }
      ]
    },
    {
      "cell_type": "code",
      "source": [
        "# %%time\n",
        "# # Sem processamento paralelo\n",
        "# textos_para_tratamento = dados_treino['title']\n",
        "# textos_tratados = [trata_textos(doc) for doc in nlp.pipe(textos_para_tratamento, batch_size=1000, n_process=1)]"
      ],
      "metadata": {
        "colab": {
          "base_uri": "https://localhost:8080/",
          "height": 17
        },
        "id": "ZmbpEVyMaY8I",
        "outputId": "47387b88-449b-48cd-fa93-8a376cac5a59"
      },
      "execution_count": null,
      "outputs": [
        {
          "output_type": "display_data",
          "data": {
            "text/plain": [
              "<IPython.core.display.HTML object>"
            ],
            "text/html": [
              "\n",
              "  <style>\n",
              "    pre {\n",
              "        white-space: pre-wrap;\n",
              "    }\n",
              "  </style>\n",
              "  "
            ]
          },
          "metadata": {}
        }
      ]
    },
    {
      "cell_type": "code",
      "source": [
        "%%time\n",
        "# Com tratamento do case em generator\n",
        "textos_para_tratamento = (texto.lower() for texto in dados_treino['title'])\n",
        "textos_tratados = [trata_textos(doc) for doc in nlp.pipe(textos_para_tratamento, batch_size=1000, n_process=1)]"
      ],
      "metadata": {
        "colab": {
          "base_uri": "https://localhost:8080/",
          "height": 52
        },
        "id": "vUWHUrWaafmS",
        "outputId": "c1d6ed7e-3b57-494a-9a1f-e0f51cafb017"
      },
      "execution_count": null,
      "outputs": [
        {
          "output_type": "display_data",
          "data": {
            "text/plain": [
              "<IPython.core.display.HTML object>"
            ],
            "text/html": [
              "\n",
              "  <style>\n",
              "    pre {\n",
              "        white-space: pre-wrap;\n",
              "    }\n",
              "  </style>\n",
              "  "
            ]
          },
          "metadata": {}
        },
        {
          "output_type": "stream",
          "name": "stdout",
          "text": [
            "CPU times: user 2min 5s, sys: 2.17 s, total: 2min 7s\n",
            "Wall time: 2min 16s\n"
          ]
        }
      ]
    },
    {
      "cell_type": "code",
      "source": [
        "titulos_tratados = pd.DataFrame({'titulo': textos_tratados})\n",
        "titulos_tratados.head()"
      ],
      "metadata": {
        "colab": {
          "base_uri": "https://localhost:8080/",
          "height": 206
        },
        "id": "v8x0Il33bRmn",
        "outputId": "477bab3e-249e-4d04-c38b-79d733dea09e"
      },
      "execution_count": null,
      "outputs": [
        {
          "output_type": "display_data",
          "data": {
            "text/plain": [
              "<IPython.core.display.HTML object>"
            ],
            "text/html": [
              "\n",
              "  <style>\n",
              "    pre {\n",
              "        white-space: pre-wrap;\n",
              "    }\n",
              "  </style>\n",
              "  "
            ]
          },
          "metadata": {}
        },
        {
          "output_type": "execute_result",
          "data": {
            "text/plain": [
              "                                              titulo\n",
              "0  polêmica marine le pen abomina negacionistas h...\n",
              "1  macron le pen turno frança revés siglas tradic...\n",
              "2  apesar larga vitória legislativas macron terá ...\n",
              "3  governo antecipa balanço alckmin anuncia queda...\n",
              "4       queda maio atividade econômica sobe junho bc"
            ],
            "text/html": [
              "\n",
              "  <div id=\"df-1a288711-9fef-4920-8cac-aeee3dc87df1\">\n",
              "    <div class=\"colab-df-container\">\n",
              "      <div>\n",
              "<style scoped>\n",
              "    .dataframe tbody tr th:only-of-type {\n",
              "        vertical-align: middle;\n",
              "    }\n",
              "\n",
              "    .dataframe tbody tr th {\n",
              "        vertical-align: top;\n",
              "    }\n",
              "\n",
              "    .dataframe thead th {\n",
              "        text-align: right;\n",
              "    }\n",
              "</style>\n",
              "<table border=\"1\" class=\"dataframe\">\n",
              "  <thead>\n",
              "    <tr style=\"text-align: right;\">\n",
              "      <th></th>\n",
              "      <th>titulo</th>\n",
              "    </tr>\n",
              "  </thead>\n",
              "  <tbody>\n",
              "    <tr>\n",
              "      <th>0</th>\n",
              "      <td>polêmica marine le pen abomina negacionistas h...</td>\n",
              "    </tr>\n",
              "    <tr>\n",
              "      <th>1</th>\n",
              "      <td>macron le pen turno frança revés siglas tradic...</td>\n",
              "    </tr>\n",
              "    <tr>\n",
              "      <th>2</th>\n",
              "      <td>apesar larga vitória legislativas macron terá ...</td>\n",
              "    </tr>\n",
              "    <tr>\n",
              "      <th>3</th>\n",
              "      <td>governo antecipa balanço alckmin anuncia queda...</td>\n",
              "    </tr>\n",
              "    <tr>\n",
              "      <th>4</th>\n",
              "      <td>queda maio atividade econômica sobe junho bc</td>\n",
              "    </tr>\n",
              "  </tbody>\n",
              "</table>\n",
              "</div>\n",
              "      <button class=\"colab-df-convert\" onclick=\"convertToInteractive('df-1a288711-9fef-4920-8cac-aeee3dc87df1')\"\n",
              "              title=\"Convert this dataframe to an interactive table.\"\n",
              "              style=\"display:none;\">\n",
              "        \n",
              "  <svg xmlns=\"http://www.w3.org/2000/svg\" height=\"24px\"viewBox=\"0 0 24 24\"\n",
              "       width=\"24px\">\n",
              "    <path d=\"M0 0h24v24H0V0z\" fill=\"none\"/>\n",
              "    <path d=\"M18.56 5.44l.94 2.06.94-2.06 2.06-.94-2.06-.94-.94-2.06-.94 2.06-2.06.94zm-11 1L8.5 8.5l.94-2.06 2.06-.94-2.06-.94L8.5 2.5l-.94 2.06-2.06.94zm10 10l.94 2.06.94-2.06 2.06-.94-2.06-.94-.94-2.06-.94 2.06-2.06.94z\"/><path d=\"M17.41 7.96l-1.37-1.37c-.4-.4-.92-.59-1.43-.59-.52 0-1.04.2-1.43.59L10.3 9.45l-7.72 7.72c-.78.78-.78 2.05 0 2.83L4 21.41c.39.39.9.59 1.41.59.51 0 1.02-.2 1.41-.59l7.78-7.78 2.81-2.81c.8-.78.8-2.07 0-2.86zM5.41 20L4 18.59l7.72-7.72 1.47 1.35L5.41 20z\"/>\n",
              "  </svg>\n",
              "      </button>\n",
              "      \n",
              "  <style>\n",
              "    .colab-df-container {\n",
              "      display:flex;\n",
              "      flex-wrap:wrap;\n",
              "      gap: 12px;\n",
              "    }\n",
              "\n",
              "    .colab-df-convert {\n",
              "      background-color: #E8F0FE;\n",
              "      border: none;\n",
              "      border-radius: 50%;\n",
              "      cursor: pointer;\n",
              "      display: none;\n",
              "      fill: #1967D2;\n",
              "      height: 32px;\n",
              "      padding: 0 0 0 0;\n",
              "      width: 32px;\n",
              "    }\n",
              "\n",
              "    .colab-df-convert:hover {\n",
              "      background-color: #E2EBFA;\n",
              "      box-shadow: 0px 1px 2px rgba(60, 64, 67, 0.3), 0px 1px 3px 1px rgba(60, 64, 67, 0.15);\n",
              "      fill: #174EA6;\n",
              "    }\n",
              "\n",
              "    [theme=dark] .colab-df-convert {\n",
              "      background-color: #3B4455;\n",
              "      fill: #D2E3FC;\n",
              "    }\n",
              "\n",
              "    [theme=dark] .colab-df-convert:hover {\n",
              "      background-color: #434B5C;\n",
              "      box-shadow: 0px 1px 3px 1px rgba(0, 0, 0, 0.15);\n",
              "      filter: drop-shadow(0px 1px 2px rgba(0, 0, 0, 0.3));\n",
              "      fill: #FFFFFF;\n",
              "    }\n",
              "  </style>\n",
              "\n",
              "      <script>\n",
              "        const buttonEl =\n",
              "          document.querySelector('#df-1a288711-9fef-4920-8cac-aeee3dc87df1 button.colab-df-convert');\n",
              "        buttonEl.style.display =\n",
              "          google.colab.kernel.accessAllowed ? 'block' : 'none';\n",
              "\n",
              "        async function convertToInteractive(key) {\n",
              "          const element = document.querySelector('#df-1a288711-9fef-4920-8cac-aeee3dc87df1');\n",
              "          const dataTable =\n",
              "            await google.colab.kernel.invokeFunction('convertToInteractive',\n",
              "                                                     [key], {});\n",
              "          if (!dataTable) return;\n",
              "\n",
              "          const docLinkHtml = 'Like what you see? Visit the ' +\n",
              "            '<a target=\"_blank\" href=https://colab.research.google.com/notebooks/data_table.ipynb>data table notebook</a>'\n",
              "            + ' to learn more about interactive tables.';\n",
              "          element.innerHTML = '';\n",
              "          dataTable['output_type'] = 'display_data';\n",
              "          await google.colab.output.renderOutput(dataTable, element);\n",
              "          const docLink = document.createElement('div');\n",
              "          docLink.innerHTML = docLinkHtml;\n",
              "          element.appendChild(docLink);\n",
              "        }\n",
              "      </script>\n",
              "    </div>\n",
              "  </div>\n",
              "  "
            ]
          },
          "metadata": {},
          "execution_count": 24
        }
      ]
    },
    {
      "cell_type": "markdown",
      "source": [
        "## Treinamento do Word2Vec\n",
        "\n",
        "Para o treinamento do modelo iremos usar a biblioteca `Gensim` que já traz uma estrutura de arquitetura de modelo Word2Vec construída, permitindo focar-se na parametrização do modelo (ajuste dos hiperparâmetros).\n",
        "\n",
        "> Os hiperparâmetros são parâmetros que configuram a forma que seu modelo será treinado, por isso são passados antes da fase de treinamento."
      ],
      "metadata": {
        "id": "RxcedEOLMvm3"
      }
    },
    {
      "cell_type": "markdown",
      "source": [
        "### Hiperparâmetros"
      ],
      "metadata": {
        "id": "_9rlwiYEZxNs"
      }
    },
    {
      "cell_type": "markdown",
      "source": [
        "* **CBOW ou SkipGram**: `sg` 1 para skip-gram e 0 para CBOW.\n",
        "* **Contexto**: para a utilização do contexto é preciso indicar a extensão dele. O hiperparâmetro `window` é a quantidade de palavras antes e depois a serem consideradas.\n",
        "* **Vetor final**: o tamanho do vetor final é especificado pelo parâmetro `size`.\n",
        "* **Palavras raras**: quando uma palavra poucas vezes no *Corpus*, são chamadas de palavras raras. Elas podem ser tanto erros de digitação, quanto palavras raramente usadas. Para especificar o número limite para a classificação é usado o hiperparâmetro `min_count`.\n",
        "* **Taxa de aprendizagem da rede neural**: a taxa de aprendizagem é o quanto a função de custo será ajustada a cada época. `alpha`.\n",
        "* **Decaimento da taxa de aprendizado**: é o valor de adaptação da taxa de aprendizagem. `min_alpha`."
      ],
      "metadata": {
        "id": "F5azHXzANqOE"
      }
    },
    {
      "cell_type": "code",
      "source": [
        "# Construção do modelo Word2Vec - hiperparametrização\n",
        "from gensim.models import Word2Vec\n",
        "\n",
        "w2v_modelo_cbow = Word2Vec(\n",
        "    sg=0,\n",
        "    window=2,\n",
        "    size=300,\n",
        "    min_count=5,\n",
        "    alpha=0.03,\n",
        "    min_alpha=0.007\n",
        "    )"
      ],
      "metadata": {
        "id": "fP9K5DysdGe9",
        "colab": {
          "base_uri": "https://localhost:8080/",
          "height": 17
        },
        "outputId": "1f9a09d4-5b9a-4736-b72b-ff162b2518a9"
      },
      "execution_count": null,
      "outputs": [
        {
          "output_type": "display_data",
          "data": {
            "text/plain": [
              "<IPython.core.display.HTML object>"
            ],
            "text/html": [
              "\n",
              "  <style>\n",
              "    pre {\n",
              "        white-space: pre-wrap;\n",
              "    }\n",
              "  </style>\n",
              "  "
            ]
          },
          "metadata": {}
        }
      ]
    },
    {
      "cell_type": "markdown",
      "source": [
        "### Vocabulário"
      ],
      "metadata": {
        "id": "6KebNHxzUjiG"
      }
    },
    {
      "cell_type": "code",
      "source": [
        "%%time\n",
        "# Construção do dicionário para o modelo\n",
        "print(len(titulos_tratados))\n",
        "titulos_tratados_limpos = titulos_tratados.dropna().drop_duplicates()\n",
        "print(len(titulos_tratados_limpos))\n",
        "\n",
        "lista_lista_tokens = [titulo.split(' ') for titulo in titulos_tratados_limpos['titulo']]\n",
        "\n",
        "w2v_modelo_cbow.build_vocab(lista_lista_tokens)"
      ],
      "metadata": {
        "colab": {
          "base_uri": "https://localhost:8080/",
          "height": 86
        },
        "id": "_Vqn34eARujQ",
        "outputId": "b3bcf3a4-fae9-4669-c60c-6d67633f280f"
      },
      "execution_count": null,
      "outputs": [
        {
          "output_type": "display_data",
          "data": {
            "text/plain": [
              "<IPython.core.display.HTML object>"
            ],
            "text/html": [
              "\n",
              "  <style>\n",
              "    pre {\n",
              "        white-space: pre-wrap;\n",
              "    }\n",
              "  </style>\n",
              "  "
            ]
          },
          "metadata": {}
        },
        {
          "output_type": "stream",
          "name": "stdout",
          "text": [
            "90000\n",
            "81890\n",
            "CPU times: user 3.7 s, sys: 79.4 ms, total: 3.78 s\n",
            "Wall time: 3.76 s\n"
          ]
        }
      ]
    },
    {
      "cell_type": "code",
      "source": [
        "# Verificação do status\n",
        "import logging\n",
        "\n",
        "logging.basicConfig(format='%(asctime)s : - %(message)s', level=logging.INFO)\n",
        "\n",
        "w2v_modelo_cbow = Word2Vec(\n",
        "    sg=0,\n",
        "    window=2,\n",
        "    size=300,\n",
        "    min_count=5,\n",
        "    alpha=0.03,\n",
        "    min_alpha=0.007\n",
        "    )\n",
        "\n",
        "# progress_per: a cada quantas iterações será fornecido um logging\n",
        "w2v_modelo_cbow.build_vocab(lista_lista_tokens, progress_per=5000)"
      ],
      "metadata": {
        "colab": {
          "base_uri": "https://localhost:8080/",
          "height": 17
        },
        "id": "MN8_hM5KWCyY",
        "outputId": "5ddffd4c-a0bc-435c-c664-2e34907ae3c4"
      },
      "execution_count": null,
      "outputs": [
        {
          "output_type": "display_data",
          "data": {
            "text/plain": [
              "<IPython.core.display.HTML object>"
            ],
            "text/html": [
              "\n",
              "  <style>\n",
              "    pre {\n",
              "        white-space: pre-wrap;\n",
              "    }\n",
              "  </style>\n",
              "  "
            ]
          },
          "metadata": {}
        }
      ]
    },
    {
      "cell_type": "markdown",
      "source": [
        "### Treinamento"
      ],
      "metadata": {
        "id": "8EVDF-4aat6G"
      }
    },
    {
      "cell_type": "code",
      "source": [
        "# lista de todos os métodos do modelo\n",
        "dir(w2v_modelo_cbow)"
      ],
      "metadata": {
        "colab": {
          "base_uri": "https://localhost:8080/",
          "height": 1000
        },
        "id": "iXpqFOyHW-0D",
        "outputId": "e07e5c19-ef7d-4555-e916-5ca5db10f4c3"
      },
      "execution_count": null,
      "outputs": [
        {
          "output_type": "display_data",
          "data": {
            "text/plain": [
              "<IPython.core.display.HTML object>"
            ],
            "text/html": [
              "\n",
              "  <style>\n",
              "    pre {\n",
              "        white-space: pre-wrap;\n",
              "    }\n",
              "  </style>\n",
              "  "
            ]
          },
          "metadata": {}
        },
        {
          "output_type": "execute_result",
          "data": {
            "text/plain": [
              "['__class__',\n",
              " '__contains__',\n",
              " '__delattr__',\n",
              " '__dict__',\n",
              " '__dir__',\n",
              " '__doc__',\n",
              " '__eq__',\n",
              " '__format__',\n",
              " '__ge__',\n",
              " '__getattribute__',\n",
              " '__getitem__',\n",
              " '__gt__',\n",
              " '__hash__',\n",
              " '__init__',\n",
              " '__init_subclass__',\n",
              " '__le__',\n",
              " '__lt__',\n",
              " '__module__',\n",
              " '__ne__',\n",
              " '__new__',\n",
              " '__reduce__',\n",
              " '__reduce_ex__',\n",
              " '__repr__',\n",
              " '__setattr__',\n",
              " '__sizeof__',\n",
              " '__str__',\n",
              " '__subclasshook__',\n",
              " '__weakref__',\n",
              " '_adapt_by_suffix',\n",
              " '_check_input_data_sanity',\n",
              " '_check_training_sanity',\n",
              " '_clear_post_train',\n",
              " '_do_train_epoch',\n",
              " '_do_train_job',\n",
              " '_get_job_params',\n",
              " '_get_thread_working_mem',\n",
              " '_job_producer',\n",
              " '_load_specials',\n",
              " '_log_epoch_end',\n",
              " '_log_epoch_progress',\n",
              " '_log_progress',\n",
              " '_log_train_end',\n",
              " '_minimize_model',\n",
              " '_raw_word_count',\n",
              " '_save_specials',\n",
              " '_set_train_params',\n",
              " '_smart_save',\n",
              " '_train_epoch',\n",
              " '_train_epoch_corpusfile',\n",
              " '_update_job_params',\n",
              " '_worker_loop',\n",
              " '_worker_loop_corpusfile',\n",
              " 'accuracy',\n",
              " 'alpha',\n",
              " 'batch_words',\n",
              " 'build_vocab',\n",
              " 'build_vocab_from_freq',\n",
              " 'callbacks',\n",
              " 'cbow_mean',\n",
              " 'clear_sims',\n",
              " 'compute_loss',\n",
              " 'corpus_count',\n",
              " 'corpus_total_words',\n",
              " 'cum_table',\n",
              " 'delete_temporary_training_data',\n",
              " 'doesnt_match',\n",
              " 'epochs',\n",
              " 'estimate_memory',\n",
              " 'evaluate_word_pairs',\n",
              " 'get_latest_training_loss',\n",
              " 'hashfxn',\n",
              " 'hs',\n",
              " 'init_sims',\n",
              " 'intersect_word2vec_format',\n",
              " 'iter',\n",
              " 'layer1_size',\n",
              " 'load',\n",
              " 'load_word2vec_format',\n",
              " 'log_accuracy',\n",
              " 'max_final_vocab',\n",
              " 'min_alpha',\n",
              " 'min_alpha_yet_reached',\n",
              " 'min_count',\n",
              " 'model_trimmed_post_training',\n",
              " 'most_similar',\n",
              " 'most_similar_cosmul',\n",
              " 'n_similarity',\n",
              " 'negative',\n",
              " 'ns_exponent',\n",
              " 'predict_output_word',\n",
              " 'random',\n",
              " 'reset_from',\n",
              " 'running_training_loss',\n",
              " 'sample',\n",
              " 'save',\n",
              " 'save_word2vec_format',\n",
              " 'score',\n",
              " 'sg',\n",
              " 'similar_by_vector',\n",
              " 'similar_by_word',\n",
              " 'similarity',\n",
              " 'syn0_lockf',\n",
              " 'syn1',\n",
              " 'syn1neg',\n",
              " 'total_train_time',\n",
              " 'train',\n",
              " 'train_count',\n",
              " 'trainables',\n",
              " 'vector_size',\n",
              " 'vocabulary',\n",
              " 'window',\n",
              " 'wmdistance',\n",
              " 'workers',\n",
              " 'wv']"
            ]
          },
          "metadata": {},
          "execution_count": 44
        }
      ]
    },
    {
      "cell_type": "code",
      "source": [
        "w2v_modelo_cbow.corpus_count"
      ],
      "metadata": {
        "colab": {
          "base_uri": "https://localhost:8080/",
          "height": 34
        },
        "id": "tjfwOrl9aHfj",
        "outputId": "16cb5806-3062-4107-a050-f96a65ff4409"
      },
      "execution_count": null,
      "outputs": [
        {
          "output_type": "display_data",
          "data": {
            "text/plain": [
              "<IPython.core.display.HTML object>"
            ],
            "text/html": [
              "\n",
              "  <style>\n",
              "    pre {\n",
              "        white-space: pre-wrap;\n",
              "    }\n",
              "  </style>\n",
              "  "
            ]
          },
          "metadata": {}
        },
        {
          "output_type": "execute_result",
          "data": {
            "text/plain": [
              "81890"
            ]
          },
          "metadata": {},
          "execution_count": 48
        }
      ]
    },
    {
      "cell_type": "code",
      "source": [
        "%%time\n",
        "w2v_modelo_cbow.train(\n",
        "    sentences=lista_lista_tokens, \n",
        "    total_examples=w2v_modelo_cbow.corpus_count,\n",
        "    epochs=30)"
      ],
      "metadata": {
        "colab": {
          "base_uri": "https://localhost:8080/",
          "height": 69
        },
        "id": "jb6TVf9hZ8kt",
        "outputId": "bda29c0e-9dd7-48be-af7b-e2827571760e"
      },
      "execution_count": null,
      "outputs": [
        {
          "output_type": "display_data",
          "data": {
            "text/plain": [
              "<IPython.core.display.HTML object>"
            ],
            "text/html": [
              "\n",
              "  <style>\n",
              "    pre {\n",
              "        white-space: pre-wrap;\n",
              "    }\n",
              "  </style>\n",
              "  "
            ]
          },
          "metadata": {}
        },
        {
          "output_type": "stream",
          "name": "stdout",
          "text": [
            "CPU times: user 1min 18s, sys: 417 ms, total: 1min 19s\n",
            "Wall time: 46.8 s\n"
          ]
        },
        {
          "output_type": "execute_result",
          "data": {
            "text/plain": [
              "(14375579, 15975420)"
            ]
          },
          "metadata": {},
          "execution_count": 64
        }
      ]
    },
    {
      "cell_type": "code",
      "source": [
        "# Acompanhamento do LOSS\n",
        "\n",
        "from gensim.models.callbacks import CallbackAny2Vec\n",
        "from gensim.models import Word2Vec\n",
        "\n",
        "# iniciando a chamada callback\n",
        "class callback(CallbackAny2Vec):\n",
        "    def __init__(self):\n",
        "       self.epoch = 0\n",
        "\n",
        "    def on_epoch_end(self, model):\n",
        "       loss = model.get_latest_training_loss()\n",
        "       if self.epoch == 0:\n",
        "           print('Loss após a época {}: {}'.format(self.epoch, loss))\n",
        "       else:\n",
        "           print('Loss após a época {}: {}'.format(self.epoch, loss- self.loss_previous_step))\n",
        "       self.epoch += 1\n",
        "       self.loss_previous_step = loss\n",
        "\n",
        "w2v_modelo_cbow.train(lista_lista_tokens,\n",
        "                total_examples=w2v_modelo_cbow.corpus_count,\n",
        "                epochs = 30,\n",
        "                compute_loss = True,\n",
        "                callbacks=[callback()])\n"
      ],
      "metadata": {
        "colab": {
          "base_uri": "https://localhost:8080/",
          "height": 573
        },
        "id": "K1uMmC7zb5Cf",
        "outputId": "1882a042-f379-4a31-a605-29cb510a3d3f"
      },
      "execution_count": null,
      "outputs": [
        {
          "output_type": "display_data",
          "data": {
            "text/plain": [
              "<IPython.core.display.HTML object>"
            ],
            "text/html": [
              "\n",
              "  <style>\n",
              "    pre {\n",
              "        white-space: pre-wrap;\n",
              "    }\n",
              "  </style>\n",
              "  "
            ]
          },
          "metadata": {}
        },
        {
          "output_type": "stream",
          "name": "stderr",
          "text": [
            "WARNING:gensim.models.base_any2vec:Effective 'alpha' higher than previous training cycles\n"
          ]
        },
        {
          "output_type": "stream",
          "name": "stdout",
          "text": [
            "Loss após a época 0: 158919.65625\n",
            "Loss após a época 1: 145967.40625\n",
            "Loss após a época 2: 131811.65625\n",
            "Loss após a época 3: 143050.28125\n",
            "Loss após a época 4: 119695.25\n",
            "Loss após a época 5: 128598.5625\n",
            "Loss após a época 6: 117480.0625\n",
            "Loss após a época 7: 118883.625\n",
            "Loss após a época 8: 112398.125\n",
            "Loss após a época 9: 103673.625\n",
            "Loss após a época 10: 111996.625\n",
            "Loss após a época 11: 97924.625\n",
            "Loss após a época 12: 89518.625\n",
            "Loss após a época 13: 97927.25\n",
            "Loss após a época 14: 85448.0\n",
            "Loss após a época 15: 78867.0\n",
            "Loss após a época 16: 82162.125\n",
            "Loss após a época 17: 89632.5\n",
            "Loss após a época 18: 83465.75\n",
            "Loss após a época 19: 86028.0\n",
            "Loss após a época 20: 80119.25\n",
            "Loss após a época 21: 75751.75\n",
            "Loss após a época 22: 65985.0\n",
            "Loss após a época 23: 76307.25\n",
            "Loss após a época 24: 59289.75\n",
            "Loss após a época 25: 66221.0\n",
            "Loss após a época 26: 73099.0\n",
            "Loss após a época 27: 68077.5\n",
            "Loss após a época 28: 62990.25\n",
            "Loss após a época 29: 62369.75\n"
          ]
        },
        {
          "output_type": "execute_result",
          "data": {
            "text/plain": [
              "(14375241, 15975420)"
            ]
          },
          "metadata": {},
          "execution_count": 59
        }
      ]
    },
    {
      "cell_type": "markdown",
      "source": [
        "### Avaliação Qualitativa"
      ],
      "metadata": {
        "id": "1xEWScM0asSh"
      }
    },
    {
      "cell_type": "code",
      "source": [
        "w2v_modelo_cbow.wv.most_similar('google')"
      ],
      "metadata": {
        "colab": {
          "base_uri": "https://localhost:8080/",
          "height": 191
        },
        "id": "WKBxTIvTajai",
        "outputId": "6733f974-660e-481f-8d90-cdf50a915f19"
      },
      "execution_count": null,
      "outputs": [
        {
          "output_type": "display_data",
          "data": {
            "text/plain": [
              "<IPython.core.display.HTML object>"
            ],
            "text/html": [
              "\n",
              "  <style>\n",
              "    pre {\n",
              "        white-space: pre-wrap;\n",
              "    }\n",
              "  </style>\n",
              "  "
            ]
          },
          "metadata": {}
        },
        {
          "output_type": "execute_result",
          "data": {
            "text/plain": [
              "[('apple', 0.5686640739440918),\n",
              " ('amazon', 0.5243529081344604),\n",
              " ('facebook', 0.5122028589248657),\n",
              " ('uber', 0.5095587372779846),\n",
              " ('airbnb', 0.5026870965957642),\n",
              " ('volkswagen', 0.4959263801574707),\n",
              " ('fbi', 0.4950755536556244),\n",
              " ('yahoo', 0.48570019006729126),\n",
              " ('software', 0.48143675923347473),\n",
              " ('waze', 0.4802655875682831)]"
            ]
          },
          "metadata": {},
          "execution_count": 54
        }
      ]
    },
    {
      "cell_type": "code",
      "source": [
        "w2v_modelo_cbow.wv.most_similar('barcelona')"
      ],
      "metadata": {
        "colab": {
          "base_uri": "https://localhost:8080/",
          "height": 191
        },
        "id": "jVqsCIg3bN0P",
        "outputId": "9b0f57e5-4469-4dd9-cff3-baf929de036f"
      },
      "execution_count": null,
      "outputs": [
        {
          "output_type": "display_data",
          "data": {
            "text/plain": [
              "<IPython.core.display.HTML object>"
            ],
            "text/html": [
              "\n",
              "  <style>\n",
              "    pre {\n",
              "        white-space: pre-wrap;\n",
              "    }\n",
              "  </style>\n",
              "  "
            ]
          },
          "metadata": {}
        },
        {
          "output_type": "execute_result",
          "data": {
            "text/plain": [
              "[('barça', 0.58600914478302),\n",
              " ('chelsea', 0.5792363286018372),\n",
              " ('bayern', 0.5661696195602417),\n",
              " ('psg', 0.5624327659606934),\n",
              " ('madrid', 0.5565645694732666),\n",
              " ('munique', 0.5323404669761658),\n",
              " ('liverpool', 0.5309878587722778),\n",
              " ('lazio', 0.5296096801757812),\n",
              " ('juventus', 0.5268446803092957),\n",
              " ('messi', 0.5260409116744995)]"
            ]
          },
          "metadata": {},
          "execution_count": 55
        }
      ]
    },
    {
      "cell_type": "code",
      "source": [
        "w2v_modelo_cbow.wv.most_similar('microsoft')"
      ],
      "metadata": {
        "colab": {
          "base_uri": "https://localhost:8080/",
          "height": 191
        },
        "id": "KEZjtBPbbR3J",
        "outputId": "58a6d211-a897-4e20-d348-ac1810827533"
      },
      "execution_count": null,
      "outputs": [
        {
          "output_type": "display_data",
          "data": {
            "text/plain": [
              "<IPython.core.display.HTML object>"
            ],
            "text/html": [
              "\n",
              "  <style>\n",
              "    pre {\n",
              "        white-space: pre-wrap;\n",
              "    }\n",
              "  </style>\n",
              "  "
            ]
          },
          "metadata": {}
        },
        {
          "output_type": "execute_result",
          "data": {
            "text/plain": [
              "[('unilever', 0.6302778720855713),\n",
              " ('amazon', 0.5911853313446045),\n",
              " ('viajante', 0.5587636828422546),\n",
              " ('sky', 0.5560619831085205),\n",
              " ('tesla', 0.5396549105644226),\n",
              " ('walmart', 0.5346637964248657),\n",
              " ('canais', 0.5332616567611694),\n",
              " ('varejista', 0.5294968485832214),\n",
              " ('linkedin', 0.5278860926628113),\n",
              " ('sony', 0.5112634301185608)]"
            ]
          },
          "metadata": {},
          "execution_count": 56
        }
      ]
    },
    {
      "cell_type": "code",
      "source": [
        "w2v_modelo_cbow.wv.most_similar('bmw')"
      ],
      "metadata": {
        "colab": {
          "base_uri": "https://localhost:8080/",
          "height": 191
        },
        "id": "bniq1eVxbVAM",
        "outputId": "cefafb35-8164-4156-d680-0854cc8dead9"
      },
      "execution_count": null,
      "outputs": [
        {
          "output_type": "display_data",
          "data": {
            "text/plain": [
              "<IPython.core.display.HTML object>"
            ],
            "text/html": [
              "\n",
              "  <style>\n",
              "    pre {\n",
              "        white-space: pre-wrap;\n",
              "    }\n",
              "  </style>\n",
              "  "
            ]
          },
          "metadata": {}
        },
        {
          "output_type": "execute_result",
          "data": {
            "text/plain": [
              "[('toyota', 0.613348662853241),\n",
              " ('renault', 0.5565720796585083),\n",
              " ('honda', 0.5401179790496826),\n",
              " ('embraer', 0.5335556268692017),\n",
              " ('sky', 0.5214617252349854),\n",
              " ('bélgica', 0.5075830221176147),\n",
              " ('tesla', 0.5050802230834961),\n",
              " ('chrysler', 0.5025763511657715),\n",
              " ('mercedes', 0.5013681054115295),\n",
              " ('gm', 0.5002136826515198)]"
            ]
          },
          "metadata": {},
          "execution_count": 58
        }
      ]
    },
    {
      "cell_type": "markdown",
      "source": [
        "### Modelo - Skip Gram"
      ],
      "metadata": {
        "id": "1ceOOtaIcx2I"
      }
    },
    {
      "cell_type": "code",
      "source": [
        "%%time\n",
        "# Hiperparâmetros\n",
        "w2v_modelo_sg = Word2Vec(\n",
        "    sg=1,\n",
        "    window=5,  # dizem que é melhor para contextos maiores\n",
        "    size=300,\n",
        "    min_count=5,\n",
        "    alpha=0.03,\n",
        "    min_alpha=0.007\n",
        "    )\n",
        "\n",
        "# Vocabulário\n",
        "w2v_modelo_sg.build_vocab(lista_lista_tokens, progress_per=5000)\n",
        "\n",
        "# Treinamento\n",
        "w2v_modelo_sg.train(\n",
        "    sentences=lista_lista_tokens, \n",
        "    total_examples=w2v_modelo_sg.corpus_count,\n",
        "    epochs=30,\n",
        "    compute_loss = True,\n",
        "    callbacks=[callback()])"
      ],
      "metadata": {
        "colab": {
          "base_uri": "https://localhost:8080/",
          "height": 590
        },
        "id": "akDLuq5Ic0R8",
        "outputId": "174fa11b-765d-4592-9bd9-c48f40308d9e"
      },
      "execution_count": null,
      "outputs": [
        {
          "output_type": "display_data",
          "data": {
            "text/plain": [
              "<IPython.core.display.HTML object>"
            ],
            "text/html": [
              "\n",
              "  <style>\n",
              "    pre {\n",
              "        white-space: pre-wrap;\n",
              "    }\n",
              "  </style>\n",
              "  "
            ]
          },
          "metadata": {}
        },
        {
          "output_type": "stream",
          "name": "stdout",
          "text": [
            "Loss após a época 0: 2076794.0\n",
            "Loss após a época 1: 1546981.75\n",
            "Loss após a época 2: 1169528.75\n",
            "Loss após a época 3: 1118603.5\n",
            "Loss após a época 4: 1128271.5\n",
            "Loss após a época 5: 1030755.0\n",
            "Loss após a época 6: 964937.5\n",
            "Loss após a época 7: 806726.0\n",
            "Loss após a época 8: 878747.0\n",
            "Loss após a época 9: 717549.0\n",
            "Loss após a época 10: 833038.0\n",
            "Loss após a época 11: 811635.0\n",
            "Loss após a época 12: 705693.0\n",
            "Loss após a época 13: 689201.0\n",
            "Loss após a época 14: 711162.0\n",
            "Loss após a época 15: 695146.0\n",
            "Loss após a época 16: 641641.0\n",
            "Loss após a época 17: 592900.0\n",
            "Loss após a época 18: 492404.0\n",
            "Loss após a época 19: 535302.0\n",
            "Loss após a época 20: 467776.0\n",
            "Loss após a época 21: 463268.0\n",
            "Loss após a época 22: 458428.0\n",
            "Loss após a época 23: 470320.0\n",
            "Loss após a época 24: 459272.0\n",
            "Loss após a época 25: 400754.0\n",
            "Loss após a época 26: 398066.0\n",
            "Loss após a época 27: 433624.0\n",
            "Loss após a época 28: 404510.0\n",
            "Loss após a época 29: 400258.0\n",
            "CPU times: user 3min 11s, sys: 591 ms, total: 3min 12s\n",
            "Wall time: 1min 50s\n"
          ]
        },
        {
          "output_type": "execute_result",
          "data": {
            "text/plain": [
              "(14375040, 15975420)"
            ]
          },
          "metadata": {},
          "execution_count": 66
        }
      ]
    },
    {
      "cell_type": "code",
      "source": [
        "w2v_modelo_sg.wv.most_similar('google')"
      ],
      "metadata": {
        "colab": {
          "base_uri": "https://localhost:8080/",
          "height": 191
        },
        "id": "EjQL4FQrdVAq",
        "outputId": "ee5f09e4-dee4-4003-8e3a-0e2abda63cc5"
      },
      "execution_count": null,
      "outputs": [
        {
          "output_type": "display_data",
          "data": {
            "text/plain": [
              "<IPython.core.display.HTML object>"
            ],
            "text/html": [
              "\n",
              "  <style>\n",
              "    pre {\n",
              "        white-space: pre-wrap;\n",
              "    }\n",
              "  </style>\n",
              "  "
            ]
          },
          "metadata": {}
        },
        {
          "output_type": "execute_result",
          "data": {
            "text/plain": [
              "[('reguladores', 0.4379476308822632),\n",
              " ('buffett', 0.418307900428772),\n",
              " ('android', 0.41497597098350525),\n",
              " ('waze', 0.39129090309143066),\n",
              " ('facebook', 0.38948163390159607),\n",
              " ('yahoo', 0.3703403174877167),\n",
              " ('concorda', 0.368610680103302),\n",
              " ('warren', 0.3662242293357849),\n",
              " ('apple', 0.3653578758239746),\n",
              " ('anunciantes', 0.3526855707168579)]"
            ]
          },
          "metadata": {},
          "execution_count": 67
        }
      ]
    },
    {
      "cell_type": "markdown",
      "source": [
        "### Salvando modelo"
      ],
      "metadata": {
        "id": "UFh_r1o2m125"
      }
    },
    {
      "cell_type": "code",
      "source": [
        "w2v_modelo_cbow.wv.save_word2vec_format('modelo_cbow.txt', binary=False)\n",
        "w2v_modelo_sg.wv.save_word2vec_format('modelo_skipgram.txt', binary=False)"
      ],
      "metadata": {
        "colab": {
          "base_uri": "https://localhost:8080/",
          "height": 17
        },
        "id": "utZALotMm-KG",
        "outputId": "306ac1ab-c72a-466e-9787-4aab40ad9103"
      },
      "execution_count": null,
      "outputs": [
        {
          "output_type": "display_data",
          "data": {
            "text/plain": [
              "<IPython.core.display.HTML object>"
            ],
            "text/html": [
              "\n",
              "  <style>\n",
              "    pre {\n",
              "        white-space: pre-wrap;\n",
              "    }\n",
              "  </style>\n",
              "  "
            ]
          },
          "metadata": {}
        }
      ]
    },
    {
      "cell_type": "markdown",
      "source": [
        "### Resumo CBOW x SG"
      ],
      "metadata": {
        "id": "7JfmA4PUm-mw"
      }
    },
    {
      "cell_type": "markdown",
      "source": [
        "| CARACTERÍSTICA | CBOW | SKIP-GRAM |\n",
        "|----------------|------|-----------|\n",
        "|Tempo de treinamento| Menor | Maior|\n",
        "|Tamanho do contexto| Menor | Maior |\n",
        "| Loss           | Maior | Menor |"
      ],
      "metadata": {
        "id": "lA37l16Fdegp"
      }
    },
    {
      "cell_type": "markdown",
      "source": [
        "# Classificação"
      ],
      "metadata": {
        "id": "fkSSR00jmzSI"
      }
    },
    {
      "cell_type": "markdown",
      "source": [
        "## "
      ],
      "metadata": {
        "id": "EhEA0MKmplNJ"
      }
    },
    {
      "cell_type": "code",
      "source": [
        "import spacy\n",
        "import numpy as np\n",
        "import pandas as pd\n",
        "from gensim.models import KeyedVectors\n",
        "\n",
        "nlp = spacy.load(\"pt_core_news_sm\", disable=[\"paser\", \"ner\", \"tagger\", \"textcat\"])  # otimização do nlp"
      ],
      "metadata": {
        "colab": {
          "base_uri": "https://localhost:8080/",
          "height": 17
        },
        "id": "uiWJe4sGp54a",
        "outputId": "a8c114b0-489a-4025-eeed-5d34977d562e"
      },
      "execution_count": null,
      "outputs": [
        {
          "output_type": "display_data",
          "data": {
            "text/plain": [
              "<IPython.core.display.HTML object>"
            ],
            "text/html": [
              "\n",
              "  <style>\n",
              "    pre {\n",
              "        white-space: pre-wrap;\n",
              "    }\n",
              "  </style>\n",
              "  "
            ]
          },
          "metadata": {}
        }
      ]
    },
    {
      "cell_type": "code",
      "source": [
        "# # AMBIENTE\n",
        "# !python -m spacy download pt_core_news_sm\n",
        "\n",
        "# # MODELOS WORD2VEC (em formato txt)\n",
        "# w2v_modelo_cbow = KeyedVectors.load_word2vec_format(\"/content/drive/My Drive/curso_word2vec/modelo_cbow.txt\")\n",
        "# w2v_modelo_sg = KeyedVectors.load_word2vec_format(\"/content/drive/My Drive/curso_word2vec/modelo_skipgram.txt\")\n",
        "\n",
        "# # DADOS\n",
        "# # artigo_treino = pd.read_csv(\"/content/drive/My Drive/curso_word2vec/treino.csv\")\n",
        "# # artigo_teste = pd.read_csv(\"/content/drive/My Drive/curso_word2vec/teste.csv\")\n",
        "# dados_treino = pd.read_csv(uri_treino)\n",
        "# dados_teste = pd.read_csv(uri_teste)"
      ],
      "metadata": {
        "id": "MA-IVVBupndf"
      },
      "execution_count": null,
      "outputs": []
    },
    {
      "cell_type": "code",
      "source": [
        "# Tokenizador do texto\n",
        "def tokenizador(texto):\n",
        "    doc = nlp(texto)\n",
        "    tokens_validos = []\n",
        "    for token in doc:\n",
        "        e_valido = not token.is_stop and token.is_alpha\n",
        "        if e_valido:\n",
        "            texto_lower = token.text.lower()\n",
        "            tokens_validos.append(texto_lower)\n",
        "    return  tokens_validos\n",
        "\n",
        "# Combinação Vetorial do título\n",
        "def combinacao_de_vetores_por_soma(palavras, modelo):\n",
        "    vetor_resultante = np.zeros((1,300))\n",
        "    for pn in palavras:\n",
        "        try:\n",
        "            vetor_resultante += modelo.get_vector(pn)\n",
        "        except KeyError:\n",
        "            pass  # ignore qualquer erro de chave\n",
        "    return vetor_resultante\n",
        "\n",
        "# União dos vetores\n",
        "def matriz_vetores(textos, modelo):\n",
        "    x = len(textos)\n",
        "    y = 300\n",
        "    matriz = np.zeros((x,y))\n",
        "\n",
        "    for i in range(x):\n",
        "        palavras = tokenizador(textos.iloc[i])\n",
        "        matriz[i] = combinacao_de_vetores_por_soma(palavras, modelo)\n",
        "    return matriz"
      ],
      "metadata": {
        "colab": {
          "base_uri": "https://localhost:8080/",
          "height": 17
        },
        "id": "rW0SzV7oqgyp",
        "outputId": "6b3b6bd3-395e-4de4-ca1b-d672b392006e"
      },
      "execution_count": null,
      "outputs": [
        {
          "output_type": "display_data",
          "data": {
            "text/plain": [
              "<IPython.core.display.HTML object>"
            ],
            "text/html": [
              "\n",
              "  <style>\n",
              "    pre {\n",
              "        white-space: pre-wrap;\n",
              "    }\n",
              "  </style>\n",
              "  "
            ]
          },
          "metadata": {}
        }
      ]
    },
    {
      "cell_type": "code",
      "source": [
        "# # TESTES DAS FUNÇÕES\n",
        "# texto = \"Rio de Janeiro 1231231 ***** @#$ é uma cidade maravilhosa!\"\n",
        "# tokens = tokenizador(texto)\n",
        "# print(tokens)\n",
        "\n",
        "# vetor_texto = combinacao_de_vetores_por_soma(tokens, w2v_modelo_cbow)\n",
        "# print(vetor_texto.shape)\n",
        "# print(vetor_texto)"
      ],
      "metadata": {
        "id": "LWTf2Z4tqbII"
      },
      "execution_count": null,
      "outputs": []
    },
    {
      "cell_type": "code",
      "source": [
        "# Modelos em formato Word2Vec Obj \n",
        "# Sem otimizar o processamento de spacy (7min + )\n",
        "# Otimizando ( ? + 1,5min)\n",
        "matriz_vetores_treino_cbow = matriz_vetores(dados_treino['title'], w2v_modelo_cbow.wv)\n",
        "matriz_vetores_teste_cbow = matriz_vetores(dados_teste['title'], w2v_modelo_cbow.wv)\n",
        "\n",
        "print(matriz_vetores_treino_cbow.shape)\n",
        "print(matriz_vetores_teste_cbow.shape) "
      ],
      "metadata": {
        "colab": {
          "base_uri": "https://localhost:8080/",
          "height": 52
        },
        "id": "MdJTKUR2qLyQ",
        "outputId": "32dc7042-4738-4eb8-ccab-6dc81a259d92"
      },
      "execution_count": null,
      "outputs": [
        {
          "output_type": "display_data",
          "data": {
            "text/plain": [
              "<IPython.core.display.HTML object>"
            ],
            "text/html": [
              "\n",
              "  <style>\n",
              "    pre {\n",
              "        white-space: pre-wrap;\n",
              "    }\n",
              "  </style>\n",
              "  "
            ]
          },
          "metadata": {}
        },
        {
          "output_type": "stream",
          "name": "stdout",
          "text": [
            "(90000, 300)\n",
            "(20513, 300)\n"
          ]
        }
      ]
    },
    {
      "cell_type": "code",
      "source": [
        "from sklearn.linear_model import LogisticRegression\n",
        "from sklearn.metrics import classification_report\n",
        "\n",
        "def classificador(x_treino, y_treino, x_teste, y_teste):\n",
        "    RL = LogisticRegression(max_iter=800)\n",
        "    RL.fit(x_treino, y_treino)\n",
        "\n",
        "    categorias = RL.predict(x_teste)\n",
        "    resultados = classification_report(y_teste, categorias)\n",
        "    print(resultados)\n",
        "\n",
        "    return RL"
      ],
      "metadata": {
        "colab": {
          "base_uri": "https://localhost:8080/",
          "height": 17
        },
        "id": "8Tdw3Pf4xTpy",
        "outputId": "83be6648-11a9-4f2b-b843-5eac60f88a23"
      },
      "execution_count": null,
      "outputs": [
        {
          "output_type": "display_data",
          "data": {
            "text/plain": [
              "<IPython.core.display.HTML object>"
            ],
            "text/html": [
              "\n",
              "  <style>\n",
              "    pre {\n",
              "        white-space: pre-wrap;\n",
              "    }\n",
              "  </style>\n",
              "  "
            ]
          },
          "metadata": {}
        }
      ]
    },
    {
      "cell_type": "code",
      "source": [
        "%%time\n",
        "RL_cbow = classificador( \n",
        "                        matriz_vetores_treino_cbow,\n",
        "                        dados_treino['category'],\n",
        "                        matriz_vetores_teste_cbow,\n",
        "                        dados_teste['category'])"
      ],
      "metadata": {
        "colab": {
          "base_uri": "https://localhost:8080/",
          "height": 243
        },
        "id": "exYXkedVyEdA",
        "outputId": "beea4983-f1de-46b1-de65-7ab48544a57f"
      },
      "execution_count": null,
      "outputs": [
        {
          "output_type": "display_data",
          "data": {
            "text/plain": [
              "<IPython.core.display.HTML object>"
            ],
            "text/html": [
              "\n",
              "  <style>\n",
              "    pre {\n",
              "        white-space: pre-wrap;\n",
              "    }\n",
              "  </style>\n",
              "  "
            ]
          },
          "metadata": {}
        },
        {
          "output_type": "stream",
          "name": "stdout",
          "text": [
            "              precision    recall  f1-score   support\n",
            "\n",
            "     colunas       0.81      0.71      0.75      6103\n",
            "   cotidiano       0.63      0.81      0.71      1698\n",
            "     esporte       0.93      0.86      0.89      4663\n",
            "   ilustrada       0.13      0.82      0.22       131\n",
            "     mercado       0.84      0.78      0.81      5867\n",
            "       mundo       0.74      0.84      0.78      2051\n",
            "\n",
            "    accuracy                           0.79     20513\n",
            "   macro avg       0.68      0.80      0.69     20513\n",
            "weighted avg       0.82      0.79      0.80     20513\n",
            "\n"
          ]
        }
      ]
    },
    {
      "cell_type": "code",
      "source": [
        "%%time\n",
        "matriz_vetores_treino_sg = matriz_vetores(dados_treino['title'], w2v_modelo_sg.wv)\n",
        "matriz_vetores_teste_sg = matriz_vetores(dados_teste['title'], w2v_modelo_sg.wv)\n",
        "\n",
        "RL_sg = classificador( \n",
        "    matriz_vetores_treino_sg,\n",
        "    dados_treino['category'],\n",
        "    matriz_vetores_teste_sg,\n",
        "    dados_teste['category'])"
      ],
      "metadata": {
        "colab": {
          "base_uri": "https://localhost:8080/",
          "height": 243
        },
        "id": "bmfoy4A4y0mt",
        "outputId": "b9570327-cb78-41e4-a684-a477809fd323"
      },
      "execution_count": null,
      "outputs": [
        {
          "output_type": "display_data",
          "data": {
            "text/plain": [
              "<IPython.core.display.HTML object>"
            ],
            "text/html": [
              "\n",
              "  <style>\n",
              "    pre {\n",
              "        white-space: pre-wrap;\n",
              "    }\n",
              "  </style>\n",
              "  "
            ]
          },
          "metadata": {}
        },
        {
          "output_type": "stream",
          "name": "stdout",
          "text": [
            "              precision    recall  f1-score   support\n",
            "\n",
            "     colunas       0.81      0.71      0.76      6103\n",
            "   cotidiano       0.64      0.80      0.71      1698\n",
            "     esporte       0.93      0.88      0.90      4663\n",
            "   ilustrada       0.14      0.86      0.24       131\n",
            "     mercado       0.84      0.79      0.82      5867\n",
            "       mundo       0.74      0.85      0.79      2051\n",
            "\n",
            "    accuracy                           0.79     20513\n",
            "   macro avg       0.68      0.81      0.70     20513\n",
            "weighted avg       0.82      0.79      0.80     20513\n",
            "\n"
          ]
        }
      ]
    },
    {
      "cell_type": "markdown",
      "source": [
        "## Salvando classificador"
      ],
      "metadata": {
        "id": "gn3abDUZzzU2"
      }
    },
    {
      "cell_type": "code",
      "source": [
        "import pickle\n",
        "\n",
        "with open('rl_cbow.pkl', 'wb') as file_pkl:\n",
        "    pickle.dump(RL_cbow, file_pkl)\n",
        "\n",
        "with open('rl_sg.pkl', 'wb') as file_pkl:\n",
        "    pickle.dump(RL_sg, file_pkl)"
      ],
      "metadata": {
        "colab": {
          "base_uri": "https://localhost:8080/",
          "height": 17
        },
        "id": "wiLQfde5z1v9",
        "outputId": "0184841a-114a-47fd-8de4-9639ee4ae4c3"
      },
      "execution_count": null,
      "outputs": [
        {
          "output_type": "display_data",
          "data": {
            "text/plain": [
              "<IPython.core.display.HTML object>"
            ],
            "text/html": [
              "\n",
              "  <style>\n",
              "    pre {\n",
              "        white-space: pre-wrap;\n",
              "    }\n",
              "  </style>\n",
              "  "
            ]
          },
          "metadata": {}
        }
      ]
    },
    {
      "cell_type": "markdown",
      "source": [
        "# Disponibilizando o Modelo\n",
        "\n",
        "Iremos usar uma estrutura web feita previamente com o Flask. \n",
        "\n",
        "**1. REPOSITÓRIO**: Para baixar a estrutura fornecida é recomendado usar o `git clone` para ter uma cópia do repositório no local.\n",
        "\n",
        "* [Repositório](https://github.com/tgcsantos/classificador_de_artigos)\n",
        "\n",
        "**2. BIBLIOTECAS**: Depois é preciso construir o ambiente para a aplicação, baixando todas as bibliotecas necessárias.\n",
        "\n",
        "```cmd\n",
        "python -m env env\n",
        "env\\scripts\\activate\n",
        "pip install -r requirements.txt\n",
        "```\n",
        "\n",
        "**3. EXECUÇÃO DO SERVICE**: podemos executar o serviço app e abrir a página com `http://localhost:5000`.\n",
        "\n",
        "```cmd\n",
        "python app.py\n",
        "```"
      ],
      "metadata": {
        "id": "WraBmJ6O8ek7"
      }
    },
    {
      "cell_type": "markdown",
      "source": [
        "## Estrutura do Projeto\n",
        "\n",
        "PASTAS\n",
        "* `data`: contém os dados usados no treinamento e teste do modelo Word2Vec\n",
        "* `models`: contém os modelos de Word2Vec, CBOW e SkipGram, e os modelos de classificação logística.\n",
        "* `notebooks`: os notebooks usados no curso.\n",
        "* `statics` e `templates`: para construir a página HTML\n",
        "* `app.py`: é o aquivo que estrutura o projeto Flask\n",
        "* `utils.py`: possui funções, já criadas no curso, para auxiliar na transformação vetorial das frases inputadas."
      ],
      "metadata": {
        "id": "MMKFRv-78uko"
      }
    },
    {
      "cell_type": "markdown",
      "source": [
        "```python\n",
        "# Author: Thiago Gonçalves Claro dos Santos <thiago.gsantos03@gmail.com>\n",
        "# Github e Twitter: @tgcsantos\n",
        "\n",
        "import pickle\n",
        "from gensim.models import KeyedVectors\n",
        "from flask import Flask, request, render_template\n",
        "\n",
        "from utils import tokenizador, combinacao_de_vetores_por_soma\n",
        "\n",
        "app = Flask(__name__, template_folder=\"templates\")\n",
        "\n",
        "@app.before_first_request\n",
        "def load_models():\n",
        "    \n",
        "    global classificador\n",
        "    global w2v_modelo\n",
        "\n",
        "    w2v_dir = \"models/modelo_skipgram.txt\"\n",
        "    classificador_dir = \"models/rl_sg.pkl\"\n",
        "    w2v_modelo = KeyedVectors.load_word2vec_format(w2v_dir)\n",
        " \n",
        "    with open(classificador_dir, \"rb\") as f:\n",
        "        classificador = pickle.load(f)\n",
        "\n",
        "\n",
        "@app.route('/')\n",
        "def home():\n",
        "    return render_template('index.html')\n",
        "\n",
        "\n",
        "@app.route('/predict',methods=['POST'])\n",
        "def predict():\n",
        "    \n",
        "    # Obtenção do dado inputado pelo usuário\n",
        "    titulo = next(request.form.values())\n",
        "    \n",
        "    # Tokenização da frase fornecida\n",
        "    titulo_tokens = tokenizador(titulo)\n",
        "    # Vetorização combinada da frase\n",
        "    titulo_vetor = combinacao_de_vetores_por_soma(titulo_tokens, w2v_modelo)\n",
        "    # Classificação do vetor\n",
        "    titulo_categoria = classificador.predict(titulo_vetor)\n",
        "\n",
        "    # Apresentação do resultado\n",
        "    output = titulo_categoria[0].capitalize()\n",
        "\n",
        "    return render_template('index.html',\n",
        "                            title='Título: {}'.format(titulo), \n",
        "                            category='Categoria: {}'.format(output))\n",
        "\n",
        "if __name__ == \"__main__\":\n",
        "    app.run(debug=True)\n",
        "\n",
        "```"
      ],
      "metadata": {
        "id": "4K_obniuDWTQ"
      }
    },
    {
      "cell_type": "markdown",
      "source": [
        "> A função predict() classifica o título e retorna render_template, que vai renderizar o arquivo HTML index.html e alterar os valores de title e category."
      ],
      "metadata": {
        "id": "L1B_Uz2EDwzP"
      }
    }
  ]
}