{
  "nbformat": 4,
  "nbformat_minor": 0,
  "metadata": {
    "colab": {
      "provenance": [],
      "toc_visible": true,
      "authorship_tag": "ABX9TyN08hMNG2coapN5e5WisQqW",
      "include_colab_link": true
    },
    "kernelspec": {
      "name": "python3",
      "display_name": "Python 3"
    },
    "language_info": {
      "name": "python"
    }
  },
  "cells": [
    {
      "cell_type": "markdown",
      "metadata": {
        "id": "view-in-github",
        "colab_type": "text"
      },
      "source": [
        "<a href=\"https://colab.research.google.com/github/mbaliu-treino/Desenvolve/blob/main/LEARN_C_MLOps_Deploy_de_Modelos.ipynb\" target=\"_parent\"><img src=\"https://colab.research.google.com/assets/colab-badge.svg\" alt=\"Open In Colab\"/></a>"
      ]
    },
    {
      "cell_type": "markdown",
      "source": [
        "# <font color=orange><b>MLOps: deploy de modelos</b></font>\n",
        "\n",
        "<a href=\"https://colab.research.google.com/drive/1Y_BBzWQ_P2gLtJFdvDrC8yPiZL0HZnBr?authuser=1\"><font size=2; color=gray>Arquivo Colab</a></font>\n",
        "\n",
        "<ul><font size=2 color=gray>FICHA TÉCNICA\n",
        "<li><a href=\"https://cursos.alura.com.br/course/mlops-deploy-modelos\"><font size=2 color=gray>MLOps: deploy de modelos</a>\n",
        "<li>Carga Horária: 8 h\n",
        "<li>Instrutora: Júlio Oliveira\n",
        "<li>Data de Início: 01-2023\n",
        "</ul>\n",
        "\n",
        "\n"
      ],
      "metadata": {
        "id": "JSeHxPLGhvUz"
      }
    },
    {
      "cell_type": "markdown",
      "source": [
        "Nesta aula é abordado uma estratégia de MLOps, etapa de disponibilização de um modelo finalizado, utilizando o framework do Flask."
      ],
      "metadata": {
        "id": "sXTG_jOm8Zk1"
      }
    },
    {
      "cell_type": "markdown",
      "source": [
        "1. Desenvolvimento de API Rest\n",
        "2. Implementação do modelo na API\n",
        "3. Teste da API\n",
        "    * Postme\n",
        "    * Requests do Python"
      ],
      "metadata": {
        "id": "ce0OAnj_ailS"
      }
    },
    {
      "cell_type": "markdown",
      "source": [
        "## <font color=orange><b>Conteúdo</b></font>"
      ],
      "metadata": {
        "id": "Rs0aFUuS6P56"
      }
    },
    {
      "cell_type": "markdown",
      "source": [
        "<font color=orange></font>\n",
        "\n",
        "* <font color=orange>MLOps</font>\n",
        "    * O que é MLOps."
      ],
      "metadata": {
        "id": "v5WkdbDye8BJ"
      }
    },
    {
      "cell_type": "markdown",
      "source": [
        "* Utilizar um padrão de repositório da comunidade de Data Science;\n",
        "* <font color=orange>Estruturar um projeto de Data Science e Flask;</font>\n",
        "    * Cookiecutter;\n",
        "\n",
        "* <font color=orange>Repositório no GitHub;</font>\n",
        "    * Enviar arquivos para o GitHub.\n",
        "\n",
        "* <font color=orange>Servidor no Google Compute Engine;</font>\n",
        "    * Configurar um servidor Flask;\n",
        "    * Liberar regras de Firewall no Compute Engine;\n",
        "    * Executar uma aplicação Flask em um servidor no GCP.\n",
        "\n",
        "* <font color=orange>Serverless Google App Engine</font>\n",
        "    * Utilizar o gcloud sdk;\n",
        "    * Usar arquivos yaml;\n",
        "    * Criar variáveis de ambiente no App Engine;\n",
        "    * Deploy de uma aplicação com App Engine;\n",
        "    * Acessar uma aplicação no App Engine.\n",
        "\n",
        "* <font color=orange>Docker</font>\n",
        "    * Criar um Dockerfile;\n",
        "    * Variáveis de ambiente no Docker;\n",
        "    * Construir containers Docker;\n",
        "    * Enviar imagens Docker para o Container Registry do Google;\n",
        "\n",
        "* <font color=orange>Google Cloud Run</font>\n",
        "    * Executar um container Docker no Google Cloud Run.\n",
        "\n",
        "* <font color=orange>Automatizçaão da Atualização</font>\n",
        "    * Utilizar o GitHub Actions;\n",
        "    * Criar o yaml do GitHub Actions;\n",
        "    * Integrar o Cloud Run ao GitHub Actions;\n",
        "    * Criar uma service account;\n",
        "    * Criar secretes no GitHub Actions;\n",
        "    * Ativar uma pipeline de entrega contínua."
      ],
      "metadata": {
        "id": "0Ou6KZd3-tYf"
      }
    },
    {
      "cell_type": "markdown",
      "source": [
        "## <font color=orange><b>Metodologia</b></font>"
      ],
      "metadata": {
        "id": "zRsFb7okeL9R"
      }
    },
    {
      "cell_type": "markdown",
      "source": [
        "<font color=orange>1. Restruturar repositório</font>\n",
        "\n",
        "1. Padronização das pastas (Cookiecutter)\n",
        "2. Ajustar exposição de credenciais (Variáveis de Sistema)\n",
        "3. Ajustar IP de refêrencia\n",
        "4. Ajustar os caminhos do arquivo PY\n",
        "\n",
        "<font color=orange>2. Repositório no Github</font>\n",
        "\n"
      ],
      "metadata": {
        "id": "CCTY1EbyePJW"
      }
    },
    {
      "cell_type": "markdown",
      "source": [
        "<font color=orange><b>Google Compute Engine</b></font>\n",
        "1. Criação do Servidor\n",
        "2. Configuração do Firewall do servidor\n",
        "3. Construção do ambiente do servidor\n",
        "    * Git, Python e dependências\n",
        "    * Clone do repositório\n",
        "    * Variáveis de ambiente\n",
        "4. Execução do script PY\n",
        "\n",
        "<font color=orange><b>Google App Engine (Serverless)</b></font>\n",
        "1. Arquivo de Configuração YAML\n",
        "2. Ajuste dos arquivos e repositório\n",
        "    * ambiente de produção: `gunicorn`\n",
        "    * Arquivo `mai.py`\n",
        "    * Arquivo `requirements.txt`\n",
        "    * Arquivo `.gitignore`\n",
        "    * Arquivo `app.yaml`\n",
        "    * Arquivo `env_vars.yaml`\n",
        "3. Deploy no Google\n",
        "    * Execução do SDK no CMD\n",
        "\n",
        "<font color=orange><b>Google Cloud Run (Serverless)</b></font>\n",
        "1. Construção do arquivo Dockerfile\n",
        "    * Imagem do ambiente\n",
        "    * Variáveis de ambiente\n",
        "    * Ajustes do ambiente\n",
        "    * Execução da aplicação\n",
        "2. Construção da imagem\n",
        "3. Execução da imagem\n",
        "4. Carga da imagem no Google Container Registry\n",
        "5. Execução do Container no Google Cloud Run\n",
        "\n",
        "<font color=orange><b>Deploy Automatizado</b></font>\n",
        "1. Arquivo de Orquestração\n",
        "2. Variáveis de Ambiente no Github\n",
        "3. API do Google Cloud Build\n",
        "4. Arquivo de configuração do Cloud Build\n",
        "5. Teste"
      ],
      "metadata": {
        "id": "gyymWJMYtFTX"
      }
    },
    {
      "cell_type": "markdown",
      "source": [
        "# <font color=orange><b>CONCEITOS</b></font>\n"
      ],
      "metadata": {
        "id": "ARUfEjcsnUvf"
      }
    },
    {
      "cell_type": "markdown",
      "source": [
        "## <font color=orange><b>ML Ops</b></font>"
      ],
      "metadata": {
        "id": "M9VD1cvdNUXO"
      }
    },
    {
      "cell_type": "markdown",
      "source": [
        "O MLOps é a etapa que vem após a conclusão do modelo. Então vem a etapa de tornar acessível o modelo para outros usuários."
      ],
      "metadata": {
        "id": "T0HnoUK08InE"
      }
    },
    {
      "cell_type": "markdown",
      "source": [
        "## <font color=orange><b>Serviços Google para Deploy</b></font>"
      ],
      "metadata": {
        "id": "bzoW7lNtmVYM"
      }
    },
    {
      "cell_type": "markdown",
      "source": [
        "<font color=orange><b>Google Compute Engine</b></font>\n",
        "\n",
        "Permite a criação de um servidor (virtual) nas máquinas do Google.\n",
        "\n",
        "* VANTAGENS: a sua execução é muito semelhante à execução na máquina local.\n",
        "* DESVANTAGENS: Exige conhecimentos osbre a infraestrutura das máquinas, tais como o OS, o tamanho dela etc. Isso porque será necessário a manutenção manual do Servidor.\n",
        "\n",
        "<font color=orange><b>Google App Engine (Serverless)</b></font>\n",
        "\n",
        "Por se tratar de uma solução Serverless é dispensado o conhecimento de infraestrutura do servidor.\n",
        "\n",
        "* VANTAGENS: não exige conhecimento em infra.\n",
        "* DESVANTAGENS: Não há tanto controle sobre o ambiente de execução;\n",
        "\n",
        "<font color=orange><b>Google Cloud Run (Serverless)</b></font>\n",
        "\n",
        "* VANTAGENS: não exige conhecimento em infra e permite fazer o Deploy através de um Container.\n",
        "* DESVANTAGENS: Exige que seja feita o Build do Container sempre que seja atualizado (mas isso pode ser resolvido através do Github Actions).\n",
        "\n",
        "<font color=orange><b>Deploy Automatizado</b></font>\n",
        "\n",
        "Permite que em toda atualização do Repositório Remoto, uma cadeia de códigos seja executado, para manter o Container no Google Cloud Run atualizado."
      ],
      "metadata": {
        "id": "dTutBdJ8mYSY"
      }
    },
    {
      "cell_type": "markdown",
      "source": [
        "# <font color=orange><b>CURSO</b></font>\n"
      ],
      "metadata": {
        "id": "JrWYJd0qPmJg"
      }
    },
    {
      "cell_type": "markdown",
      "source": [
        "* [Projeto do curso anterior](https://github.com/alura-cursos/1576-mlops-machine-learning/archive/aula-5.zip)\n",
        "\n",
        "Este curso derá prosseguimento ao curso anterior de criação de uma API com Flask. Neste curso será apresentado técnicas de disponibilização da API em servidores fora da máquina local. "
      ],
      "metadata": {
        "id": "O7K-wKbjUee_"
      }
    },
    {
      "cell_type": "markdown",
      "source": [
        "<a href=\"https://github.com/alura-cursos/mlops-alura\"><font size=2 color=gray>Material do curso</font></a>"
      ],
      "metadata": {
        "id": "ZIdDWjN99OQ5"
      }
    },
    {
      "cell_type": "markdown",
      "source": [
        "## <font color=orange><b>1. Reestruturação do Repositório</b></font>\n"
      ],
      "metadata": {
        "id": "lAYMtuaMPpZn"
      }
    },
    {
      "cell_type": "markdown",
      "source": [
        "1. Estrutura do repositório\n",
        "    * Padronização da organização dos arquivos\n",
        "2. Ajustar exposição de credenciais\n",
        "3. Ajustar IP de referência\n",
        "4. Ajustar caminhos no script "
      ],
      "metadata": {
        "id": "YKDsaJDGVFJ7"
      }
    },
    {
      "cell_type": "markdown",
      "source": [
        "### Cookiecutter\n",
        "\n",
        "Para ajudar na criação da estrutura do repositório pode-se usar a biblioteca `Cookiecutter`. Ela ajuda tanto na criação, mas também na visualização de repositórios, por enteder o template dos projetos. \n",
        "\n",
        "O uso de templates de projeto facilita o compartilhamento do projeto e a manutenção por pessoas que não conhecem a ordem do projeto. Isso traz maior performance para as equipes. Desta forma, a documentação sobre a organização dos arquivos se tornam o mesmo em todos os projetos.\n",
        "\n",
        "Ele cria a estrutura segundo um template, o qual deve ser escolhido de acordo com o tipo de projeto que se pretende desenvolver. Neste curso será usado o template do Data Driven, que já bem reconhecido na comunidade."
      ],
      "metadata": {
        "id": "NBZtLiwJVTan"
      }
    },
    {
      "cell_type": "markdown",
      "source": [
        "Instalação da biblioteca:\n",
        "\n",
        "`pip install cookiecutter`\n",
        "\n",
        "Criação do template:\n",
        "\n",
        "`cookiecutter https://github.com/drivendata/cookiecutter-data-science`"
      ],
      "metadata": {
        "id": "pnM9rWKDWu7d"
      }
    },
    {
      "cell_type": "markdown",
      "source": [
        "* Project name: mlops-deploy\n",
        "* Repo name:"
      ],
      "metadata": {
        "id": "9DR1RsXNYMGC"
      }
    },
    {
      "cell_type": "markdown",
      "source": [
        "Depois deve-se transferir os arquivos paras as pastas destinada a eles.\n",
        "\n",
        "Neste caso, o arquivo da API (`main.py`) não possui uma pasta para ele. Então pode-se adaptar:\n",
        "\n",
        "* src > Nova pasta (app) > mover o arquivo"
      ],
      "metadata": {
        "id": "BADcRa2vmP3a"
      }
    },
    {
      "cell_type": "markdown",
      "source": [
        "**Ajustar a exposição das credencias da autenticação:**\n",
        "\n",
        "```python\n",
        "# Basic Auth - Variável de Ambiente\n",
        "app.config['BASIC_AUTH_USERNAME'] = os.environ.get('BASIC_AUTH_USERNAME')\n",
        "app.config['BASIC_AUTH_PASSWORD'] = os.environ.get('BASIC_AUTH_PASSWORD')\n",
        "```\n",
        "\n",
        "No CMD deve-se adicionar as **variáveis de ambiente**:\n",
        "\n",
        "```shell\n",
        "SET BASIC_AUTH_USERNAME=usuario\n",
        "SET BASIC_AUTH_PASSWORD=senha\n",
        "```"
      ],
      "metadata": {
        "id": "d4Rhm2y60_N5"
      }
    },
    {
      "cell_type": "markdown",
      "source": [
        "**Ajustar a propriedade do IP:**\n",
        "\n",
        "Este ajuste evita erros na identificação do IP, já que serão testados diversos sistemas diferentes.\n",
        "\n",
        "```python\n",
        "app.run(debug=True, host='0.0.0.0') \n",
        "```"
      ],
      "metadata": {
        "id": "meTMoQI81Wij"
      }
    },
    {
      "cell_type": "markdown",
      "source": [
        "## <font color=orange><b>2. Repositório Github</b></font>\n"
      ],
      "metadata": {
        "id": "EljRov1EoeVk"
      }
    },
    {
      "cell_type": "markdown",
      "source": [
        "1. Criação de um repositório no Github.\n",
        "2. Subir projeto no repositório remoto\n",
        "\n",
        "```shell\n",
        "git init\n",
        "git add .\n",
        "git commit -m \"first commit\"\n",
        "git branch -M main\n",
        "git remote add origin https://github.com/mbaliu-treino/mlops-alura.git\n",
        "git push -u origin main\n",
        "```"
      ],
      "metadata": {
        "id": "T4pFYAbSoh7j"
      }
    },
    {
      "cell_type": "markdown",
      "source": [
        "## <font color=orange><b>Serviços Google</b></font>\n"
      ],
      "metadata": {
        "id": "BPpFoj5izlEb"
      }
    },
    {
      "cell_type": "markdown",
      "source": [
        "Os [serviços gratuítos](https://cloud.google.com/free/docs/free-cloud-features?hl=pt-br) do Google contemplam:\n",
        "\n",
        "* App Engine: \n",
        "    * 1 GB por dia (ambiente padrão)\n",
        "    * 28 instâncias/hora por dia\n",
        "* [Compute Engine](https://cloud.google.com/compute/all-pricing?hl=pt-br)\n",
        "    * 1 instância e2-micro por mês\n",
        "        * 0.25-2vCPU (1 núcleo compartilhado) e 1 GB de memória\n",
        "* Cloud Deploy\n",
        "* [Cloud Run](https://cloud.google.com/run/pricing?hl=pt-br)\n",
        "    * vCPU: 50 horas/mês\n",
        "    * Memória\n",
        "    * Solicitações: 2 milhões por mês\n",
        "* [Container Registry](https://cloud.google.com/container-registry/pricing/?hl=pt-br)\n",
        "\n",
        "* [Big Query](https://cloud.google.com/bigquery/pricing?hl=pt-br):\n",
        "    * 1 TB de consultas por mês\n",
        "    * 10 GB de armazenamento por mês\n",
        "* [Cloud Storage](https://cloud.google.com/storage/pricing?hl=pt-br)\n",
        "    * 5 GB por mês de armazenamento regional (somente regiões dos EUA, US-WEST1, US-CENTRAL1 e US-EAST1)\n",
        "    * 5.000 operações de Classe A por mês\n",
        "    * 50.000 operações de Classe B por mês\n",
        "    * 1 GB de saída de rede da América do Norte para todos os destinos regionais por mês (exceto China e Austrália)"
      ],
      "metadata": {
        "id": "z7TCXThF_85b"
      }
    },
    {
      "cell_type": "markdown",
      "source": [
        "## <font color=orange><b>A. Google Compute Engine</b></font>\n"
      ],
      "metadata": {
        "id": "bVnlnyR__4Cj"
      }
    },
    {
      "cell_type": "markdown",
      "source": [
        "O Google Compute Engine permite criar um servidor através de uma instância de VM (Virtual Machine) nos servidores do Google."
      ],
      "metadata": {
        "id": "ZpSWoHVEpQw6"
      }
    },
    {
      "cell_type": "markdown",
      "source": [
        "VANTAGENS \n",
        "\n",
        "* Ela é direta, ou seja, o que foi feito na máquina local é igualmente replicado na Máquina Virtual do servidor.\n",
        "\n",
        "DESVANTAGENS\n",
        "\n",
        "* Conhecimento da infraestrutura: é necessário se preocupar com a infraestrutura (tipo do OS, tamanho dela).\n",
        "* Exige a manutenção manual do servidor"
      ],
      "metadata": {
        "id": "tZ33EsKShE0L"
      }
    },
    {
      "cell_type": "markdown",
      "source": [
        "### Criação do Servidor"
      ],
      "metadata": {
        "id": "CnsdsYYx5gOv"
      }
    },
    {
      "cell_type": "markdown",
      "source": [
        "* Compute Engine > Instâncias de VM > Criar...\n",
        "    * Nome> ml-api-server\n",
        "    * Tipo de máquina: escolher o tipo mais adequada para o serviço (uma API simples não requer muito recursos)\n",
        "    * Tipo de Sistema Operacional: qualquer um\n",
        "    * Ativar Firewall HTTP e HTTPS"
      ],
      "metadata": {
        "id": "kYyd8MiwqAuD"
      }
    },
    {
      "cell_type": "markdown",
      "source": [
        "Para os recursos gratuítos do Google Compute Engine deve-se ler as especificações do [Programa Gratuíto](https://cloud.google.com/free/docs/free-cloud-features?authuser=4&hl=pt-br&_ga=2.57704617.-284997901.1670011145#free-tier-usage-limits):\n",
        "\n",
        "* Compute Engine\n",
        "    * 1 instância e2-micro por mês\n",
        "        * 0.25-2vCPU (1 núcleo compartilhado) e 1 GB de \n",
        "        * Disco permanente PADRÃO\n",
        "\n",
        "```shell\n",
        "# Linha de comando GCloud\n",
        "gcloud compute instances create ml-api-server --project=projeto-final-bq-ds-36901 --zone=us-central1-c --machine-type=e2-micro --network-interface=network-tier=PREMIUM,subnet=default --maintenance-policy=MIGRATE --provisioning-model=STANDARD --service-account=10248073126-compute@developer.gserviceaccount.com --scopes=https://www.googleapis.com/auth/devstorage.read_only,https://www.googleapis.com/auth/logging.write,https://www.googleapis.com/auth/monitoring.write,https://www.googleapis.com/auth/servicecontrol,https://www.googleapis.com/auth/service.management.readonly,https://www.googleapis.com/auth/trace.append --tags=http-server,https-server --create-disk=auto-delete=yes,boot=yes,device-name=ml-api-server,image=projects/debian-cloud/global/images/debian-10-buster-v20221206,mode=rw,size=10,type=projects/projeto-final-bq-ds-369013/zones/us-central1-c/diskTypes/pd-standard --no-shielded-secure-boot --shielded-vtpm --shielded-integrity-monitoring --reservation-affinity=any\n",
        "```"
      ],
      "metadata": {
        "id": "sml3YVm6zNEF"
      }
    },
    {
      "cell_type": "markdown",
      "source": [
        "### Configuração do Firewall"
      ],
      "metadata": {
        "id": "ZkBjUcrG5d-P"
      }
    },
    {
      "cell_type": "markdown",
      "source": [
        "Por padrão o Google deixa as portas de entrada bloqueadas. Seguindo o projeto do Flask, deve-se liberar a porta 5000.\n",
        "\n",
        "* IP Externo: é o IP público deste servidor. Com isso é possível acessar em qualquer lugar esta máquina.\n",
        "\n",
        "> 1. Ver detalhes de Rede > Detalhes da Interface da Rede > Clicar em Default > Firewalls\n",
        "\n",
        "> 2. Clicar em default-allow-http > Editar > Alterar a porta de 80 para 5000"
      ],
      "metadata": {
        "id": "1IcTrlXl5oHm"
      }
    },
    {
      "cell_type": "markdown",
      "source": [
        "### Deploy da Aplicação\n",
        "\n",
        "1. Acessar a máquina através da conexão SSH\n",
        "\n",
        "Agora temos acesso à máquina virtual. Ela está totalmente limpa, então é preciso criar todo o ambiente necessário para a aplicação nela. \n",
        "\n",
        "2. Atualizar a MV\n",
        "    * `sudo apt-get update`\n",
        "\n",
        "3. Instalar o Git\n",
        "    * `sudo apt-get install git-all`\n",
        "\n",
        "4. Clonar o repositório do projeto na VM\n",
        "    * `git clone https://github.com/mbaliu-treino/mlops-alura.git`\n",
        "    * `ls`\n",
        "    * `cd mlops-alura`\n",
        "    * `clear`\n",
        "\n",
        "5. Instalar o Python e as dependências\n",
        "    * `sudo apt-get install python3-pip`\n",
        "    * `pip3 install virtualenv --user`\n",
        "    * `virtualenv venv`\n",
        "    * `source venv/bin/activate`\n",
        "    * `pip install -r requirements.txt`\n",
        "    \n",
        "6. Variáveis de ambiente no servidor\n",
        "    * `export BASIC_AUTH_USERNAME=usuario`\n",
        "    * `export BASIC_AUTH_PASSWORD=senha`\n",
        "\n",
        "7. Execução da aplicação\n",
        "    * `clear`\n",
        "    * `cd src/app/`\n",
        "    * `python3 main.py`\n",
        "\n",
        "8. Teste da aplicação\n",
        "    * Substituit o IP do localhost pelo IP externo da VM\n",
        "    * `35.224.203.165:5000/sentimento/O Brasil é maravilhoso`\n",
        "\n",
        "\n",
        "    https://cloud.google.com/python/docs/setup#linux"
      ],
      "metadata": {
        "id": "kFn78rNB8oz7"
      }
    },
    {
      "cell_type": "markdown",
      "source": [
        "- https://cursos.alura.com.br/course/linux-ubuntu\n",
        "- https://cursos.alura.com.br/course/linux-ubuntu-processos\n",
        "- https://cursos.alura.com.br/formacao-certificacao-lpi-linux-essentials"
      ],
      "metadata": {
        "id": "9tVLYGe2IWuq"
      }
    },
    {
      "cell_type": "markdown",
      "source": [
        "## <font color=orange><b>B. Google App Engine (serverless)</b></font>\n"
      ],
      "metadata": {
        "id": "GDO3eleQjcuL"
      }
    },
    {
      "cell_type": "markdown",
      "source": [
        "* FOCO NA APLICAÇÃO E NÃO NO AMBIENTE: Uma vez que a empresa consiga reduzir a quantidade de esforço na configuração do ambiente e servidores, a equipe pode focar mais nas funcionalidades que são perceptíveis pelos clientes.\n",
        "\n",
        "* MENOS PESSOAS ESPECIALIZADAS: Aplicando as melhores práticas para a utilização de ambiente serverless, a empresa pode reduzir a necessidade de ter profissionais apenas para cuidar dos servidores utilizados pela aplicação.\n",
        "\n",
        "* CAMADAS DE SEGURANÇA: Várias das plataformas para deploy de aplicaçãoes em ambiente serverless oferecem por default algumas camadas de segurança para sua aplicação."
      ],
      "metadata": {
        "id": "sFAa8ee8FjVE"
      }
    },
    {
      "cell_type": "markdown",
      "source": [
        "Outras opções semelhantes são:\n",
        "\n",
        "* [Elastic Beanstalk (AWS)](https://aws.amazon.com/pt/elasticbeanstalk/)\n",
        "* [Azure Web Apps](https://azure.microsoft.com/pt-br/services/app-service/web/)\n",
        "* [Dokku](http://dokku.viewdocs.io/dokku/)\n",
        "* [Heroku](https://www.heroku.com/)\n",
        "* [Openshift](https://www.openshift.com/)"
      ],
      "metadata": {
        "id": "pQPG6y55jcuM"
      }
    },
    {
      "cell_type": "markdown",
      "source": [
        "VANTAGENS \n",
        "\n",
        "* Permite não se preocupar com infraestrutura (serverless)\n",
        "\n",
        "DESVANTAGENS\n",
        "\n",
        "* Não possui grande controle sobre o ambiente de execução;"
      ],
      "metadata": {
        "id": "maBsR_95hh-r"
      }
    },
    {
      "cell_type": "markdown",
      "source": [
        "### 1. Arquivos de Configuração do App Engine"
      ],
      "metadata": {
        "id": "fmPTUrVakjUf"
      }
    },
    {
      "cell_type": "markdown",
      "source": [
        "\n",
        "* Na raiz da pasta > `app.yaml`\n",
        "* O arquivp `YAML` é um arquivo muito usado para a configuração dessas aplicações e fluxos.\n",
        "* O ambiente pode ser flex ou standard\n",
        "\n",
        "\n",
        "```yaml\n",
        "runtime: python\n",
        "env: flex\n",
        "entrypoint: gunicorn -b :$PORT main:app\n",
        "\n",
        "runtime_config:\n",
        "    python_version: 3\n",
        "\n",
        "```\n",
        "2. Ambiente de Operação\n",
        "\n",
        "* O `gunicorn` é uma entrada que torna mais robusto o ambiente de produção do servidor.\n",
        "\n",
        "> `pip install gunicorn`\n",
        "\n",
        "3. Ajustar o `main.py`\n",
        "    * Copiar o `main.py` para a pasta raiz.\n",
        "    * Evitar a execução do `app.run` toda vez que for lido\n",
        "        * `if __name__ == '__main__': app.run(...)`\n",
        "\n",
        "4. Ajustar os `requirements.txt`\n",
        "    * Adicionar o `gunicorn`"
      ],
      "metadata": {
        "id": "zTsUsUxdkqAg"
      }
    },
    {
      "cell_type": "markdown",
      "source": [
        "### **Gcloud Deploy**\n",
        "\n",
        "1. Ajustar o `.gitignore`\n",
        "    * `env_vars.yaml`\n",
        "\n",
        "2. VARIÁVEIS DE AMBIENTE\n",
        "    * Novo arquivo na raiz: `env_vars.yaml`\n",
        "\n",
        "```yaml\n",
        "env_varaibles:\n",
        "    BASIC_AUTH_USERNAME: usuario\n",
        "    BASIC_AUTH_PASSWORD: senha\n",
        "```\n",
        "\n",
        "3. Ajustar o `app.yaml`\n",
        "\n",
        "```yaml\n",
        "includes:\n",
        "- env_vars.yaml\n",
        "```\n",
        "\n",
        "4. GOOGLE DEPLOY\n",
        "    1. Na pasta raiz executar o SDK do Google para o deploy\n",
        "    * `gcloud app deploy`\n",
        "    * Ele buscará o arquivo descritivo (`app.yaml`)\n"
      ],
      "metadata": {
        "id": "tk6NCKuzCfNi"
      }
    },
    {
      "cell_type": "markdown",
      "source": [
        "## <font color=orange><b>C. Docker Container + Cloud Run</b></font>\n"
      ],
      "metadata": {
        "id": "x2j-WKq5teHu"
      }
    },
    {
      "cell_type": "markdown",
      "source": [
        "* FOCO NA APLICAÇÃO E NÃO NO AMBIENTE: Uma vez que a empresa consiga reduzir a quantidade de esforço na configuração do ambiente e servidores, a equipe pode focar mais nas funcionalidades que são perceptíveis pelos clientes.\n",
        "\n",
        "* MENOS PESSOAS ESPECIALIZADAS: Aplicando as melhores práticas para a utilização de ambiente serverless, a empresa pode reduzir a necessidade de ter profissionais apenas para cuidar dos servidores utilizados pela aplicação.\n",
        "\n",
        "* CAMADAS DE SEGURANÇA: Várias das plataformas para deploy de aplicaçãoes em ambiente serverless oferecem por default algumas camadas de segurança para sua aplicação."
      ],
      "metadata": {
        "id": "TtA0W_EyteIG"
      }
    },
    {
      "cell_type": "markdown",
      "source": [
        "VANTAGENS \n",
        "\n",
        "* Permite não se preocupar com infraestrutura (serverless)\n",
        "\n",
        "DESVANTAGENS\n",
        "\n",
        "* Exige que seja feita o Build do Container sempre que seja atualizado (mas isso pode ser resolvido através do Github Actions)."
      ],
      "metadata": {
        "id": "t3VLPcnSteIG"
      }
    },
    {
      "cell_type": "markdown",
      "source": [
        "### 1. DOCKERFILE"
      ],
      "metadata": {
        "id": "ZSoML2kUth_A"
      }
    },
    {
      "cell_type": "markdown",
      "source": [
        "\n",
        "\n",
        "* É o arquivo orquestrador do Container, com a indicação de tudo que a aplicação precisa.\n",
        "    * Criar arquivo `Dockerfile`\n",
        "    * Indicar a imagem que será buscado PythonHub\n",
        "    * Copiar os arquivosd para dentro do Docker\n",
        "    \n",
        "```dockerfile\n",
        "# IMAGE\n",
        "FROM python:3.7-slim\n",
        "\n",
        "# VARIÁVEIS DE AMBIENTES OCULTAS\n",
        "ARG BASIC_AUTH_USERNAME_ARG\n",
        "ARG BASIC_AUTH_PASSWORD_ARG\n",
        "\n",
        "ENV BASIC_AUTH_USERNAME=$BASIC_AUTH_USERNAME_ARG\n",
        "ENV BASIC_AUTH_PASSWORD=$BASIC_AUTH_PASSWORD_ARG\n",
        "\n",
        "# AMBIENTE\n",
        "COPY ./requirements.txt /usr/requirements.txt\n",
        "COPY ./src /usr/src\n",
        "COPY ./models /usr/models\n",
        "\n",
        "WORKDIR /usr\n",
        "\n",
        "RUN pip3 install -r requirements.txt\n",
        "\n",
        "# EXECUÇÃO DA APLICAÇÃO\n",
        "ENTRYPOINT [ \"python3\" ]\n",
        "CMD \"src/app/main.py\"\n",
        "```\n",
        "\n",
        "> O comando ‘ARG’ define uma variável que o desenvolvedor pode passar no momento do build usando o ‘--build-arg’. O comando ‘ENV’ define uma variável de ambiente que persiste no container criado a partir da imagem."
      ],
      "metadata": {
        "id": "PMcUjwsZmvl1"
      }
    },
    {
      "cell_type": "markdown",
      "source": [
        "### 2. IMAGEM\n",
        "\n",
        "* Construção da imagem Docker\n",
        "* `docker build -t ml-api --build-arg BASIC_AUTH_USERNAME_ARG=usuario --build-arg BASIC_AUTH_PASSWORD_ARG=senha .`"
      ],
      "metadata": {
        "id": "kRfZkpwPnUny"
      }
    },
    {
      "cell_type": "markdown",
      "source": [
        "### 3. EXECUÇÃO\n",
        "\n",
        "* Execução da imagem Docker\n",
        "* `docker run -p 5000:5000 ml-api"
      ],
      "metadata": {
        "id": "YP3Dz-wNnZKp"
      }
    },
    {
      "cell_type": "markdown",
      "source": [
        "### 4. Google Container Registry\n",
        "1. Criar uma tag:\n",
        "    * `docker tag ml-api gcr.io/<ID do projeto>/ml-api\n",
        "2. Ativar o Container Registry API\n",
        "3. Acessar o Google Cloud pelo CMD\n",
        "    * `gcloud auth configure-docker`\n",
        "4. Enviar a imagem para o GCR:\n",
        "    * `docker push gcr.io/<ID do projeto>/ml-api"
      ],
      "metadata": {
        "id": "BhIAMOLpnhr2"
      }
    },
    {
      "cell_type": "markdown",
      "source": [
        "### 4. GOOGLE CLOUD RUN\n",
        "* Solução Serverless\n",
        "1. Criar serviço...\n",
        "    * Região\n",
        "    * Nome do Serviço: ml-api\n",
        "    * Autenticação: Permitir invocações não autenticadas\n",
        "    * Seleção da imagem no Container Registry\n",
        "2. Configuraç~eos avançadas\n",
        "    * Porta do Container: 5000\n",
        "3. Criar... "
      ],
      "metadata": {
        "id": "86fOWc7crGO1"
      }
    },
    {
      "cell_type": "markdown",
      "source": [
        "## <font color=orange><b>Deploy Automatizado</b></font>\n"
      ],
      "metadata": {
        "id": "hDTTe827tSgn"
      }
    },
    {
      "cell_type": "markdown",
      "source": [
        "Toda vez que é realizada uma alteração no código da API, para que ela seja implementada no *deploy* deve-se repetir todo o processo do deploy, seja pelo Compute Engine, pelo App Engine ou através de Container com o Cloud Run. Isso torna o processo repetitivo e cansativo.\n",
        "\n",
        "Uma alternativa é utilizar um sistema de deploy automatizado. Existem diversas opções no mercado. Aqui será visto a opção do Github Actions que permite a entrega contínua."
      ],
      "metadata": {
        "id": "9IwMzi7fuDou"
      }
    },
    {
      "cell_type": "markdown",
      "source": [
        "### <font color=orange>Github Actions</font>"
      ],
      "metadata": {
        "id": "ysrzekYktYW4"
      }
    },
    {
      "cell_type": "markdown",
      "source": [
        "\n",
        "\n",
        "#### 1. Arquivo de Orquestração\n",
        "\n",
        "* Um arquivo `YAML` que possui toda a orientação de como será esse processo de deploy automatizado pelo Github com o Google Cloud Run.\n",
        "1. Caminho do arquivo\n",
        "    * `.\\.github\\workflows\\cloud-run.yaml`"
      ],
      "metadata": {
        "id": "9NkrTBaErvWK"
      }
    },
    {
      "cell_type": "markdown",
      "source": [
        "```yaml\n",
        "# Copyright 2019 Google, LLC.\n",
        "#\n",
        "# Licensed under the Apache License, Version 2.0 (the \"License\");\n",
        "# you may not use this file except in compliance with the License.\n",
        "# You may obtain a copy of the License at\n",
        "#\n",
        "#    http://www.apache.org/licenses/LICENSE-2.0\n",
        "#\n",
        "# Unless required by applicable law or agreed to in writing, software\n",
        "# distributed under the License is distributed on an \"AS IS\" BASIS,\n",
        "# WITHOUT WARRANTIES OR CONDITIONS OF ANY KIND, either express or implied.\n",
        "# See the License for the specific language governing permissions and\n",
        "# limitations under the License.\n",
        "\n",
        "name: Build and Deploy to Cloud Run\n",
        "\n",
        "# Quando será executado\n",
        "on:\n",
        "  #git push na branch master\n",
        "  push:\n",
        "    branches:\n",
        "    - master\n",
        "    - main\n",
        "\n",
        "env:\n",
        "  PROJECT_ID: ${{ secrets.RUN_PROJECT }}\n",
        "  RUN_REGION: us-central1  #\n",
        "  SERVICE_NAME: ml-api  # nome do servico no Cloud Run\n",
        "  BASIC_AUTH_USERNAME: ${{ secrets.BASIC_AUTH_USERNAME }}  #\n",
        "  BASIC_AUTH_PASSWORD: ${{ secrets.BASIC_AUTH_PASSWORD }}  #\n",
        "\n",
        "jobs:\n",
        "  setup-build-deploy:\n",
        "    name: Setup, Build, and Deploy\n",
        "    runs-on: ubuntu-latest\n",
        "\n",
        "    steps:\n",
        "    - name: Checkout\n",
        "      uses: actions/checkout@v2\n",
        "\n",
        "    # Setup gcloud CLI\n",
        "    - uses: GoogleCloudPlatform/github-actions/setup-gcloud@master\n",
        "      with:\n",
        "        version: '290.0.1'\n",
        "        service_account_key: ${{ secrets.RUN_SA_KEY }}\n",
        "        project_id: ${{ secrets.RUN_PROJECT }}\n",
        "\n",
        "    # Build and push image to Google Container Registry\n",
        "    - name: Build\n",
        "      run: |-\n",
        "        gcloud builds submit \\\n",
        "          --quiet \\\n",
        "          --config cloudbuild.yaml \\\n",
        "          --substitutions _BASIC_AUTH_USERNAME=$BASIC_AUTH_USERNAME,_BASIC_AUTH_PASSWORD=$BASIC_AUTH_PASSWORD,_IMAGE_TAG=gcr.io/$PROJECT_ID/$SERVICE_NAME:$GITHUB_SHA\n",
        "\n",
        "    # Deploy image to Cloud Run\n",
        "    - name: Deploy\n",
        "      run: |-\n",
        "        gcloud run deploy \"$SERVICE_NAME\" \\\n",
        "          --quiet \\\n",
        "          --region \"$RUN_REGION\" \\\n",
        "          --image \"gcr.io/$PROJECT_ID/$SERVICE_NAME:$GITHUB_SHA\" \\\n",
        "          --platform \"managed\" \\\n",
        "          --allow-unauthenticated \\\n",
        "          --port 5000\n",
        "```"
      ],
      "metadata": {
        "id": "jVOtdy880zo3"
      }
    },
    {
      "cell_type": "markdown",
      "source": [
        "#### 2. Variáveis de Ambiente no Github (Secrets)\n",
        "* Dentro do Github, em *Settings* há a opção de *Secrets*. Elas funcionam como variáveis de ambiente para o repositório do Github. Então cria chaves sem acesso aos visualizadores do repositório. Esta opção dispensa a necessidade de definição manual das variáveis toda vez que for executado o deploy.\n",
        "1. Criar as variáveis de ambiente de autenticação\n",
        "2. Criar o secret do RUN_PROJECT: id do projeto\n",
        "3. RUN_SA_KEY: variável de acesso ao GCP\n",
        "    * IAM > Contas de Serviço\n",
        "        * Nome do sewrviço: github-actions\n",
        "        * Descrição: service account para deploy do github actions no cloud run\n",
        "        * Permissões: \n",
        "            * adm do Cloud Run, Editor do Cloud Build, Conta de Serviço do Cloud Build, Visualizador, Usuário de Conta de Serviço\n",
        "\n",
        "4. Criar Chave JSON no Secrets\n",
        "\n"
      ],
      "metadata": {
        "id": "RcrLxA7m1XUZ"
      }
    },
    {
      "cell_type": "markdown",
      "source": [
        "#### 3. Cloud Build\n",
        "* Liberar a API do Google Cloud Build"
      ],
      "metadata": {
        "id": "ogJ1BcFW8VR3"
      }
    },
    {
      "cell_type": "markdown",
      "source": [
        "#### 4. Arquivo `cloudbuild.yaml`\n",
        "\n",
        "```yaml\n",
        "steps:\n",
        "    - name: gcr.io/cloud-builders/docker\n",
        "    # equivalencia docker build -t ml-api --build-arg BASIC_AUTH_USERNAME_ARG=_BASIC_AUTH_USERNAME --build-arg BASIC_AUTH_PASSWORD_ARG=_BASIC_AUTH_PASSWORD .\n",
        "      args: ['build', '--build-arg', 'BASIC_AUTH_USERNAME_ARG=${_BASIC_AUTH_USERNAME}', '--build-arg', 'BASIC_AUTH_PASSWORD_ARG=${_BASIC_AUTH_PASSWORD}', '-t', '$_IMAGE_TAG', '.']\n",
        "images:\n",
        "    - $_IMAGE_TAG\n",
        "```"
      ],
      "metadata": {
        "id": "v0GVWmny4AxS"
      }
    },
    {
      "cell_type": "markdown",
      "source": [
        "**TESTE DO PIPELINE**\n",
        "\n",
        "1. Execução do Git\n",
        "    * `git add .`\n",
        "    * `git commit -m \"Ativando pipeline\"`\n",
        "    * `git push origin:master`\n",
        "2. Verificação do Actions na aba Actions\n",
        "    * É possível verificar como está o processamento do Action\n"
      ],
      "metadata": {
        "id": "10fidBdu8ee_"
      }
    },
    {
      "cell_type": "markdown",
      "source": [
        "\n",
        "\n",
        "---\n",
        "\n"
      ],
      "metadata": {
        "id": "GBUVo3wCUdXu"
      }
    }
  ]
}