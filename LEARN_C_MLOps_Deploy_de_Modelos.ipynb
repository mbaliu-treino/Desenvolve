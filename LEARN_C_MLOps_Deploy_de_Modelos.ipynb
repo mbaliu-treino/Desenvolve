{
  "nbformat": 4,
  "nbformat_minor": 0,
  "metadata": {
    "colab": {
      "provenance": [],
      "toc_visible": true,
      "authorship_tag": "ABX9TyPPPrA116yXOoxEedacBmXP",
      "include_colab_link": true
    },
    "kernelspec": {
      "name": "python3",
      "display_name": "Python 3"
    },
    "language_info": {
      "name": "python"
    }
  },
  "cells": [
    {
      "cell_type": "markdown",
      "metadata": {
        "id": "view-in-github",
        "colab_type": "text"
      },
      "source": [
        "<a href=\"https://colab.research.google.com/github/mbaliu-treino/Desenvolve/blob/main/LEARN_C_MLOps_Deploy_de_Modelos.ipynb\" target=\"_parent\"><img src=\"https://colab.research.google.com/assets/colab-badge.svg\" alt=\"Open In Colab\"/></a>"
      ]
    },
    {
      "cell_type": "markdown",
      "source": [
        "# <font color=orange><b>MLOps: deploy de modelos</b></font>\n",
        "\n",
        "<a href=\"https://colab.research.google.com/drive/1Y_BBzWQ_P2gLtJFdvDrC8yPiZL0HZnBr?authuser=1\"><font size=2; color=gray>Arquivo Colab</a></font>\n",
        "\n",
        "<ul><font size=2 color=gray>FICHA TÉCNICA\n",
        "<li><a href=\"https://cursos.alura.com.br/course/mlops-deploy-modelos\"><font size=2 color=gray>MLOps: deploy de modelos</a>\n",
        "<li>Carga Horária: 8 h\n",
        "<li>Instrutora: Júlio Oliveira\n",
        "<li>Data de Início: 01-2023\n",
        "</ul>\n",
        "\n",
        "\n"
      ],
      "metadata": {
        "id": "JSeHxPLGhvUz"
      }
    },
    {
      "cell_type": "markdown",
      "source": [
        "Nesta aula é abordado uma estratégia de MLOps, etapa de disponibilização de um modelo finalizado, utilizando o framework do Flask."
      ],
      "metadata": {
        "id": "sXTG_jOm8Zk1"
      }
    },
    {
      "cell_type": "markdown",
      "source": [
        "1. Desenvolvimento de API Rest\n",
        "2. Implementação do modelo na API\n",
        "3. Teste da API\n",
        "    * Postme\n",
        "    * Requests do Python"
      ],
      "metadata": {
        "id": "ce0OAnj_ailS"
      }
    },
    {
      "cell_type": "markdown",
      "source": [
        "## <font color=orange><b>Conteúdo</b></font>"
      ],
      "metadata": {
        "id": "Rs0aFUuS6P56"
      }
    },
    {
      "cell_type": "markdown",
      "source": [
        "<font color=orange></font>\n",
        "\n",
        "* <font color=orange>MLOps</font>\n",
        "    * O que é MLOps."
      ],
      "metadata": {
        "id": "v5WkdbDye8BJ"
      }
    },
    {
      "cell_type": "markdown",
      "source": [
        "* Instalar o Cookiecutter;\n",
        "Utilizar um padrão de repositório da comunidade de Data Science;\n",
        "Estruturar um projeto de Data Science e Flask;\n",
        "Criar um repositório no GitHub;\n",
        "Enviar arquivos para o GitHub.\n",
        "Utilizar o gcloud sdk;\n",
        "\n",
        "Usar arquivos yaml;\n",
        "\n",
        "Criar variáveis de ambiente no App Engine;\n",
        "\n",
        "Deploy de uma aplicação com App Engine;\n",
        "\n",
        "Acessar uma aplicação no App Engine."
      ],
      "metadata": {
        "id": "0Ou6KZd3-tYf"
      }
    },
    {
      "cell_type": "markdown",
      "source": [
        "# <font color=orange><b>CONCEITOS</b></font>\n"
      ],
      "metadata": {
        "id": "ARUfEjcsnUvf"
      }
    },
    {
      "cell_type": "markdown",
      "source": [
        "## <font color=orange><b>ML Ops</b></font>"
      ],
      "metadata": {
        "id": "M9VD1cvdNUXO"
      }
    },
    {
      "cell_type": "markdown",
      "source": [
        "O MLOps é a etapa que vem após a conclusão do modelo. Então vem a etapa de tornar acessível o modelo para outros usuários."
      ],
      "metadata": {
        "id": "T0HnoUK08InE"
      }
    },
    {
      "cell_type": "markdown",
      "source": [
        "# <font color=orange><b>CURSO</b></font>\n"
      ],
      "metadata": {
        "id": "JrWYJd0qPmJg"
      }
    },
    {
      "cell_type": "markdown",
      "source": [
        "* [Projeto do curso anterior](https://github.com/alura-cursos/1576-mlops-machine-learning/archive/aula-5.zip)\n",
        "\n",
        "Este curso derá prosseguimento ao curso anterior de criação de uma API com Flask. Neste curso será apresentado técnicas de disponibilização da API em servidores fora da máquina local. "
      ],
      "metadata": {
        "id": "O7K-wKbjUee_"
      }
    },
    {
      "cell_type": "markdown",
      "source": [
        "## <font color=orange><b>1. Reestruturação do Repositório</b></font>\n"
      ],
      "metadata": {
        "id": "lAYMtuaMPpZn"
      }
    },
    {
      "cell_type": "markdown",
      "source": [
        "1. Estrutura do repositório\n",
        "    * Padronização da organização dos arquivos\n",
        "2. Ajustar exposição de credenciais\n",
        "3. Ajustar IP de referência\n",
        "4. Ajustar caminhos no script "
      ],
      "metadata": {
        "id": "YKDsaJDGVFJ7"
      }
    },
    {
      "cell_type": "markdown",
      "source": [
        "### Cookiecutter\n",
        "\n",
        "Para ajudar na criação da estrutura do repositório pode-se usar a biblioteca `Cookiecutter`. Ela ajuda tanto na criação, mas também na visualização de repositórios, por enteder o template dos projetos. \n",
        "\n",
        "O uso de templates de projeto facilita o compartilhamento do projeto e a manutenção por pessoas que não conhecem a ordem do projeto. Isso traz maior performance para as equipes. Desta forma, a documentação sobre a organização dos arquivos se tornam o mesmo em todos os projetos.\n",
        "\n",
        "Ele cria a estrutura segundo um template, o qual deve ser escolhido de acordo com o tipo de projeto que se pretende desenvolver. Neste curso será usado o template do Data Driven, que já bem reconhecido na comunidade."
      ],
      "metadata": {
        "id": "NBZtLiwJVTan"
      }
    },
    {
      "cell_type": "markdown",
      "source": [
        "Instalação da biblioteca:\n",
        "\n",
        "`pip install cookiecutter`\n",
        "\n",
        "Criação do template:\n",
        "\n",
        "`cookiecutter https://github.com/drivendata/cookiecutter-data-science`"
      ],
      "metadata": {
        "id": "pnM9rWKDWu7d"
      }
    },
    {
      "cell_type": "markdown",
      "source": [
        "* Project name: mlops-deploy\n",
        "* Repo name:"
      ],
      "metadata": {
        "id": "9DR1RsXNYMGC"
      }
    },
    {
      "cell_type": "markdown",
      "source": [
        "Depois deve-se transferir os arquivos paras as pastas destinada a eles.\n",
        "\n",
        "Neste caso, o arquivo da API (`main.py`) não possui uma pasta para ele. Então pode-se adaptar:\n",
        "\n",
        "* src > Nova pasta (app) > mover o arquivo"
      ],
      "metadata": {
        "id": "BADcRa2vmP3a"
      }
    },
    {
      "cell_type": "markdown",
      "source": [
        "**Ajustar a exposição das credencias da autenticação:**\n",
        "\n",
        "```python\n",
        "# Basic Auth - Variável de Ambiente\n",
        "app.config['BASIC_AUTH_USERNAME'] = os.environ.get('BASIC_AUTH_USERNAME')\n",
        "app.config['BASIC_AUTH_PASSWORD'] = os.environ.get('BASIC_AUTH_PASSWORD')\n",
        "```\n",
        "\n",
        "No CMD deve-se adicionar as **variáveis de ambiente**:\n",
        "\n",
        "```shell\n",
        "SET BASIC_AUTH_USERNAME=usuario\n",
        "SET BASIC_AUTH_PASSWORD=senha\n",
        "```"
      ],
      "metadata": {
        "id": "d4Rhm2y60_N5"
      }
    },
    {
      "cell_type": "markdown",
      "source": [
        "**Ajustar a propriedade do IP:**\n",
        "\n",
        "Este ajuste evita erros na identificação do IP, já que serão testados diversos sistemas diferentes.\n",
        "\n",
        "```python\n",
        "app.run(debug=True, host='0.0.0.0') \n",
        "```"
      ],
      "metadata": {
        "id": "meTMoQI81Wij"
      }
    },
    {
      "cell_type": "markdown",
      "source": [
        "## <font color=orange><b>2. Repositório Github</b></font>\n"
      ],
      "metadata": {
        "id": "EljRov1EoeVk"
      }
    },
    {
      "cell_type": "markdown",
      "source": [
        "1. Criação de um repositório no Github.\n",
        "2. Subir projeto no repositório remoto\n",
        "\n",
        "```shell\n",
        "git init\n",
        "git add .\n",
        "git commit -m \"first commit\"\n",
        "git branch -M main\n",
        "git remote add origin https://github.com/mbaliu-treino/mlops-alura.git\n",
        "git push -u origin main\n",
        "```"
      ],
      "metadata": {
        "id": "T4pFYAbSoh7j"
      }
    },
    {
      "cell_type": "markdown",
      "source": [
        "Os [serviços gratuítos](https://cloud.google.com/free/docs/free-cloud-features?hl=pt-br) do Google contemplam:\n",
        "\n",
        "* App Engine: \n",
        "    * 1 GB por dia (ambiente padrão)\n",
        "    * 28 instâncias/hora por dia\n",
        "* Compute Engine\n",
        "    * 1 instância e2-micro por mês\n",
        "        * 0.25-2vCPU (1 núcleo compartilhado) e 1 GB de memória\n",
        "* Cloud Deploy\n",
        "\n",
        "* Big Query:\n",
        "    * 1 TB de consultas por mês\n",
        "    * 10 GB de armazenamento por mês\n",
        "* Cloud Storage\n",
        "    * 5 GB por mês de armazenamento regional (somente regiões dos EUA)\n",
        "    * 5.000 operações de Classe A por mês\n",
        "    * 50.000 operações de Classe B por mês\n",
        "    * 1 GB de saída de rede da América do Norte para todos os destinos regionais por mês (exceto China e Austrália)"
      ],
      "metadata": {
        "id": "z7TCXThF_85b"
      }
    },
    {
      "cell_type": "markdown",
      "source": [
        "## <font color=orange><b>A. Google Compute Engine</b></font>\n"
      ],
      "metadata": {
        "id": "bVnlnyR__4Cj"
      }
    },
    {
      "cell_type": "markdown",
      "source": [
        "O Google Compute Engine permite criar um servidor através de uma instância de VM (Virtual Machine) nos servidores do Google."
      ],
      "metadata": {
        "id": "ZpSWoHVEpQw6"
      }
    },
    {
      "cell_type": "markdown",
      "source": [
        "### Criação do Servidor"
      ],
      "metadata": {
        "id": "CnsdsYYx5gOv"
      }
    },
    {
      "cell_type": "markdown",
      "source": [
        "* Compute Engine > Instâncias de VM > Criar...\n",
        "    * Nome> ml-api-server\n",
        "    * Tipo de máquina: escolher o tipo mais adequada para o serviço (uma API simples não requer muito recursos)\n",
        "    * Tipo de Sistema Operacional: qualquer um\n",
        "    * Ativar Firewall HTTP e HTTPS"
      ],
      "metadata": {
        "id": "kYyd8MiwqAuD"
      }
    },
    {
      "cell_type": "markdown",
      "source": [
        "Para os recursos gratuítos do Google Compute Engine deve-se ler as especificações do [Programa Gratuíto](https://cloud.google.com/free/docs/free-cloud-features?authuser=4&hl=pt-br&_ga=2.57704617.-284997901.1670011145#free-tier-usage-limits):\n",
        "\n",
        "* Compute Engine\n",
        "    * 1 instância e2-micro por mês\n",
        "        * 0.25-2vCPU (1 núcleo compartilhado) e 1 GB de \n",
        "        * Disco permanente PADRÃO\n",
        "\n",
        "```shell\n",
        "# Linha de comando GCloud\n",
        "gcloud compute instances create ml-api-server --project=projeto-final-bq-ds-36901 --zone=us-central1-c --machine-type=e2-micro --network-interface=network-tier=PREMIUM,subnet=default --maintenance-policy=MIGRATE --provisioning-model=STANDARD --service-account=10248073126-compute@developer.gserviceaccount.com --scopes=https://www.googleapis.com/auth/devstorage.read_only,https://www.googleapis.com/auth/logging.write,https://www.googleapis.com/auth/monitoring.write,https://www.googleapis.com/auth/servicecontrol,https://www.googleapis.com/auth/service.management.readonly,https://www.googleapis.com/auth/trace.append --tags=http-server,https-server --create-disk=auto-delete=yes,boot=yes,device-name=ml-api-server,image=projects/debian-cloud/global/images/debian-10-buster-v20221206,mode=rw,size=10,type=projects/projeto-final-bq-ds-369013/zones/us-central1-c/diskTypes/pd-standard --no-shielded-secure-boot --shielded-vtpm --shielded-integrity-monitoring --reservation-affinity=any\n",
        "```"
      ],
      "metadata": {
        "id": "sml3YVm6zNEF"
      }
    },
    {
      "cell_type": "markdown",
      "source": [
        "### Configuração do Firewall"
      ],
      "metadata": {
        "id": "ZkBjUcrG5d-P"
      }
    },
    {
      "cell_type": "markdown",
      "source": [
        "Por padrão o Google deixa as portas de entrada bloqueadas. Seguindo o projeto do Flask, deve-se liberar a porta 5000.\n",
        "\n",
        "* IP Externo: é o IP público deste servidor. Com isso é possível acessar em qualquer lugar esta máquina.\n",
        "\n",
        "> 1. Ver detalhes de Rede > Detalhes da Interface da Rede > Clicar em Default > Firewalls\n",
        "\n",
        "> 2. Clicar em default-allow-http > Editar > Alterar a porta de 80 para 5000"
      ],
      "metadata": {
        "id": "1IcTrlXl5oHm"
      }
    },
    {
      "cell_type": "markdown",
      "source": [
        "### Deploy da Aplicação\n",
        "\n",
        "1. Acessar a máquina através da conexão SSH\n",
        "\n",
        "Agora temos acesso à máquina virtual. Ela está totalmente limpa, então é preciso criar todo o ambiente necessário para a aplicação nela. \n",
        "\n",
        "2. Atualizar a MV\n",
        "    * `sudo apt-get update`\n",
        "\n",
        "3. Instalar o Git\n",
        "    * `sudo apt-get install git-all`\n",
        "\n",
        "4. Clonar o repositório do projeto na VM\n",
        "    * `git clone https://github.com/mbaliu-treino/mlops-alura.git`\n",
        "    * `ls`\n",
        "    * `cd mlops-alura`\n",
        "    * `clear`\n",
        "\n",
        "5. Instalar o Python e as dependências\n",
        "    * `sudo apt-get install python3-pip`\n",
        "    * `pip3 install virtualenv --user`\n",
        "    * `virtualenv venv`\n",
        "    * `source venv/bin/activate`\n",
        "    * `pip install -r requirements.txt`\n",
        "    \n",
        "6. Variáveis de ambiente no servidor\n",
        "    * `export BASIC_AUTH_USERNAME=usuario`\n",
        "    * `export BASIC_AUTH_PASSWORD=senha`\n",
        "\n",
        "7. Execução da aplicação\n",
        "    * `clear`\n",
        "    * `cd src/app/`\n",
        "    * `python3 main.py`\n",
        "\n",
        "8. Teste da aplicação\n",
        "    * Substituit o IP do localhost pelo IP externo da VM\n",
        "    * `35.224.203.165:5000/sentimento/O Brasil é maravilhoso`\n",
        "\n",
        "\n",
        "    https://cloud.google.com/python/docs/setup#linux"
      ],
      "metadata": {
        "id": "kFn78rNB8oz7"
      }
    },
    {
      "cell_type": "markdown",
      "source": [
        "- https://cursos.alura.com.br/course/linux-ubuntu\n",
        "- https://cursos.alura.com.br/course/linux-ubuntu-processos\n",
        "- https://cursos.alura.com.br/formacao-certificacao-lpi-linux-essentials"
      ],
      "metadata": {
        "id": "9tVLYGe2IWuq"
      }
    },
    {
      "cell_type": "markdown",
      "source": [
        "## <font color=orange><b>B. Google App Engine</b></font>\n"
      ],
      "metadata": {
        "id": "GDO3eleQjcuL"
      }
    },
    {
      "cell_type": "markdown",
      "source": [
        "O Google Compute Engine permite criar um servidor através de uma instância de VM (Virtual Machine) nos servidores do Google."
      ],
      "metadata": {
        "id": "pQPG6y55jcuM"
      }
    },
    {
      "cell_type": "markdown",
      "source": [
        "\n",
        "\n",
        "---\n",
        "\n"
      ],
      "metadata": {
        "id": "GBUVo3wCUdXu"
      }
    }
  ]
}