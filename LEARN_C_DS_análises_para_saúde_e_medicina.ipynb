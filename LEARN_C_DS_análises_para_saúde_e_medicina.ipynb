{
  "nbformat": 4,
  "nbformat_minor": 0,
  "metadata": {
    "colab": {
      "provenance": [],
      "toc_visible": true,
      "authorship_tag": "ABX9TyOaiWB0evsG8PvuLiHxGDyv",
      "include_colab_link": true
    },
    "kernelspec": {
      "name": "python3",
      "display_name": "Python 3"
    },
    "language_info": {
      "name": "python"
    }
  },
  "cells": [
    {
      "cell_type": "markdown",
      "metadata": {
        "id": "view-in-github",
        "colab_type": "text"
      },
      "source": [
        "<a href=\"https://colab.research.google.com/github/mbaliu-treino/Desenvolve/blob/main/LEARN_C_DS_an%C3%A1lises_para_sa%C3%BAde_e_medicina.ipynb\" target=\"_parent\"><img src=\"https://colab.research.google.com/assets/colab-badge.svg\" alt=\"Open In Colab\"/></a>"
      ]
    },
    {
      "cell_type": "markdown",
      "source": [
        "# <font color=orange><b>Data Science: análises para saúde e medicina</b></font>\n",
        "\n",
        "<font color=gray size=2><a href=\"https://colab.research.google.com/drive/1MpaKNEJPLFIB04tMceI2nqZ-2F33GU3M\">Arquivo Colab</a></font>\n",
        "<!--- Para indicar o arquivo a ser trabalhado a partir do Github, sem ter que criar uma nova cópias --->\n",
        "\n",
        "\n",
        "<ul><font size=2 color=gray><b>FICHA TÉCNICA</b>\n",
        "<li><a href=\"https://cursos.alura.com.br/course/data-science-saude-e-medicina\"><font size=2 color=gray>Data Science: análises para saúde e medicina</a>\n",
        "<li>Carga Horária: 8 h\n",
        "<li>Instrutora: Guilherme Silveira\n",
        "<li>Data de Início: 11-2022\n",
        "</ul>\n",
        "\n",
        "\n",
        "<hr color=gray><br>\n",
        "\n",
        "<!-- DESCRIÇÃO DOS TÓPICOS APRENDIDOS -->\n",
        "<h3><b>Conteúdo / Aprendizagem:</b></h3>\n",
        "\n",
        "- Como **buscar** e **questionar** fontes de dados\n",
        "- Limpeza, processamento, análise, comparação de informações encontradas\n",
        "- Importância de visualizações adequadas\n",
        "- O **espírito crítico** ao levantar **limitações** em seus estudos de dados\n",
        "- Dados de fontes confiáveis como Johns Hopkins e a OMS\n",
        "- A dificuldade de alcançar dados estáveis durante um episódio de epidemia\n",
        "- Taxas de letalidade"
      ],
      "metadata": {
        "id": "tKp6WiIpel_N"
      }
    },
    {
      "cell_type": "markdown",
      "source": [
        "Como usar diversos dados, das mais diversas fontes, para extrair informações e passar mensagens com essas informações. Para isso é importante conhecer saber como contar mensagens com os dados de forma adequada. Assim é importante saber como discutir quais análises são pertinentes e quais mensagens a serem passadas."
      ],
      "metadata": {
        "id": "qKrKq0F6gGJM"
      }
    },
    {
      "cell_type": "markdown",
      "source": [
        "# <font color=orange>RESUMO</font>\n",
        "<!-- DESCRIÇÃO DO PROCESSO DE PROCESAMENTO -->\n",
        "\n",
        "<a href=https://docs.google.com/spreadsheets/d/1tTygYlq9r7nkUsw9a25N5_z57-de_59tSBCIVPw6KUw><font size=2 color=gray>ROTEIROS Data Science</font></a><!-- Planilha de roteiros para Data Science -->\n",
        "\n",
        "* <font color=orange><b>[Em construção]\n",
        "\n"
      ],
      "metadata": {
        "id": "XLGw5JrFFY8e"
      }
    },
    {
      "cell_type": "markdown",
      "source": [
        "# <font color=orange>**CURSO**</font>\n",
        "<!-- Descrição do projeto a ser realizado -->\n",
        "\n",
        "**Projeto**: Para compreender o procedimento correto de construção de uma mensagem com os dados, neste curso será usado dados para o problema da COVID-19, para buscar e analisar os dados, usando código de programação Python. Os processos incluem tratar os dados, limpar os dados e eentender por quê eles estão sujos. Então não basta só saber a ferramenta, mas saber discutir sobre fonte de dados confiáveis e como deixar claro na mensagem os buracos nos dados, sendo justo e honesto na análise."
      ],
      "metadata": {
        "id": "jgg2XMw1vEs_"
      }
    },
    {
      "cell_type": "markdown",
      "source": [
        "<!-- Material final oferecido no curso -->\n",
        "<a href=\"https://github.com/alura-cursos/data-science-e-saude-de-parte-1/archive/master.zip\"><font size=2; color=gray>Material de referencial do curso</a></font>\n"
      ],
      "metadata": {
        "id": "bzJUWzHnlbP_"
      }
    },
    {
      "cell_type": "markdown",
      "source": [
        "## 0 - Ambiente\n",
        "\n",
        "Podemos criar ambientes virtuais para que os projetos não sejam impactados pela quantidade de bibliotecas instaladas."
      ],
      "metadata": {
        "id": "eMYnkF8c8azL"
      }
    }
  ]
}