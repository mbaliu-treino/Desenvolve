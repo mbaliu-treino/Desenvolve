{
  "nbformat": 4,
  "nbformat_minor": 0,
  "metadata": {
    "colab": {
      "name": "LEARN C NLP Word2Vec.ipynb",
      "provenance": [],
      "toc_visible": true,
      "authorship_tag": "ABX9TyOgGd0yGhemoY3L4QkRsfYK",
      "include_colab_link": true
    },
    "kernelspec": {
      "name": "python3",
      "display_name": "Python 3"
    },
    "language_info": {
      "name": "python"
    }
  },
  "cells": [
    {
      "cell_type": "markdown",
      "metadata": {
        "id": "view-in-github",
        "colab_type": "text"
      },
      "source": [
        "<a href=\"https://colab.research.google.com/github/mbaliu-treino/Desenvolve/blob/main/LEARN_C_NLP_Word2Vec.ipynb\" target=\"_parent\"><img src=\"https://colab.research.google.com/assets/colab-badge.svg\" alt=\"Open In Colab\"/></a>"
      ]
    },
    {
      "cell_type": "markdown",
      "source": [
        "# <font color=orange><b>Word2Vec: interpretação da linguagem humana com Word embedding</b></font>\n",
        "\n",
        "<ul><font size=2 color=gray>FICHA TÉCNICA\n",
        "<li><a href=https://cursos.alura.com.br/course/introducao-word-embedding><font size=2 color=gray>Word2Vec: interpretação da linguagem humana com Word embedding</a>\n",
        "<li>Carga Horária: 10 h\n",
        "<li>Instrutora: Thiago G Santos\n",
        "<li>Data de Início: 08-2022\n",
        "</ul>\n",
        "\n",
        "<hr color=gray><br>\n",
        "<h3><b>Conteúdo / Aprendizagem:</b></h3>\n",
        "\n",
        "- "
      ],
      "metadata": {
        "id": "JSeHxPLGhvUz"
      }
    },
    {
      "cell_type": "markdown",
      "source": [
        "# <font color=orange>RESUMO</font>\n",
        "\n",
        "<a href=https://docs.google.com/spreadsheets/d/1tTygYlq9r7nkUsw9a25N5_z57-de_59tSBCIVPw6KUw><font size=2 color=gray>ROTEIROS Data Science</font></a>\n",
        "\n",
        "* <font color=orange><b>"
      ],
      "metadata": {
        "id": "XLGw5JrFFY8e"
      }
    },
    {
      "cell_type": "markdown",
      "source": [
        "# <font color=orange>CURSO</font>\n",
        "\n",
        "**Projeto**: classificador de nóticias de jornal.\n",
        "1. Vetorização de palavras: \n",
        "    - One-Hot-Encoding (Vetor esparso)\n",
        "    - Word2Vec: vetor denso de dimensão fixa\n",
        "\n",
        "Generalização dos contextos das palavras. Esta técnica de vetorização permite operar com a informação do contexto das palavras.\n",
        "\n",
        "**CBOW** - Continous back of words\n",
        "\n",
        "`Moro ____ país.`\n",
        "\n",
        "**SKIP GRAM**\n",
        "\n",
        "`____ França ____`"
      ],
      "metadata": {
        "id": "AGVggbpvRpHf"
      }
    },
    {
      "cell_type": "markdown",
      "source": [
        "<a href=https://github.com/alura-cursos/word2vec/blob/aula6/Aula_6.ipynb><font size=2; color=gray>Material de referencial do curso</a></font>"
      ],
      "metadata": {
        "id": "bzJUWzHnlbP_"
      }
    },
    {
      "cell_type": "markdown",
      "source": [
        "## <font color=orange>Dados</font>\n",
        "\n",
        "A base de dados será a base de conhecimento para o modelo, fornecendo um conhecimento previamente já consolidado que servirá para o treinamento. No NLP, essa base de dados é conhecimento como *corpus textual*.\n",
        "\n"
      ],
      "metadata": {
        "id": "b5ftlE3vG5QY"
      }
    },
    {
      "cell_type": "code",
      "source": [
        "# Para o output do Colab quebrar as linhas longas\n",
        "from IPython.display import HTML, display\n",
        "\n",
        "def set_css():\n",
        "  display(HTML('''\n",
        "  <style>\n",
        "    pre {\n",
        "        white-space: pre-wrap;\n",
        "    }\n",
        "  </style>\n",
        "  '''))\n",
        "\n",
        "get_ipython().events.register('pre_run_cell', set_css)"
      ],
      "metadata": {
        "id": "g4WhDSW1gNEv"
      },
      "execution_count": 1,
      "outputs": []
    },
    {
      "cell_type": "code",
      "source": [
        "uri_treino = 'https://caelum-online-public.s3.amazonaws.com/1638-word-embedding/treino.csv'\n",
        "uri_teste = 'https://caelum-online-public.s3.amazonaws.com/1638-word-embedding/teste.csv'"
      ],
      "metadata": {
        "id": "1K9a2renk_Fx",
        "colab": {
          "base_uri": "https://localhost:8080/",
          "height": 17
        },
        "outputId": "237f037e-7ad5-422f-fc77-6010acd60b62"
      },
      "execution_count": 2,
      "outputs": [
        {
          "output_type": "display_data",
          "data": {
            "text/plain": [
              "<IPython.core.display.HTML object>"
            ],
            "text/html": [
              "\n",
              "  <style>\n",
              "    pre {\n",
              "        white-space: pre-wrap;\n",
              "    }\n",
              "  </style>\n",
              "  "
            ]
          },
          "metadata": {}
        }
      ]
    }
  ]
}