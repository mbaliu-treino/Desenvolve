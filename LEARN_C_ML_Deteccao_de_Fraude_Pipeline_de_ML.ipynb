{
  "nbformat": 4,
  "nbformat_minor": 0,
  "metadata": {
    "colab": {
      "provenance": [],
      "toc_visible": true,
      "authorship_tag": "ABX9TyNgjhBM3A2Zo44OA0RkOCE6",
      "include_colab_link": true
    },
    "kernelspec": {
      "name": "python3",
      "display_name": "Python 3"
    },
    "language_info": {
      "name": "python"
    }
  },
  "cells": [
    {
      "cell_type": "markdown",
      "metadata": {
        "id": "view-in-github",
        "colab_type": "text"
      },
      "source": [
        "<a href=\"https://colab.research.google.com/github/mbaliu-treino/Desenvolve/blob/main/LEARN_C_ML_Deteccao_de_Fraude_Pipeline_de_ML.ipynb\" target=\"_parent\"><img src=\"https://colab.research.google.com/assets/colab-badge.svg\" alt=\"Open In Colab\"/></a>"
      ]
    },
    {
      "cell_type": "markdown",
      "source": [
        "# <font color=orange><b>Modelos preditivos em dados: detecção de fraude</b></font>\n",
        "\n",
        "<a href=\"https://colab.research.google.com/drive/10-ENWLNcgvaNKE3R57BQ4aMYwSMydZf7?authuser=1#scrollTo=JSeHxPLGhvUz\"><font size=2; color=gray>Arquivo Colab</a></font>\n",
        "\n",
        "<ul><font size=2 color=gray>FICHA TÉCNICA\n",
        "<li><a href=\"https://cursos.alura.com.br/course/modelos-preditivos-dados-deteccao-fraude\"><font size=2 color=gray>Modelos preditivos em dados: detecção de fraude</a>\n",
        "<li>Carga Horária: 8 h\n",
        "<li>Instrutora: Sthephanie Premebida\n",
        "<li>Data de Início: 01-2023\n",
        "</ul>\n",
        "\n",
        "\n"
      ],
      "metadata": {
        "id": "JSeHxPLGhvUz"
      }
    },
    {
      "cell_type": "markdown",
      "source": [
        "Neta aula é aprendido sobre o conceito de classificação multi-label, aplicado para uma classificação de texto (NLP). Como caso de aprendizagem, será classificado as perguntas realizadas no Stackoverflow para obtenção de tags, de forma automatizada."
      ],
      "metadata": {
        "id": "sXTG_jOm8Zk1"
      }
    },
    {
      "cell_type": "markdown",
      "source": [
        "## <font color=orange><b>Conteúdo</b></font>"
      ],
      "metadata": {
        "id": "Rs0aFUuS6P56"
      }
    },
    {
      "cell_type": "markdown",
      "source": [
        "<font color=orange></font>\n",
        "* <font color=orange></font>\n",
        "\n",
        "* <font color=orange>Tipos de classificação</font>\n",
        "    * \n",
        "\n",
        "    "
      ],
      "metadata": {
        "id": "v5WkdbDye8BJ"
      }
    },
    {
      "cell_type": "markdown",
      "source": [
        "Explicar as etapas de criação de uma pipeline.\n",
        "Demonstrar o uso de uma pipeline em projetos de machine learning.\n",
        "Explorar os dados com uso das funções describe() e info().\n",
        "Utilizar a biblioteca pandas profiling para obter informações dos dados.\n",
        "Aplicar encoding no conjunto de dados.\n",
        "Explicar a matriz de correlação.\n",
        "Utilizar o modelo de Regressão Logística para detecção de fraudes.\n",
        "Analisar as principais métricas para problemas de classificação.\n",
        "Aplicar o oversampling no banco de dados.\n",
        "Formular hipóteses a partir da análise dos dados.\n",
        "Empregar e utilizar as métricas de avaliação de modelo.\n",
        "Diferenciar undersampling de oversampling.\n",
        "Utilizar o modelo Decision Tree para detecção de fraudes.\n",
        "Utilizar o modelo Random Forest para detecção de fraudes.\n",
        "Escolher a melhor métrica de avaliação dependendo do problema que precisa ser solucionado.\n",
        "Diferenciar o funcionamento da Árvore de Decisão e Random Forest.\n",
        "Utilizar o RandomizedSearch para escolher os hiperparâmetros e melhorar o modelo;\n",
        "Ajustar o modelo para atender a solução do problema; e\n",
        "Definir os melhores hiperparâmetros."
      ],
      "metadata": {
        "id": "WZ1kTMRaptfH"
      }
    },
    {
      "cell_type": "markdown",
      "source": [
        "## <font color=orange><b>Resumo da Metodologia</b></font>"
      ],
      "metadata": {
        "id": "UzYLT_A7B8Y6"
      }
    },
    {
      "cell_type": "markdown",
      "source": [
        "1. Binarização da variável Alvo\n",
        "    1. Labels: categorias únicas\n",
        "    2. Encoding\n",
        "    3. Zip\n",
        "    * sklearn - MultiLabelBinarizer\n",
        "* Vetorização de Texto\n",
        "    1. TF-IDF\n",
        "2. Separação dos dados\n",
        "    1. X e y\n",
        "    2. Traino e Teste\n",
        "3. Classificação Relevância Binária\n",
        "    * Sklearn\n",
        "    * Skl-multilearn\n",
        "4. Classificação em Cadeia\n",
        "    * Skl-multilearn\n",
        "5. Classificação ML-KNN\n",
        "6. Avaliação \n",
        "    * Acurácia (Exact Match)\n",
        "    * Hamming Loss"
      ],
      "metadata": {
        "id": "0Ou6KZd3-tYf"
      }
    },
    {
      "cell_type": "markdown",
      "source": [
        "# <font color=orange><b>CONCEITOS</b></font>\n"
      ],
      "metadata": {
        "id": "ARUfEjcsnUvf"
      }
    },
    {
      "cell_type": "markdown",
      "source": [
        "## <font color=orange><b>Pipeline</b></font>"
      ],
      "metadata": {
        "id": "M9VD1cvdNUXO"
      }
    },
    {
      "cell_type": "markdown",
      "source": [
        "Os projetos de Machine Learning são processos contínuos e issi implica que rotineiramente é retornado aos pontos iniciais.\n",
        "\n",
        "> Em um processo de pipeline, as etapas nem sempre são contínuas. Algumas vezes, é preciso retornar aos passos iniciais do pipeline sempre que for necessário para reformular as análises e continuar o processo. Então, a cadeia não será sempre linear.\n",
        "\n",
        "1. Descobrindo Problema\n",
        "\n",
        "> Definição do problema, para ajudar na busca da solução.\n",
        "\n",
        "2. Coleta de Dados\n",
        "\n",
        "> É a etapa de levantamento das bases, internas e externas, estruturadas ou não. As bases utilizadas precisam estar alinhadas com o problema definido.\n",
        "\n",
        "3. Limpeza e Tratamento de dados\n",
        "\n",
        "> É a etapa de padronização dos dados encontrado para o formato exigido nos modelos que serão usados. Valores faltantes, registros incoerentes e valores atípicos (outliers). O objetivo e tornar os dados facilmente acessíveis pelos modelos.\n",
        "\n",
        "4. Análise Exploratória\n",
        "\n",
        "> Nesta etapa, com os dados tratados e sem valores faltantes, começa-se a buscar padrões, mesmo que ocultos. O objetivo é mapear e entende melhor o problema a ser solucionado.\n",
        "\n",
        "5. Modelagem dos Dados\n",
        "\n",
        "> É a etapa de aplicação dos algorítmos de machine learning para extração de padrões dos dados e resolver o problema de negócio que foi identificado na primeira etapa. Diversos algorítmos são testados e o que apresentar melhor resultado é selecionado.\n",
        "\n",
        "\n",
        "1. Pre-processamento\n",
        "    * Encoding\n",
        "    * Balanceamento\n",
        "    * Separação das Variáveis\n",
        "    * Separação dos conjuntos Treino e Teste\n",
        "2. Modelagem do algorítmo\n",
        "3. Validação\n",
        "\n",
        "6. Interpretação dos Dados\n",
        "\n",
        "> É uma etapa subjetiva e depende da interpretação do cientista de dados. Os resultados obtidos são avaliados, como cada etapa impacta no resultado. Tudo isso servirá para explicação a demais equipes, de forma simples e direta.\n",
        "\n",
        "7. Aplicando melhorias\n",
        "\n",
        "> Com o tempo as análises descritivas e preditivas podem não serem mais válidas. Por causa disso, as revisões são fundamentais para garantir a efetividade do projeto."
      ],
      "metadata": {
        "id": "hGgg64Ugmv02"
      }
    },
    {
      "cell_type": "markdown",
      "source": [
        "![image.png](data:image/png;base64,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)"
      ],
      "metadata": {
        "id": "nsqcEZrQpxIi"
      }
    },
    {
      "cell_type": "markdown",
      "source": [
        "# <font color=orange><b>0. PROBLEMA</b></font>\n"
      ],
      "metadata": {
        "id": "JrWYJd0qPmJg"
      }
    },
    {
      "cell_type": "markdown",
      "source": [
        "O projeto de identificação de fraude consiste em reconhecer os padrões de compras dos clientes e reconhecer comportamentos atípicos. Ou seja, é análise de identificaçãode padrões de fraudes. \n",
        "\n",
        "Os dados disponíveis são da prórpia instituição, ou seja, dados internos. Além disso, eles possuem grande quantidade de **dados sensíveis**. Por este motivo, eles são estruturados de forma anonimizados."
      ],
      "metadata": {
        "id": "O7K-wKbjUee_"
      }
    },
    {
      "cell_type": "markdown",
      "source": [
        "<a href=\"https://caelum-online-public.s3.amazonaws.com/2423-modelos-preditivos-dados/05/Aula-5.zip\"><font size=2 color=gray>Material do curso</font></a>"
      ],
      "metadata": {
        "id": "ZIdDWjN99OQ5"
      }
    },
    {
      "cell_type": "markdown",
      "source": [
        "# <font color=orange><b>1. DADOS</b></font>\n",
        "\n",
        "Etapa de coleta de diversos disponíveis dados."
      ],
      "metadata": {
        "id": "lAYMtuaMPpZn"
      }
    },
    {
      "cell_type": "markdown",
      "source": [
        "* [Documentação dos dados no Kaggle](https://www.kaggle.com/gopalmahadevan/fraud-detection-example)"
      ],
      "metadata": {
        "id": "TXNEAndnqSK2"
      }
    },
    {
      "cell_type": "markdown",
      "source": [
        "Nós vamos usar uma base de dados do Kaggle chamada [Fraud Detection Example](https://www.kaggle.com/gopalmahadevan/fraud-detection-example) e ela tem uma fração de dados do [PaySim](https://github.com/EdgarLopezPhD/PaySim), um simulador de dados financeiros feito exatamente para detecção de fraude."
      ],
      "metadata": {
        "id": "zegDJZcnInbu"
      }
    },
    {
      "cell_type": "markdown",
      "source": [
        "**Variáveis do dataset**\n",
        "\n",
        "**step** - mapeia uma unidade de tempo no mundo real. Neste caso, 1 passo é 1 hora de tempo. Total de etapas 744 (simulação de 30 dias).\n",
        "\n",
        "**type** - CASH-IN, CASH-OUT, DEBIT, PAYMENT and TRANSFER. \n",
        "(caixa-de-entrada, caixa-de-saida, débito, pagamento e transferência)\n",
        "\n",
        "**amount** - valor da transação em moeda local.\n",
        "\n",
        "**nameOrig** - cliente que iniciou a transação\n",
        "\n",
        "**oldbalanceOrg** - saldo inicial antes da transação\n",
        "\n",
        "**newbalanceOrig** - novo saldo após a transação\n",
        "\n",
        "**nameDest** - cliente que é o destinatário da transação\n",
        "\n",
        "**oldbalanceDest** - destinatário do saldo inicial antes da transação. \n",
        "Observe que não há informações para clientes que começam com M (Comerciantes).\n",
        "\n",
        "**newbalanceDest** - novo destinatário do saldo após a transação. Observe que não há informações para clientes que começam com M (Comerciantes).\n",
        "\n",
        "**isFraud** - São as transações feitas pelos agentes fraudulentos dentro da simulação. Neste conjunto de dados específico, o comportamento fraudulento dos agentes visa lucrar ao assumir o controle das contas dos clientes e tentar esvaziar os fundos transferindo para outra conta e depois sacando do sistema.\n",
        "\n",
        "**isFlaggedFraud** - O modelo de negócios visa controlar transferências massivas de uma conta para outra e sinaliza tentativas ilegais. Uma tentativa ilegal neste conjunto de dados é uma tentativa de transferir mais de 200.000 em uma única transação.\n"
      ],
      "metadata": {
        "id": "CgXdNw8NInyO"
      }
    },
    {
      "cell_type": "code",
      "source": [
        "url_dados = 'https://caelum-online-public.s3.amazonaws.com/2423-modelos-preditivos-dados/01/fraud_dataset_example.csv'"
      ],
      "metadata": {
        "id": "z4Ol3UeFqOu3"
      },
      "execution_count": 1,
      "outputs": []
    },
    {
      "cell_type": "code",
      "source": [
        "import pandas as pd\n",
        "\n",
        "dados = pd.read_csv(url_dados)\n",
        "dados.sample(5)"
      ],
      "metadata": {
        "colab": {
          "base_uri": "https://localhost:8080/",
          "height": 270
        },
        "id": "XhriTfjof6xZ",
        "outputId": "5275f646-c8b3-4304-f360-0b457f32460f"
      },
      "execution_count": 2,
      "outputs": [
        {
          "output_type": "execute_result",
          "data": {
            "text/plain": [
              "       step      type      amount     nameOrig  oldbalanceOrg  newbalanceOrig  \\\n",
              "11501     7  CASH_OUT    62777.12   C632184683       23707.18            0.00   \n",
              "57505     9   PAYMENT    11133.23   C775612597       14999.00         3865.77   \n",
              "43726     9  TRANSFER  1039935.34   C162120621           0.00            0.00   \n",
              "78640    10   PAYMENT    40189.14  C1560395931      115426.42        75237.28   \n",
              "55810     9   CASH_IN   150354.78   C263982088     6099194.80      6249549.58   \n",
              "\n",
              "          nameDest  oldbalanceDest  newbalanceDest  isFraud  isFlaggedFraud  \n",
              "11501  C1973538135       102947.56       204873.45        0               0  \n",
              "57505    M13857312            0.00            0.00        0               0  \n",
              "43726  C1982422889      1042180.17      2365852.53        0               0  \n",
              "78640   M605351918            0.00            0.00        0               0  \n",
              "55810   C615098252       292081.71       252242.19        0               0  "
            ],
            "text/html": [
              "\n",
              "  <div id=\"df-aa1ebc57-a081-4074-a8ec-69ce830674c2\">\n",
              "    <div class=\"colab-df-container\">\n",
              "      <div>\n",
              "<style scoped>\n",
              "    .dataframe tbody tr th:only-of-type {\n",
              "        vertical-align: middle;\n",
              "    }\n",
              "\n",
              "    .dataframe tbody tr th {\n",
              "        vertical-align: top;\n",
              "    }\n",
              "\n",
              "    .dataframe thead th {\n",
              "        text-align: right;\n",
              "    }\n",
              "</style>\n",
              "<table border=\"1\" class=\"dataframe\">\n",
              "  <thead>\n",
              "    <tr style=\"text-align: right;\">\n",
              "      <th></th>\n",
              "      <th>step</th>\n",
              "      <th>type</th>\n",
              "      <th>amount</th>\n",
              "      <th>nameOrig</th>\n",
              "      <th>oldbalanceOrg</th>\n",
              "      <th>newbalanceOrig</th>\n",
              "      <th>nameDest</th>\n",
              "      <th>oldbalanceDest</th>\n",
              "      <th>newbalanceDest</th>\n",
              "      <th>isFraud</th>\n",
              "      <th>isFlaggedFraud</th>\n",
              "    </tr>\n",
              "  </thead>\n",
              "  <tbody>\n",
              "    <tr>\n",
              "      <th>11501</th>\n",
              "      <td>7</td>\n",
              "      <td>CASH_OUT</td>\n",
              "      <td>62777.12</td>\n",
              "      <td>C632184683</td>\n",
              "      <td>23707.18</td>\n",
              "      <td>0.00</td>\n",
              "      <td>C1973538135</td>\n",
              "      <td>102947.56</td>\n",
              "      <td>204873.45</td>\n",
              "      <td>0</td>\n",
              "      <td>0</td>\n",
              "    </tr>\n",
              "    <tr>\n",
              "      <th>57505</th>\n",
              "      <td>9</td>\n",
              "      <td>PAYMENT</td>\n",
              "      <td>11133.23</td>\n",
              "      <td>C775612597</td>\n",
              "      <td>14999.00</td>\n",
              "      <td>3865.77</td>\n",
              "      <td>M13857312</td>\n",
              "      <td>0.00</td>\n",
              "      <td>0.00</td>\n",
              "      <td>0</td>\n",
              "      <td>0</td>\n",
              "    </tr>\n",
              "    <tr>\n",
              "      <th>43726</th>\n",
              "      <td>9</td>\n",
              "      <td>TRANSFER</td>\n",
              "      <td>1039935.34</td>\n",
              "      <td>C162120621</td>\n",
              "      <td>0.00</td>\n",
              "      <td>0.00</td>\n",
              "      <td>C1982422889</td>\n",
              "      <td>1042180.17</td>\n",
              "      <td>2365852.53</td>\n",
              "      <td>0</td>\n",
              "      <td>0</td>\n",
              "    </tr>\n",
              "    <tr>\n",
              "      <th>78640</th>\n",
              "      <td>10</td>\n",
              "      <td>PAYMENT</td>\n",
              "      <td>40189.14</td>\n",
              "      <td>C1560395931</td>\n",
              "      <td>115426.42</td>\n",
              "      <td>75237.28</td>\n",
              "      <td>M605351918</td>\n",
              "      <td>0.00</td>\n",
              "      <td>0.00</td>\n",
              "      <td>0</td>\n",
              "      <td>0</td>\n",
              "    </tr>\n",
              "    <tr>\n",
              "      <th>55810</th>\n",
              "      <td>9</td>\n",
              "      <td>CASH_IN</td>\n",
              "      <td>150354.78</td>\n",
              "      <td>C263982088</td>\n",
              "      <td>6099194.80</td>\n",
              "      <td>6249549.58</td>\n",
              "      <td>C615098252</td>\n",
              "      <td>292081.71</td>\n",
              "      <td>252242.19</td>\n",
              "      <td>0</td>\n",
              "      <td>0</td>\n",
              "    </tr>\n",
              "  </tbody>\n",
              "</table>\n",
              "</div>\n",
              "      <button class=\"colab-df-convert\" onclick=\"convertToInteractive('df-aa1ebc57-a081-4074-a8ec-69ce830674c2')\"\n",
              "              title=\"Convert this dataframe to an interactive table.\"\n",
              "              style=\"display:none;\">\n",
              "        \n",
              "  <svg xmlns=\"http://www.w3.org/2000/svg\" height=\"24px\"viewBox=\"0 0 24 24\"\n",
              "       width=\"24px\">\n",
              "    <path d=\"M0 0h24v24H0V0z\" fill=\"none\"/>\n",
              "    <path d=\"M18.56 5.44l.94 2.06.94-2.06 2.06-.94-2.06-.94-.94-2.06-.94 2.06-2.06.94zm-11 1L8.5 8.5l.94-2.06 2.06-.94-2.06-.94L8.5 2.5l-.94 2.06-2.06.94zm10 10l.94 2.06.94-2.06 2.06-.94-2.06-.94-.94-2.06-.94 2.06-2.06.94z\"/><path d=\"M17.41 7.96l-1.37-1.37c-.4-.4-.92-.59-1.43-.59-.52 0-1.04.2-1.43.59L10.3 9.45l-7.72 7.72c-.78.78-.78 2.05 0 2.83L4 21.41c.39.39.9.59 1.41.59.51 0 1.02-.2 1.41-.59l7.78-7.78 2.81-2.81c.8-.78.8-2.07 0-2.86zM5.41 20L4 18.59l7.72-7.72 1.47 1.35L5.41 20z\"/>\n",
              "  </svg>\n",
              "      </button>\n",
              "      \n",
              "  <style>\n",
              "    .colab-df-container {\n",
              "      display:flex;\n",
              "      flex-wrap:wrap;\n",
              "      gap: 12px;\n",
              "    }\n",
              "\n",
              "    .colab-df-convert {\n",
              "      background-color: #E8F0FE;\n",
              "      border: none;\n",
              "      border-radius: 50%;\n",
              "      cursor: pointer;\n",
              "      display: none;\n",
              "      fill: #1967D2;\n",
              "      height: 32px;\n",
              "      padding: 0 0 0 0;\n",
              "      width: 32px;\n",
              "    }\n",
              "\n",
              "    .colab-df-convert:hover {\n",
              "      background-color: #E2EBFA;\n",
              "      box-shadow: 0px 1px 2px rgba(60, 64, 67, 0.3), 0px 1px 3px 1px rgba(60, 64, 67, 0.15);\n",
              "      fill: #174EA6;\n",
              "    }\n",
              "\n",
              "    [theme=dark] .colab-df-convert {\n",
              "      background-color: #3B4455;\n",
              "      fill: #D2E3FC;\n",
              "    }\n",
              "\n",
              "    [theme=dark] .colab-df-convert:hover {\n",
              "      background-color: #434B5C;\n",
              "      box-shadow: 0px 1px 3px 1px rgba(0, 0, 0, 0.15);\n",
              "      filter: drop-shadow(0px 1px 2px rgba(0, 0, 0, 0.3));\n",
              "      fill: #FFFFFF;\n",
              "    }\n",
              "  </style>\n",
              "\n",
              "      <script>\n",
              "        const buttonEl =\n",
              "          document.querySelector('#df-aa1ebc57-a081-4074-a8ec-69ce830674c2 button.colab-df-convert');\n",
              "        buttonEl.style.display =\n",
              "          google.colab.kernel.accessAllowed ? 'block' : 'none';\n",
              "\n",
              "        async function convertToInteractive(key) {\n",
              "          const element = document.querySelector('#df-aa1ebc57-a081-4074-a8ec-69ce830674c2');\n",
              "          const dataTable =\n",
              "            await google.colab.kernel.invokeFunction('convertToInteractive',\n",
              "                                                     [key], {});\n",
              "          if (!dataTable) return;\n",
              "\n",
              "          const docLinkHtml = 'Like what you see? Visit the ' +\n",
              "            '<a target=\"_blank\" href=https://colab.research.google.com/notebooks/data_table.ipynb>data table notebook</a>'\n",
              "            + ' to learn more about interactive tables.';\n",
              "          element.innerHTML = '';\n",
              "          dataTable['output_type'] = 'display_data';\n",
              "          await google.colab.output.renderOutput(dataTable, element);\n",
              "          const docLink = document.createElement('div');\n",
              "          docLink.innerHTML = docLinkHtml;\n",
              "          element.appendChild(docLink);\n",
              "        }\n",
              "      </script>\n",
              "    </div>\n",
              "  </div>\n",
              "  "
            ]
          },
          "metadata": {},
          "execution_count": 2
        }
      ]
    },
    {
      "cell_type": "code",
      "source": [
        "dados.shape"
      ],
      "metadata": {
        "colab": {
          "base_uri": "https://localhost:8080/"
        },
        "id": "ZiX9Y2Q0fhCV",
        "outputId": "90a3bd03-9a7c-4e49-91de-fabfa8d4c020"
      },
      "execution_count": 3,
      "outputs": [
        {
          "output_type": "execute_result",
          "data": {
            "text/plain": [
              "(101613, 11)"
            ]
          },
          "metadata": {},
          "execution_count": 3
        }
      ]
    },
    {
      "cell_type": "code",
      "source": [
        "list(dados.columns)"
      ],
      "metadata": {
        "colab": {
          "base_uri": "https://localhost:8080/"
        },
        "id": "DGHT2NYffrSG",
        "outputId": "57548d47-d211-45ec-a6a4-6a6599aada04"
      },
      "execution_count": 4,
      "outputs": [
        {
          "output_type": "execute_result",
          "data": {
            "text/plain": [
              "['step',\n",
              " 'type',\n",
              " 'amount',\n",
              " 'nameOrig',\n",
              " 'oldbalanceOrg',\n",
              " 'newbalanceOrig',\n",
              " 'nameDest',\n",
              " 'oldbalanceDest',\n",
              " 'newbalanceDest',\n",
              " 'isFraud',\n",
              " 'isFlaggedFraud']"
            ]
          },
          "metadata": {},
          "execution_count": 4
        }
      ]
    },
    {
      "cell_type": "code",
      "source": [
        "dados.dtypes"
      ],
      "metadata": {
        "colab": {
          "base_uri": "https://localhost:8080/"
        },
        "id": "UJ4xpLa_i9JO",
        "outputId": "aaee139f-128e-41da-d523-f223ac553fe9"
      },
      "execution_count": 5,
      "outputs": [
        {
          "output_type": "execute_result",
          "data": {
            "text/plain": [
              "step                int64\n",
              "type               object\n",
              "amount            float64\n",
              "nameOrig           object\n",
              "oldbalanceOrg     float64\n",
              "newbalanceOrig    float64\n",
              "nameDest           object\n",
              "oldbalanceDest    float64\n",
              "newbalanceDest    float64\n",
              "isFraud             int64\n",
              "isFlaggedFraud      int64\n",
              "dtype: object"
            ]
          },
          "metadata": {},
          "execution_count": 5
        }
      ]
    },
    {
      "cell_type": "markdown",
      "source": [
        "# <font color=orange><b>2. TRATAMENTOS</b></font>\n",
        "\n",
        "Etapa de limpeza e tratamento dos dados, com o objetivo de torná-los padronizados e adequados para os modelos."
      ],
      "metadata": {
        "id": "27bw4VLcimnQ"
      }
    },
    {
      "cell_type": "code",
      "source": [
        "# Dicionário com todos os conjuntos de dados\n",
        "dd = {}"
      ],
      "metadata": {
        "id": "S7zzQUtRYqlw"
      },
      "execution_count": 6,
      "outputs": []
    },
    {
      "cell_type": "markdown",
      "source": [
        "## <font color=orange>a. Ordem das colunas</font>"
      ],
      "metadata": {
        "id": "T1K2OuNdjBYO"
      }
    },
    {
      "cell_type": "code",
      "source": [
        "# Rearranjo da ordem das colunas\n",
        "dados = dados[['isFraud', 'isFlaggedFraud', 'step', 'type', 'amount', 'nameOrig', 'oldbalanceOrg', 'newbalanceOrig',\n",
        "       'nameDest', 'oldbalanceDest', 'newbalanceDest']]\n",
        "dados.sample(5)"
      ],
      "metadata": {
        "colab": {
          "base_uri": "https://localhost:8080/",
          "height": 270
        },
        "id": "Cb3mBaUJi2ep",
        "outputId": "7e9d7a6b-b871-4d1e-e368-b8895919755f"
      },
      "execution_count": 7,
      "outputs": [
        {
          "output_type": "execute_result",
          "data": {
            "text/plain": [
              "       isFraud  isFlaggedFraud  step      type     amount     nameOrig  \\\n",
              "9128         0               0     7   PAYMENT     769.58    C70240068   \n",
              "81373        0               0    10   PAYMENT    8026.05   C943575382   \n",
              "76489        0               0    10  CASH_OUT   77914.78  C1140319117   \n",
              "86790        0               0    10   PAYMENT   20011.55    C67883626   \n",
              "10490        0               0     7  TRANSFER  161067.02  C1791919485   \n",
              "\n",
              "       oldbalanceOrg  newbalanceOrig     nameDest  oldbalanceDest  \\\n",
              "9128           260.0            0.00  M1035027959            0.00   \n",
              "81373            0.0            0.00  M1392262698            0.00   \n",
              "76489            0.0            0.00  C1224930612      1054848.96   \n",
              "86790            0.0            0.00   M616545354            0.00   \n",
              "10490       340576.0       179508.98   C232834050            0.00   \n",
              "\n",
              "       newbalanceDest  \n",
              "9128             0.00  \n",
              "81373            0.00  \n",
              "76489      1503438.20  \n",
              "86790            0.00  \n",
              "10490       155491.95  "
            ],
            "text/html": [
              "\n",
              "  <div id=\"df-5ed9fb57-b7dd-4d36-852c-aee2ed7d0bfb\">\n",
              "    <div class=\"colab-df-container\">\n",
              "      <div>\n",
              "<style scoped>\n",
              "    .dataframe tbody tr th:only-of-type {\n",
              "        vertical-align: middle;\n",
              "    }\n",
              "\n",
              "    .dataframe tbody tr th {\n",
              "        vertical-align: top;\n",
              "    }\n",
              "\n",
              "    .dataframe thead th {\n",
              "        text-align: right;\n",
              "    }\n",
              "</style>\n",
              "<table border=\"1\" class=\"dataframe\">\n",
              "  <thead>\n",
              "    <tr style=\"text-align: right;\">\n",
              "      <th></th>\n",
              "      <th>isFraud</th>\n",
              "      <th>isFlaggedFraud</th>\n",
              "      <th>step</th>\n",
              "      <th>type</th>\n",
              "      <th>amount</th>\n",
              "      <th>nameOrig</th>\n",
              "      <th>oldbalanceOrg</th>\n",
              "      <th>newbalanceOrig</th>\n",
              "      <th>nameDest</th>\n",
              "      <th>oldbalanceDest</th>\n",
              "      <th>newbalanceDest</th>\n",
              "    </tr>\n",
              "  </thead>\n",
              "  <tbody>\n",
              "    <tr>\n",
              "      <th>9128</th>\n",
              "      <td>0</td>\n",
              "      <td>0</td>\n",
              "      <td>7</td>\n",
              "      <td>PAYMENT</td>\n",
              "      <td>769.58</td>\n",
              "      <td>C70240068</td>\n",
              "      <td>260.0</td>\n",
              "      <td>0.00</td>\n",
              "      <td>M1035027959</td>\n",
              "      <td>0.00</td>\n",
              "      <td>0.00</td>\n",
              "    </tr>\n",
              "    <tr>\n",
              "      <th>81373</th>\n",
              "      <td>0</td>\n",
              "      <td>0</td>\n",
              "      <td>10</td>\n",
              "      <td>PAYMENT</td>\n",
              "      <td>8026.05</td>\n",
              "      <td>C943575382</td>\n",
              "      <td>0.0</td>\n",
              "      <td>0.00</td>\n",
              "      <td>M1392262698</td>\n",
              "      <td>0.00</td>\n",
              "      <td>0.00</td>\n",
              "    </tr>\n",
              "    <tr>\n",
              "      <th>76489</th>\n",
              "      <td>0</td>\n",
              "      <td>0</td>\n",
              "      <td>10</td>\n",
              "      <td>CASH_OUT</td>\n",
              "      <td>77914.78</td>\n",
              "      <td>C1140319117</td>\n",
              "      <td>0.0</td>\n",
              "      <td>0.00</td>\n",
              "      <td>C1224930612</td>\n",
              "      <td>1054848.96</td>\n",
              "      <td>1503438.20</td>\n",
              "    </tr>\n",
              "    <tr>\n",
              "      <th>86790</th>\n",
              "      <td>0</td>\n",
              "      <td>0</td>\n",
              "      <td>10</td>\n",
              "      <td>PAYMENT</td>\n",
              "      <td>20011.55</td>\n",
              "      <td>C67883626</td>\n",
              "      <td>0.0</td>\n",
              "      <td>0.00</td>\n",
              "      <td>M616545354</td>\n",
              "      <td>0.00</td>\n",
              "      <td>0.00</td>\n",
              "    </tr>\n",
              "    <tr>\n",
              "      <th>10490</th>\n",
              "      <td>0</td>\n",
              "      <td>0</td>\n",
              "      <td>7</td>\n",
              "      <td>TRANSFER</td>\n",
              "      <td>161067.02</td>\n",
              "      <td>C1791919485</td>\n",
              "      <td>340576.0</td>\n",
              "      <td>179508.98</td>\n",
              "      <td>C232834050</td>\n",
              "      <td>0.00</td>\n",
              "      <td>155491.95</td>\n",
              "    </tr>\n",
              "  </tbody>\n",
              "</table>\n",
              "</div>\n",
              "      <button class=\"colab-df-convert\" onclick=\"convertToInteractive('df-5ed9fb57-b7dd-4d36-852c-aee2ed7d0bfb')\"\n",
              "              title=\"Convert this dataframe to an interactive table.\"\n",
              "              style=\"display:none;\">\n",
              "        \n",
              "  <svg xmlns=\"http://www.w3.org/2000/svg\" height=\"24px\"viewBox=\"0 0 24 24\"\n",
              "       width=\"24px\">\n",
              "    <path d=\"M0 0h24v24H0V0z\" fill=\"none\"/>\n",
              "    <path d=\"M18.56 5.44l.94 2.06.94-2.06 2.06-.94-2.06-.94-.94-2.06-.94 2.06-2.06.94zm-11 1L8.5 8.5l.94-2.06 2.06-.94-2.06-.94L8.5 2.5l-.94 2.06-2.06.94zm10 10l.94 2.06.94-2.06 2.06-.94-2.06-.94-.94-2.06-.94 2.06-2.06.94z\"/><path d=\"M17.41 7.96l-1.37-1.37c-.4-.4-.92-.59-1.43-.59-.52 0-1.04.2-1.43.59L10.3 9.45l-7.72 7.72c-.78.78-.78 2.05 0 2.83L4 21.41c.39.39.9.59 1.41.59.51 0 1.02-.2 1.41-.59l7.78-7.78 2.81-2.81c.8-.78.8-2.07 0-2.86zM5.41 20L4 18.59l7.72-7.72 1.47 1.35L5.41 20z\"/>\n",
              "  </svg>\n",
              "      </button>\n",
              "      \n",
              "  <style>\n",
              "    .colab-df-container {\n",
              "      display:flex;\n",
              "      flex-wrap:wrap;\n",
              "      gap: 12px;\n",
              "    }\n",
              "\n",
              "    .colab-df-convert {\n",
              "      background-color: #E8F0FE;\n",
              "      border: none;\n",
              "      border-radius: 50%;\n",
              "      cursor: pointer;\n",
              "      display: none;\n",
              "      fill: #1967D2;\n",
              "      height: 32px;\n",
              "      padding: 0 0 0 0;\n",
              "      width: 32px;\n",
              "    }\n",
              "\n",
              "    .colab-df-convert:hover {\n",
              "      background-color: #E2EBFA;\n",
              "      box-shadow: 0px 1px 2px rgba(60, 64, 67, 0.3), 0px 1px 3px 1px rgba(60, 64, 67, 0.15);\n",
              "      fill: #174EA6;\n",
              "    }\n",
              "\n",
              "    [theme=dark] .colab-df-convert {\n",
              "      background-color: #3B4455;\n",
              "      fill: #D2E3FC;\n",
              "    }\n",
              "\n",
              "    [theme=dark] .colab-df-convert:hover {\n",
              "      background-color: #434B5C;\n",
              "      box-shadow: 0px 1px 3px 1px rgba(0, 0, 0, 0.15);\n",
              "      filter: drop-shadow(0px 1px 2px rgba(0, 0, 0, 0.3));\n",
              "      fill: #FFFFFF;\n",
              "    }\n",
              "  </style>\n",
              "\n",
              "      <script>\n",
              "        const buttonEl =\n",
              "          document.querySelector('#df-5ed9fb57-b7dd-4d36-852c-aee2ed7d0bfb button.colab-df-convert');\n",
              "        buttonEl.style.display =\n",
              "          google.colab.kernel.accessAllowed ? 'block' : 'none';\n",
              "\n",
              "        async function convertToInteractive(key) {\n",
              "          const element = document.querySelector('#df-5ed9fb57-b7dd-4d36-852c-aee2ed7d0bfb');\n",
              "          const dataTable =\n",
              "            await google.colab.kernel.invokeFunction('convertToInteractive',\n",
              "                                                     [key], {});\n",
              "          if (!dataTable) return;\n",
              "\n",
              "          const docLinkHtml = 'Like what you see? Visit the ' +\n",
              "            '<a target=\"_blank\" href=https://colab.research.google.com/notebooks/data_table.ipynb>data table notebook</a>'\n",
              "            + ' to learn more about interactive tables.';\n",
              "          element.innerHTML = '';\n",
              "          dataTable['output_type'] = 'display_data';\n",
              "          await google.colab.output.renderOutput(dataTable, element);\n",
              "          const docLink = document.createElement('div');\n",
              "          docLink.innerHTML = docLinkHtml;\n",
              "          element.appendChild(docLink);\n",
              "        }\n",
              "      </script>\n",
              "    </div>\n",
              "  </div>\n",
              "  "
            ]
          },
          "metadata": {},
          "execution_count": 7
        }
      ]
    },
    {
      "cell_type": "markdown",
      "source": [
        "## <font color=orange>b. Renomeação das colunas</font>"
      ],
      "metadata": {
        "id": "Aw_nCskzjfwV"
      }
    },
    {
      "cell_type": "code",
      "source": [
        "# Dicionário de conversão\n",
        "colunas = {\n",
        "    'isFraud': 'fraude',\n",
        "    'isFlaggedFraud':'super_fraude',\n",
        "    'step':'tempo',\n",
        "    'type':'tipo',\n",
        "    'amount':'valor',\n",
        "    'nameOrig':'cliente1',\n",
        "    'oldbalanceOrg':'saldo_inicial_c1',\n",
        "    'newbalanceOrig':'novo_saldo_c1',\n",
        "    'nameDest':'cliente2',\n",
        "    'oldbalanceDest':'saldo_inicial_c2',\n",
        "    'newbalanceDest':'novo_saldo_c2',\n",
        "}\n",
        "\n",
        "dados = dados.rename(columns=colunas)\n",
        "dados.sample(3)"
      ],
      "metadata": {
        "id": "WVv3nNpVK382",
        "colab": {
          "base_uri": "https://localhost:8080/",
          "height": 207
        },
        "outputId": "10152407-14d7-4cb5-9950-6fdd5a1c64ad"
      },
      "execution_count": 8,
      "outputs": [
        {
          "output_type": "execute_result",
          "data": {
            "text/plain": [
              "       fraude  super_fraude  tempo      tipo      valor     cliente1  \\\n",
              "81923       0             0     10  CASH_OUT   23992.17  C1736402213   \n",
              "61096       0             0      9   PAYMENT   13394.21   C167748893   \n",
              "65277       0             0      9  CASH_OUT  358740.11   C738022437   \n",
              "\n",
              "       saldo_inicial_c1  novo_saldo_c1     cliente2  saldo_inicial_c2  \\\n",
              "81923               0.0           0.00  C1748529283         557784.62   \n",
              "61096           49780.0       36385.79    M86438514              0.00   \n",
              "65277           15787.0           0.00   C183560612         886322.39   \n",
              "\n",
              "       novo_saldo_c2  \n",
              "81923      799577.68  \n",
              "61096           0.00  \n",
              "65277      907019.36  "
            ],
            "text/html": [
              "\n",
              "  <div id=\"df-67a6934a-3681-4aae-8d6e-da7317952327\">\n",
              "    <div class=\"colab-df-container\">\n",
              "      <div>\n",
              "<style scoped>\n",
              "    .dataframe tbody tr th:only-of-type {\n",
              "        vertical-align: middle;\n",
              "    }\n",
              "\n",
              "    .dataframe tbody tr th {\n",
              "        vertical-align: top;\n",
              "    }\n",
              "\n",
              "    .dataframe thead th {\n",
              "        text-align: right;\n",
              "    }\n",
              "</style>\n",
              "<table border=\"1\" class=\"dataframe\">\n",
              "  <thead>\n",
              "    <tr style=\"text-align: right;\">\n",
              "      <th></th>\n",
              "      <th>fraude</th>\n",
              "      <th>super_fraude</th>\n",
              "      <th>tempo</th>\n",
              "      <th>tipo</th>\n",
              "      <th>valor</th>\n",
              "      <th>cliente1</th>\n",
              "      <th>saldo_inicial_c1</th>\n",
              "      <th>novo_saldo_c1</th>\n",
              "      <th>cliente2</th>\n",
              "      <th>saldo_inicial_c2</th>\n",
              "      <th>novo_saldo_c2</th>\n",
              "    </tr>\n",
              "  </thead>\n",
              "  <tbody>\n",
              "    <tr>\n",
              "      <th>81923</th>\n",
              "      <td>0</td>\n",
              "      <td>0</td>\n",
              "      <td>10</td>\n",
              "      <td>CASH_OUT</td>\n",
              "      <td>23992.17</td>\n",
              "      <td>C1736402213</td>\n",
              "      <td>0.0</td>\n",
              "      <td>0.00</td>\n",
              "      <td>C1748529283</td>\n",
              "      <td>557784.62</td>\n",
              "      <td>799577.68</td>\n",
              "    </tr>\n",
              "    <tr>\n",
              "      <th>61096</th>\n",
              "      <td>0</td>\n",
              "      <td>0</td>\n",
              "      <td>9</td>\n",
              "      <td>PAYMENT</td>\n",
              "      <td>13394.21</td>\n",
              "      <td>C167748893</td>\n",
              "      <td>49780.0</td>\n",
              "      <td>36385.79</td>\n",
              "      <td>M86438514</td>\n",
              "      <td>0.00</td>\n",
              "      <td>0.00</td>\n",
              "    </tr>\n",
              "    <tr>\n",
              "      <th>65277</th>\n",
              "      <td>0</td>\n",
              "      <td>0</td>\n",
              "      <td>9</td>\n",
              "      <td>CASH_OUT</td>\n",
              "      <td>358740.11</td>\n",
              "      <td>C738022437</td>\n",
              "      <td>15787.0</td>\n",
              "      <td>0.00</td>\n",
              "      <td>C183560612</td>\n",
              "      <td>886322.39</td>\n",
              "      <td>907019.36</td>\n",
              "    </tr>\n",
              "  </tbody>\n",
              "</table>\n",
              "</div>\n",
              "      <button class=\"colab-df-convert\" onclick=\"convertToInteractive('df-67a6934a-3681-4aae-8d6e-da7317952327')\"\n",
              "              title=\"Convert this dataframe to an interactive table.\"\n",
              "              style=\"display:none;\">\n",
              "        \n",
              "  <svg xmlns=\"http://www.w3.org/2000/svg\" height=\"24px\"viewBox=\"0 0 24 24\"\n",
              "       width=\"24px\">\n",
              "    <path d=\"M0 0h24v24H0V0z\" fill=\"none\"/>\n",
              "    <path d=\"M18.56 5.44l.94 2.06.94-2.06 2.06-.94-2.06-.94-.94-2.06-.94 2.06-2.06.94zm-11 1L8.5 8.5l.94-2.06 2.06-.94-2.06-.94L8.5 2.5l-.94 2.06-2.06.94zm10 10l.94 2.06.94-2.06 2.06-.94-2.06-.94-.94-2.06-.94 2.06-2.06.94z\"/><path d=\"M17.41 7.96l-1.37-1.37c-.4-.4-.92-.59-1.43-.59-.52 0-1.04.2-1.43.59L10.3 9.45l-7.72 7.72c-.78.78-.78 2.05 0 2.83L4 21.41c.39.39.9.59 1.41.59.51 0 1.02-.2 1.41-.59l7.78-7.78 2.81-2.81c.8-.78.8-2.07 0-2.86zM5.41 20L4 18.59l7.72-7.72 1.47 1.35L5.41 20z\"/>\n",
              "  </svg>\n",
              "      </button>\n",
              "      \n",
              "  <style>\n",
              "    .colab-df-container {\n",
              "      display:flex;\n",
              "      flex-wrap:wrap;\n",
              "      gap: 12px;\n",
              "    }\n",
              "\n",
              "    .colab-df-convert {\n",
              "      background-color: #E8F0FE;\n",
              "      border: none;\n",
              "      border-radius: 50%;\n",
              "      cursor: pointer;\n",
              "      display: none;\n",
              "      fill: #1967D2;\n",
              "      height: 32px;\n",
              "      padding: 0 0 0 0;\n",
              "      width: 32px;\n",
              "    }\n",
              "\n",
              "    .colab-df-convert:hover {\n",
              "      background-color: #E2EBFA;\n",
              "      box-shadow: 0px 1px 2px rgba(60, 64, 67, 0.3), 0px 1px 3px 1px rgba(60, 64, 67, 0.15);\n",
              "      fill: #174EA6;\n",
              "    }\n",
              "\n",
              "    [theme=dark] .colab-df-convert {\n",
              "      background-color: #3B4455;\n",
              "      fill: #D2E3FC;\n",
              "    }\n",
              "\n",
              "    [theme=dark] .colab-df-convert:hover {\n",
              "      background-color: #434B5C;\n",
              "      box-shadow: 0px 1px 3px 1px rgba(0, 0, 0, 0.15);\n",
              "      filter: drop-shadow(0px 1px 2px rgba(0, 0, 0, 0.3));\n",
              "      fill: #FFFFFF;\n",
              "    }\n",
              "  </style>\n",
              "\n",
              "      <script>\n",
              "        const buttonEl =\n",
              "          document.querySelector('#df-67a6934a-3681-4aae-8d6e-da7317952327 button.colab-df-convert');\n",
              "        buttonEl.style.display =\n",
              "          google.colab.kernel.accessAllowed ? 'block' : 'none';\n",
              "\n",
              "        async function convertToInteractive(key) {\n",
              "          const element = document.querySelector('#df-67a6934a-3681-4aae-8d6e-da7317952327');\n",
              "          const dataTable =\n",
              "            await google.colab.kernel.invokeFunction('convertToInteractive',\n",
              "                                                     [key], {});\n",
              "          if (!dataTable) return;\n",
              "\n",
              "          const docLinkHtml = 'Like what you see? Visit the ' +\n",
              "            '<a target=\"_blank\" href=https://colab.research.google.com/notebooks/data_table.ipynb>data table notebook</a>'\n",
              "            + ' to learn more about interactive tables.';\n",
              "          element.innerHTML = '';\n",
              "          dataTable['output_type'] = 'display_data';\n",
              "          await google.colab.output.renderOutput(dataTable, element);\n",
              "          const docLink = document.createElement('div');\n",
              "          docLink.innerHTML = docLinkHtml;\n",
              "          element.appendChild(docLink);\n",
              "        }\n",
              "      </script>\n",
              "    </div>\n",
              "  </div>\n",
              "  "
            ]
          },
          "metadata": {},
          "execution_count": 8
        }
      ]
    },
    {
      "cell_type": "markdown",
      "source": [
        "## <font color=orange>c. Encoding</font>"
      ],
      "metadata": {
        "id": "gMmxj9-1UFFh"
      }
    },
    {
      "cell_type": "markdown",
      "source": [
        "#### **Tipos de encoding**\n",
        "\n",
        "**Label Encoding** - Renomea as classes com valores numéricos de 1 a **n**, sendo n o número de classes. Pode existir hierarquia entre as classes. É um processo só de codificação das classes. E devido a hierarquia, pode criar um viés indesejado.\n",
        "\n",
        "**One-Hot Encoding** - Transforma as variáveis em **n** colunas binárias, sendo n o número de classes. Todas as classes são analisadas de forma igual, quando tiver a ocorrência dela a coluna terá o valor 1 e quando não o valor 0, isso acontece para as demais colunas criadas.\n",
        "\n"
      ],
      "metadata": {
        "id": "nrkpbqfHnfdQ"
      }
    },
    {
      "cell_type": "code",
      "source": [
        "pd.get_dummies(data=dados['tipo'])"
      ],
      "metadata": {
        "colab": {
          "base_uri": "https://localhost:8080/",
          "height": 424
        },
        "id": "THl3qAOiXy3R",
        "outputId": "09d0cfe6-d439-4dd2-cf2c-cf113f2c2941"
      },
      "execution_count": 9,
      "outputs": [
        {
          "output_type": "execute_result",
          "data": {
            "text/plain": [
              "        CASH_IN  CASH_OUT  DEBIT  PAYMENT  TRANSFER\n",
              "0             0         0      0        1         0\n",
              "1             0         0      0        1         0\n",
              "2             0         0      0        0         1\n",
              "3             0         1      0        0         0\n",
              "4             0         0      0        1         0\n",
              "...         ...       ...    ...      ...       ...\n",
              "101608        0         0      0        1         0\n",
              "101609        0         1      0        0         0\n",
              "101610        0         0      0        1         0\n",
              "101611        0         0      0        0         1\n",
              "101612        0         1      0        0         0\n",
              "\n",
              "[101613 rows x 5 columns]"
            ],
            "text/html": [
              "\n",
              "  <div id=\"df-095fcb5f-ea7f-4f76-8435-18ca71beca78\">\n",
              "    <div class=\"colab-df-container\">\n",
              "      <div>\n",
              "<style scoped>\n",
              "    .dataframe tbody tr th:only-of-type {\n",
              "        vertical-align: middle;\n",
              "    }\n",
              "\n",
              "    .dataframe tbody tr th {\n",
              "        vertical-align: top;\n",
              "    }\n",
              "\n",
              "    .dataframe thead th {\n",
              "        text-align: right;\n",
              "    }\n",
              "</style>\n",
              "<table border=\"1\" class=\"dataframe\">\n",
              "  <thead>\n",
              "    <tr style=\"text-align: right;\">\n",
              "      <th></th>\n",
              "      <th>CASH_IN</th>\n",
              "      <th>CASH_OUT</th>\n",
              "      <th>DEBIT</th>\n",
              "      <th>PAYMENT</th>\n",
              "      <th>TRANSFER</th>\n",
              "    </tr>\n",
              "  </thead>\n",
              "  <tbody>\n",
              "    <tr>\n",
              "      <th>0</th>\n",
              "      <td>0</td>\n",
              "      <td>0</td>\n",
              "      <td>0</td>\n",
              "      <td>1</td>\n",
              "      <td>0</td>\n",
              "    </tr>\n",
              "    <tr>\n",
              "      <th>1</th>\n",
              "      <td>0</td>\n",
              "      <td>0</td>\n",
              "      <td>0</td>\n",
              "      <td>1</td>\n",
              "      <td>0</td>\n",
              "    </tr>\n",
              "    <tr>\n",
              "      <th>2</th>\n",
              "      <td>0</td>\n",
              "      <td>0</td>\n",
              "      <td>0</td>\n",
              "      <td>0</td>\n",
              "      <td>1</td>\n",
              "    </tr>\n",
              "    <tr>\n",
              "      <th>3</th>\n",
              "      <td>0</td>\n",
              "      <td>1</td>\n",
              "      <td>0</td>\n",
              "      <td>0</td>\n",
              "      <td>0</td>\n",
              "    </tr>\n",
              "    <tr>\n",
              "      <th>4</th>\n",
              "      <td>0</td>\n",
              "      <td>0</td>\n",
              "      <td>0</td>\n",
              "      <td>1</td>\n",
              "      <td>0</td>\n",
              "    </tr>\n",
              "    <tr>\n",
              "      <th>...</th>\n",
              "      <td>...</td>\n",
              "      <td>...</td>\n",
              "      <td>...</td>\n",
              "      <td>...</td>\n",
              "      <td>...</td>\n",
              "    </tr>\n",
              "    <tr>\n",
              "      <th>101608</th>\n",
              "      <td>0</td>\n",
              "      <td>0</td>\n",
              "      <td>0</td>\n",
              "      <td>1</td>\n",
              "      <td>0</td>\n",
              "    </tr>\n",
              "    <tr>\n",
              "      <th>101609</th>\n",
              "      <td>0</td>\n",
              "      <td>1</td>\n",
              "      <td>0</td>\n",
              "      <td>0</td>\n",
              "      <td>0</td>\n",
              "    </tr>\n",
              "    <tr>\n",
              "      <th>101610</th>\n",
              "      <td>0</td>\n",
              "      <td>0</td>\n",
              "      <td>0</td>\n",
              "      <td>1</td>\n",
              "      <td>0</td>\n",
              "    </tr>\n",
              "    <tr>\n",
              "      <th>101611</th>\n",
              "      <td>0</td>\n",
              "      <td>0</td>\n",
              "      <td>0</td>\n",
              "      <td>0</td>\n",
              "      <td>1</td>\n",
              "    </tr>\n",
              "    <tr>\n",
              "      <th>101612</th>\n",
              "      <td>0</td>\n",
              "      <td>1</td>\n",
              "      <td>0</td>\n",
              "      <td>0</td>\n",
              "      <td>0</td>\n",
              "    </tr>\n",
              "  </tbody>\n",
              "</table>\n",
              "<p>101613 rows × 5 columns</p>\n",
              "</div>\n",
              "      <button class=\"colab-df-convert\" onclick=\"convertToInteractive('df-095fcb5f-ea7f-4f76-8435-18ca71beca78')\"\n",
              "              title=\"Convert this dataframe to an interactive table.\"\n",
              "              style=\"display:none;\">\n",
              "        \n",
              "  <svg xmlns=\"http://www.w3.org/2000/svg\" height=\"24px\"viewBox=\"0 0 24 24\"\n",
              "       width=\"24px\">\n",
              "    <path d=\"M0 0h24v24H0V0z\" fill=\"none\"/>\n",
              "    <path d=\"M18.56 5.44l.94 2.06.94-2.06 2.06-.94-2.06-.94-.94-2.06-.94 2.06-2.06.94zm-11 1L8.5 8.5l.94-2.06 2.06-.94-2.06-.94L8.5 2.5l-.94 2.06-2.06.94zm10 10l.94 2.06.94-2.06 2.06-.94-2.06-.94-.94-2.06-.94 2.06-2.06.94z\"/><path d=\"M17.41 7.96l-1.37-1.37c-.4-.4-.92-.59-1.43-.59-.52 0-1.04.2-1.43.59L10.3 9.45l-7.72 7.72c-.78.78-.78 2.05 0 2.83L4 21.41c.39.39.9.59 1.41.59.51 0 1.02-.2 1.41-.59l7.78-7.78 2.81-2.81c.8-.78.8-2.07 0-2.86zM5.41 20L4 18.59l7.72-7.72 1.47 1.35L5.41 20z\"/>\n",
              "  </svg>\n",
              "      </button>\n",
              "      \n",
              "  <style>\n",
              "    .colab-df-container {\n",
              "      display:flex;\n",
              "      flex-wrap:wrap;\n",
              "      gap: 12px;\n",
              "    }\n",
              "\n",
              "    .colab-df-convert {\n",
              "      background-color: #E8F0FE;\n",
              "      border: none;\n",
              "      border-radius: 50%;\n",
              "      cursor: pointer;\n",
              "      display: none;\n",
              "      fill: #1967D2;\n",
              "      height: 32px;\n",
              "      padding: 0 0 0 0;\n",
              "      width: 32px;\n",
              "    }\n",
              "\n",
              "    .colab-df-convert:hover {\n",
              "      background-color: #E2EBFA;\n",
              "      box-shadow: 0px 1px 2px rgba(60, 64, 67, 0.3), 0px 1px 3px 1px rgba(60, 64, 67, 0.15);\n",
              "      fill: #174EA6;\n",
              "    }\n",
              "\n",
              "    [theme=dark] .colab-df-convert {\n",
              "      background-color: #3B4455;\n",
              "      fill: #D2E3FC;\n",
              "    }\n",
              "\n",
              "    [theme=dark] .colab-df-convert:hover {\n",
              "      background-color: #434B5C;\n",
              "      box-shadow: 0px 1px 3px 1px rgba(0, 0, 0, 0.15);\n",
              "      filter: drop-shadow(0px 1px 2px rgba(0, 0, 0, 0.3));\n",
              "      fill: #FFFFFF;\n",
              "    }\n",
              "  </style>\n",
              "\n",
              "      <script>\n",
              "        const buttonEl =\n",
              "          document.querySelector('#df-095fcb5f-ea7f-4f76-8435-18ca71beca78 button.colab-df-convert');\n",
              "        buttonEl.style.display =\n",
              "          google.colab.kernel.accessAllowed ? 'block' : 'none';\n",
              "\n",
              "        async function convertToInteractive(key) {\n",
              "          const element = document.querySelector('#df-095fcb5f-ea7f-4f76-8435-18ca71beca78');\n",
              "          const dataTable =\n",
              "            await google.colab.kernel.invokeFunction('convertToInteractive',\n",
              "                                                     [key], {});\n",
              "          if (!dataTable) return;\n",
              "\n",
              "          const docLinkHtml = 'Like what you see? Visit the ' +\n",
              "            '<a target=\"_blank\" href=https://colab.research.google.com/notebooks/data_table.ipynb>data table notebook</a>'\n",
              "            + ' to learn more about interactive tables.';\n",
              "          element.innerHTML = '';\n",
              "          dataTable['output_type'] = 'display_data';\n",
              "          await google.colab.output.renderOutput(dataTable, element);\n",
              "          const docLink = document.createElement('div');\n",
              "          docLink.innerHTML = docLinkHtml;\n",
              "          element.appendChild(docLink);\n",
              "        }\n",
              "      </script>\n",
              "    </div>\n",
              "  </div>\n",
              "  "
            ]
          },
          "metadata": {},
          "execution_count": 9
        }
      ]
    },
    {
      "cell_type": "code",
      "source": [
        "dd['encoded'] = pd.get_dummies(data=dados, columns=['tipo'])\n",
        "dd['encoded'].sample(5)"
      ],
      "metadata": {
        "colab": {
          "base_uri": "https://localhost:8080/",
          "height": 270
        },
        "id": "5m-3OSBSYY5Q",
        "outputId": "5f493a44-116f-4131-fe73-15ede9888771"
      },
      "execution_count": 10,
      "outputs": [
        {
          "output_type": "execute_result",
          "data": {
            "text/plain": [
              "       fraude  super_fraude  tempo      valor     cliente1  saldo_inicial_c1  \\\n",
              "28771       0             0      8    8940.03   C443308213            242.00   \n",
              "13847       0             0      7   20131.55  C1186385521              0.00   \n",
              "93841       0             0     10  236072.96  C1002118763         949005.05   \n",
              "87837       0             0     10    6326.31   C493341910              0.00   \n",
              "78150       0             0     10  201605.07  C1239543096            853.00   \n",
              "\n",
              "       novo_saldo_c1     cliente2  saldo_inicial_c2  novo_saldo_c2  \\\n",
              "28771           0.00  M1387875493              0.00           0.00   \n",
              "13847           0.00   M640511728              0.00           0.00   \n",
              "93841     1185078.00   C465257140        2777042.29     2540969.34   \n",
              "87837           0.00   M738949407              0.00           0.00   \n",
              "78150      202458.07   C157316544        1166389.51     1085827.62   \n",
              "\n",
              "       tipo_CASH_IN  tipo_CASH_OUT  tipo_DEBIT  tipo_PAYMENT  tipo_TRANSFER  \n",
              "28771             0              0           0             1              0  \n",
              "13847             0              0           0             1              0  \n",
              "93841             1              0           0             0              0  \n",
              "87837             0              0           0             1              0  \n",
              "78150             1              0           0             0              0  "
            ],
            "text/html": [
              "\n",
              "  <div id=\"df-9fb777d8-1dff-45a5-8f53-20dac792a545\">\n",
              "    <div class=\"colab-df-container\">\n",
              "      <div>\n",
              "<style scoped>\n",
              "    .dataframe tbody tr th:only-of-type {\n",
              "        vertical-align: middle;\n",
              "    }\n",
              "\n",
              "    .dataframe tbody tr th {\n",
              "        vertical-align: top;\n",
              "    }\n",
              "\n",
              "    .dataframe thead th {\n",
              "        text-align: right;\n",
              "    }\n",
              "</style>\n",
              "<table border=\"1\" class=\"dataframe\">\n",
              "  <thead>\n",
              "    <tr style=\"text-align: right;\">\n",
              "      <th></th>\n",
              "      <th>fraude</th>\n",
              "      <th>super_fraude</th>\n",
              "      <th>tempo</th>\n",
              "      <th>valor</th>\n",
              "      <th>cliente1</th>\n",
              "      <th>saldo_inicial_c1</th>\n",
              "      <th>novo_saldo_c1</th>\n",
              "      <th>cliente2</th>\n",
              "      <th>saldo_inicial_c2</th>\n",
              "      <th>novo_saldo_c2</th>\n",
              "      <th>tipo_CASH_IN</th>\n",
              "      <th>tipo_CASH_OUT</th>\n",
              "      <th>tipo_DEBIT</th>\n",
              "      <th>tipo_PAYMENT</th>\n",
              "      <th>tipo_TRANSFER</th>\n",
              "    </tr>\n",
              "  </thead>\n",
              "  <tbody>\n",
              "    <tr>\n",
              "      <th>28771</th>\n",
              "      <td>0</td>\n",
              "      <td>0</td>\n",
              "      <td>8</td>\n",
              "      <td>8940.03</td>\n",
              "      <td>C443308213</td>\n",
              "      <td>242.00</td>\n",
              "      <td>0.00</td>\n",
              "      <td>M1387875493</td>\n",
              "      <td>0.00</td>\n",
              "      <td>0.00</td>\n",
              "      <td>0</td>\n",
              "      <td>0</td>\n",
              "      <td>0</td>\n",
              "      <td>1</td>\n",
              "      <td>0</td>\n",
              "    </tr>\n",
              "    <tr>\n",
              "      <th>13847</th>\n",
              "      <td>0</td>\n",
              "      <td>0</td>\n",
              "      <td>7</td>\n",
              "      <td>20131.55</td>\n",
              "      <td>C1186385521</td>\n",
              "      <td>0.00</td>\n",
              "      <td>0.00</td>\n",
              "      <td>M640511728</td>\n",
              "      <td>0.00</td>\n",
              "      <td>0.00</td>\n",
              "      <td>0</td>\n",
              "      <td>0</td>\n",
              "      <td>0</td>\n",
              "      <td>1</td>\n",
              "      <td>0</td>\n",
              "    </tr>\n",
              "    <tr>\n",
              "      <th>93841</th>\n",
              "      <td>0</td>\n",
              "      <td>0</td>\n",
              "      <td>10</td>\n",
              "      <td>236072.96</td>\n",
              "      <td>C1002118763</td>\n",
              "      <td>949005.05</td>\n",
              "      <td>1185078.00</td>\n",
              "      <td>C465257140</td>\n",
              "      <td>2777042.29</td>\n",
              "      <td>2540969.34</td>\n",
              "      <td>1</td>\n",
              "      <td>0</td>\n",
              "      <td>0</td>\n",
              "      <td>0</td>\n",
              "      <td>0</td>\n",
              "    </tr>\n",
              "    <tr>\n",
              "      <th>87837</th>\n",
              "      <td>0</td>\n",
              "      <td>0</td>\n",
              "      <td>10</td>\n",
              "      <td>6326.31</td>\n",
              "      <td>C493341910</td>\n",
              "      <td>0.00</td>\n",
              "      <td>0.00</td>\n",
              "      <td>M738949407</td>\n",
              "      <td>0.00</td>\n",
              "      <td>0.00</td>\n",
              "      <td>0</td>\n",
              "      <td>0</td>\n",
              "      <td>0</td>\n",
              "      <td>1</td>\n",
              "      <td>0</td>\n",
              "    </tr>\n",
              "    <tr>\n",
              "      <th>78150</th>\n",
              "      <td>0</td>\n",
              "      <td>0</td>\n",
              "      <td>10</td>\n",
              "      <td>201605.07</td>\n",
              "      <td>C1239543096</td>\n",
              "      <td>853.00</td>\n",
              "      <td>202458.07</td>\n",
              "      <td>C157316544</td>\n",
              "      <td>1166389.51</td>\n",
              "      <td>1085827.62</td>\n",
              "      <td>1</td>\n",
              "      <td>0</td>\n",
              "      <td>0</td>\n",
              "      <td>0</td>\n",
              "      <td>0</td>\n",
              "    </tr>\n",
              "  </tbody>\n",
              "</table>\n",
              "</div>\n",
              "      <button class=\"colab-df-convert\" onclick=\"convertToInteractive('df-9fb777d8-1dff-45a5-8f53-20dac792a545')\"\n",
              "              title=\"Convert this dataframe to an interactive table.\"\n",
              "              style=\"display:none;\">\n",
              "        \n",
              "  <svg xmlns=\"http://www.w3.org/2000/svg\" height=\"24px\"viewBox=\"0 0 24 24\"\n",
              "       width=\"24px\">\n",
              "    <path d=\"M0 0h24v24H0V0z\" fill=\"none\"/>\n",
              "    <path d=\"M18.56 5.44l.94 2.06.94-2.06 2.06-.94-2.06-.94-.94-2.06-.94 2.06-2.06.94zm-11 1L8.5 8.5l.94-2.06 2.06-.94-2.06-.94L8.5 2.5l-.94 2.06-2.06.94zm10 10l.94 2.06.94-2.06 2.06-.94-2.06-.94-.94-2.06-.94 2.06-2.06.94z\"/><path d=\"M17.41 7.96l-1.37-1.37c-.4-.4-.92-.59-1.43-.59-.52 0-1.04.2-1.43.59L10.3 9.45l-7.72 7.72c-.78.78-.78 2.05 0 2.83L4 21.41c.39.39.9.59 1.41.59.51 0 1.02-.2 1.41-.59l7.78-7.78 2.81-2.81c.8-.78.8-2.07 0-2.86zM5.41 20L4 18.59l7.72-7.72 1.47 1.35L5.41 20z\"/>\n",
              "  </svg>\n",
              "      </button>\n",
              "      \n",
              "  <style>\n",
              "    .colab-df-container {\n",
              "      display:flex;\n",
              "      flex-wrap:wrap;\n",
              "      gap: 12px;\n",
              "    }\n",
              "\n",
              "    .colab-df-convert {\n",
              "      background-color: #E8F0FE;\n",
              "      border: none;\n",
              "      border-radius: 50%;\n",
              "      cursor: pointer;\n",
              "      display: none;\n",
              "      fill: #1967D2;\n",
              "      height: 32px;\n",
              "      padding: 0 0 0 0;\n",
              "      width: 32px;\n",
              "    }\n",
              "\n",
              "    .colab-df-convert:hover {\n",
              "      background-color: #E2EBFA;\n",
              "      box-shadow: 0px 1px 2px rgba(60, 64, 67, 0.3), 0px 1px 3px 1px rgba(60, 64, 67, 0.15);\n",
              "      fill: #174EA6;\n",
              "    }\n",
              "\n",
              "    [theme=dark] .colab-df-convert {\n",
              "      background-color: #3B4455;\n",
              "      fill: #D2E3FC;\n",
              "    }\n",
              "\n",
              "    [theme=dark] .colab-df-convert:hover {\n",
              "      background-color: #434B5C;\n",
              "      box-shadow: 0px 1px 3px 1px rgba(0, 0, 0, 0.15);\n",
              "      filter: drop-shadow(0px 1px 2px rgba(0, 0, 0, 0.3));\n",
              "      fill: #FFFFFF;\n",
              "    }\n",
              "  </style>\n",
              "\n",
              "      <script>\n",
              "        const buttonEl =\n",
              "          document.querySelector('#df-9fb777d8-1dff-45a5-8f53-20dac792a545 button.colab-df-convert');\n",
              "        buttonEl.style.display =\n",
              "          google.colab.kernel.accessAllowed ? 'block' : 'none';\n",
              "\n",
              "        async function convertToInteractive(key) {\n",
              "          const element = document.querySelector('#df-9fb777d8-1dff-45a5-8f53-20dac792a545');\n",
              "          const dataTable =\n",
              "            await google.colab.kernel.invokeFunction('convertToInteractive',\n",
              "                                                     [key], {});\n",
              "          if (!dataTable) return;\n",
              "\n",
              "          const docLinkHtml = 'Like what you see? Visit the ' +\n",
              "            '<a target=\"_blank\" href=https://colab.research.google.com/notebooks/data_table.ipynb>data table notebook</a>'\n",
              "            + ' to learn more about interactive tables.';\n",
              "          element.innerHTML = '';\n",
              "          dataTable['output_type'] = 'display_data';\n",
              "          await google.colab.output.renderOutput(dataTable, element);\n",
              "          const docLink = document.createElement('div');\n",
              "          docLink.innerHTML = docLinkHtml;\n",
              "          element.appendChild(docLink);\n",
              "        }\n",
              "      </script>\n",
              "    </div>\n",
              "  </div>\n",
              "  "
            ]
          },
          "metadata": {},
          "execution_count": 10
        }
      ]
    },
    {
      "cell_type": "markdown",
      "source": [
        "## <font color=orange>d. Remoção de Variáveis</font>\n",
        "\n",
        "A variável do nome do cliente provavelmente não irá contribuir para a identificação das fraudes. Neste caso, um estudo especifico a esta variável pode ser realizada para saber quais informações ela pode trazer. O conhecimento sobre o comportamento padrão das fraudes ajuda a orientar sobre a importância desta coluna. Ou seja, estudar casos de fraudes antigas pode ajudar a saber se há algum padrão que a identificação do cliente ajude.\n",
        "\n",
        "Uma alternativa é codificar esta coluna caso ela tenha que ser usada no modelo. Pois a manipulação do nome ou do ID de um cliente é muito delicada já que se trata de um dado sensível."
      ],
      "metadata": {
        "id": "JLaeAF4s-RFo"
      }
    },
    {
      "cell_type": "code",
      "source": [
        "dd['encoded_clean'] = dd['encoded'].drop(columns=['super_fraude', 'cliente1', 'cliente2'])\n",
        "dd['encoded_clean'].sample(3)"
      ],
      "metadata": {
        "colab": {
          "base_uri": "https://localhost:8080/",
          "height": 207
        },
        "id": "EFMZPDNBanRH",
        "outputId": "51ef2656-7de2-4af8-c672-52b85cca9186"
      },
      "execution_count": 11,
      "outputs": [
        {
          "output_type": "execute_result",
          "data": {
            "text/plain": [
              "       fraude  tempo      valor  saldo_inicial_c1  novo_saldo_c1  \\\n",
              "12956       0      7    4023.63            1298.0            0.0   \n",
              "60436       0      9   10518.26               0.0            0.0   \n",
              "8000        0      7  139484.10               0.0            0.0   \n",
              "\n",
              "       saldo_inicial_c2  novo_saldo_c2  tipo_CASH_IN  tipo_CASH_OUT  \\\n",
              "12956               0.0            0.0             0              0   \n",
              "60436               0.0            0.0             0              0   \n",
              "8000           615897.2       755381.3             0              1   \n",
              "\n",
              "       tipo_DEBIT  tipo_PAYMENT  tipo_TRANSFER  \n",
              "12956           0             1              0  \n",
              "60436           0             1              0  \n",
              "8000            0             0              0  "
            ],
            "text/html": [
              "\n",
              "  <div id=\"df-4dc3b383-85a7-4606-8aec-4876e6ab14c9\">\n",
              "    <div class=\"colab-df-container\">\n",
              "      <div>\n",
              "<style scoped>\n",
              "    .dataframe tbody tr th:only-of-type {\n",
              "        vertical-align: middle;\n",
              "    }\n",
              "\n",
              "    .dataframe tbody tr th {\n",
              "        vertical-align: top;\n",
              "    }\n",
              "\n",
              "    .dataframe thead th {\n",
              "        text-align: right;\n",
              "    }\n",
              "</style>\n",
              "<table border=\"1\" class=\"dataframe\">\n",
              "  <thead>\n",
              "    <tr style=\"text-align: right;\">\n",
              "      <th></th>\n",
              "      <th>fraude</th>\n",
              "      <th>tempo</th>\n",
              "      <th>valor</th>\n",
              "      <th>saldo_inicial_c1</th>\n",
              "      <th>novo_saldo_c1</th>\n",
              "      <th>saldo_inicial_c2</th>\n",
              "      <th>novo_saldo_c2</th>\n",
              "      <th>tipo_CASH_IN</th>\n",
              "      <th>tipo_CASH_OUT</th>\n",
              "      <th>tipo_DEBIT</th>\n",
              "      <th>tipo_PAYMENT</th>\n",
              "      <th>tipo_TRANSFER</th>\n",
              "    </tr>\n",
              "  </thead>\n",
              "  <tbody>\n",
              "    <tr>\n",
              "      <th>12956</th>\n",
              "      <td>0</td>\n",
              "      <td>7</td>\n",
              "      <td>4023.63</td>\n",
              "      <td>1298.0</td>\n",
              "      <td>0.0</td>\n",
              "      <td>0.0</td>\n",
              "      <td>0.0</td>\n",
              "      <td>0</td>\n",
              "      <td>0</td>\n",
              "      <td>0</td>\n",
              "      <td>1</td>\n",
              "      <td>0</td>\n",
              "    </tr>\n",
              "    <tr>\n",
              "      <th>60436</th>\n",
              "      <td>0</td>\n",
              "      <td>9</td>\n",
              "      <td>10518.26</td>\n",
              "      <td>0.0</td>\n",
              "      <td>0.0</td>\n",
              "      <td>0.0</td>\n",
              "      <td>0.0</td>\n",
              "      <td>0</td>\n",
              "      <td>0</td>\n",
              "      <td>0</td>\n",
              "      <td>1</td>\n",
              "      <td>0</td>\n",
              "    </tr>\n",
              "    <tr>\n",
              "      <th>8000</th>\n",
              "      <td>0</td>\n",
              "      <td>7</td>\n",
              "      <td>139484.10</td>\n",
              "      <td>0.0</td>\n",
              "      <td>0.0</td>\n",
              "      <td>615897.2</td>\n",
              "      <td>755381.3</td>\n",
              "      <td>0</td>\n",
              "      <td>1</td>\n",
              "      <td>0</td>\n",
              "      <td>0</td>\n",
              "      <td>0</td>\n",
              "    </tr>\n",
              "  </tbody>\n",
              "</table>\n",
              "</div>\n",
              "      <button class=\"colab-df-convert\" onclick=\"convertToInteractive('df-4dc3b383-85a7-4606-8aec-4876e6ab14c9')\"\n",
              "              title=\"Convert this dataframe to an interactive table.\"\n",
              "              style=\"display:none;\">\n",
              "        \n",
              "  <svg xmlns=\"http://www.w3.org/2000/svg\" height=\"24px\"viewBox=\"0 0 24 24\"\n",
              "       width=\"24px\">\n",
              "    <path d=\"M0 0h24v24H0V0z\" fill=\"none\"/>\n",
              "    <path d=\"M18.56 5.44l.94 2.06.94-2.06 2.06-.94-2.06-.94-.94-2.06-.94 2.06-2.06.94zm-11 1L8.5 8.5l.94-2.06 2.06-.94-2.06-.94L8.5 2.5l-.94 2.06-2.06.94zm10 10l.94 2.06.94-2.06 2.06-.94-2.06-.94-.94-2.06-.94 2.06-2.06.94z\"/><path d=\"M17.41 7.96l-1.37-1.37c-.4-.4-.92-.59-1.43-.59-.52 0-1.04.2-1.43.59L10.3 9.45l-7.72 7.72c-.78.78-.78 2.05 0 2.83L4 21.41c.39.39.9.59 1.41.59.51 0 1.02-.2 1.41-.59l7.78-7.78 2.81-2.81c.8-.78.8-2.07 0-2.86zM5.41 20L4 18.59l7.72-7.72 1.47 1.35L5.41 20z\"/>\n",
              "  </svg>\n",
              "      </button>\n",
              "      \n",
              "  <style>\n",
              "    .colab-df-container {\n",
              "      display:flex;\n",
              "      flex-wrap:wrap;\n",
              "      gap: 12px;\n",
              "    }\n",
              "\n",
              "    .colab-df-convert {\n",
              "      background-color: #E8F0FE;\n",
              "      border: none;\n",
              "      border-radius: 50%;\n",
              "      cursor: pointer;\n",
              "      display: none;\n",
              "      fill: #1967D2;\n",
              "      height: 32px;\n",
              "      padding: 0 0 0 0;\n",
              "      width: 32px;\n",
              "    }\n",
              "\n",
              "    .colab-df-convert:hover {\n",
              "      background-color: #E2EBFA;\n",
              "      box-shadow: 0px 1px 2px rgba(60, 64, 67, 0.3), 0px 1px 3px 1px rgba(60, 64, 67, 0.15);\n",
              "      fill: #174EA6;\n",
              "    }\n",
              "\n",
              "    [theme=dark] .colab-df-convert {\n",
              "      background-color: #3B4455;\n",
              "      fill: #D2E3FC;\n",
              "    }\n",
              "\n",
              "    [theme=dark] .colab-df-convert:hover {\n",
              "      background-color: #434B5C;\n",
              "      box-shadow: 0px 1px 3px 1px rgba(0, 0, 0, 0.15);\n",
              "      filter: drop-shadow(0px 1px 2px rgba(0, 0, 0, 0.3));\n",
              "      fill: #FFFFFF;\n",
              "    }\n",
              "  </style>\n",
              "\n",
              "      <script>\n",
              "        const buttonEl =\n",
              "          document.querySelector('#df-4dc3b383-85a7-4606-8aec-4876e6ab14c9 button.colab-df-convert');\n",
              "        buttonEl.style.display =\n",
              "          google.colab.kernel.accessAllowed ? 'block' : 'none';\n",
              "\n",
              "        async function convertToInteractive(key) {\n",
              "          const element = document.querySelector('#df-4dc3b383-85a7-4606-8aec-4876e6ab14c9');\n",
              "          const dataTable =\n",
              "            await google.colab.kernel.invokeFunction('convertToInteractive',\n",
              "                                                     [key], {});\n",
              "          if (!dataTable) return;\n",
              "\n",
              "          const docLinkHtml = 'Like what you see? Visit the ' +\n",
              "            '<a target=\"_blank\" href=https://colab.research.google.com/notebooks/data_table.ipynb>data table notebook</a>'\n",
              "            + ' to learn more about interactive tables.';\n",
              "          element.innerHTML = '';\n",
              "          dataTable['output_type'] = 'display_data';\n",
              "          await google.colab.output.renderOutput(dataTable, element);\n",
              "          const docLink = document.createElement('div');\n",
              "          docLink.innerHTML = docLinkHtml;\n",
              "          element.appendChild(docLink);\n",
              "        }\n",
              "      </script>\n",
              "    </div>\n",
              "  </div>\n",
              "  "
            ]
          },
          "metadata": {},
          "execution_count": 11
        }
      ]
    },
    {
      "cell_type": "markdown",
      "source": [
        "# <font color=orange><b>3. ANÁLISE EXPLORATÓRIA</b></font>\n",
        "\n"
      ],
      "metadata": {
        "id": "nQCXMjtYwJr-"
      }
    },
    {
      "cell_type": "code",
      "source": [
        "# Análise da estrutura\n",
        "dados.info()"
      ],
      "metadata": {
        "colab": {
          "base_uri": "https://localhost:8080/"
        },
        "id": "-qmRq23bwZPX",
        "outputId": "fb03d129-81ed-4115-f284-0ba75368fa47"
      },
      "execution_count": 12,
      "outputs": [
        {
          "output_type": "stream",
          "name": "stdout",
          "text": [
            "<class 'pandas.core.frame.DataFrame'>\n",
            "RangeIndex: 101613 entries, 0 to 101612\n",
            "Data columns (total 11 columns):\n",
            " #   Column            Non-Null Count   Dtype  \n",
            "---  ------            --------------   -----  \n",
            " 0   fraude            101613 non-null  int64  \n",
            " 1   super_fraude      101613 non-null  int64  \n",
            " 2   tempo             101613 non-null  int64  \n",
            " 3   tipo              101613 non-null  object \n",
            " 4   valor             101613 non-null  float64\n",
            " 5   cliente1          101613 non-null  object \n",
            " 6   saldo_inicial_c1  101613 non-null  float64\n",
            " 7   novo_saldo_c1     101613 non-null  float64\n",
            " 8   cliente2          101613 non-null  object \n",
            " 9   saldo_inicial_c2  101613 non-null  float64\n",
            " 10  novo_saldo_c2     101613 non-null  float64\n",
            "dtypes: float64(5), int64(3), object(3)\n",
            "memory usage: 8.5+ MB\n"
          ]
        }
      ]
    },
    {
      "cell_type": "code",
      "source": [
        "# Descrição estatística\n",
        "dados.describe().T"
      ],
      "metadata": {
        "colab": {
          "base_uri": "https://localhost:8080/",
          "height": 364
        },
        "id": "2QWtvWF_kPDg",
        "outputId": "31515dc6-9f32-496a-e9dc-f2e9ce816f97"
      },
      "execution_count": 13,
      "outputs": [
        {
          "output_type": "execute_result",
          "data": {
            "text/plain": [
              "                     count          mean           std   min       25%  \\\n",
              "fraude            101613.0  1.141586e-03  3.376824e-02  0.00      0.00   \n",
              "super_fraude      101613.0  0.000000e+00  0.000000e+00  0.00      0.00   \n",
              "tempo             101613.0  8.523457e+00  1.820681e+00  1.00      8.00   \n",
              "valor             101613.0  1.740901e+05  3.450199e+05  0.32  10016.59   \n",
              "saldo_inicial_c1  101613.0  9.071753e+05  2.829575e+06  0.00      0.00   \n",
              "novo_saldo_c1     101613.0  9.234992e+05  2.867319e+06  0.00      0.00   \n",
              "saldo_inicial_c2  101613.0  8.810428e+05  2.399949e+06  0.00      0.00   \n",
              "novo_saldo_c2     101613.0  1.183998e+06  2.797761e+06  0.00      0.00   \n",
              "\n",
              "                       50%         75%          max  \n",
              "fraude                0.00        0.00         1.00  \n",
              "super_fraude          0.00        0.00         0.00  \n",
              "tempo                 9.00       10.00        10.00  \n",
              "valor             53385.41   212498.40  10000000.00  \n",
              "saldo_inicial_c1  20190.47   194715.00  38939424.03  \n",
              "novo_saldo_c1         0.00   219217.76  38946233.02  \n",
              "saldo_inicial_c2  21058.00   591921.70  34008736.98  \n",
              "novo_saldo_c2     51783.43  1063121.64  38946233.02  "
            ],
            "text/html": [
              "\n",
              "  <div id=\"df-69f5e251-1f50-4b49-9ece-402596111b63\">\n",
              "    <div class=\"colab-df-container\">\n",
              "      <div>\n",
              "<style scoped>\n",
              "    .dataframe tbody tr th:only-of-type {\n",
              "        vertical-align: middle;\n",
              "    }\n",
              "\n",
              "    .dataframe tbody tr th {\n",
              "        vertical-align: top;\n",
              "    }\n",
              "\n",
              "    .dataframe thead th {\n",
              "        text-align: right;\n",
              "    }\n",
              "</style>\n",
              "<table border=\"1\" class=\"dataframe\">\n",
              "  <thead>\n",
              "    <tr style=\"text-align: right;\">\n",
              "      <th></th>\n",
              "      <th>count</th>\n",
              "      <th>mean</th>\n",
              "      <th>std</th>\n",
              "      <th>min</th>\n",
              "      <th>25%</th>\n",
              "      <th>50%</th>\n",
              "      <th>75%</th>\n",
              "      <th>max</th>\n",
              "    </tr>\n",
              "  </thead>\n",
              "  <tbody>\n",
              "    <tr>\n",
              "      <th>fraude</th>\n",
              "      <td>101613.0</td>\n",
              "      <td>1.141586e-03</td>\n",
              "      <td>3.376824e-02</td>\n",
              "      <td>0.00</td>\n",
              "      <td>0.00</td>\n",
              "      <td>0.00</td>\n",
              "      <td>0.00</td>\n",
              "      <td>1.00</td>\n",
              "    </tr>\n",
              "    <tr>\n",
              "      <th>super_fraude</th>\n",
              "      <td>101613.0</td>\n",
              "      <td>0.000000e+00</td>\n",
              "      <td>0.000000e+00</td>\n",
              "      <td>0.00</td>\n",
              "      <td>0.00</td>\n",
              "      <td>0.00</td>\n",
              "      <td>0.00</td>\n",
              "      <td>0.00</td>\n",
              "    </tr>\n",
              "    <tr>\n",
              "      <th>tempo</th>\n",
              "      <td>101613.0</td>\n",
              "      <td>8.523457e+00</td>\n",
              "      <td>1.820681e+00</td>\n",
              "      <td>1.00</td>\n",
              "      <td>8.00</td>\n",
              "      <td>9.00</td>\n",
              "      <td>10.00</td>\n",
              "      <td>10.00</td>\n",
              "    </tr>\n",
              "    <tr>\n",
              "      <th>valor</th>\n",
              "      <td>101613.0</td>\n",
              "      <td>1.740901e+05</td>\n",
              "      <td>3.450199e+05</td>\n",
              "      <td>0.32</td>\n",
              "      <td>10016.59</td>\n",
              "      <td>53385.41</td>\n",
              "      <td>212498.40</td>\n",
              "      <td>10000000.00</td>\n",
              "    </tr>\n",
              "    <tr>\n",
              "      <th>saldo_inicial_c1</th>\n",
              "      <td>101613.0</td>\n",
              "      <td>9.071753e+05</td>\n",
              "      <td>2.829575e+06</td>\n",
              "      <td>0.00</td>\n",
              "      <td>0.00</td>\n",
              "      <td>20190.47</td>\n",
              "      <td>194715.00</td>\n",
              "      <td>38939424.03</td>\n",
              "    </tr>\n",
              "    <tr>\n",
              "      <th>novo_saldo_c1</th>\n",
              "      <td>101613.0</td>\n",
              "      <td>9.234992e+05</td>\n",
              "      <td>2.867319e+06</td>\n",
              "      <td>0.00</td>\n",
              "      <td>0.00</td>\n",
              "      <td>0.00</td>\n",
              "      <td>219217.76</td>\n",
              "      <td>38946233.02</td>\n",
              "    </tr>\n",
              "    <tr>\n",
              "      <th>saldo_inicial_c2</th>\n",
              "      <td>101613.0</td>\n",
              "      <td>8.810428e+05</td>\n",
              "      <td>2.399949e+06</td>\n",
              "      <td>0.00</td>\n",
              "      <td>0.00</td>\n",
              "      <td>21058.00</td>\n",
              "      <td>591921.70</td>\n",
              "      <td>34008736.98</td>\n",
              "    </tr>\n",
              "    <tr>\n",
              "      <th>novo_saldo_c2</th>\n",
              "      <td>101613.0</td>\n",
              "      <td>1.183998e+06</td>\n",
              "      <td>2.797761e+06</td>\n",
              "      <td>0.00</td>\n",
              "      <td>0.00</td>\n",
              "      <td>51783.43</td>\n",
              "      <td>1063121.64</td>\n",
              "      <td>38946233.02</td>\n",
              "    </tr>\n",
              "  </tbody>\n",
              "</table>\n",
              "</div>\n",
              "      <button class=\"colab-df-convert\" onclick=\"convertToInteractive('df-69f5e251-1f50-4b49-9ece-402596111b63')\"\n",
              "              title=\"Convert this dataframe to an interactive table.\"\n",
              "              style=\"display:none;\">\n",
              "        \n",
              "  <svg xmlns=\"http://www.w3.org/2000/svg\" height=\"24px\"viewBox=\"0 0 24 24\"\n",
              "       width=\"24px\">\n",
              "    <path d=\"M0 0h24v24H0V0z\" fill=\"none\"/>\n",
              "    <path d=\"M18.56 5.44l.94 2.06.94-2.06 2.06-.94-2.06-.94-.94-2.06-.94 2.06-2.06.94zm-11 1L8.5 8.5l.94-2.06 2.06-.94-2.06-.94L8.5 2.5l-.94 2.06-2.06.94zm10 10l.94 2.06.94-2.06 2.06-.94-2.06-.94-.94-2.06-.94 2.06-2.06.94z\"/><path d=\"M17.41 7.96l-1.37-1.37c-.4-.4-.92-.59-1.43-.59-.52 0-1.04.2-1.43.59L10.3 9.45l-7.72 7.72c-.78.78-.78 2.05 0 2.83L4 21.41c.39.39.9.59 1.41.59.51 0 1.02-.2 1.41-.59l7.78-7.78 2.81-2.81c.8-.78.8-2.07 0-2.86zM5.41 20L4 18.59l7.72-7.72 1.47 1.35L5.41 20z\"/>\n",
              "  </svg>\n",
              "      </button>\n",
              "      \n",
              "  <style>\n",
              "    .colab-df-container {\n",
              "      display:flex;\n",
              "      flex-wrap:wrap;\n",
              "      gap: 12px;\n",
              "    }\n",
              "\n",
              "    .colab-df-convert {\n",
              "      background-color: #E8F0FE;\n",
              "      border: none;\n",
              "      border-radius: 50%;\n",
              "      cursor: pointer;\n",
              "      display: none;\n",
              "      fill: #1967D2;\n",
              "      height: 32px;\n",
              "      padding: 0 0 0 0;\n",
              "      width: 32px;\n",
              "    }\n",
              "\n",
              "    .colab-df-convert:hover {\n",
              "      background-color: #E2EBFA;\n",
              "      box-shadow: 0px 1px 2px rgba(60, 64, 67, 0.3), 0px 1px 3px 1px rgba(60, 64, 67, 0.15);\n",
              "      fill: #174EA6;\n",
              "    }\n",
              "\n",
              "    [theme=dark] .colab-df-convert {\n",
              "      background-color: #3B4455;\n",
              "      fill: #D2E3FC;\n",
              "    }\n",
              "\n",
              "    [theme=dark] .colab-df-convert:hover {\n",
              "      background-color: #434B5C;\n",
              "      box-shadow: 0px 1px 3px 1px rgba(0, 0, 0, 0.15);\n",
              "      filter: drop-shadow(0px 1px 2px rgba(0, 0, 0, 0.3));\n",
              "      fill: #FFFFFF;\n",
              "    }\n",
              "  </style>\n",
              "\n",
              "      <script>\n",
              "        const buttonEl =\n",
              "          document.querySelector('#df-69f5e251-1f50-4b49-9ece-402596111b63 button.colab-df-convert');\n",
              "        buttonEl.style.display =\n",
              "          google.colab.kernel.accessAllowed ? 'block' : 'none';\n",
              "\n",
              "        async function convertToInteractive(key) {\n",
              "          const element = document.querySelector('#df-69f5e251-1f50-4b49-9ece-402596111b63');\n",
              "          const dataTable =\n",
              "            await google.colab.kernel.invokeFunction('convertToInteractive',\n",
              "                                                     [key], {});\n",
              "          if (!dataTable) return;\n",
              "\n",
              "          const docLinkHtml = 'Like what you see? Visit the ' +\n",
              "            '<a target=\"_blank\" href=https://colab.research.google.com/notebooks/data_table.ipynb>data table notebook</a>'\n",
              "            + ' to learn more about interactive tables.';\n",
              "          element.innerHTML = '';\n",
              "          dataTable['output_type'] = 'display_data';\n",
              "          await google.colab.output.renderOutput(dataTable, element);\n",
              "          const docLink = document.createElement('div');\n",
              "          docLink.innerHTML = docLinkHtml;\n",
              "          element.appendChild(docLink);\n",
              "        }\n",
              "      </script>\n",
              "    </div>\n",
              "  </div>\n",
              "  "
            ]
          },
          "metadata": {},
          "execution_count": 13
        }
      ]
    },
    {
      "cell_type": "code",
      "source": [
        "# ANÁLISE DE FREQUÊNCIA DA TARGET\n",
        "#    Group By\n",
        "dados.groupby('fraude')['tempo'].size()\n",
        "\n",
        "#    Value Counts\n",
        "dados.value_counts('fraude')"
      ],
      "metadata": {
        "colab": {
          "base_uri": "https://localhost:8080/"
        },
        "id": "q1oSnijZxP11",
        "outputId": "6b39b381-1218-45a8-c8fe-b1e92aade2e1"
      },
      "execution_count": 14,
      "outputs": [
        {
          "output_type": "execute_result",
          "data": {
            "text/plain": [
              "fraude\n",
              "0    101497\n",
              "1       116\n",
              "dtype: int64"
            ]
          },
          "metadata": {},
          "execution_count": 14
        }
      ]
    },
    {
      "cell_type": "code",
      "source": [
        "# Dados Nulos\n",
        "dados.isnull().sum()"
      ],
      "metadata": {
        "colab": {
          "base_uri": "https://localhost:8080/"
        },
        "id": "JwI33CoXyXNq",
        "outputId": "af135b14-83d9-4575-a9ba-49d7bb65f093"
      },
      "execution_count": 15,
      "outputs": [
        {
          "output_type": "execute_result",
          "data": {
            "text/plain": [
              "fraude              0\n",
              "super_fraude        0\n",
              "tempo               0\n",
              "tipo                0\n",
              "valor               0\n",
              "cliente1            0\n",
              "saldo_inicial_c1    0\n",
              "novo_saldo_c1       0\n",
              "cliente2            0\n",
              "saldo_inicial_c2    0\n",
              "novo_saldo_c2       0\n",
              "dtype: int64"
            ]
          },
          "metadata": {},
          "execution_count": 15
        }
      ]
    },
    {
      "cell_type": "markdown",
      "source": [
        "## **pandas-profiling**\n",
        "\n",
        "Elabora diversas análises e apresenta de uma forma gráfica\n",
        "\n",
        "* O que observar no relatório?"
      ],
      "metadata": {
        "id": "er1oyxiCzQaM"
      }
    },
    {
      "cell_type": "code",
      "source": [
        "%%capture\n",
        "! pip install pandas-profiling==3.1.0"
      ],
      "metadata": {
        "id": "_e6yWLf4zTEf"
      },
      "execution_count": 16,
      "outputs": []
    },
    {
      "cell_type": "code",
      "source": [
        "import pandas_profiling\n",
        "\n",
        "# pandas_profiling.ProfileReport(dados)"
      ],
      "metadata": {
        "id": "YS7IE9hTzVSu"
      },
      "execution_count": 17,
      "outputs": []
    },
    {
      "cell_type": "markdown",
      "source": [
        "Correlação é uma associação estatística que corresponde ao grau pelo qual duas variáveis estão linearmente relacionadas e esse grau pode ser medido através de um valor. Os valores da correlação estão compreendidos entre -1 e 1."
      ],
      "metadata": {
        "id": "_fv4LxBDdNWF"
      }
    },
    {
      "cell_type": "markdown",
      "source": [
        "# <font color=orange><b>4. MODELAGEM</b></font>\n",
        "\n",
        "1. Pre-processamento\n",
        "    * Encoding\n",
        "    * Balanceamento\n",
        "    * Separação das Variáveis\n",
        "    * Separação dos conjuntos Treino e Teste\n",
        "2. Modelagem do algorítmo\n",
        "3. Validação\n"
      ],
      "metadata": {
        "id": "oR8PGqPMgf8m"
      }
    },
    {
      "cell_type": "code",
      "source": [
        "data = dd['encoded_clean']"
      ],
      "metadata": {
        "id": "Iq9LKAlt5Bh4"
      },
      "execution_count": 18,
      "outputs": []
    },
    {
      "cell_type": "markdown",
      "source": [
        "## <font color=orange>4.1. Separação dos Conjuntos</font>"
      ],
      "metadata": {
        "id": "53nllAVDDweD"
      }
    },
    {
      "cell_type": "markdown",
      "source": [
        "### <font color=orange>a. Separação das Variáveis</font>"
      ],
      "metadata": {
        "id": "eRBRevtmERxz"
      }
    },
    {
      "cell_type": "code",
      "source": [
        "# Variáveis Resposta e Alvo\n",
        "X = data.drop(columns=['fraude'])\n",
        "y = data['fraude']"
      ],
      "metadata": {
        "id": "XUAIJcMxhHEP"
      },
      "execution_count": 19,
      "outputs": []
    },
    {
      "cell_type": "markdown",
      "source": [
        "### <font color=orange>a. Balanceamento</font>\n",
        "\n",
        "* Como observado na Matriz de Confusão, o dados na categoria alvo são desbalanceados. São poucos os registros de fraudes em comparação aos de não fraude. \n",
        "\n",
        "Para tratar o desbalanceamento podem ser feito ou *undersampling* ou o *oversampling*.\n",
        "\n",
        "* **Undersampling**: Reduz os dados de maior frequência para o mesmo número do de menor frequência.\n",
        "    * Muitas vezes é uma escolha ruim, pois pode reduzir muito a quantidade de dados existentes.\n",
        "\n",
        "* **Oversampling**: Copiar os dados de menor frequência até ter a mesma frequência da outra classe.\n",
        "    * É problemático criar dados sintéticos em dados reais. Por isso, essa criação não deve ser aleatória. A técnica SMOTE ajuda nessa criação.\n",
        "\n"
      ],
      "metadata": {
        "id": "iz4Pf2WXZX2L"
      }
    },
    {
      "cell_type": "markdown",
      "source": [
        "O SMOTE usa o KNN para criar novos dados, baseando-se em vizinhos."
      ],
      "metadata": {
        "id": "hcw7TMp5BIFI"
      }
    },
    {
      "cell_type": "code",
      "source": [
        "%%capture\n",
        "!pip install -U imbalanced-learn"
      ],
      "metadata": {
        "id": "5e9oph6r_sjt"
      },
      "execution_count": 20,
      "outputs": []
    },
    {
      "cell_type": "code",
      "source": [
        "from imblearn.over_sampling import SMOTE\n",
        "import numpy as np\n",
        "\n",
        "SEED = 42\n",
        "smote = SMOTE(random_state=SEED)\n",
        "\n",
        "X_resampled, y_resampled = smote.fit_resample(X, y)\n",
        "dados_balanced = pd.concat([y_resampled, X_resampled], axis=1)\n",
        "dados_balanced"
      ],
      "metadata": {
        "id": "NHjomH0_BxvG",
        "colab": {
          "base_uri": "https://localhost:8080/",
          "height": 488
        },
        "outputId": "a8b1cff7-e8fc-46a0-eb5b-634454be2773"
      },
      "execution_count": 21,
      "outputs": [
        {
          "output_type": "execute_result",
          "data": {
            "text/plain": [
              "        fraude  tempo          valor  saldo_inicial_c1  novo_saldo_c1  \\\n",
              "0            0      1    9839.640000     170136.000000      160296.36   \n",
              "1            0      1    1864.280000      21249.000000       19384.72   \n",
              "2            1      1     181.000000        181.000000           0.00   \n",
              "3            1      1     181.000000        181.000000           0.00   \n",
              "4            0      1   11668.140000      41554.000000       29885.86   \n",
              "...        ...    ...            ...               ...            ...   \n",
              "202989       1      5   17608.962863      17608.962863           0.00   \n",
              "202990       1      7   12116.291013      12116.291013           0.00   \n",
              "202991       1      1  231612.880715     231612.880715           0.00   \n",
              "202992       1      9  547325.144758     547325.144758           0.00   \n",
              "202993       1      4  159298.594420     159298.594420           0.00   \n",
              "\n",
              "        saldo_inicial_c2  novo_saldo_c2  tipo_CASH_IN  tipo_CASH_OUT  \\\n",
              "0               0.000000       0.000000             0              0   \n",
              "1               0.000000       0.000000             0              0   \n",
              "2               0.000000       0.000000             0              0   \n",
              "3           21182.000000       0.000000             0              1   \n",
              "4               0.000000       0.000000             0              0   \n",
              "...                  ...            ...           ...            ...   \n",
              "202989          0.000000       0.000000             0              0   \n",
              "202990          0.000000       0.000000             0              0   \n",
              "202991       1945.589357    9370.603471             0              0   \n",
              "202992          0.000000       0.000000             0              0   \n",
              "202993          0.000000       0.000000             0              0   \n",
              "\n",
              "        tipo_DEBIT  tipo_PAYMENT  tipo_TRANSFER  \n",
              "0                0             1              0  \n",
              "1                0             1              0  \n",
              "2                0             0              1  \n",
              "3                0             0              0  \n",
              "4                0             1              0  \n",
              "...            ...           ...            ...  \n",
              "202989           0             0              1  \n",
              "202990           0             0              1  \n",
              "202991           0             0              0  \n",
              "202992           0             0              1  \n",
              "202993           0             0              1  \n",
              "\n",
              "[202994 rows x 12 columns]"
            ],
            "text/html": [
              "\n",
              "  <div id=\"df-1a8cc077-4978-494b-b608-0560c1d6de22\">\n",
              "    <div class=\"colab-df-container\">\n",
              "      <div>\n",
              "<style scoped>\n",
              "    .dataframe tbody tr th:only-of-type {\n",
              "        vertical-align: middle;\n",
              "    }\n",
              "\n",
              "    .dataframe tbody tr th {\n",
              "        vertical-align: top;\n",
              "    }\n",
              "\n",
              "    .dataframe thead th {\n",
              "        text-align: right;\n",
              "    }\n",
              "</style>\n",
              "<table border=\"1\" class=\"dataframe\">\n",
              "  <thead>\n",
              "    <tr style=\"text-align: right;\">\n",
              "      <th></th>\n",
              "      <th>fraude</th>\n",
              "      <th>tempo</th>\n",
              "      <th>valor</th>\n",
              "      <th>saldo_inicial_c1</th>\n",
              "      <th>novo_saldo_c1</th>\n",
              "      <th>saldo_inicial_c2</th>\n",
              "      <th>novo_saldo_c2</th>\n",
              "      <th>tipo_CASH_IN</th>\n",
              "      <th>tipo_CASH_OUT</th>\n",
              "      <th>tipo_DEBIT</th>\n",
              "      <th>tipo_PAYMENT</th>\n",
              "      <th>tipo_TRANSFER</th>\n",
              "    </tr>\n",
              "  </thead>\n",
              "  <tbody>\n",
              "    <tr>\n",
              "      <th>0</th>\n",
              "      <td>0</td>\n",
              "      <td>1</td>\n",
              "      <td>9839.640000</td>\n",
              "      <td>170136.000000</td>\n",
              "      <td>160296.36</td>\n",
              "      <td>0.000000</td>\n",
              "      <td>0.000000</td>\n",
              "      <td>0</td>\n",
              "      <td>0</td>\n",
              "      <td>0</td>\n",
              "      <td>1</td>\n",
              "      <td>0</td>\n",
              "    </tr>\n",
              "    <tr>\n",
              "      <th>1</th>\n",
              "      <td>0</td>\n",
              "      <td>1</td>\n",
              "      <td>1864.280000</td>\n",
              "      <td>21249.000000</td>\n",
              "      <td>19384.72</td>\n",
              "      <td>0.000000</td>\n",
              "      <td>0.000000</td>\n",
              "      <td>0</td>\n",
              "      <td>0</td>\n",
              "      <td>0</td>\n",
              "      <td>1</td>\n",
              "      <td>0</td>\n",
              "    </tr>\n",
              "    <tr>\n",
              "      <th>2</th>\n",
              "      <td>1</td>\n",
              "      <td>1</td>\n",
              "      <td>181.000000</td>\n",
              "      <td>181.000000</td>\n",
              "      <td>0.00</td>\n",
              "      <td>0.000000</td>\n",
              "      <td>0.000000</td>\n",
              "      <td>0</td>\n",
              "      <td>0</td>\n",
              "      <td>0</td>\n",
              "      <td>0</td>\n",
              "      <td>1</td>\n",
              "    </tr>\n",
              "    <tr>\n",
              "      <th>3</th>\n",
              "      <td>1</td>\n",
              "      <td>1</td>\n",
              "      <td>181.000000</td>\n",
              "      <td>181.000000</td>\n",
              "      <td>0.00</td>\n",
              "      <td>21182.000000</td>\n",
              "      <td>0.000000</td>\n",
              "      <td>0</td>\n",
              "      <td>1</td>\n",
              "      <td>0</td>\n",
              "      <td>0</td>\n",
              "      <td>0</td>\n",
              "    </tr>\n",
              "    <tr>\n",
              "      <th>4</th>\n",
              "      <td>0</td>\n",
              "      <td>1</td>\n",
              "      <td>11668.140000</td>\n",
              "      <td>41554.000000</td>\n",
              "      <td>29885.86</td>\n",
              "      <td>0.000000</td>\n",
              "      <td>0.000000</td>\n",
              "      <td>0</td>\n",
              "      <td>0</td>\n",
              "      <td>0</td>\n",
              "      <td>1</td>\n",
              "      <td>0</td>\n",
              "    </tr>\n",
              "    <tr>\n",
              "      <th>...</th>\n",
              "      <td>...</td>\n",
              "      <td>...</td>\n",
              "      <td>...</td>\n",
              "      <td>...</td>\n",
              "      <td>...</td>\n",
              "      <td>...</td>\n",
              "      <td>...</td>\n",
              "      <td>...</td>\n",
              "      <td>...</td>\n",
              "      <td>...</td>\n",
              "      <td>...</td>\n",
              "      <td>...</td>\n",
              "    </tr>\n",
              "    <tr>\n",
              "      <th>202989</th>\n",
              "      <td>1</td>\n",
              "      <td>5</td>\n",
              "      <td>17608.962863</td>\n",
              "      <td>17608.962863</td>\n",
              "      <td>0.00</td>\n",
              "      <td>0.000000</td>\n",
              "      <td>0.000000</td>\n",
              "      <td>0</td>\n",
              "      <td>0</td>\n",
              "      <td>0</td>\n",
              "      <td>0</td>\n",
              "      <td>1</td>\n",
              "    </tr>\n",
              "    <tr>\n",
              "      <th>202990</th>\n",
              "      <td>1</td>\n",
              "      <td>7</td>\n",
              "      <td>12116.291013</td>\n",
              "      <td>12116.291013</td>\n",
              "      <td>0.00</td>\n",
              "      <td>0.000000</td>\n",
              "      <td>0.000000</td>\n",
              "      <td>0</td>\n",
              "      <td>0</td>\n",
              "      <td>0</td>\n",
              "      <td>0</td>\n",
              "      <td>1</td>\n",
              "    </tr>\n",
              "    <tr>\n",
              "      <th>202991</th>\n",
              "      <td>1</td>\n",
              "      <td>1</td>\n",
              "      <td>231612.880715</td>\n",
              "      <td>231612.880715</td>\n",
              "      <td>0.00</td>\n",
              "      <td>1945.589357</td>\n",
              "      <td>9370.603471</td>\n",
              "      <td>0</td>\n",
              "      <td>0</td>\n",
              "      <td>0</td>\n",
              "      <td>0</td>\n",
              "      <td>0</td>\n",
              "    </tr>\n",
              "    <tr>\n",
              "      <th>202992</th>\n",
              "      <td>1</td>\n",
              "      <td>9</td>\n",
              "      <td>547325.144758</td>\n",
              "      <td>547325.144758</td>\n",
              "      <td>0.00</td>\n",
              "      <td>0.000000</td>\n",
              "      <td>0.000000</td>\n",
              "      <td>0</td>\n",
              "      <td>0</td>\n",
              "      <td>0</td>\n",
              "      <td>0</td>\n",
              "      <td>1</td>\n",
              "    </tr>\n",
              "    <tr>\n",
              "      <th>202993</th>\n",
              "      <td>1</td>\n",
              "      <td>4</td>\n",
              "      <td>159298.594420</td>\n",
              "      <td>159298.594420</td>\n",
              "      <td>0.00</td>\n",
              "      <td>0.000000</td>\n",
              "      <td>0.000000</td>\n",
              "      <td>0</td>\n",
              "      <td>0</td>\n",
              "      <td>0</td>\n",
              "      <td>0</td>\n",
              "      <td>1</td>\n",
              "    </tr>\n",
              "  </tbody>\n",
              "</table>\n",
              "<p>202994 rows × 12 columns</p>\n",
              "</div>\n",
              "      <button class=\"colab-df-convert\" onclick=\"convertToInteractive('df-1a8cc077-4978-494b-b608-0560c1d6de22')\"\n",
              "              title=\"Convert this dataframe to an interactive table.\"\n",
              "              style=\"display:none;\">\n",
              "        \n",
              "  <svg xmlns=\"http://www.w3.org/2000/svg\" height=\"24px\"viewBox=\"0 0 24 24\"\n",
              "       width=\"24px\">\n",
              "    <path d=\"M0 0h24v24H0V0z\" fill=\"none\"/>\n",
              "    <path d=\"M18.56 5.44l.94 2.06.94-2.06 2.06-.94-2.06-.94-.94-2.06-.94 2.06-2.06.94zm-11 1L8.5 8.5l.94-2.06 2.06-.94-2.06-.94L8.5 2.5l-.94 2.06-2.06.94zm10 10l.94 2.06.94-2.06 2.06-.94-2.06-.94-.94-2.06-.94 2.06-2.06.94z\"/><path d=\"M17.41 7.96l-1.37-1.37c-.4-.4-.92-.59-1.43-.59-.52 0-1.04.2-1.43.59L10.3 9.45l-7.72 7.72c-.78.78-.78 2.05 0 2.83L4 21.41c.39.39.9.59 1.41.59.51 0 1.02-.2 1.41-.59l7.78-7.78 2.81-2.81c.8-.78.8-2.07 0-2.86zM5.41 20L4 18.59l7.72-7.72 1.47 1.35L5.41 20z\"/>\n",
              "  </svg>\n",
              "      </button>\n",
              "      \n",
              "  <style>\n",
              "    .colab-df-container {\n",
              "      display:flex;\n",
              "      flex-wrap:wrap;\n",
              "      gap: 12px;\n",
              "    }\n",
              "\n",
              "    .colab-df-convert {\n",
              "      background-color: #E8F0FE;\n",
              "      border: none;\n",
              "      border-radius: 50%;\n",
              "      cursor: pointer;\n",
              "      display: none;\n",
              "      fill: #1967D2;\n",
              "      height: 32px;\n",
              "      padding: 0 0 0 0;\n",
              "      width: 32px;\n",
              "    }\n",
              "\n",
              "    .colab-df-convert:hover {\n",
              "      background-color: #E2EBFA;\n",
              "      box-shadow: 0px 1px 2px rgba(60, 64, 67, 0.3), 0px 1px 3px 1px rgba(60, 64, 67, 0.15);\n",
              "      fill: #174EA6;\n",
              "    }\n",
              "\n",
              "    [theme=dark] .colab-df-convert {\n",
              "      background-color: #3B4455;\n",
              "      fill: #D2E3FC;\n",
              "    }\n",
              "\n",
              "    [theme=dark] .colab-df-convert:hover {\n",
              "      background-color: #434B5C;\n",
              "      box-shadow: 0px 1px 3px 1px rgba(0, 0, 0, 0.15);\n",
              "      filter: drop-shadow(0px 1px 2px rgba(0, 0, 0, 0.3));\n",
              "      fill: #FFFFFF;\n",
              "    }\n",
              "  </style>\n",
              "\n",
              "      <script>\n",
              "        const buttonEl =\n",
              "          document.querySelector('#df-1a8cc077-4978-494b-b608-0560c1d6de22 button.colab-df-convert');\n",
              "        buttonEl.style.display =\n",
              "          google.colab.kernel.accessAllowed ? 'block' : 'none';\n",
              "\n",
              "        async function convertToInteractive(key) {\n",
              "          const element = document.querySelector('#df-1a8cc077-4978-494b-b608-0560c1d6de22');\n",
              "          const dataTable =\n",
              "            await google.colab.kernel.invokeFunction('convertToInteractive',\n",
              "                                                     [key], {});\n",
              "          if (!dataTable) return;\n",
              "\n",
              "          const docLinkHtml = 'Like what you see? Visit the ' +\n",
              "            '<a target=\"_blank\" href=https://colab.research.google.com/notebooks/data_table.ipynb>data table notebook</a>'\n",
              "            + ' to learn more about interactive tables.';\n",
              "          element.innerHTML = '';\n",
              "          dataTable['output_type'] = 'display_data';\n",
              "          await google.colab.output.renderOutput(dataTable, element);\n",
              "          const docLink = document.createElement('div');\n",
              "          docLink.innerHTML = docLinkHtml;\n",
              "          element.appendChild(docLink);\n",
              "        }\n",
              "      </script>\n",
              "    </div>\n",
              "  </div>\n",
              "  "
            ]
          },
          "metadata": {},
          "execution_count": 21
        }
      ]
    },
    {
      "cell_type": "code",
      "source": [
        "# Verificação dos dados balanceados\n",
        "dados_balanced.value_counts('fraude')"
      ],
      "metadata": {
        "colab": {
          "base_uri": "https://localhost:8080/"
        },
        "id": "J3r8wxKoFH0y",
        "outputId": "faea80e3-0ad4-4b24-9335-a80259832090"
      },
      "execution_count": 22,
      "outputs": [
        {
          "output_type": "execute_result",
          "data": {
            "text/plain": [
              "fraude\n",
              "0    101497\n",
              "1    101497\n",
              "dtype: int64"
            ]
          },
          "metadata": {},
          "execution_count": 22
        }
      ]
    },
    {
      "cell_type": "markdown",
      "source": [
        "### <font color=orange>a. Separação dos Conjuntos</font>"
      ],
      "metadata": {
        "id": "VMHdlLjQDT3c"
      }
    },
    {
      "cell_type": "code",
      "source": [
        "# Conjuntos de treino e teste\n",
        "from sklearn.model_selection import train_test_split\n",
        "\n",
        "SEED = 42\n",
        "X_train, X_test, y_train, y_test = train_test_split(X, y, test_size=0.25, random_state=SEED)"
      ],
      "metadata": {
        "id": "i1vnWOlOhWR-"
      },
      "execution_count": 23,
      "outputs": []
    },
    {
      "cell_type": "markdown",
      "source": [
        "## <font color=orange>a. Regressão Logística</font>"
      ],
      "metadata": {
        "id": "SxEIFDd_goe7"
      }
    },
    {
      "cell_type": "markdown",
      "source": [
        "É um modelo de classificação através da probabilidade da ocorrência da classificação binária."
      ],
      "metadata": {
        "id": "1To8rwGggwQ0"
      }
    },
    {
      "cell_type": "code",
      "source": [
        "# Treinamento do Modelo\n",
        "from sklearn.linear_model import LogisticRegression\n",
        "\n",
        "lr = LogisticRegression(max_iter=1000, random_state=SEED)\n",
        "lr.fit(X_train, y_train)"
      ],
      "metadata": {
        "colab": {
          "base_uri": "https://localhost:8080/"
        },
        "id": "d07T_TASh54s",
        "outputId": "39abd271-2b11-4483-c549-2426127fd115"
      },
      "execution_count": 24,
      "outputs": [
        {
          "output_type": "execute_result",
          "data": {
            "text/plain": [
              "LogisticRegression(max_iter=1000, random_state=42)"
            ]
          },
          "metadata": {},
          "execution_count": 24
        }
      ]
    },
    {
      "cell_type": "markdown",
      "source": [
        "## <font color=orange>b. Validação do Modelo</font>"
      ],
      "metadata": {
        "id": "5METhe75nU5l"
      }
    },
    {
      "cell_type": "markdown",
      "source": [
        "### <font color=orange>Métricas</font>"
      ],
      "metadata": {
        "id": "qsHbMnCTneYo"
      }
    },
    {
      "cell_type": "code",
      "source": [
        "from sklearn import metrics\n",
        "\n",
        "y_pred = lr.predict(X_test)\n",
        "\n",
        "print(\"Acurácia:\", metrics.accuracy_score(y_test, y_pred).round(3))\n",
        "print(\"Precisão:\", metrics.precision_score(y_test, y_pred).round(3))\n",
        "print(\"Recall:\",   metrics.recall_score(y_test, y_pred).round(3)) \n",
        "print(\"F1:\",       metrics.f1_score(y_test, y_pred).round(3))"
      ],
      "metadata": {
        "colab": {
          "base_uri": "https://localhost:8080/"
        },
        "id": "m4vSsGBLijbp",
        "outputId": "f2d2f110-b8de-4814-db1c-c5a6cf28919f"
      },
      "execution_count": 25,
      "outputs": [
        {
          "output_type": "stream",
          "name": "stdout",
          "text": [
            "Acurácia: 0.999\n",
            "Precisão: 0.2\n",
            "Recall: 0.043\n",
            "F1: 0.071\n"
          ]
        }
      ]
    },
    {
      "cell_type": "markdown",
      "source": [
        "<font color=orange><b>Acurácia/Accuracy</b></font>: representa a assertividade em relação ao todo. Avalia a proporção de acertos em relação a todas as previsões realizadas. É obtida somando a diagonal principal da matriz e dividindo pela soma de todos os valores.\n",
        "\n",
        "$$Acurácia = \\frac{VN + VP}{VN + VP + FN + FP}$$\n",
        "\n",
        "<font color=orange><b>Precisão/Precision</b></font>: Avalia a proporção de <font color=orange>verdadeiros positivos</font> dentre as predições dadas como <font color=orange>positivas</font> pelo modelo. É obtida dividindo os verdadeiros positivos pela soma das previsões positivas.\n",
        "\n",
        "$$Precison = \\frac{VP}{VP + FP}$$\n",
        "\n",
        "<font color=orange><b>Recall</b></font> (sensibilidade): capacidade do modelo de acertar as classes (0 ou 1). Avalia a proporção de <font color=orange>verdadeiros positivos</font> dentre todos os valores <font color=orange>positivos reais</font>. É obtida dividindo os verdadeiros positivos pela soma de positivos reais.\n",
        "\n",
        "$$Recall = \\frac{VP}{VP + FN}$$\n",
        "\n",
        "<font color=orange><b>F1</b></font>: Média harmônica entre <font color=orange>Precisão</font> e <font color=orange>Recall</font>. Ela busca um equilíbrio entre as duas métricas.\n",
        "\n",
        "$$F1 = 2 * \\frac{precisão * recall}{precisão + recall}$$\n",
        "\n",
        "<font color=orange><b></b></font><font color=orange></font>\n"
      ],
      "metadata": {
        "id": "4xB95chEhaLL"
      }
    },
    {
      "cell_type": "markdown",
      "source": [
        "\n",
        "> * Total de Positivos Reais: $VP + FN$\n",
        "> * Total de Negatviso Reais: $VN + FP$\n",
        "> * Total de Positivos do Modelo: $VP + FP$\n",
        "> * Total de Negativos do Modelo: $VN + FP$\n",
        "\n",
        "> * Acurácia alta e F1 baixo: indica que a acurácia não é tão confiável."
      ],
      "metadata": {
        "id": "tt6Lyy90nM08"
      }
    },
    {
      "cell_type": "markdown",
      "source": [
        "Em bases desbalanceadas, a acurácia pode estar com grande desempenho, mas as demais com muito baixo. Por isso é importante sempre olhar as demais métricas.\n",
        "\n",
        "> Então quando essas métricas apresentam um desempenho ruim e a acurácia tem um desempenho muito bom, é um sinal de que o resultado está sendo influenciado pelos dados desbalanceados."
      ],
      "metadata": {
        "id": "GtY9rCFYVxzD"
      }
    },
    {
      "cell_type": "markdown",
      "source": [
        "### <font color=orange>Matriz de Confusão</font>"
      ],
      "metadata": {
        "id": "F6G6IMhSni5j"
      }
    },
    {
      "cell_type": "markdown",
      "source": [
        "* X = Classes Preditass\n",
        "* Y = Classes Reais"
      ],
      "metadata": {
        "id": "6c3si6oDoj4B"
      }
    },
    {
      "cell_type": "markdown",
      "source": [
        "* Permite visuzalizar os elementos que compõe o cálculo das métricas, identificando desbalanceamentos na base."
      ],
      "metadata": {
        "id": "gsmmcA8QoLOv"
      }
    },
    {
      "cell_type": "code",
      "source": [
        "import matplotlib.pyplot as plt\n",
        "from sklearn.metrics import confusion_matrix\n",
        "from sklearn.metrics import ConfusionMatrixDisplay\n",
        "\n",
        "cm = confusion_matrix(y_test, y_pred)\n",
        "\n",
        "disp = ConfusionMatrixDisplay(confusion_matrix=cm)\n",
        "disp.plot()"
      ],
      "metadata": {
        "colab": {
          "base_uri": "https://localhost:8080/"
        },
        "id": "ejirXVVvnrE7",
        "outputId": "b6568b63-cd98-4bc8-8fd4-e155ae403559"
      },
      "execution_count": 26,
      "outputs": [
        {
          "output_type": "execute_result",
          "data": {
            "text/plain": [
              "<sklearn.metrics._plot.confusion_matrix.ConfusionMatrixDisplay at 0x7fcfddb8aa30>"
            ]
          },
          "metadata": {},
          "execution_count": 26
        }
      ]
    },
    {
      "cell_type": "markdown",
      "source": [
        "### <font color=orange>Curva ROC e AUC (Area under Curve)</font>\n",
        "\n",
        "O termo ROC refere-se a Receiver Operating Characteristic. É uma curva que ajuda a validar o modelo. Ela avalia diferentes pontos de corte (*threshold*) para avaliar a performance do modelo.\n",
        "\n",
        "1. PROBABILIDADE DA CLASSE: Na construção de um modelo de classificação, a predição de uma classe está atrelada a uma probabilidade. Ou seja, para atribuir uma classe a uma observação, os modelos avaliam a probabilidade dessa classe dada essa observação.\n",
        "\n",
        "2. PONTO DE CORTE: o ponto de corte é um valor de probabilidade, o qual é o marco de divisão entre a classificação a negativa `0` e a positiva `1`. Ao variar o ponto de corte, o modelo acerta mais uma classe e erra mais a outra."
      ],
      "metadata": {
        "id": "-4AUtmiVoVAg"
      }
    },
    {
      "cell_type": "markdown",
      "source": [
        "No caso abaixo, estão representados a precisão e o recall. Na imagem são definidos três pontos de corte em 25%, 50% e 75%, representados pelas setas verticais. Os zeros e uns são os valores reais das classes e a classificação será feita através dos pontos de corte. Os valores à esquerda da seta serão classificados pelo modelo como 0 e os valores à direita serão classificados como 1."
      ],
      "metadata": {
        "id": "3fbx2wrPwKoo"
      }
    },
    {
      "cell_type": "markdown",
      "source": [
        "![image.png](data:image/png;base64,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)"
      ],
      "metadata": {
        "id": "Vgg16QSiwHAQ"
      }
    },
    {
      "cell_type": "markdown",
      "source": [
        "No primeiro ponto de corte, temos 3 valores à esquerda classificados como 0 e 9 valores à direita classificados como 1. A precisão é dada por 5/(5+4) = 55,5% indicando que 5 valores foram classificados corretamente como 1, dentre 9 valores totais classificados como 1. O recall é dado por 5/(5+1) = 83% mostrando que 5 valores foram classificados corretamente como 1, dentre 6 valores reais 1 no conjunto de dados.\n",
        "\n",
        "Para cada ponto de corte, uma matriz de confusão pode ser criada e as métricas podem ser extraídas em uma tabela, na qual cada linha representa um ponto de corte com suas respectivas métricas. Desta tabela, podem ser construídos gráficos para análise do modelo."
      ],
      "metadata": {
        "id": "rq-WWVy6wHd4"
      }
    },
    {
      "cell_type": "markdown",
      "source": [
        "Ela mostra a relação entre a taxa dos **verdadeiros positivos** e a taxa dos **falsos positivos** para **vários pontos de cortes diferentes**. A taxa dos verdadeiros positivos representa a taxa de amostras positivas que são corretamente classificadas."
      ],
      "metadata": {
        "id": "Tsb5opybxS__"
      }
    },
    {
      "cell_type": "markdown",
      "source": [
        "> * Taxa dos verdadeiros positivos: taxa de amostras positivas que são corretamente classificadas\n",
        "\n",
        "$$ Taxa de Verdadeiros Positivos = Recall$$\n",
        "\n",
        "> * Taxa de Falsos Positivos: representa a taxa de amostras positivas que são classificadas erroneamente\n",
        "\n",
        "$$Taxa de Falsos Positivos = 1 - Recall = \\frac{FP}{VN + FP}$$"
      ],
      "metadata": {
        "id": "ctPXuZ-kxonA"
      }
    },
    {
      "cell_type": "markdown",
      "source": [
        "* Existe uma linha de referência na diagonal do gráfico que corresponde à uma linha de base e representa o caso no qual o classificador classifica aleatoriamente as classes.\n",
        "* Através da curva em azul, é possível extrair uma métrica conhecida como AUC (Area Under the Curve) ou área sob a curva. Essa métrica varia de 0 a 1 e quanto maior o seu valor, melhor será avaliado o modelo."
      ],
      "metadata": {
        "id": "ItSbItwK9s2-"
      }
    },
    {
      "cell_type": "markdown",
      "source": [
        "INTERPRETAÇÃO\n",
        "\n",
        "Percebe-se que a linha representando o classificador Regressão Logística, com o nome de data 1, cresce de uma forma relativamente rápida até atingir o valor máximo da taxa de verdadeiros positivos (o recall). Isso significa que o modelo atinge 100% de classificação correta dos positivos em aproximadamente (0.2, 1) e permanece até atingir o ponto (1, 1) do gráfico.\n",
        "\n",
        "Esse ponto no gráfico nos diz que o modelo tem 100% de taxa de verdadeiros positivos e 100% de taxa de falso negativos. Isso demonstra que o modelo classifica todas as amostras positivas corretamente e que todas as que não são positivas foram incorretamente classificadas. Então, quando o modelo chega em 100% de taxa de verdadeiros positivos e lá permanece até atingir 100% da taxa de falsos positivos, significa que o modelo consegue classificar todas as amostras positivas de forma correta, independentemente do threshold adotado."
      ],
      "metadata": {
        "id": "uvsA9g4c-J61"
      }
    },
    {
      "cell_type": "markdown",
      "source": [
        "> * ROC: Quanto mais próximo de 1 no eixo Y melhor\n",
        "> * AUC: Quanto mais próximo do valor 1 melhor\n",
        "> * Avalia-se a curva ROC, analisando em que momento a curva se aproxima do máximo (1)\n",
        "\n",
        "* Se há quebras é por causa de poucos dados ou desbalanceamento\n",
        "* A curva deve ser a mais suave possível\n",
        "* Deve subir o mais rápido\n",
        "* Deve estarbilizar o quanto antes"
      ],
      "metadata": {
        "id": "-aRAfy-tsa4A"
      }
    },
    {
      "cell_type": "markdown",
      "source": [
        "> * Não é uma métrica fácil de ser apresentada para pessoas que não a conhecem."
      ],
      "metadata": {
        "id": "pTlxORXDgbdR"
      }
    },
    {
      "cell_type": "code",
      "source": [
        "# Gráfico ROC e AUC\n",
        "%matplotlib inline\n",
        "y_pred_proba = lr.predict_proba(X_test)[::, 1]\n",
        "fpr, tpr, _= metrics.roc_curve(y_test, y_pred_proba)\n",
        "auc = metrics.roc_auc_score(y_test, y_pred_proba)\n",
        "\n",
        "plt.figure(figsize=(12,8))\n",
        "plt.plot(fpr,tpr,label=\"LR, auc=\" + str(auc.round(4)))\n",
        "plt.plot([0, 1], [0, 1], color='red', lw=2, linestyle='--')\n",
        "plt.legend(loc=4)\n",
        "plt.ylabel('Taxa de Verdadeiros Positivos (Recall)', fontsize=14)\n",
        "plt.xlabel('Taxa de Falsos Positivos (1 - Recall)', fontsize=14)\n",
        "plt.show()"
      ],
      "metadata": {
        "colab": {
          "base_uri": "https://localhost:8080/",
          "height": 437
        },
        "id": "NjUts_PesBGJ",
        "outputId": "2864f28b-7062-4a4d-9ea7-b2e032a48b80"
      },
      "execution_count": 27,
      "outputs": [
        {
          "output_type": "display_data",
          "data": {
            "text/plain": [
              "<Figure size 864x576 with 1 Axes>"
            ],
            "image/png": "[encoded data removed]"
          },
          "metadata": {
            "needs_background": "light"
          }
        }
      ]
    },
    {
      "cell_type": "markdown",
      "source": [
        "### **Teste após balanceamento**"
      ],
      "metadata": {
        "id": "e--zw-rlKR2P"
      }
    },
    {
      "cell_type": "markdown",
      "source": [
        "A avaliação do modelo com após o **balanceamento** apresentou resultados de precisão, recall e F1 muito melhores do que sem o balanceamento."
      ],
      "metadata": {
        "id": "2BCdGFaPMNKC"
      }
    },
    {
      "cell_type": "markdown",
      "source": [
        "* Fazer o mesmo teste, mas sem fazer o resample do TESTE\n",
        "* Fazer train test splt proporcional"
      ],
      "metadata": {
        "id": "TUy0klBDinU3"
      }
    },
    {
      "cell_type": "code",
      "source": [
        "SEED = 42\n",
        "X_train, X_test, y_train, y_test = train_test_split(X_resampled, y_resampled, test_size=0.25, random_state=SEED)\n",
        "\n",
        "lr = LogisticRegression(max_iter=1000, random_state=SEED)\n",
        "lr.fit(X_train, y_train)\n",
        "\n",
        "y_pred = lr.predict(X_test)\n",
        "print(\"Acurácia:\", metrics.accuracy_score(y_test, y_pred).round(3))\n",
        "print(\"Precisão:\", metrics.precision_score(y_test, y_pred).round(3))\n",
        "print(\"Recall:\",   metrics.recall_score(y_test, y_pred).round(3)) \n",
        "print(\"F1:\",       metrics.f1_score(y_test, y_pred).round(3))"
      ],
      "metadata": {
        "colab": {
          "base_uri": "https://localhost:8080/"
        },
        "id": "YGFFfOvlLHND",
        "outputId": "2c25187b-057d-4e12-9a66-f4c40357d8e6"
      },
      "execution_count": 28,
      "outputs": [
        {
          "output_type": "stream",
          "name": "stdout",
          "text": [
            "Acurácia: 0.942\n",
            "Precisão: 0.924\n",
            "Recall: 0.962\n",
            "F1: 0.943\n"
          ]
        }
      ]
    },
    {
      "cell_type": "code",
      "source": [
        "cm = confusion_matrix(y_test, y_pred)\n",
        "\n",
        "disp = ConfusionMatrixDisplay(confusion_matrix=cm)\n",
        "disp.plot()"
      ],
      "metadata": {
        "colab": {
          "base_uri": "https://localhost:8080/",
          "height": 296
        },
        "id": "IcTgsy1pMHid",
        "outputId": "cf99917b-8387-4568-89f3-d9f5dfcb5399"
      },
      "execution_count": 29,
      "outputs": [
        {
          "output_type": "execute_result",
          "data": {
            "text/plain": [
              "<sklearn.metrics._plot.confusion_matrix.ConfusionMatrixDisplay at 0x7fcfee11f490>"
            ]
          },
          "metadata": {},
          "execution_count": 29
        },
        {
          "output_type": "display_data",
          "data": {
            "text/plain": [
              "<Figure size 432x288 with 2 Axes>"
            ],
            "image/png": "[encoded data removed]"
          },
          "metadata": {
            "needs_background": "light"
          }
        }
      ]
    },
    {
      "cell_type": "code",
      "source": [
        "# Gráfico ROC e AUC\n",
        "y_pred_proba = lr.predict_proba(X_test)[::, 1]\n",
        "fpr, tpr, _= metrics.roc_curve(y_test, y_pred_proba)\n",
        "auc = metrics.roc_auc_score(y_test, y_pred_proba)\n",
        "\n",
        "plt.figure(figsize=(12,8))\n",
        "plt.plot(fpr,tpr,label=\"LR, auc=\" + str(auc.round(4)))\n",
        "plt.plot([0, 1], [0, 1], color='red', lw=2, linestyle='--')\n",
        "plt.legend(loc=4)\n",
        "plt.ylabel('Taxa de Verdadeiros Positivos (Recall)', fontsize=14)\n",
        "plt.xlabel('Taxa de Falsos Positivos (1 - Recall)', fontsize=14);"
      ],
      "metadata": {
        "colab": {
          "base_uri": "https://localhost:8080/",
          "height": 437
        },
        "id": "6AA74BrqLWYV",
        "outputId": "e4424802-e643-4635-c4e4-b3c302f7b32f"
      },
      "execution_count": 30,
      "outputs": [
        {
          "output_type": "display_data",
          "data": {
            "text/plain": [
              "<Figure size 864x576 with 1 Axes>"
            ],
            "image/png": "[encoded data removed]"
          },
          "metadata": {
            "needs_background": "light"
          }
        }
      ]
    },
    {
      "cell_type": "markdown",
      "source": [
        "# <font color=orange><b>5. HIPÓTESES</b></font>\n",
        "\n"
      ],
      "metadata": {
        "id": "Yl9yStTZvwS0"
      }
    },
    {
      "cell_type": "markdown",
      "source": [
        "Nesta etapa é realizada algumas hipóteses sobre as causas e os padrões da classificação. Ela é muito importante nos projetos de ciência de dados para que se compreenda melhor o PROBLEMA de negócio que se quer resolver. Ela retoma à primeira etapa de entendimento do problema."
      ],
      "metadata": {
        "id": "uFPa6EOdv7r5"
      }
    },
    {
      "cell_type": "markdown",
      "source": [
        "Uma estratégia para formulação dessas hipóteses é analisar as variáveis que possuem alta correlação com a variável alvo, para entender o que está acontecendo dentro dos dados."
      ],
      "metadata": {
        "id": "NVMIKWk1wdDa"
      }
    },
    {
      "cell_type": "markdown",
      "source": [
        "1. **CORRELAÇÃO COM O ALVO**: No `pandas-profiling` em alertas é possível ver as indicações de alta correlação com a variável alvo. A matriz de correlação nos fornece hipóteses de quais variáveis explicativas podem estar influenciando as classes da variável alvo.\n",
        "\n",
        "2. Através dessas variáveis destacadas, para formular as hipóteses, algumas interpretações sobre as relações possíveis entre as variáveis e os comportamentos possíveis de fraude."
      ],
      "metadata": {
        "id": "w1ERYCI7wz_i"
      }
    },
    {
      "cell_type": "code",
      "source": [
        "# Análise dos dados balanceados\n",
        "# pandas_profiling.ProfileReport(dados_balanced)"
      ],
      "metadata": {
        "id": "w2_y1pLywNtq"
      },
      "execution_count": 31,
      "outputs": []
    },
    {
      "cell_type": "markdown",
      "source": [
        "**HIPÓTESES**\n",
        "\n",
        "1. **PADRÃO DE MEIO**: `tipo_PAYMENT` é o que a pessoa utiliza como padrão e a fraude ocorre por meio do `tipo_TRANSFER`\n",
        "\n",
        "1. **PADRÃO DE USO INTRA-DIÁRIO**: O cliente pode fazer seus pagamentos durante um período do dia, como por exemplo durante a manhã, e a fraude ocorre durante um período diferente, como a madrugada.\n",
        "\n",
        "1. **PADRÃO DE COMPRA INTRA-MENSAL**: O cliente paga as duas contas no começo do mês e houve uma movimentação no final do mês, sendo uma fraude.\n",
        "\n",
        "- Qual o impacto dos Falsos Negativos (fraudes não detectadas)? Qual o desempenho para o negócio dos Verdadeiros Positivos (fraudes evitadas)?\n",
        "    * Apresentação dos resultados\n",
        "\n",
        "- Análise do comportamento do todo e análise do padrão de cada cliente."
      ],
      "metadata": {
        "id": "9sz-sfx4icAQ"
      }
    },
    {
      "cell_type": "markdown",
      "source": [
        "# <font color=orange><b>6. MODELOS DE COMPARAÇÃO</b></font>\n",
        "\n"
      ],
      "metadata": {
        "id": "1YUN25Cq8DVB"
      }
    },
    {
      "cell_type": "markdown",
      "source": [
        "## Árvore de Decisão"
      ],
      "metadata": {
        "id": "Sxc3b5Qkh2th"
      }
    },
    {
      "cell_type": "markdown",
      "source": [
        "Árvore de decisão é um dos modelos de previsão mais simples, inspirado na forma que os seres humanos tomam decisões. Essas árvores podem ser utilizadas tanto para modelos de **regressão**, que têm intuito de prever valores numéricos, quanto para modelos de **classificação**, que têm o objetivo de prever categorias.\n",
        "\n",
        "**REPRESENTAÇÃO GRÁFICA**: Ela pode ser representada graficamente, de forma que cada uma das decisões tomadas no processo possam ser visualizadas. Mas, conforme aumentamos a **quantidade de variáveis** envolvidas na análise, se torna inviável essa visualização.\n",
        "\n"
      ],
      "metadata": {
        "id": "tvjuXMBTcdpR"
      }
    },
    {
      "cell_type": "markdown",
      "source": [
        "**MECANISMO**: Os elementos principais da árvore de decisão são os nós, ramos e folhas. A estrutura da árvore se inicia com um nó inicial, também chamado de raiz. A partir dela são traçadas ramificações que geram novos nós e o processo se repete para os nós subsequentes até que chegue a uma folha. Essa se trata de um nó especial e tem a informação da resposta, podendo ser uma categoria ou um valor previsto.\n",
        "\n",
        "Cada ramo representa uma tomada de decisão a partir de um valor ou categoria das variáveis explicativas, dividindo o conjunto de dados em nós que apresentam dados com características cada vez mais similares entre si.\n",
        "\n"
      ],
      "metadata": {
        "id": "LJ9__iXCckyV"
      }
    },
    {
      "cell_type": "markdown",
      "source": [
        "**DESVANTAGEM**: As árvores de decisão possuem uma característica que as impede de serem consideradas como ferramenta ideal: a imprecisão. Isso quer dizer que elas funcionam muito bem com os dados utilizados para criá-las, mas não tão bem para realizar a classificação de novas amostras. A floresta aleatória (Random Forest) busca resolver esse problema de overfitting (sobreajuste)."
      ],
      "metadata": {
        "id": "N4wngPc2cyyI"
      }
    },
    {
      "cell_type": "code",
      "source": [
        "from sklearn.tree import DecisionTreeClassifier"
      ],
      "metadata": {
        "id": "bgRmKIfahy2q"
      },
      "execution_count": 32,
      "outputs": []
    },
    {
      "cell_type": "code",
      "source": [
        "# Modelo de Árvore de Decisão\n",
        "max_depth = 5\n",
        "dt = DecisionTreeClassifier(max_depth=max_depth, random_state=SEED)"
      ],
      "metadata": {
        "id": "s8eFRa970Ilj"
      },
      "execution_count": 33,
      "outputs": []
    },
    {
      "cell_type": "code",
      "source": [
        "# Verificação métrica\n",
        "model = dt.fit(X_train, y_train)\n",
        "y_pred = dt.predict(X_test)\n",
        "\n",
        "print(\"Acurácia:\",metrics.accuracy_score(y_test, y_pred).round(3))\n",
        "print(\"Precisão:\",metrics.precision_score(y_test, y_pred).round(3))\n",
        "print(\"Recall:\",metrics.recall_score(y_test, y_pred).round(3)) \n",
        "print(\"F1:\",metrics.f1_score(y_test, y_pred).round(3))"
      ],
      "metadata": {
        "colab": {
          "base_uri": "https://localhost:8080/"
        },
        "id": "I8w8Y7CE0frE",
        "outputId": "25915597-73b4-484e-e051-4e68833ddec8"
      },
      "execution_count": 34,
      "outputs": [
        {
          "output_type": "stream",
          "name": "stdout",
          "text": [
            "Acurácia: 0.962\n",
            "Precisão: 0.938\n",
            "Recall: 0.99\n",
            "F1: 0.963\n"
          ]
        }
      ]
    },
    {
      "cell_type": "code",
      "source": [
        "# Matrix de Confusão\n",
        "plt.rcParams['figure.figsize'] = (12., 8.)\n",
        "cm = confusion_matrix(y_test, y_pred)\n",
        "disp = ConfusionMatrixDisplay(confusion_matrix=cm)\n",
        "disp.plot()"
      ],
      "metadata": {
        "colab": {
          "base_uri": "https://localhost:8080/",
          "height": 516
        },
        "id": "W7i5be2u0vT-",
        "outputId": "0b7c9e61-b3dd-43c5-9019-40bc1768ac98"
      },
      "execution_count": 35,
      "outputs": [
        {
          "output_type": "execute_result",
          "data": {
            "text/plain": [
              "<sklearn.metrics._plot.confusion_matrix.ConfusionMatrixDisplay at 0x7fcfdb4c4e80>"
            ]
          },
          "metadata": {},
          "execution_count": 35
        },
        {
          "output_type": "display_data",
          "data": {
            "text/plain": [
              "<Figure size 864x576 with 2 Axes>"
            ],
            "image/png": "[encoded data removed]"
          },
          "metadata": {
            "needs_background": "light"
          }
        }
      ]
    },
    {
      "cell_type": "code",
      "source": [
        "# Curva ROC\n",
        "y_pred_proba = dt.predict_proba(X_test)[::,1]\n",
        "fpr, tpr, _ = metrics.roc_curve(y_test,  y_pred_proba)\n",
        "auc = metrics.roc_auc_score(y_test, y_pred_proba)\n",
        "\n",
        "plt.rcParams['figure.figsize'] = (12., 8.)\n",
        "plt.plot(fpr,tpr,label=\"data 1, auc=\"+str(auc))\n",
        "plt.plot([0, 1], [0, 1], color='red', lw=2, linestyle='--')\n",
        "plt.legend(loc=4)"
      ],
      "metadata": {
        "colab": {
          "base_uri": "https://localhost:8080/",
          "height": 449
        },
        "id": "rKv7I2BR1AA7",
        "outputId": "204149c9-b1d6-4c8f-a62b-d52371aa1267"
      },
      "execution_count": 36,
      "outputs": [
        {
          "output_type": "execute_result",
          "data": {
            "text/plain": [
              "<matplotlib.legend.Legend at 0x7fcfdb4723d0>"
            ]
          },
          "metadata": {},
          "execution_count": 36
        },
        {
          "output_type": "display_data",
          "data": {
            "text/plain": [
              "<Figure size 864x576 with 1 Axes>"
            ],
            "image/png": "[encoded data removed]"
          },
          "metadata": {
            "needs_background": "light"
          }
        }
      ]
    },
    {
      "cell_type": "markdown",
      "source": [
        "* Analisar as métricas\n",
        "    * Acurácia e F1\n",
        "    * Desequilíbrio entre métricas\n",
        "* Matriz de Confusão\n",
        "    * Erro tipo I\n",
        "    * Erro tipo II\n",
        "    * Avaliação do impacto para o negócio\n",
        "* Curva ROC\n",
        "    * Desempenho do modelo."
      ],
      "metadata": {
        "id": "BvqndafG-aQP"
      }
    },
    {
      "cell_type": "markdown",
      "source": [
        "## Random Forest"
      ],
      "metadata": {
        "id": "3_koPmweulCM"
      }
    },
    {
      "cell_type": "markdown",
      "source": [
        "O Random Forest utiliza várias árvores de decisão para compor o resultado final, o que geralmente torna o resultado mais preciso."
      ],
      "metadata": {
        "id": "GZ8sBqyRxEIN"
      }
    },
    {
      "cell_type": "markdown",
      "source": [
        "O algoritmo Random Forest se baseia na utilização de diversas árvores de decisão para encontrar o resultado. Como essa árvore pode ser usada para regressão e classificação, o Random Forest também pode ser utilizado para os dois tipos de problemas. Vamos nos concentrar aqui nos problemas de classificação.\n",
        "\n",
        "Para realizar a previsão, o algoritmo cria diversas árvores de decisão no conjunto de dados e é realizada a predição para cada uma delas. Internamente, é feita uma “votação” para analisar qual predição tem maior ocorrência e, então, essa predição torna-se a resposta final."
      ],
      "metadata": {
        "id": "-4GDg3Cnc8m3"
      }
    },
    {
      "cell_type": "markdown",
      "source": [
        "Se fosse utilizada a mesma base de dados na criação de todas as árvores de decisão do Random Forest, as respostas de cada uma delas seriam iguais e o resultado da votação seria idêntico a realizar um único modelo de árvore de decisão. Para evitar esse problema, é utilizada uma técnica chamada bootstraping.\n",
        "\n",
        "Essa técnica consiste em fazer amostragens com reposição do conjunto de dados original e cada uma delas será usada para uma árvore de decisão diferente. A amostragem com reposição significa que, ao sortearmos um elemento, isso não nos impede que ele mesmo apareça em sorteios futuros. Dessa forma, as árvores terão resultados distintos, uma vez que são treinadas com conjuntos de dados diferentes e, na amostragem com repetição, as observações da tabela poderão ficar de fora e outras estarão duplicadas."
      ],
      "metadata": {
        "id": "uMFsPFwbdXmp"
      }
    },
    {
      "cell_type": "markdown",
      "source": [
        "![image.png](data:image/png;base64,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)"
      ],
      "metadata": {
        "id": "dY4KzCBRvMuQ"
      }
    },
    {
      "cell_type": "code",
      "source": [
        "from sklearn.ensemble import RandomForestClassifier"
      ],
      "metadata": {
        "id": "OCfP69nwulCP"
      },
      "execution_count": 37,
      "outputs": []
    },
    {
      "cell_type": "code",
      "source": [
        "# Modelo de Random Forest Classifier\n",
        "max_depth = 5  # Profundida da árvore\n",
        "n_estimators = 100  # Número de Árvores\n",
        "\n",
        "rf = RandomForestClassifier(n_estimators=n_estimators, max_depth=max_depth, random_state=SEED)"
      ],
      "metadata": {
        "id": "r9ge8wPPulCR"
      },
      "execution_count": 38,
      "outputs": []
    },
    {
      "cell_type": "code",
      "source": [
        "# Verificação métrica\n",
        "model = rf.fit(X_train, y_train)\n",
        "y_pred = rf.predict(X_test)\n",
        "\n",
        "print(\"Acurácia:\",metrics.accuracy_score(y_test, y_pred).round(3))\n",
        "print(\"Precisão:\",metrics.precision_score(y_test, y_pred).round(3))\n",
        "print(\"Recall:\",metrics.recall_score(y_test, y_pred).round(3)) \n",
        "print(\"F1:\",metrics.f1_score(y_test, y_pred).round(3))"
      ],
      "metadata": {
        "colab": {
          "base_uri": "https://localhost:8080/"
        },
        "outputId": "a4d71e34-c1c9-4876-fb19-3b3cb15d51c0",
        "id": "8eek4FeDulCS"
      },
      "execution_count": 39,
      "outputs": [
        {
          "output_type": "stream",
          "name": "stdout",
          "text": [
            "Acurácia: 0.972\n",
            "Precisão: 0.971\n",
            "Recall: 0.974\n",
            "F1: 0.972\n"
          ]
        }
      ]
    },
    {
      "cell_type": "code",
      "source": [
        "# Matrix de Confusão\n",
        "plt.rcParams['figure.figsize'] = (12., 8.)\n",
        "cm = confusion_matrix(y_test, y_pred)\n",
        "disp = ConfusionMatrixDisplay(confusion_matrix=cm)\n",
        "disp.plot()"
      ],
      "metadata": {
        "colab": {
          "base_uri": "https://localhost:8080/",
          "height": 514
        },
        "outputId": "f0035609-f483-477b-86e0-871aec1fb7b4",
        "id": "Fo0oN-fmulCT"
      },
      "execution_count": 40,
      "outputs": [
        {
          "output_type": "execute_result",
          "data": {
            "text/plain": [
              "<sklearn.metrics._plot.confusion_matrix.ConfusionMatrixDisplay at 0x7fcfee164520>"
            ]
          },
          "metadata": {},
          "execution_count": 40
        },
        {
          "output_type": "display_data",
          "data": {
            "text/plain": [
              "<Figure size 864x576 with 2 Axes>"
            ],
            "image/png": "[encoded data removed]"
          },
          "metadata": {
            "needs_background": "light"
          }
        }
      ]
    },
    {
      "cell_type": "code",
      "source": [
        "# Curva ROC\n",
        "y_pred_proba = rf.predict_proba(X_test)[::,1]\n",
        "fpr, tpr, _ = metrics.roc_curve(y_test,  y_pred_proba)\n",
        "auc = metrics.roc_auc_score(y_test, y_pred_proba)\n",
        "\n",
        "plt.rcParams['figure.figsize'] = (12., 8.)\n",
        "plt.plot(fpr,tpr,label=\"data 1, auc=\"+str(auc))\n",
        "plt.plot([0, 1], [0, 1], color='red', lw=2, linestyle='--')\n",
        "plt.legend(loc=4)"
      ],
      "metadata": {
        "colab": {
          "base_uri": "https://localhost:8080/",
          "height": 449
        },
        "outputId": "c5b2af5f-7043-4be0-e198-8975d973213c",
        "id": "ROQJ33C6ulCU"
      },
      "execution_count": 41,
      "outputs": [
        {
          "output_type": "execute_result",
          "data": {
            "text/plain": [
              "<matplotlib.legend.Legend at 0x7fcfdb362130>"
            ]
          },
          "metadata": {},
          "execution_count": 41
        },
        {
          "output_type": "display_data",
          "data": {
            "text/plain": [
              "<Figure size 864x576 with 1 Axes>"
            ],
            "image/png": "[encoded data removed]"
          },
          "metadata": {
            "needs_background": "light"
          }
        }
      ]
    },
    {
      "cell_type": "markdown",
      "source": [
        "## Comparação de modelos - análise das métricas"
      ],
      "metadata": {
        "id": "S3Q4foYYwzS8"
      }
    },
    {
      "cell_type": "markdown",
      "source": [
        "A sistematização da avaliação dos diversos modelos auxilia na análise de todos os resultados."
      ],
      "metadata": {
        "id": "wHXtZrx3eLES"
      }
    },
    {
      "cell_type": "code",
      "source": [
        "# Classificadores\n",
        "classifiers = [\n",
        "    LogisticRegression(max_iter = 1000, random_state=SEED),\n",
        "    DecisionTreeClassifier(max_depth = 5, random_state=SEED),\n",
        "    RandomForestClassifier(max_depth = 5, random_state = SEED)\n",
        "    ]"
      ],
      "metadata": {
        "id": "qdKNLs6dwTq3"
      },
      "execution_count": 42,
      "outputs": []
    },
    {
      "cell_type": "code",
      "source": [
        "from sklearn import metrics\n",
        "import matplotlib.pyplot as plt\n",
        "from sklearn.metrics import confusion_matrix\n",
        "from sklearn.metrics import ConfusionMatrixDisplay\n",
        "%matplotlib inline"
      ],
      "metadata": {
        "id": "3KgMsZEogT1C"
      },
      "execution_count": 43,
      "outputs": []
    },
    {
      "cell_type": "code",
      "source": [
        "for cls in classifiers:\n",
        "    cls.fit(X_train, y_train)\n",
        "    name = cls.__class__.__name__\n",
        "    print(\"=\"*30)\n",
        "    print(name)\n",
        "    print('****Results****')\n",
        "\n",
        "    y_pred = cls.predict(X_test)\n",
        "\n",
        "    print(\"Acurácia:\", metrics.accuracy_score(y_test, y_pred).round(3))\n",
        "    print(\"Precisão:\", metrics.precision_score(y_test, y_pred).round(3))\n",
        "    print(\"Recall:\",   metrics.recall_score(y_test, y_pred).round(3)) \n",
        "    print(\"F1:\",       metrics.f1_score(y_test, y_pred).round(3))\n",
        "\n",
        "    plt.rcParams['figure.figsize'] = (12., 8.)\n",
        "    cm = confusion_matrix(y_test, y_pred)\n",
        "    disp = ConfusionMatrixDisplay(confusion_matrix=cm)\n",
        "    disp.plot()"
      ],
      "metadata": {
        "colab": {
          "base_uri": "https://localhost:8080/",
          "height": 1000
        },
        "id": "WWmof5RYe92T",
        "outputId": "7eb57505-0df4-482f-af97-0b028cb8f99b"
      },
      "execution_count": 44,
      "outputs": [
        {
          "output_type": "stream",
          "name": "stdout",
          "text": [
            "==============================\n",
            "LogisticRegression\n",
            "****Results****\n",
            "Acurácia: 0.942\n",
            "Precisão: 0.924\n",
            "Recall: 0.962\n",
            "F1: 0.943\n",
            "==============================\n",
            "DecisionTreeClassifier\n",
            "****Results****\n",
            "Acurácia: 0.962\n",
            "Precisão: 0.938\n",
            "Recall: 0.99\n",
            "F1: 0.963\n",
            "==============================\n",
            "RandomForestClassifier\n",
            "****Results****\n",
            "Acurácia: 0.972\n",
            "Precisão: 0.971\n",
            "Recall: 0.974\n",
            "F1: 0.972\n"
          ]
        },
        {
          "output_type": "display_data",
          "data": {
            "text/plain": [
              "<Figure size 864x576 with 2 Axes>"
            ],
            "image/png": "[encoded data removed]"
          },
          "metadata": {
            "needs_background": "light"
          }
        },
        {
          "output_type": "display_data",
          "data": {
            "text/plain": [
              "<Figure size 864x576 with 2 Axes>"
            ],
            "image/png": "[encoded data removed]"
          },
          "metadata": {
            "needs_background": "light"
          }
        },
        {
          "output_type": "display_data",
          "data": {
            "text/plain": [
              "<Figure size 864x576 with 2 Axes>"
            ],
            "image/png": "[encoded data removed]"
          },
          "metadata": {
            "needs_background": "light"
          }
        }
      ]
    },
    {
      "cell_type": "markdown",
      "source": [
        "O recall é a métrica mais importante para algoritmos de detecção de fraude, uma vez que é muito mais problemático não classificar corretamente as pessoas que estão cometendo fraude, o que pode gerar um grande prejuízo."
      ],
      "metadata": {
        "id": "oC0mLmb7iuDO"
      }
    },
    {
      "cell_type": "markdown",
      "source": [
        "## Melhorando o Random Forest"
      ],
      "metadata": {
        "id": "G-SMF8ewJROf"
      }
    },
    {
      "cell_type": "markdown",
      "source": [
        "Cada um dos modelos de machine learning possui um comportamento distinto para prever os resultados, utilizando métodos matemáticos e computacionais. O comportamento de um modelo dependerá de constantes, parâmetros ou características para que a fórmula matemática ou o procedimento computacional se comporte de uma maneira diferente.\n",
        "\n",
        "Esses argumentos que controlam o comportamento de um modelo de machine learning são chamados de hiperparâmetros. Ao alterar o valor desses parâmetros, alteramos também o desempenho do modelo, uma vez que, para cada conjunto de dados diferentes, é necessário um ajuste diferente dos hiperparâmetros para um modelo ser melhor adaptado a esse conjunto."
      ],
      "metadata": {
        "id": "zIj_XfRGLn3b"
      }
    },
    {
      "cell_type": "markdown",
      "source": [
        "* Randomized Search CV"
      ],
      "metadata": {
        "id": "_5L4D0R7JVhr"
      }
    },
    {
      "cell_type": "markdown",
      "source": [
        "- Criterion:\n",
        "    * [Gini](https://en.wikipedia.org/wiki/Decision_tree_learning#Gini_impurity): O critério de impureza Gini,ou somente Gini, serve para medir a frequência com que um elemento escolhido aleatoriamente pode ser identificado incorretamente. Isso significa que quanto menor o valor, mais puros são os dados e menor o erro cometido.\n",
        "    * [Entropy](https://en.wikipedia.org/wiki/Entropy_%28information_theory%29): O critério de entropia (ou entropy) para ganho de informação é o menor número médio de perguntas binárias (sim ou não) necessário para identificar a saída de uma fonte. Esse valor informa quão informativas são as características para serem selecionadas. Desse modo, quanto maior a entropia, maior o conteúdo da informação.\n",
        "\n",
        "\n",
        "- max_feature\n",
        "    * Número de variáveis analisadas\n",
        "    * É a quantidade máxima de variáveis que pode ser utilizada para fazer as divisões dos nós das árvores. As opções possíveis para esse parâmetro são ”auto”, ”sqrt” , ”log2” ou valores numéricos.\n",
        "\n",
        "Caso sejam escolhidas as opções “auto” ou “sqrt”, o número máximo de variáveis será a raiz quadrada da quantidade de variáveis de treinamento.\n",
        "Escolhendo a opção “log2”, será extraído o logaritmo na base 2 da quantidade de variáveis de treinamento.\n",
        "E para o caso dos valores numéricos, o número máximo de variáveis que podem ser usadas nas divisões dos nós será igual ao valor utilizado.\n",
        "- bootstrap\n",
        "    * "
      ],
      "metadata": {
        "id": "sRRp3vY8Jr0q"
      }
    },
    {
      "cell_type": "markdown",
      "source": [
        "## Melhorando o modelo"
      ],
      "metadata": {
        "id": "I6gTbG8hiAR5"
      }
    },
    {
      "cell_type": "code",
      "source": [
        "# Definição do espaço de experimentação\n",
        "\n",
        "from sklearn.model_selection import RandomizedSearchCV\n",
        "import numpy as np\n",
        "\n",
        "n_estimators = np.arange(20, 200, step=20)\n",
        "criterion = [\"gini\", \"entropy\"]\n",
        "max_features = [\"sqrt\", \"log2\", None]\n",
        "max_depth = list(np.arange(2, 10, step=1))\n",
        "min_samples_split = np.arange(2, 10, step=2)\n",
        "min_samples_leaf = [1, 2, 4]\n",
        "bootstrap = [True, False]\n",
        "\n",
        "param_grid = {\n",
        "    \"n_estimators\": n_estimators,\n",
        "    \"criterion\": criterion,\n",
        "    \"max_features\": max_features,\n",
        "    \"max_depth\": max_depth,\n",
        "    \"min_samples_split\": min_samples_split,\n",
        "    \"min_samples_leaf\": min_samples_leaf,\n",
        "    \"bootstrap\": bootstrap,\n",
        "}"
      ],
      "metadata": {
        "id": "FWHfVIvxh-SC"
      },
      "execution_count": 49,
      "outputs": []
    },
    {
      "cell_type": "code",
      "source": [
        "# Espaço de Pesquisa\n",
        "from sklearn.model_selection import ParameterGrid\n",
        "search_space = len(ParameterGrid(param_grid))\n",
        "\n",
        "print(f'{search_space} combinações de hiperparâmetros')"
      ],
      "metadata": {
        "colab": {
          "base_uri": "https://localhost:8080/"
        },
        "id": "ObeN4UiXIEeB",
        "outputId": "f67c576f-4378-4192-bf3a-e3b661de3bb6"
      },
      "execution_count": 71,
      "outputs": [
        {
          "output_type": "stream",
          "name": "stdout",
          "text": [
            "10368 combinações de hiperparâmetros\n"
          ]
        }
      ]
    },
    {
      "cell_type": "code",
      "source": [
        "# inspeção dos parâmetros \n",
        "ParameterGrid(param_grid)[-1]"
      ],
      "metadata": {
        "colab": {
          "base_uri": "https://localhost:8080/"
        },
        "id": "NQhJRlOYO07r",
        "outputId": "8454d9c5-7f39-422f-bb80-6771c92b87f9"
      },
      "execution_count": 73,
      "outputs": [
        {
          "output_type": "execute_result",
          "data": {
            "text/plain": [
              "{'n_estimators': 180,\n",
              " 'min_samples_split': 8,\n",
              " 'min_samples_leaf': 4,\n",
              " 'max_features': None,\n",
              " 'max_depth': 9,\n",
              " 'criterion': 'entropy',\n",
              " 'bootstrap': False}"
            ]
          },
          "metadata": {},
          "execution_count": 73
        }
      ]
    },
    {
      "cell_type": "code",
      "source": [
        "# Classificador\n",
        "SEED = 70\n",
        "rforest = RandomForestClassifier(random_state=SEED)"
      ],
      "metadata": {
        "id": "DwzbzTPNMv4L"
      },
      "execution_count": 50,
      "outputs": []
    },
    {
      "cell_type": "code",
      "source": [
        "# Modelo\n",
        "random_cv = RandomizedSearchCV(\n",
        "    rforest, param_grid, \n",
        "    n_iter=5, cv=3, scoring=\"recall\", \n",
        "    n_jobs=-1, random_state=SEED\n",
        ")"
      ],
      "metadata": {
        "id": "l811m-5gJaVx"
      },
      "execution_count": 51,
      "outputs": []
    },
    {
      "cell_type": "code",
      "source": [
        "%%time\n",
        "rcv = random_cv.fit(X_train, y_train)"
      ],
      "metadata": {
        "colab": {
          "base_uri": "https://localhost:8080/"
        },
        "id": "R5qZx3LT6-U0",
        "outputId": "ba095831-97b4-44d4-b764-9a5a940e653b"
      },
      "execution_count": 53,
      "outputs": [
        {
          "output_type": "stream",
          "name": "stdout",
          "text": [
            "CPU times: user 1min 2s, sys: 364 ms, total: 1min 2s\n",
            "Wall time: 4min 45s\n"
          ]
        }
      ]
    },
    {
      "cell_type": "code",
      "source": [
        "# Inpeção dos Modelos\n",
        "# rcv.cv_results_\n",
        "pd.DataFrame(rcv.cv_results_).drop(columns=\n",
        "    ['mean_score_time', 'std_score_time', 'std_fit_time', 'params']).sort_values('rank_test_score').round(3)"
      ],
      "metadata": {
        "colab": {
          "base_uri": "https://localhost:8080/",
          "height": 270
        },
        "id": "7cEAOuFp7djO",
        "outputId": "6c33de04-8afe-42d5-d6ad-57abf582d0d0"
      },
      "execution_count": 64,
      "outputs": [
        {
          "output_type": "execute_result",
          "data": {
            "text/plain": [
              "   mean_fit_time param_n_estimators param_min_samples_split  \\\n",
              "3         59.077                100                       8   \n",
              "0         28.504                120                       4   \n",
              "2          9.646                 40                       8   \n",
              "1         10.208                120                       4   \n",
              "4         30.641                160                       6   \n",
              "\n",
              "  param_min_samples_leaf param_max_features param_max_depth param_criterion  \\\n",
              "3                      4               None               9         entropy   \n",
              "0                      2               sqrt               9            gini   \n",
              "2                      1               log2               7         entropy   \n",
              "1                      2               sqrt               2            gini   \n",
              "4                      2               None               2            gini   \n",
              "\n",
              "  param_bootstrap  split0_test_score  split1_test_score  split2_test_score  \\\n",
              "3            True              0.999              0.998              0.999   \n",
              "0           False              0.995              0.995              0.994   \n",
              "2           False              0.974              0.974              0.975   \n",
              "1           False              0.858              0.860              0.862   \n",
              "4           False              0.796              0.799              0.798   \n",
              "\n",
              "   mean_test_score  std_test_score  rank_test_score  \n",
              "3            0.998           0.000                1  \n",
              "0            0.995           0.000                2  \n",
              "2            0.974           0.001                3  \n",
              "1            0.860           0.002                4  \n",
              "4            0.798           0.001                5  "
            ],
            "text/html": [
              "\n",
              "  <div id=\"df-02ebfd3a-1138-46f9-a2ef-3740e7bc8824\">\n",
              "    <div class=\"colab-df-container\">\n",
              "      <div>\n",
              "<style scoped>\n",
              "    .dataframe tbody tr th:only-of-type {\n",
              "        vertical-align: middle;\n",
              "    }\n",
              "\n",
              "    .dataframe tbody tr th {\n",
              "        vertical-align: top;\n",
              "    }\n",
              "\n",
              "    .dataframe thead th {\n",
              "        text-align: right;\n",
              "    }\n",
              "</style>\n",
              "<table border=\"1\" class=\"dataframe\">\n",
              "  <thead>\n",
              "    <tr style=\"text-align: right;\">\n",
              "      <th></th>\n",
              "      <th>mean_fit_time</th>\n",
              "      <th>param_n_estimators</th>\n",
              "      <th>param_min_samples_split</th>\n",
              "      <th>param_min_samples_leaf</th>\n",
              "      <th>param_max_features</th>\n",
              "      <th>param_max_depth</th>\n",
              "      <th>param_criterion</th>\n",
              "      <th>param_bootstrap</th>\n",
              "      <th>split0_test_score</th>\n",
              "      <th>split1_test_score</th>\n",
              "      <th>split2_test_score</th>\n",
              "      <th>mean_test_score</th>\n",
              "      <th>std_test_score</th>\n",
              "      <th>rank_test_score</th>\n",
              "    </tr>\n",
              "  </thead>\n",
              "  <tbody>\n",
              "    <tr>\n",
              "      <th>3</th>\n",
              "      <td>59.077</td>\n",
              "      <td>100</td>\n",
              "      <td>8</td>\n",
              "      <td>4</td>\n",
              "      <td>None</td>\n",
              "      <td>9</td>\n",
              "      <td>entropy</td>\n",
              "      <td>True</td>\n",
              "      <td>0.999</td>\n",
              "      <td>0.998</td>\n",
              "      <td>0.999</td>\n",
              "      <td>0.998</td>\n",
              "      <td>0.000</td>\n",
              "      <td>1</td>\n",
              "    </tr>\n",
              "    <tr>\n",
              "      <th>0</th>\n",
              "      <td>28.504</td>\n",
              "      <td>120</td>\n",
              "      <td>4</td>\n",
              "      <td>2</td>\n",
              "      <td>sqrt</td>\n",
              "      <td>9</td>\n",
              "      <td>gini</td>\n",
              "      <td>False</td>\n",
              "      <td>0.995</td>\n",
              "      <td>0.995</td>\n",
              "      <td>0.994</td>\n",
              "      <td>0.995</td>\n",
              "      <td>0.000</td>\n",
              "      <td>2</td>\n",
              "    </tr>\n",
              "    <tr>\n",
              "      <th>2</th>\n",
              "      <td>9.646</td>\n",
              "      <td>40</td>\n",
              "      <td>8</td>\n",
              "      <td>1</td>\n",
              "      <td>log2</td>\n",
              "      <td>7</td>\n",
              "      <td>entropy</td>\n",
              "      <td>False</td>\n",
              "      <td>0.974</td>\n",
              "      <td>0.974</td>\n",
              "      <td>0.975</td>\n",
              "      <td>0.974</td>\n",
              "      <td>0.001</td>\n",
              "      <td>3</td>\n",
              "    </tr>\n",
              "    <tr>\n",
              "      <th>1</th>\n",
              "      <td>10.208</td>\n",
              "      <td>120</td>\n",
              "      <td>4</td>\n",
              "      <td>2</td>\n",
              "      <td>sqrt</td>\n",
              "      <td>2</td>\n",
              "      <td>gini</td>\n",
              "      <td>False</td>\n",
              "      <td>0.858</td>\n",
              "      <td>0.860</td>\n",
              "      <td>0.862</td>\n",
              "      <td>0.860</td>\n",
              "      <td>0.002</td>\n",
              "      <td>4</td>\n",
              "    </tr>\n",
              "    <tr>\n",
              "      <th>4</th>\n",
              "      <td>30.641</td>\n",
              "      <td>160</td>\n",
              "      <td>6</td>\n",
              "      <td>2</td>\n",
              "      <td>None</td>\n",
              "      <td>2</td>\n",
              "      <td>gini</td>\n",
              "      <td>False</td>\n",
              "      <td>0.796</td>\n",
              "      <td>0.799</td>\n",
              "      <td>0.798</td>\n",
              "      <td>0.798</td>\n",
              "      <td>0.001</td>\n",
              "      <td>5</td>\n",
              "    </tr>\n",
              "  </tbody>\n",
              "</table>\n",
              "</div>\n",
              "      <button class=\"colab-df-convert\" onclick=\"convertToInteractive('df-02ebfd3a-1138-46f9-a2ef-3740e7bc8824')\"\n",
              "              title=\"Convert this dataframe to an interactive table.\"\n",
              "              style=\"display:none;\">\n",
              "        \n",
              "  <svg xmlns=\"http://www.w3.org/2000/svg\" height=\"24px\"viewBox=\"0 0 24 24\"\n",
              "       width=\"24px\">\n",
              "    <path d=\"M0 0h24v24H0V0z\" fill=\"none\"/>\n",
              "    <path d=\"M18.56 5.44l.94 2.06.94-2.06 2.06-.94-2.06-.94-.94-2.06-.94 2.06-2.06.94zm-11 1L8.5 8.5l.94-2.06 2.06-.94-2.06-.94L8.5 2.5l-.94 2.06-2.06.94zm10 10l.94 2.06.94-2.06 2.06-.94-2.06-.94-.94-2.06-.94 2.06-2.06.94z\"/><path d=\"M17.41 7.96l-1.37-1.37c-.4-.4-.92-.59-1.43-.59-.52 0-1.04.2-1.43.59L10.3 9.45l-7.72 7.72c-.78.78-.78 2.05 0 2.83L4 21.41c.39.39.9.59 1.41.59.51 0 1.02-.2 1.41-.59l7.78-7.78 2.81-2.81c.8-.78.8-2.07 0-2.86zM5.41 20L4 18.59l7.72-7.72 1.47 1.35L5.41 20z\"/>\n",
              "  </svg>\n",
              "      </button>\n",
              "      \n",
              "  <style>\n",
              "    .colab-df-container {\n",
              "      display:flex;\n",
              "      flex-wrap:wrap;\n",
              "      gap: 12px;\n",
              "    }\n",
              "\n",
              "    .colab-df-convert {\n",
              "      background-color: #E8F0FE;\n",
              "      border: none;\n",
              "      border-radius: 50%;\n",
              "      cursor: pointer;\n",
              "      display: none;\n",
              "      fill: #1967D2;\n",
              "      height: 32px;\n",
              "      padding: 0 0 0 0;\n",
              "      width: 32px;\n",
              "    }\n",
              "\n",
              "    .colab-df-convert:hover {\n",
              "      background-color: #E2EBFA;\n",
              "      box-shadow: 0px 1px 2px rgba(60, 64, 67, 0.3), 0px 1px 3px 1px rgba(60, 64, 67, 0.15);\n",
              "      fill: #174EA6;\n",
              "    }\n",
              "\n",
              "    [theme=dark] .colab-df-convert {\n",
              "      background-color: #3B4455;\n",
              "      fill: #D2E3FC;\n",
              "    }\n",
              "\n",
              "    [theme=dark] .colab-df-convert:hover {\n",
              "      background-color: #434B5C;\n",
              "      box-shadow: 0px 1px 3px 1px rgba(0, 0, 0, 0.15);\n",
              "      filter: drop-shadow(0px 1px 2px rgba(0, 0, 0, 0.3));\n",
              "      fill: #FFFFFF;\n",
              "    }\n",
              "  </style>\n",
              "\n",
              "      <script>\n",
              "        const buttonEl =\n",
              "          document.querySelector('#df-02ebfd3a-1138-46f9-a2ef-3740e7bc8824 button.colab-df-convert');\n",
              "        buttonEl.style.display =\n",
              "          google.colab.kernel.accessAllowed ? 'block' : 'none';\n",
              "\n",
              "        async function convertToInteractive(key) {\n",
              "          const element = document.querySelector('#df-02ebfd3a-1138-46f9-a2ef-3740e7bc8824');\n",
              "          const dataTable =\n",
              "            await google.colab.kernel.invokeFunction('convertToInteractive',\n",
              "                                                     [key], {});\n",
              "          if (!dataTable) return;\n",
              "\n",
              "          const docLinkHtml = 'Like what you see? Visit the ' +\n",
              "            '<a target=\"_blank\" href=https://colab.research.google.com/notebooks/data_table.ipynb>data table notebook</a>'\n",
              "            + ' to learn more about interactive tables.';\n",
              "          element.innerHTML = '';\n",
              "          dataTable['output_type'] = 'display_data';\n",
              "          await google.colab.output.renderOutput(dataTable, element);\n",
              "          const docLink = document.createElement('div');\n",
              "          docLink.innerHTML = docLinkHtml;\n",
              "          element.appendChild(docLink);\n",
              "        }\n",
              "      </script>\n",
              "    </div>\n",
              "  </div>\n",
              "  "
            ]
          },
          "metadata": {},
          "execution_count": 64
        }
      ]
    },
    {
      "cell_type": "code",
      "source": [
        "# Melhor modelo\n",
        "rcv.best_params_"
      ],
      "metadata": {
        "colab": {
          "base_uri": "https://localhost:8080/"
        },
        "id": "OV98kiW_8G5Y",
        "outputId": "32d2c8e8-0b60-4774-9a6c-a1c59568a112"
      },
      "execution_count": 54,
      "outputs": [
        {
          "output_type": "execute_result",
          "data": {
            "text/plain": [
              "{'n_estimators': 100,\n",
              " 'min_samples_split': 8,\n",
              " 'min_samples_leaf': 4,\n",
              " 'max_features': None,\n",
              " 'max_depth': 9,\n",
              " 'criterion': 'entropy',\n",
              " 'bootstrap': True}"
            ]
          },
          "metadata": {},
          "execution_count": 54
        }
      ]
    },
    {
      "cell_type": "code",
      "source": [
        "%%time\n",
        "# 1% das combinações\n",
        "random_cv = RandomizedSearchCV(\n",
        "    rforest, param_grid, n_iter=17, cv=3, scoring=\"recall\", n_jobs=-1, random_state=SEED\n",
        ")\n",
        "\n",
        "rcv = random_cv.fit(X_train, y_train)"
      ],
      "metadata": {
        "id": "euwpfOuaMyQt",
        "colab": {
          "base_uri": "https://localhost:8080/"
        },
        "outputId": "d0488cba-2a1c-465a-8e4e-5c6dd9534b7d"
      },
      "execution_count": 66,
      "outputs": [
        {
          "output_type": "stream",
          "name": "stdout",
          "text": [
            "CPU times: user 1min 4s, sys: 595 ms, total: 1min 4s\n",
            "Wall time: 11min 8s\n"
          ]
        }
      ]
    },
    {
      "cell_type": "code",
      "source": [
        "# Avaliação dos modelos\n",
        "# dictionary of column colors\n",
        "coldict = {'rank_test_score':'grey', 'mean_test_score':'grey', 'mean_fit_time':'grey'}\n",
        "def highlight_cols(s, coldict):\n",
        "    if s.name in coldict.keys():\n",
        "        return ['background-color: {}'.format(coldict[s.name])] * len(s)\n",
        "    return [''] * len(s)\n",
        "\n",
        "\n",
        "pd.DataFrame(rcv.cv_results_).drop(columns=\n",
        "    ['mean_score_time', 'std_score_time', 'std_fit_time', 'params']).sort_values(\n",
        "        'rank_test_score').round(3).style.apply(highlight_cols, coldict=coldict)"
      ],
      "metadata": {
        "colab": {
          "base_uri": "https://localhost:8080/",
          "height": 602
        },
        "id": "v1Oi5-4HLKrA",
        "outputId": "1d74165f-c0dc-4b34-ab5c-3de1c8531912"
      },
      "execution_count": 77,
      "outputs": [
        {
          "output_type": "execute_result",
          "data": {
            "text/plain": [
              "<pandas.io.formats.style.Styler at 0x7fcfdb5d3e50>"
            ],
            "text/html": [
              "<style type=\"text/css\">\n",
              "#T_68df1_row0_col0, #T_68df1_row0_col11, #T_68df1_row0_col13, #T_68df1_row1_col0, #T_68df1_row1_col11, #T_68df1_row1_col13, #T_68df1_row2_col0, #T_68df1_row2_col11, #T_68df1_row2_col13, #T_68df1_row3_col0, #T_68df1_row3_col11, #T_68df1_row3_col13, #T_68df1_row4_col0, #T_68df1_row4_col11, #T_68df1_row4_col13, #T_68df1_row5_col0, #T_68df1_row5_col11, #T_68df1_row5_col13, #T_68df1_row6_col0, #T_68df1_row6_col11, #T_68df1_row6_col13, #T_68df1_row7_col0, #T_68df1_row7_col11, #T_68df1_row7_col13, #T_68df1_row8_col0, #T_68df1_row8_col11, #T_68df1_row8_col13, #T_68df1_row9_col0, #T_68df1_row9_col11, #T_68df1_row9_col13, #T_68df1_row10_col0, #T_68df1_row10_col11, #T_68df1_row10_col13, #T_68df1_row11_col0, #T_68df1_row11_col11, #T_68df1_row11_col13, #T_68df1_row12_col0, #T_68df1_row12_col11, #T_68df1_row12_col13, #T_68df1_row13_col0, #T_68df1_row13_col11, #T_68df1_row13_col13, #T_68df1_row14_col0, #T_68df1_row14_col11, #T_68df1_row14_col13, #T_68df1_row15_col0, #T_68df1_row15_col11, #T_68df1_row15_col13, #T_68df1_row16_col0, #T_68df1_row16_col11, #T_68df1_row16_col13 {\n",
              "  background-color: grey;\n",
              "}\n",
              "</style>\n",
              "<table id=\"T_68df1_\" class=\"dataframe\">\n",
              "  <thead>\n",
              "    <tr>\n",
              "      <th class=\"blank level0\" >&nbsp;</th>\n",
              "      <th class=\"col_heading level0 col0\" >mean_fit_time</th>\n",
              "      <th class=\"col_heading level0 col1\" >param_n_estimators</th>\n",
              "      <th class=\"col_heading level0 col2\" >param_min_samples_split</th>\n",
              "      <th class=\"col_heading level0 col3\" >param_min_samples_leaf</th>\n",
              "      <th class=\"col_heading level0 col4\" >param_max_features</th>\n",
              "      <th class=\"col_heading level0 col5\" >param_max_depth</th>\n",
              "      <th class=\"col_heading level0 col6\" >param_criterion</th>\n",
              "      <th class=\"col_heading level0 col7\" >param_bootstrap</th>\n",
              "      <th class=\"col_heading level0 col8\" >split0_test_score</th>\n",
              "      <th class=\"col_heading level0 col9\" >split1_test_score</th>\n",
              "      <th class=\"col_heading level0 col10\" >split2_test_score</th>\n",
              "      <th class=\"col_heading level0 col11\" >mean_test_score</th>\n",
              "      <th class=\"col_heading level0 col12\" >std_test_score</th>\n",
              "      <th class=\"col_heading level0 col13\" >rank_test_score</th>\n",
              "    </tr>\n",
              "  </thead>\n",
              "  <tbody>\n",
              "    <tr>\n",
              "      <th id=\"T_68df1_level0_row0\" class=\"row_heading level0 row0\" >3</th>\n",
              "      <td id=\"T_68df1_row0_col0\" class=\"data row0 col0\" >58.400000</td>\n",
              "      <td id=\"T_68df1_row0_col1\" class=\"data row0 col1\" >100</td>\n",
              "      <td id=\"T_68df1_row0_col2\" class=\"data row0 col2\" >8</td>\n",
              "      <td id=\"T_68df1_row0_col3\" class=\"data row0 col3\" >4</td>\n",
              "      <td id=\"T_68df1_row0_col4\" class=\"data row0 col4\" >None</td>\n",
              "      <td id=\"T_68df1_row0_col5\" class=\"data row0 col5\" >9</td>\n",
              "      <td id=\"T_68df1_row0_col6\" class=\"data row0 col6\" >entropy</td>\n",
              "      <td id=\"T_68df1_row0_col7\" class=\"data row0 col7\" >True</td>\n",
              "      <td id=\"T_68df1_row0_col8\" class=\"data row0 col8\" >0.999000</td>\n",
              "      <td id=\"T_68df1_row0_col9\" class=\"data row0 col9\" >0.998000</td>\n",
              "      <td id=\"T_68df1_row0_col10\" class=\"data row0 col10\" >0.999000</td>\n",
              "      <td id=\"T_68df1_row0_col11\" class=\"data row0 col11\" >0.998000</td>\n",
              "      <td id=\"T_68df1_row0_col12\" class=\"data row0 col12\" >0.000000</td>\n",
              "      <td id=\"T_68df1_row0_col13\" class=\"data row0 col13\" >1</td>\n",
              "    </tr>\n",
              "    <tr>\n",
              "      <th id=\"T_68df1_level0_row1\" class=\"row_heading level0 row1\" >16</th>\n",
              "      <td id=\"T_68df1_row1_col0\" class=\"data row1 col0\" >61.997000</td>\n",
              "      <td id=\"T_68df1_row1_col1\" class=\"data row1 col1\" >120</td>\n",
              "      <td id=\"T_68df1_row1_col2\" class=\"data row1 col2\" >8</td>\n",
              "      <td id=\"T_68df1_row1_col3\" class=\"data row1 col3\" >4</td>\n",
              "      <td id=\"T_68df1_row1_col4\" class=\"data row1 col4\" >None</td>\n",
              "      <td id=\"T_68df1_row1_col5\" class=\"data row1 col5\" >9</td>\n",
              "      <td id=\"T_68df1_row1_col6\" class=\"data row1 col6\" >entropy</td>\n",
              "      <td id=\"T_68df1_row1_col7\" class=\"data row1 col7\" >True</td>\n",
              "      <td id=\"T_68df1_row1_col8\" class=\"data row1 col8\" >0.999000</td>\n",
              "      <td id=\"T_68df1_row1_col9\" class=\"data row1 col9\" >0.998000</td>\n",
              "      <td id=\"T_68df1_row1_col10\" class=\"data row1 col10\" >0.999000</td>\n",
              "      <td id=\"T_68df1_row1_col11\" class=\"data row1 col11\" >0.998000</td>\n",
              "      <td id=\"T_68df1_row1_col12\" class=\"data row1 col12\" >0.000000</td>\n",
              "      <td id=\"T_68df1_row1_col13\" class=\"data row1 col13\" >2</td>\n",
              "    </tr>\n",
              "    <tr>\n",
              "      <th id=\"T_68df1_level0_row2\" class=\"row_heading level0 row2\" >0</th>\n",
              "      <td id=\"T_68df1_row2_col0\" class=\"data row2 col0\" >23.009000</td>\n",
              "      <td id=\"T_68df1_row2_col1\" class=\"data row2 col1\" >120</td>\n",
              "      <td id=\"T_68df1_row2_col2\" class=\"data row2 col2\" >4</td>\n",
              "      <td id=\"T_68df1_row2_col3\" class=\"data row2 col3\" >2</td>\n",
              "      <td id=\"T_68df1_row2_col4\" class=\"data row2 col4\" >sqrt</td>\n",
              "      <td id=\"T_68df1_row2_col5\" class=\"data row2 col5\" >9</td>\n",
              "      <td id=\"T_68df1_row2_col6\" class=\"data row2 col6\" >gini</td>\n",
              "      <td id=\"T_68df1_row2_col7\" class=\"data row2 col7\" >False</td>\n",
              "      <td id=\"T_68df1_row2_col8\" class=\"data row2 col8\" >0.995000</td>\n",
              "      <td id=\"T_68df1_row2_col9\" class=\"data row2 col9\" >0.995000</td>\n",
              "      <td id=\"T_68df1_row2_col10\" class=\"data row2 col10\" >0.994000</td>\n",
              "      <td id=\"T_68df1_row2_col11\" class=\"data row2 col11\" >0.995000</td>\n",
              "      <td id=\"T_68df1_row2_col12\" class=\"data row2 col12\" >0.000000</td>\n",
              "      <td id=\"T_68df1_row2_col13\" class=\"data row2 col13\" >3</td>\n",
              "    </tr>\n",
              "    <tr>\n",
              "      <th id=\"T_68df1_level0_row3\" class=\"row_heading level0 row3\" >14</th>\n",
              "      <td id=\"T_68df1_row3_col0\" class=\"data row3 col0\" >5.059000</td>\n",
              "      <td id=\"T_68df1_row3_col1\" class=\"data row3 col1\" >40</td>\n",
              "      <td id=\"T_68df1_row3_col2\" class=\"data row3 col2\" >2</td>\n",
              "      <td id=\"T_68df1_row3_col3\" class=\"data row3 col3\" >4</td>\n",
              "      <td id=\"T_68df1_row3_col4\" class=\"data row3 col4\" >log2</td>\n",
              "      <td id=\"T_68df1_row3_col5\" class=\"data row3 col5\" >8</td>\n",
              "      <td id=\"T_68df1_row3_col6\" class=\"data row3 col6\" >gini</td>\n",
              "      <td id=\"T_68df1_row3_col7\" class=\"data row3 col7\" >True</td>\n",
              "      <td id=\"T_68df1_row3_col8\" class=\"data row3 col8\" >0.994000</td>\n",
              "      <td id=\"T_68df1_row3_col9\" class=\"data row3 col9\" >0.993000</td>\n",
              "      <td id=\"T_68df1_row3_col10\" class=\"data row3 col10\" >0.991000</td>\n",
              "      <td id=\"T_68df1_row3_col11\" class=\"data row3 col11\" >0.993000</td>\n",
              "      <td id=\"T_68df1_row3_col12\" class=\"data row3 col12\" >0.001000</td>\n",
              "      <td id=\"T_68df1_row3_col13\" class=\"data row3 col13\" >4</td>\n",
              "    </tr>\n",
              "    <tr>\n",
              "      <th id=\"T_68df1_level0_row4\" class=\"row_heading level0 row4\" >5</th>\n",
              "      <td id=\"T_68df1_row4_col0\" class=\"data row4 col0\" >17.839000</td>\n",
              "      <td id=\"T_68df1_row4_col1\" class=\"data row4 col1\" >100</td>\n",
              "      <td id=\"T_68df1_row4_col2\" class=\"data row4 col2\" >6</td>\n",
              "      <td id=\"T_68df1_row4_col3\" class=\"data row4 col3\" >1</td>\n",
              "      <td id=\"T_68df1_row4_col4\" class=\"data row4 col4\" >sqrt</td>\n",
              "      <td id=\"T_68df1_row4_col5\" class=\"data row4 col5\" >8</td>\n",
              "      <td id=\"T_68df1_row4_col6\" class=\"data row4 col6\" >gini</td>\n",
              "      <td id=\"T_68df1_row4_col7\" class=\"data row4 col7\" >False</td>\n",
              "      <td id=\"T_68df1_row4_col8\" class=\"data row4 col8\" >0.988000</td>\n",
              "      <td id=\"T_68df1_row4_col9\" class=\"data row4 col9\" >0.993000</td>\n",
              "      <td id=\"T_68df1_row4_col10\" class=\"data row4 col10\" >0.994000</td>\n",
              "      <td id=\"T_68df1_row4_col11\" class=\"data row4 col11\" >0.992000</td>\n",
              "      <td id=\"T_68df1_row4_col12\" class=\"data row4 col12\" >0.003000</td>\n",
              "      <td id=\"T_68df1_row4_col13\" class=\"data row4 col13\" >5</td>\n",
              "    </tr>\n",
              "    <tr>\n",
              "      <th id=\"T_68df1_level0_row5\" class=\"row_heading level0 row5\" >7</th>\n",
              "      <td id=\"T_68df1_row5_col0\" class=\"data row5 col0\" >21.680000</td>\n",
              "      <td id=\"T_68df1_row5_col1\" class=\"data row5 col1\" >180</td>\n",
              "      <td id=\"T_68df1_row5_col2\" class=\"data row5 col2\" >2</td>\n",
              "      <td id=\"T_68df1_row5_col3\" class=\"data row5 col3\" >1</td>\n",
              "      <td id=\"T_68df1_row5_col4\" class=\"data row5 col4\" >log2</td>\n",
              "      <td id=\"T_68df1_row5_col5\" class=\"data row5 col5\" >7</td>\n",
              "      <td id=\"T_68df1_row5_col6\" class=\"data row5 col6\" >gini</td>\n",
              "      <td id=\"T_68df1_row5_col7\" class=\"data row5 col7\" >True</td>\n",
              "      <td id=\"T_68df1_row5_col8\" class=\"data row5 col8\" >0.990000</td>\n",
              "      <td id=\"T_68df1_row5_col9\" class=\"data row5 col9\" >0.981000</td>\n",
              "      <td id=\"T_68df1_row5_col10\" class=\"data row5 col10\" >0.985000</td>\n",
              "      <td id=\"T_68df1_row5_col11\" class=\"data row5 col11\" >0.985000</td>\n",
              "      <td id=\"T_68df1_row5_col12\" class=\"data row5 col12\" >0.004000</td>\n",
              "      <td id=\"T_68df1_row5_col13\" class=\"data row5 col13\" >6</td>\n",
              "    </tr>\n",
              "    <tr>\n",
              "      <th id=\"T_68df1_level0_row6\" class=\"row_heading level0 row6\" >15</th>\n",
              "      <td id=\"T_68df1_row6_col0\" class=\"data row6 col0\" >7.782000</td>\n",
              "      <td id=\"T_68df1_row6_col1\" class=\"data row6 col1\" >60</td>\n",
              "      <td id=\"T_68df1_row6_col2\" class=\"data row6 col2\" >8</td>\n",
              "      <td id=\"T_68df1_row6_col3\" class=\"data row6 col3\" >2</td>\n",
              "      <td id=\"T_68df1_row6_col4\" class=\"data row6 col4\" >sqrt</td>\n",
              "      <td id=\"T_68df1_row6_col5\" class=\"data row6 col5\" >7</td>\n",
              "      <td id=\"T_68df1_row6_col6\" class=\"data row6 col6\" >gini</td>\n",
              "      <td id=\"T_68df1_row6_col7\" class=\"data row6 col7\" >True</td>\n",
              "      <td id=\"T_68df1_row6_col8\" class=\"data row6 col8\" >0.989000</td>\n",
              "      <td id=\"T_68df1_row6_col9\" class=\"data row6 col9\" >0.979000</td>\n",
              "      <td id=\"T_68df1_row6_col10\" class=\"data row6 col10\" >0.981000</td>\n",
              "      <td id=\"T_68df1_row6_col11\" class=\"data row6 col11\" >0.983000</td>\n",
              "      <td id=\"T_68df1_row6_col12\" class=\"data row6 col12\" >0.004000</td>\n",
              "      <td id=\"T_68df1_row6_col13\" class=\"data row6 col13\" >7</td>\n",
              "    </tr>\n",
              "    <tr>\n",
              "      <th id=\"T_68df1_level0_row7\" class=\"row_heading level0 row7\" >2</th>\n",
              "      <td id=\"T_68df1_row7_col0\" class=\"data row7 col0\" >9.713000</td>\n",
              "      <td id=\"T_68df1_row7_col1\" class=\"data row7 col1\" >40</td>\n",
              "      <td id=\"T_68df1_row7_col2\" class=\"data row7 col2\" >8</td>\n",
              "      <td id=\"T_68df1_row7_col3\" class=\"data row7 col3\" >1</td>\n",
              "      <td id=\"T_68df1_row7_col4\" class=\"data row7 col4\" >log2</td>\n",
              "      <td id=\"T_68df1_row7_col5\" class=\"data row7 col5\" >7</td>\n",
              "      <td id=\"T_68df1_row7_col6\" class=\"data row7 col6\" >entropy</td>\n",
              "      <td id=\"T_68df1_row7_col7\" class=\"data row7 col7\" >False</td>\n",
              "      <td id=\"T_68df1_row7_col8\" class=\"data row7 col8\" >0.974000</td>\n",
              "      <td id=\"T_68df1_row7_col9\" class=\"data row7 col9\" >0.974000</td>\n",
              "      <td id=\"T_68df1_row7_col10\" class=\"data row7 col10\" >0.975000</td>\n",
              "      <td id=\"T_68df1_row7_col11\" class=\"data row7 col11\" >0.974000</td>\n",
              "      <td id=\"T_68df1_row7_col12\" class=\"data row7 col12\" >0.001000</td>\n",
              "      <td id=\"T_68df1_row7_col13\" class=\"data row7 col13\" >8</td>\n",
              "    </tr>\n",
              "    <tr>\n",
              "      <th id=\"T_68df1_level0_row8\" class=\"row_heading level0 row8\" >13</th>\n",
              "      <td id=\"T_68df1_row8_col0\" class=\"data row8 col0\" >9.933000</td>\n",
              "      <td id=\"T_68df1_row8_col1\" class=\"data row8 col1\" >60</td>\n",
              "      <td id=\"T_68df1_row8_col2\" class=\"data row8 col2\" >8</td>\n",
              "      <td id=\"T_68df1_row8_col3\" class=\"data row8 col3\" >2</td>\n",
              "      <td id=\"T_68df1_row8_col4\" class=\"data row8 col4\" >sqrt</td>\n",
              "      <td id=\"T_68df1_row8_col5\" class=\"data row8 col5\" >4</td>\n",
              "      <td id=\"T_68df1_row8_col6\" class=\"data row8 col6\" >entropy</td>\n",
              "      <td id=\"T_68df1_row8_col7\" class=\"data row8 col7\" >False</td>\n",
              "      <td id=\"T_68df1_row8_col8\" class=\"data row8 col8\" >0.949000</td>\n",
              "      <td id=\"T_68df1_row8_col9\" class=\"data row8 col9\" >0.949000</td>\n",
              "      <td id=\"T_68df1_row8_col10\" class=\"data row8 col10\" >0.953000</td>\n",
              "      <td id=\"T_68df1_row8_col11\" class=\"data row8 col11\" >0.950000</td>\n",
              "      <td id=\"T_68df1_row8_col12\" class=\"data row8 col12\" >0.002000</td>\n",
              "      <td id=\"T_68df1_row8_col13\" class=\"data row8 col13\" >9</td>\n",
              "    </tr>\n",
              "    <tr>\n",
              "      <th id=\"T_68df1_level0_row9\" class=\"row_heading level0 row9\" >8</th>\n",
              "      <td id=\"T_68df1_row9_col0\" class=\"data row9 col0\" >10.137000</td>\n",
              "      <td id=\"T_68df1_row9_col1\" class=\"data row9 col1\" >60</td>\n",
              "      <td id=\"T_68df1_row9_col2\" class=\"data row9 col2\" >4</td>\n",
              "      <td id=\"T_68df1_row9_col3\" class=\"data row9 col3\" >2</td>\n",
              "      <td id=\"T_68df1_row9_col4\" class=\"data row9 col4\" >sqrt</td>\n",
              "      <td id=\"T_68df1_row9_col5\" class=\"data row9 col5\" >4</td>\n",
              "      <td id=\"T_68df1_row9_col6\" class=\"data row9 col6\" >entropy</td>\n",
              "      <td id=\"T_68df1_row9_col7\" class=\"data row9 col7\" >False</td>\n",
              "      <td id=\"T_68df1_row9_col8\" class=\"data row9 col8\" >0.949000</td>\n",
              "      <td id=\"T_68df1_row9_col9\" class=\"data row9 col9\" >0.949000</td>\n",
              "      <td id=\"T_68df1_row9_col10\" class=\"data row9 col10\" >0.953000</td>\n",
              "      <td id=\"T_68df1_row9_col11\" class=\"data row9 col11\" >0.950000</td>\n",
              "      <td id=\"T_68df1_row9_col12\" class=\"data row9 col12\" >0.002000</td>\n",
              "      <td id=\"T_68df1_row9_col13\" class=\"data row9 col13\" >9</td>\n",
              "    </tr>\n",
              "    <tr>\n",
              "      <th id=\"T_68df1_level0_row10\" class=\"row_heading level0 row10\" >10</th>\n",
              "      <td id=\"T_68df1_row10_col0\" class=\"data row10 col0\" >10.927000</td>\n",
              "      <td id=\"T_68df1_row10_col1\" class=\"data row10 col1\" >40</td>\n",
              "      <td id=\"T_68df1_row10_col2\" class=\"data row10 col2\" >2</td>\n",
              "      <td id=\"T_68df1_row10_col3\" class=\"data row10 col3\" >2</td>\n",
              "      <td id=\"T_68df1_row10_col4\" class=\"data row10 col4\" >None</td>\n",
              "      <td id=\"T_68df1_row10_col5\" class=\"data row10 col5\" >3</td>\n",
              "      <td id=\"T_68df1_row10_col6\" class=\"data row10 col6\" >gini</td>\n",
              "      <td id=\"T_68df1_row10_col7\" class=\"data row10 col7\" >False</td>\n",
              "      <td id=\"T_68df1_row10_col8\" class=\"data row10 col8\" >0.940000</td>\n",
              "      <td id=\"T_68df1_row10_col9\" class=\"data row10 col9\" >0.940000</td>\n",
              "      <td id=\"T_68df1_row10_col10\" class=\"data row10 col10\" >0.939000</td>\n",
              "      <td id=\"T_68df1_row10_col11\" class=\"data row10 col11\" >0.940000</td>\n",
              "      <td id=\"T_68df1_row10_col12\" class=\"data row10 col12\" >0.000000</td>\n",
              "      <td id=\"T_68df1_row10_col13\" class=\"data row10 col13\" >11</td>\n",
              "    </tr>\n",
              "    <tr>\n",
              "      <th id=\"T_68df1_level0_row11\" class=\"row_heading level0 row11\" >11</th>\n",
              "      <td id=\"T_68df1_row11_col0\" class=\"data row11 col0\" >16.536000</td>\n",
              "      <td id=\"T_68df1_row11_col1\" class=\"data row11 col1\" >180</td>\n",
              "      <td id=\"T_68df1_row11_col2\" class=\"data row11 col2\" >8</td>\n",
              "      <td id=\"T_68df1_row11_col3\" class=\"data row11 col3\" >4</td>\n",
              "      <td id=\"T_68df1_row11_col4\" class=\"data row11 col4\" >sqrt</td>\n",
              "      <td id=\"T_68df1_row11_col5\" class=\"data row11 col5\" >3</td>\n",
              "      <td id=\"T_68df1_row11_col6\" class=\"data row11 col6\" >entropy</td>\n",
              "      <td id=\"T_68df1_row11_col7\" class=\"data row11 col7\" >True</td>\n",
              "      <td id=\"T_68df1_row11_col8\" class=\"data row11 col8\" >0.933000</td>\n",
              "      <td id=\"T_68df1_row11_col9\" class=\"data row11 col9\" >0.932000</td>\n",
              "      <td id=\"T_68df1_row11_col10\" class=\"data row11 col10\" >0.935000</td>\n",
              "      <td id=\"T_68df1_row11_col11\" class=\"data row11 col11\" >0.933000</td>\n",
              "      <td id=\"T_68df1_row11_col12\" class=\"data row11 col12\" >0.001000</td>\n",
              "      <td id=\"T_68df1_row11_col13\" class=\"data row11 col13\" >12</td>\n",
              "    </tr>\n",
              "    <tr>\n",
              "      <th id=\"T_68df1_level0_row12\" class=\"row_heading level0 row12\" >1</th>\n",
              "      <td id=\"T_68df1_row12_col0\" class=\"data row12 col0\" >8.074000</td>\n",
              "      <td id=\"T_68df1_row12_col1\" class=\"data row12 col1\" >120</td>\n",
              "      <td id=\"T_68df1_row12_col2\" class=\"data row12 col2\" >4</td>\n",
              "      <td id=\"T_68df1_row12_col3\" class=\"data row12 col3\" >2</td>\n",
              "      <td id=\"T_68df1_row12_col4\" class=\"data row12 col4\" >sqrt</td>\n",
              "      <td id=\"T_68df1_row12_col5\" class=\"data row12 col5\" >2</td>\n",
              "      <td id=\"T_68df1_row12_col6\" class=\"data row12 col6\" >gini</td>\n",
              "      <td id=\"T_68df1_row12_col7\" class=\"data row12 col7\" >False</td>\n",
              "      <td id=\"T_68df1_row12_col8\" class=\"data row12 col8\" >0.858000</td>\n",
              "      <td id=\"T_68df1_row12_col9\" class=\"data row12 col9\" >0.860000</td>\n",
              "      <td id=\"T_68df1_row12_col10\" class=\"data row12 col10\" >0.862000</td>\n",
              "      <td id=\"T_68df1_row12_col11\" class=\"data row12 col11\" >0.860000</td>\n",
              "      <td id=\"T_68df1_row12_col12\" class=\"data row12 col12\" >0.002000</td>\n",
              "      <td id=\"T_68df1_row12_col13\" class=\"data row12 col13\" >13</td>\n",
              "    </tr>\n",
              "    <tr>\n",
              "      <th id=\"T_68df1_level0_row13\" class=\"row_heading level0 row13\" >6</th>\n",
              "      <td id=\"T_68df1_row13_col0\" class=\"data row13 col0\" >12.985000</td>\n",
              "      <td id=\"T_68df1_row13_col1\" class=\"data row13 col1\" >180</td>\n",
              "      <td id=\"T_68df1_row13_col2\" class=\"data row13 col2\" >8</td>\n",
              "      <td id=\"T_68df1_row13_col3\" class=\"data row13 col3\" >2</td>\n",
              "      <td id=\"T_68df1_row13_col4\" class=\"data row13 col4\" >sqrt</td>\n",
              "      <td id=\"T_68df1_row13_col5\" class=\"data row13 col5\" >2</td>\n",
              "      <td id=\"T_68df1_row13_col6\" class=\"data row13 col6\" >entropy</td>\n",
              "      <td id=\"T_68df1_row13_col7\" class=\"data row13 col7\" >True</td>\n",
              "      <td id=\"T_68df1_row13_col8\" class=\"data row13 col8\" >0.856000</td>\n",
              "      <td id=\"T_68df1_row13_col9\" class=\"data row13 col9\" >0.858000</td>\n",
              "      <td id=\"T_68df1_row13_col10\" class=\"data row13 col10\" >0.860000</td>\n",
              "      <td id=\"T_68df1_row13_col11\" class=\"data row13 col11\" >0.858000</td>\n",
              "      <td id=\"T_68df1_row13_col12\" class=\"data row13 col12\" >0.002000</td>\n",
              "      <td id=\"T_68df1_row13_col13\" class=\"data row13 col13\" >14</td>\n",
              "    </tr>\n",
              "    <tr>\n",
              "      <th id=\"T_68df1_level0_row14\" class=\"row_heading level0 row14\" >4</th>\n",
              "      <td id=\"T_68df1_row14_col0\" class=\"data row14 col0\" >31.361000</td>\n",
              "      <td id=\"T_68df1_row14_col1\" class=\"data row14 col1\" >160</td>\n",
              "      <td id=\"T_68df1_row14_col2\" class=\"data row14 col2\" >6</td>\n",
              "      <td id=\"T_68df1_row14_col3\" class=\"data row14 col3\" >2</td>\n",
              "      <td id=\"T_68df1_row14_col4\" class=\"data row14 col4\" >None</td>\n",
              "      <td id=\"T_68df1_row14_col5\" class=\"data row14 col5\" >2</td>\n",
              "      <td id=\"T_68df1_row14_col6\" class=\"data row14 col6\" >gini</td>\n",
              "      <td id=\"T_68df1_row14_col7\" class=\"data row14 col7\" >False</td>\n",
              "      <td id=\"T_68df1_row14_col8\" class=\"data row14 col8\" >0.796000</td>\n",
              "      <td id=\"T_68df1_row14_col9\" class=\"data row14 col9\" >0.799000</td>\n",
              "      <td id=\"T_68df1_row14_col10\" class=\"data row14 col10\" >0.798000</td>\n",
              "      <td id=\"T_68df1_row14_col11\" class=\"data row14 col11\" >0.798000</td>\n",
              "      <td id=\"T_68df1_row14_col12\" class=\"data row14 col12\" >0.001000</td>\n",
              "      <td id=\"T_68df1_row14_col13\" class=\"data row14 col13\" >15</td>\n",
              "    </tr>\n",
              "    <tr>\n",
              "      <th id=\"T_68df1_level0_row15\" class=\"row_heading level0 row15\" >9</th>\n",
              "      <td id=\"T_68df1_row15_col0\" class=\"data row15 col0\" >53.463000</td>\n",
              "      <td id=\"T_68df1_row15_col1\" class=\"data row15 col1\" >180</td>\n",
              "      <td id=\"T_68df1_row15_col2\" class=\"data row15 col2\" >6</td>\n",
              "      <td id=\"T_68df1_row15_col3\" class=\"data row15 col3\" >2</td>\n",
              "      <td id=\"T_68df1_row15_col4\" class=\"data row15 col4\" >None</td>\n",
              "      <td id=\"T_68df1_row15_col5\" class=\"data row15 col5\" >2</td>\n",
              "      <td id=\"T_68df1_row15_col6\" class=\"data row15 col6\" >entropy</td>\n",
              "      <td id=\"T_68df1_row15_col7\" class=\"data row15 col7\" >False</td>\n",
              "      <td id=\"T_68df1_row15_col8\" class=\"data row15 col8\" >0.796000</td>\n",
              "      <td id=\"T_68df1_row15_col9\" class=\"data row15 col9\" >0.799000</td>\n",
              "      <td id=\"T_68df1_row15_col10\" class=\"data row15 col10\" >0.798000</td>\n",
              "      <td id=\"T_68df1_row15_col11\" class=\"data row15 col11\" >0.798000</td>\n",
              "      <td id=\"T_68df1_row15_col12\" class=\"data row15 col12\" >0.001000</td>\n",
              "      <td id=\"T_68df1_row15_col13\" class=\"data row15 col13\" >15</td>\n",
              "    </tr>\n",
              "    <tr>\n",
              "      <th id=\"T_68df1_level0_row16\" class=\"row_heading level0 row16\" >12</th>\n",
              "      <td id=\"T_68df1_row16_col0\" class=\"data row16 col0\" >19.982000</td>\n",
              "      <td id=\"T_68df1_row16_col1\" class=\"data row16 col1\" >100</td>\n",
              "      <td id=\"T_68df1_row16_col2\" class=\"data row16 col2\" >2</td>\n",
              "      <td id=\"T_68df1_row16_col3\" class=\"data row16 col3\" >1</td>\n",
              "      <td id=\"T_68df1_row16_col4\" class=\"data row16 col4\" >None</td>\n",
              "      <td id=\"T_68df1_row16_col5\" class=\"data row16 col5\" >2</td>\n",
              "      <td id=\"T_68df1_row16_col6\" class=\"data row16 col6\" >entropy</td>\n",
              "      <td id=\"T_68df1_row16_col7\" class=\"data row16 col7\" >True</td>\n",
              "      <td id=\"T_68df1_row16_col8\" class=\"data row16 col8\" >0.796000</td>\n",
              "      <td id=\"T_68df1_row16_col9\" class=\"data row16 col9\" >0.799000</td>\n",
              "      <td id=\"T_68df1_row16_col10\" class=\"data row16 col10\" >0.798000</td>\n",
              "      <td id=\"T_68df1_row16_col11\" class=\"data row16 col11\" >0.798000</td>\n",
              "      <td id=\"T_68df1_row16_col12\" class=\"data row16 col12\" >0.001000</td>\n",
              "      <td id=\"T_68df1_row16_col13\" class=\"data row16 col13\" >15</td>\n",
              "    </tr>\n",
              "  </tbody>\n",
              "</table>\n"
            ]
          },
          "metadata": {},
          "execution_count": 77
        }
      ]
    },
    {
      "cell_type": "code",
      "source": [
        "# Melhor modelo\n",
        "rcv.best_params_"
      ],
      "metadata": {
        "colab": {
          "base_uri": "https://localhost:8080/"
        },
        "id": "QjLTcA03LNF2",
        "outputId": "58de06e8-24c0-4b9e-93b3-1a271f710812"
      },
      "execution_count": 74,
      "outputs": [
        {
          "output_type": "execute_result",
          "data": {
            "text/plain": [
              "{'n_estimators': 100,\n",
              " 'min_samples_split': 8,\n",
              " 'min_samples_leaf': 4,\n",
              " 'max_features': None,\n",
              " 'max_depth': 9,\n",
              " 'criterion': 'entropy',\n",
              " 'bootstrap': True}"
            ]
          },
          "metadata": {},
          "execution_count": 74
        }
      ]
    },
    {
      "cell_type": "markdown",
      "source": [
        "## Resultados Finais"
      ],
      "metadata": {
        "id": "yt-E3yVUh_PR"
      }
    },
    {
      "cell_type": "markdown",
      "source": [
        "Construção do modelo final com a melhor precisão realizada."
      ],
      "metadata": {
        "id": "P9_CmY7zXw_R"
      }
    },
    {
      "cell_type": "code",
      "source": [
        "# Novo modelo Random Forest\n",
        "rfn = RandomForestClassifier(**rcv.best_params_, random_state = SEED)\n",
        "\n",
        "model = rfn.fit(X_train, y_train)\n",
        "y_pred = rfn.predict(X_test)"
      ],
      "metadata": {
        "id": "4yJaNnRsiFI5"
      },
      "execution_count": 78,
      "outputs": []
    },
    {
      "cell_type": "code",
      "source": [
        "print(\"Acurácia:\",metrics.accuracy_score(y_test, y_pred))\n",
        "print(\"Precisão:\",metrics.precision_score(y_test, y_pred))\n",
        "print(\"Recall:\",metrics.recall_score(y_test, y_pred)) \n",
        "print(\"F1:\",metrics.f1_score(y_test, y_pred))"
      ],
      "metadata": {
        "colab": {
          "base_uri": "https://localhost:8080/"
        },
        "id": "bwpFiarfROTm",
        "outputId": "31fb61d6-2819-4783-a527-90957e7bacbe"
      },
      "execution_count": 79,
      "outputs": [
        {
          "output_type": "stream",
          "name": "stdout",
          "text": [
            "Acurácia: 0.9883347455122269\n",
            "Precisão: 0.9784256108877204\n",
            "Recall: 0.9986582478295185\n",
            "F1: 0.9884384032497461\n"
          ]
        }
      ]
    },
    {
      "cell_type": "code",
      "source": [
        "cm = confusion_matrix(y_test, y_pred)\n",
        "disp = ConfusionMatrixDisplay(confusion_matrix=cm)\n",
        "disp.plot()"
      ],
      "metadata": {
        "colab": {
          "base_uri": "https://localhost:8080/",
          "height": 514
        },
        "id": "qzD0nAeFRb9U",
        "outputId": "ce2da8fe-3f28-4f01-b903-3f43c194e52e"
      },
      "execution_count": 80,
      "outputs": [
        {
          "output_type": "execute_result",
          "data": {
            "text/plain": [
              "<sklearn.metrics._plot.confusion_matrix.ConfusionMatrixDisplay at 0x7fcfdbacff40>"
            ]
          },
          "metadata": {},
          "execution_count": 80
        },
        {
          "output_type": "display_data",
          "data": {
            "text/plain": [
              "<Figure size 864x576 with 2 Axes>"
            ],
            "image/png": "[encoded data removed]"
          },
          "metadata": {
            "needs_background": "light"
          }
        }
      ]
    },
    {
      "cell_type": "markdown",
      "source": [
        "## Resultados Finais"
      ],
      "metadata": {
        "id": "fI2BJYZ-Y9nO"
      }
    },
    {
      "cell_type": "code",
      "source": [
        "rfn = RandomForestClassifier(**rcv.best_params_, random_state = SEED)\n",
        "\n",
        "model = rfn.fit(x_train, y_train)\n",
        "y_pred = rfn.predict(x_test)"
      ],
      "metadata": {
        "id": "V7utaip1Y9nP"
      },
      "execution_count": null,
      "outputs": []
    },
    {
      "cell_type": "code",
      "source": [
        "print(\"Acurácia:\",metrics.accuracy_score(y_test, y_pred))\n",
        "print(\"Precisão:\",metrics.precision_score(y_test, y_pred))\n",
        "print(\"Recall:\",metrics.recall_score(y_test, y_pred)) \n",
        "print(\"F1:\",metrics.f1_score(y_test, y_pred))"
      ],
      "metadata": {
        "colab": {
          "base_uri": "https://localhost:8080/"
        },
        "outputId": "4aaf1716-624a-4a6e-a4d8-bfebb15837b7",
        "id": "a0chkFzOY9nP"
      },
      "execution_count": null,
      "outputs": [
        {
          "output_type": "stream",
          "name": "stdout",
          "text": [
            "Acurácia: 0.9915860411042582\n",
            "Precisão: 0.9906258615936036\n",
            "Recall: 0.9925414364640884\n",
            "F1: 0.9915827238857459\n"
          ]
        }
      ]
    },
    {
      "cell_type": "code",
      "source": [
        "cm = confusion_matrix(y_test, y_pred)\n",
        "disp = ConfusionMatrixDisplay(confusion_matrix=cm)\n",
        "disp.plot()"
      ],
      "metadata": {
        "colab": {
          "base_uri": "https://localhost:8080/",
          "height": 516
        },
        "outputId": "5e8c8c81-a16a-4d71-b137-df5a760d72d3",
        "id": "gruF1573Y9nQ"
      },
      "execution_count": null,
      "outputs": [
        {
          "output_type": "execute_result",
          "data": {
            "text/plain": [
              "<sklearn.metrics._plot.confusion_matrix.ConfusionMatrixDisplay at 0x7f38f3aed590>"
            ]
          },
          "metadata": {},
          "execution_count": 56
        },
        {
          "output_type": "display_data",
          "data": {
            "text/plain": [
              "<Figure size 864x576 with 2 Axes>"
            ],
            "image/png": "[encoded data removed]"
          },
          "metadata": {
            "needs_background": "light"
          }
        }
      ]
    },
    {
      "cell_type": "markdown",
      "source": [
        "# Conclusão - Prescrições"
      ],
      "metadata": {
        "id": "hmI3dXt5iFf5"
      }
    },
    {
      "cell_type": "markdown",
      "source": [
        "• A **cliente** tem um certo padrão de movimentação do dinheiro, em horário comercial, e a fraude ocorreu fora deste horário, como por exemplo durante a madrugada.\n",
        "\n",
        "• Ainda em relação ao tempo, o cliente pode fazer suas principais movimentações em um período inicial do mês e a fraude foi vista em um dia não habitual.\n",
        "\n",
        "      - Fazer um **CAPTCHA** para aumentar a segurança em horários não convencionais.\n",
        "\n",
        "• A cliente utiliza como padrão o pagamento em dinheiro, seja por PIX ou retirada*, e a fraude pode ocorrer por um pagamento por transferência.\n",
        "\n",
        "      - Solicitar uma verificação de informação adicional do banco, como uma pergunta de segurança, para movimentações de transferência.\n",
        "\n",
        "\n"
      ],
      "metadata": {
        "id": "Ofyqowo8iI8x"
      }
    },
    {
      "cell_type": "markdown",
      "source": [
        "* **Análise Prescritiva**"
      ],
      "metadata": {
        "id": "_vbN4ckMb9R3"
      }
    }
  ]
}