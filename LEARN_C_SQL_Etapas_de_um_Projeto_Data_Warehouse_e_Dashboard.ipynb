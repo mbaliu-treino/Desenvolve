{
  "nbformat": 4,
  "nbformat_minor": 0,
  "metadata": {
    "colab": {
      "provenance": [],
      "toc_visible": true,
      "authorship_tag": "ABX9TyP9Li5H062Ub/G6WyXZ2+Al",
      "include_colab_link": true
    },
    "kernelspec": {
      "name": "python3",
      "display_name": "Python 3"
    },
    "language_info": {
      "name": "python"
    }
  },
  "cells": [
    {
      "cell_type": "markdown",
      "metadata": {
        "id": "view-in-github",
        "colab_type": "text"
      },
      "source": [
        "<a href=\"https://colab.research.google.com/github/mbaliu-treino/Desenvolve/blob/main/LEARN_C_SQL_Etapas_de_um_Projeto_Data_Warehouse_e_Dashboard.ipynb\" target=\"_parent\"><img src=\"https://colab.research.google.com/assets/colab-badge.svg\" alt=\"Open In Colab\"/></a>"
      ]
    },
    {
      "cell_type": "markdown",
      "source": [
        "# <font color=orange><b>Etapas de um Projeto - Data Warehouse e Dashboard</b></font>\n",
        "\n",
        "<a href=\"https://cursos.alura.com.br/course/google-big-query-data-studio-projeto-final\"><font size=2; color=gray>Arquivo Colab</a></font>\n",
        "\n",
        "<ul><font size=2 color=gray>FICHA TÉCNICA\n",
        "<li><a href=https://cursos.alura.com.br/course/bigquery-manipulacao-dados><font size=2 color=gray>Google BigQuery e Data Studio: projeto final</a>\n",
        "<li>Carga Horária: 20 h\n",
        "<li>Instrutora: Victorino Vila\n",
        "<li>Data de Início: 11-2022\n",
        "</ul>\n",
        "\n",
        "\n",
        "Este caderno contém algumas anotações sobre o desenvolvimento completo de um Data Warehouse e um Dashboard para analisar dados de um empreendimento.\n",
        "\n",
        "O projeto é a simulação do gerenciamento de uma escola, com diversos usuários produzindo dados que deverão ser armazenados em um banco de dados transasionais (MySQL). Tendo este banco de dados, eles serão carregados em um Data Warehouse do Big Query. Para consultar e sintetizar os dados. A finalização será realizada com a automatização de alguns processos."
      ],
      "metadata": {
        "id": "JSeHxPLGhvUz"
      }
    },
    {
      "cell_type": "markdown",
      "source": [
        "## <font color=orange><b>Conteúdo</b></font>\n",
        "\n",
        "* <font color=orange>Conceitos</font>\n",
        "\n",
        "* Acesso dos dados diretamente de uma base de dados MySQL\n",
        "* Construção de um projeto de Business Intelligence desde a criação do Data Warehouse até a construção dos Dashbaords\n",
        "* Como visões lógicas e materializadas ajudam na construção de relatórios\n",
        "* Use consultas agendadas"
      ],
      "metadata": {
        "id": "Rs0aFUuS6P56"
      }
    },
    {
      "cell_type": "markdown",
      "source": [
        "# <font color=orange><b>CURSO</b></font>\n"
      ],
      "metadata": {
        "id": "ARUfEjcsnUvf"
      }
    },
    {
      "cell_type": "markdown",
      "source": [
        "## <font color=orange><b>Ambiente de Desenvolvimento</b></font>\n",
        "\n",
        "O ambiente de desenvolvimento é o conjunto de ferramentas necessárias para a criação e execução dos códigos de programação.\n",
        "\n",
        "1. Conta Google\n",
        "2. Projeto no Google Console\n",
        "    - Conta de faturamento\n",
        "3. G Cloud SQL: Instância do MySQL na nuvem Google\n",
        "4. Ambiente MySQL local\n",
        "5. Registro de IP de segurança\n",
        "6. Carga dos dados transacionais"
      ],
      "metadata": {
        "id": "SqgzolEMwiIT"
      }
    },
    {
      "cell_type": "markdown",
      "source": [
        "Uma alternativa deste sistema é criar somente o API do BigQuery (acesso remoto) para fazer a gestão do banco de dados. Desta maneira, será dispensada o uso do Google Cloud SQL, recurso este que não é de uso gratuíto.\n",
        "\n",
        "3. **Chave de Segurança** (JSON)\n",
        "4. **Acesso remoto**: gerenciamento através de linguagens programáticas.\n",
        "    - Carga\n",
        "    - Transformação\n",
        "    - Consultas"
      ],
      "metadata": {
        "id": "elsbgc9DKTzq"
      }
    },
    {
      "cell_type": "markdown",
      "source": [
        "- GOOGLE CLOUD STORAGE: armazenamento remoto de dados para acesso em qualquer lugar.\n",
        "- ClOUD SQL: serviço de banco de dados relacional gerenciado para MySQL, Postgres etc.\n",
        "    - Este não é recurso gratuíto e não possui limites mínimos de utilização.\n",
        "    - Ela é ótima estratégia para fazer a migração de dados para o Cloud do Google.\n"
      ],
      "metadata": {
        "id": "T0MXK8WOClz7"
      }
    },
    {
      "cell_type": "markdown",
      "source": [
        "<font color=orange><b>Estratégias de Ambientes de Desenvolvimento</b></font>\n",
        "\n",
        "* <font color=orange><b>A.</b>  Poucos dados [até 1 GB; até 20K ou 1M de linhas]</font>: Pandas\n",
        "    * <font color=orange><b>A.1.</b></font> CSV → Pandas\n",
        "* <font color=orange><b>B.</b>  Muitos dados [de 1 GB até 100 GB]</font>: SGBD (Big Query, PostgreSQL, MySQL, MongoDB etc)\n",
        "    * <font color=orange><b>B.1.</b></font> CSV → BD → Consulta (amostragem, seleção) → Pandas (Python)\n",
        "    * <font color=orange><b>B.2.</b></font> CSV → BD → Resumos, Operações espaciais e transformações (PostGIS, BigQuery, Postgres etc)\n",
        "* <font color=orange><b><i>C.</b>  Big data [> 100 GB, streaming]</i></font>: processamento distribuído, como o Spark, Dask ou Hadoop\n",
        "    * <font color=orange><b>C.1.</b></font> CSV, DB → Spark → PySpark (análise de dados, ML)\n",
        "    * <font color=orange><b>C.2.</b></font> CSV, DB → Spark → amostra → Pandas (análise de dados, ML)\n"
      ],
      "metadata": {
        "id": "kjnQhryXcj0Z"
      }
    },
    {
      "cell_type": "markdown",
      "source": [
        "### <font color=orange>1 - Conta Google</font>\n",
        "\n",
        "* baliu.fiamenghi.2022\n",
        "* Sen2345.-1"
      ],
      "metadata": {
        "id": "hsredzFD8Gb-"
      }
    },
    {
      "cell_type": "markdown",
      "source": [
        "### <font color=orange>2 - Projeto Google Cloud Console</font>\n",
        "\n",
        "Um projeto no Google é um agregador de recursos. Uma conta pode ter diversos projetos geridos por ele.\n",
        "\n",
        "1. A primeira coisa é acessar o [Console do Google Cloud](https://console.cloud.google.com/?hl=pt-br).\n",
        "2. Criar um novo projeto: `Selecionar Projeto > Novo Projeto...`\n",
        "3. Conta de Faturamento: ela é necessária para poder usar diversos recursos do Google.\n",
        "    - `Faturamento`\n",
        "    - Preencher os dados para o cartão"
      ],
      "metadata": {
        "id": "wewtSTCp9bLI"
      }
    },
    {
      "cell_type": "markdown",
      "source": [
        "### <font color=orange>3 - Google Cloud SQL</font>\n",
        "\n",
        "Este recurso permite criar uma instância de um banco de dados de forma remota, a ser gerenciado por um SGBD. Nesta solução será criado um banco de dados transacional para o empreendimento no sistema MySQL. Este poderá ser gerenciado pelo MySQL Workbench na máquina local.\n",
        "\n",
        "Este não é recurso gratuíto e não possui limites mínimos de utilização.\n",
        "\n",
        "Ela é ótima estratégia para fazer a migração de dados para o Cloud do Google.\n",
        "\n",
        "1. **Nova Instância**: `Barra de Produtos > SQL`\n",
        "2. **Mecanismo de Banco de Dados**: escolher entre MySQL, Postgres, SQL Server.\n",
        "3. **API Compute Engine**: para os recursos possam se comunicar entre si é necessário ativar as APIs.\n",
        "    - Nome do BD\n",
        "    - Senha do root\n",
        "    - MySQL 8.0\n",
        "    - Região: southamerica-east1 (São Paulo)"
      ],
      "metadata": {
        "id": "24_VXuU1JXsZ"
      }
    },
    {
      "cell_type": "markdown",
      "source": [
        "### <font color=orange>4 - Ambiente local MySQL</font>\n",
        "\n",
        "**SGBD**\n",
        "\n",
        "O Sistema de Gestão de Banco de Dados é uma estrutura que permite acessar e manipular bancos de dados. A gestão dos bancos pode ser feita através da interface da linha de comando (CMD) ou através de interfaces gráficas como o MySQL Workbench ou o pgAdmin (que é aplicação baseada em Web).\n",
        "\n",
        "\n",
        "**DOCKER**\n",
        "\n",
        "[Roteiro de Docker](https://colab.research.google.com/drive/1lsG23dBUCgiihwTAnPbk9whoHtOi6xvg?authuser=1#scrollTo=CE-cLSiBIueJ)\n",
        "\n",
        "Através do Docker podemos criar um ambiente local MySQL. Isso é muito útil quando:\n",
        "- há a troca constante de projetos;\n",
        "- projeto com múltiplos bancos de dados;\n",
        "- processo mais simples de instalação\n",
        "- execução mais leve\n",
        "\n",
        "Isso permite escolher qual banco de dados no momento de forma prática e simples.\n",
        "\n",
        "1. Docker na máquina\n",
        "    - Verificar se não há nada rodando: `docker ps`\n",
        "2. Novo projeto\n",
        "    - `docker run --name mariadb-video -p 3306:3306 (porta padrão do MySQL) -e MYSQL_ROOT_PASSWORD=senhaparaacessar -d (rodar em segundo plano) mariadb:latest`\n",
        "3. Finalizar\n",
        "    - `docker stop mariadb-video`\n",
        "4. Abrir projeto\n",
        "    - `docker start mariadb-video`\n",
        "\n",
        "---\n",
        "\n",
        "*  Criação de um container definindo as credenciais do administrador do SGBD;\n",
        "* Muitos containers são criados seguindo configurações default, com os arquivos de dados permanecendo dentro dos mesmos. Uma eventual falha/inoperância no container (ou até uma exclusão acidental do mesmo) resultará em perda de informações. Logo, a criação de um volume mapeando os dados para fora do container (no caso um diretório da máquina em que se executa o Docker) é outra questão importante a considerar sempre ([veja mais](https://imasters.com.br/back-end/docker-bancos-relacionais-cuidados-importantes-na-criacao-de-containers));\n",
        "\n",
        "- [Referencia](https://www.youtube.com/watch?v=oqB35DeNw_c)\n",
        "- [Como rodar MySQL com Docker no Windows](https://www.youtube.com/watch?v=S9BbUxmFaQI)\n",
        "- [docker e postgres no windows](https://www.google.com/search?q=docker+e+postgres+no+windows&oq=docker+e+postgres+no+windows&aqs=chrome..69i57j0i22i30l3.10694j0j4&sourceid=chrome&ie=UTF-8)\n",
        "- [Como instalar o PostgreSQL e phpPgAdmin no Docker](https://www.youtube.com/watch?v=dReXLdeBmwc)"
      ],
      "metadata": {
        "id": "4iVLyBkz-KTc"
      }
    },
    {
      "cell_type": "markdown",
      "source": [
        "\n",
        "\n",
        "---\n",
        "\n"
      ],
      "metadata": {
        "id": "hnpfdcSAuYH6"
      }
    }
  ]
}